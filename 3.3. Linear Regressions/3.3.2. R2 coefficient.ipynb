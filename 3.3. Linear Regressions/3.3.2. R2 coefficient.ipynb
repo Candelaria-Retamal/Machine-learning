{
 "cells": [
  {
   "cell_type": "markdown",
   "id": "1da1f961-701f-4d89-9f27-65fe2283da28",
   "metadata": {},
   "source": [
    "### R2 coefficient\n",
    "\n",
    "In this unit, we will learn about the coefficient of determination R2 which is a common evaluation metric for linear regressions. It’s also the default metric returned by many Scikit-learn objects such as SGDRegressor or HuberRegressor."
   ]
  },
  {
   "cell_type": "markdown",
   "id": "d69b2691-deba-4481-9fb1-cdcda862ef86",
   "metadata": {},
   "source": [
    "Unlike cost functions, the coefficient R2 doesn’t directly express the error made by our model. In fact, we can interpret it as a comparison between our model and the constant mean baseline.\n",
    "\n",
    "Let’s take an example. Say that we are working on the marketing campaign dataset."
   ]
  },
  {
   "cell_type": "code",
   "execution_count": 1,
   "id": "e4d4ec7d-0bf8-48a1-9fdc-f71d49a7a36b",
   "metadata": {},
   "outputs": [],
   "source": [
    "import pandas as pd\n",
    "\n",
    "# Load data\n",
    "data_df = pd.read_csv(\"c3_marketing-campaign.csv\")\n",
    "X = data_df.drop(\"sales\", axis=1).values\n",
    "y = data_df.sales.values"
   ]
  },
  {
   "cell_type": "markdown",
   "id": "e5228e4e-e7a5-426d-9995-4755c0d0dbf8",
   "metadata": {},
   "source": [
    "Our goal is to fit and evaluate a linear regression model. To achieve this, we define the RSS() function and start by evaluating the constant mean baseline."
   ]
  },
  {
   "cell_type": "code",
   "execution_count": 2,
   "id": "1e613ccd-4beb-4a77-b618-78bf2b7ac33b",
   "metadata": {},
   "outputs": [
    {
     "name": "stdout",
     "output_type": "stream",
     "text": [
      "RSS baseline: 100.86060792\n"
     ]
    }
   ],
   "source": [
    "import numpy as np\n",
    "\n",
    "# Define RSS measure\n",
    "def RSS(y, y_pred):\n",
    "    return np.sum(np.square(np.subtract(y, y_pred)))\n",
    "\n",
    "\n",
    "# RSS of the baseline\n",
    "rss_baseline = RSS(y, y.mean())\n",
    "print(\"RSS baseline:\", rss_baseline)\n"
   ]
  },
  {
   "cell_type": "markdown",
   "id": "b30fba6f-c0d2-4c3b-94ef-c1a4b823f920",
   "metadata": {},
   "source": [
    "Now that we have a baseline, we can fit other models and compare them against this baseline score. For instance, let’s fit a linear regression using the code from the previous unit.\n",
    "\n"
   ]
  },
  {
   "cell_type": "code",
   "execution_count": 3,
   "id": "de28395d-0a72-4b08-a319-a8cb18f82fc4",
   "metadata": {},
   "outputs": [
    {
     "name": "stdout",
     "output_type": "stream",
     "text": [
      "RSS: 1.685450868082472\n"
     ]
    }
   ],
   "source": [
    "from scipy.linalg import lstsq\n",
    "\n",
    "# Fit a multiple linear regression\n",
    "X1 = np.c_[np.ones(X.shape[0]), X]\n",
    "w, model_rss, _, _ = lstsq(X1, y)\n",
    "print(\"RSS:\", model_rss)  # ~1.685"
   ]
  },
  {
   "cell_type": "markdown",
   "id": "a400eeeb-cc40-4c22-9c10-5be84d3556af",
   "metadata": {},
   "source": [
    "As we can see, there is a significant difference in the RSS scores between our baseline and the linear regression. To quantify this difference, we can compute the R2 coefficient which is one minus the ratio between the two scores."
   ]
  },
  {
   "cell_type": "markdown",
   "id": "d542ec59-92c6-4944-9156-747e90793869",
   "metadata": {},
   "source": [
    "R2=1-(RSSmodel/RRSbaseline)"
   ]
  },
  {
   "cell_type": "markdown",
   "id": "17b47bc6-1cd4-4d5a-9a54-d9f7e9584927",
   "metadata": {},
   "source": [
    "It’s interesting to note that the ratio is always greater than or equal to zero since RSS scores cannot be negative. Hence, the R2 coefficient is smaller than or equal to one. We can distinguish four cases.\n",
    "\n",
    "* If R2=1, then the ratio is zero which means that the RSS of the model is zero and that it makes no error\n",
    "* If R2 is close to 1, then the model performs way better than the baseline\n",
    "* If R2 is close to 0, then the model and the baseline have a similar performance\n",
    "* If R2<0, then it performs worse than the baseline"
   ]
  },
  {
   "cell_type": "markdown",
   "id": "756653a1-4746-4277-93fe-f8c562f5187d",
   "metadata": {},
   "source": [
    "Let’s compute the R2 coefficient of our linear regression model.\n",
    "\n"
   ]
  },
  {
   "cell_type": "code",
   "execution_count": 5,
   "id": "af977385-e116-4483-8c5e-3185f88d47cb",
   "metadata": {},
   "outputs": [
    {
     "name": "stdout",
     "output_type": "stream",
     "text": [
      "R^2 coefficient: 0.9832893048848236\n"
     ]
    }
   ],
   "source": [
    "# R^2 coefficient\n",
    "R2 = 1 - (model_rss / rss_baseline)\n",
    "print(\"R^2 coefficient:\", R2)  # Prints: ~0.983"
   ]
  },
  {
   "cell_type": "markdown",
   "id": "7cb2885c-5ecc-4c21-8928-aa4e25299cc3",
   "metadata": {},
   "source": [
    "We get a score above 98%. Let’s compare it to the R2 coefficient of the simple linear regression model from the previous subject. Using the television budgets, we obtained an RSS score around 15.74."
   ]
  },
  {
   "cell_type": "code",
   "execution_count": 6,
   "id": "0eb676dd-ea5b-42c1-b1c0-1baa2b7d060a",
   "metadata": {},
   "outputs": [
    {
     "name": "stdout",
     "output_type": "stream",
     "text": [
      "R^2 coefficient: 0.8439430385697798\n"
     ]
    }
   ],
   "source": [
    "# R^2 of simple linear regression model\n",
    "R2 = 1 - (15.74 / rss_baseline)\n",
    "print(\"R^2 coefficient:\", R2) # Prints: ~0.844"
   ]
  },
  {
   "cell_type": "markdown",
   "id": "4b81cbdc-655b-4670-86c9-9a794dc39721",
   "metadata": {},
   "source": [
    "This time, the R2 coefficient is around 84%."
   ]
  },
  {
   "cell_type": "markdown",
   "id": "a2b111a8-482d-4a92-9b47-8041a2c09a47",
   "metadata": {},
   "source": [
    "#### Proportion of variance explained\n",
    "The coefficient of determination R2 is the proportion of the variance in the target variable y that is predictable from the input variable(s) x.\n"
   ]
  },
  {
   "cell_type": "markdown",
   "id": "7f19223b-f93a-426a-87c2-59075671955b",
   "metadata": {},
   "source": [
    "In other words, it’s a measure of how well we can explain, with our model, how the target variable y varies using the input variable(s) x. The idea is that the target values vary around their mean value and we can quantify this variation by summing the squares of the differences between each target value yi and the mean target value y."
   ]
  },
  {
   "cell_type": "code",
   "execution_count": 7,
   "id": "d2106851-0aa3-4cd6-8d59-17d24a251aa6",
   "metadata": {},
   "outputs": [
    {
     "data": {
      "image/png": "[encoded data removed]",
      "text/plain": [
       "<IPython.core.display.Image object>"
      ]
     },
     "execution_count": 7,
     "metadata": {},
     "output_type": "execute_result"
    }
   ],
   "source": [
    "from IPython.display import Image\n",
    "Image(filename=\"SS.png\")"
   ]
  },
  {
   "cell_type": "markdown",
   "id": "92e1ceff-7c52-48a3-a96c-3fc4a0792b56",
   "metadata": {},
   "source": [
    "The second y may correspond to the mean, when using the RSS score of the mean baseline. After fitting the model, we may use y as the prediction, hence SS is now the quantification of the variation summing the squares of the residuals."
   ]
  },
  {
   "cell_type": "code",
   "execution_count": 8,
   "id": "fc6472aa-77d0-4745-8302-4f6419bbab54",
   "metadata": {},
   "outputs": [
    {
     "data": {
      "image/png": "[encoded data removed]",
      "text/plain": [
       "<IPython.core.display.Image object>"
      ]
     },
     "execution_count": 8,
     "metadata": {},
     "output_type": "execute_result"
    }
   ],
   "source": [
    "from IPython.display import Image\n",
    "Image(filename=\"R2.png\")"
   ]
  },
  {
   "cell_type": "markdown",
   "id": "099d0d69-a929-4c5c-8ca9-1531ea08a004",
   "metadata": {},
   "source": [
    "Summary\n",
    "\n",
    "* Intuitively, it measures how well a model performs compared to the constant mean baseline\n",
    "* It is always smaller than or equal to one. Ideally, it should be close to one\n",
    "* The coefficient is defined as the proportion of variance explained by the model"
   ]
  },
  {
   "cell_type": "code",
   "execution_count": null,
   "id": "72185559-f050-4cf4-a856-efffdc47e40a",
   "metadata": {},
   "outputs": [],
   "source": []
  }
 ],
 "metadata": {
  "kernelspec": {
   "display_name": "Python [conda env:adsml] *",
   "language": "python",
   "name": "conda-env-adsml-py"
  },
  "language_info": {
   "codemirror_mode": {
    "name": "ipython",
    "version": 3
   },
   "file_extension": ".py",
   "mimetype": "text/x-python",
   "name": "python",
   "nbconvert_exporter": "python",
   "pygments_lexer": "ipython3",
   "version": "3.9.7"
  }
 },
 "nbformat": 4,
 "nbformat_minor": 5
}
