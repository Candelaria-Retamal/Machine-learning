{
 "cells": [
  {
   "cell_type": "markdown",
   "id": "8877f61a-8686-49f2-a91f-e1d2f304031a",
   "metadata": {},
   "source": [
    "### Multiple Linear Regressions\n",
    "\n",
    "In the previous subject, we learned about simple linear regressions which use the equation of a line to model the relationship between a single feature and the target variable. We will now see how to generalize this idea to multiple features.\n",
    "\n",
    "At the end of this unit, you should be able to fit linear regressions to datasets with multiple features using the lstsq() function from the Scipy library."
   ]
  },
  {
   "cell_type": "markdown",
   "id": "f64cb95d-9f5d-451e-aebf-58600bf0b64a",
   "metadata": {},
   "source": [
    "Note that in this subject we will be working only with training data. Therefore, all the subsequent predictions and model evaluations will be in-sample, i.e. on the training data. The only exception is the bike sharing exercise and solution at the end of this subject where we use both train and test data."
   ]
  },
  {
   "cell_type": "markdown",
   "id": "50a62d16-86b3-41cf-ba7f-7887d5e869fd",
   "metadata": {},
   "source": [
    "#### Multiple linear regressions\n",
    "\n",
    "First, let’s start by reviewing some of the mathematical notations from the previous units. We will use the marketing campaign dataset for illustration. You can find the dataset file in a zipped folder under the resources tab.\n",
    "\n"
   ]
  },
  {
   "cell_type": "code",
   "execution_count": 2,
   "id": "a1e1bf7d-e05d-47b0-b041-8be731bf087a",
   "metadata": {},
   "outputs": [
    {
     "name": "stdout",
     "output_type": "stream",
     "text": [
      "data_df shape: (50, 4)\n"
     ]
    },
    {
     "data": {
      "text/html": [
       "<div>\n",
       "<style scoped>\n",
       "    .dataframe tbody tr th:only-of-type {\n",
       "        vertical-align: middle;\n",
       "    }\n",
       "\n",
       "    .dataframe tbody tr th {\n",
       "        vertical-align: top;\n",
       "    }\n",
       "\n",
       "    .dataframe thead th {\n",
       "        text-align: right;\n",
       "    }\n",
       "</style>\n",
       "<table border=\"1\" class=\"dataframe\">\n",
       "  <thead>\n",
       "    <tr style=\"text-align: right;\">\n",
       "      <th></th>\n",
       "      <th>tv</th>\n",
       "      <th>web</th>\n",
       "      <th>radio</th>\n",
       "      <th>sales</th>\n",
       "    </tr>\n",
       "  </thead>\n",
       "  <tbody>\n",
       "    <tr>\n",
       "      <th>0</th>\n",
       "      <td>0.916</td>\n",
       "      <td>1.689</td>\n",
       "      <td>0.208</td>\n",
       "      <td>1.204</td>\n",
       "    </tr>\n",
       "    <tr>\n",
       "      <th>1</th>\n",
       "      <td>9.359</td>\n",
       "      <td>1.706</td>\n",
       "      <td>1.071</td>\n",
       "      <td>4.800</td>\n",
       "    </tr>\n",
       "    <tr>\n",
       "      <th>2</th>\n",
       "      <td>5.261</td>\n",
       "      <td>2.538</td>\n",
       "      <td>2.438</td>\n",
       "      <td>3.970</td>\n",
       "    </tr>\n",
       "    <tr>\n",
       "      <th>3</th>\n",
       "      <td>8.682</td>\n",
       "      <td>2.092</td>\n",
       "      <td>1.283</td>\n",
       "      <td>5.212</td>\n",
       "    </tr>\n",
       "    <tr>\n",
       "      <th>4</th>\n",
       "      <td>11.736</td>\n",
       "      <td>1.660</td>\n",
       "      <td>1.800</td>\n",
       "      <td>5.993</td>\n",
       "    </tr>\n",
       "  </tbody>\n",
       "</table>\n",
       "</div>"
      ],
      "text/plain": [
       "       tv    web  radio  sales\n",
       "0   0.916  1.689  0.208  1.204\n",
       "1   9.359  1.706  1.071  4.800\n",
       "2   5.261  2.538  2.438  3.970\n",
       "3   8.682  2.092  1.283  5.212\n",
       "4  11.736  1.660  1.800  5.993"
      ]
     },
     "execution_count": 2,
     "metadata": {},
     "output_type": "execute_result"
    }
   ],
   "source": [
    "import pandas as pd\n",
    "\n",
    "# Load data\n",
    "data_df = pd.read_csv(\"c3_marketing-campaign.csv\")\n",
    "print(\"data_df shape:\", data_df.shape)\n",
    "data_df.head()"
   ]
  },
  {
   "cell_type": "markdown",
   "id": "e4ec88a2-ffce-4127-b889-faae938df369",
   "metadata": {},
   "source": [
    "In our example, the X matrix corresponds to the data_df DataFrame without the sales column. Hence, its shape is (50,3).\n",
    "\n",
    "So far, we fitted models using a single feature, e.g., the tv budget. Hence, it wasn’t necessary to write the arrow above each data point xi in the equation of the simple linear regression."
   ]
  },
  {
   "cell_type": "markdown",
   "id": "fb689e6f-d861-46f9-9847-8c37d8610d56",
   "metadata": {},
   "source": [
    "However, we now have p values x(i,p) for each data point  and our goal is to model a linear relationship between these p variables and the target one y. To achieve this, instead of using the equation of a line, we can generalize to multiple dimensions by using the equation of a hyperplane."
   ]
  },
  {
   "cell_type": "markdown",
   "id": "57bd9433-5504-49d2-b9a6-244114dbcbbf",
   "metadata": {},
   "source": [
    "In this equation, we multiply each feature with a coefficient and add a w0 parameter that corresponds to the intercept term. We can also write the equation using the inner product between the data point xi and a vector with the coefficients w."
   ]
  },
  {
   "cell_type": "markdown",
   "id": "86274109-e191-483b-be48-a936f607950f",
   "metadata": {},
   "source": [
    "y_pred = Xw + w0"
   ]
  },
  {
   "cell_type": "markdown",
   "id": "70ef1662-becf-4a59-a42b-677f27920283",
   "metadata": {},
   "source": [
    "#### Implementation with Scipy\n",
    "\n",
    "The first step is to create the input matrix Xand the output vector y."
   ]
  },
  {
   "cell_type": "code",
   "execution_count": 3,
   "id": "7cb91f87-e970-499f-81c5-49dc8f562ad1",
   "metadata": {},
   "outputs": [
    {
     "name": "stdout",
     "output_type": "stream",
     "text": [
      "X: (50, 3)\n",
      "y: (50,)\n"
     ]
    }
   ],
   "source": [
    "# Extract input matrix X\n",
    "X = data_df.drop(\"sales\", axis=1).values\n",
    "print(\"X:\", X.shape)\n",
    "# Extract target vector y\n",
    "y = data_df.sales.values\n",
    "print(\"y:\", y.shape)"
   ]
  },
  {
   "cell_type": "markdown",
   "id": "112612a0-f429-4d9b-922c-87ff9361e370",
   "metadata": {},
   "source": [
    "We now want to find the vector of coefficients w that minimizes an objective function. In this unit, we will use the lstsq() function from Scipy which computes the least squares solution of the equation Ax=b. In our case, A, b and x correspond respectively to \n",
    "X, y and w, and the least squares solution is the vector w that minimizes the squared distances between the two sides of the equation."
   ]
  },
  {
   "cell_type": "markdown",
   "id": "51bc76ce-54bc-4492-9a5a-8fba77285205",
   "metadata": {},
   "source": [
    "Xw=y"
   ]
  },
  {
   "cell_type": "markdown",
   "id": "c4bb57fa-8901-4f0c-94f6-9050a8cdca62",
   "metadata": {},
   "source": [
    "In other words, the lstsq() function will return the parameter values that minimize the squares of the difference between the predictions of our linear regression model (without the intercept term)"
   ]
  },
  {
   "cell_type": "code",
   "execution_count": 4,
   "id": "81da864c-4470-4040-bb22-24d7b5d86149",
   "metadata": {},
   "outputs": [
    {
     "name": "stdout",
     "output_type": "stream",
     "text": [
      "w: [0.3958359  0.47521518 0.31040001]\n",
      "RSS: 1.6884039033000027\n"
     ]
    }
   ],
   "source": [
    "from scipy.linalg import lstsq\n",
    "\n",
    "# Fit a multiple linear regression\n",
    "w, rss, _, _ = lstsq(X, y)\n",
    "print(\"w:\", w)\n",
    "print(\"RSS:\", rss)"
   ]
  },
  {
   "cell_type": "markdown",
   "id": "1a4958d0-ddff-487a-86d0-91519bb78964",
   "metadata": {},
   "source": [
    "The function returns four values. As for now, we will only look at the first two. The first one w is the vector of coefficients (one for each feature) and the second one rss is the residual sum of squares.\n",
    "\n",
    "For reference, the RSS score of our simple linear regression model was around 15.7. Hence, we gained a lot in accuracy by bringing the two other marketing budgets in the equation."
   ]
  },
  {
   "cell_type": "markdown",
   "id": "da08f9a6-e55a-4948-a107-910a12630c0f",
   "metadata": {},
   "source": [
    "#### Adding the intercept term\n",
    "The code from above computes the optimal solution without the intercept term w0. However, it’s possible to make the lstsq() function compute it using a little trick. The idea is to add a column of ones in the matrix X. This column corresponds to the \n",
    "w0 element in w."
   ]
  },
  {
   "cell_type": "markdown",
   "id": "21b372f7-0c0e-4882-9f7d-386f8559d3a1",
   "metadata": {},
   "source": [
    "Adding the intercept term\n",
    "The code from above computes the optimal solution without the intercept term w0. However, it’s possible to make the lstsq() function compute it using a little trick. The idea is to add a column of ones in the matrix X. This column corresponds to the w0 element in w."
   ]
  },
  {
   "cell_type": "code",
   "execution_count": 5,
   "id": "3bb1ddc3-d93b-4a06-848f-d40d7845340c",
   "metadata": {},
   "outputs": [
    {
     "data": {
      "text/plain": [
       "array([[ 1.   ,  0.916,  1.689,  0.208],\n",
       "       [ 1.   ,  9.359,  1.706,  1.071],\n",
       "       [ 1.   ,  5.261,  2.538,  2.438],\n",
       "       [ 1.   ,  8.682,  2.092,  1.283],\n",
       "       [ 1.   , 11.736,  1.66 ,  1.8  ]])"
      ]
     },
     "execution_count": 5,
     "metadata": {},
     "output_type": "execute_result"
    }
   ],
   "source": [
    "import numpy as np\n",
    "\n",
    "# Add a column of ones\n",
    "X1 = np.c_[np.ones(X.shape[0]),  # Vector of ones of shape (n,)\n",
    "           X]                    # X matrix of shape (n,p)\n",
    "\n",
    "X1[:5, :]"
   ]
  },
  {
   "cell_type": "code",
   "execution_count": 6,
   "id": "0ed5ec78-989b-4c2b-a79c-b88bc7059850",
   "metadata": {},
   "outputs": [
    {
     "name": "stdout",
     "output_type": "stream",
     "text": [
      "w: [0.02487092 0.39465146 0.47037002 0.30669954]\n",
      "RSS: 1.685450868082472\n"
     ]
    }
   ],
   "source": [
    "w, rss, _, _ = lstsq(X1, y)\n",
    "\n",
    "print(\"w:\", w)\n",
    "print(\"RSS:\", rss)"
   ]
  },
  {
   "cell_type": "markdown",
   "id": "598b83e9-d09a-4f3f-a07d-c20ba66dbe1a",
   "metadata": {},
   "source": [
    "The array w has now four elements. The first one w[0] corresponds to the intercept term and the other three w[1:] to the coefficients. Note that the intercept is close to zero. Hence the RSS score didn’t change significantly.\n",
    "\n",
    "We can now use this vector w to compute predictions."
   ]
  },
  {
   "cell_type": "code",
   "execution_count": 7,
   "id": "aef2e025-a31c-4895-9598-c1f16bdb2c48",
   "metadata": {},
   "outputs": [
    {
     "name": "stdout",
     "output_type": "stream",
     "text": [
      "y_pred: (50,)\n"
     ]
    }
   ],
   "source": [
    "# Compute predictions\n",
    "y_pred = np.matmul(X1, w)\n",
    "print(\"y_pred:\", y_pred.shape)"
   ]
  },
  {
   "cell_type": "markdown",
   "id": "7343d5e0-3da3-40ce-9fae-69a14746c3d9",
   "metadata": {},
   "source": [
    "This code computes the predictions for the data points in X, and we can verify that we get the same RSS score as lstsq()."
   ]
  },
  {
   "cell_type": "code",
   "execution_count": 8,
   "id": "e47e3e59-85f6-4c93-bc13-a3c807db701d",
   "metadata": {},
   "outputs": [
    {
     "name": "stdout",
     "output_type": "stream",
     "text": [
      "RSS: 1.6854508680824711\n"
     ]
    }
   ],
   "source": [
    "# Verify RSS score\n",
    "def RSS(y, y_pred):\n",
    "    return np.sum(np.square(np.subtract(y, y_pred)))\n",
    "\n",
    "\n",
    "rss = RSS(y, y_pred)\n",
    "print(\"RSS:\", rss)"
   ]
  },
  {
   "cell_type": "code",
   "execution_count": null,
   "id": "af0a5546-a613-4672-9e54-386693b6ffcf",
   "metadata": {},
   "outputs": [],
   "source": []
  }
 ],
 "metadata": {
  "kernelspec": {
   "display_name": "Python [conda env:adsml] *",
   "language": "python",
   "name": "conda-env-adsml-py"
  },
  "language_info": {
   "codemirror_mode": {
    "name": "ipython",
    "version": 3
   },
   "file_extension": ".py",
   "mimetype": "text/x-python",
   "name": "python",
   "nbconvert_exporter": "python",
   "pygments_lexer": "ipython3",
   "version": "3.9.7"
  }
 },
 "nbformat": 4,
 "nbformat_minor": 5
}
