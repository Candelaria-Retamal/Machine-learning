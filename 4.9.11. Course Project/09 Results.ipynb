{
 "cells": [
  {
   "cell_type": "markdown",
   "id": "8c755fe0-46d2-4668-9536-9dfdee905063",
   "metadata": {},
   "source": [
    "# Unit 4: Applied Machine Learning 2\n",
    "## Task 9: Final Comparison\n",
    "###### Candelaria Retamal\n",
    "###### **29.06.2022**\n"
   ]
  },
  {
   "cell_type": "markdown",
   "id": "c638b72e",
   "metadata": {},
   "source": [
    "Finally, try with neural networks"
   ]
  },
  {
   "cell_type": "markdown",
   "id": "a2927b44",
   "metadata": {},
   "source": [
    "Collect the test accuracy of all of the models from above in a 09 Results.ipynb notebook. You can use a DataFrame to store your results for instance"
   ]
  },
  {
   "cell_type": "code",
   "execution_count": 1,
   "id": "4321522e",
   "metadata": {},
   "outputs": [],
   "source": [
    "accuracy = [['kNN', 0.96],['decisionTree', 0.90],['randomForest', 0.91],\n",
    "['logistic', 0.94],\n",
    "['oneLayerNN', 0.80],\n",
    "['twoLayerNN', 0.8489],\n",
    "['CNN', 0.46]]\n"
   ]
  },
  {
   "cell_type": "markdown",
   "id": "36554d04",
   "metadata": {},
   "source": [
    "Include a final visualization which summarizes the test accuracy of all of the models from above. For instance, you could use a bar chart."
   ]
  },
  {
   "cell_type": "code",
   "execution_count": 3,
   "id": "25bfce37-9e83-4013-b375-3abc06dfbf4f",
   "metadata": {},
   "outputs": [
    {
     "name": "stdout",
     "output_type": "stream",
     "text": [
      "          model  test_accuracy\n",
      "0           kNN         0.9600\n",
      "1  decisionTree         0.9000\n",
      "2  randomForest         0.9100\n",
      "3      logistic         0.9400\n",
      "4    oneLayerNN         0.8000\n",
      "5    twoLayerNN         0.8489\n",
      "6           CNN         0.4600\n"
     ]
    }
   ],
   "source": [
    "import pandas as pd\n",
    "\n",
    "df=pd.DataFrame(accuracy, columns=['model','test_accuracy'])\n",
    "print(df)"
   ]
  },
  {
   "cell_type": "code",
   "execution_count": 8,
   "id": "4638bb43",
   "metadata": {},
   "outputs": [
    {
     "data": {
      "image/png": "[encoded data removed]",
      "text/plain": [
       "<Figure size 432x288 with 1 Axes>"
      ]
     },
     "metadata": {
      "needs_background": "light"
     },
     "output_type": "display_data"
    }
   ],
   "source": [
    "ax=df.plot.bar(x='model',y='test_accuracy',rot=45)"
   ]
  },
  {
   "cell_type": "markdown",
   "id": "28ba89a3",
   "metadata": {},
   "source": [
    "The accuracy of the prediction for all tests is similar (over 90%), except for the CNN case. "
   ]
  }
 ],
 "metadata": {
  "kernelspec": {
   "display_name": "Python 3 (ipykernel)",
   "language": "python",
   "name": "python3"
  },
  "language_info": {
   "codemirror_mode": {
    "name": "ipython",
    "version": 3
   },
   "file_extension": ".py",
   "mimetype": "text/x-python",
   "name": "python",
   "nbconvert_exporter": "python",
   "pygments_lexer": "ipython3",
   "version": "3.9.7"
  }
 },
 "nbformat": 4,
 "nbformat_minor": 5
}
