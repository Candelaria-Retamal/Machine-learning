{
 "cells": [
  {
   "cell_type": "markdown",
   "id": "8c755fe0-46d2-4668-9536-9dfdee905063",
   "metadata": {},
   "source": [
    "# Unit 4: Applied Machine Learning 2\n",
    "## Task 8: Convolutional neural network\n",
    "###### Candelaria Retamal\n",
    "###### **29.06.2022**\n"
   ]
  },
  {
   "cell_type": "markdown",
   "id": "4a5204c9",
   "metadata": {},
   "source": [
    "You tested above different models with the set of high-level features extracted from a pretrained neural network. However, can you get similar results by creating a ConvNet from scratch and using the pixel values from the original images to train the model?"
   ]
  },
  {
   "cell_type": "markdown",
   "id": "43046de1",
   "metadata": {},
   "source": [
    "#### 8.1. What accuracy can you achieve?"
   ]
  },
  {
   "cell_type": "markdown",
   "id": "31243338",
   "metadata": {},
   "source": [
    "The same process than before, but instead of using the high features previously computed with MobileNET v2, I do it from scratch by tanking the original RGB pixels."
   ]
  },
  {
   "cell_type": "code",
   "execution_count": 1,
   "id": "f3d1501d",
   "metadata": {},
   "outputs": [
    {
     "name": "stdout",
     "output_type": "stream",
     "text": [
      "Found 280 images belonging to 6 classes.\n",
      "Found 139 images belonging to 6 classes.\n",
      "Found 50 images belonging to 6 classes.\n"
     ]
    }
   ],
   "source": [
    "%matplotlib inline\n",
    "from IPython.display import display\n",
    "import PIL.Image as Image\n",
    "import numpy as np\n",
    "import tensorflow as tf\n",
    "import tensorflow_hub as hub\n",
    "from tensorflow.keras.preprocessing.image import ImageDataGenerator\n",
    "import tensorflow.keras as keras\n",
    "import os\n",
    "import matplotlib.pyplot as plt\n",
    "from sklearn.metrics import confusion_matrix\n",
    "import pandas as pd\n",
    "\n",
    "# Create image generator\n",
    "train_generator = ImageDataGenerator(\n",
    "    rescale=1 / 255)\n",
    "validation_generator = ImageDataGenerator(\n",
    "    rescale=1 / 255)\n",
    "test_generator = ImageDataGenerator(rescale=1. / 255)\n",
    "\n",
    "\n",
    "\n",
    "# Train, validation and test sets\n",
    "trainset = train_generator.flow_from_directory(\n",
    "    os.path.join(\"images\", \"train\"),\n",
    "    target_size=(224, 224),\n",
    "    shuffle=True,\n",
    "    batch_size = 5,\n",
    "    classes=[\"bike\",\"car\",\"motorcycle\",\"other\",\"truck\",\"van\"]\n",
    ")\n",
    "\n",
    "validset = validation_generator.flow_from_directory(\n",
    "    os.path.join(\"images\", \"valid\"),\n",
    "    target_size=(224, 224),\n",
    "    shuffle=True\n",
    ")\n",
    "testset = test_generator.flow_from_directory(\n",
    "    os.path.join(\"images\", \"test\"), target_size=(224, 224), shuffle=True\n",
    ")\n"
   ]
  },
  {
   "cell_type": "code",
   "execution_count": 2,
   "id": "ecae843c",
   "metadata": {},
   "outputs": [
    {
     "data": {
      "text/plain": [
       "set()"
      ]
     },
     "execution_count": 2,
     "metadata": {},
     "output_type": "execute_result"
    }
   ],
   "source": [
    "set(trainset.filenames).intersection(set(validset.filenames))"
   ]
  },
  {
   "cell_type": "markdown",
   "id": "d401764d",
   "metadata": {},
   "source": [
    "I create a model with sequential, adding different layers of convolution, pools, etc."
   ]
  },
  {
   "cell_type": "code",
   "execution_count": 3,
   "id": "357fa278",
   "metadata": {},
   "outputs": [
    {
     "name": "stdout",
     "output_type": "stream",
     "text": [
      "Model: \"sequential\"\n",
      "_________________________________________________________________\n",
      "Layer (type)                 Output Shape              Param #   \n",
      "=================================================================\n",
      "conv2d (Conv2D)              (None, 110, 110, 128)     9728      \n",
      "_________________________________________________________________\n",
      "max_pooling2d (MaxPooling2D) (None, 55, 55, 128)       0         \n",
      "_________________________________________________________________\n",
      "conv2d_1 (Conv2D)            (None, 53, 53, 64)        73792     \n",
      "_________________________________________________________________\n",
      "max_pooling2d_1 (MaxPooling2 (None, 26, 26, 64)        0         \n",
      "_________________________________________________________________\n",
      "flatten (Flatten)            (None, 43264)             0         \n",
      "_________________________________________________________________\n",
      "dense (Dense)                (None, 6)                 259590    \n",
      "=================================================================\n",
      "Total params: 343,110\n",
      "Trainable params: 343,110\n",
      "Non-trainable params: 0\n",
      "_________________________________________________________________\n"
     ]
    }
   ],
   "source": [
    "# Convolutional Network\n",
    "model = keras.Sequential()\n",
    "model.add(keras.layers.Conv2D(filters=128, kernel_size=5, strides=2, activation=\"relu\",\n",
    "                              input_shape=(224, 224,3)))\n",
    "model.add(keras.layers.MaxPool2D(pool_size=2))\n",
    "model.add(keras.layers.Conv2D(filters=64, kernel_size=3, strides=1, activation=\"relu\"))\n",
    "model.add(keras.layers.MaxPool2D(pool_size=2))\n",
    "model.add(keras.layers.Flatten())\n",
    "model.add(keras.layers.Dense(units=trainset.num_classes, activation=\"softmax\"))\n",
    "model.summary()"
   ]
  },
  {
   "cell_type": "markdown",
   "id": "dfd8e765",
   "metadata": {},
   "source": [
    "Compile and training..."
   ]
  },
  {
   "cell_type": "code",
   "execution_count": 4,
   "id": "4384e03b",
   "metadata": {},
   "outputs": [],
   "source": [
    "# Compile the model\n",
    "model.compile(optimizer=keras.optimizers.Adam(),\n",
    "              loss=\"categorical_crossentropy\",\n",
    "              metrics=[\"acc\"])"
   ]
  },
  {
   "cell_type": "code",
   "execution_count": 5,
   "id": "7e4be509",
   "metadata": {},
   "outputs": [],
   "source": [
    "# End training when accuracy stops improving (optional)\n",
    "early_stopping = keras.callbacks.EarlyStopping(monitor=\"val_loss\", patience=6)"
   ]
  },
  {
   "cell_type": "code",
   "execution_count": 6,
   "id": "d39771e8",
   "metadata": {
    "scrolled": false
   },
   "outputs": [
    {
     "name": "stdout",
     "output_type": "stream",
     "text": [
      "Epoch 1/100\n",
      "56/56 [==============================] - 6s 107ms/step - loss: 1.7836 - acc: 0.2286 - val_loss: 1.6830 - val_acc: 0.4388\n",
      "Epoch 2/100\n",
      "56/56 [==============================] - 6s 102ms/step - loss: 1.5063 - acc: 0.4357 - val_loss: 1.5976 - val_acc: 0.3813\n",
      "Epoch 3/100\n",
      "56/56 [==============================] - 6s 101ms/step - loss: 0.8359 - acc: 0.7143 - val_loss: 1.5501 - val_acc: 0.4604\n",
      "Epoch 4/100\n",
      "56/56 [==============================] - 6s 101ms/step - loss: 0.2774 - acc: 0.9107 - val_loss: 2.0240 - val_acc: 0.4604\n",
      "Epoch 5/100\n",
      "56/56 [==============================] - 6s 102ms/step - loss: 0.0603 - acc: 0.9786 - val_loss: 2.2562 - val_acc: 0.4317\n",
      "Epoch 6/100\n",
      "56/56 [==============================] - 6s 103ms/step - loss: 0.0109 - acc: 1.0000 - val_loss: 2.6385 - val_acc: 0.4820\n",
      "Epoch 7/100\n",
      "56/56 [==============================] - 6s 102ms/step - loss: 0.0028 - acc: 1.0000 - val_loss: 3.1039 - val_acc: 0.4101\n",
      "Epoch 8/100\n",
      "56/56 [==============================] - 6s 101ms/step - loss: 0.0016 - acc: 1.0000 - val_loss: 3.0679 - val_acc: 0.4604\n",
      "Epoch 9/100\n",
      "56/56 [==============================] - 6s 102ms/step - loss: 0.0010 - acc: 1.0000 - val_loss: 3.1476 - val_acc: 0.4676\n"
     ]
    }
   ],
   "source": [
    "# Train model\n",
    "history = model.fit(\n",
    "    trainset, validation_data=validset, epochs=100, callbacks=[early_stopping]\n",
    ")"
   ]
  },
  {
   "cell_type": "markdown",
   "id": "6fe863b0",
   "metadata": {},
   "source": [
    "I plot the accuracy and loss function evolution with epochs."
   ]
  },
  {
   "cell_type": "code",
   "execution_count": 7,
   "id": "6c412c8b",
   "metadata": {},
   "outputs": [
    {
     "data": {
      "image/png": "[encoded data removed]",
      "text/plain": [
       "<Figure size 864x288 with 2 Axes>"
      ]
     },
     "metadata": {
      "needs_background": "light"
     },
     "output_type": "display_data"
    }
   ],
   "source": [
    "fig, (ax1, ax2) = plt.subplots(nrows=1, ncols=2, figsize=(12, 4))\n",
    "\n",
    "# Plot loss values\n",
    "ax1.set_title(\"loss: {:.4f}\".format(history.history[\"val_loss\"][-1]))\n",
    "ax1.plot(history.history[\"val_loss\"], label=\"validation\")\n",
    "ax1.plot(history.history[\"loss\"], label=\"training\")\n",
    "ax1.legend()\n",
    "\n",
    "# plot accuracy values\n",
    "ax2.set_title(\"accuracy: {:.2f}%\".format(history.history[\"val_acc\"][-1] * 100))\n",
    "ax2.plot(history.history[\"val_acc\"], label=\"validation\")\n",
    "ax2.plot(history.history[\"acc\"], label=\"training\")\n",
    "ax2.legend()\n",
    "\n",
    "plt.show()"
   ]
  },
  {
   "cell_type": "markdown",
   "id": "53b00bc5",
   "metadata": {},
   "source": [
    "Model prediction for the testset."
   ]
  },
  {
   "cell_type": "code",
   "execution_count": 8,
   "id": "cc748874",
   "metadata": {},
   "outputs": [
    {
     "name": "stdout",
     "output_type": "stream",
     "text": [
      "Predictions: (50, 6)\n"
     ]
    }
   ],
   "source": [
    "test_preds = model.predict(testset)\n",
    "print(\"Predictions:\", test_preds.shape)"
   ]
  },
  {
   "cell_type": "markdown",
   "id": "7d46d1c1",
   "metadata": {},
   "source": [
    "Confusion matrix and accuracy assessment. "
   ]
  },
  {
   "cell_type": "code",
   "execution_count": 9,
   "id": "d295abfe",
   "metadata": {},
   "outputs": [
    {
     "data": {
      "text/html": [
       "<div>\n",
       "<style scoped>\n",
       "    .dataframe tbody tr th:only-of-type {\n",
       "        vertical-align: middle;\n",
       "    }\n",
       "\n",
       "    .dataframe tbody tr th {\n",
       "        vertical-align: top;\n",
       "    }\n",
       "\n",
       "    .dataframe thead th {\n",
       "        text-align: right;\n",
       "    }\n",
       "</style>\n",
       "<table border=\"1\" class=\"dataframe\">\n",
       "  <thead>\n",
       "    <tr style=\"text-align: right;\">\n",
       "      <th>Predictions</th>\n",
       "      <th>bike</th>\n",
       "      <th>car</th>\n",
       "      <th>motorcycle</th>\n",
       "      <th>other</th>\n",
       "      <th>truck</th>\n",
       "      <th>van</th>\n",
       "    </tr>\n",
       "    <tr>\n",
       "      <th>True class</th>\n",
       "      <th></th>\n",
       "      <th></th>\n",
       "      <th></th>\n",
       "      <th></th>\n",
       "      <th></th>\n",
       "      <th></th>\n",
       "    </tr>\n",
       "  </thead>\n",
       "  <tbody>\n",
       "    <tr>\n",
       "      <th>bike</th>\n",
       "      <td>5</td>\n",
       "      <td>2</td>\n",
       "      <td>1</td>\n",
       "      <td>1</td>\n",
       "      <td>2</td>\n",
       "      <td>1</td>\n",
       "    </tr>\n",
       "    <tr>\n",
       "      <th>car</th>\n",
       "      <td>1</td>\n",
       "      <td>3</td>\n",
       "      <td>4</td>\n",
       "      <td>0</td>\n",
       "      <td>2</td>\n",
       "      <td>1</td>\n",
       "    </tr>\n",
       "    <tr>\n",
       "      <th>motorcycle</th>\n",
       "      <td>1</td>\n",
       "      <td>3</td>\n",
       "      <td>2</td>\n",
       "      <td>0</td>\n",
       "      <td>2</td>\n",
       "      <td>1</td>\n",
       "    </tr>\n",
       "    <tr>\n",
       "      <th>other</th>\n",
       "      <td>3</td>\n",
       "      <td>0</td>\n",
       "      <td>1</td>\n",
       "      <td>0</td>\n",
       "      <td>2</td>\n",
       "      <td>0</td>\n",
       "    </tr>\n",
       "    <tr>\n",
       "      <th>truck</th>\n",
       "      <td>2</td>\n",
       "      <td>1</td>\n",
       "      <td>1</td>\n",
       "      <td>0</td>\n",
       "      <td>2</td>\n",
       "      <td>1</td>\n",
       "    </tr>\n",
       "    <tr>\n",
       "      <th>van</th>\n",
       "      <td>2</td>\n",
       "      <td>2</td>\n",
       "      <td>0</td>\n",
       "      <td>0</td>\n",
       "      <td>1</td>\n",
       "      <td>0</td>\n",
       "    </tr>\n",
       "  </tbody>\n",
       "</table>\n",
       "</div>"
      ],
      "text/plain": [
       "Predictions  bike  car  motorcycle  other  truck  van\n",
       "True class                                           \n",
       "bike            5    2           1      1      2    1\n",
       "car             1    3           4      0      2    1\n",
       "motorcycle      1    3           2      0      2    1\n",
       "other           3    0           1      0      2    0\n",
       "truck           2    1           1      0      2    1\n",
       "van             2    2           0      0      1    0"
      ]
     },
     "execution_count": 9,
     "metadata": {},
     "output_type": "execute_result"
    }
   ],
   "source": [
    "# Compute confusion matrix\n",
    "matrix = confusion_matrix(\n",
    "    y_true=testset.classes,            # array with true labels\n",
    "    y_pred=test_preds.argmax(axis=1),  # array with predicted labels\n",
    ")\n",
    "\n",
    "# Format as a DataFrame\n",
    "class_names = list(testset.class_indices.keys())\n",
    "matrix_df = pd.DataFrame(data=matrix, columns=class_names, index=class_names)\n",
    "matrix_df.columns.name = \"Predictions\"\n",
    "matrix_df.index.name = \"True class\"\n",
    "matrix_df"
   ]
  },
  {
   "cell_type": "code",
   "execution_count": 10,
   "id": "08489aa7",
   "metadata": {},
   "outputs": [
    {
     "name": "stdout",
     "output_type": "stream",
     "text": [
      "2/2 [==============================] - 0s 63ms/step - loss: 2.9702 - acc: 0.4600\n",
      "Test loss: 2.97, accuracy: 46.00%\n"
     ]
    }
   ],
   "source": [
    "test_loss, test_acurracy = model.evaluate(testset)\n",
    "print(\"Test loss: {:.2f}, accuracy: {:.2f}%\".format(test_loss, test_acurracy * 100))\n",
    "# Output varies with an accuracy score around 52% and a loss around 1.4"
   ]
  },
  {
   "cell_type": "markdown",
   "id": "2460b19e",
   "metadata": {},
   "source": [
    "The accuracy for this configuration of the model is 46%."
   ]
  },
  {
   "cell_type": "markdown",
   "id": "20c5d827",
   "metadata": {},
   "source": [
    "#### 8.2. Can you get good results? - If not, why?"
   ]
  },
  {
   "cell_type": "markdown",
   "id": "bf025461",
   "metadata": {},
   "source": [
    "The best result I managed to find was 46% of accuracy by changing the number of filters for the convolution layers. I think this low performance must be mainly caused by the small ammount of data we count for training. Despite we reach an accuracy with the training set close to 100%, the validation is somehow stable around 45% after a few epochs.\n",
    "If we compare the performance with a simple 2-layer NN that process the output coming from the MobileNET v2, it is much lower. This occurs because this pre-processing model is optimized to capture important features by computing specific and more complex filters, compared to what we have here in the convolutional layers."
   ]
  }
 ],
 "metadata": {
  "kernelspec": {
   "display_name": "Python 3 (ipykernel)",
   "language": "python",
   "name": "python3"
  },
  "language_info": {
   "codemirror_mode": {
    "name": "ipython",
    "version": 3
   },
   "file_extension": ".py",
   "mimetype": "text/x-python",
   "name": "python",
   "nbconvert_exporter": "python",
   "pygments_lexer": "ipython3",
   "version": "3.9.7"
  }
 },
 "nbformat": 4,
 "nbformat_minor": 5
}
