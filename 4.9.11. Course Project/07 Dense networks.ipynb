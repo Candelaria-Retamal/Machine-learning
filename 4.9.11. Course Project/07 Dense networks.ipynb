{
 "cells": [
  {
   "cell_type": "markdown",
   "id": "8c755fe0-46d2-4668-9536-9dfdee905063",
   "metadata": {},
   "source": [
    "# Unit 4: Applied Machine Learning 2\n",
    "## Task 7: Dense network\n",
    "###### Candelaria Retamal\n",
    "###### **29.06.2022**\n"
   ]
  },
  {
   "cell_type": "markdown",
   "id": "d45555ac",
   "metadata": {},
   "source": [
    "Finally, try with neural networks.\n",
    "\n",
    "> **Note**: It is up to you if you want to implement your neural networks for this and the next task with TensorFlow’s low-level API or the Keras API. Our recommendation is to practice your knowledge of the Keras API, as this approach is quicker to implement, more straight forward to read and most importantly, the Keras API is since TensorFlow version 2.0 also the preferred API of TensorFlow itself."
   ]
  },
  {
   "cell_type": "markdown",
   "id": "8e7e1be2",
   "metadata": {},
   "source": [
    "#### 7.1. Layer dense network i.e. no hidden layer, just the input and output ones    \n"
   ]
  },
  {
   "cell_type": "markdown",
   "id": "27273089",
   "metadata": {},
   "source": [
    "Load the data."
   ]
  },
  {
   "cell_type": "code",
   "execution_count": 1,
   "id": "0e7f9ff9",
   "metadata": {},
   "outputs": [
    {
     "name": "stdout",
     "output_type": "stream",
     "text": [
      "X train: (280, 1280) float32\n",
      "y train: (280, 6) float32\n",
      "X test: (50, 1280) float32\n",
      "y test: (50, 6) float32\n",
      "X valid: (139, 1280) float32\n",
      "y valid: (139, 6) float32\n",
      "dtype: int64\n",
      "dtype: int64\n",
      "dtype: int64\n"
     ]
    }
   ],
   "source": [
    "import numpy as np\n",
    "import os\n",
    "import tensorflow as tf\n",
    "\n",
    "# Load data\n",
    "with np.load(\"features_trainset.npz\") as npz_file:\n",
    "    X_train = npz_file[\"data\"]\n",
    "    y_train = npz_file[\"label\"]\n",
    "\n",
    "print(\"X train:\", X_train.shape, X_train.dtype)\n",
    "print(\"y train:\", y_train.shape, y_train.dtype)\n",
    "\n",
    "with np.load(\"features_testset.npz\") as npz_file:\n",
    "    X_test = npz_file[\"data\"]\n",
    "    y_test = npz_file[\"label\"]\n",
    "\n",
    "print(\"X test:\", X_test.shape, X_test.dtype)\n",
    "print(\"y test:\", y_test.shape, y_test.dtype)\n",
    "\n",
    "with np.load(\"features_validset.npz\") as npz_file:\n",
    "    X_valid = npz_file[\"data\"]\n",
    "    y_valid = npz_file[\"label\"]\n",
    "    \n",
    "    \n",
    "print(\"X valid:\", X_valid.shape, X_valid.dtype)\n",
    "print(\"y valid:\", y_valid.shape, y_valid.dtype)\n",
    "\n",
    "\n",
    "\n",
    "\n",
    "# Convert to float\n",
    "y_train = y_train.astype(np.int64)\n",
    "y_test = y_test.astype(np.int64)\n",
    "y_valid = y_valid.astype(np.int64)\n",
    "# Print the new data type\n",
    "print('dtype:', y_train.dtype)\n",
    "print('dtype:', y_test.dtype)\n",
    "print('dtype:', y_valid.dtype)"
   ]
  },
  {
   "cell_type": "markdown",
   "id": "4553658e",
   "metadata": {},
   "source": [
    "I define a function to convert one-hot encoding into indices. This way I can recover the class for the NN model."
   ]
  },
  {
   "cell_type": "code",
   "execution_count": 2,
   "id": "6f63519e",
   "metadata": {},
   "outputs": [],
   "source": [
    "def decode_one_hot(batch_of_vectors):\n",
    "  \"\"\"Computes indices for the non-zero entries in batched one-hot vectors.\n",
    "\n",
    "  Args:\n",
    "    batch_of_vectors: A Tensor with length-N vectors, having shape [..., N].\n",
    "  Returns:\n",
    "    An integer Tensor with shape [...] indicating the index of the non-zero\n",
    "    value in each vector.\n",
    "  \"\"\"\n",
    "  nonzero_indices = tf.where(tf.not_equal(\n",
    "      batch_of_vectors, tf.zeros_like(batch_of_vectors)))\n",
    "  reshaped_nonzero_indices = tf.reshape(\n",
    "      nonzero_indices[:, -1], tf.shape(batch_of_vectors)[:-1])\n",
    "  return reshaped_nonzero_indices"
   ]
  },
  {
   "cell_type": "markdown",
   "id": "68de2cbb",
   "metadata": {},
   "source": [
    "Decoding labels..."
   ]
  },
  {
   "cell_type": "code",
   "execution_count": 3,
   "id": "6d5f5787",
   "metadata": {},
   "outputs": [
    {
     "name": "stderr",
     "output_type": "stream",
     "text": [
      "2022-06-30 14:46:49.436470: I tensorflow/core/platform/cpu_feature_guard.cc:142] This TensorFlow binary is optimized with oneAPI Deep Neural Network Library (oneDNN) to use the following CPU instructions in performance-critical operations:  AVX2 FMA\n",
      "To enable them in other operations, rebuild TensorFlow with the appropriate compiler flags.\n",
      "2022-06-30 14:46:49.732486: I tensorflow/core/common_runtime/gpu/gpu_device.cc:1510] Created device /job:localhost/replica:0/task:0/device:GPU:0 with 6373 MB memory:  -> device: 0, name: NVIDIA GeForce GTX 1080, pci bus id: 0000:01:00.0, compute capability: 6.1\n"
     ]
    },
    {
     "data": {
      "text/plain": [
       "<tf.Tensor: shape=(50,), dtype=int64, numpy=\n",
       "array([0, 0, 0, 0, 0, 0, 0, 0, 0, 0, 0, 0, 1, 1, 1, 1, 1, 1, 1, 1, 1, 1,\n",
       "       1, 2, 2, 2, 2, 2, 2, 2, 2, 2, 3, 3, 3, 3, 3, 3, 4, 4, 4, 4, 4, 4,\n",
       "       4, 5, 5, 5, 5, 5])>"
      ]
     },
     "execution_count": 3,
     "metadata": {},
     "output_type": "execute_result"
    }
   ],
   "source": [
    "y_train = decode_one_hot(y_train)\n",
    "y_test = decode_one_hot(y_test)\n",
    "y_train\n",
    "y_test"
   ]
  },
  {
   "cell_type": "code",
   "execution_count": 4,
   "id": "88b42fbc",
   "metadata": {},
   "outputs": [],
   "source": [
    "import tensorflow as tf\n",
    "from tensorflow.keras import Sequential\n",
    "from tensorflow.keras.layers import Dense\n"
   ]
  },
  {
   "cell_type": "markdown",
   "id": "08f58876",
   "metadata": {},
   "source": [
    "I define the dense network using the Sequential model from KERAS."
   ]
  },
  {
   "cell_type": "code",
   "execution_count": 5,
   "id": "968ea5aa",
   "metadata": {},
   "outputs": [
    {
     "name": "stdout",
     "output_type": "stream",
     "text": [
      "Model: \"sequential\"\n",
      "_________________________________________________________________\n",
      "Layer (type)                 Output Shape              Param #   \n",
      "=================================================================\n",
      "dense (Dense)                (None, 6)                 7686      \n",
      "=================================================================\n",
      "Total params: 7,686\n",
      "Trainable params: 7,686\n",
      "Non-trainable params: 0\n",
      "_________________________________________________________________\n"
     ]
    }
   ],
   "source": [
    "model = Sequential()\n",
    "# model.add(Input(6, activation=\"relu\", input_dim=1 * 1280))\n",
    "model.add(Dense(6, activation=\"softmax\", input_dim=1 * 1280))\n",
    "model.summary()\n"
   ]
  },
  {
   "cell_type": "markdown",
   "id": "9dfc47aa",
   "metadata": {},
   "source": [
    "I compile the model by defining the optimizer, loss function and the metrics."
   ]
  },
  {
   "cell_type": "code",
   "execution_count": 7,
   "id": "ba467e36",
   "metadata": {},
   "outputs": [],
   "source": [
    "from tensorflow.keras import losses\n",
    "from tensorflow.keras import metrics\n",
    "\n",
    "# Define loss function, optimizer, and metrics to track during training\n",
    "model.compile(\n",
    "    optimizer=\"sgd\",                         # .. or optimizers.SGD(lr=0.01)\n",
    "    loss=\"sparse_categorical_crossentropy\",  # .. or losses.sparse_categorical_crossentropy\n",
    "    metrics=[\"acc\"],                         # .. or metrics.sparse_categorical_accuracy\n",
    ")"
   ]
  },
  {
   "cell_type": "markdown",
   "id": "3f68b3f4",
   "metadata": {},
   "source": [
    "Fitting the model..."
   ]
  },
  {
   "cell_type": "code",
   "execution_count": 8,
   "id": "855848ba",
   "metadata": {
    "scrolled": false
   },
   "outputs": [
    {
     "name": "stderr",
     "output_type": "stream",
     "text": [
      "2022-06-30 14:46:58.741345: I tensorflow/compiler/mlir/mlir_graph_optimization_pass.cc:185] None of the MLIR Optimization Passes are enabled (registered 2)\n"
     ]
    },
    {
     "name": "stdout",
     "output_type": "stream",
     "text": [
      "Epoch 1/25\n",
      "45/45 [==============================] - 0s 3ms/step - loss: 0.7193 - acc: 0.7946 - val_loss: 2.7341 - val_acc: 0.1607\n",
      "Epoch 2/25\n",
      "45/45 [==============================] - 0s 1ms/step - loss: 0.2348 - acc: 0.9375 - val_loss: 2.6657 - val_acc: 0.3571\n",
      "Epoch 3/25\n",
      "45/45 [==============================] - 0s 1ms/step - loss: 0.1528 - acc: 0.9643 - val_loss: 2.9106 - val_acc: 0.2857\n",
      "Epoch 4/25\n",
      "45/45 [==============================] - 0s 1ms/step - loss: 0.1141 - acc: 0.9821 - val_loss: 2.6522 - val_acc: 0.4821\n",
      "Epoch 5/25\n",
      "45/45 [==============================] - 0s 1ms/step - loss: 0.0928 - acc: 0.9911 - val_loss: 2.9068 - val_acc: 0.3393\n",
      "Epoch 6/25\n",
      "45/45 [==============================] - 0s 1ms/step - loss: 0.0733 - acc: 1.0000 - val_loss: 2.8526 - val_acc: 0.4107\n",
      "Epoch 7/25\n",
      "45/45 [==============================] - 0s 1ms/step - loss: 0.0618 - acc: 1.0000 - val_loss: 3.0153 - val_acc: 0.3929\n",
      "Epoch 8/25\n",
      "45/45 [==============================] - 0s 1ms/step - loss: 0.0524 - acc: 1.0000 - val_loss: 3.0978 - val_acc: 0.3750\n",
      "Epoch 9/25\n",
      "45/45 [==============================] - 0s 1ms/step - loss: 0.0467 - acc: 1.0000 - val_loss: 3.0822 - val_acc: 0.3929\n",
      "Epoch 10/25\n",
      "45/45 [==============================] - 0s 1ms/step - loss: 0.0413 - acc: 1.0000 - val_loss: 3.0668 - val_acc: 0.3929\n",
      "Epoch 11/25\n",
      "45/45 [==============================] - 0s 1ms/step - loss: 0.0365 - acc: 1.0000 - val_loss: 3.1835 - val_acc: 0.3929\n",
      "Epoch 12/25\n",
      "45/45 [==============================] - 0s 1ms/step - loss: 0.0341 - acc: 1.0000 - val_loss: 3.1234 - val_acc: 0.3929\n",
      "Epoch 13/25\n",
      "45/45 [==============================] - 0s 1ms/step - loss: 0.0318 - acc: 1.0000 - val_loss: 3.1503 - val_acc: 0.3929\n",
      "Epoch 14/25\n",
      "45/45 [==============================] - 0s 1ms/step - loss: 0.0281 - acc: 1.0000 - val_loss: 3.1454 - val_acc: 0.4107\n",
      "Epoch 15/25\n",
      "45/45 [==============================] - 0s 981us/step - loss: 0.0264 - acc: 1.0000 - val_loss: 3.2001 - val_acc: 0.3929\n",
      "Epoch 16/25\n",
      "45/45 [==============================] - 0s 1ms/step - loss: 0.0247 - acc: 1.0000 - val_loss: 3.2343 - val_acc: 0.3929\n",
      "Epoch 17/25\n",
      "45/45 [==============================] - 0s 1ms/step - loss: 0.0232 - acc: 1.0000 - val_loss: 3.2356 - val_acc: 0.3929\n",
      "Epoch 18/25\n",
      "45/45 [==============================] - 0s 1ms/step - loss: 0.0216 - acc: 1.0000 - val_loss: 3.2843 - val_acc: 0.3929\n",
      "Epoch 19/25\n",
      "45/45 [==============================] - 0s 1ms/step - loss: 0.0206 - acc: 1.0000 - val_loss: 3.2621 - val_acc: 0.3929\n",
      "Epoch 20/25\n",
      "45/45 [==============================] - 0s 989us/step - loss: 0.0194 - acc: 1.0000 - val_loss: 3.2760 - val_acc: 0.3929\n",
      "Epoch 21/25\n",
      "45/45 [==============================] - 0s 1ms/step - loss: 0.0184 - acc: 1.0000 - val_loss: 3.3217 - val_acc: 0.3929\n",
      "Epoch 22/25\n",
      "45/45 [==============================] - 0s 1ms/step - loss: 0.0176 - acc: 1.0000 - val_loss: 3.3351 - val_acc: 0.3929\n",
      "Epoch 23/25\n",
      "45/45 [==============================] - 0s 994us/step - loss: 0.0168 - acc: 1.0000 - val_loss: 3.3419 - val_acc: 0.3929\n",
      "Epoch 24/25\n",
      "45/45 [==============================] - 0s 1ms/step - loss: 0.0160 - acc: 1.0000 - val_loss: 3.3579 - val_acc: 0.3929\n",
      "Epoch 25/25\n",
      "45/45 [==============================] - 0s 1ms/step - loss: 0.0154 - acc: 1.0000 - val_loss: 3.3568 - val_acc: 0.3929\n"
     ]
    }
   ],
   "source": [
    "# Fit model\n",
    "history = model.fit(\n",
    "    x=X_train,\n",
    "    y=y_train,\n",
    "    validation_split=0.2,\n",
    "    batch_size=5,\n",
    "    epochs=25,\n",
    "    shuffle=True,  # Shuffle training samples\n",
    ")"
   ]
  },
  {
   "cell_type": "markdown",
   "id": "37d1408f",
   "metadata": {},
   "source": [
    "I plot the results of validation accuracy and loss function."
   ]
  },
  {
   "cell_type": "code",
   "execution_count": 9,
   "id": "55cc0569",
   "metadata": {},
   "outputs": [
    {
     "data": {
      "image/png": "[encoded data removed]",
      "text/plain": [
       "<Figure size 864x288 with 2 Axes>"
      ]
     },
     "metadata": {
      "needs_background": "light"
     },
     "output_type": "display_data"
    }
   ],
   "source": [
    "%matplotlib inline\n",
    "import matplotlib.pyplot as plt\n",
    "import numpy as np\n",
    "\n",
    "# Create two plots: one for the loss value, one for the accuracy\n",
    "fig, (ax1, ax2) = plt.subplots(nrows=1, ncols=2, figsize=(12, 4))\n",
    "\n",
    "# Plot accuracy values\n",
    "ax1.plot(history.history[\"loss\"], label=\"train loss\")\n",
    "ax1.plot(history.history[\"val_loss\"], label=\"val loss\")\n",
    "ax1.set_title(\n",
    "    \"Validation loss {:.3f} (mean last 3)\".format(\n",
    "        np.mean(history.history[\"val_loss\"][-3:])  # last three values\n",
    "    )\n",
    ")\n",
    "ax1.set_xlabel(\"epoch\")\n",
    "ax1.set_ylabel(\"loss value\")\n",
    "ax1.legend()\n",
    "\n",
    "# Plot accuracy values\n",
    "ax2.plot(history.history[\"acc\"], label=\"train acc\")\n",
    "ax2.plot(history.history[\"val_acc\"], label=\"val acc\")\n",
    "ax2.set_title(\n",
    "    \"Validation accuracy {:.3f} (mean last 3)\".format(\n",
    "        np.mean(history.history[\"val_acc\"][-3:])  # last three values\n",
    "    )\n",
    ")\n",
    "ax2.set_xlabel(\"epoch\")\n",
    "ax2.set_ylabel(\"accuracy\")\n",
    "ax2.legend()\n",
    "plt.show()"
   ]
  },
  {
   "cell_type": "markdown",
   "id": "f35c60b2",
   "metadata": {},
   "source": [
    "I evaluate the model."
   ]
  },
  {
   "cell_type": "code",
   "execution_count": 10,
   "id": "420a6cb7",
   "metadata": {},
   "outputs": [
    {
     "name": "stdout",
     "output_type": "stream",
     "text": [
      "2/2 [==============================] - 0s 1ms/step - loss: 0.9768 - acc: 0.8000\n",
      "Test loss: 0.98\n",
      "Test accuracy: 80.00%\n"
     ]
    }
   ],
   "source": [
    "(test_loss, test_accuracy) = model.evaluate(X_test, y_test, batch_size=32)\n",
    "\n",
    "print(\"Test loss: {:.2f}\".format(test_loss))\n",
    "print(\"Test accuracy: {:.2f}%\".format(100 * test_accuracy))\n"
   ]
  },
  {
   "cell_type": "markdown",
   "id": "00cd2406",
   "metadata": {},
   "source": [
    "#### 7.2. Layer dense network i.e. one hidden layer"
   ]
  },
  {
   "cell_type": "markdown",
   "id": "47f54ab1",
   "metadata": {},
   "source": [
    "Same process but now with a hidden layer."
   ]
  },
  {
   "cell_type": "code",
   "execution_count": 48,
   "id": "d853eded",
   "metadata": {},
   "outputs": [
    {
     "name": "stdout",
     "output_type": "stream",
     "text": [
      "X train: (280, 1280) float32\n",
      "y train: (280, 6) float32\n",
      "X test: (50, 1280) float32\n",
      "y test: (50, 6) float32\n",
      "X valid: (139, 1280) float32\n",
      "y valid: (139, 6) float32\n",
      "dtype: int64\n",
      "dtype: int64\n",
      "dtype: int64\n"
     ]
    }
   ],
   "source": [
    "import numpy as np\n",
    "import os\n",
    "import tensorflow as tf\n",
    "\n",
    "# Load data\n",
    "with np.load(\"features_trainset.npz\") as npz_file:\n",
    "    X_train = npz_file[\"data\"]\n",
    "    y_train = npz_file[\"label\"]\n",
    "\n",
    "print(\"X train:\", X_train.shape, X_train.dtype)\n",
    "print(\"y train:\", y_train.shape, y_train.dtype)\n",
    "\n",
    "with np.load(\"features_testset.npz\") as npz_file:\n",
    "    X_test = npz_file[\"data\"]\n",
    "    y_test = npz_file[\"label\"]\n",
    "\n",
    "print(\"X test:\", X_test.shape, X_test.dtype)\n",
    "print(\"y test:\", y_test.shape, y_test.dtype)\n",
    "\n",
    "with np.load(\"features_validset.npz\") as npz_file:\n",
    "    X_valid = npz_file[\"data\"]\n",
    "    y_valid = npz_file[\"label\"]\n",
    "    \n",
    "    \n",
    "print(\"X valid:\", X_valid.shape, X_valid.dtype)\n",
    "print(\"y valid:\", y_valid.shape, y_valid.dtype)\n",
    "\n",
    "\n",
    "\n",
    "\n",
    "# Convert to float\n",
    "y_train = y_train.astype(np.int64)\n",
    "y_test = y_test.astype(np.int64)\n",
    "y_valid = y_valid.astype(np.int64)\n",
    "# Print the new data type\n",
    "print('dtype:', y_train.dtype)\n",
    "print('dtype:', y_test.dtype)\n",
    "print('dtype:', y_valid.dtype)"
   ]
  },
  {
   "cell_type": "code",
   "execution_count": 49,
   "id": "7beef447",
   "metadata": {},
   "outputs": [
    {
     "data": {
      "text/plain": [
       "<tf.Tensor: shape=(50,), dtype=int64, numpy=\n",
       "array([0, 0, 0, 0, 0, 0, 0, 0, 0, 0, 0, 0, 1, 1, 1, 1, 1, 1, 1, 1, 1, 1,\n",
       "       1, 2, 2, 2, 2, 2, 2, 2, 2, 2, 3, 3, 3, 3, 3, 3, 4, 4, 4, 4, 4, 4,\n",
       "       4, 5, 5, 5, 5, 5])>"
      ]
     },
     "execution_count": 49,
     "metadata": {},
     "output_type": "execute_result"
    }
   ],
   "source": [
    "y_train = decode_one_hot(y_train)\n",
    "y_test = decode_one_hot(y_test)\n",
    "y_valid = decode_one_hot(y_valid)\n",
    "y_train\n",
    "y_test"
   ]
  },
  {
   "cell_type": "code",
   "execution_count": 50,
   "id": "d40355f1",
   "metadata": {},
   "outputs": [],
   "source": [
    "import tensorflow as tf\n",
    "from tensorflow.keras import Sequential\n",
    "from tensorflow.keras.layers import Dense\n"
   ]
  },
  {
   "cell_type": "code",
   "execution_count": 51,
   "id": "d91f0b7d",
   "metadata": {},
   "outputs": [
    {
     "name": "stdout",
     "output_type": "stream",
     "text": [
      "Model: \"sequential_5\"\n",
      "_________________________________________________________________\n",
      "Layer (type)                 Output Shape              Param #   \n",
      "=================================================================\n",
      "dense_9 (Dense)              (None, 100)               128100    \n",
      "_________________________________________________________________\n",
      "dense_10 (Dense)             (None, 6)                 606       \n",
      "=================================================================\n",
      "Total params: 128,706\n",
      "Trainable params: 128,706\n",
      "Non-trainable params: 0\n",
      "_________________________________________________________________\n"
     ]
    }
   ],
   "source": [
    "model = Sequential()\n",
    "# model.add(Input(6, activation=\"relu\", input_dim=1 * 1280))\n",
    "model.add(Dense(100, activation=\"relu\", input_dim=1 * 1280))\n",
    "model.add(Dense(6, activation=\"softmax\"))\n",
    "model.summary()\n"
   ]
  },
  {
   "cell_type": "code",
   "execution_count": 52,
   "id": "46dcab6a",
   "metadata": {},
   "outputs": [],
   "source": [
    "from tensorflow.keras import optimizers\n",
    "\n",
    "# Define loss function, optimizer and metrics to track during training\n",
    "model.compile(optimizer=\"sgd\",\n",
    "              loss=\"sparse_categorical_crossentropy\",\n",
    "              metrics=[\"acc\"])"
   ]
  },
  {
   "cell_type": "code",
   "execution_count": 53,
   "id": "d9859041",
   "metadata": {},
   "outputs": [],
   "source": [
    "from tensorflow.keras import losses\n",
    "from tensorflow.keras import metrics\n",
    "\n",
    "# Define loss function, optimizer, and metrics to track during training\n",
    "model.compile(\n",
    "    optimizer=\"sgd\",                         # .. or optimizers.SGD(lr=0.01)\n",
    "    loss=\"sparse_categorical_crossentropy\",  # .. or losses.sparse_categorical_crossentropy\n",
    "    metrics=[\"acc\"],                         # .. or metrics.sparse_categorical_accuracy\n",
    ")"
   ]
  },
  {
   "cell_type": "code",
   "execution_count": 54,
   "id": "46f5b810",
   "metadata": {
    "scrolled": true
   },
   "outputs": [
    {
     "name": "stdout",
     "output_type": "stream",
     "text": [
      "Epoch 1/25\n",
      "45/45 [==============================] - 0s 3ms/step - loss: 0.7858 - acc: 0.7455 - val_loss: 2.8038 - val_acc: 0.0000e+00\n",
      "Epoch 2/25\n",
      "45/45 [==============================] - 0s 1ms/step - loss: 0.2415 - acc: 0.9286 - val_loss: 2.5219 - val_acc: 0.3571\n",
      "Epoch 3/25\n",
      "45/45 [==============================] - 0s 1ms/step - loss: 0.1360 - acc: 0.9821 - val_loss: 3.0584 - val_acc: 0.1429\n",
      "Epoch 4/25\n",
      "45/45 [==============================] - 0s 1ms/step - loss: 0.0959 - acc: 0.9955 - val_loss: 2.9429 - val_acc: 0.2857\n",
      "Epoch 5/25\n",
      "45/45 [==============================] - 0s 1ms/step - loss: 0.0701 - acc: 0.9911 - val_loss: 3.0788 - val_acc: 0.2857\n",
      "Epoch 6/25\n",
      "45/45 [==============================] - 0s 1ms/step - loss: 0.0549 - acc: 1.0000 - val_loss: 3.1213 - val_acc: 0.2857\n",
      "Epoch 7/25\n",
      "45/45 [==============================] - 0s 1ms/step - loss: 0.0465 - acc: 1.0000 - val_loss: 2.9842 - val_acc: 0.4286\n",
      "Epoch 8/25\n",
      "45/45 [==============================] - 0s 1ms/step - loss: 0.0386 - acc: 1.0000 - val_loss: 3.0233 - val_acc: 0.4286\n",
      "Epoch 9/25\n",
      "45/45 [==============================] - 0s 1ms/step - loss: 0.0322 - acc: 1.0000 - val_loss: 3.0912 - val_acc: 0.4286\n",
      "Epoch 10/25\n",
      "45/45 [==============================] - 0s 1ms/step - loss: 0.0281 - acc: 1.0000 - val_loss: 3.1334 - val_acc: 0.4286\n",
      "Epoch 11/25\n",
      "45/45 [==============================] - 0s 1ms/step - loss: 0.0246 - acc: 1.0000 - val_loss: 3.1121 - val_acc: 0.4286\n",
      "Epoch 12/25\n",
      "45/45 [==============================] - 0s 1ms/step - loss: 0.0223 - acc: 1.0000 - val_loss: 3.1878 - val_acc: 0.4286\n",
      "Epoch 13/25\n",
      "45/45 [==============================] - 0s 1ms/step - loss: 0.0200 - acc: 1.0000 - val_loss: 3.2566 - val_acc: 0.3571\n",
      "Epoch 14/25\n",
      "45/45 [==============================] - 0s 1ms/step - loss: 0.0180 - acc: 1.0000 - val_loss: 3.2405 - val_acc: 0.4286\n",
      "Epoch 15/25\n",
      "45/45 [==============================] - 0s 1ms/step - loss: 0.0164 - acc: 1.0000 - val_loss: 3.2963 - val_acc: 0.3750\n",
      "Epoch 16/25\n",
      "45/45 [==============================] - 0s 1ms/step - loss: 0.0151 - acc: 1.0000 - val_loss: 3.3217 - val_acc: 0.3750\n",
      "Epoch 17/25\n",
      "45/45 [==============================] - 0s 1ms/step - loss: 0.0141 - acc: 1.0000 - val_loss: 3.3037 - val_acc: 0.4286\n",
      "Epoch 18/25\n",
      "45/45 [==============================] - 0s 1ms/step - loss: 0.0131 - acc: 1.0000 - val_loss: 3.3431 - val_acc: 0.3929\n",
      "Epoch 19/25\n",
      "45/45 [==============================] - 0s 1ms/step - loss: 0.0121 - acc: 1.0000 - val_loss: 3.3828 - val_acc: 0.3571\n",
      "Epoch 20/25\n",
      "45/45 [==============================] - 0s 1ms/step - loss: 0.0113 - acc: 1.0000 - val_loss: 3.4069 - val_acc: 0.3571\n",
      "Epoch 21/25\n",
      "45/45 [==============================] - 0s 1ms/step - loss: 0.0107 - acc: 1.0000 - val_loss: 3.3803 - val_acc: 0.4286\n",
      "Epoch 22/25\n",
      "45/45 [==============================] - 0s 1ms/step - loss: 0.0101 - acc: 1.0000 - val_loss: 3.4115 - val_acc: 0.3929\n",
      "Epoch 23/25\n",
      "45/45 [==============================] - 0s 1ms/step - loss: 0.0095 - acc: 1.0000 - val_loss: 3.4161 - val_acc: 0.4286\n",
      "Epoch 24/25\n",
      "45/45 [==============================] - 0s 1ms/step - loss: 0.0090 - acc: 1.0000 - val_loss: 3.4333 - val_acc: 0.3929\n",
      "Epoch 25/25\n",
      "45/45 [==============================] - 0s 1ms/step - loss: 0.0085 - acc: 1.0000 - val_loss: 3.4606 - val_acc: 0.3929\n"
     ]
    }
   ],
   "source": [
    "# Fit model\n",
    "history = model.fit(\n",
    "    x=X_train,\n",
    "    y=y_train,\n",
    "    validation_split=0.2,\n",
    "    batch_size=5,\n",
    "    epochs=25,\n",
    "    shuffle=True,  # Shuffle training samples\n",
    ")"
   ]
  },
  {
   "cell_type": "code",
   "execution_count": 55,
   "id": "a037ddb0",
   "metadata": {},
   "outputs": [
    {
     "data": {
      "image/png": "[encoded data removed]",
      "text/plain": [
       "<Figure size 864x288 with 2 Axes>"
      ]
     },
     "metadata": {
      "needs_background": "light"
     },
     "output_type": "display_data"
    }
   ],
   "source": [
    "%matplotlib inline\n",
    "import matplotlib.pyplot as plt\n",
    "import numpy as np\n",
    "\n",
    "# Create two plots: one for the loss value, one for the accuracy\n",
    "fig, (ax1, ax2) = plt.subplots(nrows=1, ncols=2, figsize=(12, 4))\n",
    "\n",
    "# Plot accuracy values\n",
    "ax1.plot(history.history[\"loss\"], label=\"train loss\")\n",
    "ax1.plot(history.history[\"val_loss\"], label=\"val loss\")\n",
    "ax1.set_title(\n",
    "    \"Validation loss {:.3f} (mean last 3)\".format(\n",
    "        np.mean(history.history[\"val_loss\"][-3:])  # last three values\n",
    "    )\n",
    ")\n",
    "ax1.set_xlabel(\"epoch\")\n",
    "ax1.set_ylabel(\"loss value\")\n",
    "ax1.legend()\n",
    "\n",
    "# Plot accuracy values\n",
    "ax2.plot(history.history[\"acc\"], label=\"train acc\")\n",
    "ax2.plot(history.history[\"val_acc\"], label=\"val acc\")\n",
    "ax2.set_title(\n",
    "    \"Validation accuracy {:.3f} (mean last 3)\".format(\n",
    "        np.mean(history.history[\"val_acc\"][-3:])  # last three values\n",
    "    )\n",
    ")\n",
    "ax2.set_xlabel(\"epoch\")\n",
    "ax2.set_ylabel(\"accuracy\")\n",
    "ax2.legend()\n",
    "plt.show()"
   ]
  },
  {
   "cell_type": "code",
   "execution_count": 56,
   "id": "efc5d8ee",
   "metadata": {},
   "outputs": [
    {
     "name": "stdout",
     "output_type": "stream",
     "text": [
      "5/5 [==============================] - 0s 1ms/step - loss: 0.7752 - acc: 0.8489\n",
      "Test loss: 0.78\n",
      "Test accuracy: 84.89%\n"
     ]
    }
   ],
   "source": [
    "(test_loss, test_accuracy) = model.evaluate(X_valid, y_valid, batch_size=32)\n",
    "\n",
    "print(\"Test loss: {:.2f}\".format(test_loss))\n",
    "print(\"Test accuracy: {:.2f}%\".format(100 * test_accuracy))\n"
   ]
  },
  {
   "cell_type": "markdown",
   "id": "b6be7707",
   "metadata": {},
   "source": [
    "The accuracy of the model increased around a 5% when a hidden layer is included."
   ]
  }
 ],
 "metadata": {
  "kernelspec": {
   "display_name": "Python 3 (ipykernel)",
   "language": "python",
   "name": "python3"
  },
  "language_info": {
   "codemirror_mode": {
    "name": "ipython",
    "version": 3
   },
   "file_extension": ".py",
   "mimetype": "text/x-python",
   "name": "python",
   "nbconvert_exporter": "python",
   "pygments_lexer": "ipython3",
   "version": "3.9.7"
  }
 },
 "nbformat": 4,
 "nbformat_minor": 5
}
