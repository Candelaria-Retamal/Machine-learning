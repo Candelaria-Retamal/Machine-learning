{
 "cells": [
  {
   "cell_type": "markdown",
   "id": "368ed854-55a3-4deb-a829-54d7c27c2876",
   "metadata": {},
   "source": [
    "#### Cross-validation\n",
    "\n",
    "So far, we evaluated the generalization performance of our machine learning algorithms by splitting the data into train and test sets. The idea is to use the train set to fit our estimators and the test one at the end to evaluate them. The only exception is grid search that “fits” the hyperparameters using this test set. Hence, some information might “leak” from it, and the performance on this set is no longer a valid estimation of the generalization error.\n",
    "\n",
    "We will now see how to solve this issue using grid search with cross-validation. In this unit, we will start by explaining what cross-validation is and, in the next unit, we will combine this technique with grid search.\n",
    "\n",
    "#### k-fold cross-validation\n",
    "The idea behind k-fold cross-validation is to split the train set into \n",
    "k\n",
    " parts and run the algorithm \n",
    "k\n",
    " times using \n",
    "(\n",
    "k\n",
    "−\n",
    "1\n",
    ")\n",
    " parts to train our estimator and the remaining one to evaluate its performance. In total, there are \n",
    "k\n",
    " different ways to do that. Hence, we get \n",
    "k\n",
    " estimations of the generalization performance without using our test set. This may sound abstract, so let’s take an example.\n",
    "\n",
    "This image illustrates k-fold for \n",
    "k\n",
    "=\n",
    "4\n",
    ". In this case, we split the data into four parts, and there are four different ways (four folds) to arrange these parts."
   ]
  },
  {
   "cell_type": "code",
   "execution_count": 1,
   "id": "631bfb1d-6246-4293-88bb-2cbbb967137b",
   "metadata": {},
   "outputs": [
    {
     "data": {
      "image/png": "[encoded data removed]",
      "text/plain": [
       "<IPython.core.display.Image object>"
      ]
     },
     "execution_count": 1,
     "metadata": {},
     "output_type": "execute_result"
    }
   ],
   "source": [
    "from IPython.display import Image\n",
    "Image(filename='fold.png')"
   ]
  },
  {
   "cell_type": "markdown",
   "id": "53445a7e-74ba-455a-91c4-ff3248512360",
   "metadata": {},
   "source": [
    "Each row corresponds to an arrangement of the \n",
    "k\n",
    " parts into \n",
    "(\n",
    "k\n",
    "−\n",
    "1\n",
    ")\n",
    " ones to train our estimator (in white) and one to evaluate it (in gray). Hence, we get four estimations of the generalization performance using the same data.\n",
    "\n",
    "In practice, we usually apply grid search using this k-fold cross-validation strategy. We evaluate the different combinations of hyperparameters during each fold and select the combination that performs the best in average across all folds. Note that the data in gray is sometimes called the validation set since we use it to validate our hyperparameters.\n",
    "\n",
    "#### Cross-validation with Scikit-learn\n",
    "Let’s see how to implement cross-validation"
   ]
  },
  {
   "cell_type": "code",
   "execution_count": 2,
   "id": "f3ebc6db-3a32-429c-b4d9-4fd409999f74",
   "metadata": {},
   "outputs": [],
   "source": [
    "from sklearn import datasets\n",
    "\n",
    "# Load dataset\n",
    "iris = datasets.load_iris()\n",
    "\n",
    "# Create X/y arrays\n",
    "X = iris[\"data\"]\n",
    "y = iris[\"target\"]"
   ]
  },
  {
   "cell_type": "markdown",
   "id": "7c78b258-12e1-4015-800c-7ed8cf3ece25",
   "metadata": {},
   "source": [
    "Scikit-learn implements several cross-validator objects that we can use to perform cross-validation. The KFold one implements the k-fold strategy. We can set the number of folds with the n_splits attribute."
   ]
  },
  {
   "cell_type": "code",
   "execution_count": 3,
   "id": "9cadd783-cff4-4867-ab17-7d7aefd15cb9",
   "metadata": {},
   "outputs": [],
   "source": [
    "from sklearn.model_selection import KFold\n",
    "\n",
    "# Create k-fold object\n",
    "kfold = KFold(n_splits=3)"
   ]
  },
  {
   "cell_type": "markdown",
   "id": "267b29a8-ebc9-4cca-839d-966c51a4eb6f",
   "metadata": {},
   "source": [
    "In our example, we will evaluate the generalization performance of a LogisticRegression() estimator with the one-vs.-rest (OvR) multiclass strategy. Let’s create the estimator"
   ]
  },
  {
   "cell_type": "code",
   "execution_count": 4,
   "id": "05574e58-0240-4fbc-80eb-7e41431e0d7c",
   "metadata": {},
   "outputs": [],
   "source": [
    "from sklearn.linear_model import LogisticRegression\n",
    "from sklearn.preprocessing import StandardScaler\n",
    "from sklearn.pipeline import make_pipeline\n",
    "\n",
    "# Create a logistic regression\n",
    "logreg = make_pipeline(\n",
    "    StandardScaler(), LogisticRegression(C=1000, solver=\"liblinear\", multi_class=\"ovr\")\n",
    ")"
   ]
  },
  {
   "cell_type": "markdown",
   "id": "1a22d7e0-8cdd-413e-b58c-81468832b67e",
   "metadata": {},
   "source": [
    "We can now apply cross-validation with cross_validate()"
   ]
  },
  {
   "cell_type": "code",
   "execution_count": 5,
   "id": "7881ca77-47a2-47c6-a4a8-bb469f58106d",
   "metadata": {},
   "outputs": [
    {
     "data": {
      "text/plain": [
       "dict_keys(['fit_time', 'score_time', 'test_score', 'train_score'])"
      ]
     },
     "execution_count": 5,
     "metadata": {},
     "output_type": "execute_result"
    }
   ],
   "source": [
    "from sklearn.model_selection import cross_validate\n",
    "\n",
    "# Apply cross-validation\n",
    "scores = cross_validate(logreg, X, y, cv=kfold, return_train_score=True)\n",
    "\n",
    "# The \"scores\" variable is a dictionary with the scores\n",
    "scores.keys()"
   ]
  },
  {
   "cell_type": "markdown",
   "id": "4a8039d7-9d03-4b58-8c37-f383066bb461",
   "metadata": {},
   "source": [
    "The function takes the estimator, the X/y data and our cross-validator object as arguments, and returns a dictionary with the results. Each entry is a list with one value for each fold.\n",
    "\n",
    "* fit_time - time to fit the estimator\n",
    "* score_time - time to evaluate the estimator\n",
    "* train_score - performance on the \n",
    "(\n",
    "k\n",
    "−\n",
    "1\n",
    ")\n",
    " parts to train the estimator\n",
    "* test_score - performance on the remaining “validation set”\n",
    "\n",
    "Let’s print the train/test scores"
   ]
  },
  {
   "cell_type": "code",
   "execution_count": 6,
   "id": "e063b1f8-0fc9-4630-9748-453679ef795c",
   "metadata": {},
   "outputs": [
    {
     "name": "stdout",
     "output_type": "stream",
     "text": [
      "Train scores: [0.98 1.   1.  ]\n",
      "Test scores: [0. 0. 0.]\n"
     ]
    }
   ],
   "source": [
    "print(\"Train scores:\", scores[\"train_score\"])\n",
    "print(\"Test scores:\", scores[\"test_score\"])\n"
   ]
  },
  {
   "cell_type": "markdown",
   "id": "068abf82-f89c-424c-98ce-ba01d8882bc7",
   "metadata": {},
   "source": [
    "We can see that the train scores (accuracy) are close to one, but the test scores are all zero. By default, the KFold object splits the data into k parts without shuffling. This can cause issues when the target values are ordered.\n",
    "\n",
    "In our case, there are three folds and three categories, each one with the same number of data points. Hence, each fold corresponds to one class. This means that we are always fitting the data on two of the three classes and evaluating it on the other one. Hence, its test score is always zero"
   ]
  },
  {
   "cell_type": "code",
   "execution_count": 7,
   "id": "537a64b4-a887-4121-a6ee-509ea8189c31",
   "metadata": {},
   "outputs": [
    {
     "data": {
      "text/plain": [
       "array([0, 0, 0, 0, 0, 0, 0, 0, 0, 0, 0, 0, 0, 0, 0, 0, 0, 0, 0, 0, 0, 0,\n",
       "       0, 0, 0, 0, 0, 0, 0, 0, 0, 0, 0, 0, 0, 0, 0, 0, 0, 0, 0, 0, 0, 0,\n",
       "       0, 0, 0, 0, 0, 0, 1, 1, 1, 1, 1, 1, 1, 1, 1, 1, 1, 1, 1, 1, 1, 1,\n",
       "       1, 1, 1, 1, 1, 1, 1, 1, 1, 1, 1, 1, 1, 1, 1, 1, 1, 1, 1, 1, 1, 1,\n",
       "       1, 1, 1, 1, 1, 1, 1, 1, 1, 1, 1, 1, 2, 2, 2, 2, 2, 2, 2, 2, 2, 2,\n",
       "       2, 2, 2, 2, 2, 2, 2, 2, 2, 2, 2, 2, 2, 2, 2, 2, 2, 2, 2, 2, 2, 2,\n",
       "       2, 2, 2, 2, 2, 2, 2, 2, 2, 2, 2, 2, 2, 2, 2, 2, 2, 2])"
      ]
     },
     "execution_count": 7,
     "metadata": {},
     "output_type": "execute_result"
    }
   ],
   "source": [
    "# Target variable\n",
    "y"
   ]
  },
  {
   "cell_type": "markdown",
   "id": "399c5e5c-b3df-4796-a41d-ad64d345505d",
   "metadata": {},
   "source": [
    "The KFold object provides a shuffle parameter to shuffle the data before splitting it into k parts. Note that we can set the seed number with the random_state attribute\n",
    "\n"
   ]
  },
  {
   "cell_type": "code",
   "execution_count": 8,
   "id": "5fade7f4-3a87-4e96-abc6-65bd30d606de",
   "metadata": {},
   "outputs": [],
   "source": [
    "# Create k-fold object\n",
    "kfold = KFold(n_splits=3, shuffle=True, random_state=0)"
   ]
  },
  {
   "cell_type": "markdown",
   "id": "9ae8f2c2-8726-47aa-8921-a23dbbb5fd2e",
   "metadata": {},
   "source": [
    "Let’s run the cross_validate() function with this new kfold object"
   ]
  },
  {
   "cell_type": "code",
   "execution_count": 9,
   "id": "13e551d7-27b4-4943-b6d9-415ef0bb8fa0",
   "metadata": {},
   "outputs": [
    {
     "name": "stdout",
     "output_type": "stream",
     "text": [
      "Train scores: [0.98 0.96 0.98]\n",
      "Test scores: [0.98 0.96 0.96]\n"
     ]
    }
   ],
   "source": [
    "# Apply cross-validation\n",
    "scores = cross_validate(logreg, X, y, cv=kfold, return_train_score=True)\n",
    "\n",
    "print(\"Train scores:\", scores[\"train_score\"])\n",
    "print(\"Test scores:\", scores[\"test_score\"])"
   ]
  },
  {
   "cell_type": "markdown",
   "id": "177b99e4-17b7-4cd7-938e-292d70329c4b",
   "metadata": {},
   "source": [
    "This time, we get accuracy scores around 97%.\n",
    "\n",
    "Note that we can also pass an integer value to the cv attribute. In this case, the cross_validate() function automatically creates a k-fold cross-validator object and sets its k value|m"
   ]
  },
  {
   "cell_type": "code",
   "execution_count": 11,
   "id": "33faeb36-c696-4e61-a90a-e607fabf7cf5",
   "metadata": {},
   "outputs": [
    {
     "name": "stdout",
     "output_type": "stream",
     "text": [
      "Train scores: [0.95 0.97 0.99]\n",
      "Test scores: [0.98 0.94 0.94]\n"
     ]
    }
   ],
   "source": [
    "# Apply cross-validation\n",
    "scores = cross_validate(logreg, X, y, cv=3, return_train_score=True)\n",
    "\n",
    "print(\"Train scores:\", scores[\"train_score\"])\n",
    "print(\"Test scores:\", scores[\"test_score\"])"
   ]
  },
  {
   "cell_type": "markdown",
   "id": "999c5348-2f6f-4c63-ae42-3fcac258d398",
   "metadata": {},
   "source": [
    "By default, it uses a variant of k-fold called stratified k-fold for classification tasks. This strategy ensures that none of the k parts has a category that is under- or over-represented. Hence, we get slightly different accuracy scores in the code from above.\n",
    "\n",
    "The most commonly used variants are 3, 5 or 10-fold cross-validations. Let’s use the 10-fold one to get a final generalization error estimate for our iris classifier."
   ]
  },
  {
   "cell_type": "code",
   "execution_count": 12,
   "id": "c8e24c27-d89a-4d72-96f8-15cc7eeecfbf",
   "metadata": {},
   "outputs": [
    {
     "name": "stdout",
     "output_type": "stream",
     "text": [
      "Train mean: 0.975 std: 0.008\n",
      "Test mean: 0.960 std: 0.061\n"
     ]
    }
   ],
   "source": [
    "import numpy as np\n",
    "\n",
    "# Apply cross-validation\n",
    "scores = cross_validate(logreg, X, y, cv=10, return_train_score=True)\n",
    "\n",
    "# Get train/test scores\n",
    "train_scores = scores[\"train_score\"]\n",
    "test_scores = scores[\"test_score\"]\n",
    "\n",
    "# Print summary\n",
    "print(\n",
    "    \"Train mean: {:.3f} std: {:.3f}\".format(np.mean(train_scores), np.std(train_scores))\n",
    ")\n",
    "\n",
    "print(\"Test mean: {:.3f} std: {:.3f}\".format(np.mean(test_scores), np.std(test_scores)))\n"
   ]
  },
  {
   "cell_type": "markdown",
   "id": "2bad4dee-b10f-4cf0-8ee0-f682963584bc",
   "metadata": {},
   "source": [
    "As we can see, the test accuracy is around 95% with a standard deviation of 6%.\n",
    "\n",
    "#### Shuffle split strategy\n",
    "Note that Scikit-learn implements many other cross-validation strategies. For instance, we can use the ShuffleSplit one which creates \n",
    "n\n",
    " different train/test sets by shuffling the data. It’s equivalent to applying \n",
    "n\n",
    " times the train_test_split() function. We can set \n",
    "n\n",
    " with the n_splits attribute.\n",
    "\n"
   ]
  },
  {
   "cell_type": "code",
   "execution_count": 13,
   "id": "8317f802-74b9-4cd4-bb55-6309e5d1f2c0",
   "metadata": {},
   "outputs": [
    {
     "name": "stdout",
     "output_type": "stream",
     "text": [
      "Test mean: 0.955 std: 0.052\n"
     ]
    }
   ],
   "source": [
    "from sklearn.model_selection import ShuffleSplit\n",
    "\n",
    "# Try \"shuffle split\" strategy\n",
    "cv_type = ShuffleSplit(n_splits=10, test_size=20, random_state=0)\n",
    "\n",
    "# Apply cross-validation\n",
    "scores = cross_validate(logreg, X, y, cv=cv_type, return_train_score=True)\n",
    "\n",
    "# Test scores\n",
    "test_scores = scores[\"test_score\"]\n",
    "print(\"Test mean: {:.3f} std: {:.3f}\".format(np.mean(test_scores), np.std(test_scores)))\n"
   ]
  },
  {
   "cell_type": "markdown",
   "id": "a9e3e0fb-65c5-467e-a47d-ffe13d76ae76",
   "metadata": {},
   "source": [
    "This time, we get an average test accuracy of 95.5% and a standard deviation of 5.2%.\n",
    "\n",
    "To get the complete list of cross-validation strategies implemented in Scikit-learn, you can check the Cross validation iterators guide.\n",
    "\n",
    "#### Summary\n",
    "In this unit, we learned about cross-validation and saw how to implement it with cross_validate(). In the next unit, we will see how to combine cross-validation and grid search together with GridSearchCV.\n",
    "\n"
   ]
  }
 ],
 "metadata": {
  "kernelspec": {
   "display_name": "Python [conda env:adsml] *",
   "language": "python",
   "name": "conda-env-adsml-py"
  },
  "language_info": {
   "codemirror_mode": {
    "name": "ipython",
    "version": 3
   },
   "file_extension": ".py",
   "mimetype": "text/x-python",
   "name": "python",
   "nbconvert_exporter": "python",
   "pygments_lexer": "ipython3",
   "version": "3.9.7"
  }
 },
 "nbformat": 4,
 "nbformat_minor": 5
}
