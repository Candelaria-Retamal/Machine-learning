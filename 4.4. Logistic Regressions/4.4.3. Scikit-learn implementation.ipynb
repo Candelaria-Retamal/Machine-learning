{
 "cells": [
  {
   "cell_type": "markdown",
   "id": "3ebe5924-e06c-49fd-876d-63384438713c",
   "metadata": {},
   "source": [
    "#### Scikit-learn implementation"
   ]
  },
  {
   "cell_type": "markdown",
   "id": "bf7cc72d-91f2-4ac9-b23b-c65a5f7ecbbc",
   "metadata": {},
   "source": [
    "In this unit, we will see how to perform multiclass classification with the LogisticRegression estimator from Scikit-learn. We will try both the one-vs.-rest (OvR) strategy and the softmax regression model. Again, we will use the iris dataset, but this time, we will create a classifier for the three types of iris flowers.\n",
    "\n",
    "#### Iris dataset (multiclass)\n",
    "Let’s start by loading the dataset\n",
    "\n"
   ]
  },
  {
   "cell_type": "code",
   "execution_count": 1,
   "id": "4cdc4783-1b6f-4030-8fed-6c43b9152b83",
   "metadata": {},
   "outputs": [],
   "source": [
    "from sklearn import datasets\n",
    "\n",
    "# Load dataset\n",
    "iris = datasets.load_iris()\n",
    "\n",
    "# Create X/y arrays\n",
    "X = iris['data'][:, [2, 3]] # Keep only petal features\n",
    "y = iris['target']"
   ]
  },
  {
   "cell_type": "markdown",
   "id": "e3803cc8-f6b6-44f5-8def-f029b85e05a4",
   "metadata": {},
   "source": [
    "Again, we keep only the petal features (petal length and width) which correspond to columns with index 2 and 3 in the data attribute.\n",
    "\n",
    "Let’s plot the data. We will use one color for each class"
   ]
  },
  {
   "cell_type": "code",
   "execution_count": 2,
   "id": "46cbe0ad-5095-4626-9b67-061a16473b9d",
   "metadata": {},
   "outputs": [
    {
     "data": {
      "image/png": "[encoded data removed]",
      "text/plain": [
       "<Figure size 432x288 with 1 Axes>"
      ]
     },
     "metadata": {
      "needs_background": "light"
     },
     "output_type": "display_data"
    }
   ],
   "source": [
    "%matplotlib inline\n",
    "import matplotlib.pyplot as plt\n",
    "\n",
    "# Plot data\n",
    "setosa_idx = (y == 0) # Setosa points\n",
    "versicolor_idx = (y == 1) # Versicolor points\n",
    "virginica_idx = (y==2) # Virginica points\n",
    "\n",
    "plt.scatter(X[:, 0][setosa_idx], X[:, 1][setosa_idx], c='C3', label='setosa')\n",
    "plt.scatter(X[:, 0][versicolor_idx], X[:, 1][versicolor_idx], c='C2', label='versicolor')\n",
    "plt.scatter(X[:, 0][virginica_idx], X[:, 1][virginica_idx], c='C0', label='virginica')\n",
    "\n",
    "# Set labels\n",
    "plt.xlabel('petal length (cm)')\n",
    "plt.ylabel('petal width (cm)')\n",
    "plt.legend()\n",
    "plt.show()"
   ]
  },
  {
   "cell_type": "markdown",
   "id": "4ce94d44-235b-462f-b9cf-61f86434e8ff",
   "metadata": {},
   "source": [
    "Again, we will use the train/test set methodology to evaluate our classifier\n",
    "\n"
   ]
  },
  {
   "cell_type": "code",
   "execution_count": 3,
   "id": "cde6919f-0cb8-45c2-b241-e69bd37515b8",
   "metadata": {},
   "outputs": [],
   "source": [
    "from sklearn.model_selection import train_test_split\n",
    "\n",
    "# Split into train/test sets\n",
    "X_tr, X_te, y_tr, y_te = train_test_split(\n",
    "    X, y, test_size=0.3, random_state=0)"
   ]
  },
  {
   "cell_type": "markdown",
   "id": "128012c8-3d27-4e24-be30-8685748521f2",
   "metadata": {},
   "source": [
    "Let’s build a logistic regression model using the OvR strategy.\n",
    "\n",
    "#### Multiclass logistic regression with OvR\n",
    "By default, the LogisticRegression estimator uses the one-vs.-rest (OvR) strategy for multiclass classification in all Scikit-learn versions prior to version 0.22. The later versions use softmax regression by default."
   ]
  },
  {
   "cell_type": "code",
   "execution_count": 4,
   "id": "e8b80b88-c775-40f2-b7df-dda2de91b53d",
   "metadata": {},
   "outputs": [
    {
     "name": "stdout",
     "output_type": "stream",
     "text": [
      "Accuracy: 0.800\n"
     ]
    }
   ],
   "source": [
    "from sklearn.linear_model import LogisticRegression\n",
    "from sklearn.preprocessing import StandardScaler\n",
    "from sklearn.pipeline import make_pipeline\n",
    "\n",
    "# Create the estimator\n",
    "logreg = make_pipeline(\n",
    "    StandardScaler(), LogisticRegression(multi_class='ovr', solver='liblinear'))\n",
    "\n",
    "# Fit it to train data\n",
    "logreg.fit(X_tr, y_tr)\n",
    "\n",
    "# Accuracy on test set\n",
    "accuracy = logreg.score(X_te, y_te)\n",
    "print('Accuracy: {:.3f}'.format(accuracy))"
   ]
  },
  {
   "cell_type": "markdown",
   "id": "2f5b37d6-3caa-4a0a-b8c2-3dbf834af6a7",
   "metadata": {},
   "source": [
    "In this code, we create the classifier, fit it to the train data and evaluate it on the test set. We get an accuracy around 80%. We can see on the plot from above that each category occupies a different region. The separation between versicolor and virginica flowers is not entirely clear, but we should be able to create a classifier with an accuracy close to 100%.\n",
    "\n",
    "The issue comes from the regularization term. By default, Scikit-learn adds an \n",
    "L\n",
    "2\n",
    " term to the loss function of the logistic model. In our case, the regularization strength is too large and our model is underfitting. It’s not possible to remove this regularization term from the LogisticRegression object, but we can reduce its impact with the C parameter which is the inverse of the regularization strength."
   ]
  },
  {
   "cell_type": "code",
   "execution_count": 5,
   "id": "f7b54bd6-e662-4753-936a-1ce9b8072833",
   "metadata": {},
   "outputs": [
    {
     "name": "stdout",
     "output_type": "stream",
     "text": [
      "Accuracy: 0.978\n"
     ]
    }
   ],
   "source": [
    "# Create the estimator\n",
    "logreg = make_pipeline(\n",
    "    # C: inverse of regularization strength\n",
    "    StandardScaler(), LogisticRegression(C=1000, multi_class='ovr', solver='liblinear'))\n",
    "\n",
    "# Fit it to train data\n",
    "logreg.fit(X_tr, y_tr)\n",
    "\n",
    "# Accuracy on test set\n",
    "accuracy = logreg.score(X_te, y_te)\n",
    "print('Accuracy: {:.3f}'.format(accuracy))"
   ]
  },
  {
   "cell_type": "markdown",
   "id": "d7dd5fb0-11cb-414b-b7f7-c2145db0269a",
   "metadata": {},
   "source": [
    "Some estimators from Scikit-learn such as RidgeRegression provide an alpha parameter and others provide the C one. In fact, these parameters are two alternative ways to think about regularization. In the previous course, we saw that we can control the regularization strength by multiplying the penalization term with an \n",
    "α\n",
    " parameter\n",
    "\n",
    "loss\n",
    "+\n",
    "α\n",
    "∗\n",
    "penalization\n",
    "Alternatively, we can control the weight of the loss function by multiplying it by a \n",
    "C\n",
    " parameter\n",
    "\n",
    "C\n",
    "∗\n",
    "loss\n",
    "+\n",
    "penalization\n",
    "In this second formulation, \n",
    "C\n",
    " controls the weight of the loss function. In the code from above, we set it to a thousand which means that the penalization term has a small impact on the overall loss value, and we get an accuracy around 98%.\n",
    "\n",
    "We can now use our logreg estimator to classify new data points."
   ]
  },
  {
   "cell_type": "code",
   "execution_count": 6,
   "id": "5d4bbeb6-a831-4cab-9c89-aef952df74f9",
   "metadata": {},
   "outputs": [
    {
     "data": {
      "text/plain": [
       "array([[8.62023737e-08, 5.51329272e-01, 4.48670642e-01]])"
      ]
     },
     "execution_count": 6,
     "metadata": {},
     "output_type": "execute_result"
    }
   ],
   "source": [
    "# New flower\n",
    "new_flower = [\n",
    "    5, # petal length (cm)\n",
    "    1.5, # petal width (cm)\n",
    "]\n",
    "\n",
    "# Predict probabilities\n",
    "logreg.predict_proba([new_flower])"
   ]
  },
  {
   "cell_type": "markdown",
   "id": "4409df89-6654-4eda-a2a3-11d28aac76b6",
   "metadata": {},
   "source": [
    "n the OvR strategy, there is a classifier for each class that estimates the probability that new data points belongs to it. In this code, the predict_proba() function returns these probabilities normalized such that they sum to one. For instance, if our three classifiers return \n",
    "p\n",
    "1\n",
    "=\n",
    "0.5\n",
    ", \n",
    "p\n",
    "2\n",
    "=\n",
    "0.5\n",
    " and \n",
    "p\n",
    "3\n",
    "=\n",
    "1\n",
    ", then the function will return [0.25, 0.25, 0.5].\n",
    "\n",
    "In our example, the second category has the largest probability with \n",
    "p\n",
    "=\n",
    "0.55\n",
    " and the point is classified as a versicolor iris flower. We can verify that using the predict() function\n",
    "\n"
   ]
  },
  {
   "cell_type": "code",
   "execution_count": 7,
   "id": "69f8bfe4-dd21-4f91-bd82-f08a7ff28061",
   "metadata": {},
   "outputs": [
    {
     "data": {
      "text/plain": [
       "array([1])"
      ]
     },
     "execution_count": 7,
     "metadata": {},
     "output_type": "execute_result"
    }
   ],
   "source": [
    "# Predict class with highest probability\n",
    "logreg.predict([new_flower])"
   ]
  },
  {
   "cell_type": "markdown",
   "id": "ffc13aac-d6be-48d6-b78a-e40ac347e94e",
   "metadata": {},
   "source": [
    "In this case, it returns 1 which is the numerical label of the versicolor category in the target vector.\n",
    "\n",
    "We can use the predict() function to plot the decision boundaries of our classifier. To achieve this, we implemented a decision_boundaries(X, y, logreg) function in the annex below. In short, it generates a grid of values in the range of our X/y data and predicts their labels using the predict() function from our logreg estimator.\n",
    "\n"
   ]
  },
  {
   "cell_type": "code",
   "execution_count": 11,
   "id": "b78ba6cb-9a47-4f98-8d02-4d60ded97814",
   "metadata": {},
   "outputs": [
    {
     "data": {
      "image/png": "[encoded data removed]",
      "text/plain": [
       "<Figure size 432x288 with 1 Axes>"
      ]
     },
     "metadata": {
      "needs_background": "light"
     },
     "output_type": "display_data"
    }
   ],
   "source": [
    "import numpy as np\n",
    "\n",
    "# Helper function\n",
    "def decision_boundaries(ax, X, y, logreg):\n",
    "    # Plot data\n",
    "    setosa_idx = (y == 0) # Setosa points\n",
    "    versicolor_idx = (y == 1) # Versicolor points\n",
    "    virginica_idx = (y==2) # Virginica points\n",
    "\n",
    "    plt.scatter(X[:, 0][setosa_idx], X[:, 1][setosa_idx], c='C3', label='setosa')\n",
    "    plt.scatter(X[:, 0][versicolor_idx], X[:, 1][versicolor_idx], c='C2', label='versicolor')\n",
    "    plt.scatter(X[:, 0][virginica_idx], X[:, 1][virginica_idx], c='C0', label='virginica')\n",
    "\n",
    "    # Create a grid of values\n",
    "    xlim, ylim = ax.get_xlim(), ax.get_ylim()\n",
    "    xpoints = np.linspace(*xlim, num=1000)\n",
    "    ypoints = np.linspace(*ylim, num=1000)\n",
    "    xx, yy = np.meshgrid(xpoints, ypoints)\n",
    "\n",
    "    # Compute predictions\n",
    "    preds = logreg.predict(np.c_[xx.flatten(), yy.flatten()])\n",
    "\n",
    "    # Plot boundaries between classes 1-2 and 2-3\n",
    "    zz = preds.reshape(xx.shape)\n",
    "    plt.contour(xx, yy, zz, levels=[0.5, 1.5],\n",
    "                colors=['C3', 'C0'], linestyles='dashed')\n",
    "\n",
    "    # Add labels\n",
    "    plt.xlabel('petal length (cm)')\n",
    "    plt.ylabel('petal width (cm)')\n",
    "    plt.legend(loc='lower right')\n",
    "    plt.show()\n",
    "\n",
    "# Plot boundaries\n",
    "fig = plt.figure()\n",
    "decision_boundaries(fig.gca(), X, y, logreg)"
   ]
  },
  {
   "cell_type": "markdown",
   "id": "6450c35e-02c8-4f0a-a19e-4d7f5bfa72d0",
   "metadata": {},
   "source": [
    "The decision_boundaries() function plots one line for each decision boundary. The first one in blue separates the points in the grid labeled with a 0 (setosa) from the ones labeled with a 1 (versicolor), and the second one in red separates labels 1 and 2 (virginica).\n",
    "\n",
    "#### Softmax regression\n",
    "It’s also possible to use softmax regression, also known as multinomial logistic regression, with LogisticRegression by setting the multi_class parameter to multinomial. So far, we used liblinear to fit our logistic regressions. However, this solver doesn’t support the softmax variant"
   ]
  },
  {
   "cell_type": "code",
   "execution_count": 12,
   "id": "53f79fca-2c18-49a0-a92b-3f4d4ee6575c",
   "metadata": {},
   "outputs": [
    {
     "name": "stdout",
     "output_type": "stream",
     "text": [
      "Solver liblinear does not support a multinomial backend.\n"
     ]
    }
   ],
   "source": [
    "# Create the estimator\n",
    "logreg = make_pipeline(\n",
    "    StandardScaler(), LogisticRegression(multi_class='multinomial', solver='liblinear'))\n",
    "\n",
    "# Fit it to train data\n",
    "try:\n",
    "    logreg.fit(X_tr, y_tr)\n",
    "except Exception as e:\n",
    "    print(e) # Solver liblinear does not support a multinomial backend."
   ]
  },
  {
   "cell_type": "markdown",
   "id": "788180bd-e064-406e-98a0-5ccf68b0a68b",
   "metadata": {},
   "source": [
    "To see what are the functionalities supported by each solver, you can refer to the Solvers Table in the Logistic regression guide. For instance, you can see that saga (Stochastic Average Gradient descent) supports both OVR and multinomial classification.\n",
    "\n",
    "Let’s use it for our iris classifier\n",
    "\n"
   ]
  },
  {
   "cell_type": "code",
   "execution_count": 13,
   "id": "d4ede4b2-e92e-4e1a-a469-63b5fd392155",
   "metadata": {},
   "outputs": [
    {
     "name": "stdout",
     "output_type": "stream",
     "text": [
      "Accuracy: 0.956\n"
     ]
    }
   ],
   "source": [
    "# Create the estimator\n",
    "logreg = make_pipeline(\n",
    "    StandardScaler(), LogisticRegression(multi_class='multinomial', solver='saga'))\n",
    "\n",
    "# Fit it to train data\n",
    "logreg.fit(X_tr, y_tr)\n",
    "\n",
    "# Accuracy on test set\n",
    "accuracy = logreg.score(X_te, y_te)\n",
    "print('Accuracy: {:.3f}'.format(accuracy)) # Prints: 0.956"
   ]
  },
  {
   "cell_type": "markdown",
   "id": "86d46670-62a4-4fc4-b487-52c426cd250a",
   "metadata": {},
   "source": [
    "This time, we get an accuracy around 96% which is a bit lower than with the OvR strategy from above. Again, we can plot the decision boundaries with the decision_boundaries() function\n",
    "\n"
   ]
  },
  {
   "cell_type": "code",
   "execution_count": 14,
   "id": "bddbd1fe-f6a8-4b94-8705-862ed1ba7314",
   "metadata": {},
   "outputs": [
    {
     "data": {
      "image/png": "[encoded data removed]",
      "text/plain": [
       "<Figure size 432x288 with 1 Axes>"
      ]
     },
     "metadata": {
      "needs_background": "light"
     },
     "output_type": "display_data"
    }
   ],
   "source": [
    "# Plot boundaries\n",
    "fig = plt.figure()\n",
    "decision_boundaries(fig.gca(), X, y, logreg)"
   ]
  },
  {
   "cell_type": "markdown",
   "id": "f580890f-9411-4ac5-b999-c5a97b444d48",
   "metadata": {},
   "source": [
    "Let’s try to decrease the regularization by increasing C\n",
    "\n"
   ]
  },
  {
   "cell_type": "code",
   "execution_count": 15,
   "id": "261eef18-15f6-4d8e-8a62-c4673eddad6f",
   "metadata": {},
   "outputs": [
    {
     "name": "stdout",
     "output_type": "stream",
     "text": [
      "Accuracy: 0.978\n"
     ]
    }
   ],
   "source": [
    "# Create the estimator\n",
    "logreg = make_pipeline(\n",
    "    StandardScaler(), LogisticRegression(C=10, multi_class='multinomial', solver='saga'))\n",
    "\n",
    "# Fit it to train data\n",
    "logreg.fit(X_tr, y_tr)\n",
    "\n",
    "# Accuracy on test set\n",
    "accuracy = logreg.score(X_te, y_te)\n",
    "print('Accuracy: {:.3f}'.format(accuracy))"
   ]
  },
  {
   "cell_type": "markdown",
   "id": "8c5eb4ea-a4e6-4b11-a293-989d7732585e",
   "metadata": {},
   "source": [
    "This time, we get an accuracy around 98% and slightly different the decision boundaries\n",
    "\n"
   ]
  },
  {
   "cell_type": "code",
   "execution_count": 16,
   "id": "1359e542-b05d-48df-ad46-f67ae66e6d21",
   "metadata": {},
   "outputs": [
    {
     "data": {
      "image/png": "[encoded data removed]",
      "text/plain": [
       "<Figure size 432x288 with 1 Axes>"
      ]
     },
     "metadata": {
      "needs_background": "light"
     },
     "output_type": "display_data"
    }
   ],
   "source": [
    "# Plot boundaries\n",
    "fig = plt.figure()\n",
    "decision_boundaries(fig.gca(), X, y, logreg)"
   ]
  },
  {
   "cell_type": "markdown",
   "id": "efa6557b-1352-40f5-b834-95ea56c7573c",
   "metadata": {},
   "source": [
    "#### Summary\n",
    "Let’s summarize what we’ve learned in this unit. Here are a few takeaways.\n",
    "\n",
    "In Scikit-learn (versions prior to 0.22), LogisticRegression uses OvR for multiclass classification by default. In later versions, softmax regression is the default option\n",
    "By default, LogisticRegression adds an \n",
    "L\n",
    "2\n",
    " penalization term. We can control its weight with the C parameter\n",
    "In Scikit-learn (versions prior to 0.22), the default solver for LogisticRegression is liblinear which doesn’t support softmax regression, but we can manually change the solver to saga for example. In later versions, the default solver supports softmax regression\n",
    "The last two estimators from above have very similar decision boundaries, but they give slightly different results (96% and 98% accuracy). In fact, these numbers also depend on the train/test sets which makes them difficult to interpret. In the next unit, we will see how to give more accurate performance estimations using cross-validation."
   ]
  },
  {
   "cell_type": "markdown",
   "id": "27b8aaf7-6673-4e70-a16f-1e28f19e8fe7",
   "metadata": {},
   "source": [
    "#### Annex - Plot the decision boundaries\n",
    "We provide a decision_boundaries() function below to plot the decision boundaries for the multiclass iris dataset.\n",
    "\n",
    "The function is very similar to the decision_surface() one from the unit about logistic regressions. This time, we generate a grid of 1,000 by 1,000 petal length/width values (a million data points) in the range of the data in the input matrix X. Then, we predict the classes using the predict() function from the logreg estimator. Finally, we plot the decision boundaries using the contour() function from Pyplot."
   ]
  },
  {
   "cell_type": "code",
   "execution_count": null,
   "id": "17b777d3-f486-4592-ac0f-e14ecb37c979",
   "metadata": {},
   "outputs": [],
   "source": []
  }
 ],
 "metadata": {
  "kernelspec": {
   "display_name": "Python [conda env:adsml] *",
   "language": "python",
   "name": "conda-env-adsml-py"
  },
  "language_info": {
   "codemirror_mode": {
    "name": "ipython",
    "version": 3
   },
   "file_extension": ".py",
   "mimetype": "text/x-python",
   "name": "python",
   "nbconvert_exporter": "python",
   "pygments_lexer": "ipython3",
   "version": "3.9.7"
  }
 },
 "nbformat": 4,
 "nbformat_minor": 5
}
