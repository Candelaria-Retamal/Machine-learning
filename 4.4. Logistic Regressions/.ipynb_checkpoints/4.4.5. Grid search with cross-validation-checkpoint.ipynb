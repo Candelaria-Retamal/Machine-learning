{
 "cells": [
  {
   "cell_type": "markdown",
   "id": "bd3f2ac1-33da-41bd-80eb-e8f647a800ef",
   "metadata": {},
   "source": [
    "#### Grid search with cross-validation"
   ]
  },
  {
   "cell_type": "markdown",
   "id": "4f545da0-61c3-4058-8c79-c0d1b3bfcf91",
   "metadata": {},
   "source": [
    "In the previous unit, we used cross-validation to compute a more accurate estimation of the generalization performance. In practice, we usually combine cross-validation with grid search to tune hyperparameters without using the final test set. Let’s see how.\n",
    "\n",
    "#### Grid search with cross-validation\n",
    "In this unit, we will tune a logistic regression estimator for the iris data.\n",
    "\n"
   ]
  },
  {
   "cell_type": "code",
   "execution_count": 1,
   "id": "e55e9541-0d9e-4348-8ba6-e479031999be",
   "metadata": {},
   "outputs": [],
   "source": [
    "from sklearn.linear_model import LogisticRegression\n",
    "from sklearn.preprocessing import StandardScaler\n",
    "from sklearn.pipeline import Pipeline\n",
    "\n",
    "# Create pipeline\n",
    "pipe = Pipeline(\n",
    "    [\n",
    "        (\"scaler\", StandardScaler()),\n",
    "        (\"logreg\", LogisticRegression(multi_class=\"ovr\", solver=\"liblinear\")),\n",
    "    ]\n",
    ")"
   ]
  },
  {
   "cell_type": "markdown",
   "id": "25857754-aeaa-40ce-ae83-4ff8b14cb08d",
   "metadata": {},
   "source": [
    "We saw in the last units that the LogisticRegression object has a C regularization parameter. We could split our data into train/test sets and use grid search to find the best value. However, this isn’t optimal as we are using the test set to “tune” C - ideally, we should leave the test data out of any training loop and only use it at the end to have a final test estimation on new/unseen data points.\n",
    "\n",
    "One solution is to further split the train set into a smaller train and validation ones. The idea is to use the small train set to fit the different estimators with varying C values, use the validation one to compare them and finally, pick the best performing value C*, refit the tuned estimator to the entire train set and compute a final test error estimation with the test set.\n",
    "\n",
    "This simple train/validation/test sets strategy works well when we have a lot of data and we will use it to tune our deep learning models or other computationally costly models at the end of the course. However, it’s possible to do better: instead of splitting the data into a single train/validation pair to estimate the generalization error of the different hyperparameter combinations, we can use cross-validation which has two advantages\n",
    "\n",
    "* It returns better estimates since we perform evaluation several times\n",
    "* All the training data is being used i.e. validation data is reused as training data across different folds\n",
    "\n",
    "It’s important to note that cross-validation is also more computationally costly, we perform the fit/eval loop several times. For this reason, we typically keep the simple train/valid/test set strategy for computationally costly models when we have enough data.\n",
    "\n",
    "#### Scikit-learn GridSearchCV\n",
    "Scikit-learn provides a GridSearchCV object to perform grid search with cross-validation. The object takes the estimator, a grid of parameters and the cross-validator object."
   ]
  },
  {
   "cell_type": "code",
   "execution_count": 2,
   "id": "40659d34-83f4-4680-8b00-d434d01bc1cb",
   "metadata": {},
   "outputs": [],
   "source": [
    "from sklearn.model_selection import GridSearchCV\n",
    "import numpy as np\n",
    "\n",
    "# Create cross-validation object\n",
    "grid = {\"logreg__C\": np.logspace(-4, 4, num=10)}\n",
    "grid_cv = GridSearchCV(pipe, grid, cv=5, return_train_score=True)"
   ]
  },
  {
   "cell_type": "markdown",
   "id": "93014eb5-e0bc-4067-bea4-15c541d40a1c",
   "metadata": {},
   "source": [
    "In this case, we pass ten C values on a log scale between 10^(-4) and 10^4 and set the cv strategy to 5-fold cross-validation (stratified by default for classification tasks).\n",
    "\n"
   ]
  },
  {
   "cell_type": "markdown",
   "id": "9ff5e3bf-db6d-4d48-8fd6-a324a15ddd0b",
   "metadata": {},
   "source": [
    "Running a cross-validation on top of a grid search can computationally be very demanding on your system. Under certain conditions, this might lead to a “never ending” model fit. To better understand what is happening, and to see how quickly the model fit progresses, GridSearchCV (as many other Python functions) offers the verbose=1 parameter. Setting verbose to 1, will tell you how many grid points the model needs to compute and how long it takes for each.\n",
    "\n",
    "Additionally, a potential strategy to speed up GridSearchCV is to use the n_jobs parameter. n_jobs allows your computer to run the grid search in parallel, if possible. Using n_jobs=-1 will allow your computer to run as many parallel jobs as possible (which depends on your CPU). Keep in mind, on some machines n_jobs=-1 might also lead to “never ending” computation cycles. In this case, we recommend to set n_jobs to a specific value, such as 2, 4 or 8."
   ]
  },
  {
   "cell_type": "markdown",
   "id": "cc15a85d-169e-4abc-8025-4ea7e643cf4d",
   "metadata": {},
   "source": [
    "We can now use grid_cv as a standard Scikit-learn estimator. Let’s fit it to the iris data\n",
    "\n"
   ]
  },
  {
   "cell_type": "code",
   "execution_count": 3,
   "id": "0a0e0d4d-de23-4c92-a4fc-f70a5b4216b8",
   "metadata": {},
   "outputs": [
    {
     "data": {
      "text/plain": [
       "dict_keys(['mean_fit_time', 'std_fit_time', 'mean_score_time', 'std_score_time', 'param_logreg__C', 'params', 'split0_test_score', 'split1_test_score', 'split2_test_score', 'split3_test_score', 'split4_test_score', 'mean_test_score', 'std_test_score', 'rank_test_score', 'split0_train_score', 'split1_train_score', 'split2_train_score', 'split3_train_score', 'split4_train_score', 'mean_train_score', 'std_train_score'])"
      ]
     },
     "execution_count": 3,
     "metadata": {},
     "output_type": "execute_result"
    }
   ],
   "source": [
    "from sklearn import datasets\n",
    "\n",
    "# Load dataset\n",
    "iris = datasets.load_iris()\n",
    "\n",
    "# Create X/y arrays\n",
    "X = iris[\"data\"]\n",
    "y = iris[\"target\"]\n",
    "\n",
    "# Fit estimator\n",
    "grid_cv.fit(X, y)\n",
    "\n",
    "# Get the results with \"cv_results_\"\n",
    "grid_cv.cv_results_.keys()"
   ]
  },
  {
   "cell_type": "markdown",
   "id": "9001fc88-57b2-4edf-86c4-72a6fc468a94",
   "metadata": {},
   "source": [
    "The cross-validation results are stored in a cv_results_ dictionary attribute. In particular, the mean_train_score and mean_test_score entries contain the mean scores on the train and validation sets for each combination of hyperparameters"
   ]
  },
  {
   "cell_type": "code",
   "execution_count": 4,
   "id": "1929f7af-42fe-4cbc-94d2-04aad7c4a4a5",
   "metadata": {},
   "outputs": [
    {
     "data": {
      "text/plain": [
       "array([0.8       , 0.81333333, 0.82      , 0.82666667, 0.86      ,\n",
       "       0.92      , 0.95333333, 0.96      , 0.96      , 0.96      ])"
      ]
     },
     "execution_count": 4,
     "metadata": {},
     "output_type": "execute_result"
    }
   ],
   "source": [
    "# Mean test scores\n",
    "grid_cv.cv_results_[\"mean_test_score\"]"
   ]
  },
  {
   "cell_type": "markdown",
   "id": "da090f03-920b-4c1f-9a04-f89043a91a55",
   "metadata": {},
   "source": [
    "In this case, the largest C values (small regularization strengths) have the best test accuracy.\n",
    "\n",
    "Let’s use a Pandas DataFrame to better visualize the cv_results_\n",
    "\n"
   ]
  },
  {
   "cell_type": "code",
   "execution_count": 5,
   "id": "45c6e6c0-45ad-417c-8bee-c02dc3b84580",
   "metadata": {},
   "outputs": [
    {
     "data": {
      "text/html": [
       "<div>\n",
       "<style scoped>\n",
       "    .dataframe tbody tr th:only-of-type {\n",
       "        vertical-align: middle;\n",
       "    }\n",
       "\n",
       "    .dataframe tbody tr th {\n",
       "        vertical-align: top;\n",
       "    }\n",
       "\n",
       "    .dataframe thead th {\n",
       "        text-align: right;\n",
       "    }\n",
       "</style>\n",
       "<table border=\"1\" class=\"dataframe\">\n",
       "  <thead>\n",
       "    <tr style=\"text-align: right;\">\n",
       "      <th></th>\n",
       "      <th>mean_test_score</th>\n",
       "      <th>std_test_score</th>\n",
       "      <th>mean_train_score</th>\n",
       "      <th>std_train_score</th>\n",
       "      <th>param_logreg__C</th>\n",
       "    </tr>\n",
       "  </thead>\n",
       "  <tbody>\n",
       "    <tr>\n",
       "      <th>7</th>\n",
       "      <td>0.960000</td>\n",
       "      <td>0.024944</td>\n",
       "      <td>0.966667</td>\n",
       "      <td>0.011785</td>\n",
       "      <td>166.810054</td>\n",
       "    </tr>\n",
       "    <tr>\n",
       "      <th>8</th>\n",
       "      <td>0.960000</td>\n",
       "      <td>0.024944</td>\n",
       "      <td>0.975000</td>\n",
       "      <td>0.010541</td>\n",
       "      <td>1291.549665</td>\n",
       "    </tr>\n",
       "    <tr>\n",
       "      <th>9</th>\n",
       "      <td>0.960000</td>\n",
       "      <td>0.024944</td>\n",
       "      <td>0.976667</td>\n",
       "      <td>0.013333</td>\n",
       "      <td>10000.0</td>\n",
       "    </tr>\n",
       "    <tr>\n",
       "      <th>6</th>\n",
       "      <td>0.953333</td>\n",
       "      <td>0.033993</td>\n",
       "      <td>0.963333</td>\n",
       "      <td>0.006667</td>\n",
       "      <td>21.544347</td>\n",
       "    </tr>\n",
       "    <tr>\n",
       "      <th>5</th>\n",
       "      <td>0.920000</td>\n",
       "      <td>0.061824</td>\n",
       "      <td>0.948333</td>\n",
       "      <td>0.011055</td>\n",
       "      <td>2.782559</td>\n",
       "    </tr>\n",
       "    <tr>\n",
       "      <th>4</th>\n",
       "      <td>0.860000</td>\n",
       "      <td>0.061101</td>\n",
       "      <td>0.881667</td>\n",
       "      <td>0.009718</td>\n",
       "      <td>0.359381</td>\n",
       "    </tr>\n",
       "    <tr>\n",
       "      <th>3</th>\n",
       "      <td>0.826667</td>\n",
       "      <td>0.057349</td>\n",
       "      <td>0.835000</td>\n",
       "      <td>0.015275</td>\n",
       "      <td>0.046416</td>\n",
       "    </tr>\n",
       "    <tr>\n",
       "      <th>2</th>\n",
       "      <td>0.820000</td>\n",
       "      <td>0.080554</td>\n",
       "      <td>0.821667</td>\n",
       "      <td>0.020138</td>\n",
       "      <td>0.005995</td>\n",
       "    </tr>\n",
       "    <tr>\n",
       "      <th>1</th>\n",
       "      <td>0.813333</td>\n",
       "      <td>0.077746</td>\n",
       "      <td>0.808333</td>\n",
       "      <td>0.018257</td>\n",
       "      <td>0.000774</td>\n",
       "    </tr>\n",
       "    <tr>\n",
       "      <th>0</th>\n",
       "      <td>0.800000</td>\n",
       "      <td>0.066667</td>\n",
       "      <td>0.803333</td>\n",
       "      <td>0.017159</td>\n",
       "      <td>0.0001</td>\n",
       "    </tr>\n",
       "  </tbody>\n",
       "</table>\n",
       "</div>"
      ],
      "text/plain": [
       "   mean_test_score  std_test_score  mean_train_score  std_train_score  \\\n",
       "7         0.960000        0.024944          0.966667         0.011785   \n",
       "8         0.960000        0.024944          0.975000         0.010541   \n",
       "9         0.960000        0.024944          0.976667         0.013333   \n",
       "6         0.953333        0.033993          0.963333         0.006667   \n",
       "5         0.920000        0.061824          0.948333         0.011055   \n",
       "4         0.860000        0.061101          0.881667         0.009718   \n",
       "3         0.826667        0.057349          0.835000         0.015275   \n",
       "2         0.820000        0.080554          0.821667         0.020138   \n",
       "1         0.813333        0.077746          0.808333         0.018257   \n",
       "0         0.800000        0.066667          0.803333         0.017159   \n",
       "\n",
       "  param_logreg__C  \n",
       "7      166.810054  \n",
       "8     1291.549665  \n",
       "9         10000.0  \n",
       "6       21.544347  \n",
       "5        2.782559  \n",
       "4        0.359381  \n",
       "3        0.046416  \n",
       "2        0.005995  \n",
       "1        0.000774  \n",
       "0          0.0001  "
      ]
     },
     "execution_count": 5,
     "metadata": {},
     "output_type": "execute_result"
    }
   ],
   "source": [
    "import pandas as pd\n",
    "\n",
    "# Collect results in a DataFrame\n",
    "cv_results = pd.DataFrame(grid_cv.cv_results_)\n",
    "\n",
    "# Print a few interesting columns\n",
    "cols = [\n",
    "    \"mean_test_score\",\n",
    "    \"std_test_score\",\n",
    "    \"mean_train_score\",\n",
    "    \"std_train_score\",\n",
    "    \"param_logreg__C\",\n",
    "]\n",
    "cv_results[cols].sort_values(\"mean_test_score\", ascending=False)"
   ]
  },
  {
   "cell_type": "markdown",
   "id": "fcf661ad-2a50-45ae-a678-7aa660d0e480",
   "metadata": {},
   "source": [
    "We will focus on a subset of the columns. Note that hyperparameter values are prefixed by param_ and then the parameter name. In our case, param_logreg__C i.e. the C parameter of the logreg step from our pipeline\n",
    "\n",
    "The top mean test scores are around 96% with a standard deviation between 2-3%. Let’s plot the training and validation curves to better see the effect of C."
   ]
  },
  {
   "cell_type": "code",
   "execution_count": 6,
   "id": "a4e6923f-df28-41f8-8bc6-18b975c76b77",
   "metadata": {},
   "outputs": [
    {
     "data": {
      "image/png": "[encoded data removed]",
      "text/plain": [
       "<Figure size 432x288 with 1 Axes>"
      ]
     },
     "metadata": {
      "needs_background": "light"
     },
     "output_type": "display_data"
    }
   ],
   "source": [
    "%matplotlib inline\n",
    "import matplotlib.pyplot as plt\n",
    "\n",
    "# Plot training/validation accuracy curves\n",
    "plt.semilogx(cv_results[\"param_logreg__C\"], cv_results[\"mean_train_score\"], label='training accuracy')\n",
    "plt.semilogx(cv_results[\"param_logreg__C\"], cv_results[\"mean_test_score\"],  label='validation accuracy')\n",
    "plt.xlabel('Regularization strength (C)')\n",
    "plt.ylabel('Accuracy')\n",
    "plt.title(\"Evolution of training/validation accuracy with $C$\")\n",
    "plt.legend()\n",
    "plt.show()"
   ]
  },
  {
   "cell_type": "markdown",
   "id": "924e3e21-b293-4e4e-9ce5-c4a399fca22b",
   "metadata": {},
   "source": [
    "Note the log scale on the x-axis.\n",
    "\n",
    "It seems that regularization isn’t helpful in our case. Our logistic regression model isn’t overfitting and adding regularization hurts performance i.e. underfitting.\n",
    "\n",
    "#### Making predictions\n",
    "The GridSearchCV object has a refit parameter which is set to True by default - it automatically refits the best estimator to the entire train data and saves it in a best_estimator_ attribute.\n",
    "\n",
    "We can use it as a standard Scikit-learn estimator ex. to make new predictions\n",
    "\n"
   ]
  },
  {
   "cell_type": "code",
   "execution_count": 7,
   "id": "bd8c3739-8661-48f0-9c72-feed8ceee73c",
   "metadata": {},
   "outputs": [
    {
     "data": {
      "text/plain": [
       "array([0, 0, 0, 0, 0, 0, 0, 0, 0, 0, 0, 0, 0, 0, 0, 0, 0, 0, 0, 0, 0, 0,\n",
       "       0, 0, 0, 0, 0, 0, 0, 0, 0, 0, 0, 0, 0, 0, 0, 0, 0, 0, 0, 0, 0, 0,\n",
       "       0, 0, 0, 0, 0, 0, 1, 1, 1, 1, 1, 1, 1, 1, 1, 1, 1, 1, 1, 1, 1, 1,\n",
       "       1, 1, 1, 1, 2, 1, 1, 1, 1, 1, 1, 2, 1, 1, 1, 1, 1, 2, 1, 1, 1, 1,\n",
       "       1, 1, 1, 1, 1, 1, 1, 1, 1, 1, 1, 1, 2, 2, 2, 2, 2, 2, 2, 2, 2, 2,\n",
       "       2, 2, 2, 2, 2, 2, 2, 2, 2, 1, 2, 2, 2, 2, 2, 2, 2, 2, 2, 2, 2, 2,\n",
       "       2, 1, 2, 2, 2, 2, 2, 2, 2, 2, 2, 2, 2, 2, 2, 2, 2, 2])"
      ]
     },
     "execution_count": 7,
     "metadata": {},
     "output_type": "execute_result"
    }
   ],
   "source": [
    "# Compute predictions with the \"best_estimator_\" attribute\n",
    "grid_cv.best_estimator_.predict(X)\n",
    "\n",
    "# Or with the grid search object directly\n",
    "grid_cv.predict(X)"
   ]
  },
  {
   "cell_type": "markdown",
   "id": "c029e0d8-cdc6-4b3e-a593-f0bf267d84db",
   "metadata": {},
   "source": [
    "Note that we don’t need to write grid_cv.best_estimator_ - grid_cv automatically uses the best estimator when calling predict() or other functions related to it such as score().\n",
    "\n",
    "#### LogisticRegressionCV object\n",
    "GridSearchCV can tune any estimator using grid search with cross-validation. However, note that Scikit-learn also implements dedicated objects for some models. For instance, the LogisticRegressionCV one let’s us define a list of C values to tune with cross-validated grid search"
   ]
  },
  {
   "cell_type": "code",
   "execution_count": 8,
   "id": "6843119c-3ffe-4a9d-8ad4-b21d1ab70c80",
   "metadata": {},
   "outputs": [],
   "source": [
    "from sklearn.linear_model import LogisticRegressionCV\n",
    "\n",
    "# Create estimator\n",
    "logreg_cv = LogisticRegressionCV(\n",
    "    Cs=[0.1, 1, 10], cv=5, multi_class=\"ovr\", solver=\"liblinear\"\n",
    ")"
   ]
  },
  {
   "cell_type": "markdown",
   "id": "0e4538f9-50ac-46c8-babe-705cc97f06cb",
   "metadata": {},
   "source": [
    "In this code, we create a logistic regression estimator that tunes its C value using a 5-fold cross-validation.\n",
    "\n",
    "Estimators with built-in cross-validation are usually more efficient than the generic GridSearchCV object. However, they don’t integrate with pipelines. More specifically, we cannot pass a set of preprocessing steps to apply to each training fold. Instead, we have to preprocess the data globally before the estimator\n",
    "\n"
   ]
  },
  {
   "cell_type": "code",
   "execution_count": 9,
   "id": "536dfa40-2ae0-4283-b66a-1a8454cdc448",
   "metadata": {},
   "outputs": [
    {
     "data": {
      "text/plain": [
       "LogisticRegressionCV(Cs=[0.1, 1, 10], cv=5, multi_class='ovr',\n",
       "                     solver='liblinear')"
      ]
     },
     "execution_count": 9,
     "metadata": {},
     "output_type": "execute_result"
    }
   ],
   "source": [
    "from sklearn.preprocessing import scale\n",
    "\n",
    "# Fit the estimator\n",
    "logreg_cv.fit(scale(X), y)"
   ]
  },
  {
   "cell_type": "markdown",
   "id": "e892377f-d83c-4c8c-a5de-bfb943eee30d",
   "metadata": {},
   "source": [
    "In this case, we standardize the entire input data which implies that we used data from the validation folds which isn’t optimal i.e. compute standardization mean/std on all data.\n",
    "\n",
    "LogisticRegressionCV stores the cross-validated results in a scores_ attribute. Due to the One-versus-Rest (OvR) strategy, it has one entry per class. For instance, let’s print the cross-validated results from our “class 1” vs “classes 2, 3” classifier\n",
    "\n"
   ]
  },
  {
   "cell_type": "code",
   "execution_count": 10,
   "id": "7d0bc504-30be-4b0f-ab70-c1710bd63573",
   "metadata": {},
   "outputs": [
    {
     "data": {
      "text/plain": [
       "array([[1., 1., 1.],\n",
       "       [1., 1., 1.],\n",
       "       [1., 1., 1.],\n",
       "       [1., 1., 1.],\n",
       "       [1., 1., 1.]])"
      ]
     },
     "execution_count": 10,
     "metadata": {},
     "output_type": "execute_result"
    }
   ],
   "source": [
    "# Scores for class 1 (Setosa)\n",
    "logreg_cv.scores_[0]\n"
   ]
  },
  {
   "cell_type": "markdown",
   "id": "770150bb-e9c8-4bda-8725-cbaeabdb4e12",
   "metadata": {},
   "source": [
    "The result is a table with 5 rows that correspond to each fold and 3 columns for the C values. In this case, we get an accuracy of 100% for each fold and regularization strength because Setosa flowers are very different from the two other types and it’s easy to classify them.\n",
    "\n",
    "Let’s take a look at the results for the Versicolor category (class 2)\n",
    "\n"
   ]
  },
  {
   "cell_type": "code",
   "execution_count": 11,
   "id": "dbd82b8a-5cf5-41d0-acb2-ad41f7a50ae6",
   "metadata": {},
   "outputs": [
    {
     "data": {
      "text/plain": [
       "array([[0.66666667, 0.66666667, 0.63333333],\n",
       "       [0.7       , 0.7       , 0.7       ],\n",
       "       [0.66666667, 0.76666667, 0.73333333],\n",
       "       [0.8       , 0.76666667, 0.76666667],\n",
       "       [0.73333333, 0.76666667, 0.76666667]])"
      ]
     },
     "execution_count": 11,
     "metadata": {},
     "output_type": "execute_result"
    }
   ],
   "source": [
    "# Scores for class 2 (Versicolor)\n",
    "logreg_cv.scores_[1]"
   ]
  },
  {
   "cell_type": "markdown",
   "id": "8b160b44-c888-4423-ba0c-1b04f299a4ce",
   "metadata": {},
   "source": [
    "This time, the second column has slightly better results than the two other ones. We can see it by printing the mean scores"
   ]
  },
  {
   "cell_type": "code",
   "execution_count": 12,
   "id": "3584f29e-e15e-412a-bd56-faf8f3bebdb0",
   "metadata": {},
   "outputs": [
    {
     "data": {
      "text/plain": [
       "array([0.71333333, 0.73333333, 0.72      ])"
      ]
     },
     "execution_count": 12,
     "metadata": {},
     "output_type": "execute_result"
    }
   ],
   "source": [
    "# Mean score per C value across folds\n",
    "logreg_cv.scores_[1].mean(axis=0)"
   ]
  },
  {
   "cell_type": "markdown",
   "id": "bab0b2e1-d016-4909-8ee1-ea2f7ef3a7a9",
   "metadata": {},
   "source": [
    "Hence, the LogisticRegressionCV object will use the second C value C=1 for the virginica class. We can verify this by printing the C values for the three classes"
   ]
  },
  {
   "cell_type": "code",
   "execution_count": 13,
   "id": "8d5bec41-6e0c-4000-9095-12e147b9c236",
   "metadata": {},
   "outputs": [
    {
     "name": "stdout",
     "output_type": "stream",
     "text": [
      "[ 0.1  1.  10. ]\n"
     ]
    }
   ],
   "source": [
    "print(logreg_cv.C_)"
   ]
  },
  {
   "cell_type": "markdown",
   "id": "daece4ca-bb72-4f3c-b285-d341a8405548",
   "metadata": {},
   "source": [
    "As expected, the second class, virginica flowers, has C=1\n",
    "\n",
    "#### Summary\n",
    "In this unit, we saw two different ways to combine cross-validation and grid search\n",
    "\n",
    "GridSearchCV - A generic object to tune the hyperparameters of any estimator\n",
    "LogisticRegressionCV - A logistic regression with built-in cross-validation for C\n",
    "The estimators with built-in cross-validation are usually more efficient than the generic GridSearchCV object, but cannot integrate preprocessing steps.\n",
    "\n",
    "In the next exercise, you will work on the multiclass heart disease diagnosis task. This time, you will tune the hyperparameters of a k-NN and a logistic regression estimator using a cross-validated grid search."
   ]
  }
 ],
 "metadata": {
  "kernelspec": {
   "display_name": "Python [conda env:adsml] *",
   "language": "python",
   "name": "conda-env-adsml-py"
  },
  "language_info": {
   "codemirror_mode": {
    "name": "ipython",
    "version": 3
   },
   "file_extension": ".py",
   "mimetype": "text/x-python",
   "name": "python",
   "nbconvert_exporter": "python",
   "pygments_lexer": "ipython3",
   "version": "3.9.7"
  }
 },
 "nbformat": 4,
 "nbformat_minor": 5
}
