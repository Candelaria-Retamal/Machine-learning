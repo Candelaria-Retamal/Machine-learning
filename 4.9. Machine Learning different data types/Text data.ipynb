{
 "cells": [
  {
   "cell_type": "markdown",
   "id": "ffb0684e-412b-41fb-8eb3-70537b1bec9d",
   "metadata": {},
   "source": [
    "### Introduction\n",
    "So far, we have worked with images and numeric data, and you may be wondering how to apply machine learning models to text data. We will use the IMDB movie review dataset to develop a classification model to automatically label movie reviews as “positive” or “negative”.\n",
    "\n",
    "In this unit, we will focus on how to preprocess text to make it suitable for classification models. Text data can be “messy”, especially from social media platforms. Moreover, not all terms in a text help to make good predictions. For these reasons, we usually start by preprocessing our text, i.e., “cleaning” it to keep only “informative” terms and remove other, less useful terms. Text preprocessing also aims to reduce the overall number of unique words in a dataset, using techniques such as case conversion and stemming, as we will discuss later. Overall, text preprocessing can improve training by reducing the memory required to handle the data, speeding up computations, and improving model performance.\n",
    "\n",
    "We can’t use text data directly with machine learning algorithms. After “cleaning”, we need to convert text data into numerical representations compatible with machine learning models. This is the feature extraction process from text data and will be the topic of the next unit.\n",
    "\n",
    "Here is the outline of the steps we will go through in this unit:\n",
    "\n",
    "* Loading the data\n",
    "* Preliminary EDA\n",
    "* Text preprocessing\n",
    "\n",
    "In the next unit, we will extract features from text data and train a classifier."
   ]
  },
  {
   "cell_type": "markdown",
   "id": "d2781509-a91d-4f06-a129-84471f311c00",
   "metadata": {},
   "source": [
    "#### Loading the data\n",
    "Let’s start by loading the data from the c4_imdb-8k.zip file provided in the Resources tab. Note that this is smaller version of the IMDB movie review dataset.\n",
    "\n",
    "We will start by extracting the dataset into the c4_imdb-8k folder.\n",
    "\n"
   ]
  },
  {
   "cell_type": "code",
   "execution_count": 1,
   "id": "6817a1d2-92fc-46e2-9930-e64531596307",
   "metadata": {},
   "outputs": [],
   "source": [
    "# Import libraries\n",
    "import os\n",
    "import numpy as np\n",
    "import matplotlib.pyplot as plt\n",
    "\n",
    "%matplotlib inline\n"
   ]
  },
  {
   "cell_type": "code",
   "execution_count": 3,
   "id": "90cf4658-0793-44f2-a7e2-a7b36a8670c9",
   "metadata": {},
   "outputs": [
    {
     "name": "stdout",
     "output_type": "stream",
     "text": [
      "Extracting all the files now...\n",
      "Done!\n"
     ]
    }
   ],
   "source": [
    "# Unzip c4_imdb-8k.zip file\n",
    "\n",
    "from zipfile import ZipFile\n",
    "\n",
    "with ZipFile(\"c4_imdb-8k.zip\", \"r\") as zip:\n",
    "    print(\"Extracting all the files now...\")\n",
    "    zip.extractall()\n",
    "    print(\"Done!\")\n"
   ]
  },
  {
   "cell_type": "markdown",
   "id": "6703ff7f-aaad-494a-adbd-83b6ec1e2458",
   "metadata": {},
   "source": [
    "The c4_imdb-8k folder has a train/ and a test/ directory, each containing text files with positive and negative reviews. We will use the datasets.load_files() method from scikit-learn to load the reviews. load_files() will also extract the label for each sample from the subfolders’ names (pos/ or neg/)."
   ]
  },
  {
   "cell_type": "code",
   "execution_count": 4,
   "id": "5fc3c8c7-2fdb-469a-b777-34270ad99787",
   "metadata": {},
   "outputs": [],
   "source": [
    "from sklearn.datasets import load_files\n",
    "\n",
    "# Path to datafolder\n",
    "PATH_DATA = \"c4_imdb-8k\"\n",
    "\n",
    "# Load training data\n",
    "train_data = load_files(\n",
    "    os.path.join(PATH_DATA, \"train\"), encoding=\"ISO-8859-1\", categories=[\"pos\", \"neg\"]\n",
    ")\n",
    "\n",
    "# Load test data\n",
    "test_data = load_files(\n",
    "    os.path.join(PATH_DATA, \"test\"), encoding=\"ISO-8859-1\", categories=[\"pos\", \"neg\"]\n",
    ")"
   ]
  },
  {
   "cell_type": "markdown",
   "id": "05282c88-cdd5-4959-ac96-5020cfdf8c2f",
   "metadata": {},
   "source": [
    "train_data and test_data are dictionary-like objects with a few interesting attributes:\n",
    "\n",
    "* the attribute data returns a list of all text samples\n",
    "* the attribute target returns the labels (as integers)\n",
    "* the attribute target_names returns the names of the target classes.\n",
    "\n",
    "For more information on the datasets.load_files() method, please check scikit-learn’s online documentation page.\n",
    "\n",
    "Let’s have a quick look at the number of samples in the training and test sets."
   ]
  },
  {
   "cell_type": "code",
   "execution_count": 5,
   "id": "76f2ad6d-333e-45d1-ac6e-ab7541e7f23d",
   "metadata": {},
   "outputs": [
    {
     "name": "stdout",
     "output_type": "stream",
     "text": [
      "Training data : Samples: 8000 - Labels: 8000 \n",
      "Test data     : Samples: 8000 - Labels: 8000 \n"
     ]
    }
   ],
   "source": [
    "#  Training data\n",
    "print(\n",
    "    \"Training data : Samples: {} - Labels: {} \".format(\n",
    "        len(train_data.data), len(train_data.target)\n",
    "    )\n",
    ")\n",
    "\n",
    "# Test data\n",
    "print(\n",
    "    \"Test data     : Samples: {} - Labels: {} \".format(\n",
    "        len(test_data.data), len(test_data.target)\n",
    "    )\n",
    ")"
   ]
  },
  {
   "cell_type": "markdown",
   "id": "d59c3553-49f6-47ac-9b9c-76b718902bca",
   "metadata": {},
   "source": [
    "Let’s check the target names and print a few labels from the training data."
   ]
  },
  {
   "cell_type": "code",
   "execution_count": 6,
   "id": "51601206-da5b-407c-8ed1-e9f54ff62ce2",
   "metadata": {},
   "outputs": [
    {
     "data": {
      "text/plain": [
       "['neg', 'pos']"
      ]
     },
     "execution_count": 6,
     "metadata": {},
     "output_type": "execute_result"
    }
   ],
   "source": [
    "# Check target names\n",
    "train_data.target_names"
   ]
  },
  {
   "cell_type": "markdown",
   "id": "969ab008-f588-497e-ba71-0a421fe85b1d",
   "metadata": {},
   "source": [
    "For negative reviews, the target value is 0; for positive reviews, it is 1."
   ]
  },
  {
   "cell_type": "code",
   "execution_count": 7,
   "id": "f365e0d1-5c72-461f-bb6e-ee74eaa60abf",
   "metadata": {},
   "outputs": [
    {
     "data": {
      "text/plain": [
       "array([0, 0, 1])"
      ]
     },
     "execution_count": 7,
     "metadata": {},
     "output_type": "execute_result"
    }
   ],
   "source": [
    "# Print labels of first 3 samples\n",
    "train_data.target[0:3]  # [neg, neg, pos]"
   ]
  },
  {
   "cell_type": "code",
   "execution_count": 8,
   "id": "a77b55e8-2258-421c-a8dc-cc11d90fa080",
   "metadata": {},
   "outputs": [
    {
     "data": {
      "text/plain": [
       "'Whatever possessed Guy Ritchie to remake Wertmuller\\'s film is incomprehensible.<br /><br />This new film is a mess. There was one other person in the audience when I saw it, and she left about an hour into it. (I hope she demanded a refund.) The only reason I stayed through to the end was because I\\'ve never walked out of a movie.<br /><br />But I sat through this piece of junk thoroughly flabbergasted that Madonna and Ritchie could actually think they made a good film. The dialogue is laughable, the acting is atrocious and the only nice thing in this film is the scenery. Ritchie took Lina\\'s movie and turned it into another \"Blue Lagoon.\"<br /><br />This is a film that you wouldn\\'t even waste time watching late night on Cinemax. Time is too precious to be wasted on crap like this.'"
      ]
     },
     "execution_count": 8,
     "metadata": {},
     "output_type": "execute_result"
    }
   ],
   "source": [
    "# Print a review\n",
    "train_data.data[1]"
   ]
  },
  {
   "cell_type": "markdown",
   "id": "06c416ff-dee7-4200-9830-adc98c1ec2a6",
   "metadata": {},
   "source": [
    "We will now load the training and test data in dataframes."
   ]
  },
  {
   "cell_type": "code",
   "execution_count": 10,
   "id": "0ee814db-1277-4672-9f53-afb50e3a0181",
   "metadata": {},
   "outputs": [
    {
     "name": "stdout",
     "output_type": "stream",
     "text": [
      "Training data:  (8000, 2)\n",
      "Test  data:     (8000, 2)\n"
     ]
    }
   ],
   "source": [
    "#Load data in a dataframe\n",
    "import pandas as pd\n",
    "\n",
    "# Training data\n",
    "df = pd.DataFrame({\"text\": train_data.data, \"label\": train_data.target})\n",
    "\n",
    "# Test data\n",
    "df_test = pd.DataFrame({\"text\": test_data.data, \"label\": test_data.target})\n",
    "\n",
    "print(\"Training data: \", df.shape)\n",
    "print(\"Test  data:    \", df_test.shape)"
   ]
  },
  {
   "cell_type": "markdown",
   "id": "68e8af4a-b121-4a02-976a-dcfc1149038f",
   "metadata": {},
   "source": [
    "Let’s check the data for duplicated entries."
   ]
  },
  {
   "cell_type": "code",
   "execution_count": 11,
   "id": "e40af116-f214-442c-ad48-8333f5f765fe",
   "metadata": {},
   "outputs": [
    {
     "name": "stdout",
     "output_type": "stream",
     "text": [
      "Nbr of duplicates in training data: 14\n",
      "Nbr of duplicates in test data:  38\n"
     ]
    }
   ],
   "source": [
    "print(\"Nbr of duplicates in training data: {}\".format(df.duplicated().sum()))\n",
    "print(\"Nbr of duplicates in test data:  {}\".format(df_test.duplicated().sum()))"
   ]
  },
  {
   "cell_type": "markdown",
   "id": "4b13fd7d-7d8a-4f78-8de1-8bc42f3d3b5f",
   "metadata": {},
   "source": [
    "Next, we will remove the duplicated reviews."
   ]
  },
  {
   "cell_type": "code",
   "execution_count": 12,
   "id": "3ae417ad-ccba-4b0e-a728-0d27a4d299a3",
   "metadata": {},
   "outputs": [
    {
     "name": "stdout",
     "output_type": "stream",
     "text": [
      "Training data:  (7986, 2)\n",
      "Test  data:     (7962, 2)\n"
     ]
    }
   ],
   "source": [
    "# Drop duplicates from training/test data\n",
    "df.drop_duplicates(inplace=True)\n",
    "df_test.drop_duplicates(inplace=True)\n",
    "\n",
    "# Reset index\n",
    "df.reset_index(drop=True, inplace=True)\n",
    "df_test.reset_index(drop=True, inplace=True)\n",
    "\n",
    "print(\"Training data: \", df.shape)\n",
    "print(\"Test  data:    \", df_test.shape)"
   ]
  },
  {
   "cell_type": "markdown",
   "id": "857246c7-c9de-4d93-ba24-26f90a8baea1",
   "metadata": {},
   "source": [
    "Let’s print a few rows from the data."
   ]
  },
  {
   "cell_type": "code",
   "execution_count": 13,
   "id": "e58cfebd-9596-49c5-b915-b7f40b4be03e",
   "metadata": {},
   "outputs": [
    {
     "data": {
      "text/html": [
       "<div>\n",
       "<style scoped>\n",
       "    .dataframe tbody tr th:only-of-type {\n",
       "        vertical-align: middle;\n",
       "    }\n",
       "\n",
       "    .dataframe tbody tr th {\n",
       "        vertical-align: top;\n",
       "    }\n",
       "\n",
       "    .dataframe thead th {\n",
       "        text-align: right;\n",
       "    }\n",
       "</style>\n",
       "<table border=\"1\" class=\"dataframe\">\n",
       "  <thead>\n",
       "    <tr style=\"text-align: right;\">\n",
       "      <th></th>\n",
       "      <th>text</th>\n",
       "      <th>label</th>\n",
       "    </tr>\n",
       "  </thead>\n",
       "  <tbody>\n",
       "    <tr>\n",
       "      <th>3908</th>\n",
       "      <td>2003 was seen as the year of the Matrix, with ...</td>\n",
       "      <td>1</td>\n",
       "    </tr>\n",
       "    <tr>\n",
       "      <th>3117</th>\n",
       "      <td>Alex D. Linz replaces Macaulay Culkin as the c...</td>\n",
       "      <td>0</td>\n",
       "    </tr>\n",
       "    <tr>\n",
       "      <th>4603</th>\n",
       "      <td>I saw this movie at a 'sneak preview' and i mu...</td>\n",
       "      <td>0</td>\n",
       "    </tr>\n",
       "    <tr>\n",
       "      <th>3821</th>\n",
       "      <td>While being a great James Arness western, this...</td>\n",
       "      <td>0</td>\n",
       "    </tr>\n",
       "    <tr>\n",
       "      <th>4925</th>\n",
       "      <td>\"American Nightmare\" is officially tied, in my...</td>\n",
       "      <td>0</td>\n",
       "    </tr>\n",
       "  </tbody>\n",
       "</table>\n",
       "</div>"
      ],
      "text/plain": [
       "                                                   text  label\n",
       "3908  2003 was seen as the year of the Matrix, with ...      1\n",
       "3117  Alex D. Linz replaces Macaulay Culkin as the c...      0\n",
       "4603  I saw this movie at a 'sneak preview' and i mu...      0\n",
       "3821  While being a great James Arness western, this...      0\n",
       "4925  \"American Nightmare\" is officially tied, in my...      0"
      ]
     },
     "execution_count": 13,
     "metadata": {},
     "output_type": "execute_result"
    }
   ],
   "source": [
    "# Print a few samples from the training data\n",
    "df.sample(5)"
   ]
  },
  {
   "cell_type": "code",
   "execution_count": 14,
   "id": "d1cd843f-2694-4923-b40c-ad06cf41a56f",
   "metadata": {},
   "outputs": [
    {
     "data": {
      "text/html": [
       "<div>\n",
       "<style scoped>\n",
       "    .dataframe tbody tr th:only-of-type {\n",
       "        vertical-align: middle;\n",
       "    }\n",
       "\n",
       "    .dataframe tbody tr th {\n",
       "        vertical-align: top;\n",
       "    }\n",
       "\n",
       "    .dataframe thead th {\n",
       "        text-align: right;\n",
       "    }\n",
       "</style>\n",
       "<table border=\"1\" class=\"dataframe\">\n",
       "  <thead>\n",
       "    <tr style=\"text-align: right;\">\n",
       "      <th></th>\n",
       "      <th>text</th>\n",
       "      <th>label</th>\n",
       "    </tr>\n",
       "  </thead>\n",
       "  <tbody>\n",
       "    <tr>\n",
       "      <th>7198</th>\n",
       "      <td>When I say worse, I mean less entertaining. To...</td>\n",
       "      <td>0</td>\n",
       "    </tr>\n",
       "    <tr>\n",
       "      <th>3239</th>\n",
       "      <td>The inspiration for the \"Naked Gun\" movies cas...</td>\n",
       "      <td>1</td>\n",
       "    </tr>\n",
       "    <tr>\n",
       "      <th>5053</th>\n",
       "      <td>Do NOT avoid this movie. Simply because it is ...</td>\n",
       "      <td>0</td>\n",
       "    </tr>\n",
       "  </tbody>\n",
       "</table>\n",
       "</div>"
      ],
      "text/plain": [
       "                                                   text  label\n",
       "7198  When I say worse, I mean less entertaining. To...      0\n",
       "3239  The inspiration for the \"Naked Gun\" movies cas...      1\n",
       "5053  Do NOT avoid this movie. Simply because it is ...      0"
      ]
     },
     "execution_count": 14,
     "metadata": {},
     "output_type": "execute_result"
    }
   ],
   "source": [
    "# Print a few samples from the test data\n",
    "df_test.sample(3)"
   ]
  },
  {
   "cell_type": "markdown",
   "id": "33e23720-26a7-4ca9-9295-8fd6e141caa0",
   "metadata": {},
   "source": [
    "#### Preliminary EDA\n",
    "Note that our objective is not to do a thorough analysis of text data but just to showcase how some of the machine learning models that you learned in this course can be applied to them. Therefore, we will skip most of the Explanatory Data Analysis (EDA), which nevertheless is one of the main pillars of every machine learning project, in order to focus on our main goal.\n",
    "\n",
    "Let’s see how many positive and how many negative reviews we have in the training and test datasets."
   ]
  },
  {
   "cell_type": "code",
   "execution_count": 15,
   "id": "e9525241-9a3d-4c3d-a77e-8343f7200bc7",
   "metadata": {},
   "outputs": [
    {
     "data": {
      "text/plain": [
       "1    3995\n",
       "0    3991\n",
       "Name: label, dtype: int64"
      ]
     },
     "execution_count": 15,
     "metadata": {},
     "output_type": "execute_result"
    }
   ],
   "source": [
    "# Number of samples per class in training data\n",
    "df[\"label\"].value_counts()"
   ]
  },
  {
   "cell_type": "code",
   "execution_count": 16,
   "id": "76ef0e79-5191-4af2-ab85-66992c87245c",
   "metadata": {},
   "outputs": [
    {
     "data": {
      "text/plain": [
       "0    3987\n",
       "1    3975\n",
       "Name: label, dtype: int64"
      ]
     },
     "execution_count": 16,
     "metadata": {},
     "output_type": "execute_result"
    }
   ],
   "source": [
    "# Number of samples per class in test data\n",
    "df_test[\"label\"].value_counts()"
   ]
  },
  {
   "cell_type": "markdown",
   "id": "c819026f-70e3-4877-9a25-90f4837c6b99",
   "metadata": {},
   "source": [
    "We have approximately the same number of positive and negative reviews in the training and the test data. Therefore, we can assume that our dataset is balanced.\n",
    "\n",
    "The following plot shows the distribution of words in the reviews.\n",
    "\n"
   ]
  },
  {
   "cell_type": "code",
   "execution_count": 55,
   "id": "f7b8b761-4367-4663-83d9-e2e1275b4c11",
   "metadata": {},
   "outputs": [
    {
     "data": {
      "image/png": "[encoded data removed]",
      "text/plain": [
       "<IPython.core.display.Image object>"
      ]
     },
     "execution_count": 55,
     "metadata": {},
     "output_type": "execute_result"
    }
   ],
   "source": [
    "from IPython.display import Image\n",
    "Image(filename=\"word.png\")"
   ]
  },
  {
   "cell_type": "markdown",
   "id": "0e7cd2fd-d397-4b3f-abbe-b96bec224b0c",
   "metadata": {},
   "source": [
    "Text preprocessing\n",
    "As we said earlier, we usually start by cleaning our texts, which can help optimize learning. At this stage, it is important to “inspect” our text data to familiarize ourselves with the issues that we need to address during preprocessing."
   ]
  },
  {
   "cell_type": "code",
   "execution_count": 17,
   "id": "5bc0a903-1078-4c76-b4d3-ad31274c9115",
   "metadata": {},
   "outputs": [
    {
     "data": {
      "text/html": [
       "<div>\n",
       "<style scoped>\n",
       "    .dataframe tbody tr th:only-of-type {\n",
       "        vertical-align: middle;\n",
       "    }\n",
       "\n",
       "    .dataframe tbody tr th {\n",
       "        vertical-align: top;\n",
       "    }\n",
       "\n",
       "    .dataframe thead th {\n",
       "        text-align: right;\n",
       "    }\n",
       "</style>\n",
       "<table border=\"1\" class=\"dataframe\">\n",
       "  <thead>\n",
       "    <tr style=\"text-align: right;\">\n",
       "      <th></th>\n",
       "      <th>text</th>\n",
       "      <th>label</th>\n",
       "    </tr>\n",
       "  </thead>\n",
       "  <tbody>\n",
       "    <tr>\n",
       "      <th>6907</th>\n",
       "      <td>Let me say first that this show was top tier w...</td>\n",
       "      <td>1</td>\n",
       "    </tr>\n",
       "    <tr>\n",
       "      <th>2295</th>\n",
       "      <td>It's not quite the timeless masterpiece you wo...</td>\n",
       "      <td>1</td>\n",
       "    </tr>\n",
       "    <tr>\n",
       "      <th>5583</th>\n",
       "      <td>You know, this movie isn't that great, but, I ...</td>\n",
       "      <td>1</td>\n",
       "    </tr>\n",
       "  </tbody>\n",
       "</table>\n",
       "</div>"
      ],
      "text/plain": [
       "                                                   text  label\n",
       "6907  Let me say first that this show was top tier w...      1\n",
       "2295  It's not quite the timeless masterpiece you wo...      1\n",
       "5583  You know, this movie isn't that great, but, I ...      1"
      ]
     },
     "execution_count": 17,
     "metadata": {},
     "output_type": "execute_result"
    }
   ],
   "source": [
    "# Print a few samples\n",
    "df.sample(3)\n"
   ]
  },
  {
   "cell_type": "markdown",
   "id": "3e192789-7ef1-4cdd-9e02-5d13bacf28e2",
   "metadata": {},
   "source": [
    "Below is a list of “issues” that we think we should address in this particular dataset.\n",
    "\n",
    "* Remove numbers and HTML code for line breaks (<br />).\n",
    "* Convert text to lowercase.\n",
    "* Remove stop words.\n",
    "* Remove punctuation.\n",
    "* Apply stemming.\n",
    "\n",
    "We will discuss all of these points in detail. Please note, however, that these points may vary depending on your particular dataset and that you may have to adapt the techniques discussed below to your specific task."
   ]
  },
  {
   "cell_type": "markdown",
   "id": "39820428-82a0-499c-9989-1c8fef35b1bf",
   "metadata": {},
   "source": [
    "#### Remove numbers and HTML code for line breaks.\n",
    "As we said above, with text preprocessing, we aim at removing terms that are not “informative” for making good predictions. Below are a few pointers:\n",
    "\n",
    "HTML code (e.g. <br />) isn’t helpful for “guessing” the sentiment of a review and can be removed from the text.\n",
    "Numbers (such as dates, years, prices, etc.) aren’t usually indicative of the sentiment of a review; hence we have decided to remove them from the text. However, depending on your task, you may want to verify the validity of this claim with appropriate Explanatory Data Analysis (EDA).\n",
    "We will use regular expressions to remove numbers and HTML code for line breaks. Let’s see this with an example."
   ]
  },
  {
   "cell_type": "code",
   "execution_count": 18,
   "id": "9868fa21-77e8-42bf-b8db-cc1a07b86480",
   "metadata": {},
   "outputs": [
    {
     "name": "stdout",
     "output_type": "stream",
     "text": [
      "Text sample: \n",
      "I don't like the director's suit. But I LOVED his movie! 10/10 <br /><br />\n",
      "\n"
     ]
    }
   ],
   "source": [
    "sample = \"I don't like the director's suit. But I LOVED his movie! 10/10 <br /><br />\"\n",
    "\n",
    "print(\"Text sample: \\n{}\\n\".format(sample))"
   ]
  },
  {
   "cell_type": "code",
   "execution_count": 19,
   "id": "7c8da801-0dfe-4010-9672-b993d21482cc",
   "metadata": {},
   "outputs": [
    {
     "name": "stdout",
     "output_type": "stream",
     "text": [
      "Remove html code for line breaks: \n",
      "I don't like the director's suit. But I LOVED his movie! 10/10   \n",
      "\n"
     ]
    }
   ],
   "source": [
    "import re\n",
    "\n",
    "# Remove html code for line breaks\n",
    "clean_sample = re.sub(r\"<br />\", \" \", sample)\n",
    "\n",
    "print(\"Remove html code for line breaks: \\n{}\\n\".format(clean_sample))\n"
   ]
  },
  {
   "cell_type": "code",
   "execution_count": 20,
   "id": "f9e4d6b5-4622-4165-8dc2-1ab7f37acd11",
   "metadata": {},
   "outputs": [
    {
     "name": "stdout",
     "output_type": "stream",
     "text": [
      "Remove numbers from sample: \n",
      "I don't like the director's suit. But I LOVED his movie! /   \n",
      "\n"
     ]
    }
   ],
   "source": [
    "# Remove numbers\n",
    "clean_sample = re.sub(r\"\\d+\", \"\", clean_sample)\n",
    "\n",
    "print(\"Remove numbers from sample: \\n{}\\n\".format(clean_sample))"
   ]
  },
  {
   "cell_type": "markdown",
   "id": "f86a4d88-aac6-4b0b-87f4-3fbcaca082c0",
   "metadata": {},
   "source": [
    "#### Case folding\n",
    "Text preprocessing also aims at reducing the overall number of unique words in our dataset by cleaning redundancies. The number of unique words in a dataset is usually called the vocabulary; this is a term that you will often hear if you work with text data. Reducing the vocabulary size has the benefit of reducing the computational resources required to train a machine learning model.\n",
    "\n",
    "It is common to convert text samples to lowercase; instead of including all capitalized and lowercase versions of a word in the vocabulary (e.g. “loved”, “LOVED”, and “Loved”), we keep only terms in lowercase (“loved”). Usually, this helps to reduce the vocabulary size without affecting model performance."
   ]
  },
  {
   "cell_type": "code",
   "execution_count": 22,
   "id": "aa477072-bb91-40bf-bcc3-df58d34dc124",
   "metadata": {},
   "outputs": [
    {
     "name": "stdout",
     "output_type": "stream",
     "text": [
      "Convert to lowercase: \n",
      "i don't like the director's suit. but i loved his movie! /   \n",
      "\n"
     ]
    }
   ],
   "source": [
    "# Case folding\n",
    "clean_sample = clean_sample.lower()\n",
    "\n",
    "print(\"Convert to lowercase: \\n{}\\n\".format(clean_sample))"
   ]
  },
  {
   "cell_type": "markdown",
   "id": "9363e4cf-876b-4348-9962-537dea472dac",
   "metadata": {},
   "source": [
    "#### Tokenization\n",
    "Before we move on to removing stop words, punctuation and applying stemming, we should discuss tokenization.\n",
    "\n",
    "Tokenization is the process of splitting text into smaller segments (usually words) called tokens and is utilized both during preprocessing and feature extraction.\n",
    "\n",
    "The simplest way to tokenize a sentence is to split it on whitespace.\n",
    "\n"
   ]
  },
  {
   "cell_type": "code",
   "execution_count": 23,
   "id": "0843ac41-9376-49db-90b5-053a36e226d0",
   "metadata": {},
   "outputs": [
    {
     "name": "stdout",
     "output_type": "stream",
     "text": [
      "['i', \"don't\", 'like', 'the', \"director's\", 'suit.', 'but', 'i', 'loved', 'his', 'movie!', '/']\n"
     ]
    }
   ],
   "source": [
    "print(clean_sample.split())\n"
   ]
  },
  {
   "cell_type": "markdown",
   "id": "8257b142-e87c-4312-9042-7f7e63925e92",
   "metadata": {},
   "source": [
    "However, this tokenizer is a bit “naive”. For example:\n",
    "\n",
    "* It didn’t separate punctuation from the adjacent words (e.g. “suit.”, “movie!”).\n",
    "* It didn’t separate the token “‘s” from the word “director”.\n",
    "* It didn’t expand the contraction “don’t” to its constituent words “do” and “n’t”.\n",
    "\n",
    "Most Natural language processing (NLP) libraries provide more “sophisticated” tokenizers. We will use the TreebankWordTokenizer from the Natural Language Toolkit (NLTK) library."
   ]
  },
  {
   "cell_type": "markdown",
   "id": "8ff7f68b-727a-42c1-bea6-80b77c69184a",
   "metadata": {},
   "source": [
    "#### The TreebankWordTokenizer\n",
    "\n",
    "The TreebankWordTokenizer incorporates common rules for English grammar and offers a few nice options. For example:\n",
    "\n",
    "* It separates most punctuation characters from adjacent words.\n",
    "* It splits standard contractions, e.g. don’t -> do   n’t and they’ll -> they   ‘ll\n",
    "\n",
    "Let’s use the TreebankWordTokenizer with the text sample from above."
   ]
  },
  {
   "cell_type": "code",
   "execution_count": 24,
   "id": "6eeda1d3-3862-4afe-b5a8-c94e5fdc1c18",
   "metadata": {},
   "outputs": [
    {
     "name": "stdout",
     "output_type": "stream",
     "text": [
      "Before tokenization: \n",
      "i don't like the director's suit. but i loved his movie! /   \n",
      "\n",
      "After tokenization: \n",
      "['i', 'do', \"n't\", 'like', 'the', 'director', \"'s\", 'suit.', 'but', 'i', 'loved', 'his', 'movie', '!', '/']\n",
      "\n"
     ]
    }
   ],
   "source": [
    "# Import tokenizer\n",
    "from nltk.tokenize import TreebankWordTokenizer\n",
    "\n",
    "# Create an instance of the TreebankWordTokenizer object\n",
    "tokenizer = TreebankWordTokenizer()\n",
    "\n",
    "print(\"Before tokenization: \\n{}\\n\".format(clean_sample))\n",
    "print(\"After tokenization: \\n{}\\n\".format(tokenizer.tokenize(clean_sample)))\n"
   ]
  },
  {
   "cell_type": "markdown",
   "id": "6771885d-4a8e-455b-a9cc-16ef83145cbc",
   "metadata": {},
   "source": [
    "The TreebankWordTokenizer did a better job than our “naive” tokenizer. For example, the exclamation mark ! was separated from the word “movie”. However, it didn’t separate the period from the word “suit”. This is because the TreebankWordTokenizer assumes that the text has already been segmented into sentences (our text sample has two sentences).\n",
    "\n",
    "For this reason, we need to first split the text into sentences using the nltk.tokenize.sent_tokenize() method and then tokenize each sentence with the TreebankWordTokenizer.\n",
    "\n",
    "The review_tokenizer() function below, implements both steps:\n",
    "\n",
    "* splits the text into sentences\n",
    "* tokenizes each sentence.\n"
   ]
  },
  {
   "cell_type": "code",
   "execution_count": 25,
   "id": "6cdebacf-88bb-495c-82de-fd04d41360eb",
   "metadata": {},
   "outputs": [
    {
     "name": "stdout",
     "output_type": "stream",
     "text": [
      "Before tokenization: \n",
      "i don't like the director's suit. but i loved his movie! /   \n",
      "\n",
      "After tokenization: \n",
      "['i', 'do', \"n't\", 'like', 'the', 'director', \"'s\", 'suit', '.', 'but', 'i', 'loved', 'his', 'movie', '!', '/']\n",
      "\n"
     ]
    }
   ],
   "source": [
    "import nltk\n",
    "from nltk.tokenize import sent_tokenize\n",
    "\n",
    "nltk.download(\"punkt\", quiet=True)\n",
    "\n",
    "\n",
    "def review_tokenizer(text):\n",
    "    \"\"\"\n",
    "    Input: a sentence, or sentences\n",
    "    Ouput: list of tokens\n",
    "\n",
    "    \"\"\"\n",
    "    # Create empty list\n",
    "    words = []\n",
    "\n",
    "    # Split into sentences\n",
    "    sentences = sent_tokenize(text)\n",
    "\n",
    "    for sent in sentences:\n",
    "        words.extend(tokenizer.tokenize(sent))\n",
    "    return words\n",
    "\n",
    "\n",
    "print(\"Before tokenization: \\n{}\\n\".format(clean_sample))\n",
    "print(\"After tokenization: \\n{}\\n\".format(review_tokenizer(clean_sample)))"
   ]
  },
  {
   "cell_type": "markdown",
   "id": "bd06d95a-be9b-4418-944d-4f7c47a085b2",
   "metadata": {},
   "source": [
    "This looks much better. We can now move on to removing stop words and punctuation characters!"
   ]
  },
  {
   "cell_type": "markdown",
   "id": "57f3d6c3-8064-470c-970d-acdc638a5a06",
   "metadata": {},
   "source": [
    "#### Stop words\n",
    "Stop words are words that are essential for a sentence to make sense, such as: “I”, “the”, “and”, etc. The issue with stop words is that they are: very frequent and uninformative. For most NLP applications, it is a good idea to remove them from the text.\n",
    "\n",
    "Most NLP libraries provide pre-compiled lists of stopwords for several languages. We will use the list provided by the NLTK library for English.\n",
    "\n"
   ]
  },
  {
   "cell_type": "code",
   "execution_count": 26,
   "id": "5f38168b-f34a-436c-84f5-cc1784306974",
   "metadata": {},
   "outputs": [],
   "source": [
    "# Load english stopwords from nltk\n",
    "\n",
    "nltk.download(\"stopwords\", quiet=True)\n",
    "\n",
    "from nltk.corpus import stopwords\n",
    "\n",
    "stopwords_english = stopwords.words(\"english\")"
   ]
  },
  {
   "cell_type": "markdown",
   "id": "874a4e62-e830-4340-9443-5cc17962accf",
   "metadata": {},
   "source": [
    "NLTK provides lists of stopwords for several other languages, such as French, German, Dutch, Spanish, Italian, Russian, Portuguese, etc. For more information, please check NLTK’s website."
   ]
  },
  {
   "cell_type": "code",
   "execution_count": 27,
   "id": "22ad7507-2094-4865-b31e-280264c0b25e",
   "metadata": {},
   "outputs": [
    {
     "name": "stdout",
     "output_type": "stream",
     "text": [
      "179 stopwords in NLTK's list.\n",
      "\n",
      "['i', 'me', 'my', 'myself', 'we', 'our', 'ours', 'ourselves', 'you', \"you're\", \"you've\", \"you'll\", \"you'd\", 'your', 'yours', 'yourself', 'yourselves', 'he', 'him', 'his', 'himself', 'she', \"she's\", 'her', 'hers', 'herself', 'it', \"it's\", 'its', 'itself', 'they', 'them', 'their', 'theirs', 'themselves', 'what', 'which', 'who', 'whom', 'this', 'that', \"that'll\", 'these', 'those', 'am', 'is', 'are', 'was', 'were', 'be', 'been', 'being', 'have', 'has', 'had', 'having', 'do', 'does', 'did', 'doing', 'a', 'an', 'the', 'and', 'but', 'if', 'or', 'because', 'as', 'until', 'while', 'of', 'at', 'by', 'for', 'with', 'about', 'against', 'between', 'into', 'through', 'during', 'before', 'after', 'above', 'below', 'to', 'from', 'up', 'down', 'in', 'out', 'on', 'off', 'over', 'under', 'again', 'further', 'then', 'once', 'here', 'there', 'when', 'where', 'why', 'how', 'all', 'any', 'both', 'each', 'few', 'more', 'most', 'other', 'some', 'such', 'no', 'nor', 'not', 'only', 'own', 'same', 'so', 'than', 'too', 'very', 's', 't', 'can', 'will', 'just', 'don', \"don't\", 'should', \"should've\", 'now', 'd', 'll', 'm', 'o', 're', 've', 'y', 'ain', 'aren', \"aren't\", 'couldn', \"couldn't\", 'didn', \"didn't\", 'doesn', \"doesn't\", 'hadn', \"hadn't\", 'hasn', \"hasn't\", 'haven', \"haven't\", 'isn', \"isn't\", 'ma', 'mightn', \"mightn't\", 'mustn', \"mustn't\", 'needn', \"needn't\", 'shan', \"shan't\", 'shouldn', \"shouldn't\", 'wasn', \"wasn't\", 'weren', \"weren't\", 'won', \"won't\", 'wouldn', \"wouldn't\"]\n"
     ]
    }
   ],
   "source": [
    "# Print stopwords\n",
    "\n",
    "print(\"{} stopwords in NLTK's list.\\n\".format(len(stopwords_english)))\n",
    "print(stopwords_english)"
   ]
  },
  {
   "cell_type": "markdown",
   "id": "be3baa07-f18d-457d-98e2-a397f4f60005",
   "metadata": {},
   "source": [
    "We can remove stop words using our review_tokenizer function and list comprehensions."
   ]
  },
  {
   "cell_type": "code",
   "execution_count": 28,
   "id": "c1f8f2b4-2d23-4b1b-a32a-d38a3af958e5",
   "metadata": {},
   "outputs": [
    {
     "name": "stdout",
     "output_type": "stream",
     "text": [
      "Before removing stop words: \n",
      "i don't like the director's suit. but i loved his movie! /   \n",
      "\n",
      "[\"n't\", 'like', 'director', \"'s\", 'suit', '.', 'loved', 'movie', '!', '/']\n"
     ]
    }
   ],
   "source": [
    "print(\"Before removing stop words: \\n{}\\n\".format(clean_sample))\n",
    "\n",
    "# Use a list comprehension to remove stopwords from clean_sample\n",
    "print([tok for tok in review_tokenizer(clean_sample) if tok not in stopwords_english])"
   ]
  },
  {
   "cell_type": "markdown",
   "id": "e6f5c31b-5065-4f52-9700-d13bf94bde4c",
   "metadata": {},
   "source": [
    "We can join lists of tokens into a string using the join() function."
   ]
  },
  {
   "cell_type": "code",
   "execution_count": 29,
   "id": "cfce30fe-7d7e-4a45-b0e2-e6dde6cbf8fb",
   "metadata": {},
   "outputs": [
    {
     "name": "stdout",
     "output_type": "stream",
     "text": [
      "Before removing stop words: \n",
      "i don't like the director's suit. but i loved his movie! /   \n",
      "\n",
      "After removing stop words: \n",
      "n't like director 's suit . loved movie ! /\n",
      "\n"
     ]
    }
   ],
   "source": [
    "print(\"Before removing stop words: \\n{}\\n\".format(clean_sample))\n",
    "\n",
    "clean_sample = \" \".join(\n",
    "    [tok for tok in review_tokenizer(clean_sample) if tok not in stopwords_english]\n",
    ")\n",
    "print(\"After removing stop words: \\n{}\\n\".format(clean_sample))\n"
   ]
  },
  {
   "cell_type": "markdown",
   "id": "1cce4e3e-2ec1-4f70-b7e6-4f1e155b6f1a",
   "metadata": {},
   "source": [
    "##### Modifying stop words lists\n",
    "\n",
    "We can also modify stop words lists (by removing or adding terms) to adapt them to a specific task. For example, you may have noticed that NLTK’s stop word list for English contains a few negation words. Let’s check this with code."
   ]
  },
  {
   "cell_type": "code",
   "execution_count": 30,
   "id": "6a32dc8c-c24b-4a46-b203-01601babc07c",
   "metadata": {},
   "outputs": [
    {
     "data": {
      "text/plain": [
       "True"
      ]
     },
     "execution_count": 30,
     "metadata": {},
     "output_type": "execute_result"
    }
   ],
   "source": [
    "# Check if 'not' is in stopwords_english\n",
    "\n",
    "\"not\" in stopwords_english"
   ]
  },
  {
   "cell_type": "code",
   "execution_count": 31,
   "id": "82fdd9e4-4ad7-450e-a106-c2844e794a40",
   "metadata": {},
   "outputs": [
    {
     "data": {
      "text/plain": [
       "True"
      ]
     },
     "execution_count": 31,
     "metadata": {},
     "output_type": "execute_result"
    }
   ],
   "source": [
    "# Check if \"no\" is in stopwords_english\n",
    "\n",
    "\"no\" in stopwords_english"
   ]
  },
  {
   "cell_type": "code",
   "execution_count": 32,
   "id": "f6da2b97-4964-422c-88bd-fb5b39c8d8d3",
   "metadata": {},
   "outputs": [
    {
     "data": {
      "text/plain": [
       "True"
      ]
     },
     "execution_count": 32,
     "metadata": {},
     "output_type": "execute_result"
    }
   ],
   "source": [
    "# Check if \"nor\" is in stopwords_english\n",
    "\n",
    "\"nor\" in stopwords_english"
   ]
  },
  {
   "cell_type": "code",
   "execution_count": 33,
   "id": "5d874966-2f13-4edc-af3d-1b9ba826a079",
   "metadata": {},
   "outputs": [
    {
     "data": {
      "text/plain": [
       "False"
      ]
     },
     "execution_count": 33,
     "metadata": {},
     "output_type": "execute_result"
    }
   ],
   "source": [
    "# Check if \"n't\" is in stopwords_english\n",
    "\n",
    "\"n't\" in stopwords_english"
   ]
  },
  {
   "cell_type": "markdown",
   "id": "f307b55f-2727-4b49-89a8-55ea93f81b7b",
   "metadata": {},
   "source": [
    "Negation words such as: “not”, “no”, and “nor” are part of NLTK’s stop word list. However, removing negation words from the text may be undesirable for some tasks, such as sentiment analysis. In the next cell, we show how to remove words from stop words lists."
   ]
  },
  {
   "cell_type": "code",
   "execution_count": 34,
   "id": "fc0dcf3c-f8c4-4dbe-9667-bbb2fab8a690",
   "metadata": {},
   "outputs": [],
   "source": [
    "# Modify nltk's stop word list: Remove negation words\n",
    "\n",
    "not_stopwords = {\"no\", \"nor\", \"not\"}\n",
    "\n",
    "custom_stopwords = set(\n",
    "    [word for word in stopwords_english if word not in not_stopwords]\n",
    ")"
   ]
  },
  {
   "cell_type": "markdown",
   "id": "15e3b569-14d2-4156-8e6a-31d6ba5d9bb3",
   "metadata": {},
   "source": [
    "We can also add words to stop words lists like this.\n",
    "\n"
   ]
  },
  {
   "cell_type": "code",
   "execution_count": 35,
   "id": "34a9776b-ecc9-45e3-abea-9a7f5d2fd3da",
   "metadata": {},
   "outputs": [],
   "source": [
    "# Modify nltk's stop word list: Add tokens \"'s'\" and \"'m\"\n",
    "\n",
    "custom_stopwords = custom_stopwords.union({\"'s\", \"'m\"})"
   ]
  },
  {
   "cell_type": "code",
   "execution_count": 36,
   "id": "beac16e8-0939-409b-a329-abd79821cec0",
   "metadata": {},
   "outputs": [
    {
     "name": "stdout",
     "output_type": "stream",
     "text": [
      "178 stopwords in customized NLTK's list.\n",
      "\n",
      "{'then', \"she's\", 'where', 'herself', 'both', 'above', \"couldn't\", \"that'll\", 'yourselves', 'haven', 'she', 'which', 'but', 'into', 'ain', 'my', \"don't\", 'are', 'below', 'on', 'they', 'this', 'these', \"weren't\", 'shan', 'how', 'itself', 'further', 'some', 'wouldn', 'it', 'with', 'up', 'that', 'won', 'most', 'do', 'he', 'very', 'our', 'himself', \"won't\", 'her', 'too', 'few', 'me', 'were', 'there', 'other', 'their', \"haven't\", 'had', 'about', 'doesn', 'yourself', 'ourselves', 're', 'did', 'your', 'those', 'does', 'only', 'down', 'once', 'again', 'was', 'themselves', 'having', 'y', 'aren', 'hers', 'and', 'at', 'isn', \"you'd\", 'as', 'i', 'doing', 'have', 'or', 'between', 'out', 'during', 'of', 'in', \"mustn't\", 'each', \"wasn't\", 'has', 'you', 'for', 'against', 'before', \"you've\", 'through', 'over', \"it's\", 'will', \"hadn't\", 'ours', 'all', 'hadn', 'by', 'because', 'under', 'its', 'if', \"should've\", \"'m\", 'o', \"you'll\", 'being', 'mightn', \"needn't\", 'am', \"shan't\", 'here', 'own', 'shouldn', 'such', \"shouldn't\", 'wasn', 'more', 'a', 'needn', 'weren', \"wouldn't\", 'after', 'when', 's', 'them', 'the', 'll', 'whom', 'an', 'while', 'so', 'until', 'been', 'just', 'couldn', 'why', 'who', 't', 'ma', \"'s\", \"isn't\", 'don', \"doesn't\", 'than', 'm', 'mustn', \"didn't\", 'myself', 'what', \"aren't\", 'from', 'his', 've', 'didn', 'hasn', 'yours', 'is', 'him', \"hasn't\", 'to', 'off', \"mightn't\", 'now', 'can', \"you're\", 'd', 'we', 'any', 'be', 'should', 'same', 'theirs'}\n"
     ]
    }
   ],
   "source": [
    "print(\"{} stopwords in customized NLTK's list.\\n\".format(len(custom_stopwords)))\n",
    "\n",
    "print(custom_stopwords)"
   ]
  },
  {
   "cell_type": "code",
   "execution_count": 37,
   "id": "43e7d5ab-9f29-41bf-9d18-e209e422dc5f",
   "metadata": {},
   "outputs": [
    {
     "data": {
      "text/plain": [
       "False"
      ]
     },
     "execution_count": 37,
     "metadata": {},
     "output_type": "execute_result"
    }
   ],
   "source": [
    "# Check if 'no' is in custom_stopwords\n",
    "\n",
    "\"no\" in custom_stopwords"
   ]
  },
  {
   "cell_type": "code",
   "execution_count": 38,
   "id": "73db4110-2dba-47c0-80cc-7d58ed210cda",
   "metadata": {},
   "outputs": [
    {
     "data": {
      "text/plain": [
       "True"
      ]
     },
     "execution_count": 38,
     "metadata": {},
     "output_type": "execute_result"
    }
   ],
   "source": [
    "# Check if \"'s\" is in custom_stopwords\n",
    "\n",
    "\"'s\" in custom_stopwords"
   ]
  },
  {
   "cell_type": "code",
   "execution_count": 39,
   "id": "ad5f06c6-ef81-4d40-a7c8-8dab8d1688dd",
   "metadata": {},
   "outputs": [
    {
     "data": {
      "text/plain": [
       "True"
      ]
     },
     "execution_count": 39,
     "metadata": {},
     "output_type": "execute_result"
    }
   ],
   "source": [
    "# Check if \"'m\" is in custom_stopwords\n",
    "\n",
    "\"'m\" in custom_stopwords"
   ]
  },
  {
   "cell_type": "markdown",
   "id": "7cb9171c-8e15-4c41-a336-440020332ca3",
   "metadata": {},
   "source": [
    "Let’s remove stop words using our custom_stopwords."
   ]
  },
  {
   "cell_type": "code",
   "execution_count": 40,
   "id": "aba639b7-14bf-446a-8936-1084ced73a0e",
   "metadata": {},
   "outputs": [
    {
     "name": "stdout",
     "output_type": "stream",
     "text": [
      "After removing stop words using our custom stopwords list: \n",
      "n't like director suit . loved movie ! /\n",
      "\n"
     ]
    }
   ],
   "source": [
    "clean_sample = \" \".join(\n",
    "    [tok for tok in review_tokenizer(clean_sample) if tok not in custom_stopwords]\n",
    ")\n",
    "print(\n",
    "    \"After removing stop words using our custom stopwords list: \\n{}\\n\".format(\n",
    "        clean_sample\n",
    "    )\n",
    ")\n"
   ]
  },
  {
   "cell_type": "markdown",
   "id": "e40cc8ae-97ea-44a7-a787-96557ee4b704",
   "metadata": {},
   "source": [
    "#### Punctuation\n",
    "We will now remove punctuation characters using the string library.\n",
    "\n"
   ]
  },
  {
   "cell_type": "code",
   "execution_count": 41,
   "id": "6027931b-ebf6-4a2e-b556-bbbfc09ed2ab",
   "metadata": {},
   "outputs": [
    {
     "name": "stdout",
     "output_type": "stream",
     "text": [
      "<class 'str'>\n",
      "!\"#$%&'()*+,-./:;<=>?@[\\]^_`{|}~\n"
     ]
    }
   ],
   "source": [
    "import string\n",
    "\n",
    "# string.punctuation returns all punctuation characters in a string\n",
    "print(type(string.punctuation))\n",
    "print(string.punctuation)\n"
   ]
  },
  {
   "cell_type": "markdown",
   "id": "3ffe1265-0fb6-40c8-809c-5840fbd8ea4f",
   "metadata": {},
   "source": [
    "We can remove punctuation characters using the review_tokenizer function and list comprehensions."
   ]
  },
  {
   "cell_type": "code",
   "execution_count": 42,
   "id": "9d701284-8f89-4f75-9c1f-1bd6f20d1b6e",
   "metadata": {},
   "outputs": [
    {
     "data": {
      "text/plain": [
       "\"n't like director suit loved movie\""
      ]
     },
     "execution_count": 42,
     "metadata": {},
     "output_type": "execute_result"
    }
   ],
   "source": [
    "# Use a list comprehension to remove punctuation characters from clean_sample\n",
    "\" \".join(\n",
    "    [tok for tok in review_tokenizer(clean_sample) if tok not in string.punctuation]\n",
    ")"
   ]
  },
  {
   "cell_type": "markdown",
   "id": "56b3d5ff-e870-4b01-8982-74f13e3e3c24",
   "metadata": {},
   "source": [
    "#### Stemming\n",
    "Stemming is a commonly used technique for reducing vocabulary size. It is the process of converting a word to its “root” or “stem”, mainly by stripping suffixes from the end of a word. Note that stemming can produce non-words, i.e., words that you won’t find in a dictionary, so please keep this in mind if you need your preprocessed text to be “readable”.\n",
    "\n",
    "Below are a few examples of how stemming works."
   ]
  },
  {
   "cell_type": "code",
   "execution_count": 54,
   "id": "2e54f7d1-fe57-4e6e-a4a9-ca5aa5c2eb78",
   "metadata": {},
   "outputs": [
    {
     "data": {
      "image/png": "[encoded data removed]",
      "text/plain": [
       "<IPython.core.display.Image object>"
      ]
     },
     "execution_count": 54,
     "metadata": {},
     "output_type": "execute_result"
    }
   ],
   "source": [
    "from IPython.display import Image\n",
    "Image(filename=\"stemming.png\")"
   ]
  },
  {
   "cell_type": "markdown",
   "id": "4f51af5a-fcdc-47ad-b632-db21ac53cb64",
   "metadata": {},
   "source": [
    "The Porter stemmer is widely used for English text and is available in the NLTK library."
   ]
  },
  {
   "cell_type": "code",
   "execution_count": 43,
   "id": "fa4e996f-8420-46ab-aba5-3f91a145570b",
   "metadata": {},
   "outputs": [],
   "source": [
    "# Load stemmer\n",
    "from nltk.stem.porter import PorterStemmer\n",
    "\n",
    "# Create an instance of the PorterStemmer object\n",
    "stemmer = PorterStemmer()"
   ]
  },
  {
   "cell_type": "markdown",
   "id": "84b59037-7f70-4122-9415-d39b14bdcc6c",
   "metadata": {},
   "source": [
    "To stem a word, we call the stem function of the stemmer. Let’s see this with a few examples below.\n",
    "\n"
   ]
  },
  {
   "cell_type": "code",
   "execution_count": 44,
   "id": "ad1ed7b2-9f18-416f-817f-b269a08f6e30",
   "metadata": {},
   "outputs": [
    {
     "data": {
      "text/plain": [
       "'love'"
      ]
     },
     "execution_count": 44,
     "metadata": {},
     "output_type": "execute_result"
    }
   ],
   "source": [
    "# Stem of \"loved\"\n",
    "stemmer.stem(\"loved\")"
   ]
  },
  {
   "cell_type": "code",
   "execution_count": 45,
   "id": "e74708ca-5547-478b-abfe-56ce50e88dc7",
   "metadata": {},
   "outputs": [
    {
     "data": {
      "text/plain": [
       "'love'"
      ]
     },
     "execution_count": 45,
     "metadata": {},
     "output_type": "execute_result"
    }
   ],
   "source": [
    "# Stem of \"love\"\n",
    "stemmer.stem(\"love\")"
   ]
  },
  {
   "cell_type": "markdown",
   "id": "a0a6e008-f234-434f-a6ab-d3e19fd50e67",
   "metadata": {},
   "source": [
    "Below we include stemming in our preprocessing pipeline.\n",
    "\n"
   ]
  },
  {
   "cell_type": "code",
   "execution_count": 46,
   "id": "78bb5bdf-2ce8-452e-adcc-692563f723b8",
   "metadata": {},
   "outputs": [
    {
     "name": "stdout",
     "output_type": "stream",
     "text": [
      "Raw sample: \n",
      "I don't like the director's suit. But I LOVED his movie! 10/10 <br /><br />\n",
      "\n",
      "Remove line breaks and numbers: \n",
      "I don't like the director's suit. But I LOVED his movie! /   \n",
      "\n",
      "Convert to lowercase: \n",
      "i don't like the director's suit. but i loved his movie! /   \n",
      "\n",
      "Remove stopwords & punctuation and stem tokens: \n",
      "n't like director suit love movi\n",
      "\n"
     ]
    }
   ],
   "source": [
    "print(\"Raw sample: \\n{}\\n\".format(sample))\n",
    "\n",
    "# Remove html code for line breaks\n",
    "clean_sample = re.sub(r\"<br />\", \" \", sample)\n",
    "\n",
    "# Remove numbers\n",
    "clean_sample = re.sub(r\"\\d+\", \"\", clean_sample)\n",
    "\n",
    "print(\"Remove line breaks and numbers: \\n{}\\n\".format(clean_sample))\n",
    "\n",
    "# Case folding\n",
    "clean_sample = clean_sample.lower()\n",
    "print(\"Convert to lowercase: \\n{}\\n\".format(clean_sample))\n",
    "\n",
    "# Remove stopwords & punctuation and stem tokens\n",
    "clean_sample = \" \".join(\n",
    "    [\n",
    "        stemmer.stem(word)\n",
    "        for word in review_tokenizer(clean_sample)\n",
    "        if (word not in string.punctuation) and (word not in custom_stopwords)\n",
    "    ]\n",
    ")\n",
    "\n",
    "print(\"Remove stopwords & punctuation and stem tokens: \\n{}\\n\".format(clean_sample))\n"
   ]
  },
  {
   "cell_type": "markdown",
   "id": "90be4941-d99d-49ec-8785-54b44a54a608",
   "metadata": {},
   "source": [
    "As we see, after processing, we reduced our text sample to: “n’t like director suit love movi”. We were able to keep “informative” terms in the processed text, such as: “n’t”, “like” and “love”, which can help to guess the “sentiment” of this movie review."
   ]
  },
  {
   "cell_type": "markdown",
   "id": "b2df18ef-d4e6-4b4d-8be8-d8089404765c",
   "metadata": {},
   "source": [
    "##### Stemming vs. Lemmatization\n",
    "\n",
    "In the previous cells, we used stemming to connect similar words and reduce vocabulary size. However, stemming can generate “non-words”, i.e., words you won’t find in a dictionary. If you need your preprocessed text to be “readable”, then you may prefer lemmatization. Lemmatization is the process of converting words to their “dictionary” form (lemma). It is used for keyword extraction and topic analysis tasks, as it always produces interpretable “terms”."
   ]
  },
  {
   "cell_type": "markdown",
   "id": "66e9d57f-7858-4359-9f82-388408b6f5d7",
   "metadata": {},
   "source": [
    "#### The process_review function\n",
    "Now let’s put everything together and create the process_review function, which reviews and processes a review."
   ]
  },
  {
   "cell_type": "code",
   "execution_count": 47,
   "id": "1ceac801-182d-4e4d-913e-da6954731988",
   "metadata": {},
   "outputs": [],
   "source": [
    "def preprocess_review(text):\n",
    "\n",
    "    \"\"\"\n",
    "    Preprocess raw samples of text.\n",
    "\n",
    "    INPUT:\n",
    "    - text: raw text (string)\n",
    "\n",
    "    OUTPUT:\n",
    "    - clean_text: processed text (string)\n",
    "    \"\"\"\n",
    "\n",
    "    clean_text = text\n",
    "\n",
    "    # Case folding\n",
    "    clean_text = clean_text.lower()\n",
    "\n",
    "    # Remove html code for line breaks\n",
    "    clean_text = re.sub(r\"<br />\", \" \", clean_text)\n",
    "\n",
    "    # Remove numbers\n",
    "    clean_text = re.sub(r\"\\d+\", \"\", clean_text)\n",
    "    \n",
    "    # Strip periods (otherwise, sent_tokenize throws an error)\n",
    "    clean_text = clean_text.strip('\\. ') \n",
    "\n",
    "    # Tokenize review\n",
    "    tokens = review_tokenizer(clean_text)\n",
    "\n",
    "    # Remove punctuation, stop words, single char tokens and stem tokens\n",
    "    clean_text = \" \".join(\n",
    "        [\n",
    "            stemmer.stem(tok)\n",
    "            for tok in tokens\n",
    "            if (tok not in string.punctuation)\n",
    "            and (tok not in custom_stopwords)\n",
    "            and (len(tok) > 1)\n",
    "        ]\n",
    "    )\n",
    "\n",
    "    # Remove multiple punctuation characters (otherwise not removed)\n",
    "    clean_text = re.sub(r\"[\\'*_`\\.-]{2,}\", \" \", clean_text)\n",
    "\n",
    "    return clean_text"
   ]
  },
  {
   "cell_type": "markdown",
   "id": "4ca2bf4f-b029-4149-aad9-28ae83effa08",
   "metadata": {},
   "source": [
    "Let’s test this function with a few examples."
   ]
  },
  {
   "cell_type": "code",
   "execution_count": 48,
   "id": "2d147417-df35-4455-9ee1-3b0d5f28a7d3",
   "metadata": {},
   "outputs": [
    {
     "name": "stdout",
     "output_type": "stream",
     "text": [
      "Before cleaning: \n",
      "I was not expecting much going in to this, but still came away disappointed. This was my least favorite Halestorm production I have seen. I thought it was supposed to be a comedy, but I only snickered at 3 or 4 jokes. Is it really a funny gag to see a fat guy eating donuts and falling down over and over? What was up with the janitor in Heaven scene? Fred Willard has been hilarious with some of his Christopher Guest collaborations, but this did not work. They must have spent all the budget on getting \"known\" actors to appear in this because there was no lighting budget. It looked like it was filmed with a video camera and most scenes were very dark. Does it really take that much film to show someone actually shoot and make a basket, as opposed to cutting away and editing a ball swishing through a basket? I try not to be too critical of low budget comedies, but if you want to see something funny go to a real Church basketball game instead of this movie.\n",
      "\n",
      "After cleaning: \n",
      "not expect much go still came away disappoint least favorit halestorm product seen thought suppos comedi snicker joke realli funni gag see fat guy eat donut fall janitor heaven scene fred willard hilari christoph guest collabor not work must spent budget get   known   actor appear no light budget look like film video camera scene dark realli take much film show someon actual shoot make basket oppos cut away edit ball swish basket tri not critic low budget comedi want see someth funni go real church basketbal game instead movi\n",
      "\n"
     ]
    }
   ],
   "source": [
    "# Sample a review randomly from the training data\n",
    "import random\n",
    "\n",
    "sample = df.iloc[random.randint(0, len(df) - 1), 0]\n",
    "\n",
    "print(\"Before cleaning: \\n{}\\n\".format(sample))\n",
    "print(\"After cleaning: \\n{}\\n\".format(preprocess_review(sample)))\n"
   ]
  },
  {
   "cell_type": "markdown",
   "id": "7dd76058-af0e-4680-9779-0437d62b8a96",
   "metadata": {},
   "source": [
    "Let’s now go ahead and apply the preprocess_review function to the training and test data. We will add the processed text to a new column clean_text in the dataframes df and df_test."
   ]
  },
  {
   "cell_type": "code",
   "execution_count": 49,
   "id": "121eba1f-1d61-478e-be93-2a2eb4bda7ef",
   "metadata": {},
   "outputs": [
    {
     "name": "stdout",
     "output_type": "stream",
     "text": [
      "Training data:  (7985, 3)\n",
      "Test data:      (7962, 3)\n"
     ]
    }
   ],
   "source": [
    "# Preprocess training data\n",
    "df[\"clean_text\"] = df[\"text\"].apply(preprocess_review)\n",
    "# Preprocess test data\n",
    "df_test[\"clean_text\"] = df_test[\"text\"].apply(preprocess_review)\n",
    "# Re-order columns\n",
    "df = df[[\"text\", \"clean_text\", \"label\"]].copy()\n",
    "df_test = df_test[[\"text\", \"clean_text\", \"label\"]].copy()\n",
    "\n",
    "# Drop duplicates\n",
    "# Good practice: re-check for duplicates after cleaning\n",
    "df = df.drop_duplicates(\"clean_text\")\n",
    "df_test = df_test.drop_duplicates(\"clean_text\")\n",
    "\n",
    "# Reset index\n",
    "df.reset_index(inplace=True, drop=True)\n",
    "df_test.reset_index(inplace=True, drop=True)\n",
    "\n",
    "print(\"Training data: \", df.shape)\n",
    "print(\"Test data:     \", df_test.shape)\n"
   ]
  },
  {
   "cell_type": "markdown",
   "id": "fc98f828-4ef7-4d95-940d-a1598ee52973",
   "metadata": {},
   "source": [
    "Below, we print a sample from the training and test data.\n",
    "\n"
   ]
  },
  {
   "cell_type": "code",
   "execution_count": 50,
   "id": "779f7d80-a0b4-41e0-9b1b-d3ccb751f777",
   "metadata": {},
   "outputs": [
    {
     "data": {
      "text/html": [
       "<div>\n",
       "<style scoped>\n",
       "    .dataframe tbody tr th:only-of-type {\n",
       "        vertical-align: middle;\n",
       "    }\n",
       "\n",
       "    .dataframe tbody tr th {\n",
       "        vertical-align: top;\n",
       "    }\n",
       "\n",
       "    .dataframe thead th {\n",
       "        text-align: right;\n",
       "    }\n",
       "</style>\n",
       "<table border=\"1\" class=\"dataframe\">\n",
       "  <thead>\n",
       "    <tr style=\"text-align: right;\">\n",
       "      <th></th>\n",
       "      <th>text</th>\n",
       "      <th>clean_text</th>\n",
       "      <th>label</th>\n",
       "    </tr>\n",
       "  </thead>\n",
       "  <tbody>\n",
       "    <tr>\n",
       "      <th>5952</th>\n",
       "      <td>An okay film, with a fine leading lady, but a ...</td>\n",
       "      <td>okay film fine lead ladi terribl lead man step...</td>\n",
       "      <td>0</td>\n",
       "    </tr>\n",
       "  </tbody>\n",
       "</table>\n",
       "</div>"
      ],
      "text/plain": [
       "                                                   text  \\\n",
       "5952  An okay film, with a fine leading lady, but a ...   \n",
       "\n",
       "                                             clean_text  label  \n",
       "5952  okay film fine lead ladi terribl lead man step...      0  "
      ]
     },
     "execution_count": 50,
     "metadata": {},
     "output_type": "execute_result"
    }
   ],
   "source": [
    "# Training data\n",
    "df.sample()"
   ]
  },
  {
   "cell_type": "code",
   "execution_count": 51,
   "id": "9f7e4aa2-ad7a-4462-8276-2979dc9a3aa5",
   "metadata": {},
   "outputs": [
    {
     "data": {
      "text/html": [
       "<div>\n",
       "<style scoped>\n",
       "    .dataframe tbody tr th:only-of-type {\n",
       "        vertical-align: middle;\n",
       "    }\n",
       "\n",
       "    .dataframe tbody tr th {\n",
       "        vertical-align: top;\n",
       "    }\n",
       "\n",
       "    .dataframe thead th {\n",
       "        text-align: right;\n",
       "    }\n",
       "</style>\n",
       "<table border=\"1\" class=\"dataframe\">\n",
       "  <thead>\n",
       "    <tr style=\"text-align: right;\">\n",
       "      <th></th>\n",
       "      <th>text</th>\n",
       "      <th>clean_text</th>\n",
       "      <th>label</th>\n",
       "    </tr>\n",
       "  </thead>\n",
       "  <tbody>\n",
       "    <tr>\n",
       "      <th>1027</th>\n",
       "      <td>So, this is the WORST movie you will probably ...</td>\n",
       "      <td>worst movi probabl ever see   crossbon     sou...</td>\n",
       "      <td>0</td>\n",
       "    </tr>\n",
       "  </tbody>\n",
       "</table>\n",
       "</div>"
      ],
      "text/plain": [
       "                                                   text  \\\n",
       "1027  So, this is the WORST movie you will probably ...   \n",
       "\n",
       "                                             clean_text  label  \n",
       "1027  worst movi probabl ever see   crossbon     sou...      0  "
      ]
     },
     "execution_count": 51,
     "metadata": {},
     "output_type": "execute_result"
    }
   ],
   "source": [
    "# Test data\n",
    "df_test.sample()\n"
   ]
  },
  {
   "cell_type": "markdown",
   "id": "e3121801-0dc4-4555-8230-08b967699f0e",
   "metadata": {},
   "source": [
    "In the next unit, we show how to extract features from text data and build a classifier to automatically label movie reviews as “positive” or “negative”. For now, let’s save the preprocessed training and test datasets for the next unit."
   ]
  },
  {
   "cell_type": "code",
   "execution_count": 52,
   "id": "b307f4dd-796f-4f7e-80af-d9d1fd83beec",
   "metadata": {},
   "outputs": [],
   "source": [
    "# Export clean data\n",
    "df.to_pickle(\"c4_imdb-8k_train.pkl\")\n",
    "df_test.to_pickle(\"c4_imdb-8k_test.pkl\")"
   ]
  },
  {
   "cell_type": "markdown",
   "id": "b9095659-bc10-425e-8fd2-22cadd7a8f49",
   "metadata": {},
   "source": [
    "### Machine learning with text data: Feature extraction and modeling"
   ]
  },
  {
   "cell_type": "markdown",
   "id": "1de1eb4a-7b8f-47dc-8895-0ee8294c3469",
   "metadata": {},
   "source": [
    "In the previous unit, we saw how to preprocess text data to remove uninformative terms and reduce variability by standardizing terms in the previous unit. In this unit, we will focus on feature extraction from text data and building a text classifier.\n",
    "\n",
    "There are several ways to get numerical representations from texts. For example, we saw how to extract text embeddings using pre-trained neural networks from TensorFlow Hub when discussing deep learning. In this unit, we will learn about two other popular techniques: the Bag of words model and Tf-idf term weighting. These techniques do not use neural networks but work well in a variety of tasks involving text.\n",
    "\n",
    "After extracting features from text data, we will build a machine learning model to automatically label movie reviews as “positive” or “negative”. We will also discuss techniques for reducing vocabulary size and performing feature selection."
   ]
  },
  {
   "cell_type": "markdown",
   "id": "c7be54ce-ac6b-4559-917e-13b5aa32b233",
   "metadata": {},
   "source": [
    "#### Loading the training/test data\n",
    "We will start by loading the necessary libraries and the training and test data saved in the previous unit."
   ]
  },
  {
   "cell_type": "code",
   "execution_count": 2,
   "id": "9183dbbc-b271-4e9c-baa7-1ff24cf2777a",
   "metadata": {},
   "outputs": [
    {
     "data": {
      "text/html": [
       "<div>\n",
       "<style scoped>\n",
       "    .dataframe tbody tr th:only-of-type {\n",
       "        vertical-align: middle;\n",
       "    }\n",
       "\n",
       "    .dataframe tbody tr th {\n",
       "        vertical-align: top;\n",
       "    }\n",
       "\n",
       "    .dataframe thead th {\n",
       "        text-align: right;\n",
       "    }\n",
       "</style>\n",
       "<table border=\"1\" class=\"dataframe\">\n",
       "  <thead>\n",
       "    <tr style=\"text-align: right;\">\n",
       "      <th></th>\n",
       "      <th>text</th>\n",
       "      <th>clean_text</th>\n",
       "      <th>label</th>\n",
       "    </tr>\n",
       "  </thead>\n",
       "  <tbody>\n",
       "    <tr>\n",
       "      <th>1450</th>\n",
       "      <td>We loved School of Rock and Jack Black. We cou...</td>\n",
       "      <td>love school rock jack black could n't wait go ...</td>\n",
       "      <td>0</td>\n",
       "    </tr>\n",
       "    <tr>\n",
       "      <th>5089</th>\n",
       "      <td>Man, this movie sucked big time! I didn't even...</td>\n",
       "      <td>man movi suck big time n't even manag see hole...</td>\n",
       "      <td>0</td>\n",
       "    </tr>\n",
       "  </tbody>\n",
       "</table>\n",
       "</div>"
      ],
      "text/plain": [
       "                                                   text  \\\n",
       "1450  We loved School of Rock and Jack Black. We cou...   \n",
       "5089  Man, this movie sucked big time! I didn't even...   \n",
       "\n",
       "                                             clean_text  label  \n",
       "1450  love school rock jack black could n't wait go ...      0  \n",
       "5089  man movi suck big time n't even manag see hole...      0  "
      ]
     },
     "execution_count": 2,
     "metadata": {},
     "output_type": "execute_result"
    }
   ],
   "source": [
    "# Import libraries\n",
    "import os\n",
    "import numpy as np\n",
    "import pandas as pd\n",
    "import matplotlib.pyplot as plt\n",
    "import seaborn as sns\n",
    "\n",
    "%matplotlib inline\n",
    "# Load cleaned data\n",
    "import pickle\n",
    "\n",
    "with open(\"c4_imdb-8k_train.pkl\", \"rb\") as f:\n",
    "    df = pickle.load(f)\n",
    "\n",
    "with open(\"c4_imdb-8k_test.pkl\", \"rb\") as f:\n",
    "    df_test = pickle.load(f)\n",
    "# Show a few samples from training data\n",
    "df.sample(2)"
   ]
  },
  {
   "cell_type": "markdown",
   "id": "145c0146-b0e1-4e39-8a31-ce26bf844d36",
   "metadata": {},
   "source": [
    "#### Feature extraction for text: Bag of words\n",
    "The main idea behind the Bag of words method is to represent each text sample by a list of word counts, without keeping any information about the order of words in texts. We will start by applying the Bag of words model on a toy dataset. Once we explain how Bag of words works, we will use it with the previous unit’s cleaned data.\n",
    "\n",
    "Datasets of text are often called corpora, and text samples are called documents; these are two terms that you will often encounter when working with text data!"
   ]
  },
  {
   "cell_type": "code",
   "execution_count": 4,
   "id": "24ecf30e-d357-4a19-a097-837b43c20c19",
   "metadata": {},
   "outputs": [
    {
     "name": "stdout",
     "output_type": "stream",
     "text": [
      "Toy corpus:\n",
      "\n",
      "['Scikit-learn makes ML easy, easy as 123', 'Learning TensorFlow for deep learning']\n"
     ]
    }
   ],
   "source": [
    "# Toy corpus with two documents\n",
    "X_toy = [\n",
    "    \"Scikit-learn makes ML easy, easy as 123\",\n",
    "    \"Learning TensorFlow for deep learning\",\n",
    "]\n",
    "\n",
    "# Show toy corpus\n",
    "print(\"Toy corpus:\\n\")\n",
    "print(list(X_toy))"
   ]
  },
  {
   "cell_type": "markdown",
   "id": "e285b780-bfa8-43f2-b52e-5341112a7a0b",
   "metadata": {},
   "source": [
    "We can implement the Bag of words model with the CountVectorizer object from scikit-learn.\n",
    "\n",
    "Below we import the Bag of words model and create an instance of it.\n",
    "\n"
   ]
  },
  {
   "cell_type": "code",
   "execution_count": 5,
   "id": "0d44b98a-1dad-465a-a692-0eb3b6eb6d1f",
   "metadata": {},
   "outputs": [],
   "source": [
    "# Import CountVectorizer\n",
    "from sklearn.feature_extraction.text import CountVectorizer\n",
    "\n",
    "# Create an instance of CountVectorizer\n",
    "vectorizer = CountVectorizer()"
   ]
  },
  {
   "cell_type": "markdown",
   "id": "f691e950-d42e-4dad-95a3-96d0c8e56717",
   "metadata": {},
   "source": [
    "Next, we call the fit method of CountVectorizer on the toy corpus."
   ]
  },
  {
   "cell_type": "code",
   "execution_count": 6,
   "id": "89f69d17-e76f-4924-8060-c63b50e306af",
   "metadata": {},
   "outputs": [
    {
     "data": {
      "text/plain": [
       "CountVectorizer()"
      ]
     },
     "execution_count": 6,
     "metadata": {},
     "output_type": "execute_result"
    }
   ],
   "source": [
    "# Fit Bag of words (BoW) on toy corpus\n",
    "vectorizer.fit(X_toy)"
   ]
  },
  {
   "cell_type": "markdown",
   "id": "bdd10d8f-00fc-433c-be6c-c043a4185e69",
   "metadata": {},
   "source": [
    "A couple of things happen once we call the fit method of CountVectorizer on our text data.\n",
    "\n",
    "First, the CountVectorizer model tokenizes all texts in the corpus and builds the vocabulary (i.e., the list of unique words in the corpus). We can check which words are in the vocabulary using the get_feature_names_out method."
   ]
  },
  {
   "cell_type": "code",
   "execution_count": 7,
   "id": "a0d926f2-51c4-44b5-abfe-4b516f4b6faa",
   "metadata": {},
   "outputs": [
    {
     "name": "stdout",
     "output_type": "stream",
     "text": [
      "Vocabulary length: 11\n",
      "\n",
      "['123' 'as' 'deep' 'easy' 'for' 'learn' 'learning' 'makes' 'ml' 'scikit'\n",
      " 'tensorflow']\n"
     ]
    }
   ],
   "source": [
    "# Show vocabulary\n",
    "vocabulary = vectorizer.get_feature_names_out()\n",
    "\n",
    "# Print vocabulary length\n",
    "print(\"Vocabulary length: {}\\n\".format(len(vocabulary)))\n",
    "\n",
    "# Show words in the vocabulary\n",
    "print(vocabulary)"
   ]
  },
  {
   "cell_type": "markdown",
   "id": "fcb52185-675a-42da-a431-acdc7a171fce",
   "metadata": {},
   "source": [
    "In this case, there are 11 words in the vocabulary. Notice that the words in the vocabulary appear in alphabetical order, i.e., Bag of words doesn’t keep any information about word order in text data.\n",
    "\n",
    "Once the texts are tokenized, and the vocabulary is established, Bag of Words counts how many times each word appears in each text from the corpus. We call the transform method to transform each text sample into its Bag of words representation."
   ]
  },
  {
   "cell_type": "code",
   "execution_count": 8,
   "id": "4c40c2bc-ece6-40ae-9651-497981efcabb",
   "metadata": {},
   "outputs": [
    {
     "name": "stdout",
     "output_type": "stream",
     "text": [
      "(2, 11)\n"
     ]
    }
   ],
   "source": [
    "# Get Bag of words representation of toy data\n",
    "X_bow_toy = vectorizer.transform(X_toy)\n",
    "\n",
    "print(X_bow_toy.shape)"
   ]
  },
  {
   "cell_type": "markdown",
   "id": "0bf5957f-e6ee-43d0-9c1a-feedcf427667",
   "metadata": {},
   "source": [
    "The shape of X_bow_toy is (2,11). Each row corresponds to a text from the corpus and each column to a word in the vocabulary."
   ]
  },
  {
   "cell_type": "markdown",
   "id": "b3eda03d-35a8-4300-8f78-5bf6f31afd6a",
   "metadata": {},
   "source": [
    "#### The fit_transform method\n",
    "\n",
    "We called the fit and transform methods in sequence on the toy data in the last cells. Note, however, that like most other scikit-learn models, the CountVectorizer object also has a fit_transform method, which is equivalent to: CountVectorizer().fit(X_toy).transform(X_toy)\n",
    "\n",
    "Now, let’s see what X_bow_toy looks like. Generally, the Bag of words model generates lists of word counts that are long (typical sizes are: 10K - 1M) and sparse (i.e., most values are zero). For this reason, Scikit-learn stores only non-zero values in “sparse matrices”, which is more memory efficient."
   ]
  },
  {
   "cell_type": "code",
   "execution_count": 9,
   "id": "7a932a2e-0442-4401-82bc-b065a362432a",
   "metadata": {},
   "outputs": [
    {
     "data": {
      "text/plain": [
       "<2x11 sparse matrix of type '<class 'numpy.int64'>'\n",
       "\twith 11 stored elements in Compressed Sparse Row format>"
      ]
     },
     "metadata": {},
     "output_type": "display_data"
    }
   ],
   "source": [
    "# Scikit-learn uses sparse matrices instead of Numpy arrays\n",
    "display(X_bow_toy)\n"
   ]
  },
  {
   "cell_type": "markdown",
   "id": "e97d718c-9306-4058-ab6b-cd8b344d815f",
   "metadata": {},
   "source": [
    "But we can always get back the data as numpy arrays"
   ]
  },
  {
   "cell_type": "code",
   "execution_count": 10,
   "id": "13145b40-0559-4dd0-9705-ec11281cbc85",
   "metadata": {},
   "outputs": [
    {
     "data": {
      "text/plain": [
       "array([[1, 1, 0, 2, 0, 1, 0, 1, 1, 1, 0],\n",
       "       [0, 0, 1, 0, 1, 0, 2, 0, 0, 0, 1]], dtype=int64)"
      ]
     },
     "execution_count": 10,
     "metadata": {},
     "output_type": "execute_result"
    }
   ],
   "source": [
    "X_bow_toy.toarray()"
   ]
  },
  {
   "cell_type": "markdown",
   "id": "607783cf-f929-4140-8366-e569f5e36a57",
   "metadata": {},
   "source": [
    "We can check what X_bow_toy looks like using the following code snippet."
   ]
  },
  {
   "cell_type": "code",
   "execution_count": 11,
   "id": "363d012e-0672-416b-ac3b-9f1a45dc8cee",
   "metadata": {},
   "outputs": [
    {
     "data": {
      "text/html": [
       "<div>\n",
       "<style scoped>\n",
       "    .dataframe tbody tr th:only-of-type {\n",
       "        vertical-align: middle;\n",
       "    }\n",
       "\n",
       "    .dataframe tbody tr th {\n",
       "        vertical-align: top;\n",
       "    }\n",
       "\n",
       "    .dataframe thead th {\n",
       "        text-align: right;\n",
       "    }\n",
       "</style>\n",
       "<table border=\"1\" class=\"dataframe\">\n",
       "  <thead>\n",
       "    <tr style=\"text-align: right;\">\n",
       "      <th></th>\n",
       "      <th>123</th>\n",
       "      <th>as</th>\n",
       "      <th>deep</th>\n",
       "      <th>easy</th>\n",
       "      <th>for</th>\n",
       "      <th>learn</th>\n",
       "      <th>learning</th>\n",
       "      <th>makes</th>\n",
       "      <th>ml</th>\n",
       "      <th>scikit</th>\n",
       "      <th>tensorflow</th>\n",
       "    </tr>\n",
       "    <tr>\n",
       "      <th>Text</th>\n",
       "      <th></th>\n",
       "      <th></th>\n",
       "      <th></th>\n",
       "      <th></th>\n",
       "      <th></th>\n",
       "      <th></th>\n",
       "      <th></th>\n",
       "      <th></th>\n",
       "      <th></th>\n",
       "      <th></th>\n",
       "      <th></th>\n",
       "    </tr>\n",
       "  </thead>\n",
       "  <tbody>\n",
       "    <tr>\n",
       "      <th>Scikit-learn makes ML easy, easy as 123</th>\n",
       "      <td>1</td>\n",
       "      <td>1</td>\n",
       "      <td>0</td>\n",
       "      <td>2</td>\n",
       "      <td>0</td>\n",
       "      <td>1</td>\n",
       "      <td>0</td>\n",
       "      <td>1</td>\n",
       "      <td>1</td>\n",
       "      <td>1</td>\n",
       "      <td>0</td>\n",
       "    </tr>\n",
       "    <tr>\n",
       "      <th>Learning TensorFlow for deep learning</th>\n",
       "      <td>0</td>\n",
       "      <td>0</td>\n",
       "      <td>1</td>\n",
       "      <td>0</td>\n",
       "      <td>1</td>\n",
       "      <td>0</td>\n",
       "      <td>2</td>\n",
       "      <td>0</td>\n",
       "      <td>0</td>\n",
       "      <td>0</td>\n",
       "      <td>1</td>\n",
       "    </tr>\n",
       "  </tbody>\n",
       "</table>\n",
       "</div>"
      ],
      "text/plain": [
       "                                         123  as  deep  easy  for  learn  \\\n",
       "Text                                                                       \n",
       "Scikit-learn makes ML easy, easy as 123    1   1     0     2    0      1   \n",
       "Learning TensorFlow for deep learning      0   0     1     0    1      0   \n",
       "\n",
       "                                         learning  makes  ml  scikit  \\\n",
       "Text                                                                   \n",
       "Scikit-learn makes ML easy, easy as 123         0      1   1       1   \n",
       "Learning TensorFlow for deep learning           2      0   0       0   \n",
       "\n",
       "                                         tensorflow  \n",
       "Text                                                 \n",
       "Scikit-learn makes ML easy, easy as 123           0  \n",
       "Learning TensorFlow for deep learning             1  "
      ]
     },
     "execution_count": 11,
     "metadata": {},
     "output_type": "execute_result"
    }
   ],
   "source": [
    "df_BOW_toy = pd.DataFrame(\n",
    "    X_bow_toy.toarray(), columns=vectorizer.get_feature_names_out()\n",
    ")\n",
    "df_BOW_toy[\"Text\"] = X_toy\n",
    "df_BOW_toy.set_index(\"Text\", inplace=True)\n",
    "\n",
    "df_BOW_toy\n"
   ]
  },
  {
   "cell_type": "markdown",
   "id": "5a0473de-860f-4be1-b323-c42ddee18927",
   "metadata": {},
   "source": [
    "We can see that Bag of words has encoded each sample of text as a list of word counts:\n",
    "\n",
    "* Each column represents a word in the vocabulary.\n",
    "* Each row represents a document in the corpus.\n",
    "* Each cell represents the number of times a word (defined by a column) appears in a document (defined by a row).\n",
    "\n",
    "For example,\n",
    "\n",
    "* the word easy appears twice in the first document and zero times in second document.\n",
    "* the sentence: Scikit-learn makes ML easy, easy as 123 is represented by this list of numbers: [1, 1, 0, 2, 0, 1, 0, 1, 1, 1, 0].\n",
    "\n",
    "Now, it’s time to apply the Bag of words model to our cleaned training and test data. Below we create arrays of texts from the training and test data."
   ]
  },
  {
   "cell_type": "code",
   "execution_count": 12,
   "id": "980aef1b-96d3-4788-8631-8370f096914d",
   "metadata": {},
   "outputs": [],
   "source": [
    "# Create arrays of texts from training/test data\n",
    "# (scikit-learn models work better with np.arrays)\n",
    "\n",
    "X_train = df[\"clean_text\"].values\n",
    "X_test = df_test[\"clean_text\"].values"
   ]
  },
  {
   "cell_type": "markdown",
   "id": "773d1753-53d3-4c06-852b-56a7799cbe09",
   "metadata": {},
   "source": [
    "We first create an instance on CountVectorizer. Next we call the fit_transform method on the training data and the transform method on the test data."
   ]
  },
  {
   "cell_type": "code",
   "execution_count": 13,
   "id": "5d0c8eaa-3f1b-483d-8bbe-e1e04e5fe54d",
   "metadata": {},
   "outputs": [
    {
     "name": "stdout",
     "output_type": "stream",
     "text": [
      "Bag of words vectors\n",
      "Training data:  (7985, 31888)\n",
      "Test data:      (7962, 31888)\n"
     ]
    }
   ],
   "source": [
    "# Create an instance of CountVectorizer\n",
    "vectorizer = CountVectorizer()\n",
    "\n",
    "# Apply fit_transform method to training data\n",
    "X_bow = vectorizer.fit_transform(X_train)\n",
    "\n",
    "# Transform test data\n",
    "X_bow_te = vectorizer.transform(X_test)\n",
    "\n",
    "print(\"Bag of words vectors\")\n",
    "print(\"Training data:  {}\".format(X_bow.shape))\n",
    "print(\"Test data:      {}\".format(X_bow_te.shape))"
   ]
  },
  {
   "cell_type": "markdown",
   "id": "1e68d004-23b5-4356-963c-871ab414c843",
   "metadata": {},
   "source": [
    "We called the fit_transform method of the CountVectorizer object on the training data in the last cell. The fit_transform method will first fit the CountVectorizer object and build the vocabulary based on the training data. Then, the transform method will convert the training data to lists of word counts.\n",
    "\n",
    "Note that we should only use the transform method with the test data; this will transform the test data into lists of word counts based on the vocabulary built from the training data. Any words from the test data that are not part of the vocabulary will be ignored."
   ]
  },
  {
   "cell_type": "code",
   "execution_count": 14,
   "id": "9a05cfd3-8f16-4829-8418-a4244017d6b0",
   "metadata": {},
   "outputs": [
    {
     "name": "stdout",
     "output_type": "stream",
     "text": [
      "Vocabulary size: 31888\n",
      "\n",
      "Show some words from the vocabulary:\n",
      "\n",
      "['_a' 'abandon' 'abraham' 'acapulco' 'ackland' 'actually' 'admit'\n",
      " 'adventuresom' 'afghanistan' 'aghast' 'aicn' 'airwolf' 'alban' 'alfonso'\n",
      " 'alliances' 'already' 'amass' 'americanis' 'amrutl' 'ancona' 'angles'\n",
      " 'anne' 'anthropolog' 'any' 'apolit' 'apposit' 'arcan' 'ari' 'arn'\n",
      " 'artific' 'ashutosh' 'assumpt' 'athenean' 'attourney' 'aurora' 'av'\n",
      " 'awar' 'baad' 'backpack' 'bagpip' 'ball' 'bandi' 'barbed' 'baromet'\n",
      " 'basil' 'baudelair' 'beano' 'become' 'befoul' 'beli' 'beneath' 'berger'\n",
      " 'besson' 'bhansali' 'bigv' 'bipe' 'bizmarki' 'blameless' 'blender'\n",
      " 'blondi' 'bluesi' 'boddhisatva' 'boldli' 'bonnet' 'booti' 'bosom'\n",
      " 'bovasso' 'bragana' 'brave' 'bremen' 'briget' 'broadest' 'brow' 'buaku'\n",
      " 'bugaloo' 'bum' 'buri' 'businesstig' 'byrrh' 'caffeine' 'callahan'\n",
      " 'cammareri' 'cannabi' 'capshaw' 'carfax' 'carr' 'case' 'catacomb' 'cattl'\n",
      " 'ce' 'censored' 'chafe' 'chanel' 'charit' 'cheap' 'chef' 'chia' 'china'\n",
      " 'choral' 'chucki']\n"
     ]
    }
   ],
   "source": [
    "# Show vocabulary\n",
    "vocab = vectorizer.get_feature_names_out()\n",
    "\n",
    "print(\"Vocabulary size: {}\\n\".format(len(vocab)))\n",
    "\n",
    "print(\"Show some words from the vocabulary:\\n\")\n",
    "print(vocab[0:5000:50])"
   ]
  },
  {
   "cell_type": "markdown",
   "id": "42a37999-5f12-4880-8739-4269c6666f97",
   "metadata": {},
   "source": [
    "We can check what X_bow looks like using the following code snippet."
   ]
  },
  {
   "cell_type": "code",
   "execution_count": 15,
   "id": "fdd19c7b-f12a-4722-ac8c-ee75338c18b8",
   "metadata": {},
   "outputs": [
    {
     "data": {
      "text/html": [
       "<div>\n",
       "<style scoped>\n",
       "    .dataframe tbody tr th:only-of-type {\n",
       "        vertical-align: middle;\n",
       "    }\n",
       "\n",
       "    .dataframe tbody tr th {\n",
       "        vertical-align: top;\n",
       "    }\n",
       "\n",
       "    .dataframe thead th {\n",
       "        text-align: right;\n",
       "    }\n",
       "</style>\n",
       "<table border=\"1\" class=\"dataframe\">\n",
       "  <thead>\n",
       "    <tr style=\"text-align: right;\">\n",
       "      <th></th>\n",
       "      <th>_a</th>\n",
       "      <th>_any_</th>\n",
       "      <th>_apocalypt</th>\n",
       "      <th>_atlanti</th>\n",
       "      <th>_atlantis_</th>\n",
       "      <th>_both_</th>\n",
       "      <th>_could</th>\n",
       "      <th>_discuss_</th>\n",
       "      <th>_discussing_</th>\n",
       "      <th>_earned_</th>\n",
       "      <th>...</th>\n",
       "      <th>zuzz</th>\n",
       "      <th>zvezda</th>\n",
       "      <th>zwartboek</th>\n",
       "      <th>zwick</th>\n",
       "      <th>zz</th>\n",
       "      <th>zzzz</th>\n",
       "      <th>zzzzzzzz</th>\n",
       "      <th>zã</th>\n",
       "      <th>â½</th>\n",
       "      <th>ã¼ber</th>\n",
       "    </tr>\n",
       "  </thead>\n",
       "  <tbody>\n",
       "    <tr>\n",
       "      <th>doc_1</th>\n",
       "      <td>0</td>\n",
       "      <td>0</td>\n",
       "      <td>0</td>\n",
       "      <td>0</td>\n",
       "      <td>0</td>\n",
       "      <td>0</td>\n",
       "      <td>0</td>\n",
       "      <td>0</td>\n",
       "      <td>0</td>\n",
       "      <td>0</td>\n",
       "      <td>...</td>\n",
       "      <td>0</td>\n",
       "      <td>0</td>\n",
       "      <td>0</td>\n",
       "      <td>0</td>\n",
       "      <td>0</td>\n",
       "      <td>0</td>\n",
       "      <td>0</td>\n",
       "      <td>0</td>\n",
       "      <td>0</td>\n",
       "      <td>0</td>\n",
       "    </tr>\n",
       "    <tr>\n",
       "      <th>doc_2</th>\n",
       "      <td>0</td>\n",
       "      <td>0</td>\n",
       "      <td>0</td>\n",
       "      <td>0</td>\n",
       "      <td>0</td>\n",
       "      <td>0</td>\n",
       "      <td>0</td>\n",
       "      <td>0</td>\n",
       "      <td>0</td>\n",
       "      <td>0</td>\n",
       "      <td>...</td>\n",
       "      <td>0</td>\n",
       "      <td>0</td>\n",
       "      <td>0</td>\n",
       "      <td>0</td>\n",
       "      <td>0</td>\n",
       "      <td>0</td>\n",
       "      <td>0</td>\n",
       "      <td>0</td>\n",
       "      <td>0</td>\n",
       "      <td>0</td>\n",
       "    </tr>\n",
       "    <tr>\n",
       "      <th>doc_3</th>\n",
       "      <td>0</td>\n",
       "      <td>0</td>\n",
       "      <td>0</td>\n",
       "      <td>0</td>\n",
       "      <td>0</td>\n",
       "      <td>0</td>\n",
       "      <td>0</td>\n",
       "      <td>0</td>\n",
       "      <td>0</td>\n",
       "      <td>0</td>\n",
       "      <td>...</td>\n",
       "      <td>0</td>\n",
       "      <td>0</td>\n",
       "      <td>0</td>\n",
       "      <td>0</td>\n",
       "      <td>0</td>\n",
       "      <td>0</td>\n",
       "      <td>0</td>\n",
       "      <td>0</td>\n",
       "      <td>0</td>\n",
       "      <td>0</td>\n",
       "    </tr>\n",
       "    <tr>\n",
       "      <th>doc_4</th>\n",
       "      <td>0</td>\n",
       "      <td>0</td>\n",
       "      <td>0</td>\n",
       "      <td>0</td>\n",
       "      <td>0</td>\n",
       "      <td>0</td>\n",
       "      <td>0</td>\n",
       "      <td>0</td>\n",
       "      <td>0</td>\n",
       "      <td>0</td>\n",
       "      <td>...</td>\n",
       "      <td>0</td>\n",
       "      <td>0</td>\n",
       "      <td>0</td>\n",
       "      <td>0</td>\n",
       "      <td>0</td>\n",
       "      <td>0</td>\n",
       "      <td>0</td>\n",
       "      <td>0</td>\n",
       "      <td>0</td>\n",
       "      <td>0</td>\n",
       "    </tr>\n",
       "    <tr>\n",
       "      <th>doc_5</th>\n",
       "      <td>0</td>\n",
       "      <td>0</td>\n",
       "      <td>0</td>\n",
       "      <td>0</td>\n",
       "      <td>0</td>\n",
       "      <td>0</td>\n",
       "      <td>0</td>\n",
       "      <td>0</td>\n",
       "      <td>0</td>\n",
       "      <td>0</td>\n",
       "      <td>...</td>\n",
       "      <td>0</td>\n",
       "      <td>0</td>\n",
       "      <td>0</td>\n",
       "      <td>0</td>\n",
       "      <td>0</td>\n",
       "      <td>0</td>\n",
       "      <td>0</td>\n",
       "      <td>0</td>\n",
       "      <td>0</td>\n",
       "      <td>0</td>\n",
       "    </tr>\n",
       "  </tbody>\n",
       "</table>\n",
       "<p>5 rows × 31888 columns</p>\n",
       "</div>"
      ],
      "text/plain": [
       "       _a  _any_  _apocalypt  _atlanti  _atlantis_  _both_  _could  _discuss_  \\\n",
       "doc_1   0      0           0         0           0       0       0          0   \n",
       "doc_2   0      0           0         0           0       0       0          0   \n",
       "doc_3   0      0           0         0           0       0       0          0   \n",
       "doc_4   0      0           0         0           0       0       0          0   \n",
       "doc_5   0      0           0         0           0       0       0          0   \n",
       "\n",
       "       _discussing_  _earned_  ...  zuzz  zvezda  zwartboek  zwick  zz  zzzz  \\\n",
       "doc_1             0         0  ...     0       0          0      0   0     0   \n",
       "doc_2             0         0  ...     0       0          0      0   0     0   \n",
       "doc_3             0         0  ...     0       0          0      0   0     0   \n",
       "doc_4             0         0  ...     0       0          0      0   0     0   \n",
       "doc_5             0         0  ...     0       0          0      0   0     0   \n",
       "\n",
       "       zzzzzzzz  zã  â½  ã¼ber  \n",
       "doc_1         0   0   0      0  \n",
       "doc_2         0   0   0      0  \n",
       "doc_3         0   0   0      0  \n",
       "doc_4         0   0   0      0  \n",
       "doc_5         0   0   0      0  \n",
       "\n",
       "[5 rows x 31888 columns]"
      ]
     },
     "execution_count": 15,
     "metadata": {},
     "output_type": "execute_result"
    }
   ],
   "source": [
    "df_BOW = pd.DataFrame(X_bow.toarray(), columns=vectorizer.get_feature_names_out())\n",
    "df_BOW.index = [\"doc_\" + str(i + 1) for i in range(0, len(df_BOW))]\n",
    "df_BOW.head()"
   ]
  },
  {
   "cell_type": "code",
   "execution_count": 16,
   "id": "3bd551d1-aa0f-4455-92c7-8901d61399bf",
   "metadata": {},
   "outputs": [
    {
     "name": "stdout",
     "output_type": "stream",
     "text": [
      "Shape: (7985, 31888)\n"
     ]
    }
   ],
   "source": [
    "print(\"Shape: {}\".format(df_BOW.shape))\n"
   ]
  },
  {
   "cell_type": "markdown",
   "id": "540a9507-7ab2-4dd0-b8b2-5398633b03ed",
   "metadata": {},
   "source": [
    "Bag of words has encoded each document from the corpus into a list of word counts.\n",
    "\n",
    "Each column represents a word in the vocabulary. Each row represents a document in the corpus.\n",
    "The length of lists of word counts is equal to the size of the vocabulary.\n",
    "Bag of words generates lists of word counts that are long (typical sizes are: 10K - 1M) and sparse (i.e., most values are zero).\n",
    "\n",
    "#### Reducing the vocabulary size\n",
    "So far, we saw how to construct representations of text based on word frequencies. While simple to build, these representations are sparse, and high-dimensional which requires a lot of space and computational time to process. The CountVectorizer object provides parameters to select which terms are used for building the vocabulary and reduce the dimensionality of feature space.\n",
    "\n",
    "Below, we discuss themin_df, ngram_range, and max_features parameters. For more information, please check scikit-learn’s online documentation.\n",
    "\n",
    "##### min_df\n",
    "min_df is used to ignore rare terms in the corpus when building the vocabulary. For example, in the next cell, a min_df of 2 means including only words that appear in more than two documents in the vocabulary."
   ]
  },
  {
   "cell_type": "code",
   "execution_count": 17,
   "id": "41a9be44-60f0-451d-b572-77782a8c079f",
   "metadata": {},
   "outputs": [
    {
     "name": "stdout",
     "output_type": "stream",
     "text": [
      "Bag of words vectors:      (7985, 18598)\n"
     ]
    }
   ],
   "source": [
    "# min_df : ignore rare terms\n",
    "\n",
    "# Create an instance of CountVectorizer\n",
    "vectorizer = CountVectorizer(\n",
    "    min_df=2\n",
    ")  # ignore terms that appear in less than 2 reviews\n",
    "\n",
    "# Apply BoW to corpus\n",
    "X_bow = vectorizer.fit_transform(X_train)\n",
    "\n",
    "print(\"Bag of words vectors:      {}\".format(X_bow.shape))"
   ]
  },
  {
   "cell_type": "markdown",
   "id": "dd3b648c-b47e-44f9-8e80-9c29ea37febd",
   "metadata": {},
   "source": [
    "##### ngram_range\n",
    "So far, we consider only single words in our vocabulary. However, the “meaning” of a text may be lying in combinations of words, not just single words. Including longer n-grams, such as pairs or triplets of words appearing next to each other in a sentence, can help to incorporate more information about the content of a text into our models. Single words are also called unigrams, pairs of words bi-grams, and word triplets tri-grams.\n",
    "\n",
    "For example, an ngram_range of (1, 1) means including only unigrams in the vocabulary. An ngram_range of (1, 2) means including unigrams and bi-grams, and (2, 2) means including only bi-grams.\n",
    "\n",
    "Let’s see how this works with an example. Below, we create an instance of CountVectorizer where we use ngram_range=(1, 2) to include unigrams and bi-grams in the vocabulary. We also use min_df=2 to ignore rare words appearing in less than two documents in the training data."
   ]
  },
  {
   "cell_type": "code",
   "execution_count": 18,
   "id": "7f287746-54e8-4fb4-80e1-88069dfdbbec",
   "metadata": {},
   "outputs": [
    {
     "name": "stdout",
     "output_type": "stream",
     "text": [
      "Bag of words vectors:      (7985, 121519)\n",
      "\n",
      "Show some words from the vocabulary:\n",
      "\n",
      "['_the' 'aavjo' 'abandon idea' 'abbi' 'abe' 'abhorr' 'abil film'\n",
      " 'abil wish' 'abl complet' 'abl experi' 'abl identifi' 'abl pull'\n",
      " 'abl spot' 'abl use' 'abod' 'above averag' 'absenc' 'absolut absent'\n",
      " 'absolut brilliant' 'absolut fantast' 'absolut horrif' 'absolut not'\n",
      " 'absolut silli' 'absolut worst' 'absurd charact']\n"
     ]
    }
   ],
   "source": [
    "# ngram_range : include longer ngrams in the vocabulary\n",
    "\n",
    "# Create an instance of CountVectorizer\n",
    "vectorizer = CountVectorizer(\n",
    "    min_df=2,  # ignore words that appear in less than 2 reviews\n",
    "    ngram_range=(1, 2),  # include unigrams and bi-grams in the vocabulary\n",
    ")\n",
    "\n",
    "# Apply BoW to corpus\n",
    "X_bow = vectorizer.fit_transform(X_train)\n",
    "\n",
    "print(\"Bag of words vectors:      {}\\n\".format(X_bow.shape))\n",
    "\n",
    "# Lets have a look at the vocabulary\n",
    "vocab = vectorizer.get_feature_names_out()\n",
    "\n",
    "print(\"Show some words from the vocabulary:\\n\")\n",
    "print(vocab[0:250:10])"
   ]
  },
  {
   "cell_type": "markdown",
   "id": "d9a42f4a-7d70-4b5e-9954-d9d54cebba79",
   "metadata": {},
   "source": [
    "As expected, considering unigrams and bi-grams in the vocabulary has increased the vocabulary size considerably. We now see that the vocabulary also contains pairs of words appearing next to each other in sentences (e.g. ‘abandon idea’ and ‘absolut horrif’), not just single words. In practice, we usually stop at bi-grams or tri-grams (longer n-grams are rarely used).\n",
    "\n",
    "While this approach allows taking into account more the context in texts, it requires more memory and computational time. One way to address this is by limiting the vocabulary size to a desired size using the max_features parameter. We discuss max_features below."
   ]
  },
  {
   "cell_type": "markdown",
   "id": "0ea2fabb-9d4b-4c8a-a286-2b56b8707b07",
   "metadata": {},
   "source": [
    "##### max_features\n",
    "max_features is used to build a vocabulary by considering only the topmost frequent terms in the training corpus. In the example below, we create the vocabulary using the top 15’000 most frequent unigrams and bigrams in the training data while excluding rare terms appearing in less than two documents.\n",
    "\n"
   ]
  },
  {
   "cell_type": "code",
   "execution_count": 19,
   "id": "75668f41-6f7a-4356-ba38-4786c0f01208",
   "metadata": {},
   "outputs": [
    {
     "name": "stdout",
     "output_type": "stream",
     "text": [
      "Bag of words vectors:      (7985, 15000)\n",
      "\n"
     ]
    }
   ],
   "source": [
    "# Create an instance of CountVectorizer\n",
    "\n",
    "vectorizer = CountVectorizer(\n",
    "    min_df=2,  # ignore words that appear in less than 2 reviews\n",
    "    ngram_range=(1, 2),  # consider unigrams and bigrams in the vocabulary\n",
    "    max_features=15000,  # use only top 15'000 most frequent terms in vocabulary\n",
    ")\n",
    "\n",
    "# Apply BoW to corpus\n",
    "X_bow = vectorizer.fit_transform(X_train)\n",
    "\n",
    "print(\"Bag of words vectors:      {}\\n\".format(X_bow.shape))"
   ]
  },
  {
   "cell_type": "code",
   "execution_count": 20,
   "id": "a75c73b5-2702-4dd5-8684-5ece7d4e0437",
   "metadata": {},
   "outputs": [
    {
     "name": "stdout",
     "output_type": "stream",
     "text": [
      "Show some words from the vocabulary:\n",
      "\n",
      "['abandon' 'abbey' 'abbi' 'abbot' 'abc' 'abduct' 'abhay' 'abhay deol'\n",
      " 'abil' 'abl' 'abl get' 'abl make' 'abl see' 'abl watch' 'aboard' 'abomin'\n",
      " 'abort' 'abound' 'abraham' 'abroad' 'abrupt' 'abruptli' 'absenc' 'absent'\n",
      " 'absolut' 'absolut hilari' 'absolut love' 'absolut no' 'absolut noth'\n",
      " 'absolut worst' 'absorb' 'abstract' 'absurd' 'abu' 'abund' 'abus' 'abysm'\n",
      " 'academ' 'academi' 'academi award' 'accent' 'accentu' 'accept' 'access'\n",
      " 'accid' 'accident' 'acclaim' 'accolad' 'accommod' 'accompani']\n"
     ]
    }
   ],
   "source": [
    "# Lets have a look at the vocabulary\n",
    "vocab = vectorizer.get_feature_names_out()\n",
    "\n",
    "print(\"Show some words from the vocabulary:\\n\")\n",
    "print(vocab[0:50])"
   ]
  },
  {
   "cell_type": "markdown",
   "id": "8cfc6774-11db-449e-881f-a30cc6c0dbd0",
   "metadata": {},
   "source": [
    "The vocabulary size is now 15’000, yet, this time, it was built using the most frequent unigrams and bi-grams in the training data.\n",
    "\n",
    "Below we plot the topmost frequent words in the vocabulary."
   ]
  },
  {
   "cell_type": "code",
   "execution_count": 22,
   "id": "80402d1b-86a0-4ee0-81bf-e81abae71d7e",
   "metadata": {},
   "outputs": [
    {
     "data": {
      "image/png": "[encoded data removed]",
      "text/plain": [
       "<IPython.core.display.Image object>"
      ]
     },
     "execution_count": 22,
     "metadata": {},
     "output_type": "execute_result"
    }
   ],
   "source": [
    "from IPython.display import Image\n",
    "Image(filename=\"corpus.png\")"
   ]
  },
  {
   "cell_type": "markdown",
   "id": "33b4c1b8-b553-49a1-bca8-57035d2dd78c",
   "metadata": {},
   "source": [
    "As expected, terms such as movi, film, charact, watch, scene, director, etc., appear in the topmost frequent terms in the training data. We can also see terms expressing “sentiment” such as: not, like, good, no, great, love, etc, among the topmost frequent terms. These terms are more likely to be informative about the “sentiment” of a movie review.\n",
    "\n",
    "In the cells above, we discussed how min_df, max_features, and ngram_range affect term selection in the vocabulary and vocabulary size. Note that all of them are hyper-parameters of the CountVectorizer model, and we can tune them together with a machine learning model to optimize model performance. We will see how to do this at the end of this unit."
   ]
  },
  {
   "cell_type": "markdown",
   "id": "1aa8d9ce-cd4e-4b7d-9d28-bc9d72ee6f1d",
   "metadata": {},
   "source": [
    "### Feature selection\n",
    "In the unit on AB Testing, we used chi-square tests to test for independence between two categorical variables. Below, we will use the chi-square statistic to find which terms from the vocabulary are mostly related with the sentiment of a movie review (“positive” or “negative”).\n",
    "\n",
    "Below, we create X, y arrays from the training data."
   ]
  },
  {
   "cell_type": "code",
   "execution_count": 23,
   "id": "f0e24f92-5626-450d-8a6a-a3f5229b748b",
   "metadata": {},
   "outputs": [],
   "source": [
    "# Create X, y arrays from training data\n",
    "\n",
    "# Features\n",
    "X_train = df[\"clean_text\"].values\n",
    "\n",
    "# Target values\n",
    "y_train = df[\"label\"].values"
   ]
  },
  {
   "cell_type": "markdown",
   "id": "79e2c234-9548-4176-9574-30cbcc7b2dee",
   "metadata": {},
   "source": [
    "We continue by building a vocabulary using all unigrams and bigrams in the training data while excluding rare terms appearing in less than two documents.\n",
    "\n"
   ]
  },
  {
   "cell_type": "code",
   "execution_count": 24,
   "id": "0214be54-0b8c-486f-9f30-298c760bb5e7",
   "metadata": {},
   "outputs": [
    {
     "name": "stdout",
     "output_type": "stream",
     "text": [
      "Bag of words vectors (before feature selection):      (7985, 121519)\n",
      "\n"
     ]
    }
   ],
   "source": [
    "# Create an instance of CountVectorizer\n",
    "vectorizer = CountVectorizer(\n",
    "    min_df=2,  # ignore words that appear in less than 2 reviews\n",
    "    ngram_range=(1, 2),  # consider unigrams and bigrams in the vocabulary\n",
    ")\n",
    "\n",
    "# Apply BoW to corpus\n",
    "X_bow = vectorizer.fit_transform(X_train)\n",
    "print(\"Bag of words vectors (before feature selection):      {}\\n\".format(X_bow.shape))\n",
    "\n",
    "# Extract vocabulary\n",
    "vocab = vectorizer.get_feature_names_out()\n"
   ]
  },
  {
   "cell_type": "markdown",
   "id": "bea38960-654f-44bb-bca8-5921a390c322",
   "metadata": {},
   "source": [
    "\n",
    "Including all unigrams and bigrams in the training data and excluding rare terms resulted in a vocabulary of size 121’519.\n",
    "\n",
    "Next, we select the top 15’000 terms in the vocabulary, according to the chi-square test, i.e., the most related terms with the sentiment of the movie reviews. We will use the feature_selection.SelectKBest and the feature_selection.chi2 methods from scikit-learn to select vocabulary terms with the highest value for the chi-squared statistic."
   ]
  },
  {
   "cell_type": "code",
   "execution_count": 25,
   "id": "806ec3a1-c8e7-4184-9eb2-71112b341908",
   "metadata": {},
   "outputs": [
    {
     "name": "stdout",
     "output_type": "stream",
     "text": [
      "Bag of words vectors after feature selection: (7985, 15000)\n"
     ]
    }
   ],
   "source": [
    "# Feature selection according to chi-squared statistics\n",
    "\n",
    "# Import necessary libraries\n",
    "from sklearn.feature_selection import SelectKBest, chi2\n",
    "\n",
    "# Create an instance of the model\n",
    "ch2 = SelectKBest(chi2, k=15000)\n",
    "\n",
    "# Apply fit_transform method to training data\n",
    "X_bow_chi2 = ch2.fit_transform(X_bow, y_train)\n",
    "\n",
    "print(\"Bag of words vectors after feature selection: {}\".format(X_bow_chi2.shape))"
   ]
  },
  {
   "cell_type": "markdown",
   "id": "880a30f6-103c-494b-9624-32c4c5f2e6cb",
   "metadata": {},
   "source": [
    "Below we plot the top terms according to the chi-square statistic."
   ]
  },
  {
   "cell_type": "code",
   "execution_count": 26,
   "id": "bb689acd-b37f-49d8-8848-7dc2b1010f2a",
   "metadata": {},
   "outputs": [
    {
     "data": {
      "image/png": "[encoded data removed]",
      "text/plain": [
       "<IPython.core.display.Image object>"
      ]
     },
     "execution_count": 26,
     "metadata": {},
     "output_type": "execute_result"
    }
   ],
   "source": [
    "from IPython.display import Image\n",
    "Image(filename=\"chi.png\")"
   ]
  },
  {
   "cell_type": "markdown",
   "id": "a56da3b3-e9ac-482f-8718-60b35d0ca332",
   "metadata": {},
   "source": [
    "We can see that the chi-square test favors terms expressing sentiment, such as: bad, worst, great, waste, love, waste time, highly recommend, etc. These words are highly connected with the label of movie reviews (“positive” or “negative”) and we expect them to be useful features for predicting the sentiment of a movie review."
   ]
  },
  {
   "cell_type": "markdown",
   "id": "fcf74fe5-124e-4b07-a41a-4c20ff7be663",
   "metadata": {},
   "source": [
    "### Feature extraction for text: Tf-idf term weighting\n",
    "There are also slightly more sophisticated methods that Bag of words that can be used to extract features from text data. Tf-idf term weighting is one of them and works by normalizing word counts by how common a word is in the corpus. We have already discussed the Tf-idf term weighting in the Text Analytics unit from the second Course. The main idea behind Tf-idf is that words that are very frequent across all of documents in the corpus aren’t necessarily “informative” to solve a task and they could shadow rarer yet more interesting terms.\n",
    "\n",
    "In short, tf-idf term weighting favors terms that are frequent in few documents, and can be implemented with the TfidfVectorizer object from scikit-learn.\n",
    "\n",
    "Below we import the TfidfVectorizer object from scikit-learn and create an instance of it."
   ]
  },
  {
   "cell_type": "code",
   "execution_count": 27,
   "id": "56bbeb2d-f593-4434-abb0-55aa0a1994bf",
   "metadata": {},
   "outputs": [],
   "source": [
    "# Weighting text data with Tf-Idf\n",
    "\n",
    "# Import necessary libraries\n",
    "from sklearn.feature_extraction.text import TfidfVectorizer\n",
    "\n",
    "# Create an instance of TfidfVectorizer\n",
    "tfidf = TfidfVectorizer()"
   ]
  },
  {
   "cell_type": "markdown",
   "id": "d223dba8-3004-4e83-8f3f-e2bb94807355",
   "metadata": {},
   "source": [
    "As usual, we call the fit_transform method of TfidfVectorizer on the training corpus.\n",
    "\n"
   ]
  },
  {
   "cell_type": "code",
   "execution_count": 28,
   "id": "538a9d0a-4c1c-473d-b4e4-95b4c9261228",
   "metadata": {},
   "outputs": [
    {
     "name": "stdout",
     "output_type": "stream",
     "text": [
      "Shape:      (7985, 31888)\n",
      "\n"
     ]
    }
   ],
   "source": [
    "# X_tfidf: the tf-idf representation of the data\n",
    "X_tfidf = tfidf.fit_transform(X_train)\n",
    "\n",
    "print(\"Shape:      {}\\n\".format(X_tfidf.shape))"
   ]
  },
  {
   "cell_type": "markdown",
   "id": "3e20d24c-35c4-45ed-9cb5-5542c11326ce",
   "metadata": {},
   "source": [
    "## Machine Learning\n",
    "So far, we have seen how to extract features from text data using the Bag of words and the tf-idf term weighting models. Both models create representations of text data that are sparse and high-dimensional. We also discussed ways to reduce feature space by reducing vocabulary size and performing feature selecting according to the chi-square statistic.\n",
    "\n",
    "Next we will train a sentiment classifier using a logistic regression model to automatically label movie reviews as positive or negative."
   ]
  },
  {
   "cell_type": "code",
   "execution_count": 29,
   "id": "8ce38126-9a18-43b5-b253-04f4ce255278",
   "metadata": {},
   "outputs": [
    {
     "name": "stdout",
     "output_type": "stream",
     "text": [
      "Training data: (7985,) (7985,)\n",
      "Test data: (7962,) (7962,)\n"
     ]
    }
   ],
   "source": [
    "# Create X, y arrays\n",
    "\n",
    "# Training data\n",
    "X_train = df[\"clean_text\"].values\n",
    "y_train = df[\"label\"].values\n",
    "\n",
    "# Test data\n",
    "X_test = df_test[\"clean_text\"].values\n",
    "y_test = df_test[\"label\"].values\n",
    "\n",
    "print(\"Training data:\", X_train.shape, y_train.shape)\n",
    "print(\"Test data:\", X_test.shape, y_test.shape)"
   ]
  },
  {
   "cell_type": "code",
   "execution_count": 30,
   "id": "9a6d9cbc-ba94-47ba-b4a9-4ee4b91be636",
   "metadata": {},
   "outputs": [],
   "source": [
    "# Import necessary modules\n",
    "\n",
    "from sklearn.model_selection import GridSearchCV\n",
    "from sklearn.linear_model import LogisticRegression\n",
    "from sklearn.pipeline import Pipeline"
   ]
  },
  {
   "cell_type": "code",
   "execution_count": 31,
   "id": "378a3d5f-4d2e-4699-b953-228e4740016d",
   "metadata": {},
   "outputs": [],
   "source": [
    "# Create pipeline\n",
    "pipe = Pipeline(\n",
    "    [\n",
    "        (\"vect\", None),\n",
    "        (\"feature_selection\", SelectKBest(score_func=chi2, k=15000)),\n",
    "        (\"clf\", LogisticRegression(solver=\"liblinear\")),\n",
    "    ]\n",
    ")"
   ]
  },
  {
   "cell_type": "code",
   "execution_count": 33,
   "id": "63608980-f392-4fd6-a146-863698937987",
   "metadata": {},
   "outputs": [],
   "source": [
    "# Prepare the grid search cross validator\n",
    "grid_cv = GridSearchCV(\n",
    "    pipe,\n",
    "    param_grid={\n",
    "        \"vect\": [TfidfVectorizer(min_df=2), CountVectorizer(min_df=2)],\n",
    "        \"vect__ngram_range\": [(1, 1), (1, 2)],\n",
    "        \"clf__C\": np.logspace(-4, 4, 6),\n",
    "    },\n",
    "    cv=5,\n",
    "    return_train_score=True,\n",
    "    scoring=\"accuracy\",  # Use the accuracy as metric\n",
    "    verbose=1,\n",
    "    n_jobs=-1\n",
    ")"
   ]
  },
  {
   "cell_type": "markdown",
   "id": "d05c3374-8539-468c-96f9-ff758483a60e",
   "metadata": {},
   "source": [
    "Please note that we are using a small grid to reduce the amount of computation time required to fit the GridSearchCV object below. However, in practice, we would use cv=5 or 10, which are the recommended values when performing k-fold cross-validation."
   ]
  },
  {
   "cell_type": "code",
   "execution_count": 34,
   "id": "1df6d1d6-dfe0-4f57-962b-d6a49b81d439",
   "metadata": {},
   "outputs": [
    {
     "name": "stdout",
     "output_type": "stream",
     "text": [
      "Fitting 5 folds for each of 24 candidates, totalling 120 fits\n"
     ]
    },
    {
     "data": {
      "text/plain": [
       "GridSearchCV(cv=5,\n",
       "             estimator=Pipeline(steps=[('vect', None),\n",
       "                                       ('feature_selection',\n",
       "                                        SelectKBest(k=15000,\n",
       "                                                    score_func=<function chi2 at 0x00000255C68EA3A0>)),\n",
       "                                       ('clf',\n",
       "                                        LogisticRegression(solver='liblinear'))]),\n",
       "             n_jobs=-1,\n",
       "             param_grid={'clf__C': array([1.00000000e-04, 3.98107171e-03, 1.58489319e-01, 6.30957344e+00,\n",
       "       2.51188643e+02, 1.00000000e+04]),\n",
       "                         'vect': [TfidfVectorizer(min_df=2, ngram_range=(1, 2)),\n",
       "                                  CountVectorizer(min_df=2)],\n",
       "                         'vect__ngram_range': [(1, 1), (1, 2)]},\n",
       "             return_train_score=True, scoring='accuracy', verbose=1)"
      ]
     },
     "execution_count": 34,
     "metadata": {},
     "output_type": "execute_result"
    }
   ],
   "source": [
    "# Fit estimator\n",
    "grid_cv.fit(X_train, y_train)"
   ]
  },
  {
   "cell_type": "code",
   "execution_count": 35,
   "id": "c20fc9bf-dcb8-4db4-a169-796fc9cf91fc",
   "metadata": {},
   "outputs": [
    {
     "data": {
      "text/plain": [
       "Pipeline(steps=[('vect', TfidfVectorizer(min_df=2, ngram_range=(1, 2))),\n",
       "                ('feature_selection',\n",
       "                 SelectKBest(k=15000,\n",
       "                             score_func=<function chi2 at 0x00000255C68EA3A0>)),\n",
       "                ('clf',\n",
       "                 LogisticRegression(C=251.18864315095823, solver='liblinear'))])"
      ]
     },
     "execution_count": 35,
     "metadata": {},
     "output_type": "execute_result"
    }
   ],
   "source": [
    "# Show best estimator\n",
    "grid_cv.best_estimator_\n"
   ]
  },
  {
   "cell_type": "code",
   "execution_count": 36,
   "id": "0309f2c6-cb23-46eb-bf28-38f6ceaddae6",
   "metadata": {},
   "outputs": [
    {
     "data": {
      "text/html": [
       "<div>\n",
       "<style scoped>\n",
       "    .dataframe tbody tr th:only-of-type {\n",
       "        vertical-align: middle;\n",
       "    }\n",
       "\n",
       "    .dataframe tbody tr th {\n",
       "        vertical-align: top;\n",
       "    }\n",
       "\n",
       "    .dataframe thead th {\n",
       "        text-align: right;\n",
       "    }\n",
       "</style>\n",
       "<table border=\"1\" class=\"dataframe\">\n",
       "  <thead>\n",
       "    <tr style=\"text-align: right;\">\n",
       "      <th></th>\n",
       "      <th>vectorizer</th>\n",
       "      <th>n_gram</th>\n",
       "      <th>C</th>\n",
       "      <th>mean_train_accuracy</th>\n",
       "      <th>std_train_accuracy</th>\n",
       "      <th>mean_validation_accuracy</th>\n",
       "      <th>std_validation_accuracy</th>\n",
       "      <th>mean_fit_time</th>\n",
       "    </tr>\n",
       "  </thead>\n",
       "  <tbody>\n",
       "    <tr>\n",
       "      <th>17</th>\n",
       "      <td>TfidfVectorizer</td>\n",
       "      <td>(1, 2)</td>\n",
       "      <td>251.188643</td>\n",
       "      <td>1.000000</td>\n",
       "      <td>0.000000</td>\n",
       "      <td>0.916343</td>\n",
       "      <td>0.005788</td>\n",
       "      <td>7.017484</td>\n",
       "    </tr>\n",
       "    <tr>\n",
       "      <th>21</th>\n",
       "      <td>TfidfVectorizer</td>\n",
       "      <td>(1, 2)</td>\n",
       "      <td>10000.000000</td>\n",
       "      <td>1.000000</td>\n",
       "      <td>0.000000</td>\n",
       "      <td>0.913212</td>\n",
       "      <td>0.004202</td>\n",
       "      <td>6.595088</td>\n",
       "    </tr>\n",
       "    <tr>\n",
       "      <th>13</th>\n",
       "      <td>TfidfVectorizer</td>\n",
       "      <td>(1, 2)</td>\n",
       "      <td>6.309573</td>\n",
       "      <td>0.979618</td>\n",
       "      <td>0.000819</td>\n",
       "      <td>0.907201</td>\n",
       "      <td>0.010971</td>\n",
       "      <td>5.981466</td>\n",
       "    </tr>\n",
       "    <tr>\n",
       "      <th>12</th>\n",
       "      <td>TfidfVectorizer</td>\n",
       "      <td>(1, 1)</td>\n",
       "      <td>6.309573</td>\n",
       "      <td>0.991609</td>\n",
       "      <td>0.000529</td>\n",
       "      <td>0.902943</td>\n",
       "      <td>0.008558</td>\n",
       "      <td>2.334273</td>\n",
       "    </tr>\n",
       "    <tr>\n",
       "      <th>16</th>\n",
       "      <td>TfidfVectorizer</td>\n",
       "      <td>(1, 1)</td>\n",
       "      <td>251.188643</td>\n",
       "      <td>1.000000</td>\n",
       "      <td>0.000000</td>\n",
       "      <td>0.901941</td>\n",
       "      <td>0.006563</td>\n",
       "      <td>2.823771</td>\n",
       "    </tr>\n",
       "    <tr>\n",
       "      <th>20</th>\n",
       "      <td>TfidfVectorizer</td>\n",
       "      <td>(1, 1)</td>\n",
       "      <td>10000.000000</td>\n",
       "      <td>1.000000</td>\n",
       "      <td>0.000000</td>\n",
       "      <td>0.897934</td>\n",
       "      <td>0.005643</td>\n",
       "      <td>2.883423</td>\n",
       "    </tr>\n",
       "    <tr>\n",
       "      <th>11</th>\n",
       "      <td>CountVectorizer</td>\n",
       "      <td>(1, 2)</td>\n",
       "      <td>0.158489</td>\n",
       "      <td>0.988885</td>\n",
       "      <td>0.000754</td>\n",
       "      <td>0.897307</td>\n",
       "      <td>0.007930</td>\n",
       "      <td>7.111293</td>\n",
       "    </tr>\n",
       "    <tr>\n",
       "      <th>15</th>\n",
       "      <td>CountVectorizer</td>\n",
       "      <td>(1, 2)</td>\n",
       "      <td>6.309573</td>\n",
       "      <td>1.000000</td>\n",
       "      <td>0.000000</td>\n",
       "      <td>0.895805</td>\n",
       "      <td>0.008015</td>\n",
       "      <td>8.499392</td>\n",
       "    </tr>\n",
       "    <tr>\n",
       "      <th>19</th>\n",
       "      <td>CountVectorizer</td>\n",
       "      <td>(1, 2)</td>\n",
       "      <td>251.188643</td>\n",
       "      <td>1.000000</td>\n",
       "      <td>0.000000</td>\n",
       "      <td>0.888791</td>\n",
       "      <td>0.006053</td>\n",
       "      <td>8.208778</td>\n",
       "    </tr>\n",
       "    <tr>\n",
       "      <th>10</th>\n",
       "      <td>CountVectorizer</td>\n",
       "      <td>(1, 1)</td>\n",
       "      <td>0.158489</td>\n",
       "      <td>0.991077</td>\n",
       "      <td>0.000760</td>\n",
       "      <td>0.885160</td>\n",
       "      <td>0.007179</td>\n",
       "      <td>2.922469</td>\n",
       "    </tr>\n",
       "  </tbody>\n",
       "</table>\n",
       "</div>"
      ],
      "text/plain": [
       "         vectorizer  n_gram             C  mean_train_accuracy  \\\n",
       "17  TfidfVectorizer  (1, 2)    251.188643             1.000000   \n",
       "21  TfidfVectorizer  (1, 2)  10000.000000             1.000000   \n",
       "13  TfidfVectorizer  (1, 2)      6.309573             0.979618   \n",
       "12  TfidfVectorizer  (1, 1)      6.309573             0.991609   \n",
       "16  TfidfVectorizer  (1, 1)    251.188643             1.000000   \n",
       "20  TfidfVectorizer  (1, 1)  10000.000000             1.000000   \n",
       "11  CountVectorizer  (1, 2)      0.158489             0.988885   \n",
       "15  CountVectorizer  (1, 2)      6.309573             1.000000   \n",
       "19  CountVectorizer  (1, 2)    251.188643             1.000000   \n",
       "10  CountVectorizer  (1, 1)      0.158489             0.991077   \n",
       "\n",
       "    std_train_accuracy  mean_validation_accuracy  std_validation_accuracy  \\\n",
       "17            0.000000                  0.916343                 0.005788   \n",
       "21            0.000000                  0.913212                 0.004202   \n",
       "13            0.000819                  0.907201                 0.010971   \n",
       "12            0.000529                  0.902943                 0.008558   \n",
       "16            0.000000                  0.901941                 0.006563   \n",
       "20            0.000000                  0.897934                 0.005643   \n",
       "11            0.000754                  0.897307                 0.007930   \n",
       "15            0.000000                  0.895805                 0.008015   \n",
       "19            0.000000                  0.888791                 0.006053   \n",
       "10            0.000760                  0.885160                 0.007179   \n",
       "\n",
       "    mean_fit_time  \n",
       "17       7.017484  \n",
       "21       6.595088  \n",
       "13       5.981466  \n",
       "12       2.334273  \n",
       "16       2.823771  \n",
       "20       2.883423  \n",
       "11       7.111293  \n",
       "15       8.499392  \n",
       "19       8.208778  \n",
       "10       2.922469  "
      ]
     },
     "execution_count": 36,
     "metadata": {},
     "output_type": "execute_result"
    }
   ],
   "source": [
    "# Collect most interesting results in a DataFrame\n",
    "cv_results = pd.DataFrame(\n",
    "    {\n",
    "        \"vectorizer\": [type(clf).__name__ for clf in grid_cv.cv_results_[\"param_vect\"]],\n",
    "        \"n_gram\": [k for k in grid_cv.cv_results_[\"param_vect__ngram_range\"]],\n",
    "        \"C\": [C for C in grid_cv.cv_results_[\"param_clf__C\"]],\n",
    "        \"mean_train_accuracy\": grid_cv.cv_results_[\"mean_train_score\"],\n",
    "        \"std_train_accuracy\": grid_cv.cv_results_[\"std_train_score\"],\n",
    "        \"mean_validation_accuracy\": grid_cv.cv_results_[\"mean_test_score\"],\n",
    "        \"std_validation_accuracy\": grid_cv.cv_results_[\"std_test_score\"],\n",
    "        \"mean_fit_time\": grid_cv.cv_results_[\"mean_fit_time\"],\n",
    "    }\n",
    ")\n",
    "\n",
    "# Print grid-search results\n",
    "cv_results.sort_values(\"mean_validation_accuracy\", ascending=False).head(10)\n"
   ]
  },
  {
   "cell_type": "markdown",
   "id": "0dd14819-a258-403e-a7f5-8c0286eb7e67",
   "metadata": {},
   "source": [
    "We can see that the Tf-idf model performs better than the Bag of words model with the dataset. Moreover, including unigrams and bi-grams into our vocabulary was beneficial."
   ]
  },
  {
   "cell_type": "code",
   "execution_count": 38,
   "id": "52e100ff-6b3d-4070-8a51-a0d302e8124a",
   "metadata": {},
   "outputs": [
    {
     "name": "stdout",
     "output_type": "stream",
     "text": [
      "Accuracy on test data: 85.09%\n"
     ]
    }
   ],
   "source": [
    "# Compute accuracy on test data\n",
    "print(\"Accuracy on test data: {0:.2f}%\".format(100 * grid_cv.score(X_test, y_test)))"
   ]
  },
  {
   "cell_type": "markdown",
   "id": "9a65f847-2da6-44fa-b2c5-f5c91331cc7d",
   "metadata": {},
   "source": [
    "Our classifier achieved an 85% accuracy on the test data. Let’s use the classification_report to understand better the model’s capability to detect individual classes."
   ]
  },
  {
   "cell_type": "code",
   "execution_count": 39,
   "id": "13412e2d-0258-4b80-a747-f0af95d2a32d",
   "metadata": {},
   "outputs": [
    {
     "name": "stdout",
     "output_type": "stream",
     "text": [
      "              precision    recall  f1-score   support\n",
      "\n",
      "           0       0.83      0.89      0.86      3987\n",
      "           1       0.88      0.82      0.85      3975\n",
      "\n",
      "    accuracy                           0.85      7962\n",
      "   macro avg       0.85      0.85      0.85      7962\n",
      "weighted avg       0.85      0.85      0.85      7962\n",
      "\n"
     ]
    }
   ],
   "source": [
    "from sklearn.metrics import classification_report\n",
    "\n",
    "# Classification report\n",
    "print(classification_report(y_test, grid_cv.predict(X_test)))"
   ]
  },
  {
   "cell_type": "markdown",
   "id": "ecd8f574-8aca-40d7-a6b5-1e4ea67c6e89",
   "metadata": {},
   "source": [
    "Our model has similar f1-scores for both classes. The differences between the two classes are minor; our model classifies correctly slightly less positive than negative reviews. However, our model makes slightly fewer mistakes when predicting positive reviews.\n",
    "\n",
    "Let’s take a closer look at these misclassifications with a confusion matrix."
   ]
  },
  {
   "cell_type": "code",
   "execution_count": 40,
   "id": "304b12fb-262b-4977-b0d7-97ad06318f7c",
   "metadata": {},
   "outputs": [
    {
     "data": {
      "image/png": "[encoded data removed]",
      "text/plain": [
       "<Figure size 864x288 with 4 Axes>"
      ]
     },
     "metadata": {
      "needs_background": "light"
     },
     "output_type": "display_data"
    }
   ],
   "source": [
    "from sklearn.metrics import ConfusionMatrixDisplay\n",
    "\n",
    "# Create two subplots\n",
    "f, (ax1, ax2) = plt.subplots(1, 2, figsize=(12, 4))\n",
    "\n",
    "# Plots the standard confusion matrix\n",
    "ax1.set_title(\"Confusion Matrix (counts)\")\n",
    "ConfusionMatrixDisplay.from_predictions(\n",
    "    y_test, grid_cv.predict(X_test), display_labels=[0,1], ax=ax1)\n",
    "\n",
    "# Plots the normalized confusion matrix\n",
    "ax2.set_title(\"Confusion Matrix (ratios)\")\n",
    "ConfusionMatrixDisplay.from_predictions(\n",
    "    y_test, grid_cv.predict(X_test), normalize=\"true\", display_labels=[0,1], ax=ax2)\n",
    "\n",
    "plt.show()"
   ]
  },
  {
   "cell_type": "code",
   "execution_count": null,
   "id": "4115acba-2725-4fce-83e8-0ad74bcb3fe5",
   "metadata": {},
   "outputs": [],
   "source": []
  }
 ],
 "metadata": {
  "kernelspec": {
   "display_name": "Python [conda env:adsml] *",
   "language": "python",
   "name": "conda-env-adsml-py"
  },
  "language_info": {
   "codemirror_mode": {
    "name": "ipython",
    "version": 3
   },
   "file_extension": ".py",
   "mimetype": "text/x-python",
   "name": "python",
   "nbconvert_exporter": "python",
   "pygments_lexer": "ipython3",
   "version": "3.9.7"
  }
 },
 "nbformat": 4,
 "nbformat_minor": 5
}
