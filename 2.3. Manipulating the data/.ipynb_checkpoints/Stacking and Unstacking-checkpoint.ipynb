{
 "cells": [
  {
   "cell_type": "markdown",
   "id": "5fe95986-2e4b-4ca6-ab7e-877cd4ddfb0c",
   "metadata": {},
   "source": [
    "## Stacking and unstacking\n",
    "\n",
    "In this unit, we will look at the stack() and unstack() functions of pandas. These functions are useful for DataFrames where we have multiple indexing. Their purpose is the following:\n",
    "\n",
    "* the stack() function takes the innermost column label and turns it into the innermost row index. The overall effect is to make the DataFrame taller.\n",
    "* the unstack() function is the inverse operation: it takes the innermost row index and turns it into the innermost column label. The overall effect is to make the DataFrame wider."
   ]
  },
  {
   "cell_type": "code",
   "execution_count": null,
   "id": "8afff427-b317-40c4-a5a5-29ac6d2a3862",
   "metadata": {},
   "outputs": [],
   "source": []
  }
 ],
 "metadata": {
  "kernelspec": {
   "display_name": "Python [conda env:adsml] *",
   "language": "python",
   "name": "conda-env-adsml-py"
  },
  "language_info": {
   "codemirror_mode": {
    "name": "ipython",
    "version": 3
   },
   "file_extension": ".py",
   "mimetype": "text/x-python",
   "name": "python",
   "nbconvert_exporter": "python",
   "pygments_lexer": "ipython3",
   "version": "3.9.7"
  }
 },
 "nbformat": 4,
 "nbformat_minor": 5
}
