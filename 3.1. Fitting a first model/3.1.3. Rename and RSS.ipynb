{
 "cells": [
  {
   "cell_type": "markdown",
   "id": "a4545591-9d71-4557-8a2b-77a858b2b1f6",
   "metadata": {},
   "source": [
    "### ML vocabulary and notation"
   ]
  },
  {
   "cell_type": "markdown",
   "id": "4883cbe6-4476-4e15-bb4c-9fcefafd1cc6",
   "metadata": {},
   "source": [
    "#### Marketing campaign dataset"
   ]
  },
  {
   "cell_type": "code",
   "execution_count": 1,
   "id": "3c134b2e-68f9-4dd7-b6ea-bf07763e5ea2",
   "metadata": {},
   "outputs": [
    {
     "data": {
      "text/html": [
       "<div>\n",
       "<style scoped>\n",
       "    .dataframe tbody tr th:only-of-type {\n",
       "        vertical-align: middle;\n",
       "    }\n",
       "\n",
       "    .dataframe tbody tr th {\n",
       "        vertical-align: top;\n",
       "    }\n",
       "\n",
       "    .dataframe thead th {\n",
       "        text-align: right;\n",
       "    }\n",
       "</style>\n",
       "<table border=\"1\" class=\"dataframe\">\n",
       "  <thead>\n",
       "    <tr style=\"text-align: right;\">\n",
       "      <th></th>\n",
       "      <th>tv</th>\n",
       "      <th>web</th>\n",
       "      <th>radio</th>\n",
       "      <th>sales</th>\n",
       "    </tr>\n",
       "  </thead>\n",
       "  <tbody>\n",
       "    <tr>\n",
       "      <th>0</th>\n",
       "      <td>0.916</td>\n",
       "      <td>1.689</td>\n",
       "      <td>0.208</td>\n",
       "      <td>1.204</td>\n",
       "    </tr>\n",
       "    <tr>\n",
       "      <th>1</th>\n",
       "      <td>9.359</td>\n",
       "      <td>1.706</td>\n",
       "      <td>1.071</td>\n",
       "      <td>4.800</td>\n",
       "    </tr>\n",
       "    <tr>\n",
       "      <th>2</th>\n",
       "      <td>5.261</td>\n",
       "      <td>2.538</td>\n",
       "      <td>2.438</td>\n",
       "      <td>3.970</td>\n",
       "    </tr>\n",
       "    <tr>\n",
       "      <th>3</th>\n",
       "      <td>8.682</td>\n",
       "      <td>2.092</td>\n",
       "      <td>1.283</td>\n",
       "      <td>5.212</td>\n",
       "    </tr>\n",
       "    <tr>\n",
       "      <th>4</th>\n",
       "      <td>11.736</td>\n",
       "      <td>1.660</td>\n",
       "      <td>1.800</td>\n",
       "      <td>5.993</td>\n",
       "    </tr>\n",
       "  </tbody>\n",
       "</table>\n",
       "</div>"
      ],
      "text/plain": [
       "       tv    web  radio  sales\n",
       "0   0.916  1.689  0.208  1.204\n",
       "1   9.359  1.706  1.071  4.800\n",
       "2   5.261  2.538  2.438  3.970\n",
       "3   8.682  2.092  1.283  5.212\n",
       "4  11.736  1.660  1.800  5.993"
      ]
     },
     "execution_count": 1,
     "metadata": {},
     "output_type": "execute_result"
    }
   ],
   "source": [
    "import pandas as pd\n",
    "\n",
    "data_df = pd.read_csv(\"c3_marketing-campaign.csv\")\n",
    "data_df.head()"
   ]
  },
  {
   "cell_type": "markdown",
   "id": "de5cd4fc-8fe0-46ba-9095-cc8463193937",
   "metadata": {},
   "source": [
    "Each row is a previous marketing campaign and has four values. The first three are the corresponding budgets for each media in thousands of dollars, and the last one is the sales in thousands of units.\n",
    "\n",
    "Let’s plot the data using a scatter plot for each marketing budget."
   ]
  },
  {
   "cell_type": "code",
   "execution_count": 2,
   "id": "f3bba794-609a-4445-a2fb-67a74b96ca40",
   "metadata": {},
   "outputs": [
    {
     "data": {
      "image/png": "[encoded data removed]",
      "text/plain": [
       "<Figure size 864x216 with 3 Axes>"
      ]
     },
     "metadata": {
      "needs_background": "light"
     },
     "output_type": "display_data"
    }
   ],
   "source": [
    "%matplotlib inline\n",
    "import matplotlib.pyplot as plt\n",
    "\n",
    "# Create figure\n",
    "fig, (ax1, ax2, ax3) = plt.subplots(nrows=1, ncols=3, figsize=(12, 3), sharey=True)\n",
    "fig.suptitle(\"marketing budgets in 1000$\")\n",
    "ax1.scatter(data_df.tv, data_df.sales)\n",
    "ax1.set_xlabel(\"tv\")\n",
    "ax1.set_ylabel(\"sales in thousands\")\n",
    "ax2.scatter(data_df.web, data_df.sales)\n",
    "ax2.set_xlabel(\"web\")\n",
    "ax3.scatter(data_df.radio, data_df.sales)\n",
    "ax3.set_xlabel(\"radio\")\n",
    "plt.show()"
   ]
  },
  {
   "cell_type": "markdown",
   "id": "00648b99-c684-4562-a8d0-a1988fa266de",
   "metadata": {},
   "source": [
    "As we can see, there is a clear correlation between the television budget and the sales. However, before fitting models to this data, let’s learn about the basic jargon and notation to describe datasets.\n",
    "\n",
    "#### Machine learning jargon\n",
    "\n",
    "The data_df DataFrame has four columns and 50 rows."
   ]
  },
  {
   "cell_type": "code",
   "execution_count": 3,
   "id": "d64ea126-bd96-4523-ae34-e4acf6b79cf8",
   "metadata": {},
   "outputs": [
    {
     "name": "stdout",
     "output_type": "stream",
     "text": [
      "Shape of data_df: (50, 4)\n"
     ]
    }
   ],
   "source": [
    "print(\"Shape of data_df:\", data_df.shape)"
   ]
  },
  {
   "cell_type": "markdown",
   "id": "ef71fb14-b90b-485b-be90-1eefff5d271d",
   "metadata": {},
   "source": [
    "For instance, in our example, we want to predict the sales given the different budgets. Hence, the sales variable is called the target or output variable. On the other hand, we compute predictions based on the budget variables. Hence, the tv, web and radio budgets are the features or input variables in our problem.\n",
    "\n",
    "Hopefully, we measured relevant features that explain well the target variable. For this reason, features are sometimes called the explanatory variables. On the other hand, we could say that the target variable depends on the set of input variables that we measured, so we sometimes call it the dependent variable."
   ]
  },
  {
   "cell_type": "markdown",
   "id": "757faa42-3ff5-4602-bf55-0d6ab0af3fae",
   "metadata": {},
   "source": [
    "#### Feature matrix and target vector\n",
    "In this course, we will always start by loading the features into a feature matrix X and the target values into an output vector y. We will need these two variables when applying machine learning algorithms."
   ]
  },
  {
   "cell_type": "code",
   "execution_count": 4,
   "id": "badd6d53-6ef7-4e44-8b26-8c6fe381d32d",
   "metadata": {},
   "outputs": [],
   "source": [
    "X = data_df.drop(\"sales\", axis=1).values\n",
    "y = data_df.sales.values"
   ]
  },
  {
   "cell_type": "code",
   "execution_count": 5,
   "id": "f89b1017-19e8-4d3f-a9ed-cd1cd97a60b1",
   "metadata": {},
   "outputs": [
    {
     "name": "stdout",
     "output_type": "stream",
     "text": [
      "Shape of X: (50, 3) dtype: float64\n"
     ]
    }
   ],
   "source": [
    "print(\"Shape of X: {} dtype: {}\".format(X.shape, X.dtype))"
   ]
  },
  {
   "cell_type": "code",
   "execution_count": 6,
   "id": "6a000c8e-285f-4f7a-b06c-b0df463fb765",
   "metadata": {},
   "outputs": [
    {
     "name": "stdout",
     "output_type": "stream",
     "text": [
      "Shape of y: (50,) dtype: float64\n"
     ]
    }
   ],
   "source": [
    "print(\"Shape of y: {} dtype: {}\".format(y.shape, y.dtype))"
   ]
  },
  {
   "cell_type": "markdown",
   "id": "037954f3-696b-41f8-be39-06125f250474",
   "metadata": {},
   "source": [
    "As you can see, we extract the three features into a variable X by dropping the sales column, and we create a target vector y from it. We then convert them into Numpy arrays using the .values attribute."
   ]
  },
  {
   "cell_type": "markdown",
   "id": "7e062f15-dc49-4f45-a5ae-d392109a965b",
   "metadata": {},
   "source": [
    "Note that we cannot use the loc() and iloc() functions since X/y are not Pandas objects anymore. However, we can use the standard slicing notation from Numpy to get the data points\n",
    "\n"
   ]
  },
  {
   "cell_type": "code",
   "execution_count": 7,
   "id": "df0398ff-ad91-4211-b4dd-3c7352033513",
   "metadata": {},
   "outputs": [
    {
     "data": {
      "text/plain": [
       "array([[ 0.916,  1.689,  0.208],\n",
       "       [ 9.359,  1.706,  1.071],\n",
       "       [ 5.261,  2.538,  2.438],\n",
       "       [ 8.682,  2.092,  1.283],\n",
       "       [11.736,  1.66 ,  1.8  ]])"
      ]
     },
     "execution_count": 7,
     "metadata": {},
     "output_type": "execute_result"
    }
   ],
   "source": [
    "X[:5, :]"
   ]
  },
  {
   "cell_type": "code",
   "execution_count": 8,
   "id": "282a33fb-306a-4fe9-89ea-2a5c76ae95f9",
   "metadata": {},
   "outputs": [
    {
     "data": {
      "text/plain": [
       "array([1.204, 4.8  , 3.97 , 5.212, 5.993])"
      ]
     },
     "execution_count": 8,
     "metadata": {},
     "output_type": "execute_result"
    }
   ],
   "source": [
    "y[:5]"
   ]
  },
  {
   "cell_type": "markdown",
   "id": "14233ff5-e621-4966-bb2e-3b81d80959e6",
   "metadata": {},
   "source": [
    "Let’s now learn about the basic mathematical notation that we will find in most machine learning resources to denote the input/output data.\n",
    "\n",
    "#### Mathematical notation\n",
    "The mathematical notation is an essential part of the machine learning vocabulary. It allows expressing ideas in a very concise way. In this section, we will go through the important symbols to describe datasets.\n",
    "\n",
    "* First, the X variable refers to the input or feature matrix. \n",
    "* Each row in this matrix is a data point. We denote the i-th data point with the vector xi\n",
    "* Each element of this vector is the value of a feature. We use the xij notation to refer to the value of the j-th feature of the i-th data point. "
   ]
  },
  {
   "cell_type": "markdown",
   "id": "698b6eef-18ea-4fe3-b40e-b06f85694e81",
   "metadata": {},
   "source": [
    "We usually refer to the cardinality of the dataset with the letter n and to the dimensionality with \n",
    "p. In our example, there are n=50 data points, and p=3 parameters (or features). Hence, x(n,p) refers to the last feature of the last data point. Note that some sources also use a capital N to denote the number of data points, and the letters M, P or D \n",
    "for the dimensionality."
   ]
  },
  {
   "cell_type": "code",
   "execution_count": 17,
   "id": "21c9c9c8-4e79-4fea-8028-7ad4db96b5f9",
   "metadata": {},
   "outputs": [
    {
     "data": {
      "image/png": "[encoded data removed]",
      "text/plain": [
       "<IPython.core.display.Image object>"
      ]
     },
     "execution_count": 17,
     "metadata": {},
     "output_type": "execute_result"
    }
   ],
   "source": [
    "from IPython.display import Image\n",
    "Image(filename=\"notation.png\")"
   ]
  },
  {
   "cell_type": "markdown",
   "id": "c6b6589d-ebdd-4dce-95a2-c97e96b2750d",
   "metadata": {},
   "source": [
    "In the next exercise, you will create a model to predict the daily number of users of a bike sharing service based on temperature values. In that case, the temperature variable is the only feature, and it doesn’t make sense to write each data point as a vector with a single value. Hence, we will omit the arrow, and denote the i-th data point with xi. (for instance xn corresponds to the last value). We use a similar notation for target values. We group them in an output vector y in which each element y(i) refers to the target value of the i-th data point. "
   ]
  },
  {
   "cell_type": "markdown",
   "id": "266fedbf-943f-4a57-aa02-38c5403185f6",
   "metadata": {},
   "source": [
    "In machine learning the input X is known as the feature matrix. Its columns may be referred to as\n",
    "- input variables,\n",
    "- features,\n",
    "- explanatory variables, or\n",
    "- independent variables.\n",
    "\n",
    "The column vector of y is known as the\n",
    "- output,\n",
    "- target, or\n",
    "- dependent variable\n",
    "\n",
    "The shape of X is given by the cardinality (number of rows) and the dimensionality (number of columns)."
   ]
  },
  {
   "cell_type": "markdown",
   "id": "fdbb7260-bfec-4f8a-a718-6e3c70fac4dc",
   "metadata": {},
   "source": [
    "**The dimensionality should not be greater than the cardinality**"
   ]
  },
  {
   "cell_type": "markdown",
   "id": "8af58f7d-0d97-4839-9fdc-6340aa5718bc",
   "metadata": {},
   "source": [
    "#### Simple linear regressions\n",
    "\n",
    "In a previous unit, we fitted several polynomials of different degrees to a set of x and y data points using the Numpy polyfit(x, y, deg) function. We saw that it fits a line when we set the degree to one and returns the optimal a and b coefficients. In fact, this corresponds to a simple linear regression model. In this unit, we will learn more about it and see what it means for the a and b parameters to be optimal."
   ]
  },
  {
   "cell_type": "markdown",
   "id": "4f082c5d-218f-47a4-8beb-eda38f51a0dc",
   "metadata": {},
   "source": [
    "First, let’s start by loading the marketing-campaign.csv dataset. The simple linear regression model works with a single feature. However, the dataset has three input variables, one for each media budget\n",
    "\n",
    "- Television\n",
    "- Web\n",
    "- Radio\n",
    "Hence, we need to choose which one to use with this model to predict the sales target variable.\n",
    "\n",
    "In a previous unit, we plotted each advertising budget and saw that there is a clear correlation between the television budget and sales. Hence, it’s a good idea to start with this feature. In this code, we load the dataset into a DataFrame and create the x and y Numpy arrays."
   ]
  },
  {
   "cell_type": "code",
   "execution_count": 10,
   "id": "411f2fa5-ed2d-4f52-8c7f-12d83dfd0900",
   "metadata": {},
   "outputs": [
    {
     "name": "stdout",
     "output_type": "stream",
     "text": [
      "x shape: (50,)\n",
      "y shape: (50,)\n"
     ]
    }
   ],
   "source": [
    "import pandas as pd\n",
    "\n",
    "# Load the dataset\n",
    "data_df = pd.read_csv(\"c3_marketing-campaign.csv\")\n",
    "\n",
    "# Extract x/y values\n",
    "x = data_df.tv.values\n",
    "y = data_df.sales.values\n",
    "\n",
    "print(\"x shape:\", x.shape)\n",
    "print(\"y shape:\", y.shape)"
   ]
  },
  {
   "cell_type": "code",
   "execution_count": 11,
   "id": "1fb019b9-6d4c-49c8-9711-6cc34d1bb74a",
   "metadata": {},
   "outputs": [
    {
     "data": {
      "image/png": "[encoded data removed]",
      "text/plain": [
       "<Figure size 432x288 with 1 Axes>"
      ]
     },
     "metadata": {
      "needs_background": "light"
     },
     "output_type": "display_data"
    }
   ],
   "source": [
    "%matplotlib inline\n",
    "import matplotlib.pyplot as plt\n",
    "\n",
    "# Plot data\n",
    "plt.scatter(x, y)\n",
    "plt.xlabel(\"tv budget in 1000$\")\n",
    "plt.ylabel(\"sales in thousands\")\n",
    "plt.show()"
   ]
  },
  {
   "cell_type": "markdown",
   "id": "7a7d79f8-326a-4371-b163-1d4ebaa5f171",
   "metadata": {},
   "source": [
    "It seems that an increase in the television budget creates a proportional increase in sales which is precisely what a line expresses geometrically. The idea of simple linear regressions is to quantify this linear relationship by fitting the equation of a line to the data points"
   ]
  },
  {
   "cell_type": "markdown",
   "id": "ec4128bd-c1a6-47a8-8fd5-2741ded5cb8f",
   "metadata": {},
   "source": [
    "#### Polyfit function\n",
    "Let’s see again how to fit this simple linear regression model with the polyfit() function"
   ]
  },
  {
   "cell_type": "code",
   "execution_count": 13,
   "id": "184bf7c8-d2ec-43d7-b897-03aca2a1585f",
   "metadata": {},
   "outputs": [
    {
     "name": "stdout",
     "output_type": "stream",
     "text": [
      "Coefficients: [0.42063597 1.27867727]\n"
     ]
    }
   ],
   "source": [
    "import numpy as np\n",
    "\n",
    "# Fit a linear regression\n",
    "coefs = np.polyfit(x, y, deg=1)\n",
    "print(\"Coefficients:\", coefs)"
   ]
  },
  {
   "cell_type": "code",
   "execution_count": 14,
   "id": "b25d5fcd-1d5e-47bd-be65-5da42a7db4a5",
   "metadata": {},
   "outputs": [],
   "source": [
    "# Generate a hundred data points\n",
    "x_values = np.linspace(x.min(), x.max(), num=100)\n",
    "\n",
    "# Compute predictions\n",
    "y_values = np.polyval(coefs, x_values)"
   ]
  },
  {
   "cell_type": "markdown",
   "id": "8a7f59d3-0554-4957-8e0e-615c53ac579b",
   "metadata": {},
   "source": [
    "In this code, we pass the (xi,yi) data points to the polyfit() function and set the degree to one to fit the equation of a line. The function computes these optimal a, b parameters and we store them in a coefs variable. We can then use these values to compute predictions y for a hundred different television budgets x between x.min() and x.max() using the polyval() function, which evaluates the equation from above."
   ]
  },
  {
   "cell_type": "code",
   "execution_count": 15,
   "id": "5bf78257-83b6-4b76-9b7b-8ca2c8ede14e",
   "metadata": {},
   "outputs": [
    {
     "data": {
      "image/png": "[encoded data removed]",
      "text/plain": [
       "<Figure size 432x288 with 1 Axes>"
      ]
     },
     "metadata": {
      "needs_background": "light"
     },
     "output_type": "display_data"
    }
   ],
   "source": [
    "# Plot predictions\n",
    "plt.scatter(x, y)\n",
    "plt.plot(x_values, y_values, c=\"C3\", label=\"linear regression\")\n",
    "plt.xlabel(\"tv budget in 1000$\")\n",
    "plt.ylabel(\"sales in thousands\")\n",
    "plt.legend()\n",
    "plt.show()"
   ]
  },
  {
   "cell_type": "markdown",
   "id": "30b49a06-1ba7-42e8-bb5a-9bbc704bad7a",
   "metadata": {},
   "source": [
    "To summarize, simple linear regressions model the relationship between a single feature and the target variable using the equation of a line which depends on two parameters: a and b. Later in this course, we will see how we can generalize simple linear regressions to multiple input features. We will then call the model multiple linear regressions or just linear regressions since having multiple features is the standard scenario in ML."
   ]
  },
  {
   "cell_type": "markdown",
   "id": "6248f82b-2fcd-4402-942c-2a4c01dde8f8",
   "metadata": {},
   "source": [
    "#### Optimal parameters\n",
    "Let’s now see what the polyfit() function optimizes when it fits this equation of a line. The Numpy documentation page of the polyfit() function states that it optimizes the squared error. By fitting a line, we approximate the data points. The error term in this sentence refers to the difference between our approximation (y hat) and the observed value.This quantity is known as the Residual Sum of Squares (RSS) and is a standard way to measure how much error a machine learning model makes."
   ]
  },
  {
   "cell_type": "markdown",
   "id": "fa07edcb-2185-49a7-8df5-5c093654a5af",
   "metadata": {},
   "source": [
    "RSS=∑=1(yi-yi(hat))^2\n"
   ]
  },
  {
   "cell_type": "markdown",
   "id": "e9f8f856-0f6e-449f-bf77-a519913213b6",
   "metadata": {},
   "source": [
    "Measuring the amount of error that our models do is really at the hearth of machine learning approaches. In this course, we will see different metrics. But the RSS is one of the most used one when evaluating regression models.\n",
    "\n",
    "You can take a look at this interactive visualization by Evan Sadler to see how the optimal line changes to minimize these squared residuals when adding new data points."
   ]
  },
  {
   "cell_type": "markdown",
   "id": "c8e9410c-a38c-4c10-9e19-3b5a75f99bf8",
   "metadata": {},
   "source": [
    "#### Compute the RSS score\n",
    "Let’s now see how to compute this RSS measure for the model and data from above using Python. "
   ]
  },
  {
   "cell_type": "markdown",
   "id": "0e8de420-61d4-45f6-a588-b6396ed5b21b",
   "metadata": {},
   "source": [
    "#### Visualizing the RSS metric\n",
    "A nice way to visualize these squared residuals is to draw squares between the observed data points and the predicted values on the line - here is an interactive visualization by Victor Powell and Lewis Lehe which does that.\n",
    "\n",
    "Try to adjust the dials for the slope and intercept a,b parameters and see how they affect the RSS score!\n",
    "* https://setosa.io/ev/ordinary-least-squares-regression/"
   ]
  },
  {
   "cell_type": "code",
   "execution_count": 16,
   "id": "18cd4ff0-5bab-48fa-97ab-197e40f67868",
   "metadata": {},
   "outputs": [
    {
     "name": "stdout",
     "output_type": "stream",
     "text": [
      "RSS value: 16.48706488\n"
     ]
    }
   ],
   "source": [
    "def RSS(y, y_pred):\n",
    "    return np.sum(np.square(y - y_pred))\n",
    "\n",
    "modified_coefs = [0.4, 1.3]\n",
    "y_pred = np.polyval(modified_coefs, x)\n",
    "print('RSS value:', RSS(y, y_pred)) # 16.48706488 which is larger"
   ]
  },
  {
   "cell_type": "code",
   "execution_count": null,
   "id": "c124296b-dc8e-4ec5-9d1b-f79d61705888",
   "metadata": {},
   "outputs": [],
   "source": []
  }
 ],
 "metadata": {
  "kernelspec": {
   "display_name": "Python [conda env:adsml] *",
   "language": "python",
   "name": "conda-env-adsml-py"
  },
  "language_info": {
   "codemirror_mode": {
    "name": "ipython",
    "version": 3
   },
   "file_extension": ".py",
   "mimetype": "text/x-python",
   "name": "python",
   "nbconvert_exporter": "python",
   "pygments_lexer": "ipython3",
   "version": "3.9.7"
  }
 },
 "nbformat": 4,
 "nbformat_minor": 5
}
