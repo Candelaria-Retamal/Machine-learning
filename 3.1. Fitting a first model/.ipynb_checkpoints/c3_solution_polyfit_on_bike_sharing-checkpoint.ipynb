{
 "cells": [
  {
   "cell_type": "markdown",
   "metadata": {},
   "source": [
    "Polyfit on the bike sharing dataset\n",
    "---"
   ]
  },
  {
   "cell_type": "markdown",
   "metadata": {},
   "source": [
    "Solution: Load the dataset\n",
    "---\n",
    "\n",
    "> **Exercise**: Create the x/y **Numpy arrays**. The feature vector x should contain the temperature values. The target vector y should contain the number of users."
   ]
  },
  {
   "cell_type": "code",
   "execution_count": null,
   "metadata": {},
   "outputs": [],
   "source": [
    "import pandas as pd\n",
    "import os\n",
    "\n",
    "# Load the data into a Pandas DataFrame\n",
    "data_df = pd.read_csv(\"c3_bike-sharing.csv\")\n",
    "\n",
    "# Extract the x/y Numpy arrays\n",
    "x = data_df.temp.values\n",
    "y = data_df.users.values\n",
    "\n",
    "print(\"x:\", type(x), x.shape, x.dtype, x[:5])\n",
    "print(\"y:\", type(y), y.shape, y.dtype, y[:5])"
   ]
  },
  {
   "cell_type": "markdown",
   "metadata": {},
   "source": [
    "Solution: Fit a polynomial\n",
    "---\n",
    "\n",
    "> **Exercise**: (A) Fit a polynomial using the Numpy `polyfit()` function. You should test different degrees. (B) Print the optimal coefficients. (C) Plot the polynomial."
   ]
  },
  {
   "cell_type": "code",
   "execution_count": null,
   "metadata": {},
   "outputs": [],
   "source": [
    "import numpy as np\n",
    "\n",
    "# (A) Fit a polynomial\n",
    "coefs = np.polyfit(x, y, deg=3)\n",
    "\n",
    "# (B) Print coefficients\n",
    "print(\"Coefficients:\", coefs)\n",
    "\n",
    "# (C) Plot the polynomial\n",
    "# Generate a hundred data points between min(x) and max(x)\n",
    "x_values = np.linspace(min(x), max(x), num=100)\n",
    "\n",
    "# Compute predictions for these sample data points\n",
    "y_values = np.polyval(coefs, x_values)\n",
    "\n",
    "# Plot the polynomial\n",
    "%matplotlib inline\n",
    "import matplotlib.pyplot as plt\n",
    "\n",
    "plt.scatter(x, y, s=20, label=None)\n",
    "plt.plot(x_values, y_values, c=\"C3\", label=\"polyfit(x, y, deg=3)\")\n",
    "plt.xlabel(\"temperatures\")\n",
    "plt.ylabel(\"number of casual users\")\n",
    "plt.legend()\n",
    "plt.show()"
   ]
  },
  {
   "cell_type": "markdown",
   "metadata": {},
   "source": [
    "Solution: Evaluate your model\n",
    "---\n",
    "\n",
    "The RSS measure depends on the total number of data points since we sum the squared error over all data points. In practice, we prefer to have a measure that is independent of the number of observations. To achieve this, we can replace the sum by a mean, and we obtain the Mean Squared Error (MSE) measure.\n",
    "\n",
    "$$\n",
    "\\text{MSE}=\\frac{1}{n}\\sum_{i=1}^{n}\\left(y_{i}-\\hat{y}_{i}\\right)^{2}\n",
    "$$\n",
    "\n",
    "> **Exercise**: Implement the MSE measure."
   ]
  },
  {
   "cell_type": "code",
   "execution_count": null,
   "metadata": {},
   "outputs": [],
   "source": [
    "def MSE(y, y_pred):\n",
    "    return np.mean(np.square(y - y_pred))"
   ]
  },
  {
   "cell_type": "markdown",
   "metadata": {},
   "source": [
    "MSE can still be a large number since we measure squared errors. One solution is to take the square root of MSE to obtain the Root Mean Squared Error (RMSE).\n",
    "\n",
    "$$\n",
    "\\text{RMSE}=\\sqrt{\\text{MSE}}\n",
    "$$\n",
    "\n",
    "> **Exercise**: Compute the estimated values `y_pred` for the data points `x`. Print the RMSE score."
   ]
  },
  {
   "cell_type": "code",
   "execution_count": null,
   "metadata": {},
   "outputs": [],
   "source": [
    "# Compute predictions\n",
    "y_pred = np.polyval(coefs, x)\n",
    "\n",
    "# Print RMSE score\n",
    "print(\"RMSE score:\", np.sqrt(MSE(y, y_pred)))"
   ]
  }
 ],
 "metadata": {
  "kernelspec": {
   "display_name": "Python 3",
   "language": "python",
   "name": "python3"
  },
  "language_info": {
   "codemirror_mode": {
    "name": "ipython",
    "version": 3
   },
   "file_extension": ".py",
   "mimetype": "text/x-python",
   "name": "python",
   "nbconvert_exporter": "python",
   "pygments_lexer": "ipython3",
   "version": "3.9.2"
  }
 },
 "nbformat": 4,
 "nbformat_minor": 2
}
