{
 "cells": [
  {
   "cell_type": "markdown",
   "id": "32262bcd-6b0b-4128-9aa4-ca126e0de532",
   "metadata": {},
   "source": [
    "### Advanced Keras"
   ]
  },
  {
   "cell_type": "markdown",
   "id": "cdf20fea-0443-424d-b186-a52580120aa5",
   "metadata": {},
   "source": [
    "So far, we always worked with in-memory datasets. In this unit, we will see how to scale up and create data generators that read images from the disk with Keras image generators and go through a concrete example with a .png version of the CIFAR-10 dataset.\n",
    "\n",
    "#### Keras Image Generators\n",
    "The first step is to create an ImageDataGenerator which specifies how to process each image. In our case, we will simply apply 0-1 rescaling to all images and additional data augmentation to the train set to increase the size of the dataset and add some variation."
   ]
  },
  {
   "cell_type": "code",
   "execution_count": 4,
   "id": "7a3b4c55-b8b8-40e1-ad01-6d45f46eb79d",
   "metadata": {},
   "outputs": [],
   "source": [
    "from tensorflow.keras.preprocessing.image import ImageDataGenerator\n",
    "\n",
    "# Create image generator\n",
    "train_generator = ImageDataGenerator(\n",
    "    rescale=1 / 255, horizontal_flip=True, rotation_range=5, validation_split=0.2\n",
    ")\n",
    "test_generator = ImageDataGenerator(rescale=1. / 255)"
   ]
  },
  {
   "cell_type": "markdown",
   "id": "1a0f59f4-7413-457a-ae60-7ca93cecaf42",
   "metadata": {},
   "source": [
    "We use the rescale parameter to normalize the images between zero and one, and the horizontal_flip and rotation_range transformations to get slightly different variants of the images each time we sample from the images to fight overfitting and virtually augment the dataset to improve training. This is why we only use those parameters for the train_generator and not the test_generator one. Optionally, we can also keep a fraction of the data for validation. In this case, we keep 20% of the data as a validation set. Note that they will also go through the training transformations.\n",
    "\n",
    "The second step is to create an iterator that iterates over the directory of CIFAR-10 .png images. The cifar10 folder can be downloaded from the resources of this unit. To iterate over the directory we can use the flow_from_directory() function from our image generators which takes the path to the directory, the batch size and the target size. This can be useful if we need to resize the images before inserting them into our network. However, in our case, we will keep the 32x32 .png images and set target_size=(32, 32).\n",
    "\n",
    "To better understand the structure of our dataset, let’s quickly take a look at the folder structures using the command:\n",
    "\n",
    "* !tree -d cifar10, for MacOS or Linux users,\n",
    "* !tree /A cifar10, for Windows users.\n",
    "\n",
    "This should return the following output:"
   ]
  },
  {
   "cell_type": "code",
   "execution_count": 7,
   "id": "c0eea8a3-936c-46e3-834a-f8c26e273a54",
   "metadata": {},
   "outputs": [
    {
     "name": "stdout",
     "output_type": "stream",
     "text": [
      "Listado de rutas de carpetas para el volumen Windows-SSD\n",
      "El número de serie del volumen es 249D-2980\n",
      "C:\\USERS\\56975\\DOCUMENTS\\GITHUB\\MACHINE-LEARNING\\4.7. TENSORFLOW SYSTEM\\CIFAR10\n",
      "+---test\n",
      "|   +---airplane\n",
      "|   +---automobile\n",
      "|   +---bird\n",
      "|   +---cat\n",
      "|   +---deer\n",
      "|   +---dog\n",
      "|   +---frog\n",
      "|   +---horse\n",
      "|   +---ship\n",
      "|   \\---truck\n",
      "\\---train\n",
      "    +---airplane\n",
      "    +---automobile\n",
      "    +---bird\n",
      "    +---cat\n",
      "    +---deer\n",
      "    +---dog\n",
      "    +---frog\n",
      "    +---horse\n",
      "    +---ship\n",
      "    \\---truck\n"
     ]
    }
   ],
   "source": [
    "!tree /A cifar10"
   ]
  },
  {
   "cell_type": "markdown",
   "id": "df0d4825-72aa-4645-9783-6a782d4bac8b",
   "metadata": {},
   "source": [
    "As we can see, we have two subfolders train and test in our cifar10 folder and that each of them contains 10 subfolders - one per class. Let’s not establish to generator objects that can profit from this folder structure.\n",
    "\n"
   ]
  },
  {
   "cell_type": "code",
   "execution_count": 8,
   "id": "30426a0a-d768-432b-80d7-f2616225efe4",
   "metadata": {},
   "outputs": [
    {
     "name": "stdout",
     "output_type": "stream",
     "text": [
      "Found 4000 images belonging to 10 classes.\n",
      "Found 1000 images belonging to 10 classes.\n",
      "Found 1000 images belonging to 10 classes.\n"
     ]
    }
   ],
   "source": [
    "import os\n",
    "\n",
    "# Train, validation and test sets\n",
    "trainset = train_generator.flow_from_directory(\n",
    "    os.path.join(\"cifar10\", \"train\"),\n",
    "    batch_size=32,\n",
    "    target_size=(32, 32),\n",
    "    shuffle=True,\n",
    "    subset=\"training\",\n",
    ")\n",
    "validset = train_generator.flow_from_directory(\n",
    "    os.path.join(\"cifar10\", \"train\"),\n",
    "    batch_size=32,\n",
    "    target_size=(32, 32),\n",
    "    shuffle=False,\n",
    "    subset=\"validation\",\n",
    ")\n",
    "testset = test_generator.flow_from_directory(\n",
    "    os.path.join(\"cifar10\", \"test\"), batch_size=32, target_size=(32, 32), shuffle=False\n",
    ")"
   ]
  },
  {
   "cell_type": "markdown",
   "id": "fda3ee4a-4979-419b-97c1-dad9c3955763",
   "metadata": {},
   "source": [
    "We create a trainset and a validset iterator for the images from the train directory and a testset one for the images from the test directory. Note that we don’t need to shuffle the validation and test data (i.e we set shuffle=False) since shuffling only affects training. Also, we only need to specify the subset argument for the train and validation sets since we used above the optional validation_split parameter from the train_generator.\n",
    "\n",
    "We can always verify which images are assigned to each dataset by looking at the filenames attribute"
   ]
  },
  {
   "cell_type": "code",
   "execution_count": 9,
   "id": "56f5379f-f4c2-416f-8e9a-186b2b9a255a",
   "metadata": {},
   "outputs": [
    {
     "data": {
      "text/plain": [
       "['airplane\\\\airplane-101.png',\n",
       " 'airplane\\\\airplane-102.png',\n",
       " 'airplane\\\\airplane-103.png',\n",
       " 'airplane\\\\airplane-104.png',\n",
       " 'airplane\\\\airplane-105.png']"
      ]
     },
     "execution_count": 9,
     "metadata": {},
     "output_type": "execute_result"
    }
   ],
   "source": [
    "trainset.filenames[:5]"
   ]
  },
  {
   "cell_type": "code",
   "execution_count": 10,
   "id": "69f5d8e0-5d56-41b1-bb13-42711a3c1974",
   "metadata": {},
   "outputs": [
    {
     "data": {
      "text/plain": [
       "['airplane\\\\airplane-001.png',\n",
       " 'airplane\\\\airplane-002.png',\n",
       " 'airplane\\\\airplane-003.png',\n",
       " 'airplane\\\\airplane-004.png']"
      ]
     },
     "execution_count": 10,
     "metadata": {},
     "output_type": "execute_result"
    }
   ],
   "source": [
    "#Similarly, for the validation set\n",
    "\n",
    "validset.filenames[:4]"
   ]
  },
  {
   "cell_type": "markdown",
   "id": "3fb7a9f0-1c24-47e2-9803-965d13a6126e",
   "metadata": {},
   "source": [
    "As we can see, for each class the first 100 images (1000 validation images/10 class) were assigned to the validation set and the rest to the training one. We can verify that those two sets don’t intersect with"
   ]
  },
  {
   "cell_type": "code",
   "execution_count": 11,
   "id": "1c0397d1-c6b0-4a53-8d0b-0427b7e1f56c",
   "metadata": {},
   "outputs": [
    {
     "data": {
      "text/plain": [
       "set()"
      ]
     },
     "execution_count": 11,
     "metadata": {},
     "output_type": "execute_result"
    }
   ],
   "source": [
    "set(trainset.filenames).intersection(set(validset.filenames))"
   ]
  },
  {
   "cell_type": "markdown",
   "id": "343e1c98-cbb6-4900-bd26-27bf62f993b8",
   "metadata": {},
   "source": [
    "which returns an empty set for the intersection.\n",
    "\n",
    "The directory iterators can be used like normal Python iterators, for example in a for loop. By calling next(), we get the next batch of images with their labels.\n",
    "\n"
   ]
  },
  {
   "cell_type": "code",
   "execution_count": 12,
   "id": "058c724c-ca1a-47fa-8a60-a80a4f7c52c0",
   "metadata": {},
   "outputs": [
    {
     "name": "stdout",
     "output_type": "stream",
     "text": [
      "Batch images: (32, 32, 32, 3)\n",
      "Batch labels: (32, 10)\n"
     ]
    }
   ],
   "source": [
    "batch_imgs, batch_labels = trainset.next()\n",
    "\n",
    "print(\"Batch images:\", batch_imgs.shape)\n",
    "print(\"Batch labels:\", batch_labels.shape)"
   ]
  },
  {
   "cell_type": "markdown",
   "id": "7b80ca42-a4bd-4fd8-9fae-c1f2140e33c3",
   "metadata": {},
   "source": [
    "It’s important to note that the iterator returns one-hot encoded labels by default. In our case, we have 10 classes, so batch_label is a 32 x 10 array.\n",
    "\n"
   ]
  },
  {
   "cell_type": "code",
   "execution_count": 13,
   "id": "a2095870-09da-4069-a79a-44aafd0a638b",
   "metadata": {},
   "outputs": [
    {
     "data": {
      "text/plain": [
       "array([[0., 0., 0., 0., 0., 0., 0., 0., 0., 1.],\n",
       "       [0., 0., 0., 0., 0., 0., 0., 0., 1., 0.],\n",
       "       [0., 0., 0., 0., 1., 0., 0., 0., 0., 0.],\n",
       "       [0., 0., 0., 0., 0., 0., 0., 1., 0., 0.],\n",
       "       [0., 0., 0., 0., 1., 0., 0., 0., 0., 0.]], dtype=float32)"
      ]
     },
     "execution_count": 13,
     "metadata": {},
     "output_type": "execute_result"
    }
   ],
   "source": [
    "batch_labels[:5]"
   ]
  },
  {
   "cell_type": "markdown",
   "id": "b5689541-79ce-4bc9-8343-fb62b564bbbd",
   "metadata": {},
   "source": [
    "We can always retrieve the original class names with the class_indices attribute"
   ]
  },
  {
   "cell_type": "code",
   "execution_count": 15,
   "id": "28533f17-308f-4044-84ce-41f35bec4b56",
   "metadata": {},
   "outputs": [
    {
     "data": {
      "text/plain": [
       "{'airplane': 0,\n",
       " 'automobile': 1,\n",
       " 'bird': 2,\n",
       " 'cat': 3,\n",
       " 'deer': 4,\n",
       " 'dog': 5,\n",
       " 'frog': 6,\n",
       " 'horse': 7,\n",
       " 'ship': 8,\n",
       " 'truck': 9}"
      ]
     },
     "execution_count": 15,
     "metadata": {},
     "output_type": "execute_result"
    }
   ],
   "source": [
    "trainset.class_indices"
   ]
  },
  {
   "cell_type": "markdown",
   "id": "5fd7f0bd-c7ac-4c1c-b283-a8a2401ca65c",
   "metadata": {},
   "source": [
    "Note that it is possible to obtain integer encoded labels with the iterator. To do that, one can change the default parameter class_mode = 'categorical' in flow_from_directory() function to class_mode = 'sparse'."
   ]
  },
  {
   "cell_type": "markdown",
   "id": "f91e2113-354d-4edc-98f2-fe3104b4f0fe",
   "metadata": {},
   "source": [
    "#### Training with generators\n",
    "Let’s now see how to train our network with iterators. But first, we need to create the network. This time, we will implement a ConvNet similar to the one we saw in the last subject. To achieve this, we will add Conv2D, MaxPool2D, Flatten and Dense layers to our Sequential model"
   ]
  },
  {
   "cell_type": "code",
   "execution_count": 16,
   "id": "391272b0-a7c2-4f9e-8349-e27c43c13c73",
   "metadata": {},
   "outputs": [
    {
     "name": "stdout",
     "output_type": "stream",
     "text": [
      "Model: \"sequential\"\n",
      "_________________________________________________________________\n",
      "Layer (type)                 Output Shape              Param #   \n",
      "=================================================================\n",
      "conv2d (Conv2D)              (None, 14, 14, 64)        4864      \n",
      "_________________________________________________________________\n",
      "max_pooling2d (MaxPooling2D) (None, 7, 7, 64)          0         \n",
      "_________________________________________________________________\n",
      "conv2d_1 (Conv2D)            (None, 5, 5, 64)          36928     \n",
      "_________________________________________________________________\n",
      "max_pooling2d_1 (MaxPooling2 (None, 2, 2, 64)          0         \n",
      "_________________________________________________________________\n",
      "flatten (Flatten)            (None, 256)               0         \n",
      "_________________________________________________________________\n",
      "dense (Dense)                (None, 10)                2570      \n",
      "=================================================================\n",
      "Total params: 44,362\n",
      "Trainable params: 44,362\n",
      "Non-trainable params: 0\n",
      "_________________________________________________________________\n"
     ]
    }
   ],
   "source": [
    "import tensorflow.keras as keras\n",
    "\n",
    "# Convolutional Network\n",
    "model = keras.Sequential()\n",
    "model.add(keras.layers.Conv2D(filters=64, kernel_size=5, strides=2, activation=\"relu\",\n",
    "                              input_shape=(32, 32, 3)))\n",
    "model.add(keras.layers.MaxPool2D(pool_size=2))\n",
    "model.add(keras.layers.Conv2D(filters=64, kernel_size=3, strides=1, activation=\"relu\"))\n",
    "model.add(keras.layers.MaxPool2D(pool_size=2))\n",
    "model.add(keras.layers.Flatten())\n",
    "model.add(keras.layers.Dense(units=trainset.num_classes, activation=\"softmax\"))\n",
    "model.summary()"
   ]
  },
  {
   "cell_type": "markdown",
   "id": "325647ce-e028-414f-966e-5836224b0070",
   "metadata": {},
   "source": [
    "Let’s compile the model with the Adam optimizer and the categorical_crossentropy loss function which is equivalent to the sparse_categorical_crossentropy one from the last unit, but works with one-hot encoded labels."
   ]
  },
  {
   "cell_type": "code",
   "execution_count": 17,
   "id": "cfa7976b-6e1a-433e-94b8-5cdfd754c7dc",
   "metadata": {},
   "outputs": [],
   "source": [
    "# Compile the model\n",
    "model.compile(optimizer=keras.optimizers.Adam(),\n",
    "              loss=\"categorical_crossentropy\",\n",
    "              metrics=[\"acc\"])"
   ]
  },
  {
   "cell_type": "markdown",
   "id": "d77f36f4-2d18-4ff2-ba32-b13fa75a6103",
   "metadata": {},
   "source": [
    "Let’s also create an optional EarlyStopping callback that we can use during the model fitting process. Callbacks are functions that can be applied at different stages of the training procedures. In our case, EarlyStopping will monitor the loss value on the validation set and stop the training once this loss value didn’t improve anymore for more than 6 epochs. Early stopping is a common way to fight overfitting.\n",
    "\n"
   ]
  },
  {
   "cell_type": "code",
   "execution_count": 19,
   "id": "febc6da3-8370-419c-80af-ca429d36645b",
   "metadata": {},
   "outputs": [],
   "source": [
    "# End training when accuracy stops improving (optional)\n",
    "early_stopping = keras.callbacks.EarlyStopping(monitor=\"val_loss\", patience=6)\n"
   ]
  },
  {
   "cell_type": "markdown",
   "id": "f8195ca2-e637-476b-8291-318432e6b864",
   "metadata": {},
   "source": [
    "Now that everything is ready we can implement the model fitting using the model.fit() method. Instead of passing the x/y inputs as we did previously, model.fit() can take a generator which returns the training inputs/labels batches. It also takes a generator for validation_data.\n",
    "\n"
   ]
  },
  {
   "cell_type": "code",
   "execution_count": 20,
   "id": "38b98734-b5da-4ce4-8220-0708771e1092",
   "metadata": {},
   "outputs": [
    {
     "name": "stdout",
     "output_type": "stream",
     "text": [
      "Epoch 1/100\n",
      "125/125 [==============================] - 27s 214ms/step - loss: 2.2038 - acc: 0.1702 - val_loss: 2.0503 - val_acc: 0.2550\n",
      "Epoch 2/100\n",
      "125/125 [==============================] - 4s 30ms/step - loss: 1.9707 - acc: 0.2770 - val_loss: 1.9279 - val_acc: 0.3230\n",
      "Epoch 3/100\n",
      "125/125 [==============================] - 4s 30ms/step - loss: 1.8178 - acc: 0.3507 - val_loss: 1.7252 - val_acc: 0.3790\n",
      "Epoch 4/100\n",
      "125/125 [==============================] - 4s 32ms/step - loss: 1.7123 - acc: 0.3775 - val_loss: 1.6611 - val_acc: 0.3890\n",
      "Epoch 5/100\n",
      "125/125 [==============================] - 4s 30ms/step - loss: 1.6489 - acc: 0.4117 - val_loss: 1.6286 - val_acc: 0.4240\n",
      "Epoch 6/100\n",
      "125/125 [==============================] - 4s 30ms/step - loss: 1.6166 - acc: 0.4220 - val_loss: 1.5810 - val_acc: 0.4290\n",
      "Epoch 7/100\n",
      "125/125 [==============================] - 4s 30ms/step - loss: 1.5484 - acc: 0.4518 - val_loss: 1.5601 - val_acc: 0.4420\n",
      "Epoch 8/100\n",
      "125/125 [==============================] - 4s 31ms/step - loss: 1.5259 - acc: 0.4580 - val_loss: 1.5964 - val_acc: 0.4340\n",
      "Epoch 9/100\n",
      "125/125 [==============================] - 5s 37ms/step - loss: 1.4776 - acc: 0.4748 - val_loss: 1.4988 - val_acc: 0.4560\n",
      "Epoch 10/100\n",
      "125/125 [==============================] - 5s 43ms/step - loss: 1.4459 - acc: 0.4870 - val_loss: 1.4780 - val_acc: 0.4580\n",
      "Epoch 11/100\n",
      "125/125 [==============================] - 5s 44ms/step - loss: 1.4134 - acc: 0.5035 - val_loss: 1.4893 - val_acc: 0.4480\n",
      "Epoch 12/100\n",
      "125/125 [==============================] - 5s 43ms/step - loss: 1.4102 - acc: 0.4922 - val_loss: 1.4773 - val_acc: 0.4480\n",
      "Epoch 13/100\n",
      "125/125 [==============================] - 5s 43ms/step - loss: 1.3784 - acc: 0.5060 - val_loss: 1.4806 - val_acc: 0.4810\n",
      "Epoch 14/100\n",
      "125/125 [==============================] - 6s 44ms/step - loss: 1.3561 - acc: 0.5192 - val_loss: 1.4665 - val_acc: 0.4560\n",
      "Epoch 15/100\n",
      "125/125 [==============================] - 6s 46ms/step - loss: 1.3258 - acc: 0.5207 - val_loss: 1.4493 - val_acc: 0.4730\n",
      "Epoch 16/100\n",
      "125/125 [==============================] - 6s 47ms/step - loss: 1.3150 - acc: 0.5305 - val_loss: 1.5032 - val_acc: 0.4720\n",
      "Epoch 17/100\n",
      "125/125 [==============================] - 6s 48ms/step - loss: 1.2929 - acc: 0.5425 - val_loss: 1.4140 - val_acc: 0.4890\n",
      "Epoch 18/100\n",
      "125/125 [==============================] - 6s 46ms/step - loss: 1.2736 - acc: 0.5560 - val_loss: 1.4379 - val_acc: 0.4820\n",
      "Epoch 19/100\n",
      "125/125 [==============================] - 6s 48ms/step - loss: 1.2479 - acc: 0.5512 - val_loss: 1.4251 - val_acc: 0.5020\n",
      "Epoch 20/100\n",
      "125/125 [==============================] - 6s 47ms/step - loss: 1.2425 - acc: 0.5573 - val_loss: 1.4274 - val_acc: 0.4810\n",
      "Epoch 21/100\n",
      "125/125 [==============================] - 6s 50ms/step - loss: 1.2241 - acc: 0.5732 - val_loss: 1.4077 - val_acc: 0.4940\n",
      "Epoch 22/100\n",
      "125/125 [==============================] - 6s 50ms/step - loss: 1.2125 - acc: 0.5707 - val_loss: 1.4071 - val_acc: 0.4860\n",
      "Epoch 23/100\n",
      "125/125 [==============================] - 6s 48ms/step - loss: 1.1860 - acc: 0.5813 - val_loss: 1.5364 - val_acc: 0.4850\n",
      "Epoch 24/100\n",
      "125/125 [==============================] - 6s 50ms/step - loss: 1.1738 - acc: 0.5807 - val_loss: 1.3992 - val_acc: 0.4930\n",
      "Epoch 25/100\n",
      "125/125 [==============================] - 6s 50ms/step - loss: 1.1670 - acc: 0.5807 - val_loss: 1.3811 - val_acc: 0.5170\n",
      "Epoch 26/100\n",
      "125/125 [==============================] - 6s 51ms/step - loss: 1.1605 - acc: 0.5830 - val_loss: 1.4201 - val_acc: 0.4930\n",
      "Epoch 27/100\n",
      "125/125 [==============================] - 7s 54ms/step - loss: 1.1354 - acc: 0.5957 - val_loss: 1.3595 - val_acc: 0.5070\n",
      "Epoch 28/100\n",
      "125/125 [==============================] - 7s 54ms/step - loss: 1.1394 - acc: 0.6058 - val_loss: 1.4474 - val_acc: 0.5130\n",
      "Epoch 29/100\n",
      "125/125 [==============================] - 8s 63ms/step - loss: 1.1209 - acc: 0.6050 - val_loss: 1.3759 - val_acc: 0.5070\n",
      "Epoch 30/100\n",
      "125/125 [==============================] - 7s 59ms/step - loss: 1.0892 - acc: 0.6143 - val_loss: 1.4133 - val_acc: 0.4950\n",
      "Epoch 31/100\n",
      "125/125 [==============================] - 9s 69ms/step - loss: 1.0820 - acc: 0.6183 - val_loss: 1.4107 - val_acc: 0.5070\n",
      "Epoch 32/100\n",
      "125/125 [==============================] - 8s 63ms/step - loss: 1.0643 - acc: 0.6187 - val_loss: 1.3845 - val_acc: 0.5020\n",
      "Epoch 33/100\n",
      "125/125 [==============================] - 9s 70ms/step - loss: 1.0588 - acc: 0.6248 - val_loss: 1.3877 - val_acc: 0.4950\n"
     ]
    }
   ],
   "source": [
    "# Train model\n",
    "history = model.fit(\n",
    "    trainset, validation_data=validset, epochs=100, callbacks=[early_stopping]\n",
    ")"
   ]
  },
  {
   "cell_type": "markdown",
   "id": "fd12ac78-64a0-46b0-b331-80ecb35220f7",
   "metadata": {},
   "source": [
    "Using the early_stopping callback means that the epoch=100 parameter is consider as an upper limit value and the training will be stopped already earlier if the val_loss value doesn’t improve anymore.\n",
    "\n",
    "Let’s visualize the training curves with the code from the previous unit"
   ]
  },
  {
   "cell_type": "code",
   "execution_count": 21,
   "id": "492b679b-9a09-4c66-ba6c-a3693ebc7388",
   "metadata": {},
   "outputs": [
    {
     "data": {
      "image/png": "[encoded data removed]",
      "text/plain": [
       "<Figure size 864x288 with 2 Axes>"
      ]
     },
     "metadata": {
      "needs_background": "light"
     },
     "output_type": "display_data"
    }
   ],
   "source": [
    "%matplotlib inline\n",
    "import matplotlib.pyplot as plt\n",
    "\n",
    "fig, (ax1, ax2) = plt.subplots(nrows=1, ncols=2, figsize=(12, 4))\n",
    "\n",
    "# Plot loss values\n",
    "ax1.set_title(\"loss: {:.4f}\".format(history.history[\"val_loss\"][-1]))\n",
    "ax1.plot(history.history[\"val_loss\"], label=\"validation\")\n",
    "ax1.plot(history.history[\"loss\"], label=\"training\")\n",
    "ax1.legend()\n",
    "\n",
    "# plot accuracy values\n",
    "ax2.set_title(\"accuracy: {:.2f}%\".format(history.history[\"val_acc\"][-1] * 100))\n",
    "ax2.plot(history.history[\"val_acc\"], label=\"validation\")\n",
    "ax2.plot(history.history[\"acc\"], label=\"training\")\n",
    "ax2.legend()\n",
    "\n",
    "plt.show()"
   ]
  },
  {
   "cell_type": "markdown",
   "id": "742707db-83b6-4ded-b4a9-3d0b553d146c",
   "metadata": {},
   "source": [
    "The code creates two plots: one for the loss and one for the accuracy values, both times showing the training and validation curves. The results can slightly change here because of training data shuffling and model random initialization.\n",
    "\n",
    "Our very small network reaches an accuracy of around 50% after ~30 epochs which is not bad compared to the most-frequent baseline at 10%.\n",
    "\n"
   ]
  },
  {
   "cell_type": "markdown",
   "id": "b1e45d9a-c8b7-4475-8ba3-169063eaf2a4",
   "metadata": {},
   "source": [
    "Can you improve the results with a more sophisticated network?\n",
    "\n",
    "Note that, unlike Scikit-learn library, Keras API can handle both integer encoded labels and one-hot encoded labels in order to perform multiclass classification. However, one needs to use the appropriate loss function: sparse_categorical_crossentropy for integer encoded labels and categorical_crossentropy for one-hot encoded labels."
   ]
  },
  {
   "cell_type": "markdown",
   "id": "011eb959-b489-4d48-bbc2-50d14ff68503",
   "metadata": {},
   "source": [
    "#### Prediction and final test estimations\n",
    "The functions predict() and evaluate() in Keras can also be used to make predictions and evaluate them from generators. For instance, we can compute the network output for the 1,000 test images by running"
   ]
  },
  {
   "cell_type": "code",
   "execution_count": 22,
   "id": "4fb46228-73a4-4612-a64c-89d41f389154",
   "metadata": {},
   "outputs": [
    {
     "name": "stdout",
     "output_type": "stream",
     "text": [
      "Predictions: (1000, 10)\n"
     ]
    }
   ],
   "source": [
    "test_preds = model.predict(testset)\n",
    "print(\"Predictions:\", test_preds.shape)"
   ]
  },
  {
   "cell_type": "markdown",
   "id": "b7069483-394e-40f9-94cc-a13842fb6084",
   "metadata": {},
   "source": [
    "The test_preds variable contains one row for each data point and one column for each class. We can then get the class digits (0, 1, 2, .., 9) associated with the highest predicted score for each image by taking the argmax across the horizontal axis test_preds.argmax(axis=1). For instance, we can use that to compute the confusion matrix."
   ]
  },
  {
   "cell_type": "code",
   "execution_count": 23,
   "id": "b3809058-aa09-459e-9c36-e789a9daef04",
   "metadata": {},
   "outputs": [
    {
     "data": {
      "text/html": [
       "<div>\n",
       "<style scoped>\n",
       "    .dataframe tbody tr th:only-of-type {\n",
       "        vertical-align: middle;\n",
       "    }\n",
       "\n",
       "    .dataframe tbody tr th {\n",
       "        vertical-align: top;\n",
       "    }\n",
       "\n",
       "    .dataframe thead th {\n",
       "        text-align: right;\n",
       "    }\n",
       "</style>\n",
       "<table border=\"1\" class=\"dataframe\">\n",
       "  <thead>\n",
       "    <tr style=\"text-align: right;\">\n",
       "      <th>Predictions</th>\n",
       "      <th>airplane</th>\n",
       "      <th>automobile</th>\n",
       "      <th>bird</th>\n",
       "      <th>cat</th>\n",
       "      <th>deer</th>\n",
       "      <th>dog</th>\n",
       "      <th>frog</th>\n",
       "      <th>horse</th>\n",
       "      <th>ship</th>\n",
       "      <th>truck</th>\n",
       "    </tr>\n",
       "    <tr>\n",
       "      <th>True class</th>\n",
       "      <th></th>\n",
       "      <th></th>\n",
       "      <th></th>\n",
       "      <th></th>\n",
       "      <th></th>\n",
       "      <th></th>\n",
       "      <th></th>\n",
       "      <th></th>\n",
       "      <th></th>\n",
       "      <th></th>\n",
       "    </tr>\n",
       "  </thead>\n",
       "  <tbody>\n",
       "    <tr>\n",
       "      <th>airplane</th>\n",
       "      <td>60</td>\n",
       "      <td>4</td>\n",
       "      <td>5</td>\n",
       "      <td>2</td>\n",
       "      <td>7</td>\n",
       "      <td>2</td>\n",
       "      <td>4</td>\n",
       "      <td>5</td>\n",
       "      <td>8</td>\n",
       "      <td>3</td>\n",
       "    </tr>\n",
       "    <tr>\n",
       "      <th>automobile</th>\n",
       "      <td>4</td>\n",
       "      <td>71</td>\n",
       "      <td>1</td>\n",
       "      <td>1</td>\n",
       "      <td>1</td>\n",
       "      <td>2</td>\n",
       "      <td>1</td>\n",
       "      <td>5</td>\n",
       "      <td>5</td>\n",
       "      <td>9</td>\n",
       "    </tr>\n",
       "    <tr>\n",
       "      <th>bird</th>\n",
       "      <td>6</td>\n",
       "      <td>0</td>\n",
       "      <td>42</td>\n",
       "      <td>8</td>\n",
       "      <td>12</td>\n",
       "      <td>12</td>\n",
       "      <td>11</td>\n",
       "      <td>4</td>\n",
       "      <td>2</td>\n",
       "      <td>3</td>\n",
       "    </tr>\n",
       "    <tr>\n",
       "      <th>cat</th>\n",
       "      <td>2</td>\n",
       "      <td>3</td>\n",
       "      <td>7</td>\n",
       "      <td>25</td>\n",
       "      <td>14</td>\n",
       "      <td>26</td>\n",
       "      <td>9</td>\n",
       "      <td>12</td>\n",
       "      <td>0</td>\n",
       "      <td>2</td>\n",
       "    </tr>\n",
       "    <tr>\n",
       "      <th>deer</th>\n",
       "      <td>7</td>\n",
       "      <td>2</td>\n",
       "      <td>12</td>\n",
       "      <td>2</td>\n",
       "      <td>37</td>\n",
       "      <td>13</td>\n",
       "      <td>6</td>\n",
       "      <td>19</td>\n",
       "      <td>1</td>\n",
       "      <td>1</td>\n",
       "    </tr>\n",
       "    <tr>\n",
       "      <th>dog</th>\n",
       "      <td>1</td>\n",
       "      <td>1</td>\n",
       "      <td>12</td>\n",
       "      <td>12</td>\n",
       "      <td>4</td>\n",
       "      <td>49</td>\n",
       "      <td>6</td>\n",
       "      <td>13</td>\n",
       "      <td>1</td>\n",
       "      <td>1</td>\n",
       "    </tr>\n",
       "    <tr>\n",
       "      <th>frog</th>\n",
       "      <td>0</td>\n",
       "      <td>1</td>\n",
       "      <td>5</td>\n",
       "      <td>10</td>\n",
       "      <td>6</td>\n",
       "      <td>8</td>\n",
       "      <td>64</td>\n",
       "      <td>5</td>\n",
       "      <td>1</td>\n",
       "      <td>0</td>\n",
       "    </tr>\n",
       "    <tr>\n",
       "      <th>horse</th>\n",
       "      <td>2</td>\n",
       "      <td>0</td>\n",
       "      <td>4</td>\n",
       "      <td>4</td>\n",
       "      <td>4</td>\n",
       "      <td>7</td>\n",
       "      <td>3</td>\n",
       "      <td>75</td>\n",
       "      <td>0</td>\n",
       "      <td>1</td>\n",
       "    </tr>\n",
       "    <tr>\n",
       "      <th>ship</th>\n",
       "      <td>30</td>\n",
       "      <td>7</td>\n",
       "      <td>0</td>\n",
       "      <td>1</td>\n",
       "      <td>5</td>\n",
       "      <td>6</td>\n",
       "      <td>2</td>\n",
       "      <td>1</td>\n",
       "      <td>42</td>\n",
       "      <td>6</td>\n",
       "    </tr>\n",
       "    <tr>\n",
       "      <th>truck</th>\n",
       "      <td>10</td>\n",
       "      <td>8</td>\n",
       "      <td>2</td>\n",
       "      <td>4</td>\n",
       "      <td>1</td>\n",
       "      <td>3</td>\n",
       "      <td>4</td>\n",
       "      <td>5</td>\n",
       "      <td>8</td>\n",
       "      <td>55</td>\n",
       "    </tr>\n",
       "  </tbody>\n",
       "</table>\n",
       "</div>"
      ],
      "text/plain": [
       "Predictions  airplane  automobile  bird  cat  deer  dog  frog  horse  ship  \\\n",
       "True class                                                                   \n",
       "airplane           60           4     5    2     7    2     4      5     8   \n",
       "automobile          4          71     1    1     1    2     1      5     5   \n",
       "bird                6           0    42    8    12   12    11      4     2   \n",
       "cat                 2           3     7   25    14   26     9     12     0   \n",
       "deer                7           2    12    2    37   13     6     19     1   \n",
       "dog                 1           1    12   12     4   49     6     13     1   \n",
       "frog                0           1     5   10     6    8    64      5     1   \n",
       "horse               2           0     4    4     4    7     3     75     0   \n",
       "ship               30           7     0    1     5    6     2      1    42   \n",
       "truck              10           8     2    4     1    3     4      5     8   \n",
       "\n",
       "Predictions  truck  \n",
       "True class          \n",
       "airplane         3  \n",
       "automobile       9  \n",
       "bird             3  \n",
       "cat              2  \n",
       "deer             1  \n",
       "dog              1  \n",
       "frog             0  \n",
       "horse            1  \n",
       "ship             6  \n",
       "truck           55  "
      ]
     },
     "execution_count": 23,
     "metadata": {},
     "output_type": "execute_result"
    }
   ],
   "source": [
    "from sklearn.metrics import confusion_matrix\n",
    "import pandas as pd\n",
    "\n",
    "# Compute confusion matrix\n",
    "matrix = confusion_matrix(\n",
    "    y_true=testset.classes,            # array with true labels\n",
    "    y_pred=test_preds.argmax(axis=1),  # array with predicted labels\n",
    ")\n",
    "\n",
    "# Format as a DataFrame\n",
    "class_names = list(testset.class_indices.keys())\n",
    "matrix_df = pd.DataFrame(data=matrix, columns=class_names, index=class_names)\n",
    "matrix_df.columns.name = \"Predictions\"\n",
    "matrix_df.index.name = \"True class\"\n",
    "matrix_df"
   ]
  },
  {
   "cell_type": "markdown",
   "id": "1133c82d-9d61-4fa2-b980-31bea8f60648",
   "metadata": {},
   "source": [
    "Similarly, we can get the test scores by running\n",
    "\n"
   ]
  },
  {
   "cell_type": "code",
   "execution_count": 24,
   "id": "ef0b5469-e949-4b2c-8824-9ec3418f0131",
   "metadata": {},
   "outputs": [
    {
     "name": "stdout",
     "output_type": "stream",
     "text": [
      "32/32 [==============================] - 0s 11ms/step - loss: 1.3996 - acc: 0.5200\n",
      "Test loss: 1.40, accuracy: 52.00%\n"
     ]
    }
   ],
   "source": [
    "test_loss, test_acurracy = model.evaluate(testset)\n",
    "print(\"Test loss: {:.2f}, accuracy: {:.2f}%\".format(test_loss, test_acurracy * 100))\n",
    "# Output varies with an accuracy score around 52% and a loss around 1.4"
   ]
  },
  {
   "cell_type": "code",
   "execution_count": null,
   "id": "f0e92c0e-1d74-48b6-971a-efd0ad1b5a6c",
   "metadata": {},
   "outputs": [],
   "source": []
  }
 ],
 "metadata": {
  "kernelspec": {
   "display_name": "Python [conda env:adsml] *",
   "language": "python",
   "name": "conda-env-adsml-py"
  },
  "language_info": {
   "codemirror_mode": {
    "name": "ipython",
    "version": 3
   },
   "file_extension": ".py",
   "mimetype": "text/x-python",
   "name": "python",
   "nbconvert_exporter": "python",
   "pygments_lexer": "ipython3",
   "version": "3.9.7"
  }
 },
 "nbformat": 4,
 "nbformat_minor": 5
}
