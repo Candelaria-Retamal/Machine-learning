{
 "cells": [
  {
   "cell_type": "markdown",
   "metadata": {},
   "source": [
    "Gradient descent\n",
    "---"
   ]
  },
  {
   "cell_type": "markdown",
   "metadata": {},
   "source": [
    "Solution - Fit a linear regression with OLS\n",
    "---\n",
    "\n",
    "> **Exercise**: Load the train and test sets. Fit a linear regression using OLS with the `LinearRegression` object from Scikit-learn. Compute the train and test RMSE scores."
   ]
  },
  {
   "cell_type": "code",
   "execution_count": null,
   "metadata": {},
   "outputs": [],
   "source": [
    "import pandas as pd\n",
    "import os\n",
    "\n",
    "# Load train/test data\n",
    "train_df = pd.read_csv(\"c3_bike-train.csv\")\n",
    "test_df = pd.read_csv(\"c3_bike-test.csv\")\n",
    "train_df.head()"
   ]
  },
  {
   "cell_type": "code",
   "execution_count": null,
   "metadata": {},
   "outputs": [],
   "source": [
    "# Create input matrices and output vectors\n",
    "X_tr = train_df.drop(\"casual\", axis=1).values\n",
    "y_tr = train_df.casual.values\n",
    "\n",
    "X_te = test_df.drop(\"casual\", axis=1).values\n",
    "y_te = test_df.casual.values"
   ]
  },
  {
   "cell_type": "code",
   "execution_count": null,
   "metadata": {},
   "outputs": [],
   "source": [
    "import numpy as np\n",
    "\n",
    "# Implement RMSE\n",
    "def rmse(y, y_pred):\n",
    "    return np.sqrt(np.mean(np.square(y - y_pred)))"
   ]
  },
  {
   "cell_type": "code",
   "execution_count": null,
   "metadata": {},
   "outputs": [],
   "source": [
    "from sklearn.linear_model import LinearRegression\n",
    "\n",
    "# Fit a linear regression using OLS\n",
    "lr = LinearRegression()  # Create object\n",
    "lr.fit(X_tr, y_tr)  # Fit it to train data\n",
    "\n",
    "# Evaluate model\n",
    "y_pred_tr = lr.predict(X_tr)  # Train data\n",
    "lr_rmse_tr = rmse(y_tr, y_pred_tr)\n",
    "\n",
    "y_pred_te = lr.predict(X_te)  # Test data\n",
    "lr_rmse_te = rmse(y_te, y_pred_te)\n",
    "\n",
    "print(\"Linear regression (OLS) - train RMSE: {:.2f}\".format(lr_rmse_tr))\n",
    "print(\"Linear regression (OLS) - test RMSE: {:.2f}\".format(lr_rmse_te))"
   ]
  },
  {
   "cell_type": "markdown",
   "metadata": {},
   "source": [
    "Solution - Fit a linear regression with gradient descent\n",
    "---\n",
    "\n",
    "> **Exercise**: Standardize the features using the train data, i.e., train mean and standard deviation. Fit a linear regression to the train data with gradient descent and evaluate its performance on the test data.\n",
    "\n",
    "**Hint**: Test different different learning rates, e.g., 0.01, 0.1, 0.5"
   ]
  },
  {
   "cell_type": "code",
   "execution_count": null,
   "metadata": {},
   "outputs": [],
   "source": [
    "# Standardize features using train mean and standard deviation\n",
    "X_tr_stand = (X_tr - X_tr.mean(axis=0)) / X_tr.std(axis=0)\n",
    "X_te_stand = (X_te - X_tr.mean(axis=0)) / X_tr.std(axis=0)"
   ]
  },
  {
   "cell_type": "code",
   "execution_count": null,
   "metadata": {},
   "outputs": [],
   "source": [
    "# Add column of ones\n",
    "X_tr_stand1 = np.c_[np.ones(X_tr_stand.shape[0]), X_tr_stand]\n",
    "X_te_stand1 = np.c_[np.ones(X_te_stand.shape[0]), X_te_stand]"
   ]
  },
  {
   "cell_type": "code",
   "execution_count": null,
   "metadata": {},
   "outputs": [],
   "source": [
    "# Implement gradient descent\n",
    "def gd(X, y, lr, n_steps):\n",
    "    # Initialize vector of parameters\n",
    "    w = np.zeros(X.shape[1])\n",
    "\n",
    "    # Log RMSE at each step\n",
    "    log_rmse = []\n",
    "\n",
    "    # Perform n_steps iterations\n",
    "    for step in range(n_steps):\n",
    "        # Compute the predictions\n",
    "        y_pred = np.matmul(X, w)\n",
    "\n",
    "        # Gradient for linear regression with MSE\n",
    "        error = y - y_pred\n",
    "        gradient = -2 * np.matmul(X.T, error) / X.shape[0]\n",
    "\n",
    "        # Update the vector of parameters\n",
    "        w -= lr * gradient\n",
    "\n",
    "        # Log RMSE value\n",
    "        log_rmse.append(rmse(y, y_pred))\n",
    "\n",
    "    # Return vector of parameters and last RMSE value\n",
    "    return w, log_rmse[-1]\n",
    "\n",
    "\n",
    "# Fit linear regression\n",
    "w, gd_rmse_tr = gd(X_tr_stand1, y_tr, lr=0.1, n_steps=500)\n",
    "\n",
    "# Evaluate model\n",
    "y_pred_te = np.matmul(X_te_stand1, w)\n",
    "gd_rmse_te = rmse(y_te, y_pred_te)\n",
    "\n",
    "print(\"Linear regression (GD) - train RMSE: {:.2f}\".format(gd_rmse_tr))\n",
    "print(\"Linear regression (GD) - test RMSE: {:.2f}\".format(gd_rmse_te))"
   ]
  }
 ],
 "metadata": {
  "kernelspec": {
   "display_name": "Python 3",
   "language": "python",
   "name": "python3"
  },
  "language_info": {
   "codemirror_mode": {
    "name": "ipython",
    "version": 3
   },
   "file_extension": ".py",
   "mimetype": "text/x-python",
   "name": "python",
   "nbconvert_exporter": "python",
   "pygments_lexer": "ipython3",
   "version": "3.9.2"
  }
 },
 "nbformat": 4,
 "nbformat_minor": 2
}
