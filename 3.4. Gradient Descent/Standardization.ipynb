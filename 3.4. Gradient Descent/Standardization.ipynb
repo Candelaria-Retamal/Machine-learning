{
 "cells": [
  {
   "cell_type": "markdown",
   "id": "42480e5a-3ca3-4ba9-89c0-87c91f64250b",
   "metadata": {},
   "source": [
    "### Standardization\n",
    "In the unit about outliers, we saw that we can remove outliers by computing the standard scores or z-scores."
   ]
  },
  {
   "cell_type": "code",
   "execution_count": 2,
   "id": "3d4bec96-e563-441d-a8e7-3f5dd259d792",
   "metadata": {},
   "outputs": [
    {
     "data": {
      "image/png": "[encoded data removed]",
      "text/plain": [
       "<Figure size 432x288 with 1 Axes>"
      ]
     },
     "metadata": {
      "needs_background": "light"
     },
     "output_type": "display_data"
    },
    {
     "name": "stdout",
     "output_type": "stream",
     "text": [
      "Mean: -7.058371547285764e-17\n",
      "Standard deviation: 1.0\n"
     ]
    }
   ],
   "source": [
    "import pandas as pd\n",
    "import numpy as np\n",
    "# Load the data\n",
    "data_df = pd.read_csv(\"c3_bike-sharing.csv\")\n",
    "data_df.head()\n",
    "%matplotlib inline\n",
    "import matplotlib.pyplot as plt\n",
    "import numpy as np\n",
    "\n",
    "# Linear regression using polyfit\n",
    "x = data_df.temp.values\n",
    "y = data_df.users.values\n",
    "coefs = np.polyfit(x, y, deg=1)\n",
    "\n",
    "# Plot prediction curve\n",
    "x_values = np.linspace(x.min(), x.max(), num=100)\n",
    "y_values = np.polyval(coefs, x_values)\n",
    "plt.scatter(x, y, s=15)\n",
    "plt.plot(x_values, y_values, c=\"C3\", label=\"polyfit(deg=1)\")\n",
    "plt.xlabel(\"temperatures\")\n",
    "plt.ylabel(\"users\")\n",
    "plt.legend()\n",
    "plt.show()\n",
    "\n",
    "from sklearn.preprocessing import scale\n",
    "\n",
    "# Standardize x\n",
    "x_standardized = scale(x)\n",
    "\n",
    "print(\"Mean:\", x_standardized.mean())\n",
    "print(\"Standard deviation:\", x_standardized.std())"
   ]
  },
  {
   "cell_type": "code",
   "execution_count": 3,
   "id": "31006e7e-1351-4c29-8365-74a22c7afafe",
   "metadata": {},
   "outputs": [],
   "source": [
    "# Initialization\n",
    "lr = 0.7\n",
    "a, b = 0, 0\n",
    "n_steps = 400\n",
    "\n",
    "# Gradient descent\n",
    "log_a = [a]\n",
    "log_b = [b]\n",
    "\n",
    "for step in range(n_steps):\n",
    "    # Compute partial derivatives\n",
    "    y_pred = a * x_standardized + b\n",
    "    error = y - y_pred\n",
    "    a_grad = -2 * np.mean(x_standardized * error)\n",
    "    b_grad = -2 * np.mean(error)\n",
    "\n",
    "    # Update parameters\n",
    "    a -= lr * a_grad\n",
    "    b -= lr * b_grad\n",
    "\n",
    "    # Log a, b values\n",
    "    log_a.append(a)\n",
    "    log_b.append(b)"
   ]
  },
  {
   "cell_type": "code",
   "execution_count": 5,
   "id": "901a1c9f-bf30-49de-a8f6-1139537935b1",
   "metadata": {},
   "outputs": [
    {
     "ename": "NameError",
     "evalue": "name 'rmse' is not defined",
     "output_type": "error",
     "traceback": [
      "\u001b[1;31m---------------------------------------------------------------------------\u001b[0m",
      "\u001b[1;31mNameError\u001b[0m                                 Traceback (most recent call last)",
      "\u001b[1;32m~\\AppData\\Local\\Temp/ipykernel_125100/1938022536.py\u001b[0m in \u001b[0;36m<module>\u001b[1;34m\u001b[0m\n\u001b[0;32m     39\u001b[0m \u001b[1;31m# Plot the error surface\u001b[0m\u001b[1;33m\u001b[0m\u001b[1;33m\u001b[0m\u001b[0m\n\u001b[0;32m     40\u001b[0m \u001b[0mfig\u001b[0m \u001b[1;33m=\u001b[0m \u001b[0mplt\u001b[0m\u001b[1;33m.\u001b[0m\u001b[0mfigure\u001b[0m\u001b[1;33m(\u001b[0m\u001b[1;33m)\u001b[0m\u001b[1;33m\u001b[0m\u001b[1;33m\u001b[0m\u001b[0m\n\u001b[1;32m---> 41\u001b[1;33m \u001b[0mvisualize_steps\u001b[0m\u001b[1;33m(\u001b[0m\u001b[0mfig\u001b[0m\u001b[1;33m,\u001b[0m \u001b[0mfig\u001b[0m\u001b[1;33m.\u001b[0m\u001b[0mgca\u001b[0m\u001b[1;33m(\u001b[0m\u001b[1;33m)\u001b[0m\u001b[1;33m,\u001b[0m \u001b[0mlog_a\u001b[0m\u001b[1;33m,\u001b[0m \u001b[0mlog_b\u001b[0m\u001b[1;33m,\u001b[0m \u001b[0mx_standardized\u001b[0m\u001b[1;33m,\u001b[0m \u001b[0my\u001b[0m\u001b[1;33m)\u001b[0m\u001b[1;33m\u001b[0m\u001b[1;33m\u001b[0m\u001b[0m\n\u001b[0m",
      "\u001b[1;32m~\\AppData\\Local\\Temp/ipykernel_125100/1938022536.py\u001b[0m in \u001b[0;36mvisualize_steps\u001b[1;34m(fig, axis, log_a, log_b, x, y)\u001b[0m\n\u001b[0;32m     19\u001b[0m         \u001b[1;32mfor\u001b[0m \u001b[0mj\u001b[0m \u001b[1;32min\u001b[0m \u001b[0mrange\u001b[0m\u001b[1;33m(\u001b[0m\u001b[1;36m40\u001b[0m\u001b[1;33m)\u001b[0m\u001b[1;33m:\u001b[0m\u001b[1;33m\u001b[0m\u001b[1;33m\u001b[0m\u001b[0m\n\u001b[0;32m     20\u001b[0m             \u001b[0ma\u001b[0m\u001b[1;33m,\u001b[0m \u001b[0mb\u001b[0m \u001b[1;33m=\u001b[0m \u001b[0ma_grid\u001b[0m\u001b[1;33m[\u001b[0m\u001b[0mi\u001b[0m\u001b[1;33m,\u001b[0m \u001b[0mj\u001b[0m\u001b[1;33m]\u001b[0m\u001b[1;33m,\u001b[0m \u001b[0mb_grid\u001b[0m\u001b[1;33m[\u001b[0m\u001b[0mi\u001b[0m\u001b[1;33m,\u001b[0m \u001b[0mj\u001b[0m\u001b[1;33m]\u001b[0m\u001b[1;33m\u001b[0m\u001b[1;33m\u001b[0m\u001b[0m\n\u001b[1;32m---> 21\u001b[1;33m             \u001b[0mrmse_grid\u001b[0m\u001b[1;33m[\u001b[0m\u001b[0mi\u001b[0m\u001b[1;33m,\u001b[0m \u001b[0mj\u001b[0m\u001b[1;33m]\u001b[0m \u001b[1;33m=\u001b[0m \u001b[0mrmse\u001b[0m\u001b[1;33m(\u001b[0m\u001b[0ma\u001b[0m \u001b[1;33m*\u001b[0m \u001b[0mx\u001b[0m \u001b[1;33m+\u001b[0m \u001b[0mb\u001b[0m\u001b[1;33m,\u001b[0m \u001b[0my\u001b[0m\u001b[1;33m)\u001b[0m\u001b[1;33m\u001b[0m\u001b[1;33m\u001b[0m\u001b[0m\n\u001b[0m\u001b[0;32m     22\u001b[0m \u001b[1;33m\u001b[0m\u001b[0m\n\u001b[0;32m     23\u001b[0m     \u001b[1;31m# RMSE surface\u001b[0m\u001b[1;33m\u001b[0m\u001b[1;33m\u001b[0m\u001b[0m\n",
      "\u001b[1;31mNameError\u001b[0m: name 'rmse' is not defined"
     ]
    },
    {
     "data": {
      "image/png": "[encoded data removed]",
      "text/plain": [
       "<Figure size 432x288 with 1 Axes>"
      ]
     },
     "metadata": {
      "needs_background": "light"
     },
     "output_type": "display_data"
    }
   ],
   "source": [
    "# Plot the error surface\n",
    "def visualize_steps(fig, axis, log_a, log_b, x, y):\n",
    "    # Define a grid of a,b parameters\n",
    "    min_ab = min(min(log_a), min(log_b))\n",
    "    max_ab = max(max(log_a), max(log_b))\n",
    "\n",
    "    d = max_ab - min_ab\n",
    "    min_ab -= d * 0.1\n",
    "    max_ab += d * 0.1\n",
    "\n",
    "    a = np.linspace(min_ab, max_ab, num=40)\n",
    "    b = np.linspace(min_ab, max_ab, num=40)\n",
    "    a_grid, b_grid = np.meshgrid(a, b)\n",
    "\n",
    "    # Compute the RMSE score for each a,b pair on that grid\n",
    "    rmse_grid = np.zeros_like(a_grid)\n",
    "\n",
    "    for i in range(40):\n",
    "        for j in range(40):\n",
    "            a, b = a_grid[i, j], b_grid[i, j]\n",
    "            rmse_grid[i, j] = rmse(a * x + b, y)\n",
    "\n",
    "    # RMSE surface\n",
    "    axis.set_aspect(\"equal\", adjustable=\"box\")\n",
    "    mpl_contourset = axis.contourf(a_grid, b_grid, rmse_grid, 20, cmap=plt.cm.coolwarm)\n",
    "    fig.colorbar(mpl_contourset, ax=axis, label=\"RMSE\")\n",
    "\n",
    "    # Plot the GD steps\n",
    "    axis.plot(log_a, log_b, c=\"#00abe9\")\n",
    "    axis.scatter(log_a, log_b, c=\"#00abe9\")\n",
    "\n",
    "    # Set titles and labels\n",
    "    axis.set_xlabel(\"parameter a\")\n",
    "    axis.set_ylabel(\"parameter b\")\n",
    "\n",
    "    axis.set_xlim(min_ab, max_ab)\n",
    "    axis.set_ylim(min_ab, max_ab)\n",
    "    \n",
    "# Plot the error surface\n",
    "fig = plt.figure()\n",
    "visualize_steps(fig, fig.gca(), log_a, log_b, x_standardized, y)"
   ]
  },
  {
   "cell_type": "code",
   "execution_count": null,
   "id": "270da022-01c5-46de-aa54-734543f2252c",
   "metadata": {},
   "outputs": [],
   "source": []
  }
 ],
 "metadata": {
  "kernelspec": {
   "display_name": "Python [conda env:adsml] *",
   "language": "python",
   "name": "conda-env-adsml-py"
  },
  "language_info": {
   "codemirror_mode": {
    "name": "ipython",
    "version": 3
   },
   "file_extension": ".py",
   "mimetype": "text/x-python",
   "name": "python",
   "nbconvert_exporter": "python",
   "pygments_lexer": "ipython3",
   "version": "3.9.7"
  }
 },
 "nbformat": 4,
 "nbformat_minor": 5
}
