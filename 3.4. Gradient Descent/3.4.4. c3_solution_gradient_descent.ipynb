{
 "cells": [
  {
   "cell_type": "markdown",
   "metadata": {},
   "source": [
    "Gradient descent\n",
    "---"
   ]
  },
  {
   "cell_type": "markdown",
   "metadata": {},
   "source": [
    "Solution - Fit a linear regression with OLS\n",
    "---\n",
    "\n",
    "> **Exercise**: Load the train and test sets. Fit a linear regression using OLS with the `LinearRegression` object from Scikit-learn. Compute the train and test RMSE scores."
   ]
  },
  {
   "cell_type": "code",
   "execution_count": 1,
   "metadata": {},
   "outputs": [
    {
     "data": {
      "text/html": [
       "<div>\n",
       "<style scoped>\n",
       "    .dataframe tbody tr th:only-of-type {\n",
       "        vertical-align: middle;\n",
       "    }\n",
       "\n",
       "    .dataframe tbody tr th {\n",
       "        vertical-align: top;\n",
       "    }\n",
       "\n",
       "    .dataframe thead th {\n",
       "        text-align: right;\n",
       "    }\n",
       "</style>\n",
       "<table border=\"1\" class=\"dataframe\">\n",
       "  <thead>\n",
       "    <tr style=\"text-align: right;\">\n",
       "      <th></th>\n",
       "      <th>temp</th>\n",
       "      <th>temp_C</th>\n",
       "      <th>hum</th>\n",
       "      <th>windspeed</th>\n",
       "      <th>atemp</th>\n",
       "      <th>atemp_C</th>\n",
       "      <th>yr</th>\n",
       "      <th>workingday</th>\n",
       "      <th>holiday</th>\n",
       "      <th>casual</th>\n",
       "    </tr>\n",
       "  </thead>\n",
       "  <tbody>\n",
       "    <tr>\n",
       "      <th>0</th>\n",
       "      <td>0.368</td>\n",
       "      <td>9.296</td>\n",
       "      <td>0.569</td>\n",
       "      <td>0.148</td>\n",
       "      <td>0.379</td>\n",
       "      <td>9.014</td>\n",
       "      <td>1</td>\n",
       "      <td>1</td>\n",
       "      <td>0</td>\n",
       "      <td>1603</td>\n",
       "    </tr>\n",
       "    <tr>\n",
       "      <th>1</th>\n",
       "      <td>0.700</td>\n",
       "      <td>24.900</td>\n",
       "      <td>0.761</td>\n",
       "      <td>0.084</td>\n",
       "      <td>0.660</td>\n",
       "      <td>27.560</td>\n",
       "      <td>0</td>\n",
       "      <td>1</td>\n",
       "      <td>0</td>\n",
       "      <td>768</td>\n",
       "    </tr>\n",
       "    <tr>\n",
       "      <th>2</th>\n",
       "      <td>0.282</td>\n",
       "      <td>5.254</td>\n",
       "      <td>0.538</td>\n",
       "      <td>0.187</td>\n",
       "      <td>0.282</td>\n",
       "      <td>2.612</td>\n",
       "      <td>0</td>\n",
       "      <td>0</td>\n",
       "      <td>0</td>\n",
       "      <td>424</td>\n",
       "    </tr>\n",
       "    <tr>\n",
       "      <th>3</th>\n",
       "      <td>0.335</td>\n",
       "      <td>7.745</td>\n",
       "      <td>0.450</td>\n",
       "      <td>0.308</td>\n",
       "      <td>0.320</td>\n",
       "      <td>5.120</td>\n",
       "      <td>0</td>\n",
       "      <td>1</td>\n",
       "      <td>0</td>\n",
       "      <td>231</td>\n",
       "    </tr>\n",
       "    <tr>\n",
       "      <th>4</th>\n",
       "      <td>0.398</td>\n",
       "      <td>10.706</td>\n",
       "      <td>0.466</td>\n",
       "      <td>0.290</td>\n",
       "      <td>0.388</td>\n",
       "      <td>9.608</td>\n",
       "      <td>1</td>\n",
       "      <td>1</td>\n",
       "      <td>0</td>\n",
       "      <td>663</td>\n",
       "    </tr>\n",
       "  </tbody>\n",
       "</table>\n",
       "</div>"
      ],
      "text/plain": [
       "    temp  temp_C    hum  windspeed  atemp  atemp_C  yr  workingday  holiday  \\\n",
       "0  0.368   9.296  0.569      0.148  0.379    9.014   1           1        0   \n",
       "1  0.700  24.900  0.761      0.084  0.660   27.560   0           1        0   \n",
       "2  0.282   5.254  0.538      0.187  0.282    2.612   0           0        0   \n",
       "3  0.335   7.745  0.450      0.308  0.320    5.120   0           1        0   \n",
       "4  0.398  10.706  0.466      0.290  0.388    9.608   1           1        0   \n",
       "\n",
       "   casual  \n",
       "0    1603  \n",
       "1     768  \n",
       "2     424  \n",
       "3     231  \n",
       "4     663  "
      ]
     },
     "execution_count": 1,
     "metadata": {},
     "output_type": "execute_result"
    }
   ],
   "source": [
    "import pandas as pd\n",
    "import os\n",
    "\n",
    "# Load train/test data\n",
    "train_df = pd.read_csv(\"c3_bike-train.csv\")\n",
    "test_df = pd.read_csv(\"c3_bike-test.csv\")\n",
    "train_df.head()"
   ]
  },
  {
   "cell_type": "code",
   "execution_count": 2,
   "metadata": {},
   "outputs": [],
   "source": [
    "# Create input matrices and output vectors\n",
    "X_tr = train_df.drop(\"casual\", axis=1).values\n",
    "y_tr = train_df.casual.values\n",
    "\n",
    "X_te = test_df.drop(\"casual\", axis=1).values\n",
    "y_te = test_df.casual.values"
   ]
  },
  {
   "cell_type": "code",
   "execution_count": 3,
   "metadata": {},
   "outputs": [],
   "source": [
    "import numpy as np\n",
    "\n",
    "# Implement RMSE\n",
    "def rmse(y, y_pred):\n",
    "    return np.sqrt(np.mean(np.square(y - y_pred)))"
   ]
  },
  {
   "cell_type": "code",
   "execution_count": 4,
   "metadata": {},
   "outputs": [
    {
     "name": "stdout",
     "output_type": "stream",
     "text": [
      "Linear regression (OLS) - train RMSE: 397.42\n",
      "Linear regression (OLS) - test RMSE: 388.67\n"
     ]
    }
   ],
   "source": [
    "from sklearn.linear_model import LinearRegression\n",
    "\n",
    "# Fit a linear regression using OLS\n",
    "lr = LinearRegression()  # Create object\n",
    "lr.fit(X_tr, y_tr)  # Fit it to train data\n",
    "\n",
    "# Evaluate model\n",
    "y_pred_tr = lr.predict(X_tr)  # Train data\n",
    "lr_rmse_tr = rmse(y_tr, y_pred_tr)\n",
    "\n",
    "y_pred_te = lr.predict(X_te)  # Test data\n",
    "lr_rmse_te = rmse(y_te, y_pred_te)\n",
    "\n",
    "print(\"Linear regression (OLS) - train RMSE: {:.2f}\".format(lr_rmse_tr))\n",
    "print(\"Linear regression (OLS) - test RMSE: {:.2f}\".format(lr_rmse_te))"
   ]
  },
  {
   "cell_type": "markdown",
   "metadata": {},
   "source": [
    "Solution - Fit a linear regression with gradient descent\n",
    "---\n",
    "\n",
    "> **Exercise**: Standardize the features using the train data, i.e., train mean and standard deviation. Fit a linear regression to the train data with gradient descent and evaluate its performance on the test data.\n",
    "\n",
    "**Hint**: Test different different learning rates, e.g., 0.01, 0.1, 0.5"
   ]
  },
  {
   "cell_type": "code",
   "execution_count": 5,
   "metadata": {},
   "outputs": [],
   "source": [
    "# Standardize features using train mean and standard deviation\n",
    "X_tr_stand = (X_tr - X_tr.mean(axis=0)) / X_tr.std(axis=0)\n",
    "X_te_stand = (X_te - X_tr.mean(axis=0)) / X_tr.std(axis=0)"
   ]
  },
  {
   "cell_type": "code",
   "execution_count": 6,
   "metadata": {},
   "outputs": [],
   "source": [
    "# Add column of ones\n",
    "X_tr_stand1 = np.c_[np.ones(X_tr_stand.shape[0]), X_tr_stand]\n",
    "X_te_stand1 = np.c_[np.ones(X_te_stand.shape[0]), X_te_stand]"
   ]
  },
  {
   "cell_type": "code",
   "execution_count": 7,
   "metadata": {},
   "outputs": [
    {
     "name": "stdout",
     "output_type": "stream",
     "text": [
      "Linear regression (GD) - train RMSE: 397.42\n",
      "Linear regression (GD) - test RMSE: 388.47\n"
     ]
    }
   ],
   "source": [
    "# Implement gradient descent\n",
    "def gd(X, y, lr, n_steps):\n",
    "    # Initialize vector of parameters\n",
    "    w = np.zeros(X.shape[1])\n",
    "\n",
    "    # Log RMSE at each step\n",
    "    log_rmse = []\n",
    "\n",
    "    # Perform n_steps iterations\n",
    "    for step in range(n_steps):\n",
    "        # Compute the predictions\n",
    "        y_pred = np.matmul(X, w)\n",
    "\n",
    "        # Gradient for linear regression with MSE\n",
    "        error = y - y_pred\n",
    "        gradient = -2 * np.matmul(X.T, error) / X.shape[0]\n",
    "\n",
    "        # Update the vector of parameters\n",
    "        w -= lr * gradient\n",
    "\n",
    "        # Log RMSE value\n",
    "        log_rmse.append(rmse(y, y_pred))\n",
    "\n",
    "    # Return vector of parameters and last RMSE value\n",
    "    return w, log_rmse[-1]\n",
    "\n",
    "\n",
    "# Fit linear regression\n",
    "w, gd_rmse_tr = gd(X_tr_stand1, y_tr, lr=0.1, n_steps=500)\n",
    "\n",
    "# Evaluate model\n",
    "y_pred_te = np.matmul(X_te_stand1, w)\n",
    "gd_rmse_te = rmse(y_te, y_pred_te)\n",
    "\n",
    "print(\"Linear regression (GD) - train RMSE: {:.2f}\".format(gd_rmse_tr))\n",
    "print(\"Linear regression (GD) - test RMSE: {:.2f}\".format(gd_rmse_te))"
   ]
  }
 ],
 "metadata": {
  "kernelspec": {
   "display_name": "Python 3 (ipykernel)",
   "language": "python",
   "name": "python3"
  },
  "language_info": {
   "codemirror_mode": {
    "name": "ipython",
    "version": 3
   },
   "file_extension": ".py",
   "mimetype": "text/x-python",
   "name": "python",
   "nbconvert_exporter": "python",
   "pygments_lexer": "ipython3",
   "version": "3.9.7"
  }
 },
 "nbformat": 4,
 "nbformat_minor": 4
}
