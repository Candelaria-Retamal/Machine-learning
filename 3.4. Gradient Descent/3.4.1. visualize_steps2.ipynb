{
 "cells": [
  {
   "cell_type": "code",
   "execution_count": 1,
   "id": "50b0a9af-4ea7-4e05-acca-8d4c33cc982c",
   "metadata": {},
   "outputs": [],
   "source": [
    "# Plot the error surface\n",
    "def visualize_steps(fig, axis, log_a, log_b, x, y):\n",
    "    # Define a grid of a,b parameters\n",
    "    min_ab = min(min(log_a), min(log_b))\n",
    "    max_ab = max(max(log_a), max(log_b))\n",
    "\n",
    "    d = max_ab - min_ab\n",
    "    min_ab -= d * 0.1\n",
    "    max_ab += d * 0.1\n",
    "\n",
    "    a = np.linspace(min_ab, max_ab, num=40)\n",
    "    b = np.linspace(min_ab, max_ab, num=40)\n",
    "    a_grid, b_grid = np.meshgrid(a, b)\n",
    "\n",
    "    # Compute the RMSE score for each a,b pair on that grid\n",
    "    rmse_grid = np.zeros_like(a_grid)\n",
    "\n",
    "    for i in range(40):\n",
    "        for j in range(40):\n",
    "            a, b = a_grid[i, j], b_grid[i, j]\n",
    "            rmse_grid[i, j] = rmse(a * x + b, y)\n",
    "\n",
    "    # RMSE surface\n",
    "    axis.set_aspect(\"equal\", adjustable=\"box\")\n",
    "    mpl_contourset = axis.contourf(a_grid, b_grid, rmse_grid, 20, cmap=plt.cm.coolwarm)\n",
    "    fig.colorbar(mpl_contourset, ax=axis, label=\"RMSE\")\n",
    "\n",
    "    # Plot the GD steps\n",
    "    axis.plot(log_a, log_b, c=\"#00abe9\")\n",
    "    axis.scatter(log_a, log_b, c=\"#00abe9\")\n",
    "\n",
    "    # Set titles and labels\n",
    "    axis.set_xlabel(\"parameter a\")\n",
    "    axis.set_ylabel(\"parameter b\")\n",
    "\n",
    "    axis.set_xlim(min_ab, max_ab)\n",
    "    axis.set_ylim(min_ab, max_ab)"
   ]
  },
  {
   "cell_type": "code",
   "execution_count": null,
   "id": "bd4f0e3a-7c28-4e9e-8164-c2bddaaceb6f",
   "metadata": {},
   "outputs": [],
   "source": []
  }
 ],
 "metadata": {
  "kernelspec": {
   "display_name": "Python [conda env:adsml] *",
   "language": "python",
   "name": "conda-env-adsml-py"
  },
  "language_info": {
   "codemirror_mode": {
    "name": "ipython",
    "version": 3
   },
   "file_extension": ".py",
   "mimetype": "text/x-python",
   "name": "python",
   "nbconvert_exporter": "python",
   "pygments_lexer": "ipython3",
   "version": "3.9.7"
  }
 },
 "nbformat": 4,
 "nbformat_minor": 5
}
