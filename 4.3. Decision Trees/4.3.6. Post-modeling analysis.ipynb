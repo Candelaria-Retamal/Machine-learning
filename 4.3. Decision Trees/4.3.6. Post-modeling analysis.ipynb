{
 "cells": [
  {
   "cell_type": "markdown",
   "id": "075aeebb-a25a-4d7f-93c8-97d136a61d41",
   "metadata": {},
   "source": [
    "#### Post-modeling analysis for classifiers"
   ]
  },
  {
   "cell_type": "markdown",
   "id": "cc7d87c8-03e7-4f10-a528-f2d9d6438f09",
   "metadata": {},
   "source": [
    "As discussed in earlier units, the performance score on the test set gives you an estimate of how well a classifier model works. In previous units, we encountered some common metrics for classification models such as accuracy, precision, recall, f1-score, ROC and AUC. However, these metrics reduce the model performance to a single number, and thus do not provide much information on how we could improve the model."
   ]
  },
  {
   "cell_type": "markdown",
   "id": "3e1b9968-1d60-4ecf-ad5b-762ee5046e92",
   "metadata": {},
   "source": [
    "In post-modeling analysis we examine the performance of our models, the difference between our predictions and true values, in order to get a better understanding of the strength and weaknesses of our models. This information can then give us ideas on how to improve our model."
   ]
  },
  {
   "cell_type": "markdown",
   "id": "2d6fdb0a-dfec-469c-a0f8-aea7ec215aeb",
   "metadata": {},
   "source": [
    "### The data set\n",
    "Seaborn provides a number of smaller data sets that you can load via the command .load_dataset(). One of these is the tips one, which contains data on 244 people giving tips in a restaurant. Let’s quickly load and prepare this dataset (the details of how we do this are not relevant in this unit)."
   ]
  },
  {
   "cell_type": "code",
   "execution_count": 1,
   "id": "d6812bac-906a-4462-a53c-672fbbd35e67",
   "metadata": {},
   "outputs": [
    {
     "data": {
      "text/html": [
       "<div>\n",
       "<style scoped>\n",
       "    .dataframe tbody tr th:only-of-type {\n",
       "        vertical-align: middle;\n",
       "    }\n",
       "\n",
       "    .dataframe tbody tr th {\n",
       "        vertical-align: top;\n",
       "    }\n",
       "\n",
       "    .dataframe thead th {\n",
       "        text-align: right;\n",
       "    }\n",
       "</style>\n",
       "<table border=\"1\" class=\"dataframe\">\n",
       "  <thead>\n",
       "    <tr style=\"text-align: right;\">\n",
       "      <th></th>\n",
       "      <th>total_bill</th>\n",
       "      <th>tip</th>\n",
       "      <th>size</th>\n",
       "      <th>sex_Male</th>\n",
       "      <th>sex_Female</th>\n",
       "      <th>smoker_Yes</th>\n",
       "      <th>smoker_No</th>\n",
       "      <th>time_Lunch</th>\n",
       "      <th>time_Dinner</th>\n",
       "    </tr>\n",
       "  </thead>\n",
       "  <tbody>\n",
       "    <tr>\n",
       "      <th>0</th>\n",
       "      <td>16.99</td>\n",
       "      <td>1.01</td>\n",
       "      <td>2</td>\n",
       "      <td>0</td>\n",
       "      <td>1</td>\n",
       "      <td>0</td>\n",
       "      <td>1</td>\n",
       "      <td>0</td>\n",
       "      <td>1</td>\n",
       "    </tr>\n",
       "    <tr>\n",
       "      <th>1</th>\n",
       "      <td>10.34</td>\n",
       "      <td>1.66</td>\n",
       "      <td>3</td>\n",
       "      <td>1</td>\n",
       "      <td>0</td>\n",
       "      <td>0</td>\n",
       "      <td>1</td>\n",
       "      <td>0</td>\n",
       "      <td>1</td>\n",
       "    </tr>\n",
       "    <tr>\n",
       "      <th>2</th>\n",
       "      <td>21.01</td>\n",
       "      <td>3.50</td>\n",
       "      <td>3</td>\n",
       "      <td>1</td>\n",
       "      <td>0</td>\n",
       "      <td>0</td>\n",
       "      <td>1</td>\n",
       "      <td>0</td>\n",
       "      <td>1</td>\n",
       "    </tr>\n",
       "    <tr>\n",
       "      <th>3</th>\n",
       "      <td>23.68</td>\n",
       "      <td>3.31</td>\n",
       "      <td>2</td>\n",
       "      <td>1</td>\n",
       "      <td>0</td>\n",
       "      <td>0</td>\n",
       "      <td>1</td>\n",
       "      <td>0</td>\n",
       "      <td>1</td>\n",
       "    </tr>\n",
       "    <tr>\n",
       "      <th>4</th>\n",
       "      <td>24.59</td>\n",
       "      <td>3.61</td>\n",
       "      <td>4</td>\n",
       "      <td>0</td>\n",
       "      <td>1</td>\n",
       "      <td>0</td>\n",
       "      <td>1</td>\n",
       "      <td>0</td>\n",
       "      <td>1</td>\n",
       "    </tr>\n",
       "  </tbody>\n",
       "</table>\n",
       "</div>"
      ],
      "text/plain": [
       "   total_bill   tip  size  sex_Male  sex_Female  smoker_Yes  smoker_No  \\\n",
       "0       16.99  1.01     2         0           1           0          1   \n",
       "1       10.34  1.66     3         1           0           0          1   \n",
       "2       21.01  3.50     3         1           0           0          1   \n",
       "3       23.68  3.31     2         1           0           0          1   \n",
       "4       24.59  3.61     4         0           1           0          1   \n",
       "\n",
       "   time_Lunch  time_Dinner  \n",
       "0           0            1  \n",
       "1           0            1  \n",
       "2           0            1  \n",
       "3           0            1  \n",
       "4           0            1  "
      ]
     },
     "execution_count": 1,
     "metadata": {},
     "output_type": "execute_result"
    }
   ],
   "source": [
    "import seaborn as sns\n",
    "import pandas as pd\n",
    "\n",
    "# Load dataset\n",
    "df = sns.load_dataset(\"tips\")\n",
    "\n",
    "# Encode target label 'day'\n",
    "from sklearn.preprocessing import LabelEncoder\n",
    "encoder = LabelEncoder()\n",
    "y = encoder.fit_transform(df[\"day\"])\n",
    "labels = encoder.classes_\n",
    "\n",
    "# Establish feature matrix X\n",
    "X = df.drop(columns=[\"day\"])\n",
    "\n",
    "# One-hot encode remaining categorical features\n",
    "X = pd.get_dummies(X)\n",
    "\n",
    "# Show head of feature matrix\n",
    "X.head()"
   ]
  },
  {
   "cell_type": "markdown",
   "id": "d33fa576-a635-4ba6-b844-9ef28ecbc552",
   "metadata": {},
   "source": [
    "#### The models\n",
    "To investigate classifier models we first need to train them on this ‘tips’ dataset. Since this unit focuses on techniques to compare and analyze models in more detail and identify potential problems and weaknesses in our models, we will skip carefully fine-tuning each model to its most optimal performance with available tools, and instead just use the default parameters. After all, misclassifications and models with unique prediction patterns are actually beneficial for our purposes.\n",
    "\n",
    "To make this whole procedure fun, let’s train the 7 following classifier models, plus one baseline model:"
   ]
  },
  {
   "cell_type": "code",
   "execution_count": 2,
   "id": "14fd4b24-16eb-41a9-b6f8-d41fde2c6021",
   "metadata": {},
   "outputs": [],
   "source": [
    "from sklearn.svm import SVC\n",
    "from sklearn.tree import DecisionTreeClassifier\n",
    "from sklearn.ensemble import RandomForestClassifier\n",
    "from sklearn.neural_network import MLPClassifier\n",
    "from sklearn.linear_model import LogisticRegression\n",
    "from sklearn.neighbors import KNeighborsClassifier\n",
    "from sklearn.dummy import DummyClassifier\n",
    "\n",
    "# Specify names and object of multiple classifier models\n",
    "classifiers = {\n",
    "    \"Linear SVM\": SVC(C=0.1, kernel=\"linear\", probability=True),\n",
    "    \"RBF SVM\": SVC(C=1, probability=True),\n",
    "    \"Decision Tree\": DecisionTreeClassifier(max_depth=5),\n",
    "    \"Random Forest\": RandomForestClassifier(max_depth=6),\n",
    "    \"Neural Net\": MLPClassifier(max_iter=10000),\n",
    "    \"Logistic Regression\": LogisticRegression(C=1),\n",
    "    \"Nearest Neighbors\": KNeighborsClassifier(n_neighbors=10),\n",
    "    \"Baseline\": DummyClassifier(strategy=\"most_frequent\"),\n",
    "}\n"
   ]
  },
  {
   "cell_type": "markdown",
   "id": "ecf2aa9a-ccaf-49b3-8973-ee4f9261fb93",
   "metadata": {},
   "source": [
    "**It is not recommended to train multiple models at once like in this example, due to overall computational demand, the risk of losing the oversight on each model and the challenge it would mean for a proper hyperparameter search.**"
   ]
  },
  {
   "cell_type": "markdown",
   "id": "766c8a92-5b0d-4457-a311-6c821b33303f",
   "metadata": {},
   "source": [
    "Now that the models are ready, the only thing that is left to do is to train them on the training set and collect their predictions for the test set. Note that we don’t need a validation set as we don’t tune our models."
   ]
  },
  {
   "cell_type": "code",
   "execution_count": 3,
   "id": "0eb1f518-db81-4eeb-926f-da9d4b5a8584",
   "metadata": {},
   "outputs": [],
   "source": [
    "from sklearn.model_selection import train_test_split\n",
    "from sklearn.preprocessing import RobustScaler\n",
    "\n",
    "# Split data set into training and test set\n",
    "X_train, X_test, y_train, y_test = train_test_split(\n",
    "    X, y, test_size=0.25, random_state=24, stratify=y)\n",
    "\n",
    "# Scale data set according to training set\n",
    "scaler = RobustScaler()\n",
    "X_train = scaler.fit_transform(X_train)\n",
    "X_test = scaler.transform(X_test)\n",
    "\n",
    "# Collect multiple relevant information\n",
    "scores = []\n",
    "predicitions = []\n",
    "clfs = []\n",
    "\n",
    "# Loop through classifiers, train them and collect model information\n",
    "for name in classifiers:\n",
    "\n",
    "    # Select classifier\n",
    "    clf = classifiers[name]\n",
    "\n",
    "    # Train classifier\n",
    "    clf.fit(X_train, y_train)\n",
    "    clfs.append(clf)\n",
    "\n",
    "    # Collect multiple model outputs\n",
    "    scores.append(clf.score(X_test, y_test))\n",
    "    predicitions.append(clf.predict(X_test))"
   ]
  },
  {
   "cell_type": "code",
   "execution_count": 4,
   "id": "36bf01d0-219d-455f-ae6b-e4a6733784b2",
   "metadata": {},
   "outputs": [
    {
     "data": {
      "image/png": "[encoded data removed]",
      "text/plain": [
       "<Figure size 576x288 with 1 Axes>"
      ]
     },
     "metadata": {
      "needs_background": "light"
     },
     "output_type": "display_data"
    }
   ],
   "source": [
    "#So, how well did our models do?\n",
    "\n",
    "import numpy as np\n",
    "import matplotlib.pyplot as plt\n",
    "\n",
    "# Visualizing performance metric of each model\n",
    "plt.figure(figsize=(8, 4))\n",
    "plt.title(\"Model Performance\")\n",
    "plt.bar(classifiers.keys(), scores)\n",
    "plt.ylim(0.30, 0.75)\n",
    "plt.xticks(rotation=20)\n",
    "for i, s in enumerate(np.array(scores).round(3)):\n",
    "    plt.text(i - 0.25, s + 0.01, s)"
   ]
  },
  {
   "cell_type": "markdown",
   "id": "255a6e93-613d-41ae-a1ce-d88fc144a7fb",
   "metadata": {},
   "source": [
    "Based solely on the performance metric accuracy, the best model seems to be the Random Forest classifier. But let’s dig a bit deeper."
   ]
  },
  {
   "cell_type": "markdown",
   "id": "9ade3b17-588d-4ab6-802c-3edba2ba6880",
   "metadata": {},
   "source": [
    "### The analysis of individual models\n",
    "From the figure above we can see that the baseline model (predict the most frequent training value) is at ~36% accuracy and that the Random Forest classifier reached ~66% accuracy. This is almost twice as much! But what exactly does that mean? What about the remaining ~34% that were misclassified? What is the model struggling with?"
   ]
  },
  {
   "cell_type": "markdown",
   "id": "825d0633-e491-4245-85af-3e598410bd72",
   "metadata": {},
   "source": [
    "##### 1. Classification report\n",
    "First, let’s use the classification_report to get a better understanding of the model’s capability of detecting individual classes."
   ]
  },
  {
   "cell_type": "code",
   "execution_count": 5,
   "id": "3450987f-b0d6-412d-ba66-e3797a618137",
   "metadata": {},
   "outputs": [
    {
     "name": "stdout",
     "output_type": "stream",
     "text": [
      "              precision    recall  f1-score   support\n",
      "\n",
      "         Fri       0.00      0.00      0.00         5\n",
      "         Sat       0.53      0.86      0.66        22\n",
      "         Sun       0.60      0.32      0.41        19\n",
      "        Thur       1.00      1.00      1.00        15\n",
      "\n",
      "    accuracy                           0.66        61\n",
      "   macro avg       0.53      0.54      0.52        61\n",
      "weighted avg       0.62      0.66      0.61        61\n",
      "\n"
     ]
    }
   ],
   "source": [
    "from sklearn.metrics import classification_report\n",
    "\n",
    "# Extract index of random forest classifier\n",
    "rf_idx = list(classifiers.keys()).index(\"Random Forest\")\n",
    "\n",
    "# Plot classification report\n",
    "report = classification_report(\n",
    "    y_test, predicitions[rf_idx], zero_division=False, target_names=labels)\n",
    "print(report)"
   ]
  },
  {
   "cell_type": "markdown",
   "id": "6a9c9b95-17eb-43dd-8436-1656b6109d06",
   "metadata": {},
   "source": [
    "Interestingly, the Fri class, which only has 5 samples in the test set was never detected, while the Thur class was always correctly detected. And there seems to be some confusion between the Sat and Sun classes."
   ]
  },
  {
   "cell_type": "markdown",
   "id": "7ddb7f68-c603-46f2-bd1b-74756ea313c8",
   "metadata": {},
   "source": [
    "##### 2. Confusion matrix\n",
    "Let’s take a closer look at these misclassifications with a confusion matrix. In an earlier unit, we saw that scikit-learn has a confusion_matrix routine under metrics. For this example here, we will however us the ConfusionMatrixDisplay routine, which allows us to directly visualize the matrix in nice colors.\n",
    "\n",
    "We will once plot the confusion matrix for the random forest model in the standard (or count) version and once in the normalized version.\n",
    "\n"
   ]
  },
  {
   "cell_type": "code",
   "execution_count": 6,
   "id": "c6d06369-c6ef-4d2b-b125-1d08670560f0",
   "metadata": {},
   "outputs": [
    {
     "data": {
      "image/png": "[encoded data removed]",
      "text/plain": [
       "<Figure size 864x288 with 4 Axes>"
      ]
     },
     "metadata": {
      "needs_background": "light"
     },
     "output_type": "display_data"
    }
   ],
   "source": [
    "from sklearn.metrics import ConfusionMatrixDisplay\n",
    "\n",
    "# Create two subplots\n",
    "f, (ax1, ax2) = plt.subplots(1, 2, figsize=(12, 4))\n",
    "\n",
    "# Plots the standard confusion matrix\n",
    "ax1.set_title(\"Confusion Matrix (counts)\")\n",
    "ConfusionMatrixDisplay.from_predictions(\n",
    "    y_test, predicitions[rf_idx], display_labels=labels, ax=ax1)\n",
    "\n",
    "# Plots the normalized confusion matrix\n",
    "ax2.set_title(\"Confusion Matrix (ratios)\")\n",
    "ConfusionMatrixDisplay.from_predictions(\n",
    "    y_test, predicitions[rf_idx], normalize=\"true\", display_labels=labels, ax=ax2)\n",
    "\n",
    "plt.show()"
   ]
  },
  {
   "cell_type": "markdown",
   "id": "28b92369-6530-4bef-b75d-740db28daf60",
   "metadata": {},
   "source": [
    "On the left, you can see the confusion matrix in the standard (or count) version. This is a great way to know exactly how many samples are misclassified. Note that the color-coding is determined by the lowest and highest values (hence the bright yellow 19). As a result, the values 4 and 1 almost disappear in the first row.\n",
    "\n",
    "Since the class sizes are imbalanced the total number of samples per cell can be misleading. Using the normalize=\"true\" parameter returns the percentage of correctly and misclassified samples per true class.\n",
    "\n",
    "From these confusion matrices, we can see that the random forest model perfectly predicts Thur, is very bad in predicting Fri, and overall has a tendency to predict Sat."
   ]
  },
  {
   "cell_type": "markdown",
   "id": "b13b8c7f-03bc-4873-8309-d74001b47d2d",
   "metadata": {},
   "source": [
    "**Confusion matrices are great tools to see how well a classification model works, and more importantly to better understand how it fails. We would therefore recommend to plot them, together with the classification_report for every classification model you train.**"
   ]
  },
  {
   "cell_type": "markdown",
   "id": "8fcf7cbc-3305-4706-88e7-e6a469e276c4",
   "metadata": {},
   "source": [
    "As a small side note, you could also take a model’s predictions, together with the true values, and plot them color-coded on a horizontal image with seaborn’s heatmap() (or matplotlib’s imshow())."
   ]
  },
  {
   "cell_type": "code",
   "execution_count": 7,
   "id": "25f612fe-968e-42fd-9415-ce3d92eab7e2",
   "metadata": {},
   "outputs": [
    {
     "data": {
      "image/png": "[encoded data removed]",
      "text/plain": [
       "<Figure size 864x72 with 1 Axes>"
      ]
     },
     "metadata": {
      "needs_background": "light"
     },
     "output_type": "display_data"
    }
   ],
   "source": [
    "# Aggregate model predictions and tree values in a DataFrame\n",
    "predicition_grid = pd.DataFrame(\n",
    "    np.array(np.vstack((y_test, predicitions[rf_idx]))),\n",
    "    index=[\"true\", \"random forest\"])\n",
    "\n",
    "# Sort the predictions per model (from top to bottom)\n",
    "predicition_grid = predicition_grid.T.sort_values(\n",
    "    by=predicition_grid.index.tolist()).T\n",
    "\n",
    "# Plot predictions in a horizontal image\n",
    "plt.figure(figsize=(12, 1))\n",
    "sns.heatmap(predicition_grid, cmap=\"rainbow\", cbar=False)\n",
    "plt.show()"
   ]
  },
  {
   "cell_type": "markdown",
   "id": "584202d6-d84e-43d7-88c8-82d0dc0f66ef",
   "metadata": {},
   "source": [
    "##### 3. Model specific information\n",
    "Some models also allow the extraction of some additional useful information. For example, many models allow the extraction of the prediction probabilities, and decision trees and random forest models provide the feature_importance information. There are more, but for now, let’s take a look at these two."
   ]
  },
  {
   "cell_type": "markdown",
   "id": "79073087-3ae4-44cc-939b-4d20f11ae835",
   "metadata": {},
   "source": [
    "**Prediction probabilities**\n",
    "While predict() gives the most likely class label for a given sample, predict_proba() provides the probability for how likely a given sample belongs to every target class. So let’s go ahead and collect all of these probabilities for all models."
   ]
  },
  {
   "cell_type": "code",
   "execution_count": 8,
   "id": "1f270167-8819-422a-aa1f-a432943cdca7",
   "metadata": {},
   "outputs": [],
   "source": [
    "# Collect prediction probabilities for\n",
    "probabilities = [clf.predict_proba(X_test) for clf in clfs]"
   ]
  },
  {
   "cell_type": "markdown",
   "id": "084d0068-e2a2-4d78-a1e2-4803129cbcce",
   "metadata": {},
   "source": [
    "Now that we have these probabilities, let’s find out how certain the random forest was about its predictions. The dashed black line in the middle (at x= 0.5) indicates the middle between not certain and very certain, i.e. 50%. We can see that only 4 samples had a value below this line."
   ]
  },
  {
   "cell_type": "code",
   "execution_count": 9,
   "id": "b83d1a58-7d92-4fe1-b0ec-33d440ad572b",
   "metadata": {},
   "outputs": [
    {
     "data": {
      "image/png": "[encoded data removed]",
      "text/plain": [
       "<Figure size 432x288 with 1 Axes>"
      ]
     },
     "metadata": {
      "needs_background": "light"
     },
     "output_type": "display_data"
    }
   ],
   "source": [
    "plt.hist(probabilities[rf_idx].max(axis=1), bins=np.arange(0, 1.01, 0.1))\n",
    "plt.vlines(0.5, 0, 32, colors=\"k\", linestyles=\"dashed\")\n",
    "plt.show()"
   ]
  },
  {
   "cell_type": "markdown",
   "id": "9f4f894f-d11f-4ecb-b7e7-375c82254e2f",
   "metadata": {},
   "source": [
    "Next let’s get more details by plotting the class probabilities for each class as assigned by the random forest model to the 61 test samples."
   ]
  },
  {
   "cell_type": "code",
   "execution_count": 10,
   "id": "2e0ef199-8d9b-4e0e-a406-8cf8653f208d",
   "metadata": {},
   "outputs": [
    {
     "data": {
      "image/png": "[encoded data removed]",
      "text/plain": [
       "<Figure size 720x216 with 1 Axes>"
      ]
     },
     "metadata": {
      "needs_background": "light"
     },
     "output_type": "display_data"
    }
   ],
   "source": [
    "# Plot probabilities for a model\n",
    "plt.figure(figsize=(10, 3))\n",
    "plt.hist(probabilities[rf_idx], log=True)\n",
    "plt.legend(labels)\n",
    "plt.vlines(0.5, 0, 100, colors=\"k\", linestyles=\"dashed\")\n",
    "plt.show()"
   ]
  },
  {
   "cell_type": "markdown",
   "id": "f09dd8a6-5209-4535-bff1-454652d4edc0",
   "metadata": {},
   "source": [
    "As you can see, Thur (in red) are the only values that are exclusively below 0.1 or above this 0.5 value, while for Fri all values are below 0.5. As such, that doesn’t need to mean anything (remember that we have 4 target classes, i.e. complete uncertainty would be at 25%), but it is a good indication of how sure a model is with regards to its predictions.\n",
    "\n",
    "To contrast this, let’s take a look at another model where these probabilities are a bit more separated."
   ]
  },
  {
   "cell_type": "code",
   "execution_count": 11,
   "id": "a804b8ea-d725-4f4d-8de0-8458391d48e1",
   "metadata": {},
   "outputs": [
    {
     "data": {
      "image/png": "[encoded data removed]",
      "text/plain": [
       "<Figure size 720x216 with 1 Axes>"
      ]
     },
     "metadata": {
      "needs_background": "light"
     },
     "output_type": "display_data"
    }
   ],
   "source": [
    "# Plot probabilities for a model\n",
    "plt.figure(figsize=(10, 3))\n",
    "plt.hist(probabilities[2], log=True)\n",
    "plt.legend(labels)\n",
    "plt.vlines(0.5, 0, 100, colors=\"k\", linestyles=\"dashed\")\n",
    "plt.show()"
   ]
  },
  {
   "cell_type": "markdown",
   "id": "e3142578-fade-4e90-b315-ba9273c750a2",
   "metadata": {},
   "source": [
    "We can see that this model (in this case the decision tree) is much more certain about its prediction. However, this doesn’t imply that it’s also more accurate.\n",
    "\n",
    "An ideal situation would be a model that has high accuracy where almost all classes are predicted with either a probability around 100% or 0%. Samples that then fall in-between could be further investigated. However, such an ‘ideal’ model could potentially also be prone to overfitting."
   ]
  },
  {
   "cell_type": "markdown",
   "id": "5e3e2cc9-8923-48a2-9087-ca5503aea457",
   "metadata": {},
   "source": [
    "**Feature importance**\n",
    "Decision tree and random forest models (as well as some other linear models using L1 norms) allow the investigation for feature importance. In other words, by looking at the feature importance or coefficients of such models, we can get some insights about which features help with the model predictions.\n",
    "\n",
    "So let’s do this for the decision tree and random forest model:"
   ]
  },
  {
   "cell_type": "code",
   "execution_count": 12,
   "id": "12e72974-bf5b-4908-8b5e-e84f454f4d61",
   "metadata": {},
   "outputs": [
    {
     "data": {
      "image/png": "[encoded data removed]",
      "text/plain": [
       "<Figure size 720x216 with 1 Axes>"
      ]
     },
     "metadata": {
      "needs_background": "light"
     },
     "output_type": "display_data"
    }
   ],
   "source": [
    "# Loop through the two models and plot their feature importance information\n",
    "plt.figure(figsize=(10, 3))\n",
    "for model in [\"Decision Tree\", \"Random Forest\"]:\n",
    "    importances = clfs[list(classifiers.keys()).index(model)].feature_importances_\n",
    "    plt.bar(X.columns, importances, alpha=0.5, label=model, width=0.5)\n",
    "plt.xticks(rotation=20)\n",
    "plt.legend()\n",
    "plt.show()"
   ]
  },
  {
   "cell_type": "markdown",
   "id": "0b0c84fb-b686-4faf-96e0-ae5670efbd53",
   "metadata": {},
   "source": [
    "**Comparing the individual models**\n",
    "There are many more ways for how you could analyze an individual model, but for now, this information should be enough. Let’s now take a closer look at how we could compare the performance between models.\n",
    "\n",
    "While there are multiple ways to compare individual models, probably the easiest one is plotting again the model individual predictions in an image (as we did before)."
   ]
  },
  {
   "cell_type": "code",
   "execution_count": 13,
   "id": "ed46dea7-7f59-406e-bfac-9a97b8e2bf62",
   "metadata": {},
   "outputs": [
    {
     "data": {
      "image/png": "[encoded data removed]",
      "text/plain": [
       "<Figure size 864x216 with 1 Axes>"
      ]
     },
     "metadata": {
      "needs_background": "light"
     },
     "output_type": "display_data"
    }
   ],
   "source": [
    "# Aggregate model predictions and tree values in a DataFrame\n",
    "predicition_grid = pd.DataFrame(\n",
    "    np.array(np.vstack((y_test, predicitions))),\n",
    "    index=[\"true\"] + list(classifiers.keys()))\n",
    "\n",
    "# Sort the predictions per model (from top to bottom)\n",
    "predicition_grid = predicition_grid.T.sort_values(by=predicition_grid.index.tolist()).T\n",
    "\n",
    "# Plot predictions in a horizontal image\n",
    "plt.figure(figsize=(12, 3))\n",
    "sns.heatmap(predicition_grid, cmap=\"rainbow\", cbar=False)\n",
    "plt.show()"
   ]
  },
  {
   "cell_type": "markdown",
   "id": "1b83b6eb-bdc3-4567-8c41-a3e5b3915dfd",
   "metadata": {},
   "source": [
    "As you can see from this plot, none of the models is able to predict Fri (in violet), but the neural net and the nearest neighbors model misclassify other samples as Fri. Almost all models seem capable of correctly identifying Thur (in red). Furthermore, there are samples where all 7 models agreed in predicting Sat(in cyan) - in some cases correctly, in others incorrectly for Friand Sun.\n",
    "\n",
    "Based on this figure you could now undertake additional investigations. What do the samples have in common where all 7 models agreed in predicting Sat (in)correctly? Why are the Linear SVM and Nearest Neighbors models almost identical in misclassifying Sat as Sun? And so forth.\n",
    "\n"
   ]
  },
  {
   "cell_type": "markdown",
   "id": "69ff4b91-f4cd-4203-816e-a20680e78c8b",
   "metadata": {},
   "source": [
    "While this topic is outside of the scope of our program, it would now also be possible to use all of these predictions and train a new “meta” classifier model on them. Scikit-learn provides multiple such ensemble approaches, most notably the VotingClassifier or the StackingClassifier."
   ]
  },
  {
   "cell_type": "code",
   "execution_count": null,
   "id": "7b447e30-c35d-4a54-bc2a-5b76b21458ca",
   "metadata": {},
   "outputs": [],
   "source": []
  }
 ],
 "metadata": {
  "kernelspec": {
   "display_name": "Python [conda env:adsml] *",
   "language": "python",
   "name": "conda-env-adsml-py"
  },
  "language_info": {
   "codemirror_mode": {
    "name": "ipython",
    "version": 3
   },
   "file_extension": ".py",
   "mimetype": "text/x-python",
   "name": "python",
   "nbconvert_exporter": "python",
   "pygments_lexer": "ipython3",
   "version": "3.9.7"
  }
 },
 "nbformat": 4,
 "nbformat_minor": 5
}
