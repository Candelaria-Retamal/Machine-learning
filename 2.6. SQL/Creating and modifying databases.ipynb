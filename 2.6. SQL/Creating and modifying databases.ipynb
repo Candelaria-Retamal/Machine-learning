{
 "cells": [
  {
   "cell_type": "markdown",
   "id": "6b6a3739-9d56-4222-a375-86bed7cd7559",
   "metadata": {},
   "source": [
    "### Creating and modifying databases\n",
    "#### Creating a table\n",
    "To just create an empty database we can write"
   ]
  },
  {
   "cell_type": "code",
   "execution_count": 3,
   "id": "1870b8ca-2a6a-4c80-a6e0-9613f3099a43",
   "metadata": {},
   "outputs": [],
   "source": [
    "import pandas as pd\n",
    "import sqlite3\n",
    "\n",
    "db = sqlite3.connect(\"my_database.db\")"
   ]
  },
  {
   "cell_type": "markdown",
   "id": "afccec64-0e09-4e07-b4a6-dad22da5b85c",
   "metadata": {},
   "source": [
    "Recall that this was the same command we used to open up a database or SQLite file. The command opens up the file if such a file exists and creates the file otherwise. So, in this case, it will create the file 'my_database.db' in your working directory.\n",
    "\n",
    "To actually create the tables we will have to write a query. We must mention the name of the table, and the names of each column followed by their data type. Here is an example"
   ]
  },
  {
   "cell_type": "code",
   "execution_count": 4,
   "id": "1548233f-6a09-4373-aab2-0ba7e7ed584f",
   "metadata": {},
   "outputs": [],
   "source": [
    "query = \"CREATE TABLE customer (id INTEGER PRIMARY KEY, first_name TEXT, last_name TEXT, age INTEGER)\""
   ]
  },
  {
   "cell_type": "markdown",
   "id": "f7d07bfc-467d-4445-82c6-5dddc567c1ec",
   "metadata": {},
   "source": [
    "By including the keyword PRIMARY KEY after the column id we are specifying that this column is the basis of the index for looking things up in this table. This means that selecting rows by id will be very fast.\n",
    "\n",
    "Now to run this query we will show you a different way that does not rely on pandas read_sql_query function. Instead, it works by creating a Cursor object from the Connect object db as follows:"
   ]
  },
  {
   "cell_type": "code",
   "execution_count": 5,
   "id": "4eda1f10-5883-4030-8ddb-7db2a37b4521",
   "metadata": {},
   "outputs": [],
   "source": [
    "cursor = db.cursor()"
   ]
  },
  {
   "cell_type": "markdown",
   "id": "5d75016a-6c45-4502-a40b-1ac429617554",
   "metadata": {},
   "source": [
    "And now this cursor object has a method called execute through which we can run our query."
   ]
  },
  {
   "cell_type": "code",
   "execution_count": 6,
   "id": "56dbd4f7-64f3-472e-afe2-6c17e143879f",
   "metadata": {},
   "outputs": [
    {
     "data": {
      "text/plain": [
       "<sqlite3.Cursor at 0x263795bb650>"
      ]
     },
     "execution_count": 6,
     "metadata": {},
     "output_type": "execute_result"
    }
   ],
   "source": [
    "cursor.execute(query)\n"
   ]
  },
  {
   "cell_type": "markdown",
   "id": "60bc5700-224e-463a-ba26-58fc02c154a5",
   "metadata": {},
   "source": [
    "Now we can check that the table was created correctly by using a query we have already seen before"
   ]
  },
  {
   "cell_type": "code",
   "execution_count": 7,
   "id": "da05a909-534b-4ee9-badc-51a252943d1e",
   "metadata": {},
   "outputs": [
    {
     "data": {
      "text/plain": [
       "<sqlite3.Cursor at 0x263795bb650>"
      ]
     },
     "execution_count": 7,
     "metadata": {},
     "output_type": "execute_result"
    }
   ],
   "source": [
    "cursor.execute(\"SELECT name FROM sqlite_master WHERE type='table';\")"
   ]
  },
  {
   "cell_type": "markdown",
   "id": "a3869cd0-cbce-4626-9bf9-b8df10c4bf0b",
   "metadata": {},
   "source": [
    "This should return the names of all the tables in our database. Except that now the results of the query are not automatically returned to us as when we used pandas. We must run an additional command to get them. We can use the fetchall() method to get all the results of a query."
   ]
  },
  {
   "cell_type": "code",
   "execution_count": 8,
   "id": "3d42ecd6-1c9d-4b9d-9714-ed8dbafe31b7",
   "metadata": {},
   "outputs": [
    {
     "name": "stdout",
     "output_type": "stream",
     "text": [
      "[('customer',)]\n"
     ]
    }
   ],
   "source": [
    "results = cursor.fetchall()\n",
    "print(results)"
   ]
  },
  {
   "cell_type": "markdown",
   "id": "365ed5a4-5586-459c-bf28-146b8b21f578",
   "metadata": {},
   "source": [
    "#### Adding rows\n",
    "Let’s now try to enter some data into our newly created database. We can insert rows into our database using the INSERT query. We must specify one value for each column in the correct order. Here is an example"
   ]
  },
  {
   "cell_type": "code",
   "execution_count": 9,
   "id": "f294106a-79bf-4048-a068-88f03a68136d",
   "metadata": {},
   "outputs": [
    {
     "data": {
      "text/plain": [
       "<sqlite3.Cursor at 0x263795bb650>"
      ]
     },
     "execution_count": 9,
     "metadata": {},
     "output_type": "execute_result"
    }
   ],
   "source": [
    "query = \"INSERT INTO customer VALUES  (701, 'Mackenzie', 'Fox', 35)\"\n",
    "cursor.execute(query)"
   ]
  },
  {
   "cell_type": "markdown",
   "id": "66deb4ad-01c9-4c23-b77f-11d20799a582",
   "metadata": {},
   "source": [
    "Querying the table now will not actually return this new row. The reason is that SQLite does not actually modify a database until we commit our transaction. "
   ]
  },
  {
   "cell_type": "code",
   "execution_count": 10,
   "id": "db772f34-2ccb-4f0a-bf5a-98a032c63b58",
   "metadata": {},
   "outputs": [],
   "source": [
    "db.commit()"
   ]
  },
  {
   "cell_type": "markdown",
   "id": "1ecb0b2e-c4fd-4683-a060-b9db4b985dc2",
   "metadata": {},
   "source": [
    "Let’s now check that the changes were made correctly. We have already seen how to select all the rows from a given table"
   ]
  },
  {
   "cell_type": "code",
   "execution_count": 12,
   "id": "92f008ba-5b26-41af-8d0c-085df81b393e",
   "metadata": {},
   "outputs": [
    {
     "name": "stdout",
     "output_type": "stream",
     "text": [
      "[(701, 'Mackenzie', 'Fox', 35)]\n"
     ]
    }
   ],
   "source": [
    "cursor.execute(\"SELECT * FROM customer;\")\n",
    "results = cursor.fetchall()\n",
    "print(results)"
   ]
  },
  {
   "cell_type": "markdown",
   "id": "bc28e863-c17e-4432-9fd0-b03e6908d1a8",
   "metadata": {},
   "source": [
    "#### Adding columns\n",
    "In addition to rows, we can also add columns to our database at any point in time. Let’s suppose we want to add a column giving the location of each customer. We can do this as follows"
   ]
  },
  {
   "cell_type": "code",
   "execution_count": 13,
   "id": "c191e2a2-1a06-4652-97ab-8ce232b02257",
   "metadata": {},
   "outputs": [],
   "source": [
    "cursor.execute(\"ALTER TABLE customer ADD COLUMN city TEXT DEFAULT 'Geneva';\")\n",
    "db.commit()"
   ]
  },
  {
   "cell_type": "markdown",
   "id": "d0768781-2b34-4f71-97d4-954b09fe18b9",
   "metadata": {},
   "source": [
    "The last keyword DEFAULT allows us to mention a default value that will be applied to all of the existing rows. If we now rerun our \"SELECT * FROM customer;\" query and fetch the results we will see that the new column was added correctly"
   ]
  },
  {
   "cell_type": "code",
   "execution_count": 14,
   "id": "17462f38-220e-4858-bb07-b3f7ae7c2e7b",
   "metadata": {},
   "outputs": [
    {
     "name": "stdout",
     "output_type": "stream",
     "text": [
      "[(701, 'Mackenzie', 'Fox', 35, 'Geneva')]\n"
     ]
    }
   ],
   "source": [
    "cursor.execute(\"SELECT * FROM customer;\")\n",
    "results = cursor.fetchall()\n",
    "print(results)"
   ]
  },
  {
   "cell_type": "markdown",
   "id": "57846026-083d-474c-b8dd-2c60b4a87529",
   "metadata": {},
   "source": [
    "#### Adding data from a pandas DataFrame\n",
    "\n",
    "Now, most of the time we will not be creating a database directly but taking the data from an existing format and moving into a database. Below we take a look at creating a database from an existing pandas DataFrame.\n",
    "\n",
    "Let’s start by defining a DataFrame"
   ]
  },
  {
   "cell_type": "code",
   "execution_count": 15,
   "id": "9c79c5ca-e701-42fd-a411-219bcb2c6464",
   "metadata": {},
   "outputs": [],
   "source": [
    "import pandas as pd\n",
    "\n",
    "df2 = pd.DataFrame(\n",
    "    [[702, \"Emily\", \"Joy\", 49, \"Geneva\"]],\n",
    "    columns=[\"id\", \"first_name\", \"last_name\", \"age\", \"city\"],\n",
    ")"
   ]
  },
  {
   "cell_type": "markdown",
   "id": "14daf1f4-658a-40d9-acf6-1d2c087d6a1b",
   "metadata": {},
   "source": [
    "Aside: We take this opportunity to point out a little trick when defining a DataFrame: we have usually defined DataFrames so far from Python dictionaries, but we can also do it by just passing a list of lists as seen above. This method has the advantage that we can be sure that the order of the columns will be the one we specified, whereas from a dictionary we have no control over the final order.\n",
    "\n",
    "Now to transfer this data into a Database we can use the pandas function to_sql(). We must mention the name of the table that we want the data to be stored in, and the name of the database. We can add the argument if_exists to tell pandas what to do if the table already exists. In this case, let’s try adding the data from this DataFrame to the already existing table customer in the database db."
   ]
  },
  {
   "cell_type": "code",
   "execution_count": 16,
   "id": "0af03d9f-41a4-413e-84cc-d749274fcb45",
   "metadata": {},
   "outputs": [],
   "source": [
    "df2.to_sql(name=\"customer\", con=db, if_exists=\"append\", index=False)"
   ]
  },
  {
   "cell_type": "markdown",
   "id": "94d8e0c2-9fde-468e-9f14-2c7668a87fde",
   "metadata": {},
   "source": [
    "The table customer already exists in this case and we have asked pandas to just append the data to this table. The argument index=False specifies to not include the index of the DataFrame as an actual column in the database, which would be the default setting.\n",
    "\n",
    "Let’s check our results by querying our database one more time\n",
    "\n"
   ]
  },
  {
   "cell_type": "code",
   "execution_count": 17,
   "id": "6d144cc3-f257-41df-bb28-50afb5d99d34",
   "metadata": {},
   "outputs": [
    {
     "name": "stdout",
     "output_type": "stream",
     "text": [
      "[(701, 'Mackenzie', 'Fox', 35, 'Geneva'), (702, 'Emily', 'Joy', 49, 'Geneva')]\n"
     ]
    }
   ],
   "source": [
    "cursor.execute(\"SELECT * FROM customer;\")\n",
    "results = cursor.fetchall()\n",
    "print(results)"
   ]
  },
  {
   "cell_type": "markdown",
   "id": "42afde4d-6a73-4e21-9626-3df0b469ae99",
   "metadata": {},
   "source": [
    "### Updating rows\n",
    "We can update any row in our database with a special SQL query that uses the UPDATE keyword. We must specify the name of the table we want to update to update and then pass the new values for each column that we want updated. We can specify which row we want the updates to apply to by using the WHERE statement that you have seen before.\n",
    "\n",
    "Let’s look at an example. Let’s say we want to change the city of the customer Emily Joy in our table from Geneva to Zurich. We can identify this row using the id column. Our query then looks like this"
   ]
  },
  {
   "cell_type": "code",
   "execution_count": 18,
   "id": "b9d896fc-e710-4861-b93e-06b863935f39",
   "metadata": {},
   "outputs": [],
   "source": [
    "update = \"\"\"\n",
    "UPDATE customer\n",
    "SET city='Zurich'\n",
    "WHERE id=702;\n",
    "\"\"\""
   ]
  },
  {
   "cell_type": "code",
   "execution_count": 19,
   "id": "4a35b2de-0bd3-41ea-8bcf-124e65a6a794",
   "metadata": {},
   "outputs": [],
   "source": [
    "cursor.execute(update)\n",
    "db.commit()"
   ]
  },
  {
   "cell_type": "code",
   "execution_count": 20,
   "id": "db43c8a9-7703-4a43-a9ff-3ffe2664f41d",
   "metadata": {},
   "outputs": [
    {
     "name": "stdout",
     "output_type": "stream",
     "text": [
      "[(701, 'Mackenzie', 'Fox', 35, 'Geneva'), (702, 'Emily', 'Joy', 49, 'Zurich')]\n"
     ]
    }
   ],
   "source": [
    "# Check results\n",
    "cursor.execute(\"SELECT * FROM customer;\")\n",
    "results = cursor.fetchall()\n",
    "print(results)"
   ]
  },
  {
   "cell_type": "markdown",
   "id": "b6b7729f-b94a-4c54-83a8-d061c15ff768",
   "metadata": {},
   "source": [
    "#### Deleting rows\n",
    "Rows can be deleted using a query with the keyword DELETE. For example we can delete the second row of our database by executing the following query"
   ]
  },
  {
   "cell_type": "code",
   "execution_count": 21,
   "id": "8a92a39a-1c02-4dbc-8bea-93aaf9c3ca48",
   "metadata": {},
   "outputs": [],
   "source": [
    "delete = \"\"\"\n",
    "DELETE FROM customer\n",
    "WHERE id=702;\n",
    "\"\"\"\n",
    "cursor.execute(delete)\n",
    "db.commit()"
   ]
  },
  {
   "cell_type": "markdown",
   "id": "86de3b6f-84eb-4128-a0ff-bb405bc1476b",
   "metadata": {},
   "source": [
    "checking the database again now shows that there is only the first row remaining"
   ]
  },
  {
   "cell_type": "code",
   "execution_count": 22,
   "id": "8733fc3f-1944-46e3-84d0-6dd3cd6bbb13",
   "metadata": {},
   "outputs": [
    {
     "name": "stdout",
     "output_type": "stream",
     "text": [
      "[(701, 'Mackenzie', 'Fox', 35, 'Geneva')]\n"
     ]
    }
   ],
   "source": [
    "cursor.execute(\"SELECT * FROM customer;\")\n",
    "results = cursor.fetchall()\n",
    "print(results)"
   ]
  },
  {
   "cell_type": "markdown",
   "id": "f64adfca-0f77-4659-aea3-77e65d4827f9",
   "metadata": {},
   "source": [
    "#### Creating a database from a CSV file\n",
    "Now, this csv file is very small just for the purposes of this demonstration. However, when working with large csv files where we want to extract specific rows that satisfy some condition we must usually load the entire csv file as a DataFrame and then go through it line by line and check our condition. All of this is happening in the working memory (RAM). And if the file is large then this can cause serious problems. In such instances, it is better to load the file as a database which is stored on the disk but is still easy and fast to interact with.\n",
    "\n",
    "We can load csv files to a database using the to_sql() function from pandas once again. We must specify a connection object giving the database that we are connected to, so let’s start by setting this up"
   ]
  },
  {
   "cell_type": "code",
   "execution_count": 23,
   "id": "6c800a32-3b9c-4aad-87f8-d4f4e9bea423",
   "metadata": {},
   "outputs": [],
   "source": [
    "db = sqlite3.connect(\"songs.db\")\n",
    "cursor = db.cursor()"
   ]
  },
  {
   "cell_type": "markdown",
   "id": "70620cd9-fab1-49a1-b8c1-3a9ab1ca768c",
   "metadata": {},
   "source": [
    "A common practice is to load the csv file in chunks which can be more efficient then trying to import the whole thing at once. The read_csv() function from pandas has a parameter called chunksize that allows us to do this. If we set chunksize=k then the csv file will be broken into chunks of k rows which we can then load one at a time.\n",
    "\n",
    "Let’s give the following a try"
   ]
  },
  {
   "cell_type": "code",
   "execution_count": 24,
   "id": "e32df38c-11ed-4302-a3ca-1523f2b30187",
   "metadata": {},
   "outputs": [
    {
     "name": "stdout",
     "output_type": "stream",
     "text": [
      "Stairway to Heaven\n",
      "Black Dog\n",
      "All My Love\n",
      "Rebel Rebel\n",
      "Golden Years\n"
     ]
    }
   ],
   "source": [
    "for chunk in pd.read_csv(\"c2_songs.csv\", chunksize=4):\n",
    "    chunk.to_sql(name=\"data\", con=db, if_exists=\"append\", index=False)\n",
    "    print(chunk.iloc[0, 2])"
   ]
  },
  {
   "cell_type": "markdown",
   "id": "3f47c096-ec40-40c5-9144-91a5baec4062",
   "metadata": {},
   "source": [
    "We have set up a for loop that reads 4 rows of the csv file at a time and loads them into a table called data of the database db. We have asked to print out the entry in the first row and third column of each chunk so you can see how the chunks were divided."
   ]
  },
  {
   "cell_type": "markdown",
   "id": "c4804831-7aec-4f66-bbad-8447e1e60cc7",
   "metadata": {},
   "source": [
    "These are the songs in the first row of each chunk. Now we can quickly check that this worked correctly by importing the data back as a DataFrame"
   ]
  },
  {
   "cell_type": "code",
   "execution_count": 25,
   "id": "d183423d-5f76-4c09-ab2a-e7714111ee13",
   "metadata": {},
   "outputs": [
    {
     "data": {
      "text/html": [
       "<div>\n",
       "<style scoped>\n",
       "    .dataframe tbody tr th:only-of-type {\n",
       "        vertical-align: middle;\n",
       "    }\n",
       "\n",
       "    .dataframe tbody tr th {\n",
       "        vertical-align: top;\n",
       "    }\n",
       "\n",
       "    .dataframe thead th {\n",
       "        text-align: right;\n",
       "    }\n",
       "</style>\n",
       "<table border=\"1\" class=\"dataframe\">\n",
       "  <thead>\n",
       "    <tr style=\"text-align: right;\">\n",
       "      <th></th>\n",
       "      <th>Musician</th>\n",
       "      <th>Genre</th>\n",
       "      <th>Name</th>\n",
       "      <th>Decade</th>\n",
       "      <th>Minutes</th>\n",
       "    </tr>\n",
       "  </thead>\n",
       "  <tbody>\n",
       "    <tr>\n",
       "      <th>0</th>\n",
       "      <td>Led Zeppelin</td>\n",
       "      <td>hard rock</td>\n",
       "      <td>Stairway to Heaven</td>\n",
       "      <td>70</td>\n",
       "      <td>08:02</td>\n",
       "    </tr>\n",
       "    <tr>\n",
       "      <th>1</th>\n",
       "      <td>Led Zeppelin</td>\n",
       "      <td>hard rock</td>\n",
       "      <td>Kashmir</td>\n",
       "      <td>70</td>\n",
       "      <td>08:37</td>\n",
       "    </tr>\n",
       "    <tr>\n",
       "      <th>2</th>\n",
       "      <td>Led Zeppelin</td>\n",
       "      <td>hard rock</td>\n",
       "      <td>Immigrant Song</td>\n",
       "      <td>70</td>\n",
       "      <td>02:26</td>\n",
       "    </tr>\n",
       "    <tr>\n",
       "      <th>3</th>\n",
       "      <td>Led Zeppelin</td>\n",
       "      <td>hard rock</td>\n",
       "      <td>Whole Lotta Love</td>\n",
       "      <td>60</td>\n",
       "      <td>05:33</td>\n",
       "    </tr>\n",
       "    <tr>\n",
       "      <th>4</th>\n",
       "      <td>Led Zeppelin</td>\n",
       "      <td>hard rock</td>\n",
       "      <td>Black Dog</td>\n",
       "      <td>70</td>\n",
       "      <td>04:55</td>\n",
       "    </tr>\n",
       "    <tr>\n",
       "      <th>5</th>\n",
       "      <td>Led Zeppelin</td>\n",
       "      <td>hard rock</td>\n",
       "      <td>Good Times Bad Times</td>\n",
       "      <td>60</td>\n",
       "      <td>02:43</td>\n",
       "    </tr>\n",
       "    <tr>\n",
       "      <th>6</th>\n",
       "      <td>Led Zeppelin</td>\n",
       "      <td>hard rock</td>\n",
       "      <td>Moby Dick</td>\n",
       "      <td>60</td>\n",
       "      <td>04:25</td>\n",
       "    </tr>\n",
       "    <tr>\n",
       "      <th>7</th>\n",
       "      <td>Led Zeppelin</td>\n",
       "      <td>hard rock</td>\n",
       "      <td>Ramble On</td>\n",
       "      <td>60</td>\n",
       "      <td>04:35</td>\n",
       "    </tr>\n",
       "    <tr>\n",
       "      <th>8</th>\n",
       "      <td>Led Zeppelin</td>\n",
       "      <td>hard rock</td>\n",
       "      <td>All My Love</td>\n",
       "      <td>70</td>\n",
       "      <td>05:53</td>\n",
       "    </tr>\n",
       "    <tr>\n",
       "      <th>9</th>\n",
       "      <td>Led Zeppelin</td>\n",
       "      <td>hard rock</td>\n",
       "      <td>The Song Remains the Same</td>\n",
       "      <td>70</td>\n",
       "      <td>05:24</td>\n",
       "    </tr>\n",
       "    <tr>\n",
       "      <th>10</th>\n",
       "      <td>Led Zeppelin</td>\n",
       "      <td>hard rock</td>\n",
       "      <td>I Can't Quit You Baby</td>\n",
       "      <td>60</td>\n",
       "      <td>04:42</td>\n",
       "    </tr>\n",
       "    <tr>\n",
       "      <th>11</th>\n",
       "      <td>David Bowie</td>\n",
       "      <td>pop rock</td>\n",
       "      <td>Space Oddity</td>\n",
       "      <td>60</td>\n",
       "      <td>05:15</td>\n",
       "    </tr>\n",
       "    <tr>\n",
       "      <th>12</th>\n",
       "      <td>David Bowie</td>\n",
       "      <td>pop rock</td>\n",
       "      <td>Rebel Rebel</td>\n",
       "      <td>70</td>\n",
       "      <td>04:22</td>\n",
       "    </tr>\n",
       "    <tr>\n",
       "      <th>13</th>\n",
       "      <td>David Bowie</td>\n",
       "      <td>pop rock</td>\n",
       "      <td>Under Pressure</td>\n",
       "      <td>80</td>\n",
       "      <td>04:08</td>\n",
       "    </tr>\n",
       "    <tr>\n",
       "      <th>14</th>\n",
       "      <td>David Bowie</td>\n",
       "      <td>pop rock</td>\n",
       "      <td>China Girl</td>\n",
       "      <td>70</td>\n",
       "      <td>05:08</td>\n",
       "    </tr>\n",
       "    <tr>\n",
       "      <th>15</th>\n",
       "      <td>David Bowie</td>\n",
       "      <td>pop rock</td>\n",
       "      <td>I'm Afraid of Americans</td>\n",
       "      <td>90</td>\n",
       "      <td>05:00</td>\n",
       "    </tr>\n",
       "    <tr>\n",
       "      <th>16</th>\n",
       "      <td>David Bowie</td>\n",
       "      <td>pop rock</td>\n",
       "      <td>Golden Years</td>\n",
       "      <td>70</td>\n",
       "      <td>04:00</td>\n",
       "    </tr>\n",
       "    <tr>\n",
       "      <th>17</th>\n",
       "      <td>Bob Dylan</td>\n",
       "      <td>folk rock</td>\n",
       "      <td>Like a Rolling Stone</td>\n",
       "      <td>60</td>\n",
       "      <td>06:13</td>\n",
       "    </tr>\n",
       "    <tr>\n",
       "      <th>18</th>\n",
       "      <td>Bob Dylan</td>\n",
       "      <td>folk rock</td>\n",
       "      <td>Blowin' in the Wind</td>\n",
       "      <td>60</td>\n",
       "      <td>02:48</td>\n",
       "    </tr>\n",
       "    <tr>\n",
       "      <th>19</th>\n",
       "      <td>Bob Dylan</td>\n",
       "      <td>folk rock</td>\n",
       "      <td>Tangled Up in Blue</td>\n",
       "      <td>70</td>\n",
       "      <td>05:42</td>\n",
       "    </tr>\n",
       "  </tbody>\n",
       "</table>\n",
       "</div>"
      ],
      "text/plain": [
       "        Musician       Genre                        Name  Decade Minutes\n",
       "0   Led Zeppelin   hard rock          Stairway to Heaven      70   08:02\n",
       "1   Led Zeppelin   hard rock                     Kashmir      70   08:37\n",
       "2   Led Zeppelin   hard rock              Immigrant Song      70   02:26\n",
       "3   Led Zeppelin   hard rock            Whole Lotta Love      60   05:33\n",
       "4   Led Zeppelin   hard rock                   Black Dog      70   04:55\n",
       "5   Led Zeppelin   hard rock        Good Times Bad Times      60   02:43\n",
       "6   Led Zeppelin   hard rock                   Moby Dick      60   04:25\n",
       "7   Led Zeppelin   hard rock                   Ramble On      60   04:35\n",
       "8   Led Zeppelin   hard rock                 All My Love      70   05:53\n",
       "9   Led Zeppelin   hard rock  The Song Remains the Same       70   05:24\n",
       "10  Led Zeppelin   hard rock       I Can't Quit You Baby      60   04:42\n",
       "11   David Bowie    pop rock                Space Oddity      60   05:15\n",
       "12   David Bowie    pop rock                 Rebel Rebel      70   04:22\n",
       "13   David Bowie    pop rock              Under Pressure      80   04:08\n",
       "14   David Bowie    pop rock                  China Girl      70   05:08\n",
       "15   David Bowie    pop rock     I'm Afraid of Americans      90   05:00\n",
       "16   David Bowie    pop rock                Golden Years      70   04:00\n",
       "17     Bob Dylan  folk rock         Like a Rolling Stone      60   06:13\n",
       "18     Bob Dylan  folk rock          Blowin' in the Wind      60   02:48\n",
       "19     Bob Dylan  folk rock           Tangled Up in Blue      70   05:42"
      ]
     },
     "execution_count": 25,
     "metadata": {},
     "output_type": "execute_result"
    }
   ],
   "source": [
    "pd.read_sql_query(\"SELECT * FROM data;\", db)"
   ]
  },
  {
   "cell_type": "code",
   "execution_count": null,
   "id": "82f1f1c1-3c84-4b0e-9c0f-b7b922e367a9",
   "metadata": {},
   "outputs": [],
   "source": []
  }
 ],
 "metadata": {
  "kernelspec": {
   "display_name": "Python [conda env:adsml] *",
   "language": "python",
   "name": "conda-env-adsml-py"
  },
  "language_info": {
   "codemirror_mode": {
    "name": "ipython",
    "version": 3
   },
   "file_extension": ".py",
   "mimetype": "text/x-python",
   "name": "python",
   "nbconvert_exporter": "python",
   "pygments_lexer": "ipython3",
   "version": "3.9.7"
  }
 },
 "nbformat": 4,
 "nbformat_minor": 5
}
