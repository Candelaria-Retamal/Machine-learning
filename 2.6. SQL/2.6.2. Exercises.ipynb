{
 "cells": [
  {
   "cell_type": "markdown",
   "id": "dff7b2bd-cc77-4c32-99d2-a0e1453cecae",
   "metadata": {},
   "source": [
    "### Exercise: SQL queries\n",
    "\n",
    "In this exercise, you will continue to work with the database db that we defined in the previous unit. Specifically, you will have to answer the following questions by writing a single SQL query for each one:\n",
    "\n",
    "1) What was the duration of the longest trip?\n",
    "\n",
    "2) How many trips were ended at the station ‘2nd at South Park ‘?\n",
    "\n",
    "3) How many trips had a duration between 1000 and 2000?\n",
    "\n",
    "4) Which bike was used for the most trips?\n",
    "\n",
    "5) Which are the top five stations for the number of round trips? (round trips start and end at the same station).\n",
    "\n",
    "Hint: To count the number of selected rows you can use the aggregate function COUNT inside the SELECT statement. Including COUNT(*) will count every row while include COUNT(column_name) will count all the rows that have a non-null value in the specified column."
   ]
  },
  {
   "cell_type": "markdown",
   "id": "3d2c2510-9b42-4ac8-a91e-9acfda96dfc6",
   "metadata": {},
   "source": [
    "#### What was the duration of the longest trip?"
   ]
  },
  {
   "cell_type": "code",
   "execution_count": 1,
   "id": "376c6d19-eac2-4f26-8a02-277cb0374eba",
   "metadata": {},
   "outputs": [],
   "source": [
    "import pandas as pd\n",
    "import sqlite3\n",
    "# Connect to the database:\n",
    "db = sqlite3.connect(\"c2_database.sqlite\")\n",
    "\n",
    "def run_query(query):\n",
    "    return pd.read_sql_query(query, db)"
   ]
  },
  {
   "cell_type": "code",
   "execution_count": 2,
   "id": "0dd2c5a2-f3ee-4ddc-8800-91e56bebc2f2",
   "metadata": {},
   "outputs": [
    {
     "data": {
      "text/html": [
       "<div>\n",
       "<style scoped>\n",
       "    .dataframe tbody tr th:only-of-type {\n",
       "        vertical-align: middle;\n",
       "    }\n",
       "\n",
       "    .dataframe tbody tr th {\n",
       "        vertical-align: top;\n",
       "    }\n",
       "\n",
       "    .dataframe thead th {\n",
       "        text-align: right;\n",
       "    }\n",
       "</style>\n",
       "<table border=\"1\" class=\"dataframe\">\n",
       "  <thead>\n",
       "    <tr style=\"text-align: right;\">\n",
       "      <th></th>\n",
       "      <th>Start city</th>\n",
       "      <th>End city</th>\n",
       "      <th>duration</th>\n",
       "    </tr>\n",
       "  </thead>\n",
       "  <tbody>\n",
       "    <tr>\n",
       "      <th>0</th>\n",
       "      <td>Mountain View</td>\n",
       "      <td>San Francisco</td>\n",
       "      <td>179330</td>\n",
       "    </tr>\n",
       "  </tbody>\n",
       "</table>\n",
       "</div>"
      ],
      "text/plain": [
       "      Start city       End city  duration\n",
       "0  Mountain View  San Francisco    179330"
      ]
     },
     "execution_count": 2,
     "metadata": {},
     "output_type": "execute_result"
    }
   ],
   "source": [
    "query = '''\n",
    "SELECT start.city AS \"Start city\", end.city AS \"End city\", trip.duration\n",
    "FROM trip\n",
    "INNER JOIN station AS start\n",
    "ON trip.start_station_name = start.name\n",
    "INNER JOIN station AS end\n",
    "ON trip.end_station_name = end.name\n",
    "WHERE start.city != end.city\n",
    "ORDER BY duration DESC\n",
    "LIMIT 1;\n",
    "'''\n",
    "run_query(query)"
   ]
  },
  {
   "cell_type": "markdown",
   "id": "e22d734a-dc48-4ec4-8589-9df13defb095",
   "metadata": {},
   "source": [
    "#### 2. How many trips were ended at the station ‘2nd at South Park ‘?"
   ]
  },
  {
   "cell_type": "code",
   "execution_count": null,
   "id": "7f28b956-253e-4de6-a619-a705af60e52f",
   "metadata": {},
   "outputs": [],
   "source": [
    "query = '''\n",
    "SELECT station.city AS \"City\", COUNT(*) AS \"Count\"\n",
    "FROM trip \n",
    "INNER JOIN station\n",
    "ON trip.start_station_name = station.name\n",
    "GROUP BY station.city;\n",
    "'''\n",
    "run_query(query)"
   ]
  }
 ],
 "metadata": {
  "kernelspec": {
   "display_name": "Python [conda env:adsml] *",
   "language": "python",
   "name": "conda-env-adsml-py"
  },
  "language_info": {
   "codemirror_mode": {
    "name": "ipython",
    "version": 3
   },
   "file_extension": ".py",
   "mimetype": "text/x-python",
   "name": "python",
   "nbconvert_exporter": "python",
   "pygments_lexer": "ipython3",
   "version": "3.9.7"
  }
 },
 "nbformat": 4,
 "nbformat_minor": 5
}
