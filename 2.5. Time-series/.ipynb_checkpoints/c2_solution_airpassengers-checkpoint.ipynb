{
 "cells": [
  {
   "cell_type": "markdown",
   "metadata": {},
   "source": [
    "Airline Passengers Data\n",
    "---\n",
    "\n",
    "In this exercise, you will use Airline Passengers dataset, which provides the monthly number of airline passengers from 1949 to 1960 for an airline company. \n",
    "\n",
    "1. Load the data from the file `c2_AirPassengers.csv` into a dataframe:\n",
    "- Use the Month column as the index when you load the data.\n",
    "- Check the shape of the data. \n",
    "- Are all years and months from 1949 to 1960 present in the data?"
   ]
  },
  {
   "cell_type": "code",
   "execution_count": null,
   "metadata": {},
   "outputs": [],
   "source": [
    "# Import libraries\n",
    "import pandas as pd\n",
    "import numpy as np\n",
    "\n",
    "# Load the data and create a datetime index\n",
    "data = pd.read_csv(\"c2_AirPassengers.csv\", index_col=\"Month\", parse_dates=True)\n",
    "\n",
    "# Rename columns for convenience\n",
    "data.columns = [\"Passengers\"]\n",
    "data.index.names = [\"Date\"]\n",
    "\n",
    "# Print the shape of the dataframe\n",
    "print(data.shape)\n",
    "\n",
    "# Print a few samples\n",
    "data.head()"
   ]
  },
  {
   "cell_type": "markdown",
   "metadata": {},
   "source": [
    "__Answers__:\n",
    "Yes, there are 144 rows i.e. 12 years multiplied by 12 months of data.\n",
    "\n",
    "2. Do the following steps:\n",
    "- Create new columns Month and Year using the index of the dataframe.\n",
    "- Group the Passengers column by the Year and provide summary statistics of the number of passengers.\n",
    "- Discuss the patterns."
   ]
  },
  {
   "cell_type": "code",
   "execution_count": null,
   "metadata": {},
   "outputs": [],
   "source": [
    "# Create new columns Month and Year\n",
    "data[\"Year\"] = data.index.year\n",
    "data[\"Month\"] = data.index.month\n",
    "\n",
    "# Group by the 'Year' and generate descriptive statistics\n",
    "data.groupby(\"Year\")[\"Passengers\"].describe().astype(int)"
   ]
  },
  {
   "cell_type": "markdown",
   "metadata": {},
   "source": [
    "__Answers__:\n",
    "Looking at the result from the table, we observe:  \n",
    "* an increasing *trend*, as the *mean* number of passengers increases with time. For example, the mean number of passengers in 1949 is approximately 126. Six years later, in 1955, the average number of passengers has doubled (284) and, in 1960, is has almost quadrupled (476).\n",
    "* that the annual variation in the data increases with time. In 1949, the number of passengers ranges from 104 to 148 (i.e., a total variation of 44 passengers, and average variation (std) of 13 passengers), while in 1960, the average variation is 77 passengers, i.e. about 6 times higher.\n",
    "\n",
    "3. Finding trends and cycles in the data using visualisations:\n",
    "\n",
    "- Do you observe a trend in the data over time?\n",
    "- Is there a seasonal component present in the data? if yes, describe it and explain if it has changed over time."
   ]
  },
  {
   "cell_type": "code",
   "execution_count": null,
   "metadata": {},
   "outputs": [],
   "source": [
    "import seaborn as sns\n",
    "import matplotlib.pyplot as plt\n",
    "\n",
    "%matplotlib inline"
   ]
  },
  {
   "cell_type": "code",
   "execution_count": null,
   "metadata": {},
   "outputs": [],
   "source": [
    "# plotting trend and seasonality\n",
    "fig, axes = plt.subplots(4, 1, figsize=(12, 14), gridspec_kw={\"hspace\": 0.4})\n",
    "axes[0].plot(data[\"Passengers\"])\n",
    "axes[0].set_title(\"Monthly Number of Passengers\")\n",
    "axes[0].set_ylabel(\"Passengers\")\n",
    "\n",
    "axes[1].plot(data[\"Passengers\"].resample(\"A\").mean())\n",
    "axes[1].set_title(\"Yearly Average Number of Passengers\")\n",
    "axes[1].set_ylabel(\"Passengers\")\n",
    "\n",
    "sns.boxplot(data=data, x=\"Month\", y=\"Passengers\", color=\"white\", ax=axes[2])\n",
    "axes[2].set_title(\"Distribution of the Passengers for each Month\")\n",
    "\n",
    "sns.scatterplot(\n",
    "    data=data, x=\"Month\", y=\"Passengers\", hue=\"Year\", size=\"Year\", sizes=(200, 20)\n",
    ")\n",
    "axes[3].set_title(\"Shift in seasonal pattern over the years\")\n",
    "axes[3].legend(bbox_to_anchor=(1, 1))\n",
    "\n",
    "plt.show()"
   ]
  },
  {
   "cell_type": "markdown",
   "metadata": {},
   "source": [
    "__Answers__:\n",
    "- Yes, there is a steady and upward trend in the data over time (1st and 2nd plots).\n",
    "- Yes, there exists a strong seasonal pattern, as summer months are more popular than the winter months (3rd and 4th plots). Also, there is an upward shift in the seasonal component as more passengers are traveling in the more recent years (4th plot)."
   ]
  },
  {
   "cell_type": "markdown",
   "metadata": {},
   "source": [
    "4. Find out autocorrelations in the data. "
   ]
  },
  {
   "cell_type": "code",
   "execution_count": null,
   "metadata": {},
   "outputs": [],
   "source": [
    "from pandas.plotting import lag_plot"
   ]
  },
  {
   "cell_type": "code",
   "execution_count": null,
   "metadata": {},
   "outputs": [],
   "source": [
    "fig, axes = plt.subplots(\n",
    "    nrows=3, ncols=4, figsize=(15, 12), gridspec_kw={\"hspace\": 0.4, \"wspace\": 0.4}\n",
    ")\n",
    "fig.suptitle(\"Lag plots of current month Passengers versus lagged Passengers\")\n",
    "\n",
    "for (ax, lag) in zip(axes.flatten(), range(1, 13)):\n",
    "\n",
    "    lag_plot(data[\"Passengers\"], lag=lag, ax=ax)\n",
    "    ax.set_title(\"autocorr: {:.2f}\".format(data[\"Passengers\"].autocorr(lag)))\n",
    "\n",
    "fig.subplots_adjust(top=0.93)\n",
    "\n",
    "plt.show()"
   ]
  },
  {
   "cell_type": "code",
   "execution_count": null,
   "metadata": {},
   "outputs": [],
   "source": [
    "import statsmodels.api as sm"
   ]
  },
  {
   "cell_type": "code",
   "execution_count": null,
   "metadata": {},
   "outputs": [],
   "source": [
    "sm.graphics.tsa.plot_acf(data[\"Passengers\"], lags=24, alpha=0.05, zero=False)\n",
    "\n",
    "plt.xlabel(\"Lag\")\n",
    "plt.ylabel(\"Autocorrelation\")\n",
    "plt.title(\"autocorrelations with 95% confidence bands\")\n",
    "\n",
    "plt.show()"
   ]
  },
  {
   "cell_type": "markdown",
   "metadata": {},
   "source": [
    "__Answers__:\n",
    "\n",
    "- There are strong positive autocorrelations in the 1st and 12th lags. Thus the 1st and 12th lags of the number of passengers are strong predictors of the future number of passengers.\n",
    "- Based on the 95% confident bands the first 13 lags are different from zero because they are out of the upper band.\n",
    "\n",
    "5. Find out if data are stationary and try to remove non-stationarity if there is evidence supporting its presence."
   ]
  },
  {
   "cell_type": "code",
   "execution_count": null,
   "metadata": {},
   "outputs": [],
   "source": [
    "# Plot the number of passengers\n",
    "plt.figure(figsize=(8, 4))\n",
    "\n",
    "plt.plot(data[\"Passengers\"])\n",
    "plt.xlabel(\"Year\")\n",
    "plt.ylabel(\"Monthly passengers (in thousands)\")\n",
    "\n",
    "plt.show()"
   ]
  },
  {
   "cell_type": "markdown",
   "metadata": {},
   "source": [
    "__Answers__:\n",
    "\n",
    "* The plot shows that both mean and variance are increasing over time indicating non-stationarity."
   ]
  },
  {
   "cell_type": "code",
   "execution_count": null,
   "metadata": {},
   "outputs": [],
   "source": [
    "fig, ax = plt.subplots(4, 1, figsize=(10, 10), sharex=True)\n",
    "\n",
    "# create the plot for original data\n",
    "ax[0].set_title(\"Monthly Number of Passengers\")\n",
    "ax[0].plot(data[\"Passengers\"])\n",
    "\n",
    "# create the plot for original data\n",
    "ax[1].set_title(\"Log-transformed Monthly Number of Passengers\")\n",
    "ax[1].plot(np.log(data[\"Passengers\"]))\n",
    "\n",
    "# create the seasonaly differenced plot\n",
    "ax[2].set_title(\"12-months Differenced Log-transformed Number of Passengers\")\n",
    "ax[2].plot(np.log(data[\"Passengers\"]).diff(12))\n",
    "\n",
    "# create the first differenced plot\n",
    "ax[3].set_title(\n",
    "    \"1st Differenced the 12-months Differenced Log-transformed Number of Passengers\"\n",
    ")\n",
    "ax[3].set_xlabel(\"Date\")\n",
    "ax[3].plot(np.log(data[\"Passengers\"]).diff(12).diff(1))\n",
    "\n",
    "fig.tight_layout()\n",
    "plt.show()"
   ]
  },
  {
   "cell_type": "markdown",
   "metadata": {},
   "source": [
    "__Answers__:\n",
    "\n",
    "* The plots show that taking the log makes the variations more stable over time (2nd panel). Also, 12-months differencing removes seasonality, and finally the 1st differencing makes the trend stable around zero (last panel)."
   ]
  },
  {
   "cell_type": "code",
   "execution_count": null,
   "metadata": {},
   "outputs": [],
   "source": [
    "sm.graphics.tsa.plot_acf(\n",
    "    np.log(data[\"Passengers\"]).diff(12).diff(1).dropna(),\n",
    "    lags=15,\n",
    "    alpha=0.05,\n",
    "    zero=False,\n",
    ")\n",
    "\n",
    "plt.xlabel(\"Lag\")\n",
    "plt.ylabel(\"Autocorrelation\")\n",
    "plt.title(\"autocorrelations with 95% confidence bands\")\n",
    "\n",
    "plt.show()"
   ]
  },
  {
   "cell_type": "markdown",
   "metadata": {},
   "source": [
    "__Answers__:\n",
    "\n",
    "* The plots show that most of the autocorrelations are not present in the transformed data. There is still some autocorrelations left in the the 1st and 12th lags. So, one can use these lags to model the (stationary) time series."
   ]
  }
 ],
 "metadata": {
  "kernelspec": {
   "display_name": "Python 3 (ipykernel)",
   "language": "python",
   "name": "python3"
  },
  "language_info": {
   "codemirror_mode": {
    "name": "ipython",
    "version": 3
   },
   "file_extension": ".py",
   "mimetype": "text/x-python",
   "name": "python",
   "nbconvert_exporter": "python",
   "pygments_lexer": "ipython3",
   "version": "3.9.7"
  },
  "toc-autonumbering": false,
  "toc-showcode": false,
  "toc-showmarkdowntxt": false,
  "toc-showtags": false
 },
 "nbformat": 4,
 "nbformat_minor": 4
}
