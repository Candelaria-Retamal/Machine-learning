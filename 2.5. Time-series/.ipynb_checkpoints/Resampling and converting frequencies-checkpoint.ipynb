{
 "cells": [
  {
   "cell_type": "markdown",
   "id": "b31a2733-043a-4aca-b0c2-ea54f073d7b1",
   "metadata": {},
   "source": [
    "### Resampling and converting frequencies\n",
    "#### Pandas asfreq vs. resample\n",
    "There are two ways to resample data at different frequencies: with the resample() function or with the asfreq() one. The main difference between them is that resample() is a data aggregation function while asfreq() is a data selection function.\n",
    "\n",
    "* asfreq() simply starts with the first data point and then takes consecutive data points at the new frequency interval\n",
    "* resample() first splits the data into buckets based on the new frequency and then applies a particular operation to the data in each bucket.This function allows us more flexibility.\n",
    "\n",
    "#### Downsampling\n",
    "Let’s look at our example with the financial dataset. Let’s change the frequency to BA which is the end of a business year. We will first do this by combining the resample() with the mean() functions and compare the results with the asfreq() variant."
   ]
  },
  {
   "cell_type": "code",
   "execution_count": null,
   "id": "f3093c4c-6a1f-479d-9a91-46139a429b78",
   "metadata": {},
   "outputs": [],
   "source": [
    "import pandas as pd\n",
    "%matplotlib inline\n",
    "import matplotlib.pyplot as plt\n",
    "\n",
    "# load the data\n",
    "data = pd.read_csv(\"c2_financial_data.csv\", index_col=\"Date\")\n",
    "\n",
    "# create the time index\n",
    "data.index = pd.to_datetime(data.index, format=\"%d.%m.%y\")  # Convert the index\n",
    "# Let’s take a look at the top entries\n",
    "print(data.shape)\n",
    "# check the few first rows\n",
    "data.head()\n",
    "prices = data[\"Close\"]\n",
    "\n",
    "# Create the figure\n",
    "plt.figure(figsize=(8, 4))\n",
    "\n",
    "# Plot the prices\n",
    "prices.plot(alpha=0.5)\n",
    "\n",
    "# Downsampling - end of the business year\n",
    "# Variant 1: using resample()\n",
    "prices.resample(\"BA\").mean().plot()\n",
    "\n",
    "# Variant 2: using asfreq()\n",
    "prices.asfreq(\"BA\").plot()\n",
    "\n",
    "plt.legend([\"prices\", \"resample\", \"asfreq\"], loc=\"upper left\")\n",
    "plt.show()"
   ]
  },
  {
   "cell_type": "code",
   "execution_count": null,
   "id": "bad6d496-4c04-4033-ace2-d60bdda000e6",
   "metadata": {},
   "outputs": [],
   "source": []
  }
 ],
 "metadata": {
  "kernelspec": {
   "display_name": "Python [conda env:adsml] *",
   "language": "python",
   "name": "conda-env-adsml-py"
  },
  "language_info": {
   "codemirror_mode": {
    "name": "ipython",
    "version": 3
   },
   "file_extension": ".py",
   "mimetype": "text/x-python",
   "name": "python",
   "nbconvert_exporter": "python",
   "pygments_lexer": "ipython3",
   "version": "3.9.7"
  }
 },
 "nbformat": 4,
 "nbformat_minor": 5
}
