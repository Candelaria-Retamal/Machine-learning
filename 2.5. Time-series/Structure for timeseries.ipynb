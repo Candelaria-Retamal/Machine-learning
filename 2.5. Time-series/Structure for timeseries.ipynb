{
 "cells": [
  {
   "cell_type": "markdown",
   "id": "de9ecc7f-3695-46ec-b9e1-2f9d998be82f",
   "metadata": {},
   "source": [
    "### The Timestamp object and its DatetimeIndex object\n",
    "Let’s now look at some examples. We can create a Timestamp object in pandas using the pd.to_datetime() function and specifying a minimum of three parameters representing the year, month and day. "
   ]
  },
  {
   "cell_type": "code",
   "execution_count": 1,
   "id": "e5b0ff37-8ee4-4658-b4d2-3330575036c8",
   "metadata": {},
   "outputs": [
    {
     "data": {
      "text/plain": [
       "Timestamp('2009-02-13 00:00:00')"
      ]
     },
     "execution_count": 1,
     "metadata": {},
     "output_type": "execute_result"
    }
   ],
   "source": [
    "import pandas as pd\n",
    "import numpy as np\n",
    "pd.to_datetime(\"13th of February, 2009\")"
   ]
  },
  {
   "cell_type": "code",
   "execution_count": 2,
   "id": "a6d6eacc-7f8a-4ba4-8df8-88b0461bc50f",
   "metadata": {},
   "outputs": [
    {
     "data": {
      "text/plain": [
       "Timestamp('2009-02-13 00:00:00')"
      ]
     },
     "execution_count": 2,
     "metadata": {},
     "output_type": "execute_result"
    }
   ],
   "source": [
    "pd.to_datetime(\"02-13-2009\")"
   ]
  },
  {
   "cell_type": "code",
   "execution_count": 3,
   "id": "0f4d252b-9178-4b5c-812c-dfd5dbf883ea",
   "metadata": {},
   "outputs": [
    {
     "data": {
      "text/plain": [
       "Timestamp('2009-02-13 00:00:00')"
      ]
     },
     "execution_count": 3,
     "metadata": {},
     "output_type": "execute_result"
    }
   ],
   "source": [
    "pd.to_datetime(\"Feb 13, 2009\")"
   ]
  },
  {
   "cell_type": "code",
   "execution_count": 4,
   "id": "ea4df407-0764-4b35-a0f8-b2af599e7abe",
   "metadata": {},
   "outputs": [
    {
     "data": {
      "text/plain": [
       "Timestamp('2009-02-13 14:20:00')"
      ]
     },
     "execution_count": 4,
     "metadata": {},
     "output_type": "execute_result"
    }
   ],
   "source": [
    "# specify also a time together with our date as follows\n",
    "pd.to_datetime(\"Feb 13, 2009 14:20:00\")"
   ]
  },
  {
   "cell_type": "code",
   "execution_count": 5,
   "id": "a88a084c-eb52-49cd-b9fd-8ea1b00f8730",
   "metadata": {},
   "outputs": [
    {
     "data": {
      "text/plain": [
       "Timestamp('2022-01-27 13:00:00')"
      ]
     },
     "execution_count": 5,
     "metadata": {},
     "output_type": "execute_result"
    }
   ],
   "source": [
    "# If we instead provide only a time then the current local date will be assigned\n",
    "pd.to_datetime(\"13:00\")"
   ]
  },
  {
   "cell_type": "code",
   "execution_count": 6,
   "id": "7834185e-f8ba-4eb7-b410-1a84a85fcbb9",
   "metadata": {},
   "outputs": [
    {
     "data": {
      "text/plain": [
       "Timestamp('2022-01-27 13:30:19.614124')"
      ]
     },
     "execution_count": 6,
     "metadata": {},
     "output_type": "execute_result"
    }
   ],
   "source": [
    "# We can even retrieve the current date and time by passing the keyword 'now'\n",
    "pd.to_datetime(\"now\")"
   ]
  },
  {
   "cell_type": "code",
   "execution_count": 7,
   "id": "a5d0bff1-5e4f-4957-a321-c7937bab2321",
   "metadata": {},
   "outputs": [
    {
     "data": {
      "text/plain": [
       "'Friday'"
      ]
     },
     "execution_count": 7,
     "metadata": {},
     "output_type": "execute_result"
    }
   ],
   "source": [
    "# We can, for example, retrieve the day of the week using\n",
    "pd.to_datetime(\"Feb 13, 2009 14:20:00\").day_name()"
   ]
  },
  {
   "cell_type": "markdown",
   "id": "cd6da28c-ae73-4b76-8b36-eb1667631c0c",
   "metadata": {},
   "source": [
    "What happens when we store a sequence of Timestamp objects in a Series? Well, pandas has a special index object for us called Datetimeindex. This is essentially where the pandas time series tools become really useful since it allows to index data by timestamps. Creating DatetimeIndex() objects is very simple: we just pass a series of dates to the pd.to_dateTime() function. Let’s look at an example."
   ]
  },
  {
   "cell_type": "code",
   "execution_count": 8,
   "id": "8f4420fb-ab45-41c4-8586-ed6b3dc30981",
   "metadata": {},
   "outputs": [
    {
     "data": {
      "text/plain": [
       "DatetimeIndex(['2015-08-05', '2015-08-06', '2015-08-07'], dtype='datetime64[ns]', freq=None)"
      ]
     },
     "execution_count": 8,
     "metadata": {},
     "output_type": "execute_result"
    }
   ],
   "source": [
    "dates = pd.to_datetime(\n",
    "    [pd.Timestamp(2015, 8, 5), pd.Timestamp(2015, 8, 6), pd.Timestamp(2015, 8, 7)]\n",
    ")\n",
    "dates"
   ]
  },
  {
   "cell_type": "markdown",
   "id": "37704f3b-5551-4f80-a5b1-3c5de38cc276",
   "metadata": {},
   "source": [
    "Here again you can retrieve date and time information, for example, the day or the month using"
   ]
  },
  {
   "cell_type": "code",
   "execution_count": 9,
   "id": "03cb6b32-3398-43ae-adf5-1ae60fef7a07",
   "metadata": {},
   "outputs": [
    {
     "data": {
      "text/plain": [
       "Int64Index([5, 6, 7], dtype='int64')"
      ]
     },
     "execution_count": 9,
     "metadata": {},
     "output_type": "execute_result"
    }
   ],
   "source": [
    "dates.day"
   ]
  },
  {
   "cell_type": "code",
   "execution_count": 10,
   "id": "fca091b2-c788-47a2-8b49-3e14893b9b67",
   "metadata": {},
   "outputs": [
    {
     "data": {
      "text/plain": [
       "Int64Index([8, 8, 8], dtype='int64')"
      ]
     },
     "execution_count": 10,
     "metadata": {},
     "output_type": "execute_result"
    }
   ],
   "source": [
    "dates.month"
   ]
  },
  {
   "cell_type": "markdown",
   "id": "6f08071b-f9ab-4398-b366-a7d63696ebb7",
   "metadata": {},
   "source": [
    "#### The Timedelta object and its TimedeltaIndex object\n",
    "\n",
    "The Timedelta object is meant to capture the difference in time between two Timestamp objects. Whenever we subtract one Timestamp object from another what we get back is a Timedelta object. Try out the following example"
   ]
  },
  {
   "cell_type": "code",
   "execution_count": 11,
   "id": "16d19dde-9682-4b3e-ba46-405dfe195a0d",
   "metadata": {},
   "outputs": [
    {
     "data": {
      "text/plain": [
       "Timedelta('12418 days 00:00:00')"
      ]
     },
     "execution_count": 11,
     "metadata": {},
     "output_type": "execute_result"
    }
   ],
   "source": [
    "date1 = pd.Timestamp(\"2018-03-03\")\n",
    "date2 = pd.Timestamp(\"1984-03-03\")\n",
    "date1 - date2"
   ]
  },
  {
   "cell_type": "code",
   "execution_count": 12,
   "id": "15cf625c-99c5-4a8b-a998-20a527022fb9",
   "metadata": {},
   "outputs": [
    {
     "data": {
      "text/plain": [
       "Timedelta('54 days 03:00:00')"
      ]
     },
     "execution_count": 12,
     "metadata": {},
     "output_type": "execute_result"
    }
   ],
   "source": [
    "# We can also create a Timedelta object using pd.Timedelta as follows\n",
    "pd.Timedelta(days=54, hours=3)"
   ]
  },
  {
   "cell_type": "code",
   "execution_count": 13,
   "id": "58503c49-c537-44e8-992c-a91023a1210e",
   "metadata": {},
   "outputs": [
    {
     "data": {
      "text/plain": [
       "Timestamp('2018-04-26 03:00:00')"
      ]
     },
     "execution_count": 13,
     "metadata": {},
     "output_type": "execute_result"
    }
   ],
   "source": [
    "# If we add a Timedelta to a Timestamp we get another Timestamp:\n",
    "date1 + pd.Timedelta(days=54, hours=3)\n"
   ]
  },
  {
   "cell_type": "markdown",
   "id": "44c32668-bc75-4f13-8f59-f82112a0f6d4",
   "metadata": {},
   "source": [
    "Just like subtracting two Timestamp objects results in a Timedelta object, subtracting two DatetimeIndex objects results in a TimdeltaIndex object."
   ]
  },
  {
   "cell_type": "code",
   "execution_count": 14,
   "id": "f314ed60-56a6-4343-8211-b725ae6ae5e5",
   "metadata": {},
   "outputs": [
    {
     "data": {
      "text/plain": [
       "TimedeltaIndex(['0 days', '1 days', '2 days'], dtype='timedelta64[ns]', freq=None)"
      ]
     },
     "execution_count": 14,
     "metadata": {},
     "output_type": "execute_result"
    }
   ],
   "source": [
    "dates - dates[0]"
   ]
  },
  {
   "cell_type": "markdown",
   "id": "a7f9040f-6357-474f-8c01-df8e086ae9da",
   "metadata": {},
   "source": [
    "#### The Period object and its PeriodIndex object\n",
    "The last of the three data structures for time series data is the Period object which encodes a fixed frequency interval. The purpose of this object is to allow us to specify a duration based on a frequency such as daily, weekly or annually. Pandas then provides a specific start and end Timestamp to represent this interval of time. As an example the following line of code creates a period representing one month\n"
   ]
  },
  {
   "cell_type": "code",
   "execution_count": 15,
   "id": "0eb12325-97ca-4e08-adb4-21e8dbbcecfa",
   "metadata": {},
   "outputs": [
    {
     "data": {
      "text/plain": [
       "Period('2015-01', 'M')"
      ]
     },
     "execution_count": 15,
     "metadata": {},
     "output_type": "execute_result"
    }
   ],
   "source": [
    "jan2015 = pd.Period(\"2015-01\")\n",
    "jan2015"
   ]
  },
  {
   "cell_type": "markdown",
   "id": "d561fad1-a1b3-4373-93e8-4f37e041b6d6",
   "metadata": {},
   "source": [
    " pandas added a parameter 'M' which indicates that this Period object has a frequency of one month. This is the default setting. We can specify a different frequency when creating a Period object using the freq parameter as follows"
   ]
  },
  {
   "cell_type": "code",
   "execution_count": 16,
   "id": "ab6b94a4-8a0f-4b02-b9a0-1bbef2de3515",
   "metadata": {},
   "outputs": [
    {
     "data": {
      "text/plain": [
       "Period('2015-01-01', 'D')"
      ]
     },
     "execution_count": 16,
     "metadata": {},
     "output_type": "execute_result"
    }
   ],
   "source": [
    "pd.Period(\"2015-01\", freq=\"D\")"
   ]
  },
  {
   "cell_type": "code",
   "execution_count": 17,
   "id": "015d696f-ad2e-4eb5-814a-1fa81533e157",
   "metadata": {},
   "outputs": [
    {
     "data": {
      "text/plain": [
       "Timestamp('2015-01-01 00:00:00')"
      ]
     },
     "execution_count": 17,
     "metadata": {},
     "output_type": "execute_result"
    }
   ],
   "source": [
    "# We can check the start and end times using the following attributes\n",
    "jan2015.start_time"
   ]
  },
  {
   "cell_type": "code",
   "execution_count": 18,
   "id": "91fdb9cd-1bdf-4faa-8c12-2d8be37c6c65",
   "metadata": {},
   "outputs": [
    {
     "data": {
      "text/plain": [
       "Timestamp('2015-01-31 23:59:59.999999999')"
      ]
     },
     "execution_count": 18,
     "metadata": {},
     "output_type": "execute_result"
    }
   ],
   "source": [
    "jan2015.end_time"
   ]
  },
  {
   "cell_type": "code",
   "execution_count": 19,
   "id": "7942ada5-54e2-4929-ad8e-0add08492c2f",
   "metadata": {},
   "outputs": [
    {
     "data": {
      "text/plain": [
       "Period('2015-01-01', 'D')"
      ]
     },
     "execution_count": 19,
     "metadata": {},
     "output_type": "execute_result"
    }
   ],
   "source": [
    "# We can also change the frequency of a period using the asfreq() function and providing a new frequency\n",
    "period = pd.Period(\"2015-01\", freq=\"H\")\n",
    "period.asfreq(\"D\")\n"
   ]
  },
  {
   "cell_type": "code",
   "execution_count": 20,
   "id": "75bdff2c-c70b-4c6f-8af0-fa70e2388f3f",
   "metadata": {},
   "outputs": [
    {
     "data": {
      "text/plain": [
       "Timestamp('2015-01-01 00:00:00')"
      ]
     },
     "execution_count": 20,
     "metadata": {},
     "output_type": "execute_result"
    }
   ],
   "source": [
    "period = pd.Period(\"2015-01\", freq=\"H\")\n",
    "period.to_timestamp()"
   ]
  },
  {
   "cell_type": "markdown",
   "id": "4f4a111c-e70f-4287-b245-8ad3e831e875",
   "metadata": {},
   "source": [
    "A Series of Period objects can also be combined as a PeriodIndex object. One way of creating a PeriodIndex object is by converting any DatetimeIndex object using the pd.to_period() function and specifying the desired frequency."
   ]
  },
  {
   "cell_type": "code",
   "execution_count": 21,
   "id": "40c4482f-46b9-421e-bfb6-ddb553b40c50",
   "metadata": {},
   "outputs": [
    {
     "data": {
      "text/plain": [
       "PeriodIndex(['2015-08-05', '2015-08-06', '2015-08-07'], dtype='period[D]')"
      ]
     },
     "execution_count": 21,
     "metadata": {},
     "output_type": "execute_result"
    }
   ],
   "source": [
    "dates.to_period(\"D\")"
   ]
  },
  {
   "cell_type": "markdown",
   "id": "0b90a6e6-ac25-42e8-ac2a-145bba8b373b",
   "metadata": {},
   "source": [
    "The index labels are now Period objects as supposed to Timestamp objects. We can access their start and end times as follows"
   ]
  },
  {
   "cell_type": "code",
   "execution_count": 22,
   "id": "95541820-3055-4637-91a1-3e503d08f35e",
   "metadata": {},
   "outputs": [
    {
     "data": {
      "text/plain": [
       "Timestamp('2015-08-05 00:00:00')"
      ]
     },
     "execution_count": 22,
     "metadata": {},
     "output_type": "execute_result"
    }
   ],
   "source": [
    "dates.to_period(\"D\")[0].start_time"
   ]
  },
  {
   "cell_type": "code",
   "execution_count": 23,
   "id": "dcbfb7d1-984f-4c62-a4f3-9ac8642f1507",
   "metadata": {},
   "outputs": [
    {
     "data": {
      "text/plain": [
       "Timestamp('2015-08-05 23:59:59.999999999')"
      ]
     },
     "execution_count": 23,
     "metadata": {},
     "output_type": "execute_result"
    }
   ],
   "source": [
    "dates.to_period(\"D\")[0].end_time"
   ]
  },
  {
   "cell_type": "markdown",
   "id": "bd540d09-0d0d-47dc-b31b-ff764508563b",
   "metadata": {},
   "source": [
    "#### Creating series and dataframes using the three data structures\n",
    "\n",
    "So far we have discussed three data structures. Now we can use them and construct a Series (or a DataFrame) object by just providing the necessary values and specifying our choice of index. Try out each of the examples below"
   ]
  },
  {
   "cell_type": "code",
   "execution_count": 24,
   "id": "c6f25b7e-26b8-4a03-9664-d518921df2a7",
   "metadata": {},
   "outputs": [
    {
     "data": {
      "text/plain": [
       "2015-08-05    0\n",
       "2015-08-06    1\n",
       "2015-08-07    2\n",
       "dtype: int32"
      ]
     },
     "execution_count": 24,
     "metadata": {},
     "output_type": "execute_result"
    }
   ],
   "source": [
    "ts1 = pd.Series(np.arange(3), dates)\n",
    "ts1"
   ]
  },
  {
   "cell_type": "code",
   "execution_count": 25,
   "id": "8efd1ba2-523b-4095-a475-5d2f71104f2a",
   "metadata": {},
   "outputs": [
    {
     "data": {
      "text/plain": [
       "2015-08-05    0\n",
       "2015-08-06    1\n",
       "2015-08-07    2\n",
       "Freq: D, dtype: int32"
      ]
     },
     "execution_count": 25,
     "metadata": {},
     "output_type": "execute_result"
    }
   ],
   "source": [
    "ts2 = pd.Series(np.arange(3), dates.to_period(\"D\"))\n",
    "ts2"
   ]
  },
  {
   "cell_type": "code",
   "execution_count": 26,
   "id": "08cca4a5-f664-4ecc-8f97-480a99b3f3cc",
   "metadata": {},
   "outputs": [
    {
     "data": {
      "text/plain": [
       "0 days    0\n",
       "1 days    1\n",
       "2 days    2\n",
       "dtype: int32"
      ]
     },
     "execution_count": 26,
     "metadata": {},
     "output_type": "execute_result"
    }
   ],
   "source": [
    "ts3 = pd.Series(np.arange(3), dates - dates[0])\n",
    "ts3"
   ]
  },
  {
   "cell_type": "code",
   "execution_count": 27,
   "id": "870fd1f6-cbd6-4397-a7f8-a8503f72409e",
   "metadata": {},
   "outputs": [
    {
     "data": {
      "text/plain": [
       "DatetimeIndex(['2015-08-05', '2015-08-06', '2015-08-07'], dtype='datetime64[ns]', freq=None)"
      ]
     },
     "execution_count": 27,
     "metadata": {},
     "output_type": "execute_result"
    }
   ],
   "source": [
    "# You can check the specific index of all of these Series\n",
    "\n",
    "ts1.index"
   ]
  },
  {
   "cell_type": "code",
   "execution_count": 28,
   "id": "4c8b1a35-9e96-4c8b-8051-83851d0297bf",
   "metadata": {},
   "outputs": [
    {
     "data": {
      "text/plain": [
       "PeriodIndex(['2015-08-05', '2015-08-06', '2015-08-07'], dtype='period[D]')"
      ]
     },
     "execution_count": 28,
     "metadata": {},
     "output_type": "execute_result"
    }
   ],
   "source": [
    "ts2.index"
   ]
  },
  {
   "cell_type": "code",
   "execution_count": 29,
   "id": "c88303ab-3f26-4c94-b09e-12a1a8cae023",
   "metadata": {},
   "outputs": [
    {
     "data": {
      "text/plain": [
       "TimedeltaIndex(['0 days', '1 days', '2 days'], dtype='timedelta64[ns]', freq=None)"
      ]
     },
     "execution_count": 29,
     "metadata": {},
     "output_type": "execute_result"
    }
   ],
   "source": [
    "ts3.index"
   ]
  },
  {
   "cell_type": "markdown",
   "id": "d4564737-be2b-4164-b36a-e990e346b322",
   "metadata": {},
   "source": [
    "The big advantage of having data stored with these special type of time indices is that we can then access them by timestamps, periods, and duration respectively. We can use all of the usual Series indexing commands we have seen before. Also, a very useful trick to keep in mind is that we can slice a DatetimeIndex object by just specifying a year, or a month. It will then return all entries that correspond to the given year or month."
   ]
  },
  {
   "cell_type": "code",
   "execution_count": 30,
   "id": "a2d21020-3b4a-4dd0-992a-6645a16697cb",
   "metadata": {},
   "outputs": [
    {
     "data": {
      "text/plain": [
       "0"
      ]
     },
     "execution_count": 30,
     "metadata": {},
     "output_type": "execute_result"
    }
   ],
   "source": [
    "ts1[\"2015.08.05\"]"
   ]
  },
  {
   "cell_type": "code",
   "execution_count": 31,
   "id": "9f214883-e8ab-4f97-b81d-a0465bbaa1ca",
   "metadata": {},
   "outputs": [
    {
     "data": {
      "text/plain": [
       "0"
      ]
     },
     "execution_count": 31,
     "metadata": {},
     "output_type": "execute_result"
    }
   ],
   "source": [
    "ts1[\"august 5, 2015\"]"
   ]
  },
  {
   "cell_type": "code",
   "execution_count": 32,
   "id": "dafaf033-e59e-4917-b941-29276779aeef",
   "metadata": {},
   "outputs": [
    {
     "data": {
      "text/plain": [
       "2015-08-06    1\n",
       "2015-08-07    2\n",
       "dtype: int32"
      ]
     },
     "execution_count": 32,
     "metadata": {},
     "output_type": "execute_result"
    }
   ],
   "source": [
    "ts1[1:3] # No toma el último valor"
   ]
  },
  {
   "cell_type": "code",
   "execution_count": 33,
   "id": "8c36f582-d523-423c-b16f-ddee5716e13d",
   "metadata": {},
   "outputs": [
    {
     "data": {
      "text/plain": [
       "2015-08-06    1\n",
       "2015-08-07    2\n",
       "dtype: int32"
      ]
     },
     "execution_count": 33,
     "metadata": {},
     "output_type": "execute_result"
    }
   ],
   "source": [
    "ts1[\"2015-08-06 \":\"2015-08-07 \"]"
   ]
  },
  {
   "cell_type": "code",
   "execution_count": 34,
   "id": "0e21cd67-79c7-4320-9bb8-006144cead8f",
   "metadata": {},
   "outputs": [
    {
     "data": {
      "text/plain": [
       "2015-08-05    0\n",
       "2015-08-06    1\n",
       "2015-08-07    2\n",
       "dtype: int32"
      ]
     },
     "execution_count": 34,
     "metadata": {},
     "output_type": "execute_result"
    }
   ],
   "source": [
    "ts1[\"2015\"]"
   ]
  },
  {
   "cell_type": "markdown",
   "id": "556de3f2-56ea-40f8-b6ef-f7f3a3e053ba",
   "metadata": {},
   "source": [
    "It is often the case that we want to create a special index object consisting of a regular sequence defined by a specific range. In order to facilitate this pandas offers us to following three functions\n",
    "\n",
    "* pd.date_range() for timestamps\n",
    "* pd.timdelta_range() for time deltas\n",
    "* pd.period_range() for periods"
   ]
  },
  {
   "cell_type": "markdown",
   "id": "9e88b674-b392-4422-a664-dbdd9a9f7390",
   "metadata": {},
   "source": [
    "These functions are similar to NumPy’s np.arange() which if you recall takes a start point, an endpoint, and an optional frequency and creates a sequence of evenly spaced numbers.\n",
    "\n",
    "For the pd.date_range() function we can specify either a start and end date as follows"
   ]
  },
  {
   "cell_type": "code",
   "execution_count": 36,
   "id": "1040cd02-78f5-4c4f-9a7f-114b0409464e",
   "metadata": {},
   "outputs": [
    {
     "data": {
      "text/plain": [
       "DatetimeIndex(['2018-01-01', '2018-01-02', '2018-01-03', '2018-01-04',\n",
       "               '2018-01-05'],\n",
       "              dtype='datetime64[ns]', freq='D')"
      ]
     },
     "execution_count": 36,
     "metadata": {},
     "output_type": "execute_result"
    }
   ],
   "source": [
    "pd.date_range(\"2018-01-01\", \"2018-01-05\")"
   ]
  },
  {
   "cell_type": "code",
   "execution_count": 37,
   "id": "12db0852-5008-4d60-a680-45d43d8ca12b",
   "metadata": {},
   "outputs": [
    {
     "data": {
      "text/plain": [
       "DatetimeIndex(['2018-01-01', '2018-01-02', '2018-01-03', '2018-01-04',\n",
       "               '2018-01-05'],\n",
       "              dtype='datetime64[ns]', freq='D')"
      ]
     },
     "execution_count": 37,
     "metadata": {},
     "output_type": "execute_result"
    }
   ],
   "source": [
    "# or a start time and the number of periods\n",
    "pd.date_range(\"2018-01-01\", periods=5)"
   ]
  },
  {
   "cell_type": "code",
   "execution_count": 38,
   "id": "79483b77-b763-4a7b-ba67-98274cc99bac",
   "metadata": {},
   "outputs": [
    {
     "data": {
      "text/plain": [
       "DatetimeIndex(['2018-01-01 00:00:00', '2018-01-01 01:00:00',\n",
       "               '2018-01-01 02:00:00', '2018-01-01 03:00:00',\n",
       "               '2018-01-01 04:00:00'],\n",
       "              dtype='datetime64[ns]', freq='H')"
      ]
     },
     "execution_count": 38,
     "metadata": {},
     "output_type": "execute_result"
    }
   ],
   "source": [
    "# The default frequency of the dates was one day. We can specify a different frequency by adding in the freq parameter.\n",
    "pd.date_range(\"01-01-2018\", periods=5, freq=\"H\")"
   ]
  },
  {
   "cell_type": "markdown",
   "id": "f79a1b39-f782-4431-9696-05b2b31e5b3c",
   "metadata": {},
   "source": [
    "To create regular sequences of Timedelta or Period objects we can use the similar functions pd.timedelta_range() and pd.period_range().\n",
    "\n"
   ]
  },
  {
   "cell_type": "code",
   "execution_count": 39,
   "id": "5a5ee9b4-9dae-4404-bbe4-687bbb443b00",
   "metadata": {},
   "outputs": [
    {
     "data": {
      "text/plain": [
       "TimedeltaIndex(['0 days 00:00:00', '0 days 01:00:00', '0 days 02:00:00',\n",
       "                '0 days 03:00:00', '0 days 04:00:00'],\n",
       "               dtype='timedelta64[ns]', freq='H')"
      ]
     },
     "execution_count": 39,
     "metadata": {},
     "output_type": "execute_result"
    }
   ],
   "source": [
    "pd.timedelta_range(0, periods=5, freq=\"H\")"
   ]
  },
  {
   "cell_type": "code",
   "execution_count": 40,
   "id": "17b42110-76f9-46f4-82bd-0648d0f810d5",
   "metadata": {},
   "outputs": [
    {
     "data": {
      "text/plain": [
       "PeriodIndex(['2018-01', '2018-02', '2018-03'], dtype='period[M]')"
      ]
     },
     "execution_count": 40,
     "metadata": {},
     "output_type": "execute_result"
    }
   ],
   "source": [
    "pd.period_range(\"2018-01\", periods=3, freq=\"M\")"
   ]
  },
  {
   "cell_type": "markdown",
   "id": "6da7eb9a-9dc8-4d6d-b015-4acdef842d66",
   "metadata": {},
   "source": [
    "#### Frequencies and offsets\n",
    "\n",
    "We already saw some options of frequency such as M for month, D for day and H for hour. In fact pandas a whole list of frequency codes available to us. Below we summarize the main ones\n",
    "* H Hour\n",
    "* D Day\n",
    "* W Week\n",
    "* M Month\n",
    "* Q Quarter\n",
    "* A Year\n",
    "\n",
    " Now dealing with frequencies and data offsets is a fundamental part of working with time series. In pandas, frequencies are represented using date offsets. For this there is a special object called DateOffset. This object represents a regular frequency increment. Let’s try an example"
   ]
  },
  {
   "cell_type": "code",
   "execution_count": 42,
   "id": "0b07e7b5-d3a5-4565-bd48-5dac6245b24d",
   "metadata": {},
   "outputs": [
    {
     "data": {
      "text/plain": [
       "<DateOffset: days=1>"
      ]
     },
     "execution_count": 42,
     "metadata": {},
     "output_type": "execute_result"
    }
   ],
   "source": [
    "pd.DateOffset(days=1)"
   ]
  },
  {
   "cell_type": "markdown",
   "id": "984d085e-a0fa-4761-908b-cbc26f902b7e",
   "metadata": {},
   "source": [
    "So what can we actually use these for? Well we can add or subtract them from a Timestamp"
   ]
  },
  {
   "cell_type": "code",
   "execution_count": 43,
   "id": "e11c230a-c3b4-4bff-aa4f-77ef8b60dccc",
   "metadata": {},
   "outputs": [
    {
     "data": {
      "text/plain": [
       "Timestamp('2010-01-02 00:00:00')"
      ]
     },
     "execution_count": 43,
     "metadata": {},
     "output_type": "execute_result"
    }
   ],
   "source": [
    "pd.Timestamp(\"2010.01.01\") + pd.DateOffset(days=1)"
   ]
  },
  {
   "cell_type": "markdown",
   "id": "01e1be07-b129-4eae-a89d-0e6611f90a34",
   "metadata": {},
   "source": [
    "But more importantly, pandas has specific types of offsets available to use. Below we list some of the main ones, but for a full list you can consult the pandas documentation for DateOffset Objects\n",
    "\n",
    "* BDay Business day\n",
    "* Week One week, optionally anchored on a day of the week\n",
    "* MonthEnd\n",
    "* YearEnd\n",
    "To use these we must first include the following statement in our notebook"
   ]
  },
  {
   "cell_type": "code",
   "execution_count": 45,
   "id": "ed02862c-5bb1-4b5c-b1e9-b810e5e95c53",
   "metadata": {},
   "outputs": [],
   "source": [
    "from pandas.tseries.offsets import *"
   ]
  },
  {
   "cell_type": "code",
   "execution_count": 46,
   "id": "61a9a523-3bde-4e74-a34c-5d51d9b46645",
   "metadata": {},
   "outputs": [
    {
     "data": {
      "text/plain": [
       "DatetimeIndex(['2010-07-07', '2010-07-08', '2010-07-09', '2010-07-12',\n",
       "               '2010-07-13'],\n",
       "              dtype='datetime64[ns]', freq='B')"
      ]
     },
     "execution_count": 46,
     "metadata": {},
     "output_type": "execute_result"
    }
   ],
   "source": [
    "# So an equivalent way to define the business day offset we saw above would be\n",
    "pd.date_range(\"2010-07-07\", periods=5, freq=BDay())"
   ]
  },
  {
   "cell_type": "markdown",
   "id": "0efb9f7a-ee8c-4344-82e3-61b04e5581e3",
   "metadata": {},
   "source": [
    "Alternatively, we can also use anchored offsets. For example, if we are interested in specific days of the week then we can choose an anchored offset that computes all the dates corresponding to our chosen day of the week. Let’s try it with Friday. The code that we must use is W-FRI so we can write"
   ]
  },
  {
   "cell_type": "code",
   "execution_count": 48,
   "id": "9c6a907b-fbcc-4307-9434-4562f585da7c",
   "metadata": {},
   "outputs": [
    {
     "data": {
      "text/plain": [
       "DatetimeIndex(['2010-07-09', '2010-07-16', '2010-07-23', '2010-07-30',\n",
       "               '2010-08-06', '2010-08-13', '2010-08-20', '2010-08-27',\n",
       "               '2010-09-03', '2010-09-10'],\n",
       "              dtype='datetime64[ns]', freq='W-FRI')"
      ]
     },
     "execution_count": 48,
     "metadata": {},
     "output_type": "execute_result"
    }
   ],
   "source": [
    "# This gives us the dates for 10 consecutive Fridays given our starting date.\n",
    "pd.date_range(\"2010-07-07\", periods=10, freq=\"W-FRI\")"
   ]
  },
  {
   "cell_type": "markdown",
   "id": "e4fe22d8-13a8-4484-b700-e3d161ea17e1",
   "metadata": {},
   "source": [
    "Summary\n",
    "Let’s summarize what we’ve learned in this unit. Here are a few takeaways:\n",
    "\n",
    "* We showed various examples of Timestamp, Timedelta and Period objects from pandas\n",
    "* We showed their associated indexes i.e. DatetimeIndex, TimedeltaIndex and PeriodIndex\n",
    "* We also showed multiple examples of frequencies and offsets used for time series data"
   ]
  },
  {
   "cell_type": "markdown",
   "id": "338df147-c0e2-406d-86de-c1ffe85baaf5",
   "metadata": {},
   "source": [
    "### Shifting and computing first differences\n",
    "Getting the data\n",
    "The data shows market information, from 1984 to 2020, for the share of JPMorgan Chase & Co., the largest bank holding company in the US, which is listed on the New York Stock Exchange. The data is stored in a CSV file called c2_financial_data.csv which can be downloaded from the resources tab of this unit. To import this data into a pandas dataframe we can use the read_csv() function."
   ]
  },
  {
   "cell_type": "code",
   "execution_count": 50,
   "id": "bfaaa51f-fd42-420e-8c1f-0d8b1d775ff5",
   "metadata": {},
   "outputs": [
    {
     "name": "stdout",
     "output_type": "stream",
     "text": [
      "(9137, 6)\n"
     ]
    },
    {
     "data": {
      "text/html": [
       "<div>\n",
       "<style scoped>\n",
       "    .dataframe tbody tr th:only-of-type {\n",
       "        vertical-align: middle;\n",
       "    }\n",
       "\n",
       "    .dataframe tbody tr th {\n",
       "        vertical-align: top;\n",
       "    }\n",
       "\n",
       "    .dataframe thead th {\n",
       "        text-align: right;\n",
       "    }\n",
       "</style>\n",
       "<table border=\"1\" class=\"dataframe\">\n",
       "  <thead>\n",
       "    <tr style=\"text-align: right;\">\n",
       "      <th></th>\n",
       "      <th>Open</th>\n",
       "      <th>High</th>\n",
       "      <th>Low</th>\n",
       "      <th>Close</th>\n",
       "      <th>Adj Close</th>\n",
       "      <th>Volume</th>\n",
       "    </tr>\n",
       "    <tr>\n",
       "      <th>Date</th>\n",
       "      <th></th>\n",
       "      <th></th>\n",
       "      <th></th>\n",
       "      <th></th>\n",
       "      <th></th>\n",
       "      <th></th>\n",
       "    </tr>\n",
       "  </thead>\n",
       "  <tbody>\n",
       "    <tr>\n",
       "      <th>1984-06-01</th>\n",
       "      <td>8.04</td>\n",
       "      <td>8.13</td>\n",
       "      <td>7.83</td>\n",
       "      <td>8.00</td>\n",
       "      <td>1.84</td>\n",
       "      <td>741000.0</td>\n",
       "    </tr>\n",
       "    <tr>\n",
       "      <th>1984-06-04</th>\n",
       "      <td>8.33</td>\n",
       "      <td>8.67</td>\n",
       "      <td>8.17</td>\n",
       "      <td>8.46</td>\n",
       "      <td>1.95</td>\n",
       "      <td>584700.0</td>\n",
       "    </tr>\n",
       "    <tr>\n",
       "      <th>1984-06-05</th>\n",
       "      <td>8.46</td>\n",
       "      <td>8.54</td>\n",
       "      <td>8.25</td>\n",
       "      <td>8.38</td>\n",
       "      <td>1.93</td>\n",
       "      <td>5370300.0</td>\n",
       "    </tr>\n",
       "    <tr>\n",
       "      <th>1984-06-06</th>\n",
       "      <td>8.38</td>\n",
       "      <td>8.54</td>\n",
       "      <td>8.38</td>\n",
       "      <td>8.54</td>\n",
       "      <td>1.97</td>\n",
       "      <td>365700.0</td>\n",
       "    </tr>\n",
       "    <tr>\n",
       "      <th>1984-06-07</th>\n",
       "      <td>8.54</td>\n",
       "      <td>8.58</td>\n",
       "      <td>8.46</td>\n",
       "      <td>8.54</td>\n",
       "      <td>1.97</td>\n",
       "      <td>904800.0</td>\n",
       "    </tr>\n",
       "  </tbody>\n",
       "</table>\n",
       "</div>"
      ],
      "text/plain": [
       "            Open  High   Low  Close  Adj Close     Volume\n",
       "Date                                                     \n",
       "1984-06-01  8.04  8.13  7.83   8.00       1.84   741000.0\n",
       "1984-06-04  8.33  8.67  8.17   8.46       1.95   584700.0\n",
       "1984-06-05  8.46  8.54  8.25   8.38       1.93  5370300.0\n",
       "1984-06-06  8.38  8.54  8.38   8.54       1.97   365700.0\n",
       "1984-06-07  8.54  8.58  8.46   8.54       1.97   904800.0"
      ]
     },
     "execution_count": 50,
     "metadata": {},
     "output_type": "execute_result"
    }
   ],
   "source": [
    "import pandas as pd\n",
    "\n",
    "# load the data\n",
    "data = pd.read_csv(\"c2_financial_data.csv\", index_col=\"Date\")\n",
    "\n",
    "# create the time index\n",
    "data.index = pd.to_datetime(data.index, format=\"%d.%m.%y\")  # Convert the index\n",
    "# Let’s take a look at the top entries\n",
    "print(data.shape)\n",
    "# check the few first rows\n",
    "data.head()\n"
   ]
  },
  {
   "cell_type": "markdown",
   "id": "1a80f794-681c-4610-92f0-6c5d8c8dab56",
   "metadata": {},
   "source": [
    "We can see that the data is indexed by date in the column Date, and there is one entry per business day. The next five columns show prices in the USD currency. The open and close prices are the prices at which the share trades upon the opening and closing of the exchange on a trading day, respectively. Also, the high and low show the highest and lowest traded prices at each trading day. Finally, the adjusted closing price is the closing price after accounting for any corporate actions. The volume in the last column shows the number of shares traded at each business day. Let’s focus on the closing prices."
   ]
  },
  {
   "cell_type": "code",
   "execution_count": 52,
   "id": "0844318c-d788-4638-b64c-6198f1901a28",
   "metadata": {},
   "outputs": [
    {
     "data": {
      "text/plain": [
       "DatetimeIndex(['1984-06-01', '1984-06-04', '1984-06-05', '1984-06-06'], dtype='datetime64[ns]', name='Date', freq=None)"
      ]
     },
     "execution_count": 52,
     "metadata": {},
     "output_type": "execute_result"
    }
   ],
   "source": [
    "prices = data[\"Close\"]\n",
    "prices.index[:4]"
   ]
  },
  {
   "cell_type": "code",
   "execution_count": 53,
   "id": "5ba0e5c4-b6b4-4514-90b7-c2a84853b6aa",
   "metadata": {},
   "outputs": [
    {
     "data": {
      "text/plain": [
       "Date\n",
       "2012-01-03    34.98\n",
       "2012-01-04    34.95\n",
       "2012-01-05    35.68\n",
       "2012-01-06    35.36\n",
       "2012-01-09    35.30\n",
       "2012-01-10    36.05\n",
       "Name: Close, dtype: float64"
      ]
     },
     "execution_count": 53,
     "metadata": {},
     "output_type": "execute_result"
    }
   ],
   "source": [
    "# We can access a slice of data corresponding to the first ten days of the year 2012\n",
    "prices[\"2012-01-01\":\"2012-01-10\"]"
   ]
  },
  {
   "cell_type": "code",
   "execution_count": 54,
   "id": "9dd26c6c-34c9-43e2-993e-a176b18c16f7",
   "metadata": {},
   "outputs": [
    {
     "data": {
      "image/png": "[encoded data removed]",
      "text/plain": [
       "<Figure size 720x360 with 1 Axes>"
      ]
     },
     "metadata": {
      "needs_background": "light"
     },
     "output_type": "display_data"
    }
   ],
   "source": [
    "# We can also visualize the trend of the prices over time\n",
    "%matplotlib inline\n",
    "import matplotlib.pyplot as plt\n",
    "\n",
    "# Set the size of the plot\n",
    "fig = plt.subplots(figsize=(10, 5))\n",
    "\n",
    "# Plot the trend of prices\n",
    "plt.plot(prices)\n",
    "plt.title(\"Daily Prices Over Time\")\n",
    "plt.xlabel(\"Date\")\n",
    "plt.ylabel(\"Daily Prices\")\n",
    "plt.show()"
   ]
  },
  {
   "cell_type": "markdown",
   "id": "8a264592-a3e2-476e-b69f-80c65b02d61c",
   "metadata": {},
   "source": [
    "The plot shows clearly the boom and bust periods and in particular the major market crashes of 2000-2002, 2007-2008, and 2020. This is a common pattern that we often observe for the share prices of large financial institutions as well as the US stock market indexes. We note that the price is not moving around a certain level over time. Instead, it has an increasing trend over time. Moreover, the prices are varying more wildly over certain periods while being very smooth over other periods."
   ]
  },
  {
   "cell_type": "markdown",
   "id": "00dbe3dc-2848-4a37-8c48-fe978dc5d1bc",
   "metadata": {},
   "source": [
    "#### Shifting entries\n",
    "A common practice for time series data is to shift the values backward and forward in time. We can do this using the Pandas function shift() which will shift the values in a Series. Shifting has various applications when working with time series data. For instance, suppose that household electricity consumption of the previous month can predict the current month’s electricity consumption. Then, we need to create a new feature that represents past electricity consumption.\n",
    "\n",
    "Let’s take a small range of prices and name it as Pt that stands for pt, the price at time t."
   ]
  },
  {
   "cell_type": "code",
   "execution_count": 55,
   "id": "9f5a18a1-0d56-4ade-88f1-544cf37fd863",
   "metadata": {},
   "outputs": [
    {
     "data": {
      "text/plain": [
       "Date\n",
       "2019-12-16    137.34\n",
       "2019-12-17    138.18\n",
       "2019-12-18    138.04\n",
       "2019-12-19    137.35\n",
       "2019-12-20    137.24\n",
       "2019-12-23    137.20\n",
       "2019-12-24    137.58\n",
       "2019-12-26    139.04\n",
       "2019-12-27    139.14\n",
       "2019-12-30    138.63\n",
       "Name: Close, dtype: float64"
      ]
     },
     "execution_count": 55,
     "metadata": {},
     "output_type": "execute_result"
    }
   ],
   "source": [
    "Pt = prices[\"2019-12-15\":\"2019-12-30\"]\n",
    "Pt"
   ]
  },
  {
   "cell_type": "code",
   "execution_count": 56,
   "id": "f9565b2d-fa96-468e-b3d4-8b8369d90f66",
   "metadata": {},
   "outputs": [
    {
     "data": {
      "text/plain": [
       "Date\n",
       "2019-12-16       NaN\n",
       "2019-12-17    137.34\n",
       "2019-12-18    138.18\n",
       "2019-12-19    138.04\n",
       "2019-12-20    137.35\n",
       "2019-12-23    137.24\n",
       "2019-12-24    137.20\n",
       "2019-12-26    137.58\n",
       "2019-12-27    139.04\n",
       "2019-12-30    139.14\n",
       "Name: Close, dtype: float64"
      ]
     },
     "execution_count": 56,
     "metadata": {},
     "output_type": "execute_result"
    }
   ],
   "source": [
    "# Now, let’s apply the shift() function on Pt\n",
    "Pt.shift(periods=1)"
   ]
  },
  {
   "cell_type": "markdown",
   "id": "d4b1b7eb-b14d-4a68-a4dd-4f057091bc9e",
   "metadata": {},
   "source": [
    "By periods we can set the number of periods to shift the data. The default value is 1 and it can be positive or negative. As we can see, all prices were moved forward one period. So for each day, we now see the price from the previous day in our series. As a result, the last price (138.63) has been dropped, while the first price is now NaN. A shift forward in time is called a lag, and a shift backward in time is called a lead. Similarly, if we want to shift the entries backward, we can just pass a negative number to the function."
   ]
  },
  {
   "cell_type": "code",
   "execution_count": 57,
   "id": "6474dd7c-ef4c-4165-89e6-251df219902d",
   "metadata": {},
   "outputs": [
    {
     "data": {
      "text/plain": [
       "Date\n",
       "2019-12-16    138.18\n",
       "2019-12-17    138.04\n",
       "2019-12-18    137.35\n",
       "2019-12-19    137.24\n",
       "2019-12-20    137.20\n",
       "2019-12-23    137.58\n",
       "2019-12-24    139.04\n",
       "2019-12-26    139.14\n",
       "2019-12-27    138.63\n",
       "2019-12-30       NaN\n",
       "Name: Close, dtype: float64"
      ]
     },
     "execution_count": 57,
     "metadata": {},
     "output_type": "execute_result"
    }
   ],
   "source": [
    "Pt.shift(-1)"
   ]
  },
  {
   "cell_type": "code",
   "execution_count": 58,
   "id": "70edca3c-d660-4f73-822f-a1962cf81056",
   "metadata": {},
   "outputs": [
    {
     "name": "stdout",
     "output_type": "stream",
     "text": [
      "              Pt+1      Pt    Pt-1    Pt-2\n",
      "Date                                      \n",
      "2019-12-16  138.18  137.34     NaN     NaN\n",
      "2019-12-17  138.04  138.18  137.34     NaN\n",
      "2019-12-18  137.35  138.04  138.18  137.34\n",
      "2019-12-19  137.24  137.35  138.04  138.18\n",
      "2019-12-20  137.20  137.24  137.35  138.04\n",
      "2019-12-23  137.58  137.20  137.24  137.35\n",
      "2019-12-24  139.04  137.58  137.20  137.24\n",
      "2019-12-26  139.14  139.04  137.58  137.20\n",
      "2019-12-27  138.63  139.14  139.04  137.58\n",
      "2019-12-30     NaN  138.63  139.14  139.04\n"
     ]
    }
   ],
   "source": [
    "p = pd.concat([Pt.shift(-1), Pt, Pt.shift(1), Pt.shift(2)], axis=1)\n",
    "p.columns = [\"Pt+1\", \"Pt\", \"Pt-1\", \"Pt-2\"]\n",
    "print(p)"
   ]
  },
  {
   "cell_type": "code",
   "execution_count": 59,
   "id": "1fe389ab-2b2e-41a7-a715-cda8576b6333",
   "metadata": {},
   "outputs": [
    {
     "data": {
      "image/png": "[encoded data removed]",
      "text/plain": [
       "<Figure size 576x288 with 1 Axes>"
      ]
     },
     "metadata": {
      "needs_background": "light"
     },
     "output_type": "display_data"
    }
   ],
   "source": [
    "# Let’s visualize the effect of the shifts on our time series using pandas.\n",
    "Pt.plot(figsize=(8, 3), label=\"original, Pt\")\n",
    "Pt.shift(-1, freq=\"D\").plot(figsize=(8, 4), label=\"backward, Pt+1\")\n",
    "Pt.shift(1, freq=\"D\").plot(figsize=(8, 4), label=\"forward, Pt-1\")\n",
    "plt.title(\"presentation of lag and lead prices versus original prices\")\n",
    "plt.legend()\n",
    "plt.show()"
   ]
  },
  {
   "cell_type": "markdown",
   "id": "d98e9a17-f18f-4f89-a4d8-fdb46b9f27a6",
   "metadata": {},
   "source": [
    "The shift() function moves the data up or down regardless of the index. This can cause problems if the indices are not ordered chronologically."
   ]
  },
  {
   "cell_type": "markdown",
   "id": "cca84fe3-2987-44b0-aa79-1084e1438265",
   "metadata": {},
   "source": [
    "#### Example - Analyzing the first difference\n",
    "\n",
    "So how can we use shifting/lagging to help us analyze our data? A common practice is to calculate what is known as the first difference of the Series. This is obtained by subtracting the previous time value from the current time value, .Let’s do this for our prices and take a look at its plot (see also the diff() function in the Appendix)."
   ]
  },
  {
   "cell_type": "code",
   "execution_count": 60,
   "id": "d587800f-fc8e-4579-9f71-bfd6e1683d7d",
   "metadata": {},
   "outputs": [
    {
     "data": {
      "image/png": "[encoded data removed]",
      "text/plain": [
       "<Figure size 1080x288 with 2 Axes>"
      ]
     },
     "metadata": {
      "needs_background": "light"
     },
     "output_type": "display_data"
    }
   ],
   "source": [
    "# Compute first difference\n",
    "diff = prices - prices.shift(1)\n",
    "\n",
    "# the subplot on the left\n",
    "plt.subplot(121)\n",
    "diff.plot(figsize=(15, 4))\n",
    "plt.title(\"Daily changes plotted over time\")\n",
    "plt.ylabel(\"Day-to-day change ($)\")\n",
    "\n",
    "# the subplot on the right\n",
    "plt.subplot(122)\n",
    "diff.hist(figsize=(15, 4), bins=100, grid=False)\n",
    "plt.title(\"Distribution of Daily Changes\")\n",
    "plt.xlabel(\"Day-to-day change ($)\")\n",
    "\n",
    "plt.show()"
   ]
  },
  {
   "cell_type": "markdown",
   "id": "08d9dd86-cfd8-4605-af35-3dca5e467bcb",
   "metadata": {},
   "source": [
    "What can we notice here? Well, the points are more or less centered around 0. This is no surprise as the up and downs in the prices tend to cancel out each other. Also, the variations in the price changes are higher in certain periods. The histogram on the right shows that price changes tend to have a bell-shaped distribution but due to some extreme values in both sides, the tails of the histogram are more extended in both sides to -15 and +15. Statistically speaking such distribution has heavy tails compared to the standard normal distribution.\n",
    "\n",
    "However, investors are interested in gains or losses per unit of investment. Therefore, we should look at returns or the day-to-day changes expressed in percent, 100*\n",
    "(p_t-p_t-1)/p_t-1"
   ]
  },
  {
   "cell_type": "code",
   "execution_count": 62,
   "id": "e0aec887-a9dd-482e-a62d-2024ec78fe88",
   "metadata": {},
   "outputs": [
    {
     "data": {
      "image/png": "[encoded data removed]",
      "text/plain": [
       "<Figure size 1008x288 with 3 Axes>"
      ]
     },
     "metadata": {
      "needs_background": "light"
     },
     "output_type": "display_data"
    }
   ],
   "source": [
    "# Compute daily returns: divide the first difference by the price in the previous day\n",
    "daily_percentage_change = 100 * diff / prices.shift(1)\n",
    "\n",
    "# drop the first value which is NaN\n",
    "daily_percentage_change.dropna(inplace=True)\n",
    "\n",
    "# Plot the results and original prices together\n",
    "# initialize two subplots in 1 row and two columns. Also specify the width of each plot\n",
    "fig, ax1 = plt.subplots(1, 2, figsize=(14, 4), gridspec_kw={\"width_ratios\": [3, 1]})\n",
    "\n",
    "# subplot for daily_percentage_change\n",
    "color = \"tab:blue\"\n",
    "ax1[0].set_xlabel(\"Date\")\n",
    "ax1[0].set_ylabel(\"Daily returns (%)\", color=color)\n",
    "ax1[0].plot(daily_percentage_change, color=color)\n",
    "ax1[0].tick_params(axis=\"y\", labelcolor=color)\n",
    "\n",
    "# Create twin axes, so they can share the same xaxis, i.e. Dates\n",
    "ax2 = ax1[0].twinx()\n",
    "\n",
    "# daily prices on the same subplot\n",
    "color = \"tab:red\"\n",
    "ax2.set_ylabel(\"Daily Prices\", color=color)\n",
    "ax2.plot(prices, color=color)\n",
    "ax2.tick_params(axis=\"y\", labelcolor=color)\n",
    "\n",
    "plt.title(\"Daily Returns and Prices\")\n",
    "\n",
    "# create the second subplot which is the histogram of daily_percentage_change\n",
    "ax1[1].hist(daily_percentage_change, bins=50, orientation=\"horizontal\")\n",
    "ax1[1].set_title(\"Distribution of Daily Returns\")\n",
    "\n",
    "fig.tight_layout()\n",
    "plt.show()"
   ]
  },
  {
   "cell_type": "markdown",
   "id": "c3ae0697-cda8-4381-8f3d-d4d1bb667edb",
   "metadata": {},
   "source": [
    "The plot on the left reveals several interesting facts about the returns (blue, left axis) and prices (red, right axis). Changes in the returns are extremely high during the market crashes, namely, the Black Monday 1987, dot-com bubble around 2000, financial crisis 2007-08 and the recent market turmoils due to COVID19. During the remaining times, the changes are relatively smaller. In other words, large price changes tend to be followed by large price changes, and small price changes tend to be followed by small price changes. This phenomenon is called volatility clustering. The histogram on the right shows the distribution of returns which is similar to the Normal distribution except that tails are extended in both sides due to extreme observations."
   ]
  },
  {
   "cell_type": "markdown",
   "id": "6f06fa18-0157-4b04-9d48-43e29677012a",
   "metadata": {},
   "source": [
    "#### Example - Return on Investment\n",
    "The example above shows the day to day gains and losses of investing in the stock. We can also use shifting to compute the one-year return on investments by changing the number of lags to 1 year instead of 1 day. It is a convention to use 260 days (i.e. 52 weeks with 5 days in each week) as the number of business days in each year. So we use 260 as the lag number in order to calculate the gains or losses incurred by an investment made 1 year earlier. For demonstration purposes, we plot only the recent periods."
   ]
  },
  {
   "cell_type": "code",
   "execution_count": 63,
   "id": "58fdb610-12bd-4969-bfd9-a37780f1d7a9",
   "metadata": {},
   "outputs": [
    {
     "data": {
      "image/png": "[encoded data removed]",
      "text/plain": [
       "<Figure size 576x288 with 1 Axes>"
      ]
     },
     "metadata": {
      "needs_background": "light"
     },
     "output_type": "display_data"
    }
   ],
   "source": [
    "# Net profit over a year (in working days)\n",
    "net_profit = prices - prices.shift(260)\n",
    "\n",
    "# Return on Investment\n",
    "roi = 100 * net_profit / prices.shift(260)\n",
    "\n",
    "# Plot result\n",
    "roi[\"2019-09-01\":\"2020-08-28\"].plot(figsize=(8, 4))\n",
    "plt.ylabel(\"Return on Investment\")\n",
    "plt.show()"
   ]
  },
  {
   "cell_type": "markdown",
   "id": "dec1069b-3e06-4561-86c3-3a9cc56f3e6f",
   "metadata": {},
   "source": [
    "Let’s summarize what we’ve learned in this unit. Here are a few takeaways:\n",
    "\n",
    "* We showed stock prices as a real example of time series data and explored the time index of the data\n",
    "* We showed how to create lagged time series data and worked out several examples"
   ]
  },
  {
   "cell_type": "markdown",
   "id": "13a8dc37-9872-4b24-80bd-d10df31c3ab0",
   "metadata": {},
   "source": [
    "#### Appendix\n",
    "The Pandas diff(1) function performs the same job as the prices - prices.shift(1)\n"
   ]
  },
  {
   "cell_type": "code",
   "execution_count": 64,
   "id": "52e60455-e0cb-4d93-8667-fd7654bedd1e",
   "metadata": {},
   "outputs": [
    {
     "data": {
      "text/plain": [
       "Date\n",
       "2019-12-16     NaN\n",
       "2019-12-17    0.84\n",
       "2019-12-18   -0.14\n",
       "2019-12-19   -0.69\n",
       "2019-12-20   -0.11\n",
       "2019-12-23   -0.04\n",
       "2019-12-24    0.38\n",
       "2019-12-26    1.46\n",
       "2019-12-27    0.10\n",
       "2019-12-30   -0.51\n",
       "Name: Close, dtype: float64"
      ]
     },
     "execution_count": 64,
     "metadata": {},
     "output_type": "execute_result"
    }
   ],
   "source": [
    "Pt.diff(1)\n"
   ]
  },
  {
   "cell_type": "code",
   "execution_count": 65,
   "id": "243ec2af-a9fc-466d-9ff4-237b6b1126a0",
   "metadata": {},
   "outputs": [
    {
     "data": {
      "text/plain": [
       "Date\n",
       "2019-12-16     NaN\n",
       "2019-12-17    0.84\n",
       "2019-12-18   -0.14\n",
       "2019-12-19   -0.69\n",
       "2019-12-20   -0.11\n",
       "2019-12-23   -0.04\n",
       "2019-12-24    0.38\n",
       "2019-12-26    1.46\n",
       "2019-12-27    0.10\n",
       "2019-12-30   -0.51\n",
       "Name: Close, dtype: float64"
      ]
     },
     "execution_count": 65,
     "metadata": {},
     "output_type": "execute_result"
    }
   ],
   "source": [
    "Pt - Pt.shift(1)"
   ]
  },
  {
   "cell_type": "markdown",
   "id": "4d557bd0-dff0-45c6-8e4a-917b18dd3451",
   "metadata": {},
   "source": [
    "Also, using the Pandas function pct_change(1) we can calculate the price changes as prices.pct_change(1). This will produce the same results as (prices - prices.shift(1))/prices.shift(1)."
   ]
  },
  {
   "cell_type": "markdown",
   "id": "4a97c62a-3741-4a81-94a4-625457046079",
   "metadata": {},
   "source": [
    "The shift() function has an input parameter freq. When we do not specify any input for this parameter, as in all the examples so far, the data values (here prices) are not attached to the data index (here dates). This means that with Pt.shift(1) we drop the last price out of the dataset (see below). However, if we specify the input parameter freq as in Pt.shift(1, freq='B') which means shifting forward by 1 business day, the prices are aligned with the dates and thus will not be dropped. Notice that in this case (see below) a new business day 2019-12-31 is created at the end of the dataframe Pt and the previous price is attached to it. You also notice that the NaN value for date 2019-12-16 is dropped in this case (see following figures)."
   ]
  },
  {
   "cell_type": "code",
   "execution_count": 66,
   "id": "9148ac26-3186-48d0-a065-e3e63d7c0da7",
   "metadata": {},
   "outputs": [
    {
     "data": {
      "text/plain": [
       "Date\n",
       "2019-12-16    137.34\n",
       "2019-12-17    138.18\n",
       "2019-12-18    138.04\n",
       "2019-12-19    137.35\n",
       "2019-12-20    137.24\n",
       "2019-12-23    137.20\n",
       "2019-12-24    137.58\n",
       "2019-12-26    139.04\n",
       "2019-12-27    139.14\n",
       "2019-12-30    138.63\n",
       "Name: Close, dtype: float64"
      ]
     },
     "execution_count": 66,
     "metadata": {},
     "output_type": "execute_result"
    }
   ],
   "source": [
    "Pt"
   ]
  },
  {
   "cell_type": "code",
   "execution_count": 67,
   "id": "93a49c7a-7768-47ca-9b57-aea661d0ac44",
   "metadata": {},
   "outputs": [
    {
     "data": {
      "text/plain": [
       "Date\n",
       "2019-12-16       NaN\n",
       "2019-12-17    137.34\n",
       "2019-12-18    138.18\n",
       "2019-12-19    138.04\n",
       "2019-12-20    137.35\n",
       "2019-12-23    137.24\n",
       "2019-12-24    137.20\n",
       "2019-12-26    137.58\n",
       "2019-12-27    139.04\n",
       "2019-12-30    139.14\n",
       "Name: Close, dtype: float64"
      ]
     },
     "execution_count": 67,
     "metadata": {},
     "output_type": "execute_result"
    }
   ],
   "source": [
    "Pt.shift(1)"
   ]
  },
  {
   "cell_type": "markdown",
   "id": "25bbc116-12fd-4865-be93-516d331fcec0",
   "metadata": {},
   "source": [
    "The result shows that the original price of 138.63 for 2019-12-30 has been dropped, whereas the following code moves it to the next date: 2019-12-31."
   ]
  },
  {
   "cell_type": "code",
   "execution_count": 68,
   "id": "abf4e4f2-3b9e-4495-8df0-a1020bccb033",
   "metadata": {},
   "outputs": [
    {
     "data": {
      "text/plain": [
       "Date\n",
       "2019-12-17    137.34\n",
       "2019-12-18    138.18\n",
       "2019-12-19    138.04\n",
       "2019-12-20    137.35\n",
       "2019-12-23    137.24\n",
       "2019-12-24    137.20\n",
       "2019-12-25    137.58\n",
       "2019-12-27    139.04\n",
       "2019-12-30    139.14\n",
       "2019-12-31    138.63\n",
       "Name: Close, dtype: float64"
      ]
     },
     "execution_count": 68,
     "metadata": {},
     "output_type": "execute_result"
    }
   ],
   "source": [
    "Pt.shift(1, freq=\"B\")"
   ]
  },
  {
   "cell_type": "markdown",
   "id": "30dd6c6c-57f1-445a-b5a8-781fe15b910d",
   "metadata": {},
   "source": [
    "The shift() method can be used for any type of index. By using an arbitrary index we show that it is indeed the data that moves not the index."
   ]
  },
  {
   "cell_type": "code",
   "execution_count": 69,
   "id": "9c9a77d8-ff5e-418a-941b-54326bc69e50",
   "metadata": {},
   "outputs": [
    {
     "data": {
      "text/plain": [
       "4        1\n",
       "Tokyo    2\n",
       "blue     t\n",
       "dog      4\n",
       "dtype: object"
      ]
     },
     "execution_count": 69,
     "metadata": {},
     "output_type": "execute_result"
    }
   ],
   "source": [
    "data = [1, 2, \"t\", 4]\n",
    "indices = [4, \"Tokyo\", \"blue\", \"dog\"]\n",
    "s = pd.Series(data, indices)\n",
    "s"
   ]
  },
  {
   "cell_type": "code",
   "execution_count": 70,
   "id": "837ed7c1-826c-4600-a214-b9972e7cd08f",
   "metadata": {},
   "outputs": [
    {
     "data": {
      "text/plain": [
       "4        NaN\n",
       "Tokyo      1\n",
       "blue       2\n",
       "dog        t\n",
       "dtype: object"
      ]
     },
     "execution_count": 70,
     "metadata": {},
     "output_type": "execute_result"
    }
   ],
   "source": [
    "s.shift(1)"
   ]
  },
  {
   "cell_type": "code",
   "execution_count": null,
   "id": "b1527163-280e-42da-a0b4-c22610372482",
   "metadata": {},
   "outputs": [],
   "source": []
  }
 ],
 "metadata": {
  "kernelspec": {
   "display_name": "Python [conda env:adsml] *",
   "language": "python",
   "name": "conda-env-adsml-py"
  },
  "language_info": {
   "codemirror_mode": {
    "name": "ipython",
    "version": 3
   },
   "file_extension": ".py",
   "mimetype": "text/x-python",
   "name": "python",
   "nbconvert_exporter": "python",
   "pygments_lexer": "ipython3",
   "version": "3.9.7"
  }
 },
 "nbformat": 4,
 "nbformat_minor": 5
}
