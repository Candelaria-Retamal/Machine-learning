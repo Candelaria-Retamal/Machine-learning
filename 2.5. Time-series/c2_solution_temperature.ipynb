{
 "cells": [
  {
   "cell_type": "markdown",
   "metadata": {},
   "source": [
    "Swiss Temperature Data\n",
    "---\n",
    "\n",
    "In this exercise we use [Swiss temperature data](https://www.meteoswiss.admin.ch/home/climate/swiss-climate-in-detail/Swiss-temperature-mean/Data-on-the-Swiss-temperature-mean.html) which describes the average temperature measured across various altitudes in Switzerland. The measurement has been available in monthly frequency since 1864 and is continuously updated with the most recent values. The objective is to explore the application of `period_range` with real data.\n",
    "\n",
    "\n",
    "Create a date column with `period_range`  by going through the following steps:\n",
    "\n",
    "1. Load the data from the file `c2_10.18751-Climate-Timeseries-CHTM-1.1-swiss.txt` in the Resource tab into a dataframe using the `time` column as the index. Check the shape and the data in order to answer the following __questions__. \n",
    "\n",
    "    - Are all years from 1864 to 2020 present in the data?\n",
    "    - Are all months present in the data? \n",
    "\n",
    "__Remark__: If you open the txt file in a text editor or JupyterLab you can see that the actual table with the data is preceded by a few lines of meta data. The parameter `skiprows` in the `read_csv()` function might help."
   ]
  },
  {
   "cell_type": "code",
   "execution_count": null,
   "metadata": {},
   "outputs": [],
   "source": [
    "import pandas as pd\n",
    "import numpy as np\n",
    "import matplotlib.pyplot as plt\n",
    "\n",
    "data = pd.read_csv(\n",
    "    \"c2_10.18751-Climate-Timeseries-CHTM-1.1-swiss.txt\",\n",
    "    index_col=\"time\",\n",
    "    sep=\"\\t\",\n",
    "    skiprows=15,\n",
    ")\n",
    "\n",
    "# Print the shape of the dataframe\n",
    "print(\"Data shape: {}\\n\".format(data.shape))\n",
    "\n",
    "print(\"First 5 years\")\n",
    "display(data.head())\n",
    "\n",
    "print(\"Last 5 years\")\n",
    "display(data.tail())"
   ]
  },
  {
   "cell_type": "markdown",
   "metadata": {},
   "source": [
    "__Answers__:\n",
    "- Yes, there are 157 rows representing yearly data from 1864 to 2020.\n",
    "- We can see that the data stops after August 2020."
   ]
  },
  {
   "cell_type": "markdown",
   "metadata": {},
   "source": [
    "2. Select all the columns containing monthly data."
   ]
  },
  {
   "cell_type": "code",
   "execution_count": null,
   "metadata": {},
   "outputs": [],
   "source": [
    "# Select the first 12 columns\n",
    "data_m = data.loc[:, \"jan\":\"dec\"]\n",
    "data_m.head()"
   ]
  },
  {
   "cell_type": "markdown",
   "metadata": {},
   "source": [
    "3. We would like to build a new __dataframe__ with new __index__ and __columns__ 'Year', 'Month' and 'Temp', where each row represents a month:\n",
    "    - use `stack()` to create the new dataframe (see the [documentation](https://pandas.pydata.org/pandas-docs/stable/reference/api/pandas.DataFrame.stack.html)  and examples therein). `stack()`  is a useful function for recreating dataframes and integrates the columns as part of the index. In fact, we get a multiIndex dataframe with the year as level=0 and the month as level=1.\n",
    "    - reset the index of the new dataframe.\n",
    "    - finally, give new names to the columns of the dataframe (see [documentation](https://pandas.pydata.org/pandas-docs/stable/reference/api/pandas.DataFrame.rename.html) for how to change the name of columns).\n",
    "    <br>You can do these three steps together in a single line or separately."
   ]
  },
  {
   "cell_type": "code",
   "execution_count": null,
   "metadata": {},
   "outputs": [],
   "source": [
    "# Put the temperature values in a single chronologicaly ordered column\n",
    "df = data_m.stack().reset_index().rename(columns={0: \"Temp\",\n",
    "                                                  \"time\": \"Year\",\n",
    "                                                  \"level_1\": \"Month\"})"
   ]
  },
  {
   "cell_type": "markdown",
   "metadata": {},
   "source": [
    "Your final dataframe should look like this:"
   ]
  },
  {
   "cell_type": "code",
   "execution_count": null,
   "metadata": {},
   "outputs": [],
   "source": [
    "df.head()"
   ]
  },
  {
   "cell_type": "markdown",
   "metadata": {},
   "source": [
    "4.  Create a date column `df['Date']` using `period_range`. Note that `period_range` requires setting several parameters. In particular, of the three parameters `start`, `end`, and `periods` exactly two must be specified. Finally, you need to specify the frequency parameter `freq`. Your data are in monthly frequency and you can find the appropriate frequency strings from [here](https://pandas.pydata.org/pandas-docs/stable/user_guide/timeseries.html#offset-aliases).\n",
    "<br>You should set the `start` to be the first month e.g. '1864-jan'. You can ignore the end but then you have to specify the number of `periods`, here total number of months."
   ]
  },
  {
   "cell_type": "code",
   "execution_count": null,
   "metadata": {},
   "outputs": [],
   "source": [
    "# create dates\n",
    "df[\"Date\"] = pd.period_range(\"1864-jan\", periods=df.shape[0], freq=\"M\")\n",
    "\n",
    "df.head()"
   ]
  },
  {
   "cell_type": "markdown",
   "metadata": {},
   "source": [
    "5. Set the `Date` column as your new index."
   ]
  },
  {
   "cell_type": "code",
   "execution_count": null,
   "metadata": {},
   "outputs": [],
   "source": [
    "# set the Date to be the index of the dataframe\n",
    "df.set_index(\"Date\", inplace=True)\n",
    "\n",
    "df.head()"
   ]
  },
  {
   "cell_type": "markdown",
   "metadata": {},
   "source": [
    "6. Finally plot the monthly temperatures. You should get the following plot:"
   ]
  },
  {
   "cell_type": "code",
   "execution_count": null,
   "metadata": {},
   "outputs": [],
   "source": [
    "df.Temp.plot(figsize=(18, 4))\n",
    "plt.title(\"Average monthly temperature over time\")\n",
    "plt.show()"
   ]
  },
  {
   "cell_type": "markdown",
   "metadata": {},
   "source": [
    "__Question__: What can you observe in this plot? What is hard to observe from the current plot?\n",
    "\n",
    "__Answer__: \n",
    "There is a cyclical trend in the monthly temperatures. The repetitive peaks show the month with highest temperature at each year (often July) and the repetitive minimum values show the month with the lowest temperature each year (often January). However, it is not possible to see the changes within each year and difficult to see changes within and also over decades."
   ]
  },
  {
   "cell_type": "markdown",
   "metadata": {},
   "source": [
    "You might have noticed that the plot with monthly temperature is not very informative to see the trend of the temperature over the last two centuries. It will be easier to look at the average annual temperature.\n",
    "\n",
    "7. Use `groupby()` to calculate the average annual temperatures and plot them over time."
   ]
  },
  {
   "cell_type": "code",
   "execution_count": null,
   "metadata": {},
   "outputs": [],
   "source": [
    "df.groupby(\"Year\")[\"Temp\"].mean().plot(figsize=(18, 4))\n",
    "plt.title(\"Average annual temperature over time\")\n",
    "plt.show()"
   ]
  },
  {
   "cell_type": "markdown",
   "metadata": {},
   "source": [
    "__Questions__: \n",
    "- If you consider the average annual temperature decade by decade, what do you observe?\n",
    "- What do you observe if you compare the data of the first 100 years with the data of the last 50 years?\n",
    "\n",
    "__Answers__: \n",
    "- We can observe the up and downs within each decade.\n",
    "- The data of the first 100 years varies around the 4 degree mark, but is steay over time. In contrast, we can see an upward trend over the last 50 years."
   ]
  },
  {
   "cell_type": "markdown",
   "metadata": {},
   "source": [
    "****\n",
    "__The case of missing values in the data__: \n",
    "Note that we could use  `period_range` easily as described above because we already knew that there is no missing month in the data. However, in case a month is missing the entire row will be dropped out when we stack the data which makes our final column `Date` misaligned (try this by deleting a value from the original data set and go through the steps and see the difference). There are two solutions (see below) when we know that there might be missing values in the data set:\n",
    "\n",
    "- In step 3, set `dropna=False` when you stack the data `data_m.stack(dropna=False)`, and follow the next steps. By this we tell the stack function to keep the column with the missing value and let it to appear as a row with `NaN` value.\n",
    "- In step 4, instead of using `period_range` to create dates, define a date column by using `df['Date']  = df['Year'].astype('str')+'-'+df['Month']`, and follow the next steps. \n",
    "\n",
    "In the first solution, the temporal order of the data remains in place and missing values appear as `NaN`s in front of their corresponding dates and you can see the gaps in the plot. However, in the second solution the chronological order of data will change in the sense that the months with missing temperature will not appear in the data and the plot."
   ]
  }
 ],
 "metadata": {
  "kernelspec": {
   "display_name": "Python 3 (ipykernel)",
   "language": "python",
   "name": "python3"
  },
  "language_info": {
   "codemirror_mode": {
    "name": "ipython",
    "version": 3
   },
   "file_extension": ".py",
   "mimetype": "text/x-python",
   "name": "python",
   "nbconvert_exporter": "python",
   "pygments_lexer": "ipython3",
   "version": "3.9.7"
  }
 },
 "nbformat": 4,
 "nbformat_minor": 4
}
