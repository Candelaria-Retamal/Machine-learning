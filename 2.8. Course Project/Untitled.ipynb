{
 "cells": [
  {
   "cell_type": "code",
   "execution_count": 1,
   "id": "913658da-bb9e-4875-8243-804416d3096d",
   "metadata": {},
   "outputs": [
    {
     "name": "stdout",
     "output_type": "stream",
     "text": [
      "[1] 2 1 3\n"
     ]
    }
   ],
   "source": []
  },
  {
   "cell_type": "code",
   "execution_count": 7,
   "id": "911ab04b-ec37-4388-b546-1b4f1eae600c",
   "metadata": {},
   "outputs": [
    {
     "name": "stdout",
     "output_type": "stream",
     "text": [
      "\n",
      "  There is a binary version available but the source version is later:\n",
      "       binary source needs_compilation\n",
      "lavaan  0.6-8 0.6-12             FALSE\n",
      "\n"
     ]
    },
    {
     "name": "stderr",
     "output_type": "stream",
     "text": [
      "installing the source package 'lavaan'\n",
      "\n",
      "Warning message in install.packages(\"lavaan\", dependencies = TRUE):\n",
      "\"installation of package 'lavaan' had non-zero exit status\""
     ]
    }
   ],
   "source": []
  },
  {
   "cell_type": "code",
   "execution_count": 3,
   "id": "05626143-9e7c-4029-ac8c-1eb30c0f261a",
   "metadata": {},
   "outputs": [
    {
     "name": "stdout",
     "output_type": "stream",
     "text": [
      "\n",
      "  There is a binary version available but the source version is later:\n",
      "       binary source needs_compilation\n",
      "lavaan  0.6-8 0.6-12             FALSE\n",
      "\n"
     ]
    },
    {
     "name": "stderr",
     "output_type": "stream",
     "text": [
      "installing the source package 'lavaan'\n",
      "\n",
      "Warning message in install.packages(\"lavaan\"):\n",
      "\"installation of package 'lavaan' had non-zero exit status\""
     ]
    }
   ],
   "source": []
  },
  {
   "cell_type": "code",
   "execution_count": 1,
   "id": "2ecf76e8-3bbd-4312-8928-36917827e22e",
   "metadata": {},
   "outputs": [
    {
     "ename": "ERROR",
     "evalue": "Error in library(lavaan): there is no package called 'lavaan'\n",
     "output_type": "error",
     "traceback": [
      "Error in library(lavaan): there is no package called 'lavaan'\nTraceback:\n",
      "1. library(lavaan)"
     ]
    }
   ],
   "source": []
  },
  {
   "cell_type": "code",
   "execution_count": null,
   "id": "1e7d3041-64c2-4c10-9448-13de4bcb2245",
   "metadata": {},
   "outputs": [],
   "source": []
  }
 ],
 "metadata": {
  "kernelspec": {
   "display_name": "R",
   "language": "R",
   "name": "ir"
  },
  "language_info": {
   "codemirror_mode": "r",
   "file_extension": ".r",
   "mimetype": "text/x-r-source",
   "name": "R",
   "pygments_lexer": "r",
   "version": "3.6.1"
  }
 },
 "nbformat": 4,
 "nbformat_minor": 5
}
