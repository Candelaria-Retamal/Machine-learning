{
 "cells": [
  {
   "cell_type": "markdown",
   "id": "bf4a6ca3-2d84-4d16-b708-d15cf43b1806",
   "metadata": {},
   "source": [
    "### Loading MNIST data\n",
    "First, let’s start by loading the images and labels from the mnist-6k.npz file into an mnist dictionary.\n",
    "\n"
   ]
  },
  {
   "cell_type": "code",
   "execution_count": 1,
   "id": "d6fb6148-4ff4-48c9-8d14-133401aa8f1c",
   "metadata": {},
   "outputs": [
    {
     "data": {
      "text/plain": [
       "{'data': array([[0, 0, 0, ..., 0, 0, 0],\n",
       "        [0, 0, 0, ..., 0, 0, 0],\n",
       "        [0, 0, 0, ..., 0, 0, 0],\n",
       "        ...,\n",
       "        [0, 0, 0, ..., 0, 0, 0],\n",
       "        [0, 0, 0, ..., 0, 0, 0],\n",
       "        [0, 0, 0, ..., 0, 0, 0]], dtype=uint8),\n",
       " 'labels': array([5, 0, 4, ..., 8, 6, 9])}"
      ]
     },
     "execution_count": 1,
     "metadata": {},
     "output_type": "execute_result"
    }
   ],
   "source": [
    "import numpy as np\n",
    "\n",
    "# Load data\n",
    "with np.load(\"c4_mnist-6k.npz\", allow_pickle=False) as npz_file:\n",
    "    # Load items into a dictionary\n",
    "    mnist = dict(npz_file.items())\n",
    "\n",
    "mnist"
   ]
  },
  {
   "cell_type": "markdown",
   "id": "253d4b41-d4b2-41e7-ac8d-57f52f497319",
   "metadata": {},
   "source": [
    "The dictionary contains a data entry with the pixel values of the 6,000 images and a labels one with their target values.\n",
    "\n",
    "We will train our model on 5,000 train images, monitor the training process with a validation set of 500 images and use the 500 remaining ones to get a final test score.\n",
    "\n"
   ]
  },
  {
   "cell_type": "code",
   "execution_count": 2,
   "id": "ee5eb5d7-96d3-4b97-b9eb-eedacccf635e",
   "metadata": {},
   "outputs": [
    {
     "name": "stdout",
     "output_type": "stream",
     "text": [
      "Train: (5000, 784) (5000,)\n",
      "Validation: (500, 784) (500,)\n",
      "Test: (500, 784) (500,)\n"
     ]
    }
   ],
   "source": [
    "from sklearn.model_selection import train_test_split\n",
    "\n",
    "# Create train/test sets\n",
    "X_train, X_test, y_train, y_test = train_test_split(\n",
    "    # Convert uint8 pixel values to float\n",
    "    mnist[\"data\"].astype(np.float32),\n",
    "    mnist[\"labels\"],\n",
    "    test_size=1000,\n",
    "    random_state=0,\n",
    ")\n",
    "\n",
    "# Split again into validation/test sets\n",
    "X_valid, X_test, y_valid, y_test = train_test_split(\n",
    "    X_test, y_test, test_size=500, random_state=0\n",
    ")\n",
    "\n",
    "print(\"Train:\", X_train.shape, y_train.shape)\n",
    "print(\"Validation:\", X_valid.shape, y_valid.shape)\n",
    "print(\"Test:\", X_test.shape, y_test.shape)"
   ]
  },
  {
   "cell_type": "markdown",
   "id": "45a59289-55ca-47e5-9a0e-09be03651475",
   "metadata": {},
   "source": [
    "We split the data into train, validation and test sets by calling the train_test_split() function twice. The first time to extract a train set and the second time to separate the remaining images into validation and test sets. Note that we convert the pixel values to floating point numbers with the astype() function. That way, we won’t get warnings if we need to standardize X_train, X_valid or X_test later.\n",
    "\n",
    "#### Softmax network\n",
    "Let’s define our neural network. First, we need to initialize the model parameters."
   ]
  },
  {
   "cell_type": "code",
   "execution_count": 3,
   "id": "c187159b-adbf-4061-a797-57af371b1ea2",
   "metadata": {},
   "outputs": [],
   "source": [
    "import tensorflow as tf\n",
    "\n",
    "# Initialize network parameters\n",
    "W = tf.Variable(initial_value=tf.zeros(shape=[784, 10]))\n",
    "b = tf.Variable(initial_value=tf.zeros(shape=[10]))"
   ]
  },
  {
   "cell_type": "markdown",
   "id": "c54e5fd1-feaf-4f2d-8c1f-2cf86e7f534c",
   "metadata": {},
   "source": [
    "This code is similar to what we saw in the previous unit. We create the two variables and set their initial values with the initial_value parameter. We create a \n",
    "(784,10)matrix of zeros for the weights matrix using the zeros() function from TensorFlow. Similarly, we create a (10) vector of zeros for the biases vector.\n",
    "\n",
    "Let’s now convert out training data into tensors in order to feed it to our TensorFlow network.\n",
    "\n"
   ]
  },
  {
   "cell_type": "code",
   "execution_count": 4,
   "id": "1ea58589-48fd-43a1-8d15-eb531a207030",
   "metadata": {},
   "outputs": [],
   "source": [
    "# Create input/target tensors\n",
    "X = tf.constant(X_train)\n",
    "y = tf.constant(y_train)"
   ]
  },
  {
   "cell_type": "code",
   "execution_count": 5,
   "id": "cac9edc2-e9c8-4bae-a6c1-52d8c49d30cf",
   "metadata": {},
   "outputs": [
    {
     "name": "stdout",
     "output_type": "stream",
     "text": [
      "(5000, 10)\n"
     ]
    }
   ],
   "source": [
    "# We can now implement the formula from above to compute the matrix of logits Z\n",
    "# Compute logits\n",
    "logits = tf.add(tf.matmul(X, W), b)\n",
    "print(logits.shape)"
   ]
  },
  {
   "cell_type": "markdown",
   "id": "52df428e-baa1-411d-9467-e6eb23dd638d",
   "metadata": {},
   "source": [
    "We use the matmul() function from TensorFlow to create a matrix multiplication operation and the add() function to add the bias values. We can verify that the shape of the logits matrix is (n,10) with the shape attribute of the logits tensor, where n= 500 is the number of data points.\n",
    "\n",
    "Note that we can also pass the Numpy matrix X_train directly to the TensorFlow operation tf.matmul(). In general, TensorFlow operations take care of automatically converting the Numpy ndarray to TensorFlow tensors. To read more about Numpy compatibility with TensorFlow, you can check this page and this page.\n",
    "\n"
   ]
  },
  {
   "cell_type": "code",
   "execution_count": 6,
   "id": "21d5f605-4937-4667-9294-4074b67c0e31",
   "metadata": {},
   "outputs": [
    {
     "name": "stdout",
     "output_type": "stream",
     "text": [
      "(5000, 10)\n"
     ]
    }
   ],
   "source": [
    "# We can also pass the numpy matrix directly\n",
    "logits = tf.add(tf.matmul(X_train, W), b)\n",
    "print(logits.shape)\n"
   ]
  },
  {
   "cell_type": "markdown",
   "id": "c16b9260-124d-4aa3-aa12-8d531666a62f",
   "metadata": {},
   "source": [
    "Now that we have a logits node that contains the predictions, let’s add a loss function node to evaluate them.\n",
    "\n",
    "#### Cross-entropy loss function\n",
    "We saw in the unit about logistic regressions that the loss function for logistic and softmax regressions is cross-entropy. TensorFlow implements a softmax_cross_entropy_with_logits() function that combines the softmax and cross-entropy operations. The function takes a matrix of logits and the target values and computes the cross-entropy score."
   ]
  },
  {
   "cell_type": "code",
   "execution_count": 7,
   "id": "2fbe80b2-cb15-487b-98f2-eee9d2c30601",
   "metadata": {},
   "outputs": [
    {
     "name": "stdout",
     "output_type": "stream",
     "text": [
      "(5000,)\n"
     ]
    }
   ],
   "source": [
    "# Cross-entropy loss function\n",
    "y_one_hot = tf.one_hot(indices=y, depth=10)\n",
    "ce = tf.nn.softmax_cross_entropy_with_logits(\n",
    "    labels=y_one_hot, logits=logits  # Requires one-hot encoded labels\n",
    ")\n",
    "print(ce.shape)\n"
   ]
  },
  {
   "cell_type": "markdown",
   "id": "5e404fba-3fa3-46aa-a1ec-6817b29ef320",
   "metadata": {},
   "source": [
    "The function requires the target values to be one-hot encoded. To achieve this, we add a one-hot encoding operation with the one_hot() function. We pass the target node y with the indices argument and the number of classes with the depth one. We can then create the softmax with cross-entropy node ce which contains the cross-entropy score for each data point.\n",
    "\n",
    "Note that TensorFlow also provides a sparse_softmax_cross_entropy_with_logits() function that doesn’t require the labels to be one-hot encoded."
   ]
  },
  {
   "cell_type": "code",
   "execution_count": 8,
   "id": "79bdf670-4723-47bb-a3b3-4e7e98ab01c7",
   "metadata": {},
   "outputs": [
    {
     "name": "stdout",
     "output_type": "stream",
     "text": [
      "(5000,)\n"
     ]
    }
   ],
   "source": [
    "# Cross-entropy loss function (without one-hot encoding)\n",
    "ce = tf.nn.sparse_softmax_cross_entropy_with_logits(labels=y, logits=logits)\n",
    "print(ce.shape)\n"
   ]
  },
  {
   "cell_type": "code",
   "execution_count": 9,
   "id": "02ed41f4-46c3-4b59-87f6-02c609fcf1f1",
   "metadata": {},
   "outputs": [
    {
     "name": "stdout",
     "output_type": "stream",
     "text": [
      "tf.Tensor(2.302591, shape=(), dtype=float32)\n"
     ]
    }
   ],
   "source": [
    "#We can now compute the mean of the cross-entropy scores with the reduce_mean() function.\n",
    "\n",
    "# Mean cross-entropy\n",
    "mean_ce = tf.reduce_mean(ce)\n",
    "print(mean_ce)"
   ]
  },
  {
   "cell_type": "code",
   "execution_count": 10,
   "id": "3b142f62-8686-4df5-8a65-82908ea9e24f",
   "metadata": {},
   "outputs": [
    {
     "name": "stdout",
     "output_type": "stream",
     "text": [
      "(5000,)\n",
      "()\n"
     ]
    }
   ],
   "source": [
    "print(ce.shape)\n",
    "print(mean_ce.shape)\n"
   ]
  },
  {
   "cell_type": "markdown",
   "id": "14df825c-b8bb-4ce5-9c3c-2823d26552db",
   "metadata": {},
   "source": [
    "Note that the ce and mean_ce tensors have a different shape. In the first case, the shape of ce is (5000,) which means that it’s a vector (1d tensor). In the second case, the shape of mean_ce is () which means that it’s a single value (0d tensor)."
   ]
  },
  {
   "cell_type": "markdown",
   "id": "01dc7704-24a1-4cfd-b797-cf8f607f889b",
   "metadata": {},
   "source": [
    "#### Optimizer\n",
    "Finally, let’s define the optimizer using the code from the previous unit."
   ]
  },
  {
   "cell_type": "code",
   "execution_count": 11,
   "id": "05f62feb-42f8-4901-87b0-d1155f477b86",
   "metadata": {},
   "outputs": [],
   "source": [
    "# Gradient descent\n",
    "optimizer = tf.keras.optimizers.SGD(learning_rate=0.1)"
   ]
  },
  {
   "cell_type": "markdown",
   "id": "7058c896-b4e0-4db2-affc-8355f478dc48",
   "metadata": {},
   "source": [
    "#### Measuring accuracy\n",
    "In this example, we will also compute the accuracy of our predictions. We saw in the unit about logistic regressions that the softmax function assigns the highest probability to the class with the largest logit. To compute the accuracy of our network, let’s start by creating a predictions tensor with the class that has the maximum logit value using the argmax() function."
   ]
  },
  {
   "cell_type": "code",
   "execution_count": 12,
   "id": "c0a04829-85af-48e9-81c8-7b2fdb3c63e4",
   "metadata": {},
   "outputs": [
    {
     "name": "stdout",
     "output_type": "stream",
     "text": [
      "(5000,)\n"
     ]
    }
   ],
   "source": [
    "# Compute predictions\n",
    "predictions = tf.argmax(\n",
    "    logits,                # shape: (n, 10)\n",
    "    axis=1,                # class with max logit\n",
    "    output_type=tf.int32,  # Same type as labels\n",
    ")\n",
    "print(predictions.shape)"
   ]
  },
  {
   "cell_type": "markdown",
   "id": "1d4f0c99-ee3d-409a-b1e0-a688ef73aa20",
   "metadata": {},
   "source": [
    "The function will return the index of the column (axis one) in the logits matrix with the largest value for each data point. Hence, we get a predictions tensor with one entry for each data point, and its shape is (5000,).\n",
    "\n",
    "To compute the accuracy of our network, we need to compare these predictions to the target values. For this reason, the two tensors need to have the same data type. In the code from above, we set the data type of the output of the argmax() function with the output_type argument.\n",
    "\n",
    "Let’s compare the predictions to the target values using the equal() function."
   ]
  },
  {
   "cell_type": "code",
   "execution_count": 13,
   "id": "6aa55e83-c3bc-442b-a837-d80c0fc4a163",
   "metadata": {},
   "outputs": [
    {
     "name": "stdout",
     "output_type": "stream",
     "text": [
      "(5000,)\n"
     ]
    }
   ],
   "source": [
    "# Are the predictions correct?\n",
    "is_correct = tf.equal(y, predictions)\n",
    "print(is_correct.shape)\n"
   ]
  },
  {
   "cell_type": "markdown",
   "id": "11d53e1d-0e31-4dc2-a583-c639b2646b79",
   "metadata": {},
   "source": [
    "The is_correct variable is a tensor with a boolean value for each data point. The accuracy of our network is simply the proportion of True entries. To compute this accuracy value, we first convert the boolean values to numerical 0/1 values with the cast() function and then compute the mean with the reduce_mean() one."
   ]
  },
  {
   "cell_type": "code",
   "execution_count": 14,
   "id": "5446ec32-85d5-47b7-bd3b-a8c318fdfdf5",
   "metadata": {},
   "outputs": [
    {
     "name": "stdout",
     "output_type": "stream",
     "text": [
      "()\n"
     ]
    }
   ],
   "source": [
    "# Accuracy\n",
    "accuracy = tf.reduce_mean(\n",
    "    # Convert booleans (false/true) to 0/1 float numbers\n",
    "    tf.cast(is_correct, dtype=tf.float32)\n",
    ")\n",
    "print(accuracy.shape)"
   ]
  },
  {
   "cell_type": "markdown",
   "id": "64bf6528-7d4a-4f02-bc13-b7b8e080f26f",
   "metadata": {},
   "source": [
    "#### Side note about reduce_mean() and data types\n",
    "Note that the reduce_mean() function returns a tensor with the same data type as its input. Hence, if we forget to convert our boolean values to floating points 0/1, we would get a mean of zero or one.\n",
    "\n"
   ]
  },
  {
   "cell_type": "code",
   "execution_count": 15,
   "id": "139cd834-8ccd-4011-b5ed-a7e4980a128c",
   "metadata": {},
   "outputs": [
    {
     "data": {
      "text/plain": [
       "<tf.Tensor: shape=(), dtype=float32, numpy=0.6>"
      ]
     },
     "execution_count": 15,
     "metadata": {},
     "output_type": "execute_result"
    }
   ],
   "source": [
    "tf.reduce_mean(\n",
    "    # Floating points 0/1 values\n",
    "    [0.0, 0.0, 1.0, 1.0, 1.0]\n",
    ")\n"
   ]
  },
  {
   "cell_type": "code",
   "execution_count": 16,
   "id": "7337c303-b783-4452-903b-c4eff17e5828",
   "metadata": {},
   "outputs": [
    {
     "data": {
      "text/plain": [
       "<tf.Tensor: shape=(), dtype=int32, numpy=0>"
      ]
     },
     "execution_count": 16,
     "metadata": {},
     "output_type": "execute_result"
    }
   ],
   "source": [
    "tf.reduce_mean(\n",
    "    # Integer 0/1 values\n",
    "    [0, 0, 1, 1, 1]\n",
    ")"
   ]
  },
  {
   "cell_type": "markdown",
   "id": "07180ba3-01c5-4fc5-bc38-72cce89f5be3",
   "metadata": {},
   "source": [
    "In this code, we pass an array of 0/1 values to a reduce_mean() operation and run it in a session. It returns 0.6 when the values are floating point numbers but zero when they are encoded as integer values.\n",
    "\n",
    "Now that we have built our network, let’s see how to train it.\n",
    "\n",
    "#### Batch generator\n",
    "In the last unit, we trained the network by running the training operation a hundred times using the entire data set. In practice, we often need to train neural networks on large data sets, and it’s usually not practical to train the network using the entire data. In particular, we need to be careful when training our network using GPUs since they have smaller memories than CPUs. For this reason, we usually train neural networks by small batches of data points.\n",
    "\n",
    "Let’s create a function that iterates through our X/y arrays by small batches of data points using Python generators with the yield syntax. You can think of generators as a Python object that can be consumed by a for loop to iterate over a set of values (for more see here)."
   ]
  },
  {
   "cell_type": "code",
   "execution_count": 17,
   "id": "edb1617f-ea7a-401d-a481-dea62847e646",
   "metadata": {},
   "outputs": [
    {
     "data": {
      "text/plain": [
       "<generator object get_batches at 0x000001DEAE2556D0>"
      ]
     },
     "execution_count": 17,
     "metadata": {},
     "output_type": "execute_result"
    }
   ],
   "source": [
    "# Function to get batches of data\n",
    "def get_batches(X, y, batch_size):\n",
    "    # Enumerate indexes by steps of batch_size\n",
    "    # i: 0, b, 2b, 3b, 4b, .. where b is the batch size\n",
    "    for i in range(0, len(y), batch_size):\n",
    "        # \"yield\" data between index i and i+b (not included)\n",
    "        yield X[i : i + batch_size], y[i : i + batch_size]\n",
    "\n",
    "\n",
    "get_batches(X_train, y_train, 64)"
   ]
  },
  {
   "cell_type": "markdown",
   "id": "d6fa19aa-053e-42ac-a6ed-729d49c67015",
   "metadata": {},
   "source": [
    "In this code, we define a get_batches() function that returns batches of data points from the X and y arrays of size batch_size. To achieve this, we generate an index i that ranges between zero and the number of data points by steps of size batch_size. For instance, if we have 10 data points and the batch size is 3, the i variable will take the values 0, 3, 6 and 9. To create the current batch, we extract rows of the X/y arrays between i and i+batch_size. In our example with ten data points, the function will create four batches.\n",
    "\n",
    "* 1st batch - points 0, 1 and 2\n",
    "* 2nd batch - points 3, 4 and 5\n",
    "* 3rd batch - points 6, 7 and 8\n",
    "* 4th batch - point 9\n",
    "\n",
    "Let’s test our generator function in a for loop."
   ]
  },
  {
   "cell_type": "code",
   "execution_count": 18,
   "id": "2f673f71-2c5a-4774-a8cc-721796e9b8ef",
   "metadata": {},
   "outputs": [
    {
     "name": "stdout",
     "output_type": "stream",
     "text": [
      "Batch X/y: 0 (64, 784) (64,)\n",
      "Batch X/y: 1 (64, 784) (64,)\n",
      "Batch X/y: 2 (64, 784) (64,)\n",
      "Batch X/y: 3 (64, 784) (64,)\n",
      "Batch X/y: 4 (64, 784) (64,)\n",
      "Batch X/y: 5 (64, 784) (64,)\n",
      "Batch X/y: 6 (64, 784) (64,)\n",
      "Batch X/y: 7 (64, 784) (64,)\n",
      "Batch X/y: 8 (64, 784) (64,)\n",
      "Batch X/y: 9 (64, 784) (64,)\n",
      "Batch X/y: 10 (64, 784) (64,)\n",
      "Batch X/y: 11 (64, 784) (64,)\n",
      "Batch X/y: 12 (64, 784) (64,)\n",
      "Batch X/y: 13 (64, 784) (64,)\n",
      "Batch X/y: 14 (64, 784) (64,)\n",
      "Batch X/y: 15 (64, 784) (64,)\n",
      "Batch X/y: 16 (64, 784) (64,)\n",
      "Batch X/y: 17 (64, 784) (64,)\n",
      "Batch X/y: 18 (64, 784) (64,)\n",
      "Batch X/y: 19 (64, 784) (64,)\n",
      "Batch X/y: 20 (64, 784) (64,)\n",
      "Batch X/y: 21 (64, 784) (64,)\n",
      "Batch X/y: 22 (64, 784) (64,)\n",
      "Batch X/y: 23 (64, 784) (64,)\n",
      "Batch X/y: 24 (64, 784) (64,)\n",
      "Batch X/y: 25 (64, 784) (64,)\n",
      "Batch X/y: 26 (64, 784) (64,)\n",
      "Batch X/y: 27 (64, 784) (64,)\n",
      "Batch X/y: 28 (64, 784) (64,)\n",
      "Batch X/y: 29 (64, 784) (64,)\n",
      "Batch X/y: 30 (64, 784) (64,)\n",
      "Batch X/y: 31 (64, 784) (64,)\n",
      "Batch X/y: 32 (64, 784) (64,)\n",
      "Batch X/y: 33 (64, 784) (64,)\n",
      "Batch X/y: 34 (64, 784) (64,)\n",
      "Batch X/y: 35 (64, 784) (64,)\n",
      "Batch X/y: 36 (64, 784) (64,)\n",
      "Batch X/y: 37 (64, 784) (64,)\n",
      "Batch X/y: 38 (64, 784) (64,)\n",
      "Batch X/y: 39 (64, 784) (64,)\n",
      "Batch X/y: 40 (64, 784) (64,)\n",
      "Batch X/y: 41 (64, 784) (64,)\n",
      "Batch X/y: 42 (64, 784) (64,)\n",
      "Batch X/y: 43 (64, 784) (64,)\n",
      "Batch X/y: 44 (64, 784) (64,)\n",
      "Batch X/y: 45 (64, 784) (64,)\n",
      "Batch X/y: 46 (64, 784) (64,)\n",
      "Batch X/y: 47 (64, 784) (64,)\n",
      "Batch X/y: 48 (64, 784) (64,)\n",
      "Batch X/y: 49 (64, 784) (64,)\n",
      "Batch X/y: 50 (64, 784) (64,)\n",
      "Batch X/y: 51 (64, 784) (64,)\n",
      "Batch X/y: 52 (64, 784) (64,)\n",
      "Batch X/y: 53 (64, 784) (64,)\n",
      "Batch X/y: 54 (64, 784) (64,)\n",
      "Batch X/y: 55 (64, 784) (64,)\n",
      "Batch X/y: 56 (64, 784) (64,)\n",
      "Batch X/y: 57 (64, 784) (64,)\n",
      "Batch X/y: 58 (64, 784) (64,)\n",
      "Batch X/y: 59 (64, 784) (64,)\n",
      "Batch X/y: 60 (64, 784) (64,)\n",
      "Batch X/y: 61 (64, 784) (64,)\n",
      "Batch X/y: 62 (64, 784) (64,)\n",
      "Batch X/y: 63 (64, 784) (64,)\n",
      "Batch X/y: 64 (64, 784) (64,)\n",
      "Batch X/y: 65 (64, 784) (64,)\n",
      "Batch X/y: 66 (64, 784) (64,)\n",
      "Batch X/y: 67 (64, 784) (64,)\n",
      "Batch X/y: 68 (64, 784) (64,)\n",
      "Batch X/y: 69 (64, 784) (64,)\n",
      "Batch X/y: 70 (64, 784) (64,)\n",
      "Batch X/y: 71 (64, 784) (64,)\n",
      "Batch X/y: 72 (64, 784) (64,)\n",
      "Batch X/y: 73 (64, 784) (64,)\n",
      "Batch X/y: 74 (64, 784) (64,)\n",
      "Batch X/y: 75 (64, 784) (64,)\n",
      "Batch X/y: 76 (64, 784) (64,)\n",
      "Batch X/y: 77 (64, 784) (64,)\n",
      "Batch X/y: 78 (8, 784) (8,)\n"
     ]
    }
   ],
   "source": [
    "# Use generator in a \"for\" loop\n",
    "batch_id = 0\n",
    "for X_batch, y_batch in get_batches(X_train, y_train, 64):\n",
    "    print(\"Batch X/y:\", batch_id, X_batch.shape, y_batch.shape)\n",
    "    \n",
    "    batch_id += 1"
   ]
  },
  {
   "cell_type": "markdown",
   "id": "80eea4b6-133f-443b-a018-93a228ae8072",
   "metadata": {},
   "source": [
    "In this code, we set the batch size to 64, and get batches of 64 data points (except for the last batch which has 8 data points).\n",
    "\n",
    "#### Training (eager execution mode)\n",
    "Let’s train our network by adapting the code from the previous unit."
   ]
  },
  {
   "cell_type": "code",
   "execution_count": 19,
   "id": "55d101bc-f901-45ef-8f2a-966ead908dd6",
   "metadata": {},
   "outputs": [],
   "source": [
    "# Accuracy score after each batch of data\n",
    "acc_values = []\n",
    "\n",
    "# Get batches of data\n",
    "for X_batch, y_batch in get_batches(X_train, y_train, 64):\n",
    "    # Run training operation\n",
    "    with tf.GradientTape() as tape:\n",
    "        logits = tf.add(tf.matmul(X_batch, W), b)\n",
    "        ce = tf.nn.sparse_softmax_cross_entropy_with_logits(\n",
    "            labels=y_batch, logits=logits\n",
    "        )\n",
    "        mean_ce = tf.reduce_mean(ce)\n",
    "    optimizer.minimize(loss=mean_ce, var_list=[W, b], tape=tape)\n",
    "\n",
    "    # Compute predictions\n",
    "    predictions = tf.argmax(logits, axis=1, output_type=tf.int32)\n",
    "\n",
    "    # Compute accuracy\n",
    "    is_correct = tf.equal(y_batch, predictions)\n",
    "    batch_acc = tf.reduce_mean(tf.cast(is_correct, dtype=tf.float32))\n",
    "\n",
    "    acc_values.append(batch_acc)\n",
    "\n",
    "# Get weight matrix and biases\n",
    "W_fitted = W.numpy()\n",
    "b_fitted = b.numpy()"
   ]
  },
  {
   "cell_type": "markdown",
   "id": "5c94582b-9676-491c-8bd7-4e446626ffdf",
   "metadata": {},
   "source": [
    "We run the training operation by batches of data and save the batch accuracy values in an acc_values variable. At the end, we get the weights matrix and the biases vector with the numpy() function converts TensorFlow tensors to Numpy arrays.\n",
    "\n",
    "Let’s plot the accuracy values and then compute the mean train accuracy of the last 20 batches."
   ]
  },
  {
   "cell_type": "code",
   "execution_count": 20,
   "id": "f18e6455-4d2b-4897-ad3d-017452ffe1ad",
   "metadata": {},
   "outputs": [
    {
     "data": {
      "image/png": "[encoded data removed]",
      "text/plain": [
       "<Figure size 432x288 with 1 Axes>"
      ]
     },
     "metadata": {
      "needs_background": "light"
     },
     "output_type": "display_data"
    }
   ],
   "source": [
    "%matplotlib inline\n",
    "import matplotlib.pyplot as plt\n",
    "\n",
    "# Plot accuracy values\n",
    "plt.plot(acc_values)\n",
    "plt.title(\n",
    "    \"Train accuracy (last 20 batches): {:.3f}\".format(\n",
    "        # Average accuracy value\n",
    "        np.mean(acc_values[-20:])\n",
    "    )\n",
    ")\n",
    "plt.xlabel(\"batch\")\n",
    "plt.ylabel(\"accuracy\")\n",
    "plt.show()\n"
   ]
  },
  {
   "cell_type": "markdown",
   "id": "f77a63f4-fc27-4aa5-bded-7003f08b18cb",
   "metadata": {},
   "source": [
    "Since we evaluate the accuracy on only 64 data points, our accuracy measure is not very precise and varies a lot between each batch of data. However, it’s clear that our network is learning and the final test accuracy should be between 80% and 90% if we didn’t overfit.\n",
    "\n",
    "#### Visualize templates\n",
    "We saw above that each output neuron learns from the data by tuning its synaptic weights (the columns of W). These weights are the signature of each output neuron. They tell us what each neuron tries to detect in the input. In our case, each weight corresponds to a pixel in our 28 by 28 images. Hence, we can plot these weights to get templates of digits learned by each neuron.\n",
    "\n"
   ]
  },
  {
   "cell_type": "code",
   "execution_count": 21,
   "id": "e8efa5e9-bea0-4ef7-9225-549e1276dd02",
   "metadata": {},
   "outputs": [
    {
     "data": {
      "image/png": "[encoded data removed]",
      "text/plain": [
       "<Figure size 720x144 with 10 Axes>"
      ]
     },
     "metadata": {
      "needs_background": "light"
     },
     "output_type": "display_data"
    }
   ],
   "source": [
    "# Create figure with 10 subplots\n",
    "fig, axes = plt.subplots(nrows=1, ncols=10, figsize=(10, 2))\n",
    "\n",
    "# Plot the weights for each class in a subplot\n",
    "for i, axis in enumerate(axes):\n",
    "    # Get weights of the i-th class\n",
    "    weights = W_fitted[:, i]\n",
    "\n",
    "    # Reshape weight values into a 28x28 array\n",
    "    template = weights.reshape(28, 28)\n",
    "\n",
    "    # Plot array\n",
    "    axis.imshow(template, plt.cm.gray_r)  # Grayscale (reversed)\n",
    "    axis.get_xaxis().set_visible(False)   # disable x-axis\n",
    "    axis.get_yaxis().set_visible(False)   # disable y-axis\n",
    "    axis.set_title(i)                     # Adds title to image\n",
    "\n",
    "plt.show()"
   ]
  },
  {
   "cell_type": "markdown",
   "id": "aff7db20-db8c-4968-9014-c8ba685cb6f3",
   "metadata": {},
   "source": [
    "In this code, we create a figure with ten subplots using the subplots() function from Pyplot and get a list of axes. We plot each template by enumerating the axes. The axis and the i variables in the for loop contain each axis and its index in the list of axes. We use the index to extract the weights of the i-th output neuron and reshape these weights into a 28 by 28 array that we can then plot by calling the imshow() function of the axis object. Note that we hide the x and y axes with the set_visible() function.\n",
    "\n",
    "These ten templates define what each neuron expects. Black areas correspond to pixels that “stimulate” the output neuron, gray areas correspond to pixels that have a small impact on the output, and white areas correspond to pixels that decrease the activity of the neuron. For instance, the template for images of zeros will detect images (positive logit) with positive pixel values on the circle around the center of the image (black area) but reject ones (negative logit value) with positive pixel values in the center of the image (white area).\n",
    "\n",
    "#### Improve learning\n",
    "The digits in the templates from above are not perfectly smooth. There seems to be some noise. We saw in the last course that gradient descent is sensitive to the scale of the data. Let’s try to improve learning by standardizing the input data.\n",
    "\n",
    "We can use the StandardScaler object from Scikit-learn."
   ]
  },
  {
   "cell_type": "code",
   "execution_count": 22,
   "id": "47aadcd4-9bef-4d7b-a160-eee3310d3961",
   "metadata": {},
   "outputs": [
    {
     "data": {
      "text/plain": [
       "StandardScaler()"
      ]
     },
     "execution_count": 22,
     "metadata": {},
     "output_type": "execute_result"
    }
   ],
   "source": [
    "from sklearn.preprocessing import StandardScaler\n",
    "\n",
    "# Create a StandardScaler object and fit it to train data\n",
    "scaler = StandardScaler()\n",
    "scaler.fit(X_train)"
   ]
  },
  {
   "cell_type": "markdown",
   "id": "d5feb762-002b-4809-a234-cabbf0a34618",
   "metadata": {},
   "source": [
    "Let’s run the training process with the standardized data. This time, we will also monitor the validation accuracy.\n",
    "\n"
   ]
  },
  {
   "cell_type": "code",
   "execution_count": 24,
   "id": "d2f2aa6a-d1aa-469f-b8e5-a483ec2f3426",
   "metadata": {},
   "outputs": [],
   "source": [
    "# Accuracy scores after each batch\n",
    "train_acc_values = []\n",
    "valid_acc_values = []\n",
    "\n",
    "# Reinitialize the network parameters to zero\n",
    "W = tf.Variable(initial_value=tf.zeros(shape=[784, 10]))\n",
    "b = tf.Variable(initial_value=tf.zeros(shape=[10]))\n",
    "\n",
    "# Reinitialize gradient descent and decrease the learning rate\n",
    "optimizer = tf.keras.optimizers.SGD(learning_rate=0.01)\n",
    "\n",
    "# Rescale input data\n",
    "X_train_rescaled = scaler.transform(X_train)\n",
    "X_valid_rescaled = scaler.transform(X_valid)\n",
    "\n",
    "\n",
    "# Get batches of data\n",
    "for X_batch, y_batch in get_batches(X_train_rescaled, y_train, 64):\n",
    "    # Run training\n",
    "    with tf.GradientTape() as tape:\n",
    "        train_logits = tf.add(tf.matmul(X_batch, W), b)\n",
    "        ce = tf.nn.sparse_softmax_cross_entropy_with_logits(\n",
    "            labels=y_batch, logits=train_logits\n",
    "        )\n",
    "        mean_ce = tf.reduce_mean(ce)\n",
    "    optimizer.minimize(loss=mean_ce, var_list=[W, b], tape=tape)\n",
    "\n",
    "    # Evaluate training accuracy\n",
    "    predictions = tf.argmax(train_logits, axis=1, output_type=tf.int32)\n",
    "    is_correct = tf.equal(y_batch, predictions)\n",
    "    train_acc = tf.reduce_mean(tf.cast(is_correct, dtype=tf.float32))\n",
    "    train_acc_values.append(train_acc)\n",
    "\n",
    "    # Evaluate validation accuracy\n",
    "    valid_logits = tf.add(tf.matmul(X_valid_rescaled, W), b)\n",
    "    valid_predictions = tf.argmax(valid_logits, axis=1, output_type=tf.int32)\n",
    "    is_correct = tf.equal(y_valid, valid_predictions)\n",
    "    valid_acc = tf.reduce_mean(tf.cast(is_correct, dtype=tf.float32))\n",
    "    valid_acc_values.append(valid_acc)\n",
    "\n",
    "# Get weight matrix and biases\n",
    "W_fitted = W.numpy()\n",
    "b_fitted = b.numpy()"
   ]
  },
  {
   "cell_type": "markdown",
   "id": "9cfeaee3-11c0-4d45-abc0-dc7a030de2af",
   "metadata": {},
   "source": [
    "In this code, we rescale the train and validation data and then run the training operation in batches. At each iteration, we compute the accuracy on the current training batch and the accuracy on the validation set, and we store the values in the train_acc_values and valid_acc_values variables. Finally, we evaluate the synaptic weights and biases.\n",
    "\n",
    "Let’s plot the accuracy values."
   ]
  },
  {
   "cell_type": "code",
   "execution_count": 25,
   "id": "b904e1ea-5401-49b3-939a-4dc886a6b41a",
   "metadata": {},
   "outputs": [
    {
     "data": {
      "image/png": "[encoded data removed]",
      "text/plain": [
       "<Figure size 432x288 with 1 Axes>"
      ]
     },
     "metadata": {
      "needs_background": "light"
     },
     "output_type": "display_data"
    }
   ],
   "source": [
    "# Plot accuracy values\n",
    "plt.plot(train_acc_values, label=\"train\")\n",
    "plt.plot(valid_acc_values, label=\"validation\")\n",
    "plt.title(\n",
    "    \"Validation accuracy: {:.3f}\".format(\n",
    "        valid_acc_values[-1]  # Last validation accuracy value\n",
    "    )\n",
    ")\n",
    "plt.xlabel(\"batch\")\n",
    "plt.ylabel(\"accuracy\")\n",
    "plt.legend()\n",
    "plt.show()"
   ]
  },
  {
   "cell_type": "markdown",
   "id": "422ed95a-83d1-48a5-ab31-813e990d6289",
   "metadata": {},
   "source": [
    "By looking at the two curves, it doesn’t seem that the model is overfitting. Both curves increase, and the last validation accuracy is around 85%.\n",
    "\n",
    "Let’s rerun the code from above to plot the values in the weights matrix W_fitted.\n",
    "\n"
   ]
  },
  {
   "cell_type": "code",
   "execution_count": 26,
   "id": "dd03c8a5-5d60-43b4-baa3-b5b247715158",
   "metadata": {},
   "outputs": [
    {
     "data": {
      "image/png": "[encoded data removed]",
      "text/plain": [
       "<Figure size 720x144 with 10 Axes>"
      ]
     },
     "metadata": {
      "needs_background": "light"
     },
     "output_type": "display_data"
    }
   ],
   "source": [
    "# Create figure with 10 subplots\n",
    "fig, axes = plt.subplots(nrows=1, ncols=10, figsize=(10, 2))\n",
    "\n",
    "# Plot the weights for each class in a subplot\n",
    "for i, axis in enumerate(axes):\n",
    "    # Get weights of the i-th class\n",
    "    weights = W_fitted[:, i]\n",
    "\n",
    "    # Reshape weight values into a 28x28 array\n",
    "    template = weights.reshape(28, 28)\n",
    "\n",
    "    # Plot array\n",
    "    axis.imshow(template, plt.cm.gray_r)  # Grayscale (reversed)\n",
    "    axis.get_xaxis().set_visible(False)   # disable x-axis\n",
    "    axis.get_yaxis().set_visible(False)   # disable y-axis\n",
    "    axis.set_title(i)                     # Adds title to image\n",
    "\n",
    "plt.show()"
   ]
  },
  {
   "cell_type": "markdown",
   "id": "0e4c06ab-5ae6-4e58-9b64-215d24713855",
   "metadata": {},
   "source": [
    "This time, the noise in the templates disappeared, and we can clearly recognize each digit.\n",
    "\n",
    "Finally, let’s compute a final accuracy measure using the test set."
   ]
  },
  {
   "cell_type": "code",
   "execution_count": 28,
   "id": "cba725e4-e8df-47a7-8844-7c6d0bdb22b9",
   "metadata": {},
   "outputs": [
    {
     "name": "stdout",
     "output_type": "stream",
     "text": [
      "Test accuracy: 0.850\n"
     ]
    }
   ],
   "source": [
    "# Evaluate validation accuracy\n",
    "X_test_rescaled = scaler.transform(X_test)\n",
    "\n",
    "test_logits = tf.add(tf.matmul(X_test_rescaled, W), b)\n",
    "test_predictions = tf.argmax(test_logits, axis=1, output_type=tf.int32)\n",
    "\n",
    "is_correct = tf.equal(y_test, test_predictions)\n",
    "test_acc = tf.reduce_mean(tf.cast(is_correct, dtype=tf.float32))\n",
    "\n",
    "print(\"Test accuracy: {:.3f}\".format(test_acc))\n"
   ]
  },
  {
   "cell_type": "markdown",
   "id": "dce8f263-55e5-4388-8795-3a59d88008d7",
   "metadata": {},
   "source": [
    "Note that in order to evaluate the validation accuracy, we also need to rescale our input test data using the scaler object from above. We get a final accuracy measure around 85%.\n",
    "\n",
    "#### Training (graph mode)\n",
    "To better organize the previous code, we are going to repeat everything while refactoring the code into Python functions. Moreover, we will use the tf.function decorator to activate the graph mode.\n",
    "\n",
    "Let’s first define the optimizer and rewrite all the required operations as functions."
   ]
  },
  {
   "cell_type": "code",
   "execution_count": 29,
   "id": "90906f84-9908-46e4-8cc1-aaa0a480c48d",
   "metadata": {},
   "outputs": [],
   "source": [
    "# Define the optimizer (if not done yet)\n",
    "optimizer = tf.keras.optimizers.SGD(learning_rate=0.01)\n",
    "# Compute the logits\n",
    "@tf.function\n",
    "def compute_logits(x, W, b):\n",
    "    logits = tf.add(tf.matmul(x, W), b)\n",
    "    return logits\n",
    "\n",
    "\n",
    "# Compute the loss\n",
    "@tf.function\n",
    "def compute_loss(y, logits):\n",
    "    ce = tf.nn.sparse_softmax_cross_entropy_with_logits(labels=y, logits=logits)\n",
    "    mean_ce = tf.reduce_mean(ce)\n",
    "    return mean_ce\n",
    "\n",
    "\n",
    "# Compute the accuracy\n",
    "@tf.function\n",
    "def compute_accuracy(y, logits):\n",
    "    predictions = tf.argmax(logits, axis=1, output_type=tf.int32)\n",
    "    is_correct = tf.equal(y, predictions)\n",
    "    acc = tf.reduce_mean(tf.cast(is_correct, dtype=tf.float32))\n",
    "    return acc\n",
    "\n",
    "\n",
    "# Train the model (optimization procedure)\n",
    "@tf.function\n",
    "def train(x, y, W, b):\n",
    "    with tf.GradientTape() as tape:\n",
    "        logits = compute_logits(x, W, b)\n",
    "        loss = compute_loss(y, logits)\n",
    "    optimizer.minimize(loss=loss, var_list=[W, b], tape=tape)\n",
    "    return logits, loss"
   ]
  },
  {
   "cell_type": "markdown",
   "id": "effbd3d6-00ff-4d7e-961a-aaf563853760",
   "metadata": {},
   "source": [
    "We will now reinitialize the model parameters and train the network using the functions defined above. This yields a more compact code as you can see below."
   ]
  },
  {
   "cell_type": "code",
   "execution_count": 30,
   "id": "ab55cb95-2536-4b8e-b943-9276cba948e3",
   "metadata": {},
   "outputs": [],
   "source": [
    "# Accuracy scores after each batch\n",
    "train_acc_values = []\n",
    "valid_acc_values = []\n",
    "\n",
    "# Reinitialize the network parameters to zero\n",
    "W = tf.Variable(initial_value=tf.zeros(shape=[784, 10]))\n",
    "b = tf.Variable(initial_value=tf.zeros(shape=[10]))\n",
    "\n",
    "\n",
    "# Get batches of data\n",
    "for X_batch, y_batch in get_batches(X_train_rescaled, y_train, 64):\n",
    "    # Run training\n",
    "    train_logits, _ = train(X_batch, y_batch, W, b)\n",
    "\n",
    "    # Evaluate training accuracy\n",
    "    train_acc = compute_accuracy(y_batch, train_logits)\n",
    "    train_acc_values.append(train_acc)\n",
    "\n",
    "    # Evaluate validation accuracy\n",
    "    valid_logits = compute_logits(X_valid_rescaled, W, b)\n",
    "    valid_acc = compute_accuracy(y_valid, valid_logits)\n",
    "    valid_acc_values.append(valid_acc)\n",
    "\n",
    "# Get weight matrix and biases\n",
    "W_fitted = W.numpy()\n",
    "b_fitted = b.numpy()"
   ]
  },
  {
   "cell_type": "markdown",
   "id": "3de6b341-19bb-4f48-af43-d68e7d7b1072",
   "metadata": {},
   "source": [
    "The performance results will be exactly the same as before. However, the training speed can be faster thanks to the graph mode. You can use the code from above to plot the values of the accuracy and the weights matrix."
   ]
  },
  {
   "cell_type": "code",
   "execution_count": null,
   "id": "5794504b-9812-4e6c-8e7f-1eabd3d9333c",
   "metadata": {},
   "outputs": [],
   "source": []
  }
 ],
 "metadata": {
  "kernelspec": {
   "display_name": "Python [conda env:adsml] *",
   "language": "python",
   "name": "conda-env-adsml-py"
  },
  "language_info": {
   "codemirror_mode": {
    "name": "ipython",
    "version": 3
   },
   "file_extension": ".py",
   "mimetype": "text/x-python",
   "name": "python",
   "nbconvert_exporter": "python",
   "pygments_lexer": "ipython3",
   "version": "3.9.7"
  }
 },
 "nbformat": 4,
 "nbformat_minor": 5
}
