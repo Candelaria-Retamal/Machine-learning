{
 "cells": [
  {
   "cell_type": "markdown",
   "id": "5c47258f-4d52-4c29-b873-de00fd90d234",
   "metadata": {},
   "source": [
    "#### Brain and body weights"
   ]
  },
  {
   "cell_type": "code",
   "execution_count": 1,
   "id": "350e9045-ac30-49b2-8a83-83b9bc1d8a95",
   "metadata": {},
   "outputs": [
    {
     "data": {
      "text/html": [
       "<div>\n",
       "<style scoped>\n",
       "    .dataframe tbody tr th:only-of-type {\n",
       "        vertical-align: middle;\n",
       "    }\n",
       "\n",
       "    .dataframe tbody tr th {\n",
       "        vertical-align: top;\n",
       "    }\n",
       "\n",
       "    .dataframe thead th {\n",
       "        text-align: right;\n",
       "    }\n",
       "</style>\n",
       "<table border=\"1\" class=\"dataframe\">\n",
       "  <thead>\n",
       "    <tr style=\"text-align: right;\">\n",
       "      <th></th>\n",
       "      <th>body</th>\n",
       "      <th>brain</th>\n",
       "      <th>mammal</th>\n",
       "    </tr>\n",
       "  </thead>\n",
       "  <tbody>\n",
       "    <tr>\n",
       "      <th>0</th>\n",
       "      <td>1.6</td>\n",
       "      <td>-2.0</td>\n",
       "      <td>Lesser short-tailed shrew</td>\n",
       "    </tr>\n",
       "    <tr>\n",
       "      <th>1</th>\n",
       "      <td>2.3</td>\n",
       "      <td>-1.4</td>\n",
       "      <td>Little brown bat</td>\n",
       "    </tr>\n",
       "    <tr>\n",
       "      <th>2</th>\n",
       "      <td>3.1</td>\n",
       "      <td>-1.2</td>\n",
       "      <td>Big brown bat</td>\n",
       "    </tr>\n",
       "    <tr>\n",
       "      <th>3</th>\n",
       "      <td>3.1</td>\n",
       "      <td>-0.9</td>\n",
       "      <td>Mouse</td>\n",
       "    </tr>\n",
       "    <tr>\n",
       "      <th>4</th>\n",
       "      <td>3.9</td>\n",
       "      <td>-1.1</td>\n",
       "      <td>Musk shrew</td>\n",
       "    </tr>\n",
       "  </tbody>\n",
       "</table>\n",
       "</div>"
      ],
      "text/plain": [
       "   body  brain                     mammal\n",
       "0   1.6   -2.0  Lesser short-tailed shrew\n",
       "1   2.3   -1.4           Little brown bat\n",
       "2   3.1   -1.2              Big brown bat\n",
       "3   3.1   -0.9                      Mouse\n",
       "4   3.9   -1.1                 Musk shrew"
      ]
     },
     "execution_count": 1,
     "metadata": {},
     "output_type": "execute_result"
    }
   ],
   "source": [
    "import pandas as pd\n",
    "\n",
    "# Load data\n",
    "data_df = pd.read_csv(\"c4_brain-body-weights.csv\")\n",
    "\n",
    "# First five rows\n",
    "data_df.head()\n"
   ]
  },
  {
   "cell_type": "markdown",
   "id": "3254b4e5-20e7-4033-9964-bede46be337a",
   "metadata": {},
   "source": [
    "The data contains measurements of brain and body weights of 62 animals and three dinosaurs (the outliers).\n",
    "\n",
    "We saw in the previous course that there is a linear relationship between the logarithm of the brain and body weights. For this reason, the brain and body columns in the DataFrame from above contain the logarithm of the original weights. Let’s plot the data.\n",
    "\n"
   ]
  },
  {
   "cell_type": "code",
   "execution_count": 2,
   "id": "257f8b29-9920-4a36-baf9-c68d66b62b77",
   "metadata": {},
   "outputs": [
    {
     "data": {
      "image/png": "[encoded data removed]",
      "text/plain": [
       "<Figure size 432x288 with 1 Axes>"
      ]
     },
     "metadata": {},
     "output_type": "display_data"
    }
   ],
   "source": [
    "%matplotlib inline\n",
    "import matplotlib.pyplot as plt\n",
    "import seaborn as sns\n",
    "\n",
    "# Activate Seaborn\n",
    "sns.set()\n",
    "\n",
    "# Plot data\n",
    "plt.scatter(data_df.body, data_df.brain)\n",
    "plt.xlabel(\"Body weight (log)\")\n",
    "plt.ylabel(\"Brain weight (log)\")\n",
    "plt.show()"
   ]
  },
  {
   "cell_type": "markdown",
   "id": "a7810078-99ae-47ab-9c24-8445059dd128",
   "metadata": {},
   "source": [
    "We can see in the plot that there are three clear outliers. For this example, we will keep them in the data and train our network using Huber loss."
   ]
  },
  {
   "cell_type": "markdown",
   "id": "b47613b5-473a-49ea-ac21-a4fa599039ac",
   "metadata": {},
   "source": [
    "Let’s see how to define our linear regression from above with TensorFlow.\n",
    "\n",
    "#### Variables\n",
    "First, we need to import the library."
   ]
  },
  {
   "cell_type": "code",
   "execution_count": 3,
   "id": "08809063-4463-4361-a7a4-4760f01a88ec",
   "metadata": {},
   "outputs": [],
   "source": [
    "import tensorflow as tf"
   ]
  },
  {
   "cell_type": "code",
   "execution_count": 4,
   "id": "1c2b16f3-a669-43fa-8bdf-6c052dd479a3",
   "metadata": {},
   "outputs": [
    {
     "name": "stdout",
     "output_type": "stream",
     "text": [
      "<tf.Variable 'slope:0' shape=() dtype=float64, numpy=0.0>\n",
      "<tf.Variable 'intercept:0' shape=() dtype=float64, numpy=0.0>\n"
     ]
    }
   ],
   "source": [
    "#We can now create the a and b parameters with the Variable object.\n",
    "\n",
    "# Initialize slope and intercept parameters\n",
    "a = tf.Variable(initial_value=0, dtype=tf.float64, name=\"slope\")\n",
    "b = tf.Variable(initial_value=0, dtype=tf.float64, name=\"intercept\")\n",
    "print(a)\n",
    "print(b)"
   ]
  },
  {
   "cell_type": "markdown",
   "id": "8e4be766-8ebf-420c-9d07-f5b09b234220",
   "metadata": {},
   "source": [
    "The tf.Variable() allows us to define a tensor whose value can be changed after running certain operation on it. We need to specify an initial value. In our case, we can initialize the two parameters to zero. TensorFlow assigns a data type to each variable (and to every tensor in general). By default, it’s the data type of the initial value. In our case, 0 is an integer value but both variables should be floating point numbers. Hence, we need to specify the data type by setting dtype=tf.float64."
   ]
  },
  {
   "cell_type": "markdown",
   "id": "db07af5e-eb2d-4cb4-b15e-24e34baa8385",
   "metadata": {},
   "source": [
    "#### Constants\n",
    "Now that we have defined the model parameter to be trained, let’s create the input and output variables. Usually, these are constant values. We can create them with the tf.constant() method.\n",
    "\n"
   ]
  },
  {
   "cell_type": "code",
   "execution_count": 5,
   "id": "fa410c91-0905-46eb-affd-62b74e0c8e92",
   "metadata": {},
   "outputs": [
    {
     "name": "stdout",
     "output_type": "stream",
     "text": [
      "tf.Tensor(\n",
      "[ 1.6  2.3  3.1  3.1  3.9  4.1  4.3  4.6  4.6  4.8  4.8  5.3  5.6  6.1\n",
      "  6.2  6.3  6.6  6.7  6.8  6.8  6.9  6.9  7.2  7.2  7.3  7.4  7.4  7.6\n",
      "  7.8  8.   8.1  8.1  8.2  8.2  8.2  8.3  8.3  8.4  8.4  8.8  9.2  9.3\n",
      "  9.6 10.2 10.5 10.5 10.9 10.9 11.  11.  11.4 11.5 12.  12.1 12.2 12.2\n",
      " 12.4 13.  13.2 13.2 14.8 15.7 16.1 16.3 18.3], shape=(65,), dtype=float64)\n"
     ]
    }
   ],
   "source": [
    "# Import input/target data\n",
    "x = tf.constant(data_df.body)\n",
    "y = tf.constant(data_df.brain)\n",
    "\n",
    "print(x)"
   ]
  },
  {
   "cell_type": "markdown",
   "id": "f0359d15-8636-4890-9b72-25b6bc074bc3",
   "metadata": {},
   "source": [
    "We can now connect the nodes using the * and + operations.\n",
    "\n"
   ]
  },
  {
   "cell_type": "code",
   "execution_count": 6,
   "id": "310c7243-28db-4870-915e-9f555f44d84b",
   "metadata": {},
   "outputs": [
    {
     "name": "stdout",
     "output_type": "stream",
     "text": [
      "tf.Tensor(\n",
      "[0. 0. 0. 0. 0. 0. 0. 0. 0. 0. 0. 0. 0. 0. 0. 0. 0. 0. 0. 0. 0. 0. 0. 0.\n",
      " 0. 0. 0. 0. 0. 0. 0. 0. 0. 0. 0. 0. 0. 0. 0. 0. 0. 0. 0. 0. 0. 0. 0. 0.\n",
      " 0. 0. 0. 0. 0. 0. 0. 0. 0. 0. 0. 0. 0. 0. 0. 0. 0.], shape=(65,), dtype=float64)\n"
     ]
    }
   ],
   "source": [
    "# Compute predictions\n",
    "y_hat = a * x + b\n",
    "\n",
    "print(y_hat)"
   ]
  },
  {
   "cell_type": "markdown",
   "id": "ac4dd9e3-e5ff-4664-852a-3f91d66457fe",
   "metadata": {},
   "source": [
    "As a side note, the same computation could have also been achieved with using the more explicit notation: tf.add(tf.multiply(a, x), b)"
   ]
  },
  {
   "cell_type": "markdown",
   "id": "c31eee9b-dbdd-44a8-8ca9-c85fc133a2af",
   "metadata": {},
   "source": [
    "#### Loss function\n",
    "Let’s define the loss function. TensorFlow provides a set of operations similar to Numpy to work with tensors. For instance, we can define the mean squared error (MSE) using the square() and reduce_mean() functions."
   ]
  },
  {
   "cell_type": "code",
   "execution_count": 7,
   "id": "06065cd6-b8ce-4e2c-8315-4b13f6ae9cfd",
   "metadata": {},
   "outputs": [
    {
     "name": "stdout",
     "output_type": "stream",
     "text": [
      "15.904769230769229\n"
     ]
    }
   ],
   "source": [
    "# Mean squared error (MSE)\n",
    "loss = tf.reduce_mean(  # Equivalent to np.mean()\n",
    "    tf.square(          # Equivalent to np.square()\n",
    "        y - y_hat       # Implements broadcasting like Numpy\n",
    "    )\n",
    ")\n",
    "\n",
    "tf.print(loss)  # instead of print(), only print the value"
   ]
  },
  {
   "cell_type": "markdown",
   "id": "cd0e172e-04ba-4f97-bc0c-9e35a827b85c",
   "metadata": {},
   "source": [
    "Note that TensorFlow implements a few predefined loss functions in its keras.losses module. You can take a look at this page to see the different possibilities. For instance, we will recompute the MSE using the following."
   ]
  },
  {
   "cell_type": "code",
   "execution_count": 8,
   "id": "f8f8b3e9-eea4-420e-b19b-281def352674",
   "metadata": {},
   "outputs": [
    {
     "data": {
      "text/plain": [
       "<tf.Tensor: shape=(), dtype=float64, numpy=15.90476923076923>"
      ]
     },
     "execution_count": 8,
     "metadata": {},
     "output_type": "execute_result"
    }
   ],
   "source": [
    "tf.keras.losses.MSE(y, y_hat)"
   ]
  },
  {
   "cell_type": "markdown",
   "id": "fe819992-8a1a-4139-896e-763597461100",
   "metadata": {},
   "source": [
    "We will now use the Huber loss one for our network."
   ]
  },
  {
   "cell_type": "code",
   "execution_count": 9,
   "id": "4eae7aaf-122a-4903-9c48-c05b8cb84b1e",
   "metadata": {},
   "outputs": [
    {
     "data": {
      "text/plain": [
       "2.9202309"
      ]
     },
     "execution_count": 9,
     "metadata": {},
     "output_type": "execute_result"
    }
   ],
   "source": [
    "# Huber loss\n",
    "huber_loss = tf.keras.losses.Huber(delta=1.0)\n",
    "loss = huber_loss(y, y_hat)\n",
    "loss.numpy()"
   ]
  },
  {
   "cell_type": "markdown",
   "id": "44272a84-c0d4-4534-9843-9db732f378ed",
   "metadata": {},
   "source": [
    "### Gradients and automatic differentiation"
   ]
  },
  {
   "cell_type": "markdown",
   "id": "4ad8bdc9-1277-4883-a4d8-63ad8d334418",
   "metadata": {},
   "source": [
    "After defining the loss term, we need to compute the gradients with respect to the model parameters in order to perform the training. For that, TensorFlow employs GradientTape API for automatic differentiation. First, we need to state all the relevant operations inside the context of tf.GradientTape() via a with statement. This allows TensorFlow to record these operations on a “tape”. Once this is setup, we can then use the gradient() method to compute all the gradients."
   ]
  },
  {
   "cell_type": "code",
   "execution_count": 10,
   "id": "065139a3-2ee2-493d-8361-eb5dd9860cfb",
   "metadata": {},
   "outputs": [
    {
     "name": "stdout",
     "output_type": "stream",
     "text": [
      "tf.Tensor(-7.976000003796071, shape=(), dtype=float64)\n",
      "tf.Tensor(-0.7953846156597137, shape=(), dtype=float64)\n"
     ]
    }
   ],
   "source": [
    "# Automatic differentiation\n",
    "with tf.GradientTape() as tape:\n",
    "    y_hat = a * x + b\n",
    "    loss = huber_loss(y, y_hat) # Uses the 'y_hat' definition from the previous line\n",
    "\n",
    "grad_a, grad_b = tape.gradient(loss, [a, b])\n",
    "print(grad_a)\n",
    "print(grad_b)"
   ]
  },
  {
   "cell_type": "markdown",
   "id": "c2716796-7584-48e6-aa11-2ed3038f6b9f",
   "metadata": {},
   "source": [
    "In the code above, the gradients of loss with respect to both variables a and b are computed."
   ]
  },
  {
   "cell_type": "markdown",
   "id": "ad87daef-df64-41b9-9594-d4ce678573d9",
   "metadata": {},
   "source": [
    "#### Optimizer\n",
    "To train our model, we need to define an optimizer. You can take a look at this page which lists the different optimizers available in TensorFlow. Let’s use a simple gradient descent strategy."
   ]
  },
  {
   "cell_type": "code",
   "execution_count": 11,
   "id": "2e9b0536-aac8-49c6-a45e-ffdcc7db714f",
   "metadata": {},
   "outputs": [],
   "source": [
    "# Create the optimizer\n",
    "optimizer = tf.keras.optimizers.SGD(learning_rate=0.1)"
   ]
  },
  {
   "cell_type": "markdown",
   "id": "82b1a108-ca2b-4f32-bbe7-e41ae6773b60",
   "metadata": {},
   "source": [
    "In this code, we create a Stochastic Gradient Descent (SGD) optimizer and set its learning rate to 0.1. To apply the optimization step, we will use the apply_gradients() method."
   ]
  },
  {
   "cell_type": "code",
   "execution_count": 12,
   "id": "b5b55448-0113-44ad-bd96-98a378c61960",
   "metadata": {},
   "outputs": [
    {
     "name": "stdout",
     "output_type": "stream",
     "text": [
      "<tf.Variable 'slope:0' shape=() dtype=float64, numpy=0.7976000122647733>\n",
      "<tf.Variable 'intercept:0' shape=() dtype=float64, numpy=0.07953846275118681>\n"
     ]
    }
   ],
   "source": [
    "# Update the parameters according to gradient descent procedure (learning)\n",
    "optimizer.apply_gradients(zip([grad_a, grad_b], [a, b]))\n",
    "\n",
    "print(a)\n",
    "print(b)"
   ]
  },
  {
   "cell_type": "markdown",
   "id": "c4e8c786-44bb-4cc8-add2-527d6e2379b9",
   "metadata": {},
   "source": [
    "As you can notice, the optimizer automatically updates the slope and the intercept by applying the following rules when calling the apply_gradients() method:"
   ]
  },
  {
   "cell_type": "markdown",
   "id": "a2459148-729d-47e6-8e5d-8ba8cea7f896",
   "metadata": {},
   "source": [
    "a = a - learning_rate*grad_a\n",
    "b = b - learning_rate*grad_b"
   ]
  },
  {
   "cell_type": "markdown",
   "id": "41c58637-6e9f-4369-9c71-165e1566e67d",
   "metadata": {},
   "source": [
    "Note that one can use the minimize() method to do the last two operations, automatic differentiation and optimization, in one shot. The minimize() method computes the gradients then applies the optimization step. It combines tf.GradientTape(), gradient(), and apply_gradients()."
   ]
  },
  {
   "cell_type": "code",
   "execution_count": 13,
   "id": "72e9abde-e2a6-49ad-901c-58982854b12c",
   "metadata": {},
   "outputs": [
    {
     "name": "stdout",
     "output_type": "stream",
     "text": [
      "<tf.Variable 'slope:0' shape=() dtype=float64, numpy=0.7976000122647733>\n",
      "<tf.Variable 'intercept:0' shape=() dtype=float64, numpy=0.07953846275118681>\n"
     ]
    }
   ],
   "source": [
    "# Second alternative (all in one step)\n",
    "\n",
    "# Reinitialize slope and intercept to zero\n",
    "a = tf.Variable(initial_value=0, dtype=tf.float64, name=\"slope\")\n",
    "b = tf.Variable(initial_value=0, dtype=tf.float64, name=\"intercept\")\n",
    "\n",
    "# Run the optimizer\n",
    "optimizer.minimize(loss=lambda: huber_loss(y, a * x + b), var_list=[a, b])\n",
    "# The `loss` parameter is either a callable with no argument or a Tensor.\n",
    "\n",
    "print(a)\n",
    "print(b)\n"
   ]
  },
  {
   "cell_type": "markdown",
   "id": "c3ac0cfe-6c38-483f-a93b-10f6686609c6",
   "metadata": {},
   "source": [
    "There is also a third alternative that requires tf.GradientTape() without explicitly computing the gradients using the gradient() method. For that, we need to pass the tape parameter inside the minimize() method.\n",
    "\n"
   ]
  },
  {
   "cell_type": "code",
   "execution_count": 14,
   "id": "832d218a-7245-42b5-8e94-55e0790911db",
   "metadata": {},
   "outputs": [
    {
     "name": "stdout",
     "output_type": "stream",
     "text": [
      "<tf.Variable 'slope:0' shape=() dtype=float64, numpy=0.7976000122647733>\n",
      "<tf.Variable 'intercept:0' shape=() dtype=float64, numpy=0.07953846275118681>\n"
     ]
    }
   ],
   "source": [
    "# Third alternative\n",
    "\n",
    "# Reinitialize slope and intercept to zero\n",
    "a = tf.Variable(initial_value=0, dtype=tf.float64, name=\"slope\")\n",
    "b = tf.Variable(initial_value=0, dtype=tf.float64, name=\"intercept\")\n",
    "\n",
    "\n",
    "# Create tf.GradientTape\n",
    "with tf.GradientTape() as tape:\n",
    "    y_hat = a * x + b\n",
    "    loss = huber_loss(y, y_hat)\n",
    "\n",
    "# Run the optimizer\n",
    "optimizer.minimize(loss=loss, var_list=[a, b], tape=tape)\n",
    "# The `loss` parameter is a Tensor here.\n",
    "\n",
    "print(a)\n",
    "print(b)"
   ]
  },
  {
   "cell_type": "markdown",
   "id": "7596fd33-bd22-4691-b037-cd804b283855",
   "metadata": {},
   "source": [
    "### Training\n",
    "Let’s now group everything together and perform the training to learn the a and b parameters."
   ]
  },
  {
   "cell_type": "code",
   "execution_count": 15,
   "id": "e163f514-1b7a-4032-8bfa-e21b42cfa9ca",
   "metadata": {},
   "outputs": [],
   "source": [
    "# Initialize slope and intercept parameters\n",
    "a = tf.Variable(initial_value=0, dtype=tf.float64, name=\"slope\")\n",
    "b = tf.Variable(initial_value=0, dtype=tf.float64, name=\"intercept\")\n",
    "\n",
    "# Import input/target data\n",
    "x = tf.constant(data_df.body)\n",
    "y = tf.constant(data_df.brain)\n",
    "\n",
    "# Define the optimizer\n",
    "optimizer = tf.keras.optimizers.SGD(learning_rate=0.1)\n",
    "\n",
    "# Monitor the a/b and loss values\n",
    "loss_values = []\n",
    "a_values = []\n",
    "b_values = []\n",
    "\n",
    "# Run 100 times the training operation\n",
    "for _ in range(100):\n",
    "    with tf.GradientTape() as tape:\n",
    "        y_hat = a * x + b\n",
    "        loss = huber_loss(y, y_hat)\n",
    "    optimizer.minimize(loss=loss, var_list=[a, b], tape=tape)\n",
    "    # Another alternative\n",
    "    # grad_a, grad_b = tape.gradient(loss, [a,b])\n",
    "    # optimizer.apply_gradients(zip([grad_a,grad_b],[a,b]))\n",
    "\n",
    "    # Save values\n",
    "    a_values.append(a.numpy())  # convert to numpy (tf.Variable is mutable)\n",
    "    b_values.append(b.numpy())\n",
    "    loss_values.append(loss)"
   ]
  },
  {
   "cell_type": "markdown",
   "id": "e3886fd0-0707-45dd-9e26-856e30a326e9",
   "metadata": {},
   "source": [
    "In this code, we run the training operation a hundred times using a for loop that iterates over the list of digits between 0 and 99 generated with the range() function. At each iteration, we save the loss and parameter values into the loss_values, a_values and b_values lists. Note that we use the “throwaway” variable _ to discard unused results.\n",
    "\n",
    "Let’s plot the loss and parameter values."
   ]
  },
  {
   "cell_type": "code",
   "execution_count": 16,
   "id": "c8b01419-7a85-4472-b5b2-a42c9e98d1f1",
   "metadata": {},
   "outputs": [
    {
     "data": {
      "image/png": "[encoded data removed]",
      "text/plain": [
       "<Figure size 864x216 with 3 Axes>"
      ]
     },
     "metadata": {},
     "output_type": "display_data"
    }
   ],
   "source": [
    "# Create figure with a subplot for each list of values\n",
    "fig, (ax1, ax2, ax3) = plt.subplots(nrows=1, ncols=3, figsize=(12, 3))\n",
    "\n",
    "# Plot loss values\n",
    "ax1.set_title(\"Loss\")\n",
    "ax1.plot(loss_values)\n",
    "\n",
    "# Plot slope values\n",
    "ax2.set_title(\"a\")\n",
    "ax2.plot(a_values)\n",
    "\n",
    "# Plot intercept values\n",
    "ax3.set_title(\"b\")\n",
    "ax3.plot(b_values)\n",
    "\n",
    "plt.show()"
   ]
  },
  {
   "cell_type": "markdown",
   "id": "c8350e32-ce41-43b1-b191-a1c3200fd30d",
   "metadata": {},
   "source": [
    "As we can see, the loss value oscillates between 4.5 and 2 which means that gradient descent is having issues learning the a and b values.\n",
    "We saw in the last course that the algorithm is sensitive to the scale of the input data. Let’s try to standardize the body weights. Instead of modifying our data, let’s add a standardization operation in our network that standardizes the values in x using the mean and standard deviation statistics of the body weights in data_df.\n",
    "\n"
   ]
  },
  {
   "cell_type": "code",
   "execution_count": 17,
   "id": "1bfe81f6-0117-46bd-a0b3-e1759855eb55",
   "metadata": {},
   "outputs": [
    {
     "name": "stdout",
     "output_type": "stream",
     "text": [
      "Mean: 8.643076923076922\n",
      "Std: 3.538620732204927\n"
     ]
    }
   ],
   "source": [
    "import numpy as np\n",
    "\n",
    "# Compute mean and std of input variable\n",
    "print(\"Mean:\", np.mean(data_df.body))\n",
    "print(\"Std:\", np.std(data_df.body))"
   ]
  },
  {
   "cell_type": "code",
   "execution_count": 18,
   "id": "814ed50e-a7dc-48f5-893a-32d8ab2c299d",
   "metadata": {},
   "outputs": [],
   "source": [
    "def standard_scaling(x):\n",
    "    return (x - 8.643) / 3.539"
   ]
  },
  {
   "cell_type": "markdown",
   "id": "7c22304a-0536-4b6e-b146-50f2f89d9b82",
   "metadata": {},
   "source": [
    "We can now repeat the whole training by applying standard_scaling()."
   ]
  },
  {
   "cell_type": "code",
   "execution_count": 19,
   "id": "5cfc2834-3826-4567-98dd-9aa2fa652253",
   "metadata": {},
   "outputs": [],
   "source": [
    "# Import input/target data\n",
    "x = tf.constant(data_df.body)\n",
    "y = tf.constant(data_df.brain)\n",
    "\n",
    "# Initialize slope and intercept parameters\n",
    "a = tf.Variable(initial_value=0, dtype=tf.float64, name=\"slope\")\n",
    "b = tf.Variable(initial_value=0, dtype=tf.float64, name=\"intercept\")\n",
    "\n",
    "# Define the optimizer\n",
    "optimizer = tf.keras.optimizers.SGD(learning_rate=0.1)\n",
    "\n",
    "# Monitor the a/b and loss values\n",
    "loss_values = []\n",
    "a_values = []\n",
    "b_values = []\n",
    "\n",
    "# Run 100 times the training operation\n",
    "for _ in range(100):\n",
    "    with tf.GradientTape() as tape:\n",
    "        x_standardized = standard_scaling(x)\n",
    "        y_hat = a * x_standardized + b\n",
    "        loss = huber_loss(y, y_hat)\n",
    "    optimizer.minimize(loss=loss, var_list=[a, b], tape=tape)\n",
    "\n",
    "    # Save values\n",
    "    a_values.append(a.numpy())  # convert to numpy (tf.Variable is mutable)\n",
    "    b_values.append(b.numpy())\n",
    "    loss_values.append(loss)"
   ]
  },
  {
   "cell_type": "code",
   "execution_count": 25,
   "id": "7b54f50b-626f-4f3f-b208-c8477e69b571",
   "metadata": {},
   "outputs": [
    {
     "data": {
      "image/png": "[encoded data removed]",
      "text/plain": [
       "<Figure size 864x216 with 3 Axes>"
      ]
     },
     "metadata": {},
     "output_type": "display_data"
    }
   ],
   "source": [
    "# Create figure with a subplot for each list of values\n",
    "fig, (ax1, ax2, ax3) = plt.subplots(nrows=1, ncols=3, figsize=(12, 3))\n",
    "\n",
    "# Plot loss values\n",
    "ax1.set_title(\"Loss\")\n",
    "ax1.plot(loss_values)\n",
    "\n",
    "# Plot slope values\n",
    "ax2.set_title(\"a\")\n",
    "ax2.plot(a_values)\n",
    "\n",
    "# Plot intercept values\n",
    "ax3.set_title(\"b\")\n",
    "ax3.plot(b_values)\n",
    "\n",
    "plt.show()"
   ]
  },
  {
   "cell_type": "markdown",
   "id": "1e27a04a-3f1a-4011-90f4-ab92cc96a91f",
   "metadata": {},
   "source": [
    "Let’s plot the loss and parameter values (using the same code above)."
   ]
  },
  {
   "cell_type": "markdown",
   "id": "d3ca2ab2-1243-4252-89ec-4e1d098798f3",
   "metadata": {},
   "source": [
    "This time, the loss value keeps decreasing after each iteration and the a and b values seem to stabilize after a hundred iterations."
   ]
  },
  {
   "cell_type": "markdown",
   "id": "f6cadcea-ca51-4d70-8641-d99e00de5eea",
   "metadata": {},
   "source": [
    "### Prediction\n",
    "Finally, let’s see how to use our network to predict brain weights. We will compute the predictions for a hundred sample body weights between the minimum and the maximum body weight values.\n",
    "\n"
   ]
  },
  {
   "cell_type": "code",
   "execution_count": 20,
   "id": "dd2034eb-9a3d-40fb-96f0-5fd6db676f2e",
   "metadata": {},
   "outputs": [],
   "source": [
    "# Create a hundred sample body weights\n",
    "x_values = np.linspace(\n",
    "    data_df.body.min(),  # Between the minimum\n",
    "    data_df.body.max(),  # and maximum body weight values\n",
    "    num=100,\n",
    ")"
   ]
  },
  {
   "cell_type": "code",
   "execution_count": 21,
   "id": "f5526f4b-0870-48dc-8aae-cc5aa99e7c82",
   "metadata": {},
   "outputs": [],
   "source": [
    "# Extract the optimal parameters a and b\n",
    "a_op = (a_values[-1],)  # last slope value\n",
    "b_op = b_values[-1]     # last intercept value\n",
    "y_values = a_op * standard_scaling(x_values) + b_op"
   ]
  },
  {
   "cell_type": "markdown",
   "id": "2f341533-d52d-4855-9e87-ac4995cc4739",
   "metadata": {},
   "source": [
    "We pass the last slope and intercept values from the a_values and b_values lists and save the predictions in a y_values.\n",
    "\n",
    "Let’s plot the predictions with Seaborn. We plot the data points from the data_df DataFrame and the predictions from the x_values and y_values variables."
   ]
  },
  {
   "cell_type": "code",
   "execution_count": 22,
   "id": "67c28000-4963-40bb-866d-1c35cca66f7a",
   "metadata": {},
   "outputs": [
    {
     "data": {
      "image/png": "[encoded data removed]",
      "text/plain": [
       "<Figure size 432x288 with 1 Axes>"
      ]
     },
     "metadata": {},
     "output_type": "display_data"
    }
   ],
   "source": [
    "# Plot data with sample predictions\n",
    "plt.scatter(data_df.body, data_df.brain, label=None)\n",
    "plt.plot(x_values, y_values, label=\"Huber loss\", color=\"C3\")\n",
    "plt.xlabel(\"Body weight (log)\")\n",
    "plt.ylabel(\"Brain weight (log)\")\n",
    "plt.legend()\n",
    "plt.show()"
   ]
  },
  {
   "cell_type": "markdown",
   "id": "0cdf4596-9d00-498e-b92f-19bfd63298d1",
   "metadata": {},
   "source": [
    "Thanks to Huber loss, our linear regression ignores the three outliers and the line fits well the data points."
   ]
  },
  {
   "cell_type": "markdown",
   "id": "946ed060-2c9d-4b26-98e7-016b377e1156",
   "metadata": {},
   "source": [
    "### Graph execution in TensorFlow\n",
    "So far, we have built and trained a simple network (a linear regression model) using TensorFlow’s default mode of execution. This mode is called the “eager execution” mode. Eager execution means that TensorFlow operations are immediately, or eagerly, executed in Python through an intuitive interface. This makes debugging and development straightforward. For more on the eager execution mode, check this official documentation page.\n",
    "\n",
    "However, TensorFlow has another mode of execution that applies distributed training in order to speedup the performance for large models. This mode is called the “graph execution” mode. It enables faster training and takes advantage of distributed setups when available (e.g. GPU). The graph mode creates a new Python data structure out of your code. The new data structure is called dataflow graph, also know as computation graph. This helps to create faster and portable models that work in general coding environments. For more details on the graph mode, you can check the official documentations here and here.\n",
    "\n",
    "In order to enable the graph mode, one just needs to refactor the code into small functions and use the python decorator @tf.function before each function as shown in the code below.\n",
    "\n"
   ]
  },
  {
   "cell_type": "code",
   "execution_count": 23,
   "id": "f0c1961b-99d1-4e2d-abf7-46d744acdaff",
   "metadata": {},
   "outputs": [],
   "source": [
    "# Define the loss (if not done yet)\n",
    "huber_loss = tf.keras.losses.Huber(delta=1.0)\n",
    "\n",
    "# Define the optimizer (if not done yet)\n",
    "optimizer = tf.keras.optimizers.SGD(learning_rate=0.1)"
   ]
  },
  {
   "cell_type": "code",
   "execution_count": 24,
   "id": "f02df80f-d839-44be-8fcc-0640ba055040",
   "metadata": {},
   "outputs": [],
   "source": [
    "# Compute the predictions\n",
    "@tf.function\n",
    "def compute_prediction(x, a, b):\n",
    "    x_standardized = standard_scaling(x)\n",
    "    y_hat = a * x_standardized + b\n",
    "    return y_hat\n",
    "\n",
    "\n",
    "# Compute the loss\n",
    "@tf.function\n",
    "def compute_loss(y, y_hat):\n",
    "    return huber_loss(y, y_hat)\n",
    "\n",
    "\n",
    "# Train the model\n",
    "@tf.function\n",
    "def train(x, y, a, b):\n",
    "    with tf.GradientTape() as tape:\n",
    "        y_hat = compute_prediction(x, a, b)\n",
    "        loss = compute_loss(y, y_hat)\n",
    "    optimizer.minimize(loss=loss, var_list=[a, b], tape=tape)\n",
    "    return a, b, loss"
   ]
  },
  {
   "cell_type": "markdown",
   "id": "a67afd94-db27-4740-b9c3-7fbc67a83dfb",
   "metadata": {},
   "source": [
    "From the first sight, these functions look like any other Python function. However, there is something more complicated going in the background when using @tf.function. Underneath, tf.function uses a library called AutoGraph (tf.autograph) to convert our Python code into a more efficient graph-based code.\n",
    "\n",
    "The tf.fucntion decorator allows TensorFlow to automatically transform the underlying function into a more efficient dataflow graph. It is not required to decorate each of these functions with tf.function. This is because tf.function is applied to the decorated function and all other functions it calls. Here, it is enough to decorate the function train() to guarantee that the graph mode is enabled.\n",
    "\n",
    "Refactoring the code into small functions is indeed possible in the eager execution mode to better organize the code. This is not what activates the graph mode. It is rather the tf.fucntion decorator that activates the graph mode."
   ]
  },
  {
   "cell_type": "code",
   "execution_count": 26,
   "id": "34f21407-8412-44e4-90b0-2d96245c27da",
   "metadata": {},
   "outputs": [],
   "source": [
    "#Let’s now train the model.\n",
    "\n",
    "# Import input/target data\n",
    "x = tf.constant(data_df.body)\n",
    "y = tf.constant(data_df.brain)\n",
    "\n",
    "\n",
    "# Reinitialize slope and intercept parameters to zero\n",
    "a = tf.Variable(initial_value=0, dtype=tf.float64, name=\"slope\")\n",
    "b = tf.Variable(initial_value=0, dtype=tf.float64, name=\"intercept\")\n",
    "\n",
    "\n",
    "# Monitor the a/b and loss values\n",
    "loss_values = []\n",
    "a_values = []\n",
    "b_values = []\n",
    "\n",
    "# Run 100 times the training operation\n",
    "for _ in range(100):\n",
    "    a_val, b_val, loss_val = train(x, y, a, b)\n",
    "\n",
    "    # Save values\n",
    "    a_values.append(a_val.numpy())  # convert to numpy (tf.Variable is mutable)\n",
    "    b_values.append(b_val.numpy())\n",
    "    loss_values.append(loss_val)"
   ]
  },
  {
   "cell_type": "markdown",
   "id": "dcbb6f80-ad88-4b91-97af-f8ffb2a21300",
   "metadata": {},
   "source": [
    "You can use the time module to compare the performance speed of the eager execution vs. the graph execution modes. For this example, the graph execution is almost twice as fast as the eager execution, but the overall time difference is not that significant because we are training a simple model. In the subsequent units, you will notice the difference when considering a more complex architecture.\n",
    "\n",
    "Note that in the current TensorFlow graph mode that employs tf.function, the variables tf.Variable are only created once (when the tf.function-decorated functions are first called). Hence, It is recommended to create all the tf.Variable outside such functions. The same applies to tf.keras.optimizers. Furthermore, reinitializing tf.keras.optimizers after the function call might require rerunning the function definition. This issue will not occur if tf.function is not employed (i.e. in the eager mode). It is one of the subtle differences between the eager execution mode and the graph mode. More details in this page.\n",
    "\n",
    "Let’s now plot the loss and the predictions (using the same code above), to verify that the result is the same."
   ]
  },
  {
   "cell_type": "code",
   "execution_count": 27,
   "id": "4abcc1f9-192b-45f3-bfbb-dece736ebd0a",
   "metadata": {},
   "outputs": [
    {
     "data": {
      "image/png": "[encoded data removed]",
      "text/plain": [
       "<Figure size 864x216 with 3 Axes>"
      ]
     },
     "metadata": {},
     "output_type": "display_data"
    }
   ],
   "source": [
    "# Create figure with a subplot for each list of values\n",
    "fig, (ax1, ax2, ax3) = plt.subplots(nrows=1, ncols=3, figsize=(12, 3))\n",
    "\n",
    "# Plot loss values\n",
    "ax1.set_title(\"Loss\")\n",
    "ax1.plot(loss_values)\n",
    "\n",
    "# Plot slope values\n",
    "ax2.set_title(\"a\")\n",
    "ax2.plot(a_values)\n",
    "\n",
    "# Plot intercept values\n",
    "ax3.set_title(\"b\")\n",
    "ax3.plot(b_values)\n",
    "\n",
    "plt.show()"
   ]
  },
  {
   "cell_type": "code",
   "execution_count": 28,
   "id": "3aa8ae8d-b2f3-4252-8a78-22bdba742933",
   "metadata": {},
   "outputs": [
    {
     "data": {
      "image/png": "[encoded data removed]",
      "text/plain": [
       "<Figure size 432x288 with 1 Axes>"
      ]
     },
     "metadata": {},
     "output_type": "display_data"
    }
   ],
   "source": [
    "# Plot data with sample predictions\n",
    "plt.scatter(data_df.body, data_df.brain, label=None)\n",
    "plt.plot(x_values, y_values, label=\"Huber loss\", color=\"C3\")\n",
    "plt.xlabel(\"Body weight (log)\")\n",
    "plt.ylabel(\"Brain weight (log)\")\n",
    "plt.legend()\n",
    "plt.show()"
   ]
  },
  {
   "cell_type": "code",
   "execution_count": null,
   "id": "86adf581-ffd9-4ae8-b867-ab0f2077ec9b",
   "metadata": {},
   "outputs": [],
   "source": []
  }
 ],
 "metadata": {
  "kernelspec": {
   "display_name": "Python [conda env:adsml] *",
   "language": "python",
   "name": "conda-env-adsml-py"
  },
  "language_info": {
   "codemirror_mode": {
    "name": "ipython",
    "version": 3
   },
   "file_extension": ".py",
   "mimetype": "text/x-python",
   "name": "python",
   "nbconvert_exporter": "python",
   "pygments_lexer": "ipython3",
   "version": "3.9.7"
  }
 },
 "nbformat": 4,
 "nbformat_minor": 5
}
