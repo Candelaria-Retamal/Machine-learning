{
 "cells": [
  {
   "cell_type": "markdown",
   "metadata": {},
   "source": [
    "Body brain weights outliers\n",
    "---"
   ]
  },
  {
   "cell_type": "markdown",
   "metadata": {},
   "source": [
    "Exercise: Load an plot the data\n",
    "---\n",
    "\n",
    "> **Exercise**: Load the dataset into a `data_df` DataFrame. Load the `body` and `brain` columns into x/y Numpy arrays. Apply the Numpy `log()` function to both variables, store the result in a `x_log` and a `y_log` variable, and plot them."
   ]
  },
  {
   "cell_type": "code",
   "execution_count": null,
   "metadata": {},
   "outputs": [],
   "source": [
    "import pandas as pd\n",
    "import os\n",
    "\n",
    "# Load dataset\n",
    "data_df = pd.read_csv(\"c3_body-brain-weights.csv\")\n",
    "\n",
    "# Display first five rows\n",
    "data_df.head()"
   ]
  },
  {
   "cell_type": "code",
   "execution_count": null,
   "metadata": {},
   "outputs": [],
   "source": [
    "import numpy as np\n",
    "\n",
    "# Create x/y Numpy arrays\n",
    "x = data_df.body.values\n",
    "y = data_df.brain.values\n",
    "\n",
    "# Apply logarithmic scale\n",
    "x_log = np.log(x)\n",
    "y_log = np.log(y)"
   ]
  },
  {
   "cell_type": "code",
   "execution_count": null,
   "metadata": {},
   "outputs": [],
   "source": [
    "%matplotlib inline\n",
    "import matplotlib.pyplot as plt\n",
    "\n",
    "# Plot the x and y variables\n",
    "plt.scatter(x_log, y_log)\n",
    "plt.xlabel(\"log(body weight)\")\n",
    "plt.ylabel(\"log(brain weight)\")\n",
    "plt.show()"
   ]
  },
  {
   "cell_type": "markdown",
   "metadata": {},
   "source": [
    "Exercise: Filter outliers and fit a linear regression\n",
    "---\n",
    "\n",
    "> **Exercise**: (A) Fit a linear regression to `x_log` and `y_log`. (B) Filter the three outliers. (C) Fit another linear regression. (D) Visually compare the two models by plotting their prediction lines."
   ]
  },
  {
   "cell_type": "code",
   "execution_count": null,
   "metadata": {},
   "outputs": [],
   "source": [
    "# (A) Fit a linear regression using all the data points\n",
    "coefs_lr1 = np.polyfit(x_log, y_log, deg=1)\n",
    "\n",
    "# (B) Filter the three outliers\n",
    "idx = (x_log > 15) & (y_log < 6)\n",
    "x2_log, y2_log = x_log[~idx], y_log[~idx]\n",
    "\n",
    "# (C) Fit a linear regression using the rest of the data points\n",
    "coefs_lr2 = np.polyfit(x2_log, y2_log, deg=1)\n",
    "\n",
    "# (D) Compare the two models\n",
    "x_values = np.linspace(min(x2_log), max(x2_log), num=100)\n",
    "y_values_lr1 = np.polyval(coefs_lr1, x_values)\n",
    "y_values_lr2 = np.polyval(coefs_lr2, x_values)\n",
    "\n",
    "plt.scatter(x_log, y_log)\n",
    "plt.plot(x_values, y_values_lr1, c=\"C3\", label=\"with outliers\")\n",
    "plt.plot(x_values, y_values_lr2, label=\"without\")\n",
    "plt.legend()\n",
    "plt.xlabel(\"log(body weight)\")\n",
    "plt.ylabel(\"log(brain weight)\")\n",
    "plt.show()"
   ]
  },
  {
   "cell_type": "markdown",
   "metadata": {},
   "source": [
    "Exercise: Fit a linear regression using Huber loss\n",
    "---\n",
    "\n",
    "> **Exercise**: Fit a linear regression to `x_log` and `y_log` using Huber loss. Plot the prediction line.\n",
    "\n",
    "**Self-assessment**: You should get a result close to the linear regression without outliers."
   ]
  },
  {
   "cell_type": "code",
   "execution_count": null,
   "metadata": {},
   "outputs": [],
   "source": [
    "from sklearn.linear_model import HuberRegressor\n",
    "\n",
    "# Create object\n",
    "lr_huber = HuberRegressor(epsilon=1.1)\n",
    "\n",
    "# Fit it\n",
    "lr_huber.fit(x_log[:, np.newaxis], y_log)\n",
    "\n",
    "# Compute predictions\n",
    "y_values_huber = lr_huber.predict(x_values[:, np.newaxis])\n",
    "\n",
    "# Plot the prediction line\n",
    "plt.scatter(x_log, y_log)\n",
    "plt.plot(x_values, y_values_lr2, label=\"lr without outliers\")\n",
    "plt.plot(x_values, y_values_huber, c=\"C3\", label=\"huber loss\")\n",
    "plt.xlabel(\"log(body weight)\")\n",
    "plt.ylabel(\"log(brain weight)\")\n",
    "plt.legend()\n",
    "plt.show()"
   ]
  },
  {
   "cell_type": "markdown",
   "metadata": {},
   "source": [
    "Exercise: Comptue the *Encephalization Quotient (EQ)*\n",
    "---\n",
    "\n",
    "We saw that the equation of a simple linear regression for variables on a logarithmic scale: $\\log\\left(y\\right)=a\\log\\left(x\\right)+b$ is equivalent to $y=cx^{a}$ where $c=e^{b}$. In our example, we can use this equation to calculate the **Encephalization Quotient (EQ)**.\n",
    "\n",
    "The idea is to compute estimations of brain weights for each data point using $\\hat{y}=cx^{a}$ and compare them to the actual brain weights. The EQ coefficient is defined as\n",
    "\n",
    "$$\n",
    "\\text{EQ}=\\frac{y}{\\hat{y}}\n",
    "$$\n",
    "\n",
    "> **Exercise**: (A) Create the `a` and `c` values using the coefficients of the linear regression model without outliers. (B) Compute the estimated brain weights $\\hat{y}$. (C) Compute the EQ values and add them to the `data_df` DataFrame. (D) Print the five rows with the largest quotients.\n",
    "\n",
    "**Self-assessment**: You should see humans and monkeys in the first places - humans with an EQ around 7."
   ]
  },
  {
   "cell_type": "code",
   "execution_count": null,
   "metadata": {},
   "outputs": [],
   "source": [
    "# (A) Create a and c values\n",
    "a, b = coefs_lr2\n",
    "c = np.exp(b)\n",
    "print(\"brain = {:.3f}*body^{:.3f}\".format(c, a))\n",
    "\n",
    "# (B) Compute predicted brain weights\n",
    "y_pred = c * x ** (a)\n",
    "\n",
    "# (C) Compute EQ\n",
    "data_df[\"EQ\"] = y / y_pred\n",
    "\n",
    "# (D) Print the five largest quotients\n",
    "data_df.sort_values(by=\"EQ\", ascending=False).head()"
   ]
  },
  {
   "cell_type": "markdown",
   "metadata": {},
   "source": [
    "Alternative solution\n",
    "---"
   ]
  },
  {
   "cell_type": "code",
   "execution_count": null,
   "metadata": {},
   "outputs": [],
   "source": [
    "# (A) Extract coefficients\n",
    "a, b = coefs_lr2\n",
    "print(\"log(brain) = {:.3f}*log(body) + ({:.3f})\".format(a, b))\n",
    "\n",
    "# (B) Compute predicted brain weights\n",
    "y_pred_log = a * np.log(x) + b\n",
    "y_pred = np.exp(y_pred_log)\n",
    "\n",
    "# (C) Compute EQ\n",
    "data_df[\"EQ\"] = y / y_pred\n",
    "\n",
    "# (D) Print the five largest quotients\n",
    "data_df.sort_values(by=\"EQ\", ascending=False).head()"
   ]
  }
 ],
 "metadata": {
  "kernelspec": {
   "display_name": "Python 3",
   "language": "python",
   "name": "python3"
  },
  "language_info": {
   "codemirror_mode": {
    "name": "ipython",
    "version": 3
   },
   "file_extension": ".py",
   "mimetype": "text/x-python",
   "name": "python",
   "nbconvert_exporter": "python",
   "pygments_lexer": "ipython3",
   "version": "3.9.2"
  }
 },
 "nbformat": 4,
 "nbformat_minor": 2
}
