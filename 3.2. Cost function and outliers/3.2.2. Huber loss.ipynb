{
 "cells": [
  {
   "cell_type": "markdown",
   "id": "899912dd-b9f8-4985-a533-43657c9e9bfd",
   "metadata": {},
   "source": [
    "### Huber loss\n",
    "We will now learn about the Huber loss which is a way to combine the RSS and MAE cost functions. At the end of this unit, you should be able to fit models with this objective function using objects from the Scikit-learn library. Huber loss is a cost function which is robust to outliers and smooth. In fact, its formula uses both the absolute value and the square function."
   ]
  },
  {
   "cell_type": "code",
   "execution_count": 1,
   "id": "558d7e6d-35e4-43db-a1e8-5108d9631821",
   "metadata": {},
   "outputs": [
    {
     "data": {
      "image/png": "[encoded data removed]",
      "text/plain": [
       "<IPython.core.display.Image object>"
      ]
     },
     "execution_count": 1,
     "metadata": {},
     "output_type": "execute_result"
    }
   ],
   "source": [
    "from IPython.display import Image\n",
    "Image(filename=\"huber.png\")"
   ]
  },
  {
   "cell_type": "markdown",
   "id": "757d4b62-033d-4c2f-92d4-9fb5dafcec20",
   "metadata": {},
   "source": [
    "In our case, the variable e refers to the residual e=(y-y_hat) and L(e) is the loss value of a single data point. The formula defines two cases using a threshold δ. When the magnitude of the residual is below \n",
    "δ (small error), the function increases quadratically like the RSS one and then, for larger errors, linearly like the MAE one."
   ]
  },
  {
   "cell_type": "markdown",
   "id": "7f437c1e-522b-45c4-808f-63f3623b1d72",
   "metadata": {},
   "source": [
    "#### Implementation with SGDRegressor\n",
    "In practice, it’s a good idea to try to use the Huber loss if there are outliers in the data. Let’s test it on our modified marketing campaign dataset\n"
   ]
  },
  {
   "cell_type": "code",
   "execution_count": 2,
   "id": "8f1daaa4-ddc4-44e0-88a4-baf8ce4087a0",
   "metadata": {},
   "outputs": [],
   "source": [
    "import pandas as pd\n",
    "from sklearn.preprocessing import scale\n",
    "\n",
    "# Load data\n",
    "data_df = pd.read_csv(\"c3_marketing-outliers.csv\")\n",
    "x = scale(data_df.tv.values)  # SGDRegressor requires data to be rescaled\n",
    "y = data_df.sales.values"
   ]
  },
  {
   "cell_type": "markdown",
   "id": "0e26876a-5767-40e5-b8a1-c7439519c4ef",
   "metadata": {},
   "source": [
    "The Numpy polyfit() function doesn’t implement Huber loss. Hence, we will now switch to the Scikit-learn library which provides many machine learning models. The workflow is a bit different with this library. Instead of calling functions directly, we create objects that we fit to datasets.\n",
    "\n",
    "Let’s start with the SGDRegressor object. First, we need to import it from the linear_model module from Scikit-learn.\n",
    "\n",
    "The SGDRegressor object implements the stochastic gradient descent (SGD) algorithm which is a very generic algorithm that can minimize a great variety of cost functions. For this reason, the object has many parameters.\n",
    "\n",
    "By default, it minimizes the square of the residuals plus a penalization term. As for now, let’s remove the penalization term by setting penalty='none'. We can then change the loss function to Huber with loss='huber' and set the threshold value δ with the epsilon parameter."
   ]
  },
  {
   "cell_type": "code",
   "execution_count": 3,
   "id": "8e2a3538-00c4-4167-a8f2-ea71f057f8f6",
   "metadata": {},
   "outputs": [],
   "source": [
    "from sklearn.linear_model import SGDRegressor\n",
    "# Create a linear regression with Huber loss\n",
    "lr_huber = SGDRegressor(\n",
    "    loss=\"huber\", penalty=\"none\", epsilon=1, max_iter=1000, tol=1e-3\n",
    ")"
   ]
  },
  {
   "cell_type": "markdown",
   "id": "29642392-27e9-4272-86ac-162214eaa4a5",
   "metadata": {},
   "source": [
    "* The penalization term is useful to fight overfitting. In the machine learning vocabulary, it is called a hyperparameter. We will learn more about it later in this course."
   ]
  },
  {
   "cell_type": "markdown",
   "id": "b039eac6-5c57-483a-8df7-39c3d3c2214e",
   "metadata": {},
   "source": [
    "SGD is an iterative algorithm that tries to minimize the objective function by taking small steps in the direction of the optimal solution. For this reason, we need to specify when it stops. With the code from above, SGD stops when the loss stops improving (tol parameter) or when it reaches some maximum number of iterations (max_iter one). Regarding the values, we simply use the defaults, recommended ones from Scikit-learn.\n",
    "\n",
    "We can now fit the model to the data with its fit() function."
   ]
  },
  {
   "cell_type": "code",
   "execution_count": 4,
   "id": "cf1b859c-d30f-4833-bdb4-666dc92fde69",
   "metadata": {},
   "outputs": [
    {
     "data": {
      "text/plain": [
       "SGDRegressor(epsilon=1, loss='huber', penalty='none')"
      ]
     },
     "execution_count": 4,
     "metadata": {},
     "output_type": "execute_result"
    }
   ],
   "source": [
    "import numpy as np\n",
    "\n",
    "# Fit the model\n",
    "lr_huber.fit(x[:, np.newaxis], y)"
   ]
  },
  {
   "cell_type": "markdown",
   "id": "62a42e42-eb9f-4f1f-bdec-3c8a947438bc",
   "metadata": {},
   "source": [
    "In machine learning, datasets usually have several features. For this reason, Scikit-learn objects expect to get a 2-dimensional array of features. In our case, the x variable is a vector with shape (55,), but we can convert it to a matrix of shape (55,1) by adding a new axis with the [:, np.newaxis] syntax.\n",
    "\n",
    "When Scikit-learn fits the model, it stores the optimal parameters in a coef_ and an intercept_ attribute."
   ]
  },
  {
   "cell_type": "code",
   "execution_count": 5,
   "id": "cb49637c-46ae-4241-84c7-beff36404d9c",
   "metadata": {},
   "outputs": [
    {
     "name": "stdout",
     "output_type": "stream",
     "text": [
      "Slope: [1.12874452]\n",
      "Intercept term: [3.7904236]\n"
     ]
    }
   ],
   "source": [
    "# Print the slope of the line\n",
    "print(\"Slope:\", lr_huber.coef_)\n",
    "# Print the intercept parameter\n",
    "print(\"Intercept term:\", lr_huber.intercept_)"
   ]
  },
  {
   "cell_type": "markdown",
   "id": "b4cb4587-24dc-4ea3-b71b-157d218dc669",
   "metadata": {},
   "source": [
    "If you run the fit() instruction from above several times and print the parameters, you should see that they vary slightly between each run. This is due to the stochastic nature of the SGD algorithm. We will learn more about the gradient descent algorithm later in this course, but in short, its stochastic version (SGD) optimizes the loss function by picking a random data point at each iteration. For this reason, we say that the algorithm is stochastic because the results depend on these random choices.\n",
    "\n",
    "We can now visualize our linear regression by generating a hundred data points between min(x) and max(x) with the Numpy linspace() function. We could use the Numpy polyval() function to compute predictions, but Scikit-learn objects also have a predict() function that uses the values in the coef_ and the intercept_ attributes.\n",
    "\n"
   ]
  },
  {
   "cell_type": "code",
   "execution_count": 6,
   "id": "e6523136-f657-491c-9431-a6cb22585721",
   "metadata": {},
   "outputs": [],
   "source": [
    "# Compute prediction line\n",
    "x_values = np.linspace(min(x), max(x), num=100)  # Shape (100,)\n",
    "y_values_huber = lr_huber.predict(x_values[:, np.newaxis])  # Shape (100,1)"
   ]
  },
  {
   "cell_type": "markdown",
   "id": "7f21adf6-fe6a-4696-b47d-c83ef8974658",
   "metadata": {},
   "source": [
    "Again, we need to add a dimension to the x_values vector since Scikit-learn works with 2-dimensional arrays of features. Let’s plot the prediction line\n",
    "\n"
   ]
  },
  {
   "cell_type": "code",
   "execution_count": 7,
   "id": "bc47b6fd-69bf-434d-abdb-c4d6c5953343",
   "metadata": {},
   "outputs": [
    {
     "data": {
      "image/png": "[encoded data removed]",
      "text/plain": [
       "<Figure size 432x288 with 1 Axes>"
      ]
     },
     "metadata": {
      "needs_background": "light"
     },
     "output_type": "display_data"
    }
   ],
   "source": [
    "%matplotlib inline\n",
    "import matplotlib.pyplot as plt\n",
    "\n",
    "# Plot predictions\n",
    "plt.scatter(x, y)\n",
    "plt.plot(x_values, y_values_huber, c=\"C3\", label=\"huber\")\n",
    "plt.xlabel(\"tv budget - scaled\")\n",
    "plt.ylabel(\"sales in thousands\")\n",
    "plt.legend()\n",
    "plt.show()"
   ]
  },
  {
   "cell_type": "markdown",
   "id": "e97410f5-5f02-4949-963e-ea1112230692",
   "metadata": {},
   "source": [
    "Now, let’s compare this line to the one that we get when minimizing the squares of the residuals, e.g., as with the polyfit() function. To achieve this, we can simply change the loss parameter to squared_error"
   ]
  },
  {
   "cell_type": "code",
   "execution_count": 8,
   "id": "dbfad36d-f81b-4de6-8073-430858a69166",
   "metadata": {},
   "outputs": [],
   "source": [
    "# Create a linear regression with RSS loss\n",
    "lr_squared = SGDRegressor(loss=\"squared_error\", penalty=\"none\", max_iter=1000, tol=1e-3)"
   ]
  },
  {
   "cell_type": "markdown",
   "id": "b4e7c687-77cd-414d-83ce-f686674b7af9",
   "metadata": {},
   "source": [
    "Again, we can visualize the line by computing predictions for the hundred points in the x_values array from above\n",
    "\n"
   ]
  },
  {
   "cell_type": "code",
   "execution_count": 9,
   "id": "a5f815f8-9609-48a8-8201-a3706f8eebaa",
   "metadata": {},
   "outputs": [],
   "source": [
    "# Fit the model\n",
    "lr_squared.fit(x[:, np.newaxis], y)\n",
    "\n",
    "# Compute prediction line\n",
    "y_values_squared = lr_squared.predict(x_values[:, np.newaxis])"
   ]
  },
  {
   "cell_type": "code",
   "execution_count": 10,
   "id": "11a1eee9-f4b6-498e-a582-ecb7e1f13f8f",
   "metadata": {},
   "outputs": [
    {
     "data": {
      "image/png": "[encoded data removed]",
      "text/plain": [
       "<Figure size 432x288 with 1 Axes>"
      ]
     },
     "metadata": {
      "needs_background": "light"
     },
     "output_type": "display_data"
    }
   ],
   "source": [
    "# The final comparison looks like:\n",
    "# Linear regression without outliers\n",
    "coefs = np.polyfit(x[:-5], y[:-5], deg=1)  # Filter outliers (the last five values)\n",
    "y_values_optimal = np.polyval(coefs, x_values)\n",
    "\n",
    "# Compare models\n",
    "plt.scatter(x, y)\n",
    "plt.plot(x_values, y_values_huber, c=\"C3\", label=\"huber regression\")\n",
    "plt.plot(x_values, y_values_squared, c=\"C2\", label=\"squared_error\")\n",
    "plt.plot(x_values, y_values_optimal, c=\"C0\", label=\"without outliers\")\n",
    "plt.xlabel(\"tv budget - scaled\")\n",
    "plt.ylabel(\"sales in thousands\")\n",
    "plt.legend()\n",
    "plt.show()"
   ]
  },
  {
   "cell_type": "markdown",
   "id": "090a53b0-ea34-4007-9613-42a060cccf31",
   "metadata": {},
   "source": [
    "We can see that the model obtained by minimizing the Huber loss is very close to the one that we get with the polyfit() function after removing the five outliers."
   ]
  },
  {
   "cell_type": "markdown",
   "id": "e2d94835-4518-438d-aba2-8c63cf2bc726",
   "metadata": {},
   "source": [
    "#### HuberRegressor\n",
    "Note that the SGDRegressor object is very generic and can fit more cost functions than the Huber and RSS ones. However, Scikit-learn also provides the HuberRegressor object which is dedicated to this loss function.\n",
    "\n",
    "It works similarly to SGDRegressor. You can fit it to data using the fit() function and compute predictions with the predict() one"
   ]
  },
  {
   "cell_type": "code",
   "execution_count": 11,
   "id": "bbf46196-598c-4974-9fe0-668a073ad435",
   "metadata": {},
   "outputs": [
    {
     "data": {
      "text/plain": [
       "HuberRegressor()"
      ]
     },
     "execution_count": 11,
     "metadata": {},
     "output_type": "execute_result"
    }
   ],
   "source": [
    "from sklearn.linear_model import HuberRegressor\n",
    "\n",
    "# Create a linear regression with Huber loss\n",
    "lr_huber = HuberRegressor(epsilon=1.35)\n",
    "\n",
    "# Fit the model\n",
    "lr_huber.fit(x[:, np.newaxis], y)"
   ]
  },
  {
   "cell_type": "markdown",
   "id": "1572e582-b4e1-4106-a16f-ca031a308746",
   "metadata": {},
   "source": [
    "Note that there are a few notable differences with the SGDRegressor(loss='huber') object\n",
    "\n",
    "* The threshold δ depends on the scale of the residuals. The HuberRegressor implements a mechanism to make it scale invariant. The default value of epsilon=1.35 should work well in most cases.\n",
    "* They use a different optimization algorithm. The SGDRegressor object uses stochastic gradient descent (SGD) while the HuberRegressor object uses the BFGS one. In short, BFGS should be more efficient when there is a small number of samples and converge in fewer iterations to the optimal solution. The default value for the number of iterations max_iter=100 should be fine in most cases."
   ]
  },
  {
   "cell_type": "markdown",
   "id": "d307ceb6-44a0-4874-8537-5df35eb088af",
   "metadata": {},
   "source": [
    "#### Summary\n",
    "Let’s summarize what we’ve learned in this unit. Here are a few takeaways\n",
    "\n",
    "Ideally, we want to use cost functions that are robust to outliers and easy to optimize\n",
    "* The RSS one is smooth but sensitive to outliers\n",
    "* The MAE one is robust but difficult to optimize\n",
    "* The Huber loss combines both advantages of the RSS and MAE cost functions but adds a new parameter: the threshold δ\n",
    "In practice, if you believe that there are outliers in the data, then it’s a good idea to spend some time removing them using the techniques from the previous lessons. Then, it’s easy to test several models and pick the best one. We will learn more about model evaluation later in this subject.\n",
    "\n",
    "In the next exercise, you will work on a dataset with outliers, and you will fit a linear regression with the Huber loss."
   ]
  },
  {
   "cell_type": "markdown",
   "id": "52843751-9f7a-48ad-941d-b8ab77eeba86",
   "metadata": {},
   "source": [
    "#### Challenge - Fit polynomial\n",
    "As an optional challenge, let’s use our Huber regression object to fit a polynomial of degree three."
   ]
  },
  {
   "cell_type": "code",
   "execution_count": 12,
   "id": "bdaa9e42-fd23-4f52-8e2e-c5edacaffcd3",
   "metadata": {},
   "outputs": [
    {
     "data": {
      "image/png": "[encoded data removed]",
      "text/plain": [
       "<Figure size 432x288 with 1 Axes>"
      ]
     },
     "metadata": {
      "needs_background": "light"
     },
     "output_type": "display_data"
    }
   ],
   "source": [
    "# Fit a polynomial of degree 3\n",
    "X_poly = np.c_[x, x ** 2, x ** 3]  # Feature engineering\n",
    "lr_huber.fit(X_poly, y)\n",
    "\n",
    "# Same with polyfit\n",
    "coefs = np.polyfit(x, y, deg=3)\n",
    "\n",
    "# Compute prediction line\n",
    "x_values = np.linspace(min(x), max(x), num=100)\n",
    "y_values_polyfit = np.polyval(coefs, x_values)\n",
    "y_values_huber = lr_huber.predict(np.c_[x_values, x_values ** 2, x_values ** 3])\n",
    "\n",
    "# Plot it\n",
    "plt.scatter(x, y)\n",
    "plt.plot(x_values, y_values_polyfit, c=\"C2\", label=\"polyfit(deg=3)\")\n",
    "plt.plot(x_values, y_values_huber, c=\"C3\", label=\"huber\")\n",
    "plt.xlabel(\"tv budget - scaled\")\n",
    "plt.ylabel(\"sales in thousands\")\n",
    "plt.legend()\n",
    "plt.show()"
   ]
  },
  {
   "cell_type": "code",
   "execution_count": null,
   "id": "1ab75d82-b0a6-430c-bf67-3a0e2e0d3c40",
   "metadata": {},
   "outputs": [],
   "source": []
  }
 ],
 "metadata": {
  "kernelspec": {
   "display_name": "Python [conda env:adsml] *",
   "language": "python",
   "name": "conda-env-adsml-py"
  },
  "language_info": {
   "codemirror_mode": {
    "name": "ipython",
    "version": 3
   },
   "file_extension": ".py",
   "mimetype": "text/x-python",
   "name": "python",
   "nbconvert_exporter": "python",
   "pygments_lexer": "ipython3",
   "version": "3.9.7"
  }
 },
 "nbformat": 4,
 "nbformat_minor": 5
}
