{
 "cells": [
  {
   "cell_type": "markdown",
   "id": "17cc8428-d564-47b5-971e-00b00cc2f002",
   "metadata": {},
   "source": [
    "#### Introduction to model evaluation\n",
    "In the previous units, we learned more about the process of fitting a model. We saw that functions such as the polyfit() one or objects like SGDRegressor or HuberRegression use an optimization algorithm to find the model parameters that minimize a cost function.\n",
    "\n",
    "We will now learn about baseline strategies and see how to implement them using Numpy and Scikit-learn. We will also see how to use error metrics to evaluate and compare the baseline and models. At the end of this unit, you should know how to compare your models to a meaningful baseline.\n",
    "\n",
    "This time, we will work on a modified version of the bike sharing dataset from the UCI repository. We split the data set of 302 samples into a training set and a test set containing 151 samples each.\n",
    "\n",
    "The training and test sets are two important terms that you will see them frequently until the end of the program:\n",
    "\n",
    "* The training set is to fit the models.\n",
    "* The test set is to generate predictions from the trained model."
   ]
  },
  {
   "cell_type": "code",
   "execution_count": 1,
   "id": "e10cdf7e-b3c8-4dfc-8366-f39271a32c83",
   "metadata": {},
   "outputs": [
    {
     "data": {
      "text/html": [
       "<div>\n",
       "<style scoped>\n",
       "    .dataframe tbody tr th:only-of-type {\n",
       "        vertical-align: middle;\n",
       "    }\n",
       "\n",
       "    .dataframe tbody tr th {\n",
       "        vertical-align: top;\n",
       "    }\n",
       "\n",
       "    .dataframe thead th {\n",
       "        text-align: right;\n",
       "    }\n",
       "</style>\n",
       "<table border=\"1\" class=\"dataframe\">\n",
       "  <thead>\n",
       "    <tr style=\"text-align: right;\">\n",
       "      <th></th>\n",
       "      <th>temp</th>\n",
       "      <th>users</th>\n",
       "    </tr>\n",
       "  </thead>\n",
       "  <tbody>\n",
       "    <tr>\n",
       "      <th>0</th>\n",
       "      <td>0.5400</td>\n",
       "      <td>884</td>\n",
       "    </tr>\n",
       "    <tr>\n",
       "      <th>1</th>\n",
       "      <td>0.7942</td>\n",
       "      <td>662</td>\n",
       "    </tr>\n",
       "    <tr>\n",
       "      <th>2</th>\n",
       "      <td>0.4875</td>\n",
       "      <td>830</td>\n",
       "    </tr>\n",
       "    <tr>\n",
       "      <th>3</th>\n",
       "      <td>0.4350</td>\n",
       "      <td>1192</td>\n",
       "    </tr>\n",
       "    <tr>\n",
       "      <th>4</th>\n",
       "      <td>0.4358</td>\n",
       "      <td>259</td>\n",
       "    </tr>\n",
       "  </tbody>\n",
       "</table>\n",
       "</div>"
      ],
      "text/plain": [
       "     temp  users\n",
       "0  0.5400    884\n",
       "1  0.7942    662\n",
       "2  0.4875    830\n",
       "3  0.4350   1192\n",
       "4  0.4358    259"
      ]
     },
     "execution_count": 1,
     "metadata": {},
     "output_type": "execute_result"
    }
   ],
   "source": [
    "import pandas as pd\n",
    "\n",
    "# Load the data into a Pandas DataFrame\n",
    "train_df = pd.read_csv(\"c3_train_df.csv\")\n",
    "train_df.head()"
   ]
  },
  {
   "cell_type": "markdown",
   "id": "895515c7-0228-41bd-807d-1644a267a325",
   "metadata": {},
   "source": [
    "The objective is to train models (on the 151 training samples) that use the temperature, temp, to predict the number of users, users. Then we should use error metrics to select the model that gives the best prediction on the 151 test samples.\n",
    "\n",
    "But before any modeling exercise we should stop and ask ourselves, do we ever need to build a model to predict something? Ideally we could use our common sense, or experience or any reliable source of knowledge and give a meaningful prediction without building any model. For instance, one could argue that the average (or median) number of users in the training data can approximate the number of users in the test data. This sounds very naive but it is worth to try it and see the error.\n",
    "\n",
    "The average and median are two baseline strategies. They don’t need any modeling, and they don’t depend on the patterns that appear in the data other than users."
   ]
  },
  {
   "cell_type": "markdown",
   "id": "01666ffc-e72f-48d9-87c1-9c02e7ed494f",
   "metadata": {},
   "source": [
    "* We often use baseline strategies on our day-to-day life to give our best guess or prediction for different things. For instance, our simple guess for the weather temperature of tomorrow could be simply today’s temperature, because temperature doesn’t usually change drastically from one day to the next. Or we can safely predict that a random person living in Basel speaks Swiss German, because most people there speak this language. Finally, we will not be wrong if we say that the weight of a random person is close the average or median weight of the population. Note that in none of these cases we build a model. These are all baseline predictions."
   ]
  },
  {
   "cell_type": "markdown",
   "id": "73c8d3a2-b2be-4cff-bec7-5c81b84fa881",
   "metadata": {},
   "source": [
    "#### Compute the baseline\n",
    "In our example, we compute the mean baseline. We should compute the average number of users on the training set and compare it with the number of users on the test set.\n",
    "\n"
   ]
  },
  {
   "cell_type": "code",
   "execution_count": 2,
   "id": "42f5f18e-b4bc-453a-9695-9fc3f51daa9c",
   "metadata": {},
   "outputs": [
    {
     "data": {
      "text/plain": [
       "695.2582781456954"
      ]
     },
     "execution_count": 2,
     "metadata": {},
     "output_type": "execute_result"
    }
   ],
   "source": [
    "import numpy as np\n",
    "\n",
    "# Extract the target\n",
    "y_train = train_df.users.values\n",
    "\n",
    "# Compute baseline\n",
    "pred_baseline = np.mean(y_train)  \n",
    "pred_baseline"
   ]
  },
  {
   "cell_type": "code",
   "execution_count": 3,
   "id": "b36fc373-e20b-4179-8010-74f17bbc2aa3",
   "metadata": {},
   "outputs": [
    {
     "data": {
      "text/html": [
       "<div>\n",
       "<style scoped>\n",
       "    .dataframe tbody tr th:only-of-type {\n",
       "        vertical-align: middle;\n",
       "    }\n",
       "\n",
       "    .dataframe tbody tr th {\n",
       "        vertical-align: top;\n",
       "    }\n",
       "\n",
       "    .dataframe thead th {\n",
       "        text-align: right;\n",
       "    }\n",
       "</style>\n",
       "<table border=\"1\" class=\"dataframe\">\n",
       "  <thead>\n",
       "    <tr style=\"text-align: right;\">\n",
       "      <th></th>\n",
       "      <th>temp</th>\n",
       "      <th>users</th>\n",
       "      <th>pred_lr</th>\n",
       "      <th>pred_poly3</th>\n",
       "      <th>pred_huber3</th>\n",
       "    </tr>\n",
       "  </thead>\n",
       "  <tbody>\n",
       "    <tr>\n",
       "      <th>0</th>\n",
       "      <td>0.1508</td>\n",
       "      <td>41</td>\n",
       "      <td>146</td>\n",
       "      <td>44</td>\n",
       "      <td>51</td>\n",
       "    </tr>\n",
       "    <tr>\n",
       "      <th>1</th>\n",
       "      <td>0.1609</td>\n",
       "      <td>54</td>\n",
       "      <td>161</td>\n",
       "      <td>53</td>\n",
       "      <td>52</td>\n",
       "    </tr>\n",
       "    <tr>\n",
       "      <th>2</th>\n",
       "      <td>0.1727</td>\n",
       "      <td>25</td>\n",
       "      <td>178</td>\n",
       "      <td>66</td>\n",
       "      <td>55</td>\n",
       "    </tr>\n",
       "    <tr>\n",
       "      <th>3</th>\n",
       "      <td>0.1775</td>\n",
       "      <td>75</td>\n",
       "      <td>185</td>\n",
       "      <td>72</td>\n",
       "      <td>57</td>\n",
       "    </tr>\n",
       "    <tr>\n",
       "      <th>4</th>\n",
       "      <td>0.1822</td>\n",
       "      <td>74</td>\n",
       "      <td>192</td>\n",
       "      <td>78</td>\n",
       "      <td>60</td>\n",
       "    </tr>\n",
       "  </tbody>\n",
       "</table>\n",
       "</div>"
      ],
      "text/plain": [
       "     temp  users  pred_lr  pred_poly3  pred_huber3\n",
       "0  0.1508     41      146          44           51\n",
       "1  0.1609     54      161          53           52\n",
       "2  0.1727     25      178          66           55\n",
       "3  0.1775     75      185          72           57\n",
       "4  0.1822     74      192          78           60"
      ]
     },
     "execution_count": 3,
     "metadata": {},
     "output_type": "execute_result"
    }
   ],
   "source": [
    "#Let’s see how good our baseline is. Let’s load the test data.\n",
    "\n",
    "# Load test data\n",
    "test_df = pd.read_csv(\"c3_three-models.csv\")\n",
    "test_df.head()"
   ]
  },
  {
   "cell_type": "markdown",
   "id": "5abe03a7-c876-4a4c-bc4a-72002cb71259",
   "metadata": {},
   "source": [
    "To check how accurate the value 695 is, we should compare it with the values in the users column. Note that we can use any cost function to calculate the error. For instance, we can use the mean absolute error (MAE)."
   ]
  },
  {
   "cell_type": "code",
   "execution_count": 4,
   "id": "86b3644e-7b68-4d2f-bb5c-eaed92c0d57d",
   "metadata": {},
   "outputs": [
    {
     "data": {
      "text/plain": [
       "316.3029253102934"
      ]
     },
     "execution_count": 4,
     "metadata": {},
     "output_type": "execute_result"
    }
   ],
   "source": [
    "# Mean absolute error\n",
    "def MAE(y, y_pred):\n",
    "    return np.mean(np.abs(y - y_pred))\n",
    "# Extract the target\n",
    "y_test = test_df.users.values\n",
    "\n",
    "# compare the baseline with the target from the test data\n",
    "mae_baseline = MAE(y_test, pred_baseline)\n",
    "mae_baseline "
   ]
  },
  {
   "cell_type": "markdown",
   "id": "7583803c-bca5-4a15-a08c-321d6ad876cd",
   "metadata": {},
   "source": [
    "The advantage of MAE is that it has a clear interpretation. For instance, in our example, predictions from the baseline is wrong by, in average, 316 users. That’s a lot!"
   ]
  },
  {
   "cell_type": "markdown",
   "id": "1856e793-0e4d-4e90-b26f-cc42bd1e6252",
   "metadata": {},
   "source": [
    "**Definition of a baseline** \n",
    "\n",
    "The average or median can serve as a baseline, and here are things you should know about a baseline:\n",
    "\n",
    "* Baseline is a strategy that doesn’t rely on any modeling.\n",
    "* Baseline can be calculated by just using the target.\n",
    "* The mean and median are two ways to calculate a baseline, but there are also other strategies available and you will learn about them by the end of the program.\n",
    "* In some domains (e.g. time series analysis), a simple baseline can give difficult-to-beat predictions."
   ]
  },
  {
   "cell_type": "markdown",
   "id": "559079f2-9b20-44cd-8c8f-6a4c61a7e85e",
   "metadata": {},
   "source": [
    "Note that pred_baseline is a single value (i.e. 695) and not an array like y_test. However, we can use the MAE() function from above because it computes the residuals with (y-y_pred) which produces an array even if y_pred is a single value due to broadcasting.\n",
    "\n",
    "If you want to produce a vector of predictions, you can create an array with the same shape as y_test and fill it with the mean value using the Numpy full_like() function.\n",
    "\n"
   ]
  },
  {
   "cell_type": "code",
   "execution_count": 7,
   "id": "3c369c70-25fe-4697-8e73-967eb3477f43",
   "metadata": {},
   "outputs": [],
   "source": [
    "# Vector with predictions from the baseline\n",
    "pred_baseline = np.full_like(y_test, fill_value=np.mean(y_train), dtype=float)"
   ]
  },
  {
   "cell_type": "code",
   "execution_count": 8,
   "id": "ff15a699-3bae-4bc3-a4c8-78cf94f92d45",
   "metadata": {},
   "outputs": [
    {
     "name": "stdout",
     "output_type": "stream",
     "text": [
      "151 151\n"
     ]
    }
   ],
   "source": [
    "print(len(pred_baseline), len(y_test))"
   ]
  },
  {
   "cell_type": "markdown",
   "id": "0bc5eb12-cf69-46fd-9879-a8f867b10b42",
   "metadata": {},
   "source": [
    "Both are arrays with the same length.\n",
    "\n",
    "How about Scikit-learn? how to use it to work out the baselines? Scikit-learn implements baselines in a DummyRegressor object which has a strategy parameter. We can set it to 'mean' or 'median'."
   ]
  },
  {
   "cell_type": "code",
   "execution_count": 9,
   "id": "ce0804b7-286b-4102-867c-c3dabd0857aa",
   "metadata": {},
   "outputs": [],
   "source": [
    "from sklearn.dummy import DummyRegressor\n",
    "\n",
    "# Create the DummyRegressor object\n",
    "dummy = DummyRegressor(strategy=\"mean\")"
   ]
  },
  {
   "cell_type": "markdown",
   "id": "a1c989fa-070d-41bc-b051-18b97fb78f32",
   "metadata": {},
   "source": [
    " the DummyRegressor object implements the Scikit-learn estimator interface which means that it provides the fit() and predict() functions."
   ]
  },
  {
   "cell_type": "code",
   "execution_count": 10,
   "id": "8a35956f-b468-42ff-af17-bb3cdb3fd41d",
   "metadata": {},
   "outputs": [
    {
     "data": {
      "text/plain": [
       "DummyRegressor()"
      ]
     },
     "execution_count": 10,
     "metadata": {},
     "output_type": "execute_result"
    }
   ],
   "source": [
    "# Extract the features\n",
    "x_train = train_df.temp.values\n",
    "\n",
    "# Fit the estimator\n",
    "dummy.fit(x_train[:, np.newaxis], y_train)"
   ]
  },
  {
   "cell_type": "markdown",
   "id": "e823c166-3c44-423c-8e6c-29c2ed069d41",
   "metadata": {},
   "source": [
    "The fit() function simply calculates the mean value of y_train, and we can then compute predictions with the predict() function."
   ]
  },
  {
   "cell_type": "code",
   "execution_count": 11,
   "id": "4dd08c5a-4529-4bb3-b19a-c6bac1a59fce",
   "metadata": {},
   "outputs": [
    {
     "data": {
      "text/plain": [
       "316.3029253102934"
      ]
     },
     "execution_count": 11,
     "metadata": {},
     "output_type": "execute_result"
    }
   ],
   "source": [
    "# Extract the features\n",
    "x_test = test_df.temp.values\n",
    "\n",
    "# Vector with predictions from the baseline\n",
    "pred_baseline = dummy.predict(x_test[:, np.newaxis])\n",
    "\n",
    "# compare the baseline with the target from the test data\n",
    "mae_baseline = MAE(y_test, pred_baseline)\n",
    "mae_baseline  \n"
   ]
  },
  {
   "cell_type": "markdown",
   "id": "3cc4bb3e-dbad-4b57-9619-9e704d7c5286",
   "metadata": {},
   "source": [
    "We got the same result as in the case of Numpy calculation. Note that x_train[:, np.newaxis] and x_test[:, np.newaxis] didn’t influence the fit and predict methods.\n",
    "\n",
    "Now that we know about baselines and how they are calculated, let’s compare predictions from models with the baseline and see if they lead to smaller errors than 316 users given by the baseline."
   ]
  },
  {
   "cell_type": "markdown",
   "id": "f6610e81-7ffd-4b0b-b3d2-ed187ca99695",
   "metadata": {},
   "source": [
    "#### Compare models\n",
    "we split the original data set of 302 samples into a training set and a test set containing 151 samples each. We fit three models on the training set and use the fitted models to predict users on the test set. We don’t show these steps but only put models’ predictions in the last three columns of the test data:"
   ]
  },
  {
   "cell_type": "code",
   "execution_count": 12,
   "id": "0eb67c9e-949e-4da3-848d-1c91f9b49bc8",
   "metadata": {},
   "outputs": [
    {
     "data": {
      "text/html": [
       "<div>\n",
       "<style scoped>\n",
       "    .dataframe tbody tr th:only-of-type {\n",
       "        vertical-align: middle;\n",
       "    }\n",
       "\n",
       "    .dataframe tbody tr th {\n",
       "        vertical-align: top;\n",
       "    }\n",
       "\n",
       "    .dataframe thead th {\n",
       "        text-align: right;\n",
       "    }\n",
       "</style>\n",
       "<table border=\"1\" class=\"dataframe\">\n",
       "  <thead>\n",
       "    <tr style=\"text-align: right;\">\n",
       "      <th></th>\n",
       "      <th>temp</th>\n",
       "      <th>users</th>\n",
       "      <th>pred_lr</th>\n",
       "      <th>pred_poly3</th>\n",
       "      <th>pred_huber3</th>\n",
       "    </tr>\n",
       "  </thead>\n",
       "  <tbody>\n",
       "    <tr>\n",
       "      <th>0</th>\n",
       "      <td>0.1508</td>\n",
       "      <td>41</td>\n",
       "      <td>146</td>\n",
       "      <td>44</td>\n",
       "      <td>51</td>\n",
       "    </tr>\n",
       "    <tr>\n",
       "      <th>1</th>\n",
       "      <td>0.1609</td>\n",
       "      <td>54</td>\n",
       "      <td>161</td>\n",
       "      <td>53</td>\n",
       "      <td>52</td>\n",
       "    </tr>\n",
       "    <tr>\n",
       "      <th>2</th>\n",
       "      <td>0.1727</td>\n",
       "      <td>25</td>\n",
       "      <td>178</td>\n",
       "      <td>66</td>\n",
       "      <td>55</td>\n",
       "    </tr>\n",
       "    <tr>\n",
       "      <th>3</th>\n",
       "      <td>0.1775</td>\n",
       "      <td>75</td>\n",
       "      <td>185</td>\n",
       "      <td>72</td>\n",
       "      <td>57</td>\n",
       "    </tr>\n",
       "    <tr>\n",
       "      <th>4</th>\n",
       "      <td>0.1822</td>\n",
       "      <td>74</td>\n",
       "      <td>192</td>\n",
       "      <td>78</td>\n",
       "      <td>60</td>\n",
       "    </tr>\n",
       "  </tbody>\n",
       "</table>\n",
       "</div>"
      ],
      "text/plain": [
       "     temp  users  pred_lr  pred_poly3  pred_huber3\n",
       "0  0.1508     41      146          44           51\n",
       "1  0.1609     54      161          53           52\n",
       "2  0.1727     25      178          66           55\n",
       "3  0.1775     75      185          72           57\n",
       "4  0.1822     74      192          78           60"
      ]
     },
     "execution_count": 12,
     "metadata": {},
     "output_type": "execute_result"
    }
   ],
   "source": [
    "test_df.head()"
   ]
  },
  {
   "cell_type": "markdown",
   "id": "42298931-6da5-42b6-adce-df2bc13407d3",
   "metadata": {},
   "source": [
    "More precisely:\n",
    "\n",
    "* The first model is a simple linear regression. We use the polyfit() function with degree equal to 1. Then we use the fitted model to predict the target for the second half of the data, i.e. test data. The predictions are named as pred_lr in the third column.\n",
    "* In the second model, we change the degree to 3, and follow the same steps. The predictions are named as pred_poly3 in the fourth column.\n",
    "* In the third model, we still fit a polynomial of degree 3, but with the HuberRegressor and the PolynomialFeatures objects from Scikit-learn. Yes, this sounds new and you will learn about it later in this course. The predictions are named as pred_huber3 in the last column.\n",
    "Let’s visualize the three models by plotting their predictions."
   ]
  },
  {
   "cell_type": "code",
   "execution_count": 13,
   "id": "de0921f1-137b-4ca1-93a1-aa7e5b79c1d0",
   "metadata": {},
   "outputs": [
    {
     "data": {
      "image/png": "[encoded data removed]",
      "text/plain": [
       "<Figure size 432x288 with 1 Axes>"
      ]
     },
     "metadata": {
      "needs_background": "light"
     },
     "output_type": "display_data"
    }
   ],
   "source": [
    "%matplotlib inline\n",
    "import matplotlib.pyplot as plt\n",
    "\n",
    "# Extract variables\n",
    "x_test = test_df.temp.values\n",
    "\n",
    "# Plot the models\n",
    "plt.scatter(x_test, y_test, s=10)\n",
    "plt.plot(x_test, test_df.pred_lr, c=\"C0\", label=\"linear regression\")\n",
    "plt.plot(x_test, test_df.pred_poly3, c=\"C2\", label=\"polyfit(deg=3)\")\n",
    "plt.plot(x_test, test_df.pred_huber3, c=\"C3\", label=\"polyfit(deg=3) with Huber loss\")\n",
    "\n",
    "plt.title('predictions from three models vs test data')\n",
    "plt.xlabel('temperature')\n",
    "plt.ylabel('number of users')\n",
    "plt.legend(loc='upper left')\n",
    "plt.show()"
   ]
  },
  {
   "cell_type": "markdown",
   "id": "bc83f178-8b6e-41fd-9734-4eb1b33e3133",
   "metadata": {},
   "source": [
    "It’s difficult to compare the three models visually. **One solution is to use a cost function such as the RSS one. In practice, we prefer to use the root mean squared error (RMSE) since it’s independent of the number of data points (i.e., it’s an average) and has roughly the same unit as the target variable.**\n",
    "\n",
    "Let’s compute the RMSE scores using Numpy code from the previous exercises."
   ]
  },
  {
   "cell_type": "code",
   "execution_count": 14,
   "id": "87a1e64c-dc5e-4305-b039-70122ec9856b",
   "metadata": {},
   "outputs": [
    {
     "name": "stdout",
     "output_type": "stream",
     "text": [
      "baseline: 371.6823731957837\n",
      "linear regression: 232.53050786099598\n",
      "polyfit(deg=3): 210.55145192395318\n",
      "polyfit(deg=3) with huber loss: 215.66518077491205\n"
     ]
    }
   ],
   "source": [
    "# Root mean squared error\n",
    "def RMSE(y, y_pred):\n",
    "    mse = np.mean(np.square(y - y_pred))  # MSE\n",
    "    return np.sqrt(mse)  # RMSE\n",
    "\n",
    "\n",
    "rmse_baseline = RMSE(y_test, pred_baseline)\n",
    "rmse_lr     = RMSE(y_test, test_df.pred_lr)\n",
    "rmse_poly3  = RMSE(y_test, test_df.pred_poly3)\n",
    "rmse_huber3 = RMSE(y_test, test_df.pred_huber3)\n",
    "\n",
    "# Print values\n",
    "print(\"baseline:\", rmse_baseline)\n",
    "print(\"linear regression:\", rmse_lr)\n",
    "print(\"polyfit(deg=3):\", rmse_poly3)\n",
    "print(\"polyfit(deg=3) with huber loss:\", rmse_huber3)"
   ]
  },
  {
   "cell_type": "markdown",
   "id": "267c7891-536b-4e00-9cc9-77b13455f383",
   "metadata": {},
   "source": [
    "According to this measure, the poly3 and the huber3 models have a better performance than the simple linear regression one, and the poly3 one performs slightly better than huber3.\n",
    "\n",
    "Let’s change the cost function to the mean absolute error (MAE):\n",
    "\n"
   ]
  },
  {
   "cell_type": "code",
   "execution_count": 15,
   "id": "6de673da-f3f5-4562-9767-b656a4e944ef",
   "metadata": {},
   "outputs": [
    {
     "name": "stdout",
     "output_type": "stream",
     "text": [
      "baseline: 316.3029253102934\n",
      "linear regression: 186.58278145695365\n",
      "polyfit(deg=3): 161.71523178807948\n",
      "polyfit(deg=3) with huber loss: 164.75496688741723\n"
     ]
    }
   ],
   "source": [
    "mae_baseline = MAE(y_test, pred_baseline)\n",
    "mae_lr     = MAE(y_test, test_df.pred_lr)\n",
    "mae_poly3  = MAE(y_test, test_df.pred_poly3)\n",
    "mae_huber3 = MAE(y_test, test_df.pred_huber3)\n",
    "\n",
    "# Print values\n",
    "print(\"baseline:\", mae_baseline)\n",
    "print(\"linear regression:\", mae_lr)\n",
    "print(\"polyfit(deg=3):\", mae_poly3)\n",
    "print(\"polyfit(deg=3) with huber loss:\", mae_huber3)\n"
   ]
  },
  {
   "cell_type": "markdown",
   "id": "67f42bfe-2a6b-421e-8674-33bdabb1fabc",
   "metadata": {},
   "source": [
    "The predictions from the poly3 model are wrong by, in average, 162 users. This is the lowest error among the three models, and all models perform better than the baseline. Note that MAE and RMSE are different cost functions. Hence, they might not agree on what is the best model.\n",
    "\n",
    "Let’s create a final comparison of the different models using a bar chart."
   ]
  },
  {
   "cell_type": "code",
   "execution_count": 16,
   "id": "95f385d9-ca16-47d8-960f-0bba610ebb17",
   "metadata": {},
   "outputs": [
    {
     "data": {
      "image/png": "[encoded data removed]",
      "text/plain": [
       "<Figure size 432x288 with 1 Axes>"
      ]
     },
     "metadata": {
      "needs_background": "light"
     },
     "output_type": "display_data"
    }
   ],
   "source": [
    "# Bar chart\n",
    "plt.bar([1, 2, 3, 4], [rmse_baseline, rmse_lr, rmse_poly3, rmse_huber3])\n",
    "plt.xticks([1, 2, 3, 4], [\"baseline (mean)\", \"linreg\", \"poly3\", \"huber3\"])\n",
    "plt.title('comparing predictions errors (RMSE)')\n",
    "plt.xlabel('models')\n",
    "plt.ylabel('RMSE')\n",
    "plt.show()"
   ]
  },
  {
   "cell_type": "markdown",
   "id": "5b017886-fd3f-48f5-bb20-8954fab0bf2d",
   "metadata": {},
   "source": [
    "This chart gives us a good overview of our different models.\n",
    "\n",
    "In practice, data sets usually have several features, and it’s difficult to visually “see” how well our models actually fit the data. For this reason, setting a baseline and comparing many different models can help in two ways:\n",
    "\n",
    "To verify that our code works, i.e., a model that performs worse than the baseline is a sign that something might be wrong.\n",
    "To choose an appropriate model, i.e., the model with the best accuracy isn’t necessarily the most appropriate one. We might consider other aspects such as speed and interpretability of the model.\n",
    "Before finishing this unit, let’s do a small experiment to see when it makes sense to use mean and median as baselines."
   ]
  },
  {
   "cell_type": "markdown",
   "id": "50b5c64d-792f-4de8-a7a6-f0589d6e9640",
   "metadata": {},
   "source": [
    "#### A note on the choice of median versus mean\n",
    "\n",
    "Which statistic should we use? In fact, both are good summaries of a set of values. They simply minimize different measures. The mean value optimizes the squares of the distances to the other values, whereas the median minimizes the absolute distances.\n",
    "\n",
    "Let’s do a little experiment to verify that. We define a set of values and search for its optimal summary. For instance, let’s find the best summary of the set [1, 2, 3, 5, 6, 25] according to the MSE function. We can take one hundred values between 0 and 25 and treat them as candidate summaries. Here is the plot of the MSE cost function for these candidates."
   ]
  },
  {
   "cell_type": "markdown",
   "id": "3dbc142c-13e4-45e9-abd9-0fcea8f9379c",
   "metadata": {},
   "source": [
    "The mean is 7 and the median is 4. the optimal summary is not unique. All median values (x between 3 and 5) are optimal summaries according to the MAE cost function. The MAE does not change in this range because moving to the summary candidate closer to 3 reduces the absolute errors for 1, 2, 3 while increasing the absolute errors for 5, 6, 25 by the same amount.\n",
    "\n",
    "To summarize, it makes sense to use the mean as a baseline when we measure the squares of the residuals, e.g., RSS, MSE and RMSE cost functions. On the other hand, we should use the median as the baseline when we measure absolute distances like with the MAE cost function."
   ]
  },
  {
   "cell_type": "markdown",
   "id": "b18db174-d6d7-47f4-88fa-8e8d70d3a24c",
   "metadata": {},
   "source": [
    "### The train-validate-test paradigm\n",
    "In the previous units we have seen how to build linear models and how to fit polynomials. We have further seen that outliers can affect the quality of our model and how we can address this by removing data points before training our model or by using a cost function that can handle outliers better (the Huber loss).\n",
    "\n",
    "Our goal is to find the best model possible. But how could we measure whether one model is better or worse than another. Since the plain linear regression algorithm optimizes for the RSS (Residual Sum of Squares), we could calculate this score for each model and then compare them.\n",
    "\n",
    "We observed that using high degree polynomials leads to smaller errors, which leads to an improved RSS score. However, a simple visual inspection showed us that for high degree polynomials any noise in the data could strongly affect the outcome. We termed this “overfitting”. As a result, despite their improved score these models did not seem to represent the general pattern of the data very well.\n",
    "\n",
    "This last point highlights a very important objective of machine learning:\n",
    "\n",
    "**We want our models to generalize beyond their training data. Hence we want to empirically test our model on unseen data, i.e. data that was not used for training.**"
   ]
  },
  {
   "cell_type": "markdown",
   "id": "25127348-f02f-4e41-8338-cac438b0e438",
   "metadata": {},
   "source": [
    "In this context, we often speak of in-sample evaluations when using training data vs out-of-sample evaluations when using unseen test data. The performance of the model on the test data set is known as the generalization error and gives us an idea of how well our model performs in general. Hence good out-of-sample scores are more valuable than improved in-sample scores."
   ]
  },
  {
   "cell_type": "markdown",
   "id": "edee6e70-5c4d-4023-aa46-16a0435006dd",
   "metadata": {},
   "source": [
    "#### The test set\n",
    "In practice, we either collect a separate data set for the out-of-sample evaluation, or we split our original data set into two parts, one for training our models and one for testing the final models.\n",
    "\n"
   ]
  },
  {
   "cell_type": "code",
   "execution_count": 17,
   "id": "d37db1f2-d5c7-40ed-aba7-5491d319d78e",
   "metadata": {},
   "outputs": [
    {
     "data": {
      "image/png": "[encoded data removed]",
      "text/plain": [
       "<IPython.core.display.Image object>"
      ]
     },
     "execution_count": 17,
     "metadata": {},
     "output_type": "execute_result"
    }
   ],
   "source": [
    "from IPython.display import Image\n",
    "Image(filename=\"train.png\")"
   ]
  },
  {
   "cell_type": "markdown",
   "id": "ede6dfbc-6701-4a1d-a522-c9d310113a64",
   "metadata": {},
   "source": [
    "Since the purpose of the test set is to provide an independent evaluation of the performance of our model, we must make sure that we don’t look into the test set or analyze it in any way. Otherwise we risk gaining some form of insight from the test data, which could influence how we design and train our model. Such insight is known as information leakage. In order to avoid this, after splitting off the test set we are not allowed to access test data until all our models are trained.\n",
    "\n",
    "A simple way of thinking of the entire process is as follows. At the start of the project we collect or split off a test set, also known as the hold-out set, and hand it to our colleague Alice for safe keeping. Once we have finished training all our models, we pass the models to Alice, together with a program that prepares her test data set for the models. Alice runs the program and the models and assesses their performance.\n",
    "\n",
    "The program that prepares Alice’s test data for the model should take care of all the preprocessing steps and the feature engineering that we applied to our training data. Most importantly, neither Alice nor the program will have access to information from within the test set itself. Thus any data-led transformations, e.g. using the median for a fillna() or using the mean and standard deviation to calculate z-scores, can only use the statistical values calculated on the training data. We will see many details of this later on in this course. In short:\n",
    "\n",
    "**Any data transformations performed on the training or test data can only use information obtained from the training data. We must ensure that no information from the test data can influence these transformations.**"
   ]
  },
  {
   "cell_type": "markdown",
   "id": "5f1b0607-517f-4184-b925-adc43ea1aad7",
   "metadata": {},
   "source": [
    ". A simple step could be to evaluate and compare all models on the test data and choose the polynomial degree of the model with the best out-of-sample performance. However, this approach would use information from the test data to determine the optimal degree for our model. This is a no-go as we would lose our ability to measure the generalization error reliably.\n",
    "\n",
    "Instead, at the start of our model building we put aside part of our training set to help us decide on the best degree. This set is excluded from training and is known as the validation set. It acts as an internal hold-out set to evaluate how well different models are doing before selecting the best one."
   ]
  },
  {
   "cell_type": "code",
   "execution_count": 18,
   "id": "d59d08b0-14cb-4bf9-a067-d3b57384cfd8",
   "metadata": {},
   "outputs": [
    {
     "data": {
      "image/png": "[encoded data removed]",
      "text/plain": [
       "<IPython.core.display.Image object>"
      ]
     },
     "execution_count": 18,
     "metadata": {},
     "output_type": "execute_result"
    }
   ],
   "source": [
    "Image(filename=\"train2.png\")"
   ]
  },
  {
   "cell_type": "markdown",
   "id": "7a233ebc-3c30-48b4-8520-da26550ee3bc",
   "metadata": {},
   "source": [
    "The model performance on the validation set also provides an estimate of the generalization error. And since we have not used the test set up to this point, the model performance on the test set can still provide an independent estimation of how well our model will generalize."
   ]
  },
  {
   "cell_type": "markdown",
   "id": "b17edfb9-3500-48c7-957e-a0a24f2011f1",
   "metadata": {},
   "source": [
    "**Hyperparameters** are model parameters that are set manually as they cannot be calculated from data. They are fixed ahead of training and influence how the model is constructed or how it is trained. (Ex: degree of the polynome)"
   ]
  },
  {
   "cell_type": "markdown",
   "id": "018a43ac-0030-4088-8b4a-2e747424cd2b",
   "metadata": {},
   "source": [
    "The optimal values of the hyperparameters depend on the problem and the data set. We can find suitable values by training multiple models with different hyperparameter combinations and then evaluating them on the validation set. This process is known as hyperparameter tuning.\n",
    "\n",
    "More generally, the purpose of the validation set is to help us make decisions, without breaking the sanctity of the test set. Later on, we will see how to use validation sets to determine the best hyperparameters or select the best features. We will introduce different approaches to setup validation sets and create a robust decision making process for tuning our models."
   ]
  },
  {
   "cell_type": "code",
   "execution_count": null,
   "id": "4777989e-b3fa-4860-b73a-d7f4883df439",
   "metadata": {},
   "outputs": [],
   "source": []
  }
 ],
 "metadata": {
  "kernelspec": {
   "display_name": "Python [conda env:adsml] *",
   "language": "python",
   "name": "conda-env-adsml-py"
  },
  "language_info": {
   "codemirror_mode": {
    "name": "ipython",
    "version": 3
   },
   "file_extension": ".py",
   "mimetype": "text/x-python",
   "name": "python",
   "nbconvert_exporter": "python",
   "pygments_lexer": "ipython3",
   "version": "3.9.7"
  }
 },
 "nbformat": 4,
 "nbformat_minor": 5
}
