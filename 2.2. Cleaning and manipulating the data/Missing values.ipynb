{
 "cells": [
  {
   "cell_type": "markdown",
   "id": "8827b5ad-028b-4fa8-aa3e-ee84bd071698",
   "metadata": {},
   "source": [
    "#### Handling missing and null values\n",
    "We can check whether our DataFrame contains missing values using the function isnull(), which returns a matching DataFrame with boolean values, where a True value means the corresponding value in our DataFrame is indeed missing. \n",
    "\n"
   ]
  },
  {
   "cell_type": "code",
   "execution_count": 1,
   "id": "d7ffdb55-4c04-46c2-a949-40e7ffaf20a8",
   "metadata": {},
   "outputs": [
    {
     "name": "stdout",
     "output_type": "stream",
     "text": [
      "<class 'pandas.core.frame.DataFrame'>\n",
      "RangeIndex: 4803 entries, 0 to 4802\n",
      "Data columns (total 20 columns):\n",
      " #   Column                Non-Null Count  Dtype  \n",
      "---  ------                --------------  -----  \n",
      " 0   budget                4803 non-null   int64  \n",
      " 1   genres                4803 non-null   object \n",
      " 2   homepage              1712 non-null   object \n",
      " 3   id                    4803 non-null   int64  \n",
      " 4   keywords              4803 non-null   object \n",
      " 5   original_language     4803 non-null   object \n",
      " 6   original_title        4803 non-null   object \n",
      " 7   overview              4800 non-null   object \n",
      " 8   popularity            4803 non-null   float64\n",
      " 9   production_companies  4803 non-null   object \n",
      " 10  production_countries  4803 non-null   object \n",
      " 11  release_date          4802 non-null   object \n",
      " 12  revenue               4803 non-null   int64  \n",
      " 13  runtime               4801 non-null   float64\n",
      " 14  spoken_languages      4803 non-null   object \n",
      " 15  status                4803 non-null   object \n",
      " 16  tagline               3959 non-null   object \n",
      " 17  title                 4803 non-null   object \n",
      " 18  vote_average          4803 non-null   float64\n",
      " 19  vote_count            4803 non-null   int64  \n",
      "dtypes: float64(3), int64(4), object(13)\n",
      "memory usage: 750.6+ KB\n"
     ]
    }
   ],
   "source": [
    "import pandas as pd\n",
    "import numpy as np\n",
    "df = pd.read_csv(\"c2_tmdb_5000_movies.csv\")\n",
    "df.info()"
   ]
  },
  {
   "cell_type": "code",
   "execution_count": 2,
   "id": "05da97e9-88a8-4519-938a-9d99b6f5cd12",
   "metadata": {},
   "outputs": [
    {
     "data": {
      "text/html": [
       "<div>\n",
       "<style scoped>\n",
       "    .dataframe tbody tr th:only-of-type {\n",
       "        vertical-align: middle;\n",
       "    }\n",
       "\n",
       "    .dataframe tbody tr th {\n",
       "        vertical-align: top;\n",
       "    }\n",
       "\n",
       "    .dataframe thead th {\n",
       "        text-align: right;\n",
       "    }\n",
       "</style>\n",
       "<table border=\"1\" class=\"dataframe\">\n",
       "  <thead>\n",
       "    <tr style=\"text-align: right;\">\n",
       "      <th></th>\n",
       "      <th>budget</th>\n",
       "      <th>genres</th>\n",
       "      <th>homepage</th>\n",
       "      <th>id</th>\n",
       "      <th>keywords</th>\n",
       "      <th>original_language</th>\n",
       "      <th>original_title</th>\n",
       "      <th>overview</th>\n",
       "      <th>popularity</th>\n",
       "      <th>production_companies</th>\n",
       "      <th>production_countries</th>\n",
       "      <th>release_date</th>\n",
       "      <th>revenue</th>\n",
       "      <th>runtime</th>\n",
       "      <th>spoken_languages</th>\n",
       "      <th>status</th>\n",
       "      <th>tagline</th>\n",
       "      <th>title</th>\n",
       "      <th>vote_average</th>\n",
       "      <th>vote_count</th>\n",
       "    </tr>\n",
       "  </thead>\n",
       "  <tbody>\n",
       "    <tr>\n",
       "      <th>0</th>\n",
       "      <td>False</td>\n",
       "      <td>False</td>\n",
       "      <td>False</td>\n",
       "      <td>False</td>\n",
       "      <td>False</td>\n",
       "      <td>False</td>\n",
       "      <td>False</td>\n",
       "      <td>False</td>\n",
       "      <td>False</td>\n",
       "      <td>False</td>\n",
       "      <td>False</td>\n",
       "      <td>False</td>\n",
       "      <td>False</td>\n",
       "      <td>False</td>\n",
       "      <td>False</td>\n",
       "      <td>False</td>\n",
       "      <td>False</td>\n",
       "      <td>False</td>\n",
       "      <td>False</td>\n",
       "      <td>False</td>\n",
       "    </tr>\n",
       "    <tr>\n",
       "      <th>1</th>\n",
       "      <td>False</td>\n",
       "      <td>False</td>\n",
       "      <td>False</td>\n",
       "      <td>False</td>\n",
       "      <td>False</td>\n",
       "      <td>False</td>\n",
       "      <td>False</td>\n",
       "      <td>False</td>\n",
       "      <td>False</td>\n",
       "      <td>False</td>\n",
       "      <td>False</td>\n",
       "      <td>False</td>\n",
       "      <td>False</td>\n",
       "      <td>False</td>\n",
       "      <td>False</td>\n",
       "      <td>False</td>\n",
       "      <td>False</td>\n",
       "      <td>False</td>\n",
       "      <td>False</td>\n",
       "      <td>False</td>\n",
       "    </tr>\n",
       "    <tr>\n",
       "      <th>2</th>\n",
       "      <td>False</td>\n",
       "      <td>False</td>\n",
       "      <td>False</td>\n",
       "      <td>False</td>\n",
       "      <td>False</td>\n",
       "      <td>False</td>\n",
       "      <td>False</td>\n",
       "      <td>False</td>\n",
       "      <td>False</td>\n",
       "      <td>False</td>\n",
       "      <td>False</td>\n",
       "      <td>False</td>\n",
       "      <td>False</td>\n",
       "      <td>False</td>\n",
       "      <td>False</td>\n",
       "      <td>False</td>\n",
       "      <td>False</td>\n",
       "      <td>False</td>\n",
       "      <td>False</td>\n",
       "      <td>False</td>\n",
       "    </tr>\n",
       "    <tr>\n",
       "      <th>3</th>\n",
       "      <td>False</td>\n",
       "      <td>False</td>\n",
       "      <td>False</td>\n",
       "      <td>False</td>\n",
       "      <td>False</td>\n",
       "      <td>False</td>\n",
       "      <td>False</td>\n",
       "      <td>False</td>\n",
       "      <td>False</td>\n",
       "      <td>False</td>\n",
       "      <td>False</td>\n",
       "      <td>False</td>\n",
       "      <td>False</td>\n",
       "      <td>False</td>\n",
       "      <td>False</td>\n",
       "      <td>False</td>\n",
       "      <td>False</td>\n",
       "      <td>False</td>\n",
       "      <td>False</td>\n",
       "      <td>False</td>\n",
       "    </tr>\n",
       "    <tr>\n",
       "      <th>4</th>\n",
       "      <td>False</td>\n",
       "      <td>False</td>\n",
       "      <td>False</td>\n",
       "      <td>False</td>\n",
       "      <td>False</td>\n",
       "      <td>False</td>\n",
       "      <td>False</td>\n",
       "      <td>False</td>\n",
       "      <td>False</td>\n",
       "      <td>False</td>\n",
       "      <td>False</td>\n",
       "      <td>False</td>\n",
       "      <td>False</td>\n",
       "      <td>False</td>\n",
       "      <td>False</td>\n",
       "      <td>False</td>\n",
       "      <td>False</td>\n",
       "      <td>False</td>\n",
       "      <td>False</td>\n",
       "      <td>False</td>\n",
       "    </tr>\n",
       "  </tbody>\n",
       "</table>\n",
       "</div>"
      ],
      "text/plain": [
       "   budget  genres  homepage     id  keywords  original_language  \\\n",
       "0   False   False     False  False     False              False   \n",
       "1   False   False     False  False     False              False   \n",
       "2   False   False     False  False     False              False   \n",
       "3   False   False     False  False     False              False   \n",
       "4   False   False     False  False     False              False   \n",
       "\n",
       "   original_title  overview  popularity  production_companies  \\\n",
       "0           False     False       False                 False   \n",
       "1           False     False       False                 False   \n",
       "2           False     False       False                 False   \n",
       "3           False     False       False                 False   \n",
       "4           False     False       False                 False   \n",
       "\n",
       "   production_countries  release_date  revenue  runtime  spoken_languages  \\\n",
       "0                 False         False    False    False             False   \n",
       "1                 False         False    False    False             False   \n",
       "2                 False         False    False    False             False   \n",
       "3                 False         False    False    False             False   \n",
       "4                 False         False    False    False             False   \n",
       "\n",
       "   status  tagline  title  vote_average  vote_count  \n",
       "0   False    False  False         False       False  \n",
       "1   False    False  False         False       False  \n",
       "2   False    False  False         False       False  \n",
       "3   False    False  False         False       False  \n",
       "4   False    False  False         False       False  "
      ]
     },
     "execution_count": 2,
     "metadata": {},
     "output_type": "execute_result"
    }
   ],
   "source": [
    "df.isnull().head()"
   ]
  },
  {
   "cell_type": "markdown",
   "id": "f686019f-77a4-4c42-98cf-e9a9e72467fd",
   "metadata": {},
   "source": [
    "Note that the function notnull() is the opposite of isnull(). That is, it returns a DataFrame where the True / False values are interchanged.\n",
    "\n",
    "Usually, we will not be interested in the DataFrame of boolean values itself. Instead, we would like to know how many missing values we have, and where they occur. We can do this by calling the function sum() on the boolean DataFrame. This function sums up the values across each column of the DataFrame. When applied to a boolean DataFrame, it automatically treats True values as 1 and False values as a 0."
   ]
  },
  {
   "cell_type": "code",
   "execution_count": 3,
   "id": "3d98b4ba-ab22-4cf1-bf25-9f8a53d1677f",
   "metadata": {},
   "outputs": [
    {
     "data": {
      "text/plain": [
       "budget                     0\n",
       "genres                     0\n",
       "homepage                3091\n",
       "id                         0\n",
       "keywords                   0\n",
       "original_language          0\n",
       "original_title             0\n",
       "overview                   3\n",
       "popularity                 0\n",
       "production_companies       0\n",
       "production_countries       0\n",
       "release_date               1\n",
       "revenue                    0\n",
       "runtime                    2\n",
       "spoken_languages           0\n",
       "status                     0\n",
       "tagline                  844\n",
       "title                      0\n",
       "vote_average               0\n",
       "vote_count                 0\n",
       "dtype: int64"
      ]
     },
     "execution_count": 3,
     "metadata": {},
     "output_type": "execute_result"
    }
   ],
   "source": [
    "df.isnull().sum()"
   ]
  },
  {
   "cell_type": "markdown",
   "id": "e2cf442d-d54b-48aa-b684-3a6d53731743",
   "metadata": {},
   "source": [
    "So now we can see that the majority of the missing values are in the column homepage. Once we identified the missing values, we have several ways of dealing with them. The important thing to note is that there is not necessarily always one correct answer to the question of what to do with missing values. Our goal here is to expose you to different options and give you the tools to implement them. The decision about which one to use will come down to you, based on your specific application."
   ]
  },
  {
   "cell_type": "markdown",
   "id": "a8b5d0f3-322f-4199-aabd-c48cd95e19ab",
   "metadata": {},
   "source": [
    "#### Dropping missing data:\n",
    "Either we drop an observation (a row of our DataFrame) or we drop a variable (a column of our DataFrame).In fact, Pandas has a special function just for this, called dropna(). It removes all rows from the DataFrame that have at least one NaN value. It is important to note that like most other pandas functions, the object returned is a copy of the original DataFrame, and the original DataFrame remains unchanged. If we want the changes to be applied to the original DataFrame, we can include the argument inplace=True"
   ]
  },
  {
   "cell_type": "code",
   "execution_count": 5,
   "id": "767b9a6a-3d16-491e-a3ad-cf433ef5c283",
   "metadata": {},
   "outputs": [
    {
     "data": {
      "text/plain": [
       "0"
      ]
     },
     "execution_count": 5,
     "metadata": {},
     "output_type": "execute_result"
    }
   ],
   "source": [
    "df2 = df.dropna()\n",
    "df2.isnull().sum().sum()"
   ]
  },
  {
   "cell_type": "markdown",
   "id": "1dfbd35c-f92d-4784-b04e-955b752d73f9",
   "metadata": {},
   "source": [
    "(Note that we use .sum() twice, to sum up all values across both dimensions of the DataFrame. Try to use only one sum() to see what happens.)\n",
    "\n",
    "Sometimes, this might not be the best method, since it could remove a large number of observations. Let’s check if this was the case here:"
   ]
  },
  {
   "cell_type": "code",
   "execution_count": 6,
   "id": "c10ddfcc-734a-40ad-a7f7-360c3fb63878",
   "metadata": {},
   "outputs": [
    {
     "data": {
      "text/plain": [
       "(4803, 20)"
      ]
     },
     "execution_count": 6,
     "metadata": {},
     "output_type": "execute_result"
    }
   ],
   "source": [
    "df.shape"
   ]
  },
  {
   "cell_type": "code",
   "execution_count": 7,
   "id": "79800333-4f54-4583-816d-9d64f31cb8f5",
   "metadata": {},
   "outputs": [
    {
     "data": {
      "text/plain": [
       "(1493, 20)"
      ]
     },
     "execution_count": 7,
     "metadata": {},
     "output_type": "execute_result"
    }
   ],
   "source": [
    "df2.shape"
   ]
  },
  {
   "cell_type": "markdown",
   "id": "ae07d70b-3dc3-44ce-9193-6994a4043c22",
   "metadata": {},
   "source": [
    "Indeed, a very big chunk of the data was removed, so this is not very useful. We could instead opt to drop a row only if all the values in the row are NaN. We can do this by including the how='all'argument. Try this out:"
   ]
  },
  {
   "cell_type": "code",
   "execution_count": 8,
   "id": "a5946e00-4ba9-46ac-9860-0c1e894dd6f1",
   "metadata": {},
   "outputs": [
    {
     "data": {
      "text/plain": [
       "(4803, 20)"
      ]
     },
     "execution_count": 8,
     "metadata": {},
     "output_type": "execute_result"
    }
   ],
   "source": [
    "df3 = df.dropna(how=\"all\")\n",
    "df3.shape"
   ]
  },
  {
   "cell_type": "markdown",
   "id": "d10acfd2-751f-4c14-97d1-03200820599a",
   "metadata": {},
   "source": [
    "For our case, this is not very useful either, because it makes no changes to the DataFrame: none of the rows contains NaN in all the values."
   ]
  },
  {
   "cell_type": "code",
   "execution_count": 10,
   "id": "2ef99a55-5f06-4adf-bb81-5c521c87c674",
   "metadata": {},
   "outputs": [
    {
     "data": {
      "text/plain": [
       "6"
      ]
     },
     "execution_count": 10,
     "metadata": {},
     "output_type": "execute_result"
    }
   ],
   "source": [
    "# drop function applied for columns has teh same logig as in rows\n",
    "df.dropna(axis=1).shape\n",
    "\n",
    "# with the parameter thresh, which allows us to mention a minimum number of non-null values for the row/column to be kept! Let’s try this out:\n",
    "\n",
    "df.dropna(thresh=4000, axis=1, inplace=True)\n",
    "#The result:\n",
    "df.isnull().sum().sum()"
   ]
  },
  {
   "cell_type": "markdown",
   "id": "dbf9cf94-6bd6-4be1-b5d5-c820a5514748",
   "metadata": {},
   "source": [
    "#### Replacing missing values\n",
    "\n",
    "Pandas has a function fillna() that helps us replace missing values with some specific value that we can choose. Let’s look once again where our missing data is:"
   ]
  },
  {
   "cell_type": "code",
   "execution_count": 11,
   "id": "146c445d-c110-4a60-b6e1-483f30c1f2a5",
   "metadata": {},
   "outputs": [
    {
     "data": {
      "text/plain": [
       "budget                  0\n",
       "genres                  0\n",
       "id                      0\n",
       "keywords                0\n",
       "original_language       0\n",
       "original_title          0\n",
       "overview                3\n",
       "popularity              0\n",
       "production_companies    0\n",
       "production_countries    0\n",
       "release_date            1\n",
       "revenue                 0\n",
       "runtime                 2\n",
       "spoken_languages        0\n",
       "status                  0\n",
       "title                   0\n",
       "vote_average            0\n",
       "vote_count              0\n",
       "dtype: int64"
      ]
     },
     "execution_count": 11,
     "metadata": {},
     "output_type": "execute_result"
    }
   ],
   "source": [
    "df.isnull().sum()"
   ]
  },
  {
   "cell_type": "markdown",
   "id": "f8c92bb8-289c-4e6a-9369-3f7121ee5355",
   "metadata": {},
   "source": [
    "So our missing values are located in the columns overview, release_date, and runtime. Let’s take a peek at these columns so we can see the format of the data in them:"
   ]
  },
  {
   "cell_type": "code",
   "execution_count": 12,
   "id": "b2b8595a-f269-4cb6-9e8d-d36ebbc341cf",
   "metadata": {},
   "outputs": [
    {
     "data": {
      "text/plain": [
       "0    In the 22nd century, a paraplegic Marine is di...\n",
       "1    Captain Barbossa, long believed to be dead, ha...\n",
       "2    A cryptic message from Bond’s past sends him o...\n",
       "3    Following the death of District Attorney Harve...\n",
       "4    John Carter is a war-weary, former military ca...\n",
       "Name: overview, dtype: object"
      ]
     },
     "execution_count": 12,
     "metadata": {},
     "output_type": "execute_result"
    }
   ],
   "source": [
    "df[\"overview\"].head(5)"
   ]
  },
  {
   "cell_type": "code",
   "execution_count": 13,
   "id": "5f7dfacc-9ab3-419c-8074-571668bfab06",
   "metadata": {},
   "outputs": [
    {
     "data": {
      "text/plain": [
       "0    2009-12-10\n",
       "1    2007-05-19\n",
       "2    2015-10-26\n",
       "3    2012-07-16\n",
       "4    2012-03-07\n",
       "Name: release_date, dtype: object"
      ]
     },
     "execution_count": 13,
     "metadata": {},
     "output_type": "execute_result"
    }
   ],
   "source": [
    "df[\"release_date\"].head(5)"
   ]
  },
  {
   "cell_type": "code",
   "execution_count": 14,
   "id": "87ae0296-918a-4453-9d4f-e284abe79ac3",
   "metadata": {},
   "outputs": [
    {
     "data": {
      "text/plain": [
       "0    162.0\n",
       "1    169.0\n",
       "2    148.0\n",
       "3    165.0\n",
       "4    132.0\n",
       "Name: runtime, dtype: float64"
      ]
     },
     "execution_count": 14,
     "metadata": {},
     "output_type": "execute_result"
    }
   ],
   "source": [
    "df[\"runtime\"].head(5)"
   ]
  },
  {
   "cell_type": "code",
   "execution_count": 15,
   "id": "a984ec38-c7c4-475d-a88f-ad0d9d1bd5cf",
   "metadata": {},
   "outputs": [
    {
     "data": {
      "text/plain": [
       "0"
      ]
     },
     "execution_count": 15,
     "metadata": {},
     "output_type": "execute_result"
    }
   ],
   "source": [
    "# replace the missing value in the column 'overview' with a string\n",
    "df[\"overview\"].fillna(value=\"Overview not available\", inplace=True)\n",
    "df[\"overview\"].isnull().sum()"
   ]
  },
  {
   "cell_type": "code",
   "execution_count": 16,
   "id": "3840f565-405a-4cbb-bfe3-e93c11b5b78c",
   "metadata": {},
   "outputs": [
    {
     "data": {
      "text/plain": [
       "4553    NaN\n",
       "Name: release_date, dtype: object"
      ]
     },
     "execution_count": 16,
     "metadata": {},
     "output_type": "execute_result"
    }
   ],
   "source": [
    "# for the column 'release_date', we will be replacing the missing data by propagating the non-missing values\n",
    "# find the index of the missing value\n",
    "df.loc[df[\"release_date\"].isnull(), \"release_date\"]"
   ]
  },
  {
   "cell_type": "code",
   "execution_count": 18,
   "id": "d4106df3-884a-4a89-b1bb-3fd4da457f54",
   "metadata": {},
   "outputs": [
    {
     "data": {
      "text/plain": [
       "4552    2012-03-28\n",
       "4553           NaN\n",
       "4554    2015-03-10\n",
       "Name: release_date, dtype: object"
      ]
     },
     "execution_count": 18,
     "metadata": {},
     "output_type": "execute_result"
    }
   ],
   "source": [
    "# take a look at the values just before and after:\n",
    "# Remember for df.loc[] both start and end are included\n",
    "df.loc[4552:4554, \"release_date\"]"
   ]
  },
  {
   "cell_type": "code",
   "execution_count": 19,
   "id": "e9028603-bdf7-4bab-948b-91ce71b2121a",
   "metadata": {},
   "outputs": [
    {
     "data": {
      "text/plain": [
       "4552    2012-03-28\n",
       "4553    2012-03-28\n",
       "4554    2015-03-10\n",
       "Name: release_date, dtype: object"
      ]
     },
     "execution_count": 19,
     "metadata": {},
     "output_type": "execute_result"
    }
   ],
   "source": [
    "#  what would happen if we used forward propagation\n",
    "df[\"release_date\"].fillna(method=\"ffill\")[4552:4555]"
   ]
  },
  {
   "cell_type": "code",
   "execution_count": 20,
   "id": "ed9d15a0-fc70-430d-bf92-6d496ad80ba8",
   "metadata": {},
   "outputs": [
    {
     "data": {
      "text/plain": [
       "4552    2012-03-28\n",
       "4553    2015-03-10\n",
       "4554    2015-03-10\n",
       "Name: release_date, dtype: object"
      ]
     },
     "execution_count": 20,
     "metadata": {},
     "output_type": "execute_result"
    }
   ],
   "source": [
    "# backward propagation\n",
    "df[\"release_date\"].fillna(method=\"bfill\")[4552:4555]"
   ]
  },
  {
   "cell_type": "code",
   "execution_count": 22,
   "id": "afb5a522-ce7f-4201-9423-df8b1e2c775d",
   "metadata": {},
   "outputs": [],
   "source": [
    "#Lets stick with the forward one for our case (this is enough, the previous commands were just for visualization)\n",
    "df[\"release_date\"].fillna(method=\"ffill\", inplace=True)"
   ]
  },
  {
   "cell_type": "markdown",
   "id": "4ee3f052-c48b-4b9e-b07c-5205efc48f87",
   "metadata": {},
   "source": [
    "Finally, we arrive at the 'runtime' column. Here, we will replace the missing value with the mean value of this column. By default, this function excludes all the NaN values. In the special case where all values are NaN, then the mean would also be NaN. We can now pass this mean as the replacement value for the fillna() function:"
   ]
  },
  {
   "cell_type": "code",
   "execution_count": 23,
   "id": "ecf2c436-08ec-4092-ae56-df797c3ef04e",
   "metadata": {},
   "outputs": [
    {
     "data": {
      "text/plain": [
       "106.87585919600083"
      ]
     },
     "execution_count": 23,
     "metadata": {},
     "output_type": "execute_result"
    }
   ],
   "source": [
    "df[\"runtime\"].mean()"
   ]
  },
  {
   "cell_type": "code",
   "execution_count": 25,
   "id": "c624a072-b16a-4d1f-bd21-f5400e386d24",
   "metadata": {},
   "outputs": [
    {
     "data": {
      "text/plain": [
       "0"
      ]
     },
     "execution_count": 25,
     "metadata": {},
     "output_type": "execute_result"
    }
   ],
   "source": [
    "df[\"runtime\"].fillna(value=df[\"runtime\"].mean(), inplace=True)\n",
    "df.isnull().sum().sum()"
   ]
  },
  {
   "cell_type": "markdown",
   "id": "78ee4271-6765-4ce5-8962-121fe1c3d480",
   "metadata": {},
   "source": [
    "A final note: as mentioned before, what to do with NaN will be up to you. In this unit, we simply wanted to show you some options. You could of course also simply have gone and try to find the release date of the movie that had a missing value, and filled in the value accordingly."
   ]
  }
 ],
 "metadata": {
  "kernelspec": {
   "display_name": "Python [conda env:adsml] *",
   "language": "python",
   "name": "conda-env-adsml-py"
  },
  "language_info": {
   "codemirror_mode": {
    "name": "ipython",
    "version": 3
   },
   "file_extension": ".py",
   "mimetype": "text/x-python",
   "name": "python",
   "nbconvert_exporter": "python",
   "pygments_lexer": "ipython3",
   "version": "3.9.7"
  }
 },
 "nbformat": 4,
 "nbformat_minor": 5
}
