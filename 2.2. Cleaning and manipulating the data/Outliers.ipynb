{
 "cells": [
  {
   "cell_type": "markdown",
   "id": "112a219d-c644-4f21-9a9c-11ae6e891737",
   "metadata": {},
   "source": [
    "### Detecting and filtering outliers\n",
    "\n",
    "A common first step is to investigate the nature of the outlier candidates within the context of our data. We can choose how we handle the samples, whether to remove them from the dataset, flag them within the data, or ignore them. As our decisions may vary depending on the intended use case, domain knowledge, or other analytical results, it is always important to clearly document any observations and the resulting decisions."
   ]
  },
  {
   "cell_type": "markdown",
   "id": "ac706e95-32a8-458c-bed3-5898c8c3097d",
   "metadata": {},
   "source": [
    "#### Outliers v/s errors \n",
    "Some abnormal values can be the result of errors in the data and should be addressed in any case. Unlike errors, we consider outliers as legitimate values that are different or rare. When we discuss outliers below and in other units, we will assume that we have already cleared out the errors."
   ]
  },
  {
   "cell_type": "markdown",
   "id": "e5cb2e45-fd62-4b1f-b2aa-b17f24a9e568",
   "metadata": {},
   "source": [
    "#### Why do we care about outliers or anomalies?\n",
    "* Outliers can affect certain statistical measures like mean, variance, or correlation coefficients.\n",
    "* Thus they might require us to exclude them from our analysis or to adjust our analysis.\n",
    "* Outliers can adversely influence preprocessing techniques for machine learning, e.g. standardization.\n",
    "* Since models are fitted to data, for some models outliers in the data can affect the model parameters that we try to optimize and thus our ability to make good predictions. For that reason, we may consider removing outliers from the data prior to fitting these models. We will also see models that can handle outliers."
   ]
  },
  {
   "cell_type": "markdown",
   "id": "ae33dc4c-6cf2-4247-ac9b-3a0ec033b534",
   "metadata": {},
   "source": [
    "#### Outliers can hold valuable information\n",
    "\n",
    "Outliers are often seen as abnormal and undesirable. However, in some fields, they can provide sought-after insights.\n",
    "\n",
    "* Recognizing outliers in user behavior can help credit card firms identify potential fraud and network administrators identify attempted cyber attacks.\n",
    "* In production cycles, outliers can help identify defective products that should not enter circulation.\n",
    "* In predictive maintenance, outliers in time-series data for sensors and machines can be signs of imminent problems and a potential breakdown. Recognizing this early allows firms to intervene quickly and save time and money.\n",
    "* In science, outliers might give rise to unobserved phenomena (novelties) that advance our understanding of the field and down the line, the outlier in today’s observational data becomes a standard part of tomorrow’s textbooks."
   ]
  },
  {
   "cell_type": "markdown",
   "id": "38413f18-fa9f-4434-bb27-4a30a10dbe88",
   "metadata": {},
   "source": [
    "#### Practical outlier removal\n",
    "In this unit, we will describe three methods for outlier detection and removal: by inspection, z-scores and boxplots. Here we will focus on outliers within single features.\n",
    "\n",
    "Let’s start a new notebook by importing the required libraries:"
   ]
  },
  {
   "cell_type": "code",
   "execution_count": 2,
   "id": "80a223b8-6703-42e1-aac3-fc3dcf843cf5",
   "metadata": {},
   "outputs": [],
   "source": [
    "import pandas as pd\n",
    "import numpy as np\n",
    "import matplotlib.pyplot as plt\n",
    "import seaborn as sns\n",
    "\n",
    "%matplotlib inline"
   ]
  },
  {
   "cell_type": "markdown",
   "id": "246f26f9-a722-4521-bbc5-00ea040c524c",
   "metadata": {},
   "source": [
    "The first 5 features are created with the random.randn() function from NumPy. Concretely, as the documentation of the function states, it will return the array “filled with random floats sampled from a univariate “normal” (Gaussian) distribution of mean 0 and variance 1”. For the 5th feature, we will manually introduce outliers by adding 1000 to the last 100 values (i.e. 0.1% of our samples). Finally, we will add a 6th feature with values sampled from an exponential distribution as an illustrative example that exhibits skewness. A seed will be incorporated for the randomly created distributions."
   ]
  },
  {
   "cell_type": "code",
   "execution_count": 3,
   "id": "84d359de-f27a-4370-8d0e-db02d058e4f8",
   "metadata": {},
   "outputs": [
    {
     "data": {
      "text/html": [
       "<div>\n",
       "<style scoped>\n",
       "    .dataframe tbody tr th:only-of-type {\n",
       "        vertical-align: middle;\n",
       "    }\n",
       "\n",
       "    .dataframe tbody tr th {\n",
       "        vertical-align: top;\n",
       "    }\n",
       "\n",
       "    .dataframe thead th {\n",
       "        text-align: right;\n",
       "    }\n",
       "</style>\n",
       "<table border=\"1\" class=\"dataframe\">\n",
       "  <thead>\n",
       "    <tr style=\"text-align: right;\">\n",
       "      <th></th>\n",
       "      <th>X0</th>\n",
       "      <th>X1</th>\n",
       "      <th>X2</th>\n",
       "      <th>X3</th>\n",
       "      <th>X4</th>\n",
       "      <th>X5</th>\n",
       "    </tr>\n",
       "  </thead>\n",
       "  <tbody>\n",
       "    <tr>\n",
       "      <th>0</th>\n",
       "      <td>1.764052</td>\n",
       "      <td>0.400157</td>\n",
       "      <td>0.978738</td>\n",
       "      <td>2.240893</td>\n",
       "      <td>1.867558</td>\n",
       "      <td>0.540426</td>\n",
       "    </tr>\n",
       "    <tr>\n",
       "      <th>1</th>\n",
       "      <td>-0.977278</td>\n",
       "      <td>0.950088</td>\n",
       "      <td>-0.151357</td>\n",
       "      <td>-0.103219</td>\n",
       "      <td>0.410599</td>\n",
       "      <td>1.424513</td>\n",
       "    </tr>\n",
       "    <tr>\n",
       "      <th>2</th>\n",
       "      <td>0.144044</td>\n",
       "      <td>1.454274</td>\n",
       "      <td>0.761038</td>\n",
       "      <td>0.121675</td>\n",
       "      <td>0.443863</td>\n",
       "      <td>0.282623</td>\n",
       "    </tr>\n",
       "    <tr>\n",
       "      <th>3</th>\n",
       "      <td>0.333674</td>\n",
       "      <td>1.494079</td>\n",
       "      <td>-0.205158</td>\n",
       "      <td>0.313068</td>\n",
       "      <td>-0.854096</td>\n",
       "      <td>0.038750</td>\n",
       "    </tr>\n",
       "    <tr>\n",
       "      <th>4</th>\n",
       "      <td>-2.552990</td>\n",
       "      <td>0.653619</td>\n",
       "      <td>0.864436</td>\n",
       "      <td>-0.742165</td>\n",
       "      <td>2.269755</td>\n",
       "      <td>0.999036</td>\n",
       "    </tr>\n",
       "  </tbody>\n",
       "</table>\n",
       "</div>"
      ],
      "text/plain": [
       "         X0        X1        X2        X3        X4        X5\n",
       "0  1.764052  0.400157  0.978738  2.240893  1.867558  0.540426\n",
       "1 -0.977278  0.950088 -0.151357 -0.103219  0.410599  1.424513\n",
       "2  0.144044  1.454274  0.761038  0.121675  0.443863  0.282623\n",
       "3  0.333674  1.494079 -0.205158  0.313068 -0.854096  0.038750\n",
       "4 -2.552990  0.653619  0.864436 -0.742165  2.269755  0.999036"
      ]
     },
     "execution_count": 3,
     "metadata": {},
     "output_type": "execute_result"
    }
   ],
   "source": [
    "# Create a random seed to make result reproducible\n",
    "np.random.seed(0)\n",
    "\n",
    "# Create 5 features with 100000 samples from Gaussian distribution each\n",
    "df = pd.DataFrame(np.random.randn(100000, 5))\n",
    "\n",
    "# Add 1000 to the last 100 values of feature 4\n",
    "df.iloc[-100:, 4] = df.iloc[-100:, 4] + 1000\n",
    "\n",
    "# Create 6th feature with 100000 samples from exponential distribution\n",
    "df[5] = np.random.exponential(1, 100000)\n",
    "\n",
    "# Change feature names\n",
    "df = df.add_prefix(\"X\")\n",
    "df.head()"
   ]
  },
  {
   "cell_type": "markdown",
   "id": "9e51f6ea-a077-4a69-a0ba-54340e871d25",
   "metadata": {},
   "source": [
    "There does not seem to be much difference between these values. The values of the last feature are all positive, but that could be by chance."
   ]
  },
  {
   "cell_type": "markdown",
   "id": "8173649a-d924-4cdb-af3c-7a989d12d8c8",
   "metadata": {},
   "source": [
    "#### Checking descriptive statistics and visualizations\n",
    "A good first step is to check some common statistics."
   ]
  },
  {
   "cell_type": "code",
   "execution_count": 5,
   "id": "d0b4aef5-40bc-4e41-8c3d-9debd5c1de74",
   "metadata": {},
   "outputs": [
    {
     "data": {
      "text/html": [
       "<div>\n",
       "<style scoped>\n",
       "    .dataframe tbody tr th:only-of-type {\n",
       "        vertical-align: middle;\n",
       "    }\n",
       "\n",
       "    .dataframe tbody tr th {\n",
       "        vertical-align: top;\n",
       "    }\n",
       "\n",
       "    .dataframe thead th {\n",
       "        text-align: right;\n",
       "    }\n",
       "</style>\n",
       "<table border=\"1\" class=\"dataframe\">\n",
       "  <thead>\n",
       "    <tr style=\"text-align: right;\">\n",
       "      <th></th>\n",
       "      <th>X0</th>\n",
       "      <th>X1</th>\n",
       "      <th>X2</th>\n",
       "      <th>X3</th>\n",
       "      <th>X4</th>\n",
       "      <th>X5</th>\n",
       "    </tr>\n",
       "  </thead>\n",
       "  <tbody>\n",
       "    <tr>\n",
       "      <th>count</th>\n",
       "      <td>100000.00000</td>\n",
       "      <td>100000.00000</td>\n",
       "      <td>100000.00000</td>\n",
       "      <td>100000.00000</td>\n",
       "      <td>100000.00000</td>\n",
       "      <td>100000.00000</td>\n",
       "    </tr>\n",
       "    <tr>\n",
       "      <th>mean</th>\n",
       "      <td>-0.00020</td>\n",
       "      <td>0.00235</td>\n",
       "      <td>0.00161</td>\n",
       "      <td>0.00196</td>\n",
       "      <td>1.00745</td>\n",
       "      <td>1.00622</td>\n",
       "    </tr>\n",
       "    <tr>\n",
       "      <th>std</th>\n",
       "      <td>0.99711</td>\n",
       "      <td>0.99915</td>\n",
       "      <td>1.00225</td>\n",
       "      <td>1.00057</td>\n",
       "      <td>31.61742</td>\n",
       "      <td>1.00696</td>\n",
       "    </tr>\n",
       "    <tr>\n",
       "      <th>min</th>\n",
       "      <td>-4.69459</td>\n",
       "      <td>-4.85212</td>\n",
       "      <td>-4.24712</td>\n",
       "      <td>-4.44663</td>\n",
       "      <td>-5.00230</td>\n",
       "      <td>0.00000</td>\n",
       "    </tr>\n",
       "    <tr>\n",
       "      <th>25%</th>\n",
       "      <td>-0.67891</td>\n",
       "      <td>-0.66917</td>\n",
       "      <td>-0.67574</td>\n",
       "      <td>-0.67561</td>\n",
       "      <td>-0.66450</td>\n",
       "      <td>0.29055</td>\n",
       "    </tr>\n",
       "    <tr>\n",
       "      <th>50%</th>\n",
       "      <td>0.00263</td>\n",
       "      <td>0.00315</td>\n",
       "      <td>0.00039</td>\n",
       "      <td>0.00118</td>\n",
       "      <td>0.00851</td>\n",
       "      <td>0.69563</td>\n",
       "    </tr>\n",
       "    <tr>\n",
       "      <th>75%</th>\n",
       "      <td>0.67424</td>\n",
       "      <td>0.67192</td>\n",
       "      <td>0.67740</td>\n",
       "      <td>0.67603</td>\n",
       "      <td>0.68245</td>\n",
       "      <td>1.39619</td>\n",
       "    </tr>\n",
       "    <tr>\n",
       "      <th>max</th>\n",
       "      <td>4.46661</td>\n",
       "      <td>4.22408</td>\n",
       "      <td>4.28586</td>\n",
       "      <td>4.24177</td>\n",
       "      <td>1002.53804</td>\n",
       "      <td>11.80068</td>\n",
       "    </tr>\n",
       "  </tbody>\n",
       "</table>\n",
       "</div>"
      ],
      "text/plain": [
       "                 X0            X1            X2            X3            X4  \\\n",
       "count  100000.00000  100000.00000  100000.00000  100000.00000  100000.00000   \n",
       "mean       -0.00020       0.00235       0.00161       0.00196       1.00745   \n",
       "std         0.99711       0.99915       1.00225       1.00057      31.61742   \n",
       "min        -4.69459      -4.85212      -4.24712      -4.44663      -5.00230   \n",
       "25%        -0.67891      -0.66917      -0.67574      -0.67561      -0.66450   \n",
       "50%         0.00263       0.00315       0.00039       0.00118       0.00851   \n",
       "75%         0.67424       0.67192       0.67740       0.67603       0.68245   \n",
       "max         4.46661       4.22408       4.28586       4.24177    1002.53804   \n",
       "\n",
       "                 X5  \n",
       "count  100000.00000  \n",
       "mean        1.00622  \n",
       "std         1.00696  \n",
       "min         0.00000  \n",
       "25%         0.29055  \n",
       "50%         0.69563  \n",
       "75%         1.39619  \n",
       "max        11.80068  "
      ]
     },
     "execution_count": 5,
     "metadata": {},
     "output_type": "execute_result"
    }
   ],
   "source": [
    "df.describe().round(5)"
   ]
  },
  {
   "cell_type": "markdown",
   "id": "a2a1806e-4df9-461c-96a3-f4c7f14b10e6",
   "metadata": {},
   "source": [
    "for feature X5, we have a mean and std of 1 and the median is around two thirds between the minimum and the mean. Moreover, the minimum is 1 std away from the mean while the maximum is almost 11 std away from the mean. This suggests the data is right-skewed, i.e a longer tail on the right. We will need to take a closer look."
   ]
  },
  {
   "cell_type": "markdown",
   "id": "1e14fffb-a50b-4c17-b018-7cabf95d1206",
   "metadata": {},
   "source": [
    "In the following, we will focus only on the features X0, X4 and X5.\n",
    "\n",
    "Since individual statistical metrics reduce the data to single numbers, it is better to take a look at distribution plots. The plot might already indicate outlier candidates by visual inspection. Moreover, it might give us some indication of whether any of the distribution resembles a common probability distribution. We could thus use these statistical distributions to define our ‘normal’ for the outliers.\n",
    "We take a look at histograms and boxplots. There are other options like violin plots, distplots, etc."
   ]
  },
  {
   "cell_type": "code",
   "execution_count": 1,
   "id": "4ae5576a-48d6-4fe9-b7b3-bfa04c30d478",
   "metadata": {},
   "outputs": [
    {
     "ename": "NameError",
     "evalue": "name 'plt' is not defined",
     "output_type": "error",
     "traceback": [
      "\u001b[1;31m---------------------------------------------------------------------------\u001b[0m",
      "\u001b[1;31mNameError\u001b[0m                                 Traceback (most recent call last)",
      "\u001b[1;32m~\\AppData\\Local\\Temp/ipykernel_51672/1367046383.py\u001b[0m in \u001b[0;36m<module>\u001b[1;34m\u001b[0m\n\u001b[1;32m----> 1\u001b[1;33m fig, axes = plt.subplots(\n\u001b[0m\u001b[0;32m      2\u001b[0m     \u001b[1;36m2\u001b[0m\u001b[1;33m,\u001b[0m \u001b[1;36m3\u001b[0m\u001b[1;33m,\u001b[0m \u001b[0mgridspec_kw\u001b[0m\u001b[1;33m=\u001b[0m\u001b[1;33m{\u001b[0m\u001b[1;34m\"height_ratios\"\u001b[0m\u001b[1;33m:\u001b[0m \u001b[1;33m(\u001b[0m\u001b[1;36m0.7\u001b[0m\u001b[1;33m,\u001b[0m \u001b[1;36m0.3\u001b[0m\u001b[1;33m)\u001b[0m\u001b[1;33m}\u001b[0m\u001b[1;33m,\u001b[0m \u001b[0mfigsize\u001b[0m\u001b[1;33m=\u001b[0m\u001b[1;33m(\u001b[0m\u001b[1;36m15\u001b[0m\u001b[1;33m,\u001b[0m \u001b[1;36m6\u001b[0m\u001b[1;33m)\u001b[0m\u001b[1;33m\u001b[0m\u001b[1;33m\u001b[0m\u001b[0m\n\u001b[0;32m      3\u001b[0m )\n\u001b[0;32m      4\u001b[0m \u001b[1;33m\u001b[0m\u001b[0m\n\u001b[0;32m      5\u001b[0m for (feat, plot_col) in zip(\n",
      "\u001b[1;31mNameError\u001b[0m: name 'plt' is not defined"
     ]
    }
   ],
   "source": [
    "fig, axes = plt.subplots(\n",
    "    2, 3, gridspec_kw={\"height_ratios\": (0.7, 0.3)}, figsize=(15, 6)\n",
    ")\n",
    "\n",
    "for (feat, plot_col) in zip(\n",
    "    [\"X0\", \"X4\", \"X5\"], [0, 1, 2]  # pairing feature with column in plot\n",
    "):\n",
    "    axes[0, plot_col].hist(df[feat], bins=50)\n",
    "    axes[0, plot_col].set_title(\"Histogram and boxplot for {}\".format(feat))\n",
    "    sns.despine(ax=axes[0, plot_col])\n",
    "    sns.boxplot(data=df[feat], orient=\"h\", ax=axes[1, plot_col], fliersize=2)\n",
    "    axes[1, plot_col].set(yticks=[])\n",
    "    sns.despine(ax=axes[1, plot_col], left=True)\n",
    "\n",
    "for ax in axes.flatten():\n",
    "    ax.set_xlabel(\"\")\n",
    "\n",
    "plt.show()"
   ]
  },
  {
   "cell_type": "markdown",
   "id": "b8bcb360-63f3-4d95-ab9a-0e9e89d107be",
   "metadata": {},
   "source": [
    "Some observations:\n",
    "\n",
    "* Feature X0: The distribution is symmetric, bell-shaped, and centered around 0.\n",
    "* Feature X4: The histogram only appears to have a single bar. But the x-axis is drawn up to 1000 indicating that there is some data as far out as 1000. This is in line with the maximum value in df.describe()and the boxplot further confirms this.\n",
    "* Feature X5: The plot confirms our concern about right-skewness."
   ]
  },
  {
   "cell_type": "markdown",
   "id": "f8e0b3a4-0041-4159-9d97-3cce807926a5",
   "metadata": {},
   "source": [
    "#### Manual outlier removal\n",
    "\n",
    "A simple way to identify outlier candidates is by visual inspection. We can set bounds manually and use them to isolate the outliers. We saw above that the maximum value, the histogram, and the boxplot for X4 indicated that the values can go up to 1000. But the histogram is not detailed enough because the data near 0 dominates the frequency counts, while the boxplot suggests a single outlier point. We can use a log-scale for the y-axis to reveal the small group of  100 values near 1000."
   ]
  },
  {
   "cell_type": "code",
   "execution_count": 7,
   "id": "f32bf809-5984-432a-b014-52bf8b23dc1a",
   "metadata": {},
   "outputs": [
    {
     "data": {
      "image/png": "[encoded data removed]",
      "text/plain": [
       "<Figure size 432x288 with 1 Axes>"
      ]
     },
     "metadata": {
      "needs_background": "light"
     },
     "output_type": "display_data"
    }
   ],
   "source": [
    "plt.hist(df[\"X4\"], bins=50)\n",
    "plt.yscale(\"log\")\n",
    "plt.ylim(1, 100000)\n",
    "plt.show()"
   ]
  },
  {
   "cell_type": "markdown",
   "id": "db97fb1f-ad93-40ea-ab3b-19a80d376b96",
   "metadata": {},
   "source": [
    "As this group makes up only 0.1% we would likely consider them as outliers and set an upper bound at 200, say, to first identify and then remove these samples.\n",
    "\n"
   ]
  },
  {
   "cell_type": "code",
   "execution_count": 8,
   "id": "b2032f14-fb04-4afc-9a2f-20d761d7acd1",
   "metadata": {},
   "outputs": [
    {
     "data": {
      "text/plain": [
       "99900     999.019554\n",
       "99901    1000.315769\n",
       "99902    1000.443100\n",
       "99903    1001.435870\n",
       "99904    1000.534458\n",
       "Name: X4, dtype: float64"
      ]
     },
     "execution_count": 8,
     "metadata": {},
     "output_type": "execute_result"
    }
   ],
   "source": [
    "filter_200 = df[\"X4\"] > 200\n",
    "outliers_manual = df.loc[filter_200, \"X4\"]\n",
    "outliers_manual.head()"
   ]
  },
  {
   "cell_type": "markdown",
   "id": "8a4eb111-39af-4655-b269-c4d1c4ee2f70",
   "metadata": {},
   "source": [
    "Using ~ to invert our filter we can remove all the outliers."
   ]
  },
  {
   "cell_type": "code",
   "execution_count": 9,
   "id": "a0e1ede8-9652-438d-9591-6595d8d0e56e",
   "metadata": {},
   "outputs": [
    {
     "data": {
      "text/plain": [
       "(99900,)"
      ]
     },
     "execution_count": 9,
     "metadata": {},
     "output_type": "execute_result"
    }
   ],
   "source": [
    "df_keep = df.loc[~filter_200, \"X4\"]\n",
    "df_keep.shape"
   ]
  },
  {
   "cell_type": "markdown",
   "id": "a39509df-c2a1-41bf-84d5-09bd3031c212",
   "metadata": {},
   "source": [
    "#### Using Z-scores to identify outlier candidates\n",
    "A common method for deciding what constitutes an outlier for data that is approximately normally distributed is the “3 times the standard deviation from the mean” rule. Suppose we have a value x, and we want to decide if it is an outlier or not. Let μ be the mean value of our dataset. We then look at |x−μ|(recall ||denotes the absolute value), which measures how far away x is from the mean. If this absolute value is more than 3 times the standard deviation σ of the dataset, then x is considered an outlier."
   ]
  },
  {
   "cell_type": "code",
   "execution_count": 10,
   "id": "8b9dbd69-6bea-4617-beea-05b49092f6f4",
   "metadata": {},
   "outputs": [
    {
     "data": {
      "text/plain": [
       "0    False\n",
       "1    False\n",
       "2    False\n",
       "3    False\n",
       "4    False\n",
       "Name: X0, dtype: bool"
      ]
     },
     "execution_count": 10,
     "metadata": {},
     "output_type": "execute_result"
    }
   ],
   "source": [
    "zfilterX0 = np.abs(df[\"X0\"] - df[\"X0\"].mean()) > (3 * df[\"X0\"].std())\n",
    "zfilterX0.head()"
   ]
  },
  {
   "cell_type": "markdown",
   "id": "763ddd19-236f-47ec-9ab8-48beb91954f5",
   "metadata": {},
   "source": [
    "We can see that this returns a Series of booleans so we can now use this to do boolean indexing. For example, this command returns the first 5 outlier entries of df[\"X0\"].\n",
    "\n"
   ]
  },
  {
   "cell_type": "code",
   "execution_count": 11,
   "id": "00e16159-b666-4acc-9eca-861c5a8e506b",
   "metadata": {},
   "outputs": [
    {
     "data": {
      "text/plain": [
       "1470    3.211847\n",
       "2763   -3.694285\n",
       "3178   -3.007413\n",
       "3809    3.301367\n",
       "3833   -3.432215\n",
       "Name: X0, dtype: float64"
      ]
     },
     "execution_count": 11,
     "metadata": {},
     "output_type": "execute_result"
    }
   ],
   "source": [
    "df.loc[zfilterX0, \"X0\"].head()"
   ]
  },
  {
   "cell_type": "markdown",
   "id": "98345d84-09ab-4d03-887b-5f63b3d01873",
   "metadata": {},
   "source": [
    "We can also apply this step to all the five columns at once. If we compute the filter across the entire DataFrame as supposed to the first column we just obtain a DataFrame of boolean values. Let’s try this out"
   ]
  },
  {
   "cell_type": "code",
   "execution_count": 14,
   "id": "7a22d9d2-2e00-4f0c-94e3-07222b38aaa5",
   "metadata": {},
   "outputs": [
    {
     "data": {
      "text/html": [
       "<div>\n",
       "<style scoped>\n",
       "    .dataframe tbody tr th:only-of-type {\n",
       "        vertical-align: middle;\n",
       "    }\n",
       "\n",
       "    .dataframe tbody tr th {\n",
       "        vertical-align: top;\n",
       "    }\n",
       "\n",
       "    .dataframe thead th {\n",
       "        text-align: right;\n",
       "    }\n",
       "</style>\n",
       "<table border=\"1\" class=\"dataframe\">\n",
       "  <thead>\n",
       "    <tr style=\"text-align: right;\">\n",
       "      <th></th>\n",
       "      <th>X0</th>\n",
       "      <th>X1</th>\n",
       "      <th>X2</th>\n",
       "      <th>X3</th>\n",
       "      <th>X4</th>\n",
       "      <th>X5</th>\n",
       "    </tr>\n",
       "  </thead>\n",
       "  <tbody>\n",
       "    <tr>\n",
       "      <th>0</th>\n",
       "      <td>False</td>\n",
       "      <td>False</td>\n",
       "      <td>False</td>\n",
       "      <td>False</td>\n",
       "      <td>False</td>\n",
       "      <td>False</td>\n",
       "    </tr>\n",
       "    <tr>\n",
       "      <th>1</th>\n",
       "      <td>False</td>\n",
       "      <td>False</td>\n",
       "      <td>False</td>\n",
       "      <td>False</td>\n",
       "      <td>False</td>\n",
       "      <td>False</td>\n",
       "    </tr>\n",
       "    <tr>\n",
       "      <th>2</th>\n",
       "      <td>False</td>\n",
       "      <td>False</td>\n",
       "      <td>False</td>\n",
       "      <td>False</td>\n",
       "      <td>False</td>\n",
       "      <td>False</td>\n",
       "    </tr>\n",
       "    <tr>\n",
       "      <th>3</th>\n",
       "      <td>False</td>\n",
       "      <td>False</td>\n",
       "      <td>False</td>\n",
       "      <td>False</td>\n",
       "      <td>False</td>\n",
       "      <td>False</td>\n",
       "    </tr>\n",
       "    <tr>\n",
       "      <th>4</th>\n",
       "      <td>False</td>\n",
       "      <td>False</td>\n",
       "      <td>False</td>\n",
       "      <td>False</td>\n",
       "      <td>False</td>\n",
       "      <td>False</td>\n",
       "    </tr>\n",
       "  </tbody>\n",
       "</table>\n",
       "</div>"
      ],
      "text/plain": [
       "      X0     X1     X2     X3     X4     X5\n",
       "0  False  False  False  False  False  False\n",
       "1  False  False  False  False  False  False\n",
       "2  False  False  False  False  False  False\n",
       "3  False  False  False  False  False  False\n",
       "4  False  False  False  False  False  False"
      ]
     },
     "execution_count": 14,
     "metadata": {},
     "output_type": "execute_result"
    }
   ],
   "source": [
    "zfilter_df = np.abs(df - df.mean()) > (3 * df.std())\n",
    "zfilter_df.head(5)"
   ]
  },
  {
   "cell_type": "markdown",
   "id": "bbc2b07c-a232-45c9-a4b6-e5965692c9fe",
   "metadata": {},
   "source": [
    "Thus the “3 times the standard deviation from the mean” rule translates into |z|>3 (z=(x−μ)/σ)"
   ]
  },
  {
   "cell_type": "code",
   "execution_count": 15,
   "id": "4e2a3ea5-9e38-47a6-bb83-134155a2d09f",
   "metadata": {},
   "outputs": [
    {
     "name": "stdout",
     "output_type": "stream",
     "text": [
      "Both approaches are equivalent: True\n"
     ]
    }
   ],
   "source": [
    "zscores_df = (df - df.mean()) / (df.std())\n",
    "zfilter_df2 = np.abs(zscores_df) > 3\n",
    "\n",
    "# Check the two zfilters are identical\n",
    "print(\"Both approaches are equivalent:\", zfilter_df.equals(zfilter_df2))"
   ]
  },
  {
   "cell_type": "markdown",
   "id": "1e4b79a2-fcdf-4d48-8725-2e03e1df2101",
   "metadata": {},
   "source": [
    "#### Filter outliers of single features\n",
    "\n",
    "Let’s check how many outliers we have for each feature. We can use the sum() function as False is counted as 0 and True is counted as 1. We can specify the direction of summation:\n",
    "\n",
    "* axis=0 sums along the columns,\n",
    "* axis=1 sums along the rows."
   ]
  },
  {
   "cell_type": "code",
   "execution_count": 17,
   "id": "19c7e7b8-8df9-489e-84e4-f10d6fa1defd",
   "metadata": {},
   "outputs": [
    {
     "name": "stdout",
     "output_type": "stream",
     "text": [
      "Number of outliers detected per feature using z-scores:\n",
      "X0     255\n",
      "X1     290\n",
      "X2     272\n",
      "X3     271\n",
      "X4     100\n",
      "X5    1858\n",
      "dtype: int64\n",
      "Total number of outliers detected: 3046\n"
     ]
    }
   ],
   "source": [
    "print(\"Number of outliers detected per feature using z-scores:\")\n",
    "print(zfilter_df.sum(axis=0))\n",
    "print(\"Total number of outliers detected:\", zfilter_df.sum(axis=0).sum())"
   ]
  },
  {
   "cell_type": "markdown",
   "id": "4a278e1a-e214-450c-8e8a-73df4f497e14",
   "metadata": {},
   "source": [
    "You may remember that roughly 99.73% of the values of a normal distribution lie within the  interval, which means that roughly 0.27% lie outside of it. And indeed, for the features X0 to X3, we get around 270 outliers."
   ]
  },
  {
   "cell_type": "markdown",
   "id": "2f6052ea-187b-49d9-9c52-520aca57911e",
   "metadata": {},
   "source": [
    "Outliers and skewness affect the mean and the standard deviation and in turn, they affect the z-scores calculated from them."
   ]
  },
  {
   "cell_type": "markdown",
   "id": "bf90303a-c49e-439c-abaa-63369dfee703",
   "metadata": {},
   "source": [
    "The larger number of outliers candidates for feature X5 is due to the large right-hand tail (right-skewness) of the exponential distribution, which does not follow the behavior of a normal distribution. (In fact, to find an interval around the mean that contains around 99.75% of the exponential distribution we would need use 5 standard deviations"
   ]
  },
  {
   "cell_type": "markdown",
   "id": "64196f8a-eec4-4204-a61f-90d434315f3c",
   "metadata": {},
   "source": [
    "#### Filtering outliers using all features\n",
    "\n",
    "Now we would like to use our filter to select all rows which have a True value in any of the columns. We can do this using pandas’ any() function, which returns a Series of booleans. We have two ways of applying it:\n",
    "\n",
    "* axis=0 gives a value to each column: True if there was a True entry anywhere in the column, and False otherwise\n",
    "* axis=1 gives a value to each row: True if there was a True entry anywhere in the row, and False otherwise.\n",
    "We are interested in the second option since we want to detect all rows that have an outlier value in any of the five columns. Let’s give it a go:\n"
   ]
  },
  {
   "cell_type": "code",
   "execution_count": 18,
   "id": "5512bd99-6673-4a77-8358-2d8b39a1f9b0",
   "metadata": {},
   "outputs": [
    {
     "data": {
      "text/plain": [
       "0    False\n",
       "1    False\n",
       "2    False\n",
       "3    False\n",
       "4    False\n",
       "dtype: bool"
      ]
     },
     "execution_count": 18,
     "metadata": {},
     "output_type": "execute_result"
    }
   ],
   "source": [
    "zfilter_any = zfilter_df.any(axis=1)\n",
    "zfilter_any.head()"
   ]
  },
  {
   "cell_type": "markdown",
   "id": "ff1df9d5-6601-42b3-8c0d-a8b4cbe33a27",
   "metadata": {},
   "source": [
    "Let’s finally select all the rows now using zfilter_any"
   ]
  },
  {
   "cell_type": "code",
   "execution_count": 19,
   "id": "2e3f6084-5358-46cb-9a43-a260d391816b",
   "metadata": {},
   "outputs": [
    {
     "data": {
      "text/plain": [
       "(3018, 6)"
      ]
     },
     "execution_count": 19,
     "metadata": {},
     "output_type": "execute_result"
    }
   ],
   "source": [
    "outliers = df.loc[zfilter_any, :]\n",
    "outliers.shape"
   ]
  },
  {
   "cell_type": "markdown",
   "id": "f3831d68-3bb2-4e21-9abd-03b00e8f6d7b",
   "metadata": {},
   "source": [
    "Note that we got fewer outliers than the 3046 we calculated earlier. This is due to the fact that some samples were flagged as outliers in more than 1 column.\n",
    "\n",
    "We can now define a new DataFrame where the rows with outliers are dropped:\n",
    "\n"
   ]
  },
  {
   "cell_type": "code",
   "execution_count": 20,
   "id": "9c115706-4c45-4946-ba92-fb92e119c59c",
   "metadata": {},
   "outputs": [],
   "source": [
    "df_wo = df.drop(outliers.index, axis=0)"
   ]
  },
  {
   "cell_type": "markdown",
   "id": "28de61e7-5a0d-4686-bd4e-62bea4f3fd61",
   "metadata": {},
   "source": [
    "#### Using the interquartile range to identify outlier candidates\n",
    "Two advantages of boxplots are that they are based on robust statistics (quartiles and the IQR) and that they highlight outlier candidates in the plot. Let’s take a look at the plots again."
   ]
  },
  {
   "cell_type": "code",
   "execution_count": 21,
   "id": "b8bf2869-88a4-41e8-b93f-c1f09bf19c7f",
   "metadata": {},
   "outputs": [
    {
     "data": {
      "image/png": "[encoded data removed]",
      "text/plain": [
       "<Figure size 1080x432 with 6 Axes>"
      ]
     },
     "metadata": {
      "needs_background": "light"
     },
     "output_type": "display_data"
    }
   ],
   "source": [
    "fig, axes = plt.subplots(\n",
    "    2, 3, gridspec_kw={\"height_ratios\": (0.7, 0.3)}, figsize=(15, 6)\n",
    ")\n",
    "\n",
    "for (feat, plot_col) in zip(\n",
    "    [\"X0\", \"X4\", \"X5\"], [0, 1, 2]  # pairing feature with column in plot\n",
    "):\n",
    "    axes[0, plot_col].hist(df[feat], bins=50)\n",
    "    axes[0, plot_col].set_title(\"Histogram and boxplot for {}\".format(feat))\n",
    "    sns.despine(ax=axes[0, plot_col])\n",
    "    sns.boxplot(data=df[feat], orient=\"h\", ax=axes[1, plot_col], fliersize=2)\n",
    "    axes[1, plot_col].set(yticks=[])\n",
    "    sns.despine(ax=axes[1, plot_col], left=True)\n",
    "\n",
    "for ax in axes.flatten():\n",
    "    ax.set_xlabel(\"\")\n",
    "\n",
    "plt.show()"
   ]
  },
  {
   "cell_type": "markdown",
   "id": "4122198e-dc22-43f1-a7bf-b293a1d6dbc9",
   "metadata": {},
   "source": [
    "Let’s identify the outliers flagged in the boxplot method by calculating the upper and lower bounds directly from the IQR of each feature.\n",
    "\n"
   ]
  },
  {
   "cell_type": "code",
   "execution_count": 22,
   "id": "50a68b6b-721c-4657-960f-6a47799df773",
   "metadata": {},
   "outputs": [
    {
     "name": "stdout",
     "output_type": "stream",
     "text": [
      "Lower bound: -2.7087, upper bound: 2.7040\n"
     ]
    }
   ],
   "source": [
    "Q1 = np.percentile(df, 25, axis=0)\n",
    "Q3 = np.percentile(df, 75, axis=0)\n",
    "IQR = Q3 - Q1\n",
    "lower_bound = Q1 - 1.5 * IQR\n",
    "upper_bound = Q3 + 1.5 * IQR\n",
    "\n",
    "# Print lower and upper bound for X0\n",
    "print(\"Lower bound: {:.4f}, upper bound: {:.4f}\".format(lower_bound[0], upper_bound[0]))"
   ]
  },
  {
   "cell_type": "markdown",
   "id": "a5d31a20-8e06-4c42-916c-6b2ea8b7eabf",
   "metadata": {},
   "source": [
    "Observation: As X0 was drawn from a standard normal distribution these bounds correspond to roughly 2.7 standard deviations either side of the mean. So this is a smaller interval than the one for the 3 standard deviations from the mean rule. However, we could choose a higher multiple of the IQR when calculating the above bounds and thus flag only the most extreme outliers.\n",
    "\n",
    "We now use boolean indexing to select the entries which lie outside our bounds. Let’s check how many outliers are identified by the boxplot in each feature."
   ]
  },
  {
   "cell_type": "code",
   "execution_count": 23,
   "id": "0c589c8b-ea91-471f-b82f-354f5d3a62fd",
   "metadata": {},
   "outputs": [
    {
     "name": "stdout",
     "output_type": "stream",
     "text": [
      "Number of outliers detected per feature using a boxplot:\n",
      "X0     648\n",
      "X1     757\n",
      "X2     679\n",
      "X3     687\n",
      "X4     818\n",
      "X5    4742\n",
      "dtype: int64\n",
      "Total number of outliers detected: 8331\n"
     ]
    }
   ],
   "source": [
    "boxplot_filter = (df < lower_bound) | (df > upper_bound)\n",
    "print(\"Number of outliers detected per feature using a boxplot:\")\n",
    "print(boxplot_filter.sum(axis=0))\n",
    "print(\"Total number of outliers detected:\", boxplot_filter.sum(axis=0).sum())"
   ]
  },
  {
   "cell_type": "markdown",
   "id": "a51f75cd-b6ae-4b7d-a774-e83067ffa844",
   "metadata": {},
   "source": [
    "Observe that for X4 the boxplot still flags 818 outliers for the data near 0, while the z-score only gave the 100 data values near 1000. This is because the quartiles and the interquartile range are robust statistics that are unaffected by this small set of data points near 1000."
   ]
  },
  {
   "cell_type": "markdown",
   "id": "aafe5069-36f3-49fb-b438-906d799c16ec",
   "metadata": {},
   "source": [
    "### Problems with outlier detection methods\n",
    "#### The data contains multiple sub-populations\n",
    "\n",
    "Consider data about people’s monthly spending. We might identify groups with different behavior, e.g people commuting to work by car, bike, or public transport. It would be unreasonable to consider any group as outliers or exclude them entirely from the analysis.\n",
    "When we have sub-populations we might wish to identify these individual groups and then analyze them for outliers in isolation, potentially using different techniques for different groups. For example, after some investigations, we might decide that the samples near 1000 in X4 are not outliers but that they form a (very) small subpopulation that should be treated separately.\n",
    "\n",
    "#### Outliers can affect statistics and thus outlier detection\n",
    "\n",
    "As we have seen for X4 statistics like the mean and the standard deviation are affected by the presence of a few outliers. As a result, so were the z-scores. This clearly affected the number of outlier candidates. One option is to work with robust statistics, like the median, that are less affected by outliers. For example, robust z-scores mimic the idea of z-scores but the mean is replaced by the median and the standard deviation by the median absolute deviation (MAD).\n",
    "\n",
    "#### The distribution of feature values is skewed\n",
    "\n",
    "Both z-scores and boxplots assume the data is roughly symmetrically distributed around the ‘center’ of the data and they measure a distance from this center to identify possible outliers in both directions. As the feature X5 shows, skewness affects the number of identified outliers by both methods. \n",
    "\n",
    "Unless the data distribution looks vaguely like a Gaussian distribution, i.e. the distribution is a single population that is approximately symmetric and bell-shaped, then z-scores are not suitable and you should consider other methods like visual inspection, other statistical tests, or even machine learning approaches for outlier detection.\n",
    "We can sometimes reduce skewness by applying different transformations to the data to make it approximately Gaussian and then apply z-scores or boxplots. We will see more about using transformations later in the program.\n",
    "Alternatively, one can choose a different multiplier in the definition of the fence and the whiskers of the boxplot; one can use adjusted boxplots, which are based on various measures of skewness to define individual lengths for the two whiskers.\n",
    "\n",
    "Note that despite some shortcomings, z-scores are commonly used in data science as they are fast and easy to implement on large datasets, for example, we don’t need to sort the data first to identify the median or the quartiles. Thus in later units, we will apply z-scores, potentially having transformed the data first. However, you are welcome to explore alternatives like robust z-scores."
   ]
  },
  {
   "cell_type": "markdown",
   "id": "328f97d6-fee9-42f4-8105-3129e3a53dcf",
   "metadata": {},
   "source": [
    "### Outliers for combinations of features\n",
    "\n",
    "In this scatterplot, we plot the z-scores of features X0 and X1. We have plotted in orange all points that were flagged as outliers in one of the two features. The light blue rectangular region is considered ‘normal’ by both features according to the z-score method. However, it appears that most of the points form a disc, i.e. the boundary of the ‘normal’ region appears to be circular. (The radius of the circle was simply chosen by inspection.) From this perspective, some points in the corners of the rectangle could be considered outliers now, while some of the outlier candidates now fall into the new ‘normal’ region. The choice of which points to consider outliers and how to handle them is ours to make and may depend on the context.\n"
   ]
  },
  {
   "cell_type": "code",
   "execution_count": 24,
   "id": "254f951e-8017-4344-9d49-25710548f242",
   "metadata": {},
   "outputs": [
    {
     "data": {
      "image/png": "[encoded data removed]",
      "text/plain": [
       "<Figure size 432x432 with 1 Axes>"
      ]
     },
     "metadata": {
      "needs_background": "light"
     },
     "output_type": "display_data"
    }
   ],
   "source": [
    "fig = plt.figure(figsize=(6, 6))\n",
    "# Mark square corresponding to zone 3 std from the means of X0 and X1\n",
    "rectangle = plt.Rectangle((-3, -3), 6, 6, fc=\"lightblue\", ec=\"blue\", alpha=0.5)\n",
    "plt.gca().add_patch(rectangle)\n",
    "\n",
    "# Add circular outline\n",
    "circle = plt.Circle((0, 0), 3.3, ec=\"blue\", linestyle=\"--\", alpha=0.5, fill=False)\n",
    "plt.gca().add_patch(circle)\n",
    "\n",
    "# Plot z_scores of features X0 and X1\n",
    "plt.scatter(x=zscores_df[\"X0\"], y=zscores_df[\"X1\"], s=2)\n",
    "\n",
    "# Identify and plot z-score outliers in features X0 and X1\n",
    "df_out = zscores_df[(np.abs(zscores_df.loc[:, \"X0\":\"X1\"]) > 3).sum(axis=1) > 0].loc[\n",
    "    :, \"X0\":\"X1\"\n",
    "]\n",
    "\n",
    "plt.scatter(x=df_out[\"X0\"], y=df_out[\"X1\"], s=3, c=\"orange\")\n",
    "plt.xlabel(\"Feature X0\")\n",
    "plt.ylabel(\"Feature X1\")\n",
    "plt.show()"
   ]
  },
  {
   "cell_type": "markdown",
   "id": "637255f8-379d-47b4-a3b7-f0c9965fe186",
   "metadata": {},
   "source": [
    "An important part of data science projects is to check for outliers as these samples can affect our analytical results and our machine learning models. However, outlier detection methods only flag outlier candidates. It is our decision on how to handle these points based on further analysis.\n",
    "\n",
    "Some important first steps are visualizations and descriptive statistics. In this unit, we demonstrated how to identify and remove outlier candidates using visual inspection, z-scores, and boxplots. We also highlighted scenarios where these methods should be used with care or should be adjusted."
   ]
  }
 ],
 "metadata": {
  "kernelspec": {
   "display_name": "Python [conda env:adsml] *",
   "language": "python",
   "name": "conda-env-adsml-py"
  },
  "language_info": {
   "codemirror_mode": {
    "name": "ipython",
    "version": 3
   },
   "file_extension": ".py",
   "mimetype": "text/x-python",
   "name": "python",
   "nbconvert_exporter": "python",
   "pygments_lexer": "ipython3",
   "version": "3.9.7"
  }
 },
 "nbformat": 4,
 "nbformat_minor": 5
}
