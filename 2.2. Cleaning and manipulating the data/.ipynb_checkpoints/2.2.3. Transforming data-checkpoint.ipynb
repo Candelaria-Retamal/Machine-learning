{
 "cells": [
  {
   "cell_type": "markdown",
   "id": "8ae0678e-64a6-425e-a28f-44f6c6b1a0d4",
   "metadata": {},
   "source": [
    "### Transforming the data\n",
    "It could be that the original formatting of the data is inconsistent. Maybe the values are not in the correct units or data types. Or maybe there is some incorrect data."
   ]
  },
  {
   "cell_type": "code",
   "execution_count": 1,
   "id": "80fc4ae5-6bdb-4d5d-9051-55cf19d13a1e",
   "metadata": {},
   "outputs": [
    {
     "data": {
      "text/html": [
       "<div>\n",
       "<style scoped>\n",
       "    .dataframe tbody tr th:only-of-type {\n",
       "        vertical-align: middle;\n",
       "    }\n",
       "\n",
       "    .dataframe tbody tr th {\n",
       "        vertical-align: top;\n",
       "    }\n",
       "\n",
       "    .dataframe thead th {\n",
       "        text-align: right;\n",
       "    }\n",
       "</style>\n",
       "<table border=\"1\" class=\"dataframe\">\n",
       "  <thead>\n",
       "    <tr style=\"text-align: right;\">\n",
       "      <th></th>\n",
       "      <th>class</th>\n",
       "      <th>score</th>\n",
       "      <th>result</th>\n",
       "      <th>performance</th>\n",
       "    </tr>\n",
       "  </thead>\n",
       "  <tbody>\n",
       "    <tr>\n",
       "      <th>0</th>\n",
       "      <td>1</td>\n",
       "      <td>10</td>\n",
       "      <td>0</td>\n",
       "      <td>strong</td>\n",
       "    </tr>\n",
       "    <tr>\n",
       "      <th>1</th>\n",
       "      <td>1</td>\n",
       "      <td>21</td>\n",
       "      <td>1</td>\n",
       "      <td>weak</td>\n",
       "    </tr>\n",
       "    <tr>\n",
       "      <th>2</th>\n",
       "      <td>1</td>\n",
       "      <td>35</td>\n",
       "      <td>0</td>\n",
       "      <td>normal</td>\n",
       "    </tr>\n",
       "    <tr>\n",
       "      <th>3</th>\n",
       "      <td>2</td>\n",
       "      <td>11</td>\n",
       "      <td>1</td>\n",
       "      <td>weak</td>\n",
       "    </tr>\n",
       "    <tr>\n",
       "      <th>4</th>\n",
       "      <td>2</td>\n",
       "      <td>26</td>\n",
       "      <td>0</td>\n",
       "      <td>strong</td>\n",
       "    </tr>\n",
       "  </tbody>\n",
       "</table>\n",
       "</div>"
      ],
      "text/plain": [
       "   class  score  result performance\n",
       "0      1     10       0      strong\n",
       "1      1     21       1        weak\n",
       "2      1     35       0      normal\n",
       "3      2     11       1        weak\n",
       "4      2     26       0      strong"
      ]
     },
     "execution_count": 1,
     "metadata": {},
     "output_type": "execute_result"
    }
   ],
   "source": [
    "import pandas as pd\n",
    "import numpy as np\n",
    "data = {\n",
    "    \"class\": [1, 1, 1, 2, 2],\n",
    "    \"score\": [10, 21, 35, 11, 26],\n",
    "    \"result\": [0, 1, 0, 1, 0],\n",
    "    \"performance\": [\"strong\", \"weak\", \"normal\", \"weak\", \"strong\"],\n",
    "}\n",
    "df = pd.DataFrame(data)\n",
    "df"
   ]
  },
  {
   "cell_type": "markdown",
   "id": "58587167-0301-4b72-a59f-a754e77d2eb1",
   "metadata": {},
   "source": [
    "#### Mapping \n",
    "\n",
    "One of the basic tasks in data transformations is mapping of a set of values to another set. Pandas provides us with a special function for doing this called map(). This function is for Series and we can use it to map an existing value of a Series to a different set of values. Series.map({a_1:b_1, a_2:b_2, ...}). This means that the value a_1 will get mapped to b_1, the value a_2 will get mapped to b_2, and so on. Let’s suppose we want to transform the column result such that 0 gets mapped to fail and 1 to pass. We can do this with the map() function as follows:\n"
   ]
  },
  {
   "cell_type": "code",
   "execution_count": 2,
   "id": "708b4c7d-683a-4148-a083-21627dcadd73",
   "metadata": {},
   "outputs": [
    {
     "data": {
      "text/plain": [
       "0    fail\n",
       "1    pass\n",
       "2    fail\n",
       "3    pass\n",
       "4    fail\n",
       "Name: result, dtype: object"
      ]
     },
     "execution_count": 2,
     "metadata": {},
     "output_type": "execute_result"
    }
   ],
   "source": [
    "df.result.map({0: \"fail\", 1: \"pass\"})"
   ]
  },
  {
   "cell_type": "markdown",
   "id": "2192bbc9-bec3-48b8-9c49-703b669bda1b",
   "metadata": {},
   "source": [
    "It is always a good practice to store the results in a new column instead of replacing an existing column. So let’s do this:\n",
    "\n"
   ]
  },
  {
   "cell_type": "code",
   "execution_count": 4,
   "id": "5aa76a64-ed11-4da0-aa2e-d1205c2770ce",
   "metadata": {},
   "outputs": [
    {
     "data": {
      "text/html": [
       "<div>\n",
       "<style scoped>\n",
       "    .dataframe tbody tr th:only-of-type {\n",
       "        vertical-align: middle;\n",
       "    }\n",
       "\n",
       "    .dataframe tbody tr th {\n",
       "        vertical-align: top;\n",
       "    }\n",
       "\n",
       "    .dataframe thead th {\n",
       "        text-align: right;\n",
       "    }\n",
       "</style>\n",
       "<table border=\"1\" class=\"dataframe\">\n",
       "  <thead>\n",
       "    <tr style=\"text-align: right;\">\n",
       "      <th></th>\n",
       "      <th>class</th>\n",
       "      <th>score</th>\n",
       "      <th>result</th>\n",
       "      <th>performance</th>\n",
       "      <th>pass or fail</th>\n",
       "    </tr>\n",
       "  </thead>\n",
       "  <tbody>\n",
       "    <tr>\n",
       "      <th>0</th>\n",
       "      <td>1</td>\n",
       "      <td>10</td>\n",
       "      <td>0</td>\n",
       "      <td>strong</td>\n",
       "      <td>fail</td>\n",
       "    </tr>\n",
       "    <tr>\n",
       "      <th>1</th>\n",
       "      <td>1</td>\n",
       "      <td>21</td>\n",
       "      <td>1</td>\n",
       "      <td>weak</td>\n",
       "      <td>pass</td>\n",
       "    </tr>\n",
       "    <tr>\n",
       "      <th>2</th>\n",
       "      <td>1</td>\n",
       "      <td>35</td>\n",
       "      <td>0</td>\n",
       "      <td>normal</td>\n",
       "      <td>fail</td>\n",
       "    </tr>\n",
       "    <tr>\n",
       "      <th>3</th>\n",
       "      <td>2</td>\n",
       "      <td>11</td>\n",
       "      <td>1</td>\n",
       "      <td>weak</td>\n",
       "      <td>pass</td>\n",
       "    </tr>\n",
       "    <tr>\n",
       "      <th>4</th>\n",
       "      <td>2</td>\n",
       "      <td>26</td>\n",
       "      <td>0</td>\n",
       "      <td>strong</td>\n",
       "      <td>fail</td>\n",
       "    </tr>\n",
       "  </tbody>\n",
       "</table>\n",
       "</div>"
      ],
      "text/plain": [
       "   class  score  result performance pass or fail\n",
       "0      1     10       0      strong         fail\n",
       "1      1     21       1        weak         pass\n",
       "2      1     35       0      normal         fail\n",
       "3      2     11       1        weak         pass\n",
       "4      2     26       0      strong         fail"
      ]
     },
     "execution_count": 4,
     "metadata": {},
     "output_type": "execute_result"
    }
   ],
   "source": [
    "df[\"pass or fail\"] = df.result.map({0: \"fail\", 1: \"pass\"})\n",
    "df"
   ]
  },
  {
   "cell_type": "markdown",
   "id": "61553497-c76d-4c64-bf57-eaa18765f396",
   "metadata": {},
   "source": [
    "#### Applying functions\n",
    "\n",
    "There are situations where a direct mapping might not be sufficient. In such cases, we can apply a specific function to transform the data any way we want. There are several ways in which we might do this: to individual elements, to entire columns, to entire rows, or to the entire DataFrame. There are two main functions that we can use for this: apply() and applymap().\n",
    "\n",
    "Let’s take a look first at apply(). This is both a Series method and a DataFrame method. When used on a Series, it applies a given function to each element of the series. Let’s suppose that we want to standardize the scores. This is a common procedure which produces values with mean 0 and standard deviation. Normalization can be important when comparing measurements that have different units, and as we will see later in the program, it is also a general requirement for many machine learning algorithms. Let’s define our own standardizing function for the column score as follows:"
   ]
  },
  {
   "cell_type": "code",
   "execution_count": 5,
   "id": "6735f8bf-1fd5-4b2c-8f1c-2230a5f844ae",
   "metadata": {},
   "outputs": [],
   "source": [
    "def stand(x):\n",
    "    mean = df.score.mean()\n",
    "    std = df.score.std()\n",
    "    y = (x - mean) / std\n",
    "    return y"
   ]
  },
  {
   "cell_type": "code",
   "execution_count": 6,
   "id": "2e5cde56-8f99-47a0-bac0-92aad864aafe",
   "metadata": {},
   "outputs": [
    {
     "data": {
      "text/html": [
       "<div>\n",
       "<style scoped>\n",
       "    .dataframe tbody tr th:only-of-type {\n",
       "        vertical-align: middle;\n",
       "    }\n",
       "\n",
       "    .dataframe tbody tr th {\n",
       "        vertical-align: top;\n",
       "    }\n",
       "\n",
       "    .dataframe thead th {\n",
       "        text-align: right;\n",
       "    }\n",
       "</style>\n",
       "<table border=\"1\" class=\"dataframe\">\n",
       "  <thead>\n",
       "    <tr style=\"text-align: right;\">\n",
       "      <th></th>\n",
       "      <th>class</th>\n",
       "      <th>score</th>\n",
       "      <th>result</th>\n",
       "      <th>performance</th>\n",
       "      <th>pass or fail</th>\n",
       "      <th>score standard</th>\n",
       "    </tr>\n",
       "  </thead>\n",
       "  <tbody>\n",
       "    <tr>\n",
       "      <th>0</th>\n",
       "      <td>1</td>\n",
       "      <td>10</td>\n",
       "      <td>0</td>\n",
       "      <td>strong</td>\n",
       "      <td>fail</td>\n",
       "      <td>-1.009295</td>\n",
       "    </tr>\n",
       "    <tr>\n",
       "      <th>1</th>\n",
       "      <td>1</td>\n",
       "      <td>21</td>\n",
       "      <td>1</td>\n",
       "      <td>weak</td>\n",
       "      <td>pass</td>\n",
       "      <td>0.038087</td>\n",
       "    </tr>\n",
       "    <tr>\n",
       "      <th>2</th>\n",
       "      <td>1</td>\n",
       "      <td>35</td>\n",
       "      <td>0</td>\n",
       "      <td>normal</td>\n",
       "      <td>fail</td>\n",
       "      <td>1.371118</td>\n",
       "    </tr>\n",
       "    <tr>\n",
       "      <th>3</th>\n",
       "      <td>2</td>\n",
       "      <td>11</td>\n",
       "      <td>1</td>\n",
       "      <td>weak</td>\n",
       "      <td>pass</td>\n",
       "      <td>-0.914078</td>\n",
       "    </tr>\n",
       "    <tr>\n",
       "      <th>4</th>\n",
       "      <td>2</td>\n",
       "      <td>26</td>\n",
       "      <td>0</td>\n",
       "      <td>strong</td>\n",
       "      <td>fail</td>\n",
       "      <td>0.514169</td>\n",
       "    </tr>\n",
       "  </tbody>\n",
       "</table>\n",
       "</div>"
      ],
      "text/plain": [
       "   class  score  result performance pass or fail  score standard\n",
       "0      1     10       0      strong         fail       -1.009295\n",
       "1      1     21       1        weak         pass        0.038087\n",
       "2      1     35       0      normal         fail        1.371118\n",
       "3      2     11       1        weak         pass       -0.914078\n",
       "4      2     26       0      strong         fail        0.514169"
      ]
     },
     "execution_count": 6,
     "metadata": {},
     "output_type": "execute_result"
    }
   ],
   "source": [
    "# We can now apply it to the Series df.score and store the output in a new column\n",
    "df[\"score standard\"] = df.score.apply(stand)\n",
    "df"
   ]
  },
  {
   "cell_type": "markdown",
   "id": "c8c354c9-6ef1-4796-b417-c747d345d3c4",
   "metadata": {},
   "source": [
    "Let’s now look at using the apply() function on an entire DataFrame. To do this, we will consider the DataFrame consisting of the numerical columns. We can select these by column labels using the loc function as follows"
   ]
  },
  {
   "cell_type": "code",
   "execution_count": 7,
   "id": "ef9822e5-7a14-4f5f-b700-a731e98eed85",
   "metadata": {},
   "outputs": [
    {
     "data": {
      "text/html": [
       "<div>\n",
       "<style scoped>\n",
       "    .dataframe tbody tr th:only-of-type {\n",
       "        vertical-align: middle;\n",
       "    }\n",
       "\n",
       "    .dataframe tbody tr th {\n",
       "        vertical-align: top;\n",
       "    }\n",
       "\n",
       "    .dataframe thead th {\n",
       "        text-align: right;\n",
       "    }\n",
       "</style>\n",
       "<table border=\"1\" class=\"dataframe\">\n",
       "  <thead>\n",
       "    <tr style=\"text-align: right;\">\n",
       "      <th></th>\n",
       "      <th>class</th>\n",
       "      <th>result</th>\n",
       "      <th>score</th>\n",
       "      <th>score standard</th>\n",
       "    </tr>\n",
       "  </thead>\n",
       "  <tbody>\n",
       "    <tr>\n",
       "      <th>0</th>\n",
       "      <td>1</td>\n",
       "      <td>0</td>\n",
       "      <td>10</td>\n",
       "      <td>-1.009295</td>\n",
       "    </tr>\n",
       "    <tr>\n",
       "      <th>1</th>\n",
       "      <td>1</td>\n",
       "      <td>1</td>\n",
       "      <td>21</td>\n",
       "      <td>0.038087</td>\n",
       "    </tr>\n",
       "    <tr>\n",
       "      <th>2</th>\n",
       "      <td>1</td>\n",
       "      <td>0</td>\n",
       "      <td>35</td>\n",
       "      <td>1.371118</td>\n",
       "    </tr>\n",
       "    <tr>\n",
       "      <th>3</th>\n",
       "      <td>2</td>\n",
       "      <td>1</td>\n",
       "      <td>11</td>\n",
       "      <td>-0.914078</td>\n",
       "    </tr>\n",
       "    <tr>\n",
       "      <th>4</th>\n",
       "      <td>2</td>\n",
       "      <td>0</td>\n",
       "      <td>26</td>\n",
       "      <td>0.514169</td>\n",
       "    </tr>\n",
       "  </tbody>\n",
       "</table>\n",
       "</div>"
      ],
      "text/plain": [
       "   class  result  score  score standard\n",
       "0      1       0     10       -1.009295\n",
       "1      1       1     21        0.038087\n",
       "2      1       0     35        1.371118\n",
       "3      2       1     11       -0.914078\n",
       "4      2       0     26        0.514169"
      ]
     },
     "execution_count": 7,
     "metadata": {},
     "output_type": "execute_result"
    }
   ],
   "source": [
    "df_num = df.loc[:, [\"class\", \"result\", \"score\", \"score standard\"]]\n",
    "df_num"
   ]
  },
  {
   "cell_type": "code",
   "execution_count": 8,
   "id": "b53c1413-d41d-46fd-8448-d05ee4fedeb9",
   "metadata": {},
   "outputs": [
    {
     "data": {
      "text/plain": [
       "class              2.000000\n",
       "result             1.000000\n",
       "score             35.000000\n",
       "score standard     1.371118\n",
       "dtype: float64"
      ]
     },
     "execution_count": 8,
     "metadata": {},
     "output_type": "execute_result"
    }
   ],
   "source": [
    "# For this example, let’s use the max() function from Python\n",
    "df_num.apply(max, axis=0)"
   ]
  },
  {
   "cell_type": "code",
   "execution_count": 9,
   "id": "ec9ace4a-1f7f-4c72-93aa-1ee453cb4069",
   "metadata": {},
   "outputs": [
    {
     "data": {
      "text/plain": [
       "0    10.0\n",
       "1    21.0\n",
       "2    35.0\n",
       "3    11.0\n",
       "4    26.0\n",
       "dtype: float64"
      ]
     },
     "execution_count": 9,
     "metadata": {},
     "output_type": "execute_result"
    }
   ],
   "source": [
    "# The maximum value in each row\n",
    "df_num.apply(max, axis=1)"
   ]
  },
  {
   "cell_type": "markdown",
   "id": "2beb53e4-45a3-4078-97aa-840799fac9da",
   "metadata": {},
   "source": [
    "Finally, let’s consider the applymap() function. Now, this function is for DataFrames, and it is used for applying a function to every element of a DataFrame. This is in contrast to apply(), which is for either rows or column."
   ]
  },
  {
   "cell_type": "markdown",
   "id": "2bcb8087-3f2e-499d-b8c5-74819627dccb",
   "metadata": {},
   "source": [
    "For example, suppose we want to change the formatting of our values and convert them to strings and append a $ symbol before. We can do this as follows\n",
    "\n"
   ]
  },
  {
   "cell_type": "code",
   "execution_count": 12,
   "id": "e9959daa-4eb3-4bd1-a4ef-f5677c66b184",
   "metadata": {},
   "outputs": [
    {
     "data": {
      "text/html": [
       "<div>\n",
       "<style scoped>\n",
       "    .dataframe tbody tr th:only-of-type {\n",
       "        vertical-align: middle;\n",
       "    }\n",
       "\n",
       "    .dataframe tbody tr th {\n",
       "        vertical-align: top;\n",
       "    }\n",
       "\n",
       "    .dataframe thead th {\n",
       "        text-align: right;\n",
       "    }\n",
       "</style>\n",
       "<table border=\"1\" class=\"dataframe\">\n",
       "  <thead>\n",
       "    <tr style=\"text-align: right;\">\n",
       "      <th></th>\n",
       "      <th>class</th>\n",
       "      <th>result</th>\n",
       "      <th>score</th>\n",
       "      <th>score standard</th>\n",
       "    </tr>\n",
       "  </thead>\n",
       "  <tbody>\n",
       "    <tr>\n",
       "      <th>0</th>\n",
       "      <td>\\$1</td>\n",
       "      <td>\\$0</td>\n",
       "      <td>\\$10</td>\n",
       "      <td>\\$-1.0092949703936966</td>\n",
       "    </tr>\n",
       "    <tr>\n",
       "      <th>1</th>\n",
       "      <td>\\$1</td>\n",
       "      <td>\\$1</td>\n",
       "      <td>\\$21</td>\n",
       "      <td>\\$0.03808660265636577</td>\n",
       "    </tr>\n",
       "    <tr>\n",
       "      <th>2</th>\n",
       "      <td>\\$1</td>\n",
       "      <td>\\$0</td>\n",
       "      <td>\\$35</td>\n",
       "      <td>\\$1.3711176956291724</td>\n",
       "    </tr>\n",
       "    <tr>\n",
       "      <th>3</th>\n",
       "      <td>\\$2</td>\n",
       "      <td>\\$1</td>\n",
       "      <td>\\$11</td>\n",
       "      <td>\\$-0.9140784637527819</td>\n",
       "    </tr>\n",
       "    <tr>\n",
       "      <th>4</th>\n",
       "      <td>\\$2</td>\n",
       "      <td>\\$0</td>\n",
       "      <td>\\$26</td>\n",
       "      <td>\\$0.5141691358609396</td>\n",
       "    </tr>\n",
       "  </tbody>\n",
       "</table>\n",
       "</div>"
      ],
      "text/plain": [
       "  class result score         score standard\n",
       "0   \\$1    \\$0  \\$10  \\$-1.0092949703936966\n",
       "1   \\$1    \\$1  \\$21  \\$0.03808660265636577\n",
       "2   \\$1    \\$0  \\$35   \\$1.3711176956291724\n",
       "3   \\$2    \\$1  \\$11  \\$-0.9140784637527819\n",
       "4   \\$2    \\$0  \\$26   \\$0.5141691358609396"
      ]
     },
     "execution_count": 12,
     "metadata": {},
     "output_type": "execute_result"
    }
   ],
   "source": [
    "df_new = df_num.applymap(lambda x: \"\\$\" + str(x))\n",
    "df_new"
   ]
  }
 ],
 "metadata": {
  "kernelspec": {
   "display_name": "Python [conda env:adsml] *",
   "language": "python",
   "name": "conda-env-adsml-py"
  },
  "language_info": {
   "codemirror_mode": {
    "name": "ipython",
    "version": 3
   },
   "file_extension": ".py",
   "mimetype": "text/x-python",
   "name": "python",
   "nbconvert_exporter": "python",
   "pygments_lexer": "ipython3",
   "version": "3.9.7"
  }
 },
 "nbformat": 4,
 "nbformat_minor": 5
}
