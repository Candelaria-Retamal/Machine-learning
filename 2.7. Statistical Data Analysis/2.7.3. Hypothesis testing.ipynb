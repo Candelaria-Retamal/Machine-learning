{
 "cells": [
  {
   "cell_type": "markdown",
   "id": "c1a89f14-0cc0-4556-813c-4077480e7403",
   "metadata": {},
   "source": [
    "### Hypothesis testing\n",
    "\n",
    "In the general setting, we start with some hypothesis about the population that we want to test. We denote this as the null hypothesis. We then construct an opposing hypothesis that we denote as the alternative hypothesis. The hypothesis test will then tell us which hypothesis we can accept and which we must reject.\n",
    "\n",
    "The whole process of hypothesis testing can be summed up via the steps below\n",
    "\n",
    "* Formulate the null hypothesis (denoted by H0) and the alternative hypothesis (denoted by H1)\n",
    "* Determine the sample size for your sample\n",
    "* Choose a significance level (this is denoted by α and a common value is 0.05)\n",
    "* Collect your sample\n",
    "* Decide whether to accept or reject the null hypothesis"
   ]
  },
  {
   "cell_type": "markdown",
   "id": "d0dac2be-7637-4eb2-9126-e8a7f74fe43b",
   "metadata": {},
   "source": [
    "Now, this test statistic is usually examined together with something called the p-value which basically tells us the probability that the observed statistic occurred this way by chance. A very small p-value should give us confidence that what we are observing is not happening by chance."
   ]
  },
  {
   "cell_type": "markdown",
   "id": "042a68d7-5625-4293-aa39-de964927f886",
   "metadata": {},
   "source": [
    "There are many tests available and in this unit, we will look at two of them: t-tests and Chi-square tests. We will continue working with our example from the previous unit with the variable population consisting of Poisson random variables"
   ]
  },
  {
   "cell_type": "code",
   "execution_count": 2,
   "id": "92fbac42-7b22-4bcb-b953-248d0f744bbd",
   "metadata": {},
   "outputs": [],
   "source": [
    "import numpy as np\n",
    "import pandas as pd\n",
    "import matplotlib.pyplot as plt\n",
    "from scipy import stats\n",
    "\n",
    "poisson1 = stats.poisson.rvs(mu=55, size=200000)\n",
    "poisson2 = stats.poisson.rvs(mu=10, size=100000)\n",
    "population = np.concatenate((poisson1, poisson2))"
   ]
  },
  {
   "cell_type": "markdown",
   "id": "3d706328-6541-428d-84b7-e7db73e53116",
   "metadata": {},
   "source": [
    "#### One-sample t-tests\n",
    "This test is meant to determine for us whether two numerical datasets differ significantly from one another. To demonstrate this with an example we will set up an artificial sample, called test sample that we create in such a way that it does indeed differ from the original population."
   ]
  },
  {
   "cell_type": "code",
   "execution_count": 4,
   "id": "0053eb1e-3f84-47a8-8387-71385bea01fd",
   "metadata": {},
   "outputs": [],
   "source": [
    "test_sample = np.concatenate(\n",
    "    (stats.poisson.rvs(mu=50, size=200), stats.poisson.rvs(mu=10, size=100))\n",
    ")"
   ]
  },
  {
   "cell_type": "markdown",
   "id": "6d821da5-591f-45af-a660-06c0953511dd",
   "metadata": {},
   "source": [
    "The main difference here is that the mean of the first part is 50 instead of 55 as in the original population (also the size of the test_sample is much smaller than the size of the `population). Let’s now declare the null hypothesis:"
   ]
  },
  {
   "cell_type": "markdown",
   "id": "e7796553-a076-42e4-a06a-f308101d8b0f",
   "metadata": {},
   "source": [
    "H0= the dataset tes_sample has the same mean as the dataset population"
   ]
  },
  {
   "cell_type": "markdown",
   "id": "ad787f6d-05a0-4c81-8013-d03dd3e87953",
   "metadata": {},
   "source": [
    "We will choose a significance level of 0.05 which we mentioned was common for this type of test. We can now compute our two parameters from this test: the t_statistic and the p_value using the special function in the stats module for one-sample t-tests appropriately called stats.ttest_1samp(). Let’s give it a go"
   ]
  },
  {
   "cell_type": "code",
   "execution_count": 5,
   "id": "18d876d1-ecbc-4ea9-813e-af0aee3d848f",
   "metadata": {},
   "outputs": [
    {
     "data": {
      "text/plain": [
       "-2.6163373876026763"
      ]
     },
     "execution_count": 5,
     "metadata": {},
     "output_type": "execute_result"
    }
   ],
   "source": [
    "t_statistic, p_value = stats.ttest_1samp(test_sample, popmean=population.mean())\n",
    "t_statistic\n"
   ]
  },
  {
   "cell_type": "code",
   "execution_count": 6,
   "id": "3e558c0d-f123-4f74-9f6d-61d0e9334cee",
   "metadata": {},
   "outputs": [
    {
     "data": {
      "text/plain": [
       "0.00933935058143441"
      ]
     },
     "execution_count": 6,
     "metadata": {},
     "output_type": "execute_result"
    }
   ],
   "source": [
    "p_value"
   ]
  },
  {
   "cell_type": "markdown",
   "id": "04521cae-1383-41d0-9e7c-609258bc8817",
   "metadata": {},
   "source": [
    "Now, what does this mean? The t_statistic is a standardized metric that tells us how much the sample mean deviates from the null hypothesis. The p_value means that 0.09 percent of the time our data just randomly happened to appear this way. This is quite a small percentage in this case. But our decision on whether to reject or accept the hypothesis is based solely on the p_value in this case. The rule is the following"
   ]
  },
  {
   "cell_type": "markdown",
   "id": "1ad0c365-2637-4881-ba89-1b403160f2df",
   "metadata": {},
   "source": [
    "* if the p-value is less than the significance value we reject the null hypothesis\n",
    "* if the p-value is greater than the significance value we failed to reject the null hypothesis"
   ]
  },
  {
   "cell_type": "markdown",
   "id": "212602ff-1348-405e-89c2-967c6170bf43",
   "metadata": {},
   "source": [
    "In our case a p-value of 0.0049 is certainly less then our significance value of 0.05 therefore we can reject our hypothesis. Of course, since we created this example we knew from the start that our test_sample had indeed a difference mean, but the hypothesis test confirmed this for us."
   ]
  },
  {
   "cell_type": "markdown",
   "id": "58747599-79d4-4fe7-8450-043190e200f6",
   "metadata": {},
   "source": [
    "#### Type I and II errors\n",
    "* A type I error occurs if we reject the null hypothesis when it is actually true (this is also called a false positive).\n",
    "* A type II error occurs if we fail to reject the null hypothesis when it is actually false (this is known as a false negative).\n"
   ]
  },
  {
   "cell_type": "markdown",
   "id": "98d6d975-4ac3-499a-81a1-1cadcad327f7",
   "metadata": {},
   "source": [
    "### Chi-square tests\n",
    "\n",
    "The t-test we looked at before is great for comparing quantitative properties such as the mean. However when we are dealing with qualitative, or categorical data then we use a different test known as the chi-square test. Let’s set up an example of a categorical population and a test sample."
   ]
  },
  {
   "cell_type": "code",
   "execution_count": 7,
   "id": "5587533e-07b1-4fed-be53-200aa9509c0a",
   "metadata": {},
   "outputs": [],
   "source": [
    "data = pd.DataFrame(\n",
    "    [\"red\"] * 50000 + [\"blue\"] * 30000 + [\"green\"] * 10000 + [\"white\"] * 10000\n",
    ")\n",
    "sample = pd.DataFrame([\"red\"] * 600 + [\"blue\"] * 300 + [\"green\"] * 70 + [\"white\"] * 60)"
   ]
  },
  {
   "cell_type": "markdown",
   "id": "9c78abfb-5a66-4dda-93e2-444f01fad7d7",
   "metadata": {},
   "source": [
    "We created a test sample in this case which has a different distribution of colors than our population. We will now test the null hypothesis that the sample has the same distribution as the population."
   ]
  },
  {
   "cell_type": "code",
   "execution_count": 8,
   "id": "0a4e9402-df44-405e-9573-870b6114ebd6",
   "metadata": {},
   "outputs": [
    {
     "data": {
      "text/html": [
       "<div>\n",
       "<style scoped>\n",
       "    .dataframe tbody tr th:only-of-type {\n",
       "        vertical-align: middle;\n",
       "    }\n",
       "\n",
       "    .dataframe tbody tr th {\n",
       "        vertical-align: top;\n",
       "    }\n",
       "\n",
       "    .dataframe thead th {\n",
       "        text-align: right;\n",
       "    }\n",
       "</style>\n",
       "<table border=\"1\" class=\"dataframe\">\n",
       "  <thead>\n",
       "    <tr style=\"text-align: right;\">\n",
       "      <th>col_0</th>\n",
       "      <th>count</th>\n",
       "    </tr>\n",
       "    <tr>\n",
       "      <th>0</th>\n",
       "      <th></th>\n",
       "    </tr>\n",
       "  </thead>\n",
       "  <tbody>\n",
       "    <tr>\n",
       "      <th>blue</th>\n",
       "      <td>30000</td>\n",
       "    </tr>\n",
       "    <tr>\n",
       "      <th>green</th>\n",
       "      <td>10000</td>\n",
       "    </tr>\n",
       "    <tr>\n",
       "      <th>red</th>\n",
       "      <td>50000</td>\n",
       "    </tr>\n",
       "    <tr>\n",
       "      <th>white</th>\n",
       "      <td>10000</td>\n",
       "    </tr>\n",
       "  </tbody>\n",
       "</table>\n",
       "</div>"
      ],
      "text/plain": [
       "col_0  count\n",
       "0           \n",
       "blue   30000\n",
       "green  10000\n",
       "red    50000\n",
       "white  10000"
      ]
     },
     "execution_count": 8,
     "metadata": {},
     "output_type": "execute_result"
    }
   ],
   "source": [
    "data_count = pd.crosstab(index=data[0], columns=\"count\")\n",
    "data_count"
   ]
  },
  {
   "cell_type": "code",
   "execution_count": 9,
   "id": "9608dbda-118c-4dfd-9bbf-23657510013e",
   "metadata": {},
   "outputs": [
    {
     "data": {
      "text/html": [
       "<div>\n",
       "<style scoped>\n",
       "    .dataframe tbody tr th:only-of-type {\n",
       "        vertical-align: middle;\n",
       "    }\n",
       "\n",
       "    .dataframe tbody tr th {\n",
       "        vertical-align: top;\n",
       "    }\n",
       "\n",
       "    .dataframe thead th {\n",
       "        text-align: right;\n",
       "    }\n",
       "</style>\n",
       "<table border=\"1\" class=\"dataframe\">\n",
       "  <thead>\n",
       "    <tr style=\"text-align: right;\">\n",
       "      <th>col_0</th>\n",
       "      <th>count</th>\n",
       "    </tr>\n",
       "    <tr>\n",
       "      <th>0</th>\n",
       "      <th></th>\n",
       "    </tr>\n",
       "  </thead>\n",
       "  <tbody>\n",
       "    <tr>\n",
       "      <th>blue</th>\n",
       "      <td>300</td>\n",
       "    </tr>\n",
       "    <tr>\n",
       "      <th>green</th>\n",
       "      <td>70</td>\n",
       "    </tr>\n",
       "    <tr>\n",
       "      <th>red</th>\n",
       "      <td>600</td>\n",
       "    </tr>\n",
       "    <tr>\n",
       "      <th>white</th>\n",
       "      <td>60</td>\n",
       "    </tr>\n",
       "  </tbody>\n",
       "</table>\n",
       "</div>"
      ],
      "text/plain": [
       "col_0  count\n",
       "0           \n",
       "blue     300\n",
       "green     70\n",
       "red      600\n",
       "white     60"
      ]
     },
     "execution_count": 9,
     "metadata": {},
     "output_type": "execute_result"
    }
   ],
   "source": [
    "sample_count = pd.crosstab(index=sample[0], columns=\"count\")\n",
    "sample_count"
   ]
  },
  {
   "cell_type": "markdown",
   "id": "9630dc23-10e2-4662-be5f-8fafe3200539",
   "metadata": {},
   "source": [
    "Now we must calculate the chi-square statistic which is given by the following formula\n",
    "\n",
    "Sum((observed-expected)^2/expected)\n",
    "\n",
    "where the sum is over all the categories, observed is the count for the given category in our sample, and expected is the expected count based on the distribution of our original population. So in our case what are the expected counts for our sample?\n",
    "    \n",
    "Well they are obtained by taking the counts of the population multiplying by the length of the sample and then dividing by the length of the population. This is what we mean"
   ]
  },
  {
   "cell_type": "code",
   "execution_count": 10,
   "id": "92626495-f7c6-4723-be1e-d0f3cdaf5849",
   "metadata": {},
   "outputs": [
    {
     "data": {
      "text/html": [
       "<div>\n",
       "<style scoped>\n",
       "    .dataframe tbody tr th:only-of-type {\n",
       "        vertical-align: middle;\n",
       "    }\n",
       "\n",
       "    .dataframe tbody tr th {\n",
       "        vertical-align: top;\n",
       "    }\n",
       "\n",
       "    .dataframe thead th {\n",
       "        text-align: right;\n",
       "    }\n",
       "</style>\n",
       "<table border=\"1\" class=\"dataframe\">\n",
       "  <thead>\n",
       "    <tr style=\"text-align: right;\">\n",
       "      <th>col_0</th>\n",
       "      <th>count</th>\n",
       "    </tr>\n",
       "    <tr>\n",
       "      <th>0</th>\n",
       "      <th></th>\n",
       "    </tr>\n",
       "  </thead>\n",
       "  <tbody>\n",
       "    <tr>\n",
       "      <th>blue</th>\n",
       "      <td>309.0</td>\n",
       "    </tr>\n",
       "    <tr>\n",
       "      <th>green</th>\n",
       "      <td>103.0</td>\n",
       "    </tr>\n",
       "    <tr>\n",
       "      <th>red</th>\n",
       "      <td>515.0</td>\n",
       "    </tr>\n",
       "    <tr>\n",
       "      <th>white</th>\n",
       "      <td>103.0</td>\n",
       "    </tr>\n",
       "  </tbody>\n",
       "</table>\n",
       "</div>"
      ],
      "text/plain": [
       "col_0  count\n",
       "0           \n",
       "blue   309.0\n",
       "green  103.0\n",
       "red    515.0\n",
       "white  103.0"
      ]
     },
     "execution_count": 10,
     "metadata": {},
     "output_type": "execute_result"
    }
   ],
   "source": [
    "expected_count = data_count * len(sample) / len(data)\n",
    "expected_count"
   ]
  },
  {
   "cell_type": "markdown",
   "id": "1c645630-171d-48ff-9aa1-a107e73c0b2c",
   "metadata": {},
   "source": [
    "Note that the expected counts are the counts that the sample would have if it were to have the exact same distribution of colors as the population.\n",
    "\n",
    "We can now compute our chi-square"
   ]
  },
  {
   "cell_type": "code",
   "execution_count": 12,
   "id": "25bac994-df4a-4692-bd5b-645ae8ce5bea",
   "metadata": {},
   "outputs": [
    {
     "data": {
      "text/plain": [
       "col_0\n",
       "count    42.815534\n",
       "dtype: float64"
      ]
     },
     "execution_count": 12,
     "metadata": {},
     "output_type": "execute_result"
    }
   ],
   "source": [
    "chi_square = (((sample_count - expected_count) ** 2) / expected_count).sum()\n",
    "chi_square"
   ]
  },
  {
   "cell_type": "markdown",
   "id": "8c566972-88dd-4e15-bc8d-9a3f258023d1",
   "metadata": {},
   "source": [
    "So we have a chi-square statistic of 42.82. But how can we interpret this? Well, first we choose a significance level, which once again we go with 0.05, and then compute the critical value corresponding to this confidence."
   ]
  },
  {
   "cell_type": "code",
   "execution_count": 13,
   "id": "fb666e6c-6014-4682-ac08-5eab09d041be",
   "metadata": {},
   "outputs": [
    {
     "data": {
      "text/plain": [
       "7.814727903251179"
      ]
     },
     "execution_count": 13,
     "metadata": {},
     "output_type": "execute_result"
    }
   ],
   "source": [
    "stats.chi2.ppf(q=0.95, df=3)"
   ]
  },
  {
   "cell_type": "markdown",
   "id": "4f1cc5b8-51ed-4f53-bd24-73df67eb5446",
   "metadata": {},
   "source": [
    "The degrees of freedom in this case, is given by the number of categories minus one.\n",
    "\n",
    "We can now compute the p-value corresponding to our chi-square\n",
    "\n"
   ]
  },
  {
   "cell_type": "code",
   "execution_count": 15,
   "id": "9652f731-539a-495b-941c-7c9f021ebd63",
   "metadata": {},
   "outputs": [
    {
     "data": {
      "text/plain": [
       "array([2.69324241e-09])"
      ]
     },
     "execution_count": 15,
     "metadata": {},
     "output_type": "execute_result"
    }
   ],
   "source": [
    "p_value = 1 - stats.chi2.cdf(x=chi_square, df=3)\n",
    "p_value"
   ]
  },
  {
   "cell_type": "markdown",
   "id": "dcb08112-ecd5-441a-893e-c49102fef859",
   "metadata": {},
   "source": [
    "Then the conclusion is made as before: if our p-value is lower than our significance value so we reject the hypothesis. This is indeed the correct answer since we picked the sample in such a way that it would have a different distribution of the categorical variable from our population."
   ]
  },
  {
   "cell_type": "code",
   "execution_count": null,
   "id": "b6152497-6ca4-4e36-9eec-63a61b098538",
   "metadata": {},
   "outputs": [],
   "source": []
  }
 ],
 "metadata": {
  "kernelspec": {
   "display_name": "Python [conda env:adsml] *",
   "language": "python",
   "name": "conda-env-adsml-py"
  },
  "language_info": {
   "codemirror_mode": {
    "name": "ipython",
    "version": 3
   },
   "file_extension": ".py",
   "mimetype": "text/x-python",
   "name": "python",
   "nbconvert_exporter": "python",
   "pygments_lexer": "ipython3",
   "version": "3.9.7"
  }
 },
 "nbformat": 4,
 "nbformat_minor": 5
}
