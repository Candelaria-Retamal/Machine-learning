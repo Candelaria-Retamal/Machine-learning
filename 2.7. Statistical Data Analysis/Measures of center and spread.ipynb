{
 "cells": [
  {
   "cell_type": "markdown",
   "id": "a4922c6a-fc94-44a1-a6d7-9a9a4d03a0b5",
   "metadata": {},
   "source": [
    "### Measures of center and spread\n",
    "In this unit, we take a look at some of the most popular choices of statistics. Computing these statistics forms the numerical part of the exploratory data analysis concept that we introduced in the first course.\n",
    "\n",
    "#### Measures of center\n",
    "The center helps us quickly make an approximation about the data itself. \n",
    "What we usually refer to as the average is the arithmetic mean and is found by adding up all the values and diving by the total number of values.\n",
    "\n",
    "Let’s look at an example:"
   ]
  },
  {
   "cell_type": "code",
   "execution_count": 1,
   "id": "db966b4d-728a-40bb-b0ff-fd097c286b8b",
   "metadata": {},
   "outputs": [
    {
     "data": {
      "text/plain": [
       "76.25"
      ]
     },
     "execution_count": 1,
     "metadata": {},
     "output_type": "execute_result"
    }
   ],
   "source": [
    "import numpy as np\n",
    "\n",
    "val = [78, 75, 82, 70]\n",
    "np.mean(val)"
   ]
  },
  {
   "cell_type": "markdown",
   "id": "2d3b28c8-2dd3-4c7b-9e27-a696c69b9fcf",
   "metadata": {},
   "source": [
    "Using NumPy’s mean function we computed the mean of our list of numbers to be \n",
    "76.25\n",
    ". This seems to make sense since all the values are around this mean. But suppose we added a new value to our list and recomputed the mean"
   ]
  },
  {
   "cell_type": "code",
   "execution_count": 2,
   "id": "a0e6cede-aad0-46a6-a662-dd5ab589f9c0",
   "metadata": {},
   "outputs": [
    {
     "data": {
      "text/plain": [
       "63.0"
      ]
     },
     "execution_count": 2,
     "metadata": {},
     "output_type": "execute_result"
    }
   ],
   "source": [
    "val2 = [78, 75, 82, 70, 10]\n",
    "np.mean(val2)"
   ]
  },
  {
   "cell_type": "markdown",
   "id": "0907440e-4bad-4bef-99a8-2f4f7146a811",
   "metadata": {},
   "source": [
    " the mean is easily affected by outliers. Another concept of the center which is less affected by outliers is the median. The median is obtained by sorting the dataset and then taking the value which is in the middle. If the dataset has an odd number of entries that this will be a unique value. If the dataset has an even number of entries then there will be two values in the middle and the median is defined as their average in this case."
   ]
  },
  {
   "cell_type": "code",
   "execution_count": 3,
   "id": "f0ceaaa6-48a6-4bbb-9b7c-864633550a48",
   "metadata": {},
   "outputs": [
    {
     "data": {
      "text/plain": [
       "76.5"
      ]
     },
     "execution_count": 3,
     "metadata": {},
     "output_type": "execute_result"
    }
   ],
   "source": [
    "np.median(val)\n"
   ]
  },
  {
   "cell_type": "code",
   "execution_count": 4,
   "id": "b18701b9-6884-47d6-b88f-06862df6b0e1",
   "metadata": {},
   "outputs": [
    {
     "data": {
      "text/plain": [
       "75.0"
      ]
     },
     "execution_count": 4,
     "metadata": {},
     "output_type": "execute_result"
    }
   ],
   "source": [
    "np.median(val2)"
   ]
  },
  {
   "cell_type": "markdown",
   "id": "25d073e8-1f92-4eaf-bacf-4cc468d4a3d4",
   "metadata": {},
   "source": [
    "#### Measures of variation\n",
    "\n",
    "After determining the center of a dataset the second most common question is to look at the spread of the data. In particular, how far away can the points be from the center? For this let’s introduce a list with more values"
   ]
  },
  {
   "cell_type": "code",
   "execution_count": 5,
   "id": "5e878514-74dc-4b9a-8c45-c23e1405cb48",
   "metadata": {},
   "outputs": [],
   "source": [
    "val3 = [94, 66, 51, 8, 10, 34, 69, 21, 49, 16, 21, 83, 44, 69, 29, 7, 26,\n",
    "        77, 90, 53, 58, 84, 45, 14, 41, 7, 47, 86, 24, 48, 71, 71, 34, 86,\n",
    "        52, 17, 8, 84, 41, 70, 61, 85, 6, 14, 58, 12, 99, 81, 16, 93]"
   ]
  },
  {
   "cell_type": "markdown",
   "id": "070d0410-5547-4c36-a3d9-b9619040f7a0",
   "metadata": {},
   "source": [
    "The first thing we can look at is the range which is just the difference between the maximum and minimum values"
   ]
  },
  {
   "cell_type": "code",
   "execution_count": 6,
   "id": "4e9fddd6-6af7-4d68-92f3-9c1a72242aea",
   "metadata": {},
   "outputs": [
    {
     "data": {
      "text/plain": [
       "93"
      ]
     },
     "execution_count": 6,
     "metadata": {},
     "output_type": "execute_result"
    }
   ],
   "source": [
    "np.max(val3) - np.min(val3)"
   ]
  },
  {
   "cell_type": "markdown",
   "id": "b5e53a00-44f3-48a1-a27c-2cb37a43365e",
   "metadata": {},
   "source": [
    "Both the variance and the standard deviation are a measure of how far away the data points are from the mean. We can compute them easily in Python using the following functions from NumPy"
   ]
  },
  {
   "cell_type": "code",
   "execution_count": 7,
   "id": "388f56de-9d55-4fb0-bd5c-e10598ec9ccc",
   "metadata": {},
   "outputs": [
    {
     "name": "stdout",
     "output_type": "stream",
     "text": [
      "48.6\n",
      "828.8400000000001\n",
      "28.78958144885056\n"
     ]
    }
   ],
   "source": [
    "print(np.mean(val3))\n",
    "print(np.var(val3))\n",
    "print(np.std(val3))"
   ]
  },
  {
   "cell_type": "code",
   "execution_count": 8,
   "id": "8a4c7c04-59a8-4d3c-a76e-76c6655aafeb",
   "metadata": {},
   "outputs": [
    {
     "data": {
      "image/png": "[encoded data removed]",
      "text/plain": [
       "<Figure size 432x288 with 1 Axes>"
      ]
     },
     "metadata": {
      "needs_background": "light"
     },
     "output_type": "display_data"
    }
   ],
   "source": [
    "# For this we will need to include the usual import statements\n",
    "import matplotlib.pyplot as plt\n",
    "%matplotlib inline\n",
    "# Let’s now make a bar chart of our values, and also plot the mean together with upper and lower limits given by the standard deviation\n",
    "x_pos = range(50)\n",
    "plt.bar(x_pos, val3)\n",
    "plt.plot((0, 50), (49, 49), \"b\")\n",
    "plt.plot((0, 50), (49 + 29, 49 + 29), \"r\")\n",
    "plt.plot((0, 50), (49 - 29, 49 - 29), \"r\")\n",
    "plt.show()"
   ]
  },
  {
   "cell_type": "markdown",
   "id": "17efc376-ab27-40c2-b99d-34a552990f9f",
   "metadata": {},
   "source": [
    "The error prediction for a random variable X is computed as (X-c)^2, qhere c is the chosen value. Why is that? Imagine that you have an error of -10, and an error of 10. If you just took the average, your error would be 0! In order to prevent this kind of problems, the values are squared, as this makes sure that negative errors will not cancel positive errors. (This is not the only reason why errors are often squared, but it is nevertheless an important side effect.)\n",
    "\n"
   ]
  },
  {
   "cell_type": "markdown",
   "id": "fda8021b-0a3c-4396-8688-d9a6e16aa986",
   "metadata": {},
   "source": [
    "Therefore, the standard deviation is the smallest root mean squared error possible and it is achieved when predicting E(X) for X."
   ]
  },
  {
   "cell_type": "markdown",
   "id": "d83f8509-40d5-4159-8704-d4290679530c",
   "metadata": {},
   "source": [
    "#### Standard error\n",
    "Given a sample of size n and using the standard deviation s of the sample values, the standard error is defined as\n",
    "\n",
    "SE=s/(n-1)^0.5\n",
    "\n",
    "By taking a glance at this formula the first thing we should notice is that as the sample size \n",
    "n\n",
    " increases the standard error decreases. This relationship is often referred to as the square-root of \n",
    "n\n",
    " rule. For example, it implies that to decrease the standard error by a factor of 2 we must increase the sample size by a factor of 4."
   ]
  },
  {
   "cell_type": "code",
   "execution_count": 9,
   "id": "9f6008aa-18c3-403d-8a00-c57ecf22cb5c",
   "metadata": {},
   "outputs": [
    {
     "data": {
      "text/plain": [
       "4.112797349835794"
      ]
     },
     "execution_count": 9,
     "metadata": {},
     "output_type": "execute_result"
    }
   ],
   "source": [
    "# In Python, we can compute the standard error of a dataset using the stats.sem() function\n",
    "from scipy import stats\n",
    "stats.sem(val3)"
   ]
  },
  {
   "cell_type": "markdown",
   "id": "d2107c2c-192e-4fad-95ed-bbacb54d7550",
   "metadata": {},
   "source": [
    "#### Other measures: the z-score\n",
    "\n",
    "The z-score is an essential value in statistics, and you might have heard of it already. Essentially it tells us how far away a specific data value is from the mean. \n",
    "\n",
    "z=(x-x_mean)/s\n",
    "\n",
    "Where x is the data value, and s is the standard deviation."
   ]
  },
  {
   "cell_type": "code",
   "execution_count": 10,
   "id": "d17a6e26-b007-4cc8-bc16-0fe99d3122c3",
   "metadata": {},
   "outputs": [
    {
     "data": {
      "image/png": "[encoded data removed]",
      "text/plain": [
       "<Figure size 432x288 with 1 Axes>"
      ]
     },
     "metadata": {
      "needs_background": "light"
     },
     "output_type": "display_data"
    }
   ],
   "source": [
    "# Let’s compute the z-scores for our previous example\n",
    "mean = np.mean(val3)\n",
    "std = np.std(val3)\n",
    "zscores = []\n",
    "for val in val3:\n",
    "    z = (val - mean) / std\n",
    "    zscores.append(z)\n",
    "\n",
    "plt.bar(x_pos, zscores)\n",
    "plt.show()"
   ]
  },
  {
   "cell_type": "markdown",
   "id": "c6bad353-db47-4a2f-b1ca-cb32b072b0ed",
   "metadata": {},
   "source": [
    "We say that the dataset is now standardized because it has a mean of 0 and a standard deviation of 1. This can be a very useful property when we want to talk about the scales of different datasets. You will see later in the program that in machine learning it is extremely common to standardize datasets and there are prebuilt standardization packages that do all the work for us."
   ]
  },
  {
   "cell_type": "markdown",
   "id": "81a25fc0-fa0b-4320-95b2-1b732f670552",
   "metadata": {},
   "source": [
    "### Covariance and correlation\n",
    "\n",
    "Correlation is about a mutual relationship between two datasets. Before we can introduce correlation we must first talk about another concept.\n",
    "\n",
    "Covariance is a measure of how much two random variables change together. Let X and Y be two random variables. Then the covariance of X and Y is the expected value of the product of the deviations of X and Yfrom their respective mean.\n",
    "\n",
    "Cov(X,Y)=E[(X-E[X])(Y-E[Y])]=E[XY]-E[X]E[Y]\n",
    "\n",
    "Let’s decompose the first part of the formula. We start by first centering each random variable by subtracting its mean. We then multiply the centered scores and take the expected value of the product. Notice that covariance can be either positive, negative or zero. \n",
    "\n",
    "**Zero correlation does not imply independence.**\n",
    "\n",
    "Now when the covariance is negative it means that as one value goes up the other goes down. On the other hand, when the covariance is positive it means that an increase in one value causes an increase in the other value. Now magnitude of the covariance indicates exactly how much a change in one value causes a change in the second. When the relationship between two variables is strong, meaning they are very dependent we expect a high magnitude of the covariance.\n",
    "\n",
    "**But there is a problem interpreting this measure. The problem with covariance is that it keeps the scale of the variables can, therefore, take on any values. **\n",
    "\n",
    "This is exactly where correlation comes in. It gives us a standardized measure of dependence, meaning that if there is a perfect linear relationship then we will always have a correlation coefficient of 1 or -1.\n",
    "\n",
    "Then the correlation of X and Y is defined as:\n",
    "\n",
    "Corr(X,Y)=Cov(X,Y)/\\theta_x*\\theta_y\n",
    "\n",
    "It follows directly that two independent variables will always have a correlation of zero. On the other hand, a correlation of \n",
    "1 means a perfect linear relationship. And a correlation of -1\n",
    " is also reflecting a perfect linear relationship but where an increase in X results in a decrease in Y of the same factor.\n"
   ]
  },
  {
   "cell_type": "code",
   "execution_count": 11,
   "id": "95c737eb-6432-4650-848b-6bf6fab00ce5",
   "metadata": {},
   "outputs": [
    {
     "data": {
      "image/png": "[encoded data removed]",
      "text/plain": [
       "<Figure size 432x288 with 1 Axes>"
      ]
     },
     "metadata": {
      "needs_background": "light"
     },
     "output_type": "display_data"
    }
   ],
   "source": [
    "# Suppose we sample two normally distributed random variables as follows\n",
    "\n",
    "import numpy as np\n",
    "import pandas as pd\n",
    "import matplotlib.pyplot as plt\n",
    "\n",
    "\n",
    "X = np.random.randn(1, 50)\n",
    "Y = np.random.randn(1, 50)\n",
    "plt.scatter(X, Y)\n",
    "plt.show()"
   ]
  },
  {
   "cell_type": "markdown",
   "id": "c46a7ffb-ba46-46f7-9ca9-5f5e0d134ddc",
   "metadata": {},
   "source": [
    "Since the two sampling are completely independent we do not expect a strong relationship between the variables. The plot seems to confirm this. Let’s now check the correlation. We can use NumPy’s np.corrcoef() function for this."
   ]
  },
  {
   "cell_type": "code",
   "execution_count": 12,
   "id": "0ffd6e60-11a8-4ac3-ba74-880cf8ee1275",
   "metadata": {},
   "outputs": [
    {
     "data": {
      "text/plain": [
       "array([[ 1.        , -0.10625566],\n",
       "       [-0.10625566,  1.        ]])"
      ]
     },
     "execution_count": 12,
     "metadata": {},
     "output_type": "execute_result"
    }
   ],
   "source": [
    "np.corrcoef(X, Y)"
   ]
  },
  {
   "cell_type": "code",
   "execution_count": 13,
   "id": "b7ec1e08-a7b3-4e94-a6e8-876d11cdd26f",
   "metadata": {},
   "outputs": [
    {
     "data": {
      "image/png": "[encoded data removed]",
      "text/plain": [
       "<Figure size 432x288 with 1 Axes>"
      ]
     },
     "metadata": {
      "needs_background": "light"
     },
     "output_type": "display_data"
    }
   ],
   "source": [
    "#Correlation between X and 3X\n",
    "\n",
    "plt.scatter(X, -3 * X)\n",
    "plt.show()"
   ]
  },
  {
   "cell_type": "markdown",
   "id": "6cc1c396-e0fb-43c6-aec2-421385b2fb8a",
   "metadata": {},
   "source": [
    "The plot confirms what we should have expected: the two variables are now completely dependent. There is a full linear relationship between them. Let’s check the correlation matrix\n",
    "\n"
   ]
  },
  {
   "cell_type": "code",
   "execution_count": 14,
   "id": "4605013d-3c1f-4c34-9fea-f1cd77618663",
   "metadata": {},
   "outputs": [
    {
     "data": {
      "text/plain": [
       "array([[ 1., -1.],\n",
       "       [-1.,  1.]])"
      ]
     },
     "execution_count": 14,
     "metadata": {},
     "output_type": "execute_result"
    }
   ],
   "source": [
    "np.corrcoef(X,-3*X)"
   ]
  },
  {
   "cell_type": "code",
   "execution_count": 15,
   "id": "1f4246d3-16c7-4274-ab2b-b228b55113eb",
   "metadata": {},
   "outputs": [
    {
     "data": {
      "image/png": "[encoded data removed]",
      "text/plain": [
       "<Figure size 432x288 with 1 Axes>"
      ]
     },
     "metadata": {
      "needs_background": "light"
     },
     "output_type": "display_data"
    }
   ],
   "source": [
    "# Correlation between X and X+Y\n",
    "\n",
    "plt.scatter(X, X + Y)\n",
    "plt.show()"
   ]
  },
  {
   "cell_type": "code",
   "execution_count": 16,
   "id": "281b2c3c-cfba-44af-9a84-be7942858989",
   "metadata": {},
   "outputs": [
    {
     "data": {
      "text/plain": [
       "array([[1.        , 0.65778263],\n",
       "       [0.65778263, 1.        ]])"
      ]
     },
     "execution_count": 16,
     "metadata": {},
     "output_type": "execute_result"
    }
   ],
   "source": [
    "np.corrcoef(X, X + Y)"
   ]
  },
  {
   "cell_type": "markdown",
   "id": "548c7208-af03-4c51-8a53-e118db5311bf",
   "metadata": {},
   "source": [
    "Most of the time you will likely work with data stored in a DataFrame so you might be more interested in the pandas version of correlation so lets define a DataFrame with normally distributed values"
   ]
  },
  {
   "cell_type": "code",
   "execution_count": 17,
   "id": "986dd68f-bd39-443b-b11d-ade5f4fc9d9a",
   "metadata": {},
   "outputs": [
    {
     "data": {
      "text/html": [
       "<div>\n",
       "<style scoped>\n",
       "    .dataframe tbody tr th:only-of-type {\n",
       "        vertical-align: middle;\n",
       "    }\n",
       "\n",
       "    .dataframe tbody tr th {\n",
       "        vertical-align: top;\n",
       "    }\n",
       "\n",
       "    .dataframe thead th {\n",
       "        text-align: right;\n",
       "    }\n",
       "</style>\n",
       "<table border=\"1\" class=\"dataframe\">\n",
       "  <thead>\n",
       "    <tr style=\"text-align: right;\">\n",
       "      <th></th>\n",
       "      <th>X</th>\n",
       "      <th>Y</th>\n",
       "    </tr>\n",
       "  </thead>\n",
       "  <tbody>\n",
       "    <tr>\n",
       "      <th>0</th>\n",
       "      <td>0.183378</td>\n",
       "      <td>-1.903348</td>\n",
       "    </tr>\n",
       "    <tr>\n",
       "      <th>1</th>\n",
       "      <td>-1.091659</td>\n",
       "      <td>-0.992047</td>\n",
       "    </tr>\n",
       "    <tr>\n",
       "      <th>2</th>\n",
       "      <td>-1.583920</td>\n",
       "      <td>-1.058772</td>\n",
       "    </tr>\n",
       "    <tr>\n",
       "      <th>3</th>\n",
       "      <td>0.081479</td>\n",
       "      <td>0.184277</td>\n",
       "    </tr>\n",
       "    <tr>\n",
       "      <th>4</th>\n",
       "      <td>-1.680447</td>\n",
       "      <td>1.579119</td>\n",
       "    </tr>\n",
       "  </tbody>\n",
       "</table>\n",
       "</div>"
      ],
      "text/plain": [
       "          X         Y\n",
       "0  0.183378 -1.903348\n",
       "1 -1.091659 -0.992047\n",
       "2 -1.583920 -1.058772\n",
       "3  0.081479  0.184277\n",
       "4 -1.680447  1.579119"
      ]
     },
     "execution_count": 17,
     "metadata": {},
     "output_type": "execute_result"
    }
   ],
   "source": [
    "# Define the DF\n",
    "df = pd.DataFrame(np.random.randn(50, 2), columns=list(\"XY\"))\n",
    "\n",
    "df.head()"
   ]
  },
  {
   "cell_type": "markdown",
   "id": "ffcb78fe-3bf4-4e2d-a4db-8505226d3329",
   "metadata": {},
   "source": [
    "We can then get the correlation between the two columns X and Y using the corr function from pandas"
   ]
  },
  {
   "cell_type": "code",
   "execution_count": 18,
   "id": "cfa20382-4714-40e5-aeb6-66779b269752",
   "metadata": {},
   "outputs": [
    {
     "data": {
      "text/plain": [
       "-0.18674614050656646"
      ]
     },
     "execution_count": 18,
     "metadata": {},
     "output_type": "execute_result"
    }
   ],
   "source": [
    "df[\"X\"].corr(df[\"Y\"])"
   ]
  },
  {
   "cell_type": "markdown",
   "id": "c245e2a2-b487-437a-b44d-019d234e595b",
   "metadata": {},
   "source": [
    "An important thing to realize when talking about correlation is that two random variables can have a correlation of zero but still be dependent. This is because correlation only captures linear relationships, but variables can be related in non-linear ways as well."
   ]
  },
  {
   "cell_type": "code",
   "execution_count": 19,
   "id": "d7c3a9b6-bb53-4344-83c7-fe5dd6229ce0",
   "metadata": {},
   "outputs": [
    {
     "data": {
      "image/png": "[encoded data removed]",
      "text/plain": [
       "<Figure size 432x288 with 1 Axes>"
      ]
     },
     "metadata": {
      "needs_background": "light"
     },
     "output_type": "display_data"
    }
   ],
   "source": [
    "# Example:\n",
    "\n",
    "t = np.arange(0, 20, 0.2)\n",
    "X = np.cos(t)\n",
    "Y = np.sin(t)\n",
    "plt.scatter(X, Y)\n",
    "plt.show()"
   ]
  },
  {
   "cell_type": "code",
   "execution_count": 20,
   "id": "822871b6-7d85-48d7-b80f-bb1ada3b1854",
   "metadata": {},
   "outputs": [
    {
     "data": {
      "text/plain": [
       "array([[1.        , 0.03508976],\n",
       "       [0.03508976, 1.        ]])"
      ]
     },
     "execution_count": 20,
     "metadata": {},
     "output_type": "execute_result"
    }
   ],
   "source": [
    "#If we check the correlation of the variables X and Y we will get no correlation, although the correlation between them is clear.\n",
    "np.corrcoef(X, Y)"
   ]
  },
  {
   "cell_type": "markdown",
   "id": "942c50fa-2521-4ca2-a9d5-11c51e43b278",
   "metadata": {},
   "source": [
    "we can see that they have a correlation of almost zero. This is because they are dependent in a non-linear way, and this is not captured by the correlation coefficient.\n",
    "\n",
    "#### Studying correlations between many random variables\n",
    "Most of the time we are dealing with more than just two random variables. In such cases, the correlation matrix can be large and difficult to read. For instance, the correlation matrix for only 10 random variables looks like this:"
   ]
  },
  {
   "cell_type": "code",
   "execution_count": 22,
   "id": "2fe4de86-34ea-4ebf-9b6b-20eb961fa744",
   "metadata": {},
   "outputs": [
    {
     "data": {
      "text/plain": [
       "array([[ 1.        ,  0.0543799 ,  0.07107496,  0.01374853,  0.32467901,\n",
       "        -0.02854769,  0.24819869, -0.09142107, -0.12454095, -0.01151825],\n",
       "       [ 0.0543799 ,  1.        , -0.22895328, -0.02161872,  0.04501213,\n",
       "        -0.01116091, -0.13306638,  0.10968722, -0.02344129, -0.03320792],\n",
       "       [ 0.07107496, -0.22895328,  1.        ,  0.11970982, -0.08694741,\n",
       "         0.18575126, -0.08903503, -0.08431702, -0.1721419 ,  0.14665128],\n",
       "       [ 0.01374853, -0.02161872,  0.11970982,  1.        ,  0.03591514,\n",
       "         0.26571567,  0.0472355 , -0.2046538 , -0.01004231, -0.01192224],\n",
       "       [ 0.32467901,  0.04501213, -0.08694741,  0.03591514,  1.        ,\n",
       "         0.09784755,  0.33797651, -0.19821627,  0.16128645, -0.15465234],\n",
       "       [-0.02854769, -0.01116091,  0.18575126,  0.26571567,  0.09784755,\n",
       "         1.        , -0.13295649,  0.03589553,  0.1565062 , -0.00898118],\n",
       "       [ 0.24819869, -0.13306638, -0.08903503,  0.0472355 ,  0.33797651,\n",
       "        -0.13295649,  1.        , -0.1222449 ,  0.15661173, -0.05110867],\n",
       "       [-0.09142107,  0.10968722, -0.08431702, -0.2046538 , -0.19821627,\n",
       "         0.03589553, -0.1222449 ,  1.        ,  0.06362647, -0.07085761],\n",
       "       [-0.12454095, -0.02344129, -0.1721419 , -0.01004231,  0.16128645,\n",
       "         0.1565062 ,  0.15661173,  0.06362647,  1.        , -0.0889988 ],\n",
       "       [-0.01151825, -0.03320792,  0.14665128, -0.01192224, -0.15465234,\n",
       "        -0.00898118, -0.05110867, -0.07085761, -0.0889988 ,  1.        ]])"
      ]
     },
     "execution_count": 22,
     "metadata": {},
     "output_type": "execute_result"
    }
   ],
   "source": [
    "data = np.random.randn(10, 50)\n",
    "np.corrcoef(data)"
   ]
  },
  {
   "cell_type": "markdown",
   "id": "c3073c45-4dbf-4f24-8e52-d7749397f393",
   "metadata": {},
   "source": [
    "As you see it is difficult to trace out the correlation coefficients. One quick way to help read the matrix is to plot it with the heatmap() function from seaborn library."
   ]
  },
  {
   "cell_type": "code",
   "execution_count": 23,
   "id": "73e306a1-8952-4414-be7e-81d4f98ab8f2",
   "metadata": {},
   "outputs": [
    {
     "data": {
      "image/png": "[encoded data removed]",
      "text/plain": [
       "<Figure size 432x288 with 2 Axes>"
      ]
     },
     "metadata": {
      "needs_background": "light"
     },
     "output_type": "display_data"
    }
   ],
   "source": [
    "import seaborn as sns\n",
    "\n",
    "sns.heatmap(np.corrcoef(data))\n",
    "plt.title('correlation matrix')\n",
    "plt.show()"
   ]
  },
  {
   "cell_type": "markdown",
   "id": "55294be2-b288-4efa-9a6d-7b87da5a3d28",
   "metadata": {},
   "source": [
    "The heatmap plot has a lot of functionalities that you can discover. For instance, you can print the correlation coefficients at each cell, change the color, or show only the lower part of the matrix.\n",
    "\n",
    "The use of the heatmap is not limited to only plotting the correlation matrix. In fact, it can be used to plot rectangular datasets. Let’s look at a few examples using the flights dataset."
   ]
  },
  {
   "cell_type": "code",
   "execution_count": 24,
   "id": "3f7b09a3-9b02-4080-b182-15be6881ff6e",
   "metadata": {},
   "outputs": [
    {
     "data": {
      "text/html": [
       "<div>\n",
       "<style scoped>\n",
       "    .dataframe tbody tr th:only-of-type {\n",
       "        vertical-align: middle;\n",
       "    }\n",
       "\n",
       "    .dataframe tbody tr th {\n",
       "        vertical-align: top;\n",
       "    }\n",
       "\n",
       "    .dataframe thead th {\n",
       "        text-align: right;\n",
       "    }\n",
       "</style>\n",
       "<table border=\"1\" class=\"dataframe\">\n",
       "  <thead>\n",
       "    <tr style=\"text-align: right;\">\n",
       "      <th></th>\n",
       "      <th>year</th>\n",
       "      <th>month</th>\n",
       "      <th>passengers</th>\n",
       "    </tr>\n",
       "  </thead>\n",
       "  <tbody>\n",
       "    <tr>\n",
       "      <th>0</th>\n",
       "      <td>1949</td>\n",
       "      <td>Jan</td>\n",
       "      <td>112</td>\n",
       "    </tr>\n",
       "    <tr>\n",
       "      <th>1</th>\n",
       "      <td>1949</td>\n",
       "      <td>Feb</td>\n",
       "      <td>118</td>\n",
       "    </tr>\n",
       "    <tr>\n",
       "      <th>2</th>\n",
       "      <td>1949</td>\n",
       "      <td>Mar</td>\n",
       "      <td>132</td>\n",
       "    </tr>\n",
       "    <tr>\n",
       "      <th>3</th>\n",
       "      <td>1949</td>\n",
       "      <td>Apr</td>\n",
       "      <td>129</td>\n",
       "    </tr>\n",
       "    <tr>\n",
       "      <th>4</th>\n",
       "      <td>1949</td>\n",
       "      <td>May</td>\n",
       "      <td>121</td>\n",
       "    </tr>\n",
       "    <tr>\n",
       "      <th>...</th>\n",
       "      <td>...</td>\n",
       "      <td>...</td>\n",
       "      <td>...</td>\n",
       "    </tr>\n",
       "    <tr>\n",
       "      <th>139</th>\n",
       "      <td>1960</td>\n",
       "      <td>Aug</td>\n",
       "      <td>606</td>\n",
       "    </tr>\n",
       "    <tr>\n",
       "      <th>140</th>\n",
       "      <td>1960</td>\n",
       "      <td>Sep</td>\n",
       "      <td>508</td>\n",
       "    </tr>\n",
       "    <tr>\n",
       "      <th>141</th>\n",
       "      <td>1960</td>\n",
       "      <td>Oct</td>\n",
       "      <td>461</td>\n",
       "    </tr>\n",
       "    <tr>\n",
       "      <th>142</th>\n",
       "      <td>1960</td>\n",
       "      <td>Nov</td>\n",
       "      <td>390</td>\n",
       "    </tr>\n",
       "    <tr>\n",
       "      <th>143</th>\n",
       "      <td>1960</td>\n",
       "      <td>Dec</td>\n",
       "      <td>432</td>\n",
       "    </tr>\n",
       "  </tbody>\n",
       "</table>\n",
       "<p>144 rows × 3 columns</p>\n",
       "</div>"
      ],
      "text/plain": [
       "     year month  passengers\n",
       "0    1949   Jan         112\n",
       "1    1949   Feb         118\n",
       "2    1949   Mar         132\n",
       "3    1949   Apr         129\n",
       "4    1949   May         121\n",
       "..    ...   ...         ...\n",
       "139  1960   Aug         606\n",
       "140  1960   Sep         508\n",
       "141  1960   Oct         461\n",
       "142  1960   Nov         390\n",
       "143  1960   Dec         432\n",
       "\n",
       "[144 rows x 3 columns]"
      ]
     },
     "execution_count": 24,
     "metadata": {},
     "output_type": "execute_result"
    }
   ],
   "source": [
    "flights = sns.load_dataset(\"flights\")\n",
    "flights"
   ]
  },
  {
   "cell_type": "code",
   "execution_count": 25,
   "id": "010a92e8-c3ca-4b03-86e1-6217e07a787f",
   "metadata": {},
   "outputs": [
    {
     "data": {
      "text/html": [
       "<div>\n",
       "<style scoped>\n",
       "    .dataframe tbody tr th:only-of-type {\n",
       "        vertical-align: middle;\n",
       "    }\n",
       "\n",
       "    .dataframe tbody tr th {\n",
       "        vertical-align: top;\n",
       "    }\n",
       "\n",
       "    .dataframe thead th {\n",
       "        text-align: right;\n",
       "    }\n",
       "</style>\n",
       "<table border=\"1\" class=\"dataframe\">\n",
       "  <thead>\n",
       "    <tr style=\"text-align: right;\">\n",
       "      <th>year</th>\n",
       "      <th>1949</th>\n",
       "      <th>1950</th>\n",
       "      <th>1951</th>\n",
       "      <th>1952</th>\n",
       "      <th>1953</th>\n",
       "      <th>1954</th>\n",
       "      <th>1955</th>\n",
       "      <th>1956</th>\n",
       "      <th>1957</th>\n",
       "      <th>1958</th>\n",
       "      <th>1959</th>\n",
       "      <th>1960</th>\n",
       "    </tr>\n",
       "    <tr>\n",
       "      <th>month</th>\n",
       "      <th></th>\n",
       "      <th></th>\n",
       "      <th></th>\n",
       "      <th></th>\n",
       "      <th></th>\n",
       "      <th></th>\n",
       "      <th></th>\n",
       "      <th></th>\n",
       "      <th></th>\n",
       "      <th></th>\n",
       "      <th></th>\n",
       "      <th></th>\n",
       "    </tr>\n",
       "  </thead>\n",
       "  <tbody>\n",
       "    <tr>\n",
       "      <th>Jan</th>\n",
       "      <td>112</td>\n",
       "      <td>115</td>\n",
       "      <td>145</td>\n",
       "      <td>171</td>\n",
       "      <td>196</td>\n",
       "      <td>204</td>\n",
       "      <td>242</td>\n",
       "      <td>284</td>\n",
       "      <td>315</td>\n",
       "      <td>340</td>\n",
       "      <td>360</td>\n",
       "      <td>417</td>\n",
       "    </tr>\n",
       "    <tr>\n",
       "      <th>Feb</th>\n",
       "      <td>118</td>\n",
       "      <td>126</td>\n",
       "      <td>150</td>\n",
       "      <td>180</td>\n",
       "      <td>196</td>\n",
       "      <td>188</td>\n",
       "      <td>233</td>\n",
       "      <td>277</td>\n",
       "      <td>301</td>\n",
       "      <td>318</td>\n",
       "      <td>342</td>\n",
       "      <td>391</td>\n",
       "    </tr>\n",
       "    <tr>\n",
       "      <th>Mar</th>\n",
       "      <td>132</td>\n",
       "      <td>141</td>\n",
       "      <td>178</td>\n",
       "      <td>193</td>\n",
       "      <td>236</td>\n",
       "      <td>235</td>\n",
       "      <td>267</td>\n",
       "      <td>317</td>\n",
       "      <td>356</td>\n",
       "      <td>362</td>\n",
       "      <td>406</td>\n",
       "      <td>419</td>\n",
       "    </tr>\n",
       "    <tr>\n",
       "      <th>Apr</th>\n",
       "      <td>129</td>\n",
       "      <td>135</td>\n",
       "      <td>163</td>\n",
       "      <td>181</td>\n",
       "      <td>235</td>\n",
       "      <td>227</td>\n",
       "      <td>269</td>\n",
       "      <td>313</td>\n",
       "      <td>348</td>\n",
       "      <td>348</td>\n",
       "      <td>396</td>\n",
       "      <td>461</td>\n",
       "    </tr>\n",
       "    <tr>\n",
       "      <th>May</th>\n",
       "      <td>121</td>\n",
       "      <td>125</td>\n",
       "      <td>172</td>\n",
       "      <td>183</td>\n",
       "      <td>229</td>\n",
       "      <td>234</td>\n",
       "      <td>270</td>\n",
       "      <td>318</td>\n",
       "      <td>355</td>\n",
       "      <td>363</td>\n",
       "      <td>420</td>\n",
       "      <td>472</td>\n",
       "    </tr>\n",
       "    <tr>\n",
       "      <th>Jun</th>\n",
       "      <td>135</td>\n",
       "      <td>149</td>\n",
       "      <td>178</td>\n",
       "      <td>218</td>\n",
       "      <td>243</td>\n",
       "      <td>264</td>\n",
       "      <td>315</td>\n",
       "      <td>374</td>\n",
       "      <td>422</td>\n",
       "      <td>435</td>\n",
       "      <td>472</td>\n",
       "      <td>535</td>\n",
       "    </tr>\n",
       "    <tr>\n",
       "      <th>Jul</th>\n",
       "      <td>148</td>\n",
       "      <td>170</td>\n",
       "      <td>199</td>\n",
       "      <td>230</td>\n",
       "      <td>264</td>\n",
       "      <td>302</td>\n",
       "      <td>364</td>\n",
       "      <td>413</td>\n",
       "      <td>465</td>\n",
       "      <td>491</td>\n",
       "      <td>548</td>\n",
       "      <td>622</td>\n",
       "    </tr>\n",
       "    <tr>\n",
       "      <th>Aug</th>\n",
       "      <td>148</td>\n",
       "      <td>170</td>\n",
       "      <td>199</td>\n",
       "      <td>242</td>\n",
       "      <td>272</td>\n",
       "      <td>293</td>\n",
       "      <td>347</td>\n",
       "      <td>405</td>\n",
       "      <td>467</td>\n",
       "      <td>505</td>\n",
       "      <td>559</td>\n",
       "      <td>606</td>\n",
       "    </tr>\n",
       "    <tr>\n",
       "      <th>Sep</th>\n",
       "      <td>136</td>\n",
       "      <td>158</td>\n",
       "      <td>184</td>\n",
       "      <td>209</td>\n",
       "      <td>237</td>\n",
       "      <td>259</td>\n",
       "      <td>312</td>\n",
       "      <td>355</td>\n",
       "      <td>404</td>\n",
       "      <td>404</td>\n",
       "      <td>463</td>\n",
       "      <td>508</td>\n",
       "    </tr>\n",
       "    <tr>\n",
       "      <th>Oct</th>\n",
       "      <td>119</td>\n",
       "      <td>133</td>\n",
       "      <td>162</td>\n",
       "      <td>191</td>\n",
       "      <td>211</td>\n",
       "      <td>229</td>\n",
       "      <td>274</td>\n",
       "      <td>306</td>\n",
       "      <td>347</td>\n",
       "      <td>359</td>\n",
       "      <td>407</td>\n",
       "      <td>461</td>\n",
       "    </tr>\n",
       "    <tr>\n",
       "      <th>Nov</th>\n",
       "      <td>104</td>\n",
       "      <td>114</td>\n",
       "      <td>146</td>\n",
       "      <td>172</td>\n",
       "      <td>180</td>\n",
       "      <td>203</td>\n",
       "      <td>237</td>\n",
       "      <td>271</td>\n",
       "      <td>305</td>\n",
       "      <td>310</td>\n",
       "      <td>362</td>\n",
       "      <td>390</td>\n",
       "    </tr>\n",
       "    <tr>\n",
       "      <th>Dec</th>\n",
       "      <td>118</td>\n",
       "      <td>140</td>\n",
       "      <td>166</td>\n",
       "      <td>194</td>\n",
       "      <td>201</td>\n",
       "      <td>229</td>\n",
       "      <td>278</td>\n",
       "      <td>306</td>\n",
       "      <td>336</td>\n",
       "      <td>337</td>\n",
       "      <td>405</td>\n",
       "      <td>432</td>\n",
       "    </tr>\n",
       "  </tbody>\n",
       "</table>\n",
       "</div>"
      ],
      "text/plain": [
       "year   1949  1950  1951  1952  1953  1954  1955  1956  1957  1958  1959  1960\n",
       "month                                                                        \n",
       "Jan     112   115   145   171   196   204   242   284   315   340   360   417\n",
       "Feb     118   126   150   180   196   188   233   277   301   318   342   391\n",
       "Mar     132   141   178   193   236   235   267   317   356   362   406   419\n",
       "Apr     129   135   163   181   235   227   269   313   348   348   396   461\n",
       "May     121   125   172   183   229   234   270   318   355   363   420   472\n",
       "Jun     135   149   178   218   243   264   315   374   422   435   472   535\n",
       "Jul     148   170   199   230   264   302   364   413   465   491   548   622\n",
       "Aug     148   170   199   242   272   293   347   405   467   505   559   606\n",
       "Sep     136   158   184   209   237   259   312   355   404   404   463   508\n",
       "Oct     119   133   162   191   211   229   274   306   347   359   407   461\n",
       "Nov     104   114   146   172   180   203   237   271   305   310   362   390\n",
       "Dec     118   140   166   194   201   229   278   306   336   337   405   432"
      ]
     },
     "execution_count": 25,
     "metadata": {},
     "output_type": "execute_result"
    }
   ],
   "source": [
    "# pivot function for reshaping the values by month and year\n",
    "\n",
    "flights = flights.pivot(\"month\", \"year\", \"passengers\")\n",
    "flights"
   ]
  },
  {
   "cell_type": "code",
   "execution_count": 26,
   "id": "674e9e28-35a2-493e-8498-c50983659913",
   "metadata": {},
   "outputs": [
    {
     "data": {
      "image/png": "[encoded data removed]",
      "text/plain": [
       "<Figure size 432x288 with 2 Axes>"
      ]
     },
     "metadata": {
      "needs_background": "light"
     },
     "output_type": "display_data"
    }
   ],
   "source": [
    "# The resulting dataframe is a rectangular matrix and we can feed it into the heatmap.\n",
    "sns.heatmap(flights)\n",
    "plt.title('number of passengers at each year-month pair')\n",
    "plt.show()\n"
   ]
  },
  {
   "cell_type": "markdown",
   "id": "bf7cee01-583a-4b4b-b95d-ede17ec15a9b",
   "metadata": {},
   "source": [
    "### Point estimates and confidence intervals\n",
    "#### Point estimates\n",
    "\n",
    "If we have a random population of size n, and we might calculate the mean of this sample \n",
    "\n",
    "point_estimate = sum (1..n) Xi/n\n",
    "\n",
    "Let’s give this a try with Python. We will need the following imports\n"
   ]
  },
  {
   "cell_type": "code",
   "execution_count": 27,
   "id": "b981c301-9215-463a-a69e-51fe2d356ece",
   "metadata": {},
   "outputs": [
    {
     "data": {
      "text/plain": [
       "40.00965333333333"
      ]
     },
     "execution_count": 27,
     "metadata": {},
     "output_type": "execute_result"
    }
   ],
   "source": [
    "import numpy as np\n",
    "import pandas as pd\n",
    "import scipy.stats as stats\n",
    "import matplotlib.pyplot as plt\n",
    "import random\n",
    "\n",
    "%matplotlib inline\n",
    "\n",
    "# Generate the samples\n",
    "poisson1 = stats.poisson.rvs(mu=55, size=200000)\n",
    "poisson2 = stats.poisson.rvs(mu=10, size=100000)\n",
    "population = np.concatenate((poisson1, poisson2))\n",
    "population.mean()"
   ]
  },
  {
   "cell_type": "code",
   "execution_count": 28,
   "id": "722b0031-2058-44fc-9c62-183d746723a9",
   "metadata": {},
   "outputs": [
    {
     "data": {
      "text/plain": [
       "39.989"
      ]
     },
     "execution_count": 28,
     "metadata": {},
     "output_type": "execute_result"
    }
   ],
   "source": [
    "# Lets select a random sample of size 1000\n",
    "sample = np.random.choice(population, size=1000)\n",
    "# And lets check the mean of the sample\n",
    "sample_mean = sample.mean()\n",
    "sample_mean"
   ]
  },
  {
   "cell_type": "markdown",
   "id": "6252404d-5588-4a03-acb9-7bbf9e7dc6eb",
   "metadata": {},
   "source": [
    "Let’s try another example. This time we start with some population of categorical data and we want to estimate the percentage of each group by drawing a small sample. We will start with 100000 total data points which we will separate into four groups depending on color: 50% of them will be red, 30% blue, 10% green and 10% white."
   ]
  },
  {
   "cell_type": "code",
   "execution_count": 29,
   "id": "4c0c00fb-954f-45eb-a0e7-74e98d6a1276",
   "metadata": {},
   "outputs": [],
   "source": [
    "data = (\n",
    "    ([\"red\"] * 50000) + ([\"blue\"] * 30000) + ([\"green\"] * 10000) + ([\"white\"] * 10000)\n",
    ")"
   ]
  },
  {
   "cell_type": "code",
   "execution_count": 30,
   "id": "37640f40-8a60-4b92-9db1-2ed56a47dfe9",
   "metadata": {},
   "outputs": [
    {
     "name": "stdout",
     "output_type": "stream",
     "text": [
      "white proportion estimate:\n",
      "0.13\n",
      "red proportion estimate:\n",
      "0.43\n",
      "blue proportion estimate:\n",
      "0.34\n",
      "green proportion estimate:\n",
      "0.1\n"
     ]
    }
   ],
   "source": [
    "# Let’s now take a sample of size 100 and estimate the distribution of the colors based on the distribution observed in the sample\n",
    "\n",
    "sample = random.sample(data, 100)\n",
    "\n",
    "for color in set(sample):\n",
    "    print(color + \" proportion estimate:\")\n",
    "    print(sample.count(color) / 100)"
   ]
  },
  {
   "cell_type": "markdown",
   "id": "c79f60bf-4a69-4f0a-868b-7e4440a1fcfb",
   "metadata": {},
   "source": [
    "As you can see the distribution of the sample is very close to the true distribution in the population, despite the size of the sample being much smaller than the actual population."
   ]
  },
  {
   "cell_type": "markdown",
   "id": "d7ab2e1e-16ed-460b-aae0-9fac70b2fce3",
   "metadata": {},
   "source": [
    "#### Confidence intervals\n",
    "\n",
    "After we make a point estimate how do we know how much confidence we can have about it? This is where the topic of confidence intervals comes in. Ideally, we would like our estimate to have a small variance for a large sample size since this would imply that it will be accurate with large probability. \n",
    "\n",
    "A higher confidence level corresponds to a wider interval since the larger our interval the more sure we can be that the population parameter will indeed fall within our margins of error. \n",
    "\n",
    " So if we speak of a confidence level of 95% it means that with a probability of 0.95 the calculated interval contains the population parameter.\n",
    "\n",
    "A common practice for the margin of error is based on the standard deviation f the population and a parameter known as the z-critical value.\n",
    "\n",
    "margin_of_error=z*\\theta/n^0.5\n",
    "\n",
    "where n is the size of the sample\n",
    "\n",
    "The z-critical value represents the number of standard deviations that we would have to go from the mean of the normal distribution in order to capture the proportion of the points corresponding to our chosen confidence level.\n",
    "\n",
    "But how do we know what z-critical value we need for our confidence level? For this we can use the function stats.norm.ppf(). If we want a confidence level of 0.95 then we compute the corresponding z-critical value as:"
   ]
  },
  {
   "cell_type": "code",
   "execution_count": 32,
   "id": "91e90be7-3da6-4c53-afe1-df9701590508",
   "metadata": {},
   "outputs": [
    {
     "data": {
      "text/plain": [
       "1.959963984540054"
      ]
     },
     "execution_count": 32,
     "metadata": {},
     "output_type": "execute_result"
    }
   ],
   "source": [
    "# z- critical values: number of sd that we would have to go from the mean of the normal distribution in order to capture the proportion of the points in the confidence level.\n",
    "z = stats.norm.ppf(q=0.975)\n",
    "z"
   ]
  },
  {
   "cell_type": "markdown",
   "id": "fdea060c-8d99-4525-8d28-601c0b05c818",
   "metadata": {},
   "source": [
    "Let’s look at our previous example of Poisson random variables. Recall that we created a variable sample of 1000 values from our population and we computed a point estimate for the mean of the population based on the mean of the sample. Let’s now compute the standard deviation of our population in order to set up our confidence intervals."
   ]
  },
  {
   "cell_type": "code",
   "execution_count": 33,
   "id": "d158edf0-9d04-4264-827c-34ada2727f0e",
   "metadata": {},
   "outputs": [
    {
     "data": {
      "text/plain": [
       "22.151657879561874"
      ]
     },
     "execution_count": 33,
     "metadata": {},
     "output_type": "execute_result"
    }
   ],
   "source": [
    "pop_std = population.std()\n",
    "pop_std"
   ]
  },
  {
   "cell_type": "code",
   "execution_count": 34,
   "id": "10a9588e-924f-4739-8f34-80aad8446d04",
   "metadata": {},
   "outputs": [
    {
     "data": {
      "text/plain": [
       "1.3729487511062648"
      ]
     },
     "execution_count": 34,
     "metadata": {},
     "output_type": "execute_result"
    }
   ],
   "source": [
    "# Using this we can compute the margin of error for a confidence of 95% as\n",
    "margin_of_error = z * (pop_std / np.sqrt(1000))\n",
    "margin_of_error"
   ]
  },
  {
   "cell_type": "markdown",
   "id": "8e7f8501-aa48-49a7-b58b-7e3d5e75e334",
   "metadata": {},
   "source": [
    "So our confidence interval for our estimate of the population mean is given by subtracting and adding this margin to the point estimate"
   ]
  },
  {
   "cell_type": "code",
   "execution_count": 35,
   "id": "fcc5b3e7-176c-4234-936d-9a4b3ba0ee07",
   "metadata": {},
   "outputs": [
    {
     "data": {
      "text/plain": [
       "(38.61605124889373, 41.36194875110626)"
      ]
     },
     "execution_count": 35,
     "metadata": {},
     "output_type": "execute_result"
    }
   ],
   "source": [
    "confidence_interval = (sample_mean - margin_of_error, sample_mean + margin_of_error)\n",
    "confidence_interval"
   ]
  },
  {
   "cell_type": "markdown",
   "id": "9b586408-5e23-4ebc-bc31-77c261a1ce87",
   "metadata": {},
   "source": [
    "**So we can say with 95% confidence that the mean of the population falls in the interval (39.80, 42.54). Note that this interval does indeed capture the population mean in this case**"
   ]
  },
  {
   "cell_type": "code",
   "execution_count": 36,
   "id": "8e9f920c-9dbf-4512-8398-e5376f3f3e7e",
   "metadata": {},
   "outputs": [
    {
     "data": {
      "text/plain": [
       "40.00965333333333"
      ]
     },
     "execution_count": 36,
     "metadata": {},
     "output_type": "execute_result"
    }
   ],
   "source": [
    "population.mean()"
   ]
  },
  {
   "cell_type": "markdown",
   "id": "b9daf049-4195-4df9-9345-17968093bf7a",
   "metadata": {},
   "source": [
    "To get a better idea of this we can take several samples and plot the 95% confidence intervals for each one. Let’s say we compute 10 samples. We just repeat the previous steps in a for loop and store the corresponding values."
   ]
  },
  {
   "cell_type": "code",
   "execution_count": 37,
   "id": "688138f2-0731-40c9-9038-f35e17003e2c",
   "metadata": {},
   "outputs": [],
   "source": [
    "intervals = []\n",
    "sample_means = []\n",
    "\n",
    "for sample in range(10):\n",
    "    sample = np.random.choice(population, size=1000)\n",
    "    sample_mean = sample.mean()\n",
    "    sample_means.append(sample_mean)\n",
    "    pop_std = population.std()\n",
    "    margin_of_error = z * (pop_std / np.sqrt(1000))\n",
    "    confidence_interval = (sample_mean - margin_of_error, sample_mean + margin_of_error)\n",
    "    intervals.append(confidence_interval)"
   ]
  },
  {
   "cell_type": "markdown",
   "id": "175cc89f-7f61-4bed-9934-69b870e52ccd",
   "metadata": {},
   "source": [
    "And now let’s plot these intervals as vertical error bars around the population mean"
   ]
  },
  {
   "cell_type": "code",
   "execution_count": 38,
   "id": "a6994ff8-1343-4771-baef-2466b72d9b4c",
   "metadata": {},
   "outputs": [
    {
     "data": {
      "image/png": "[encoded data removed]",
      "text/plain": [
       "<Figure size 864x360 with 1 Axes>"
      ]
     },
     "metadata": {
      "needs_background": "light"
     },
     "output_type": "display_data"
    }
   ],
   "source": [
    "plt.figure(figsize=(12, 5))\n",
    "\n",
    "plt.errorbar(\n",
    "    x=np.arange(0.1, 10, 1),\n",
    "    y=sample_means,\n",
    "    yerr=[(top - bot) / 2 for top, bot in intervals],\n",
    "    fmt=\"o\",\n",
    ")\n",
    "\n",
    "plt.hlines(xmin=0, xmax=10, y=population.mean(), color=\"red\", label=\"population mean\")\n",
    "plt.legend()\n",
    "plt.title(\"95% confidence intervals for point estimates of the population mean\")\n",
    "plt.show()"
   ]
  },
  {
   "cell_type": "markdown",
   "id": "61c056d7-1707-4799-9957-e23530235ec6",
   "metadata": {},
   "source": [
    "We can see that all but one of the intervals overlaps the red line denoting the population mean. There is nothing wrong with the interval that does not overlap. In general, if we ran 100 samples we would expect 95 of the intervals to overlap the mean.\n",
    "\n",
    "Now, this method for computing confidence intervals relies on actually knowing the standard deviation of the population. But what if this value is not available for us? In this case, we must use yet another point estimate by computing the standard deviation of the sample."
   ]
  },
  {
   "cell_type": "markdown",
   "id": "211b0221-bae5-4ce8-a312-6db3e42d76b2",
   "metadata": {},
   "source": [
    "the standard deviation of the population is the standard deviation of the sample, over the square root of the n size of the sample"
   ]
  },
  {
   "cell_type": "markdown",
   "id": "cd3fc5f6-6a10-455e-a4a1-f11cd4a9e851",
   "metadata": {},
   "source": [
    "Of course, if we compute now our confidence interval with this estimate of the deviation instead of the true deviation value. we are introducing yet another source of potential error. In order to account for this, we must use a different type of parameter. Instead of the z-critical value we now use the t-critical value which we can compute once again a function from the stats module.\n",
    "\n",
    "Let’s look at all of this through the help of our example again. We will work this time with a smaller sample to have more realistic results since normally when using this method the sample size will be much smaller than the population size."
   ]
  },
  {
   "cell_type": "code",
   "execution_count": 39,
   "id": "0aff5a2e-b1e0-45d2-9774-c4d10cca344e",
   "metadata": {},
   "outputs": [
    {
     "data": {
      "text/plain": [
       "35.1"
      ]
     },
     "execution_count": 39,
     "metadata": {},
     "output_type": "execute_result"
    }
   ],
   "source": [
    "sample_small = np.random.choice(population, size=10)\n",
    "sample_small_mean = sample_small.mean()\n",
    "sample_small_mean"
   ]
  },
  {
   "cell_type": "markdown",
   "id": "a907459b-37bd-4d7c-9d06-9f791183ba53",
   "metadata": {},
   "source": [
    "We can compute the t-critical value for a confidence interval of 95% as follows"
   ]
  },
  {
   "cell_type": "code",
   "execution_count": 40,
   "id": "ceba8962-7f7b-44a2-86aa-50930fce89e8",
   "metadata": {},
   "outputs": [
    {
     "data": {
      "text/plain": [
       "2.2621571627409915"
      ]
     },
     "execution_count": 40,
     "metadata": {},
     "output_type": "execute_result"
    }
   ],
   "source": [
    "t = stats.t.ppf(q=0.975, df=9)\n",
    "t"
   ]
  },
  {
   "cell_type": "markdown",
   "id": "98030d2d-9199-463a-a429-e6a49f59533d",
   "metadata": {},
   "source": [
    "The second parameter is for the degrees of freedom which has to be equal to the sample size minus 1 in this case. Let’s now compute our estimate for σ together with the confidence intervals"
   ]
  },
  {
   "cell_type": "code",
   "execution_count": 41,
   "id": "49377ae2-22eb-4326-8ed3-8d9059fb0f44",
   "metadata": {},
   "outputs": [
    {
     "data": {
      "text/plain": [
       "(20.285201998129587, 49.914798001870416)"
      ]
     },
     "execution_count": 41,
     "metadata": {},
     "output_type": "execute_result"
    }
   ],
   "source": [
    "sigma = sample_small.std() / np.sqrt(10)\n",
    "margin_of_error = t * sigma\n",
    "confidence_interval = (\n",
    "    sample_small_mean - margin_of_error,\n",
    "    sample_small_mean + margin_of_error,\n",
    ")\n",
    "confidence_interval"
   ]
  },
  {
   "cell_type": "markdown",
   "id": "d82b89aa-7661-427f-80a9-a32b7408b770",
   "metadata": {},
   "source": [
    "We can see that this is a much larger interval around our point estimate due to the added error coming from having to estimate the standard deviation of the population. Of course our sample size, in this case, was very small. The higher our sample size in general the more the t-critical value will approach the z-critical value. For example with a sample size of size 10 as we had here we have the following difference between the two values"
   ]
  },
  {
   "cell_type": "code",
   "execution_count": 42,
   "id": "2cf2310c-8ee1-4e4e-a129-8ea6f5ac0850",
   "metadata": {},
   "outputs": [
    {
     "data": {
      "text/plain": [
       "0.3021931782009375"
      ]
     },
     "execution_count": 42,
     "metadata": {},
     "output_type": "execute_result"
    }
   ],
   "source": [
    "stats.t.ppf(q=0.975, df=9) - stats.norm.ppf(0.975)\n"
   ]
  },
  {
   "cell_type": "markdown",
   "id": "629d13cc-ea27-49e9-b7d5-922f92e4f424",
   "metadata": {},
   "source": [
    "However with a sample size of 1000 as our previous example, we would have"
   ]
  },
  {
   "cell_type": "code",
   "execution_count": 43,
   "id": "111d8a83-9d4a-4d7b-9656-633b7ca6bfa3",
   "metadata": {},
   "outputs": [
    {
     "data": {
      "text/plain": [
       "0.0023774765933946007"
      ]
     },
     "execution_count": 43,
     "metadata": {},
     "output_type": "execute_result"
    }
   ],
   "source": [
    "stats.t.ppf(q=0.975, df=999) - stats.norm.ppf(0.975)"
   ]
  },
  {
   "cell_type": "markdown",
   "id": "114f8235-c26d-478a-95f6-9456485c3006",
   "metadata": {},
   "source": [
    "One last thing we would like to point out is that in these examples we have been computing the confidence intervals by hand by subtracting and adding the margin of error to our point estimate. **However, we can do all this directly by using the function stats.t.interval() as follows**"
   ]
  },
  {
   "cell_type": "code",
   "execution_count": 44,
   "id": "068d2045-8ef4-4920-b7df-054ec9d923a9",
   "metadata": {},
   "outputs": [
    {
     "data": {
      "text/plain": [
       "(20.285201998129587, 49.914798001870416)"
      ]
     },
     "execution_count": 44,
     "metadata": {},
     "output_type": "execute_result"
    }
   ],
   "source": [
    "stats.t.interval(alpha = 0.95,              # Confidence level\n",
    "                 df= 9,                     # Degrees of freedom\n",
    "                 loc = sample_small_mean,   # Sample mean\n",
    "                 scale = sigma)             # Standard deviation estimate"
   ]
  },
  {
   "cell_type": "markdown",
   "id": "3e29cabf-5888-475a-91f9-62060ac53fd9",
   "metadata": {},
   "source": [
    "As one final example, let’s compute some confidence intervals for different levels of confidence\n",
    "\n"
   ]
  },
  {
   "cell_type": "code",
   "execution_count": 45,
   "id": "862c11fe-e9c3-459b-982b-16dcfb14290a",
   "metadata": {},
   "outputs": [
    {
     "name": "stdout",
     "output_type": "stream",
     "text": [
      "0.5 9.2\n",
      "0.75 16.11\n",
      "0.8 18.11\n",
      "0.9 24.01\n",
      "0.95 29.63\n"
     ]
    }
   ],
   "source": [
    "for confidence in (0.5, 0.75, 0.8, 0.90, 0.95):\n",
    "    confidence_interval = stats.t.interval(\n",
    "        alpha=confidence, df=9, loc=sample_small_mean, scale=sigma\n",
    "    )\n",
    "    interval = round(confidence_interval[1] - confidence_interval[0], 2)\n",
    "    print(confidence, interval)  # 0.95 26.43"
   ]
  },
  {
   "cell_type": "markdown",
   "id": "eaf7c178-9c9c-49d8-9be6-c6b5a479196d",
   "metadata": {},
   "source": [
    "This confirms indeed our intuition from earlier: the higher the confidence the larger the interval has to be. If we are satisfied with only 50% confidence then our interval is only of length 8. However, if we want a higher confidence the interval length increases as well."
   ]
  },
  {
   "cell_type": "code",
   "execution_count": null,
   "id": "6427dccf-ea87-498d-b78e-fde53b6fbc2f",
   "metadata": {},
   "outputs": [],
   "source": []
  }
 ],
 "metadata": {
  "kernelspec": {
   "display_name": "Python [conda env:adsml] *",
   "language": "python",
   "name": "conda-env-adsml-py"
  },
  "language_info": {
   "codemirror_mode": {
    "name": "ipython",
    "version": 3
   },
   "file_extension": ".py",
   "mimetype": "text/x-python",
   "name": "python",
   "nbconvert_exporter": "python",
   "pygments_lexer": "ipython3",
   "version": "3.9.7"
  }
 },
 "nbformat": 4,
 "nbformat_minor": 5
}
