{
 "cells": [
  {
   "cell_type": "markdown",
   "id": "6d99b6cd-41b9-40aa-ae87-675fe61e9a28",
   "metadata": {},
   "source": [
    "### Convolutional layers\n",
    "Convolutional neural networks use a particular type of layer called convolutional layer that can work on 3-dimensional volumes of data like images. The intuition behind those convolutional layers is that the important features are usually not specific to some locations of the image. For instance, if detecting lines is an important aspect of our network, we don’t need to learn to detect lines at every location of the image independently. Instead, we could simply learn a line detector that we slide over the image. This operation is called convolution."
   ]
  },
  {
   "cell_type": "markdown",
   "id": "22500e7e-9f3e-42d5-b4d4-475599fe1507",
   "metadata": {},
   "source": [
    "### TensorFlow implementation\n",
    "We will now see how to implement the simple convolutional neural network from above using TensorFlow.\n",
    "\n",
    "#### Data preprocessing\n",
    "Let’s start by loading and preprocessing the data. We saw in the previous unit that we can improve the learning process by centering the input values around zero. In our case, we are working with pixel values that range between 0 and 255. A common way to preprocess images before passing them to a ConvNet is to subtract 128 to each value and divide them by 255. With this simple procedure, we should get centered values that range between -0.5 and 0.5."
   ]
  },
  {
   "cell_type": "code",
   "execution_count": 1,
   "id": "0b6e7f7c-684c-462f-b999-592daee892fe",
   "metadata": {},
   "outputs": [],
   "source": [
    "import numpy as np\n",
    "\n",
    "# Load data\n",
    "with np.load(\"c4_mnist-20k.npz\", allow_pickle=False) as npz_file:\n",
    "    mnist = dict(npz_file.items())\n",
    "\n",
    "# Convert pixels into floating point numbers\n",
    "data = mnist[\"data\"].astype(np.float32)\n",
    "\n",
    "# Rescale pixel values between -0.5 and 0.5\n",
    "data = (data - 128) / 255\n"
   ]
  },
  {
   "cell_type": "markdown",
   "id": "61042e93-db7d-4e18-aeee-65e0b777d58d",
   "metadata": {},
   "source": [
    "In this code, we load the image pixels, convert them into floating point numbers and rescale them using the formula from above.\n",
    "\n",
    "In this example, we will monitor the learning process using a validation set. We will use 19,500 images for training and the remaining 500 ones for evaluation. Let’s create these train and validation sets."
   ]
  },
  {
   "cell_type": "code",
   "execution_count": 2,
   "id": "90427227-16d0-4fdf-95c7-0d6042b2b202",
   "metadata": {},
   "outputs": [
    {
     "name": "stdout",
     "output_type": "stream",
     "text": [
      "Train: (19500, 28, 28, 1) (19500,)\n",
      "Valid: (500, 28, 28, 1) (500,)\n"
     ]
    }
   ],
   "source": [
    "from sklearn.model_selection import train_test_split\n",
    "\n",
    "# Split into train and validation sets\n",
    "X_train, X_valid, y_train, y_valid = train_test_split(\n",
    "    # Reshape images (28 by 28)\n",
    "    data.reshape(-1, 28, 28, 1),  # Single channel (grayscale)\n",
    "    mnist[\"labels\"],\n",
    "    test_size=500,\n",
    "    random_state=0,\n",
    ")\n",
    "\n",
    "# Print shape\n",
    "print(\"Train:\", X_train.shape, y_train.shape)\n",
    "print(\"Valid:\", X_valid.shape, y_valid.shape)"
   ]
  },
  {
   "cell_type": "markdown",
   "id": "bc34c4a8-b1a6-44c2-a9e6-a0596d604fe4",
   "metadata": {},
   "source": [
    "In this code, we reshape the flat matrix of image pixels back into 28x28x1 grids of values with the reshape() function from Numpy and get two 4-dimensional arrays of values X_train and X_test with respectively 19,500 and 500 images.\n",
    "\n",
    "Note: The last dimension, in this case representing the grayscale channel, is very important for ConvNets. It needs to be specified even if it only has a single value, as in our example."
   ]
  },
  {
   "cell_type": "markdown",
   "id": "9c85b8a7-46a8-4a46-9c03-b405fa5ec3c5",
   "metadata": {},
   "source": [
    "### Create the convolutional layer\n",
    "### Define the convolutional layer manually\n",
    "We want to create our first convolutional layer. To achieve this, we will use the conv2d() function from the nn module. 2d because the convolution operation is done in two dimensions, regardless of the shape of the input image and kernel (whether they are 2d or 3d). We are sliding the kernel in the height/width dimensions to get a two dimensional output. The function takes the input values and a kernel variable with the kernel weights. Note that it expects 4d tensors in both cases.\n",
    "\n",
    "* A [batch, in_height, in_width, in_channels] tensor for the input.\n",
    "* A [filter_height, filter_width, in_channels, out_channels] tensor for the kernels.\n",
    "\n",
    "We can pass the X_train from above for the input values, but we need to create the second tensor with the kernel weights."
   ]
  },
  {
   "cell_type": "code",
   "execution_count": 3,
   "id": "935d0ab8-4811-4c16-a0cc-e477c95073b5",
   "metadata": {},
   "outputs": [],
   "source": [
    "import tensorflow as tf\n",
    "\n",
    "# Define kernel matrix\n",
    "kernel = tf.Variable(\n",
    "    initial_value=tf.random.truncated_normal(\n",
    "        shape=(5, 5, 1, 16),  # Sixteen 5x5x1 kernels\n",
    "        stddev=0.01,  # Small standard deviation\n",
    "        seed=0,\n",
    "    )\n",
    ")"
   ]
  },
  {
   "cell_type": "markdown",
   "id": "b2a903d8-9fd0-44d3-b00d-c8097b43daa4",
   "metadata": {},
   "source": [
    "In this code, we have created a Variable with the weights for the sixteen kernels and initialize it using a (truncated) normal distribution with a small standard deviation. Note that we have to specify the depth of the input values even if the images are 2-dimensional. For this reason, the shape of the kernels is 5x5x1 instead of 5x5, and the input images are 28x28x1 instead of 28x28.\n",
    "\n",
    "We can now create the convolution operation with the conv2d() function. We can specify the stride and the padding with the stride and padding arguments. For the stride, we need to provide a list with one value for each dimension in the input, i.e., how the kernels move on the [batch, in_height, in_width, in_channels] input tensor. In our case, we set it to [1, 2, 2, 1] since we are doing a 2d convolution over the height/width axes."
   ]
  },
  {
   "cell_type": "code",
   "execution_count": 4,
   "id": "15ee6514-6b7f-4aff-b391-c0d691837594",
   "metadata": {},
   "outputs": [
    {
     "name": "stdout",
     "output_type": "stream",
     "text": [
      "(19500, 14, 14, 16)\n"
     ]
    }
   ],
   "source": [
    "# Convolutional layer\n",
    "conv = tf.nn.conv2d(\n",
    "    X_train, kernel, strides=[1, 2, 2, 1], padding=\"SAME\"  # Stride: 2  # \"same\" padding\n",
    ")\n",
    "print(conv.shape)"
   ]
  },
  {
   "cell_type": "markdown",
   "id": "c3038940-1231-44e2-8da4-8175cbded53e",
   "metadata": {},
   "source": [
    "The function creates a conv operation that produces sixteen 14x14 grids of values for each image. We can then add a variable with the biases and apply the activation function."
   ]
  },
  {
   "cell_type": "code",
   "execution_count": 5,
   "id": "88dff012-9af1-473e-9ea3-6f53c5b8dcb1",
   "metadata": {},
   "outputs": [],
   "source": [
    "# Create biases (one per filter)\n",
    "biases = tf.Variable(initial_value=tf.zeros(shape=[16]))\n",
    "\n",
    "# Apply activation function\n",
    "conv = tf.nn.relu(conv + biases)  # ReLU"
   ]
  },
  {
   "cell_type": "markdown",
   "id": "0c71354b-9f86-4f51-91a1-f4786c1b3759",
   "metadata": {},
   "source": [
    "Note that we create one bias for each kernel and add them to the output values using the + operator. TensorFlow will automatically add each bias to the relevant filter using broadcasting.\n",
    "\n",
    "Creating convolutional layers using the code from above can quickly become complex. In particular with deep networks with several layers. For this reason, TensorFlow provides a simplified Conv2D() class in its kera.layers module that automatically creates all the variables and apply the relevant activation function. Let’s redefine our network with this class.\n",
    "\n",
    "### Define convolutional layer using built-in class"
   ]
  },
  {
   "cell_type": "code",
   "execution_count": 6,
   "id": "a3b05d4d-ca1b-4d95-bd6c-a82dbb702614",
   "metadata": {},
   "outputs": [
    {
     "name": "stdout",
     "output_type": "stream",
     "text": [
      "(19500, 14, 14, 16)\n"
     ]
    }
   ],
   "source": [
    "# Convolutional layer\n",
    "conv_layer = tf.keras.layers.Conv2D(\n",
    "    filters=16,\n",
    "    kernel_size=(5, 5),\n",
    "    strides=(2, 2),\n",
    "    padding=\"SAME\",\n",
    "    activation=tf.nn.relu,\n",
    "    kernel_initializer=tf.keras.initializers.TruncatedNormal(stddev=0.01, seed=0),\n",
    "    name=\"conv\",  # Add name\n",
    ")\n",
    "conv_output = conv_layer(X_train)\n",
    "\n",
    "print(conv_output.shape)"
   ]
  },
  {
   "cell_type": "code",
   "execution_count": 7,
   "id": "63f9df96-2157-47ee-a287-6ff6c430ab68",
   "metadata": {},
   "outputs": [
    {
     "name": "stdout",
     "output_type": "stream",
     "text": [
      "(5, 5, 1, 16)\n",
      "(16,)\n"
     ]
    }
   ],
   "source": [
    "print(conv_layer.kernel.shape)\n",
    "print(conv_layer.bias.shape)"
   ]
  },
  {
   "cell_type": "markdown",
   "id": "2a29cae7-74c0-45c7-8464-3ae45775679e",
   "metadata": {},
   "source": [
    "This time, we pass the input variable, the number of filters, the stride and padding, the activation function and an initializer for the kernel weights. It’s interesting to note that we don’t have to repeat any values. This makes the network architecture much easier to edit, e.g., change the number of kernels or their size. One can extract the weights of all the sixteen kernels using the kernel class attribute and the biases using bias."
   ]
  },
  {
   "cell_type": "markdown",
   "id": "79d296be-8f42-499b-9f41-84b670a8b6a3",
   "metadata": {},
   "source": [
    "### Max pooling layer\n",
    "The keras.layers module also provides a MaxPool2D class to create max pooling layers. The layer takes the 4d input tensor, the pool size, the stride, and padding."
   ]
  },
  {
   "cell_type": "code",
   "execution_count": 8,
   "id": "e3d32a89-3e8c-475f-a65a-d193b63f6dbf",
   "metadata": {},
   "outputs": [
    {
     "name": "stdout",
     "output_type": "stream",
     "text": [
      "(19500, 7, 7, 16)\n"
     ]
    }
   ],
   "source": [
    "# Max pooling layer\n",
    "pool_layer = tf.keras.layers.MaxPool2D(pool_size=(2, 2), strides=(2, 2), padding=\"SAME\")\n",
    "pool_output = pool_layer(conv_output)\n",
    "\n",
    "print(pool_output.shape)"
   ]
  },
  {
   "cell_type": "markdown",
   "id": "a24f70c2-a92d-4348-a73b-634b8e612369",
   "metadata": {},
   "source": [
    "As we can see, the max pooling layer reduced by half the dimensions of the input in the height/width axes and hence by 75% the number of values."
   ]
  },
  {
   "cell_type": "markdown",
   "id": "cea1a901-48fe-4c3e-95c4-74d7a93ab096",
   "metadata": {},
   "source": [
    "### Convolutional neural network\n",
    "Let’s add the second convolutional and max pooling layers on top of the first ones with the Conv2D() and MaxPool2D classes.\n",
    "\n"
   ]
  },
  {
   "cell_type": "code",
   "execution_count": 9,
   "id": "a6ae2ce9-dd78-4f3d-b112-042d0ccb0764",
   "metadata": {},
   "outputs": [
    {
     "name": "stdout",
     "output_type": "stream",
     "text": [
      "(19500, 7, 7, 16)\n",
      "(19500, 4, 4, 16)\n"
     ]
    }
   ],
   "source": [
    "# 2nd convolutional layer\n",
    "conv_layer2 = tf.keras.layers.Conv2D(\n",
    "    filters=16,\n",
    "    kernel_size=(3, 3),\n",
    "    strides=(1, 1),\n",
    "    padding=\"SAME\",\n",
    "    activation=tf.nn.relu,\n",
    "    kernel_initializer=tf.keras.initializers.TruncatedNormal(stddev=0.01, seed=0),\n",
    "    name=\"conv2\",\n",
    ")\n",
    "conv_output2 = conv_layer2(pool_output)\n",
    "\n",
    "# 2nd max pooling layer\n",
    "pool_output2 = pool_layer(conv_output2)\n",
    "\n",
    "print(conv_output2.shape)\n",
    "print(pool_output2.shape)"
   ]
  },
  {
   "cell_type": "markdown",
   "id": "ffe4545f-7334-4697-b97f-8dfd283f065b",
   "metadata": {},
   "source": [
    "This time, the convolutional layer doesn’t modify the dimension of the input since it uses the “same” padding strategy with a stride of 1. On the other hand, the max pooling layer reduces its dimensions, and we get sixteen 4x4 grids (256 output values). In a typical ConvNet architecture, we use these high-level features to solve our task. In our example, we will combine these values into ten output logits with a fully-connected layer.\n",
    "\n",
    "But first, we need to flatten the 4x4x16 output volumes into flat vectors. To achieve this we can use the reshape() function from TensorFlow."
   ]
  },
  {
   "cell_type": "code",
   "execution_count": 10,
   "id": "13450b7c-39a2-45e6-abc0-10bc80db597a",
   "metadata": {},
   "outputs": [
    {
     "name": "stdout",
     "output_type": "stream",
     "text": [
      "(19500, 256)\n"
     ]
    }
   ],
   "source": [
    "# Flatten output into a (batch_size, 256) matrix\n",
    "flat_output = tf.reshape(pool_output2, [-1, 256])\n",
    "\n",
    "print(flat_output.shape)"
   ]
  },
  {
   "cell_type": "markdown",
   "id": "d2b2cb12-1f60-4a68-8fa4-5769f24f12d9",
   "metadata": {},
   "source": [
    "In this code, we pass the desired output shape to the function. This can be an issue in practice since it depends on the current ConvNet architecture. In particular, we would need to recompute and edit the number of features each time we modify the first convolutional and max pooling layers, e.g., increase the number of kernels, change their size and so on.\n",
    "\n",
    "To avoid this, we can use the Flatten class from the keras.layers module which automatically computes the shape of the input and flattens the dimensions (except the first one which is the batch size)."
   ]
  },
  {
   "cell_type": "code",
   "execution_count": 11,
   "id": "eb021e25-2c42-4e09-b218-27b7c5e1efc6",
   "metadata": {},
   "outputs": [
    {
     "name": "stdout",
     "output_type": "stream",
     "text": [
      "(19500, 256)\n"
     ]
    }
   ],
   "source": [
    "# Flatten output\n",
    "flat_layer = tf.keras.layers.Flatten()\n",
    "flat_output = flat_layer(pool_output2)\n",
    "\n",
    "print(flat_output.shape)"
   ]
  },
  {
   "cell_type": "markdown",
   "id": "414cf01c-58b7-49c9-a5a6-b287e113df81",
   "metadata": {},
   "source": [
    "Now that we have a set of 256 features for each image, let’s build the final classifier using a fully-connected layer.\n",
    "\n"
   ]
  },
  {
   "cell_type": "code",
   "execution_count": 12,
   "id": "68f35097-3e95-41d1-97aa-4c62652a9f6e",
   "metadata": {},
   "outputs": [
    {
     "name": "stdout",
     "output_type": "stream",
     "text": [
      "(19500, 10)\n"
     ]
    }
   ],
   "source": [
    "# Output layer\n",
    "logits_layer = tf.keras.layers.Dense(\n",
    "    units=10,\n",
    "    activation=None,  # No activation function\n",
    "    kernel_initializer=tf.keras.initializers.VarianceScaling(scale=1, seed=0),\n",
    "    bias_initializer=tf.zeros_initializer(),\n",
    "    name=\"dense\",\n",
    ")\n",
    "logits_output = logits_layer(flat_output)\n",
    "\n",
    "print(logits_output.shape)"
   ]
  },
  {
   "cell_type": "markdown",
   "id": "ec3104ae-63b0-477d-8703-9d7baf7e501f",
   "metadata": {},
   "source": [
    "#### Loss function and training operations\n",
    "Finally, let’s define the loss function and the training operations. This time, we will use the Adam optimizer. Adam is a very popular algorithm that was introduced in 2015. It’s now one of the default choices to optimize neural networks. We won’t go into the details of how the algorithm works, but one of the key differences with stochastic gradient descent (SGD) is that it maintains a different learning rate for each parameter in the network.\n",
    "\n",
    "Adam optimizer has several parameters, but we will only adjust the principal learning rate. We will use the default learning rate of 0.001 from the documentation.\n",
    "\n"
   ]
  },
  {
   "cell_type": "code",
   "execution_count": 13,
   "id": "9018d8e5-11b6-4e52-b91b-a569321c7356",
   "metadata": {},
   "outputs": [],
   "source": [
    "# Define the optimizer\n",
    "optimizer = tf.keras.optimizers.Adam(learning_rate=0.001)\n",
    "\n",
    "# Define functions used to train the graph\n",
    "\n",
    "# Compute the logits\n",
    "@tf.function\n",
    "def compute_logits(x):\n",
    "    conv_output = conv_layer(x)\n",
    "    pool_output = pool_layer(conv_output)\n",
    "    conv_output2 = conv_layer2(pool_output)\n",
    "    pool_output2 = pool_layer(conv_output2)\n",
    "    flat_output = flat_layer(pool_output2)\n",
    "    logits_output = logits_layer(flat_output)\n",
    "    return logits_output\n",
    "\n",
    "\n",
    "# Compute the loss\n",
    "@tf.function\n",
    "def compute_loss(y, logits):\n",
    "    ce = tf.nn.sparse_softmax_cross_entropy_with_logits(labels=y, logits=logits)\n",
    "    mean_ce = tf.reduce_mean(ce)\n",
    "    return mean_ce\n",
    "\n",
    "\n",
    "# Compute the accuracy\n",
    "@tf.function\n",
    "def compute_accuracy(y, logits):\n",
    "    predictions = tf.argmax(logits, axis=1, output_type=tf.int32)\n",
    "    is_correct = tf.equal(y, predictions)\n",
    "    acc = tf.reduce_mean(tf.cast(is_correct, dtype=tf.float32))\n",
    "    return acc\n",
    "\n",
    "\n",
    "# Train the model (optimization procedure)\n",
    "@tf.function\n",
    "def train(x, y):\n",
    "    with tf.GradientTape() as tape:\n",
    "        logits = compute_logits(x)\n",
    "        loss = compute_loss(y, logits)\n",
    "    # Concatenate the trainable variables in one list using the '+' operation on lists\n",
    "    variables = (\n",
    "        conv_layer.trainable_variables\n",
    "        + conv_layer2.trainable_variables\n",
    "        + logits_layer.trainable_variables\n",
    "    )\n",
    "    optimizer.minimize(loss=loss, var_list=variables, tape=tape)\n",
    "    return logits, loss"
   ]
  },
  {
   "cell_type": "markdown",
   "id": "c06b86f5-c293-4286-9f89-87c2789b9319",
   "metadata": {},
   "source": [
    "The main difference from the previous unit is in the compute_logits() function where we are now using the layers created above to build our convolutional neural network."
   ]
  },
  {
   "cell_type": "markdown",
   "id": "904b1e22-57c4-4287-aea3-65bb8ecf50ce",
   "metadata": {},
   "source": [
    "### Train network\n",
    "Let’s train our network. We will use the random batch generator from the previous unit."
   ]
  },
  {
   "cell_type": "code",
   "execution_count": 14,
   "id": "fe95977d-6458-4f3f-b2e4-bb3a79943a78",
   "metadata": {},
   "outputs": [],
   "source": [
    "# Batch generator\n",
    "def get_batches(X, y, batch_size):\n",
    "    # Shuffle X,y\n",
    "    shuffled_idx = np.arange(len(y))  # 1,2,...,n\n",
    "    np.random.shuffle(shuffled_idx)\n",
    "\n",
    "    # Enumerate indexes by steps of batch_size\n",
    "    # i: 0, b, 2b, 3b, 4b, .. where b is the batch size\n",
    "    for i in range(0, len(y), batch_size):\n",
    "        # Batch indexes\n",
    "        batch_idx = shuffled_idx[i : i + batch_size]\n",
    "        yield X[batch_idx], y[batch_idx]"
   ]
  },
  {
   "cell_type": "markdown",
   "id": "8f4d9382-19d3-4610-a5b7-07ad1eb551ba",
   "metadata": {},
   "source": [
    "We can now train our network for ten epochs using small batches of data."
   ]
  },
  {
   "cell_type": "code",
   "execution_count": 15,
   "id": "22aee99c-bb43-4edb-9871-b9e40f648d75",
   "metadata": {},
   "outputs": [
    {
     "name": "stdout",
     "output_type": "stream",
     "text": [
      "Epoch 1 - valid: 0.922 train: 0.752 (mean)\n",
      "Epoch 2 - valid: 0.956 train: 0.937 (mean)\n",
      "Epoch 3 - valid: 0.962 train: 0.952 (mean)\n",
      "Epoch 4 - valid: 0.968 train: 0.960 (mean)\n",
      "Epoch 5 - valid: 0.972 train: 0.967 (mean)\n",
      "Epoch 6 - valid: 0.970 train: 0.970 (mean)\n",
      "Epoch 7 - valid: 0.976 train: 0.974 (mean)\n",
      "Epoch 8 - valid: 0.976 train: 0.975 (mean)\n",
      "Epoch 9 - valid: 0.974 train: 0.976 (mean)\n",
      "Epoch 10 - valid: 0.982 train: 0.980 (mean)\n"
     ]
    }
   ],
   "source": [
    "# Validation accuracy\n",
    "valid_acc_values = []\n",
    "\n",
    "# Set seed\n",
    "np.random.seed(0)\n",
    "\n",
    "# Train several epochs\n",
    "for epoch in range(10):\n",
    "    # Accuracy values (train) after each batch\n",
    "    batch_acc = []\n",
    "\n",
    "    # Get batches of data\n",
    "    for X_batch, y_batch in get_batches(X_train, y_train, 64):\n",
    "        # Run training\n",
    "        batch_logits, _ = train(X_batch, y_batch)\n",
    "\n",
    "        # Evaluate training accuracy (on current batch)\n",
    "        acc = compute_accuracy(y_batch, batch_logits)\n",
    "        batch_acc.append(acc)\n",
    "\n",
    "    # Evaluate validation accuracy (on the whole data)\n",
    "    valid_logits = compute_logits(X_valid)\n",
    "    valid_acc = compute_accuracy(y_valid, valid_logits)\n",
    "    valid_acc_values.append(valid_acc)\n",
    "\n",
    "    # Print progress\n",
    "    print(\n",
    "        \"Epoch {} - valid: {:.3f} train: {:.3f} (mean)\".format(\n",
    "            epoch + 1, valid_acc, np.mean(batch_acc)\n",
    "        )\n",
    "    )\n",
    "\n",
    "# Get 1st conv. layer kernels\n",
    "kernels = conv_layer.kernel"
   ]
  },
  {
   "cell_type": "markdown",
   "id": "0b2c86dd-8eb6-4a10-a2da-ad3f8be98c6c",
   "metadata": {},
   "source": [
    "In this code, we run the training operation and save the accuracy on each batch of data. After each epoch, we evaluate the network on the validation set and compare its validation accuracy to the mean of the train accuracy values. In our case, the train and validation accuracy values are close to each other which is a good sign that the network is not overfitting. At the end of the training process, we save the weights of the kernels from the first convolutional layer in a kernels variable to visualize them.\n",
    "\n",
    "But first, let’s plot the validation accuracy values."
   ]
  },
  {
   "cell_type": "code",
   "execution_count": 16,
   "id": "933e8e0e-33a5-415f-8748-97dd24d4e99b",
   "metadata": {},
   "outputs": [
    {
     "data": {
      "image/png": "[encoded data removed]",
      "text/plain": [
       "<Figure size 432x288 with 1 Axes>"
      ]
     },
     "metadata": {
      "needs_background": "light"
     },
     "output_type": "display_data"
    }
   ],
   "source": [
    "%matplotlib inline\n",
    "import matplotlib.pyplot as plt\n",
    "\n",
    "# Plot accuracy values\n",
    "plt.plot(valid_acc_values)\n",
    "plt.title(\n",
    "    \"Validation accuracy: {:.3f} (mean last 3)\".format(\n",
    "        np.mean(valid_acc_values[-3:])  # Last three values\n",
    "    )\n",
    ")\n",
    "plt.xlabel(\"epoch\")\n",
    "plt.ylabel(\"accuracy\")\n",
    "plt.show()"
   ]
  },
  {
   "cell_type": "markdown",
   "id": "52ea5a68-bc4a-4d15-9c50-c90a62e0531d",
   "metadata": {},
   "source": [
    "We get a final validation accuracy around 98%.\n",
    "\n",
    "### Plot filters\n",
    "Let’s visualize the 16 kernels from the first layer. To achieve this, we need to extract the 5x5 kernel weights from the kernels variable which is an array of shape (5, 5, 1, 16)."
   ]
  },
  {
   "cell_type": "code",
   "execution_count": 17,
   "id": "17d88657-2a3a-4b83-9178-0cd7fddc332b",
   "metadata": {},
   "outputs": [
    {
     "data": {
      "image/png": "[encoded data removed]",
      "text/plain": [
       "<Figure size 576x576 with 16 Axes>"
      ]
     },
     "metadata": {
      "needs_background": "light"
     },
     "output_type": "display_data"
    }
   ],
   "source": [
    "# Create figure with subplots\n",
    "fig, axes = plt.subplots(nrows=4, ncols=4, figsize=(8, 8))\n",
    "\n",
    "# Plot the 16 kernels from the first convolutional layer\n",
    "for i, axis in enumerate(axes.flatten()):\n",
    "    # Get i-th kernel\n",
    "    kernel = kernels[:, :, :, i].numpy()\n",
    "\n",
    "    # Kernels are 5x5x1 (height, width, channels)\n",
    "    # Remove last dimension\n",
    "    kernel = kernel[:, :, 0]  # (5, 5) kernel\n",
    "\n",
    "    # Plot kernel with imshow()\n",
    "    axis.set_title(\"kernel {}\".format(i + 1))\n",
    "    axis.imshow(kernel, cmap=plt.cm.gray_r)\n",
    "    axis.get_xaxis().set_visible(False)  # disable x-axis\n",
    "    axis.get_yaxis().set_visible(False)  # disable y-axis\n",
    "\n",
    "plt.show()\n"
   ]
  },
  {
   "cell_type": "code",
   "execution_count": null,
   "id": "f60a6e96-a418-4646-ae86-f6fd2c1e990e",
   "metadata": {},
   "outputs": [],
   "source": []
  }
 ],
 "metadata": {
  "kernelspec": {
   "display_name": "Python [conda env:adsml] *",
   "language": "python",
   "name": "conda-env-adsml-py"
  },
  "language_info": {
   "codemirror_mode": {
    "name": "ipython",
    "version": 3
   },
   "file_extension": ".py",
   "mimetype": "text/x-python",
   "name": "python",
   "nbconvert_exporter": "python",
   "pygments_lexer": "ipython3",
   "version": "3.9.7"
  }
 },
 "nbformat": 4,
 "nbformat_minor": 5
}
