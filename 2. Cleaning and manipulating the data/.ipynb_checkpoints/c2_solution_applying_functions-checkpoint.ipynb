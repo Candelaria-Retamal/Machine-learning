{
 "cells": [
  {
   "cell_type": "markdown",
   "metadata": {},
   "source": [
    "# Cleaning the data\n",
    "## Exercise: Applying functions to dataframes"
   ]
  },
  {
   "cell_type": "markdown",
   "metadata": {},
   "source": [
    "Solution\n",
    "---\n",
    "\n",
    "> **Exercises**: \n",
    ">\n",
    "> 1) Create a new column called Manufacturer which takes the entries in the column `mfr` and maps them to the full name as follows:\n",
    ">\n",
    "> * A = American Home Food Products;\n",
    "> * G = General Mills\n",
    "> * K = Kelloggs\n",
    "> * N = Nabisco\n",
    "> * P = Post\n",
    "> * Q = Quaker Oats\n",
    "> * R = Ralston Purina\n",
    ">\n",
    "> 2) Calories can be converted to kilojoules using the formula: 1 calorie = 4.184 kilojoules. Find the amount of kilojoules per serving for each cereal. Store the results in a new column.\n",
    ">\n",
    "> 3) For each numerical column, find which cereal has the maximum value in that column."
   ]
  },
  {
   "cell_type": "code",
   "execution_count": null,
   "metadata": {},
   "outputs": [],
   "source": [
    "# Import libraries\n",
    "\n",
    "import pandas as pd\n",
    "import numpy as np"
   ]
  },
  {
   "cell_type": "code",
   "execution_count": null,
   "metadata": {},
   "outputs": [],
   "source": [
    "# Load the data from 'cereal.csv' file\n",
    "\n",
    "df = pd.read_csv('cereal.csv')"
   ]
  },
  {
   "cell_type": "code",
   "execution_count": null,
   "metadata": {},
   "outputs": [],
   "source": [
    "# Show top entries\n",
    "\n",
    "df.head()"
   ]
  },
  {
   "cell_type": "markdown",
   "metadata": {},
   "source": [
    "## Exercise 1 solution\n",
    "\n",
    "In the first exercise, we take the column `mfr`, which has a letter for each manufacturer and map this letter to the full manufacturer name. \n",
    "\n",
    "We will use the `map` function to do this and provide a dictionary; each entry in the column `mfr` with be substituted by the corresponding manufacturer's name. We also store the result in a new column labeled 'Manufacturer'."
   ]
  },
  {
   "cell_type": "code",
   "execution_count": null,
   "metadata": {},
   "outputs": [],
   "source": [
    "# Map entries in 'mfr' to full manufacturer name\n",
    "# Store result in new column 'Manufacturer'\n",
    "\n",
    "df['Manufacturer'] = df['mfr'].map({\n",
    "    'A': 'American Home Food Products',\n",
    "    'G': 'Gneral Mills',\n",
    "    'K': 'Kellogs',\n",
    "    'N': 'Mabisco',\n",
    "    'P': 'Post',\n",
    "    'Q': 'Quaker Oats',\n",
    "    'R': 'Ralston Purina'\n",
    "})\n",
    "\n",
    "# Show top entries\n",
    "\n",
    "df.head()"
   ]
  },
  {
   "cell_type": "markdown",
   "metadata": {},
   "source": [
    "## Exercise 2 solution\n",
    "\n",
    "In the second exercise, we want to create a new column to store the energy in kilojoules for each cereal.\n",
    "\n",
    "We will start by writing a function called`caltokj` to convert calories to kilojoules."
   ]
  },
  {
   "cell_type": "code",
   "execution_count": null,
   "metadata": {},
   "outputs": [],
   "source": [
    "# Define function to convert calories to kilojoules\n",
    "\n",
    "def caltokj(x):\n",
    "    \n",
    "    return x*4.184"
   ]
  },
  {
   "cell_type": "markdown",
   "metadata": {},
   "source": [
    "Next, we apply the `caltokj` function to each entry of the column `calories` and store the result in a new column labeled `kilojoules`."
   ]
  },
  {
   "cell_type": "code",
   "execution_count": null,
   "metadata": {},
   "outputs": [],
   "source": [
    "# Apply 'caltokj' function to each entry of column 'calories'\n",
    "# Store result in new column 'kilojoules'\n",
    "\n",
    "df['kilojoules'] = df['calories'].apply(caltokj)\n",
    "\n",
    "# Show top entries\n",
    "df.head()"
   ]
  },
  {
   "cell_type": "markdown",
   "metadata": {},
   "source": [
    "We see that the `caltokj` function was applied to each entry of the column `calories`. The result was stored in a new column labeled `kilojoules`."
   ]
  },
  {
   "cell_type": "markdown",
   "metadata": {},
   "source": [
    "## Exercise 3 solution\n",
    "\n",
    "In the last exercise, we want to obtain the cereal with the maximum value in each numeric column.\n",
    "\n",
    "We will first create a new, smaller dataframe to contain only the numeric columns. However, before that, we should change the index of the dataframe to the `name` column. "
   ]
  },
  {
   "cell_type": "code",
   "execution_count": null,
   "metadata": {},
   "outputs": [],
   "source": [
    "# Change the index to the 'name' column\n",
    "df.set_index(keys = 'name', # specify which column for the index\n",
    "             inplace=True   # apply changes to the original df\n",
    "            )\n",
    "\n",
    "# Show top entries\n",
    "df.head()"
   ]
  },
  {
   "cell_type": "markdown",
   "metadata": {},
   "source": [
    "The index of the dataframe is now given by the cereal name. Below, we create a new dataframe to contain the numeric columns using the `select_dtypes` function."
   ]
  },
  {
   "cell_type": "code",
   "execution_count": null,
   "metadata": {},
   "outputs": [],
   "source": [
    "# Create new dataframe with numeric columns\n",
    "df_num = df.select_dtypes(include = [np.number])\n",
    "\n",
    "# Show top entries\n",
    "df_num.head()"
   ]
  },
  {
   "cell_type": "markdown",
   "metadata": {},
   "source": [
    "Now, we will apply the pandas `Series.idxmax` function to each column of `df_num`. `Series.idxmax` returns the index of the row containing the maximum value per column. Since we already set the index of the dataframe equal to the `name` column, this will return the cereal name, which is what we want! We don't use the `max` function because that would return the maximum value in each column instead of the index."
   ]
  },
  {
   "cell_type": "code",
   "execution_count": null,
   "metadata": {},
   "outputs": [],
   "source": [
    "df_num.apply(pd.Series.idxmax)"
   ]
  }
 ],
 "metadata": {
  "kernelspec": {
   "display_name": "Python 3 (ipykernel)",
   "language": "python",
   "name": "python3"
  },
  "language_info": {
   "codemirror_mode": {
    "name": "ipython",
    "version": 3
   },
   "file_extension": ".py",
   "mimetype": "text/x-python",
   "name": "python",
   "nbconvert_exporter": "python",
   "pygments_lexer": "ipython3",
   "version": "3.9.7"
  }
 },
 "nbformat": 4,
 "nbformat_minor": 4
}
