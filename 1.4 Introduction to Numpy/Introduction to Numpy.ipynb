{
 "cells": [
  {
   "cell_type": "markdown",
   "id": "ca19d098-ba43-4bda-89be-46ea6ddabdf0",
   "metadata": {},
   "source": [
    "# An introduction to Numpy\n",
    "###### **11.01.2022**"
   ]
  },
  {
   "cell_type": "code",
   "execution_count": 3,
   "id": "c32d36d1-0bf7-47e0-a32b-935dab20f00f",
   "metadata": {},
   "outputs": [
    {
     "data": {
      "text/plain": [
       "(3,)"
      ]
     },
     "execution_count": 3,
     "metadata": {},
     "output_type": "execute_result"
    }
   ],
   "source": [
    "import numpy as np\n",
    "\n",
    "a1= np.array([1, 2, 3])\n",
    "a1\n",
    "a1.ndim\n",
    "a1.shape"
   ]
  },
  {
   "cell_type": "code",
   "execution_count": 4,
   "id": "8e2bb4b0-b67e-4fce-95c4-316b7a5b3858",
   "metadata": {},
   "outputs": [
    {
     "data": {
      "text/plain": [
       "(2, 3)"
      ]
     },
     "execution_count": 4,
     "metadata": {},
     "output_type": "execute_result"
    }
   ],
   "source": [
    "a2= np.array([[1, 2, 3], [3, 4, 5]])\n",
    "a2\n",
    "a2.ndim\n",
    "a2.shape"
   ]
  },
  {
   "cell_type": "code",
   "execution_count": 13,
   "id": "79c911d3-1dec-41c8-a57d-044d00c2e8df",
   "metadata": {},
   "outputs": [
    {
     "name": "stdout",
     "output_type": "stream",
     "text": [
      "[[1 2 3]\n",
      " [3 4 5]\n",
      " [3 4 5]\n",
      " [3 4 5]]\n"
     ]
    },
    {
     "data": {
      "text/plain": [
       "(4, 3)"
      ]
     },
     "execution_count": 13,
     "metadata": {},
     "output_type": "execute_result"
    }
   ],
   "source": [
    "a4= np.array([[1, 2, 3], [3, 4, 5], [3, 4, 5], [3, 4, 5]])\n",
    "print(a4)\n",
    "a4.ndim\n",
    "a4.shape"
   ]
  },
  {
   "cell_type": "markdown",
   "id": "0ccf0e49-8864-4a61-bff0-bfbb35b93c69",
   "metadata": {},
   "source": [
    "The *ndim* command gives information about the dimensions of the array. If an array can be defined by an only position in space (list), the dimension is 1 and its shape may be defined by an only entry in the *shape* command. In the other hand, if the array can be defined by two coordinates (as any matrix that has a set of rows and a set of columns). Then the ndim will be 2, and the shape will give information of the **number of rows | axis=0** and the **number of columns | axis =1**."
   ]
  },
  {
   "cell_type": "code",
   "execution_count": 12,
   "id": "da15470c-7474-422f-93cc-e0cd93fd705f",
   "metadata": {},
   "outputs": [
    {
     "data": {
      "text/plain": [
       "array([ 0,  1,  2,  3,  4,  5,  6,  7,  8,  9, 10, 11, 12, 13, 14])"
      ]
     },
     "execution_count": 12,
     "metadata": {},
     "output_type": "execute_result"
    }
   ],
   "source": [
    "a5 = np.arange(0, 15)\n",
    "a5"
   ]
  },
  {
   "cell_type": "markdown",
   "id": "0e5b65f9-888a-4706-98d1-738bff557cc9",
   "metadata": {},
   "source": [
    "if we wanted to create an array with a sequence of numbers we could use the function arange() as shown in the first line. In the other hand, if we want to create an arrange in a sequence of numbers in step of size 2, the secon line must be checked.\n",
    "\n",
    "\n"
   ]
  },
  {
   "cell_type": "code",
   "execution_count": 7,
   "id": "8dd392a4-b7ea-4efb-9445-af775987f0b2",
   "metadata": {},
   "outputs": [
    {
     "data": {
      "text/plain": [
       "array([  0.,  50., 100.])"
      ]
     },
     "execution_count": 7,
     "metadata": {},
     "output_type": "execute_result"
    }
   ],
   "source": [
    "a7= np.linspace(0, 100, 3)\n",
    "a7"
   ]
  },
  {
   "cell_type": "markdown",
   "id": "1bb0342a-7c77-4a9e-bb33-e84cf36a88b0",
   "metadata": {},
   "source": [
    "In the case in wich we want to specify the number of points needed in the spacing, but we dont know the exact size of the steps we use linspace. The points will be generated so that they are equally spaced as in the example above. Additionally, we can exclude the last point in the linspace using the following command."
   ]
  },
  {
   "cell_type": "code",
   "execution_count": 8,
   "id": "7614bb9c-b3c1-4977-b3ee-37c49d07e167",
   "metadata": {},
   "outputs": [
    {
     "data": {
      "text/plain": [
       "array([ 0.        , 33.33333333, 66.66666667])"
      ]
     },
     "execution_count": 8,
     "metadata": {},
     "output_type": "execute_result"
    }
   ],
   "source": [
    "np.linspace(0, 100, 3, endpoint=False)"
   ]
  },
  {
   "cell_type": "code",
   "execution_count": 9,
   "id": "5a6a9bd5-d987-409a-a985-a036b298f606",
   "metadata": {},
   "outputs": [
    {
     "data": {
      "text/plain": [
       "array(11)"
      ]
     },
     "execution_count": 9,
     "metadata": {},
     "output_type": "execute_result"
    }
   ],
   "source": [
    "x=np.array(11)\n",
    "x"
   ]
  },
  {
   "cell_type": "code",
   "execution_count": 10,
   "id": "e5adeeef-f8c9-4eb9-aed5-acff6cc03ab6",
   "metadata": {},
   "outputs": [
    {
     "data": {
      "text/plain": [
       "()"
      ]
     },
     "execution_count": 10,
     "metadata": {},
     "output_type": "execute_result"
    }
   ],
   "source": [
    "x=np.array(11)\n",
    "x.shape"
   ]
  },
  {
   "cell_type": "code",
   "execution_count": 11,
   "id": "55fd3a29-cd87-4772-9da6-086266848d4c",
   "metadata": {},
   "outputs": [
    {
     "data": {
      "text/plain": [
       "dtype('<U11')"
      ]
     },
     "execution_count": 11,
     "metadata": {},
     "output_type": "execute_result"
    }
   ],
   "source": [
    "x=np.array([1,\"2\",3])\n",
    "x.dtype"
   ]
  }
 ],
 "metadata": {
  "kernelspec": {
   "display_name": "Python 3 (ipykernel)",
   "language": "python",
   "name": "python3"
  },
  "language_info": {
   "codemirror_mode": {
    "name": "ipython",
    "version": 3
   },
   "file_extension": ".py",
   "mimetype": "text/x-python",
   "name": "python",
   "nbconvert_exporter": "python",
   "pygments_lexer": "ipython3",
   "version": "3.9.7"
  }
 },
 "nbformat": 4,
 "nbformat_minor": 5
}
