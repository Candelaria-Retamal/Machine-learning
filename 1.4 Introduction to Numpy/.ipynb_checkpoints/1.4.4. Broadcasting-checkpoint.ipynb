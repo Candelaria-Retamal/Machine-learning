{
 "cells": [
  {
   "cell_type": "code",
   "execution_count": 4,
   "id": "61b76e13-7f80-4ad4-9d74-e1657861e0b1",
   "metadata": {},
   "outputs": [
    {
     "name": "stdout",
     "output_type": "stream",
     "text": [
      "(10,)\n"
     ]
    }
   ],
   "source": [
    "import numpy as np\n",
    "dist_to_origin = np.array([0, 1498, 1063, 1968, 1498, 1758, 1469, 1472, 2230, 2391])\n",
    "\n",
    "t_dist_to_origin = dist_to_origin.reshape(10,1)"
   ]
  },
  {
   "cell_type": "code",
   "execution_count": 13,
   "id": "df800149-648e-4e5a-8227-f0f76ecd42d5",
   "metadata": {},
   "outputs": [],
   "source": [
    "distances=np.abs(dist_to_origin-t_dist_to_origin)"
   ]
  },
  {
   "cell_type": "code",
   "execution_count": 14,
   "id": "81fe2ab1-befb-41ea-8f84-3c842093760f",
   "metadata": {},
   "outputs": [
    {
     "data": {
      "text/plain": [
       "array([[   0, 1498, 1063, 1968, 1498, 1758, 1469, 1472, 2230, 2391],\n",
       "       [1498,    0,  435,  470,    0,  260,   29,   26,  732,  893],\n",
       "       [1063,  435,    0,  905,  435,  695,  406,  409, 1167, 1328],\n",
       "       [1968,  470,  905,    0,  470,  210,  499,  496,  262,  423],\n",
       "       [1498,    0,  435,  470,    0,  260,   29,   26,  732,  893],\n",
       "       [1758,  260,  695,  210,  260,    0,  289,  286,  472,  633],\n",
       "       [1469,   29,  406,  499,   29,  289,    0,    3,  761,  922],\n",
       "       [1472,   26,  409,  496,   26,  286,    3,    0,  758,  919],\n",
       "       [2230,  732, 1167,  262,  732,  472,  761,  758,    0,  161],\n",
       "       [2391,  893, 1328,  423,  893,  633,  922,  919,  161,    0]])"
      ]
     },
     "execution_count": 14,
     "metadata": {},
     "output_type": "execute_result"
    }
   ],
   "source": [
    "distances"
   ]
  },
  {
   "cell_type": "code",
   "execution_count": null,
   "id": "8422fe02-2690-4558-abdb-0fe1c9b4a394",
   "metadata": {},
   "outputs": [],
   "source": []
  }
 ],
 "metadata": {
  "kernelspec": {
   "display_name": "Python 3 (ipykernel)",
   "language": "python",
   "name": "python3"
  },
  "language_info": {
   "codemirror_mode": {
    "name": "ipython",
    "version": 3
   },
   "file_extension": ".py",
   "mimetype": "text/x-python",
   "name": "python",
   "nbconvert_exporter": "python",
   "pygments_lexer": "ipython3",
   "version": "3.9.7"
  }
 },
 "nbformat": 4,
 "nbformat_minor": 5
}
