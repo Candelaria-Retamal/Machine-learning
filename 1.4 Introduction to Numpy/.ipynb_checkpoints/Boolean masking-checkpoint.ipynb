{
 "cells": [
  {
   "cell_type": "markdown",
   "id": "67fe6f58-e068-4186-868d-e9a133f45dae",
   "metadata": {},
   "source": [
    "# Boolean Masking of Arrays\n",
    "###### **11.01.2022**"
   ]
  },
  {
   "cell_type": "markdown",
   "id": "5e2efca5-0a5a-4740-aa5b-855f9844e527",
   "metadata": {},
   "source": [
    "Imagine that we have a dataset stored in an array, and we want to set all values that are above a certain cutoff to zero. How would we go about doing this? "
   ]
  },
  {
   "cell_type": "code",
   "execution_count": 4,
   "id": "884214b4-8805-4556-a83d-7086861b30bd",
   "metadata": {},
   "outputs": [
    {
     "data": {
      "text/plain": [
       "array([[0, 1, 2],\n",
       "       [3, 4, 5],\n",
       "       [6, 7, 8],\n",
       "       [0, 0, 0]])"
      ]
     },
     "execution_count": 4,
     "metadata": {},
     "output_type": "execute_result"
    }
   ],
   "source": [
    "import numpy as np\n",
    "a = np.reshape(np.arange(12), (4, 3))\n",
    "a > 8\n",
    "# For only extracting the values that match the boolean a>8\n",
    "a[a > 8]\n",
    "# And the values larger than 8 can be directly replaced with the command\n",
    "a[a > 8] = 0\n",
    "a"
   ]
  },
  {
   "cell_type": "code",
   "execution_count": null,
   "id": "32dc5a5d-4ef3-4d77-8a8e-039315ef58db",
   "metadata": {},
   "outputs": [],
   "source": []
  }
 ],
 "metadata": {
  "kernelspec": {
   "display_name": "Python 3 (ipykernel)",
   "language": "python",
   "name": "python3"
  },
  "language_info": {
   "codemirror_mode": {
    "name": "ipython",
    "version": 3
   },
   "file_extension": ".py",
   "mimetype": "text/x-python",
   "name": "python",
   "nbconvert_exporter": "python",
   "pygments_lexer": "ipython3",
   "version": "3.9.7"
  }
 },
 "nbformat": 4,
 "nbformat_minor": 5
}
