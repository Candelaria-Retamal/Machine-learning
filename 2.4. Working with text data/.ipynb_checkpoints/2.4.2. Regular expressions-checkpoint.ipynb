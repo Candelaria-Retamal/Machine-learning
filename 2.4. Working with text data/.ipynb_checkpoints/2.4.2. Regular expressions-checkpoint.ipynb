{
 "cells": [
  {
   "cell_type": "markdown",
   "id": "03efa152-8e9c-4dd4-a22b-af801b32c920",
   "metadata": {},
   "source": [
    "#### Our first examples with metacharacters\n",
    "\n",
    "In order to use regular expressions, we must be familiar with some of the basic patterns called metacharacters. Metacharacters allow us to match more complex things than just specific substrings. Let’s look at an example. Suppose we had the following Series of strings:"
   ]
  },
  {
   "cell_type": "code",
   "execution_count": 1,
   "id": "e2ae0253-880e-4560-8af4-7bf58cde8469",
   "metadata": {},
   "outputs": [],
   "source": [
    "import pandas as pd\n",
    "import numpy as np\n",
    "\n",
    "s = pd.Series(\n",
    "    [\n",
    "        \"0\",\n",
    "        \"John Wood\",\n",
    "        \"Colin Welsh\",\n",
    "        \"my list\",\n",
    "        \"02456\",\n",
    "        np.nan,\n",
    "        \"HELLO WORLD\",\n",
    "        \"water%\",\n",
    "    ]\n",
    ")"
   ]
  },
  {
   "cell_type": "code",
   "execution_count": 2,
   "id": "73cc3f0c-9f9d-4eab-85ee-f4d24b681440",
   "metadata": {},
   "outputs": [
    {
     "data": {
      "text/plain": [
       "0    False\n",
       "1     True\n",
       "2    False\n",
       "3    False\n",
       "4    False\n",
       "5      NaN\n",
       "6    False\n",
       "7    False\n",
       "dtype: object"
      ]
     },
     "execution_count": 2,
     "metadata": {},
     "output_type": "execute_result"
    }
   ],
   "source": [
    "# we want to check whether each entry contains the string ‘John’\n",
    "s.str.contains(\"John\")\n"
   ]
  },
  {
   "cell_type": "code",
   "execution_count": 3,
   "id": "9f97b9a1-8f7c-4e25-99b8-eda2e388b04c",
   "metadata": {},
   "outputs": [
    {
     "data": {
      "text/plain": [
       "0    False\n",
       "1     True\n",
       "2     True\n",
       "3    False\n",
       "4    False\n",
       "5    False\n",
       "6    False\n",
       "7    False\n",
       "dtype: bool"
      ]
     },
     "execution_count": 3,
     "metadata": {},
     "output_type": "execute_result"
    }
   ],
   "source": [
    "#  what if we wanted to check if an entry contains the string ‘John’ or ‘Colin’?\n",
    "s.str.contains(\"John\") | s.str.contains(\"Colin\")"
   ]
  },
  {
   "cell_type": "code",
   "execution_count": 4,
   "id": "d56fabad-6970-4c29-aaa5-6f66c7f523cc",
   "metadata": {},
   "outputs": [
    {
     "data": {
      "text/plain": [
       "0    False\n",
       "1     True\n",
       "2     True\n",
       "3    False\n",
       "4    False\n",
       "5      NaN\n",
       "6    False\n",
       "7    False\n",
       "dtype: object"
      ]
     },
     "execution_count": 4,
     "metadata": {},
     "output_type": "execute_result"
    }
   ],
   "source": [
    "#  We can use the metacharacter |, which acts as the “or” operator.\n",
    "s.str.contains(\"John|Colin\")"
   ]
  },
  {
   "cell_type": "markdown",
   "id": "c43bfe42-00db-4777-a0be-fa2e6fd1b070",
   "metadata": {},
   "source": [
    "Here we are looking for substrings of the type xar, where x can be any character. So, as long as the substring ar is found and there is at least one other character in front of the a, the result will be True."
   ]
  },
  {
   "cell_type": "code",
   "execution_count": 6,
   "id": "368345b6-0fe1-4941-b815-d749de49e550",
   "metadata": {},
   "outputs": [
    {
     "data": {
      "text/plain": [
       "0     True\n",
       "1     True\n",
       "2     True\n",
       "3    False\n",
       "dtype: bool"
      ]
     },
     "execution_count": 6,
     "metadata": {},
     "output_type": "execute_result"
    }
   ],
   "source": [
    "s2 = pd.Series([\"bar\", \"sugar\", \"cartoon\", \"argon\"])\n",
    "s2.str.contains(\".ar\")"
   ]
  },
  {
   "cell_type": "markdown",
   "id": "e81c1fb1-01ca-4c10-a54f-56cf9d21a35d",
   "metadata": {},
   "source": [
    "#### Matching sets of characters\n",
    "\n",
    "Another very common metacharacter is the square brackets []. Inside the brackets, we can specify a set of characters to match. For example:"
   ]
  },
  {
   "cell_type": "code",
   "execution_count": 7,
   "id": "d7b03160-0bc3-4cbb-9728-213440905d24",
   "metadata": {},
   "outputs": [
    {
     "data": {
      "text/plain": [
       "0     True\n",
       "1    False\n",
       "2     True\n",
       "3    False\n",
       "dtype: bool"
      ]
     },
     "execution_count": 7,
     "metadata": {},
     "output_type": "execute_result"
    }
   ],
   "source": [
    "s2.str.contains(\"[bc]ar\")"
   ]
  },
  {
   "cell_type": "markdown",
   "id": "3ad4dc90-2def-4ef3-9fd9-c27cb142fbcd",
   "metadata": {},
   "source": [
    "* [a-z] - match any lowercase letter\n",
    "* [A-Z] - match any uppercase letter\n",
    "* [0-9] - match any digit\n",
    "* [a-zA-Z0-9] - match any letter or digit\n",
    "we can search for all strings containing a digit in the string s"
   ]
  },
  {
   "cell_type": "code",
   "execution_count": 8,
   "id": "f64a0796-99e2-4fc0-800c-ee6ece719d49",
   "metadata": {},
   "outputs": [
    {
     "data": {
      "text/plain": [
       "0        0\n",
       "4    02456\n",
       "dtype: object"
      ]
     },
     "execution_count": 8,
     "metadata": {},
     "output_type": "execute_result"
    }
   ],
   "source": [
    "s[s.str.contains(\"[0-9]\", na=False)]"
   ]
  },
  {
   "cell_type": "markdown",
   "id": "a6569a7a-1e61-4b08-b8dc-16cd709b2a32",
   "metadata": {},
   "source": [
    "Adding the ^ symbol inside the square brackets matches any characters NOT in the set. So we have"
   ]
  },
  {
   "cell_type": "markdown",
   "id": "1b56b91c-7a71-4b50-bd5d-0ad041965beb",
   "metadata": {},
   "source": [
    "* [^a-z] - match any character that is not a lowercase letter\n",
    "* [^A-Z] - match any character that is not a uppercase letter\n",
    "* [^0-9] - match any character that is not a digit\n",
    "* [^a-zA-Z0-9] - match any character that is not a letter or digit\n",
    "\n",
    "On top of this, we can use certain shorthand for specifying common sequences:\n",
    "\n",
    "* \\d - match any digit\n",
    "* \\D - match any non-digit\n",
    "* \\w - match any alphanumeric character (letter or digit) or an underscore (_)\n",
    "* \\W - match any character that is not alphanumeric or an underscore as described above\n",
    "* \\s - match whitespace (spaces, tabs, newlines, etc.)\n",
    "* \\S - match non-whitespace\n",
    "\n",
    "Here is then another way to find all strings containing a digit."
   ]
  },
  {
   "cell_type": "code",
   "execution_count": 9,
   "id": "7bac3e21-644d-45f7-822f-a35631cb3eea",
   "metadata": {},
   "outputs": [
    {
     "data": {
      "text/plain": [
       "0        0\n",
       "4    02456\n",
       "dtype: object"
      ]
     },
     "execution_count": 9,
     "metadata": {},
     "output_type": "execute_result"
    }
   ],
   "source": [
    "s[s.str.contains(\"[\\d]\", na=False)]"
   ]
  },
  {
   "cell_type": "markdown",
   "id": "37132995-93f2-4538-8ebe-856cfe3a9c35",
   "metadata": {},
   "source": [
    "#### Matching at the start and end of strings\n",
    "\n",
    "We can also specify the location of the string where we want to match by using:\n",
    "\n",
    "* ^ - match at the beginning of a string\n",
    "* $ - searches for matches at the end of a string\n",
    "We want to search for strings that start with the letter 'b' or 'c' in s2. Then we can say:\n",
    "\n"
   ]
  },
  {
   "cell_type": "code",
   "execution_count": 10,
   "id": "3bc8c4e6-8e1e-4ba6-94b0-7c035c29667c",
   "metadata": {},
   "outputs": [
    {
     "data": {
      "text/plain": [
       "0        bar\n",
       "2    cartoon\n",
       "dtype: object"
      ]
     },
     "execution_count": 10,
     "metadata": {},
     "output_type": "execute_result"
    }
   ],
   "source": [
    "s2[s2.str.contains(\"^[bc]\", na=False)]"
   ]
  },
  {
   "cell_type": "code",
   "execution_count": 11,
   "id": "3163537e-af63-43b5-8378-886cc31ffab4",
   "metadata": {},
   "outputs": [
    {
     "data": {
      "text/plain": [
       "0      bar\n",
       "1    sugar\n",
       "dtype: object"
      ]
     },
     "execution_count": 11,
     "metadata": {},
     "output_type": "execute_result"
    }
   ],
   "source": [
    "s2[s2.str.contains(\"ar$\", na=False)]"
   ]
  },
  {
   "cell_type": "markdown",
   "id": "3c3e2a9d-fd06-41d0-bfbd-0a8167cf2fa4",
   "metadata": {},
   "source": [
    "#### Matching preceding characters\n",
    "\n",
    "Often we want to mention a certain character and then ask to match one or more copies of this character. We can do this using the following metacharacters:\n",
    "\n",
    "* [*] - match zero or more copies of the preceding character\n",
    "* [?] - match zero or 1 copy of the preceding character\n",
    "* [+] - match 1 or more copies of the preceding character\n",
    "Or we can use curly braces to specify how many times we want to match the given character. We have the following choices:\n",
    "\n",
    "* {m} - match the preceding element m times\n",
    "* {m,} - match the preceding element m times or more\n",
    "* {m,n} - match the preceding element between m and n times\n",
    "Let’s look at one other example.\n",
    "\n"
   ]
  },
  {
   "cell_type": "code",
   "execution_count": 14,
   "id": "bd5cc287-c3bf-4012-b27d-00c5a2578e54",
   "metadata": {},
   "outputs": [
    {
     "data": {
      "text/plain": [
       "0    False\n",
       "1    False\n",
       "2     True\n",
       "3    False\n",
       "4     True\n",
       "dtype: bool"
      ]
     },
     "execution_count": 14,
     "metadata": {},
     "output_type": "execute_result"
    }
   ],
   "source": [
    "s3 = pd.Series([\"forest\", \"o\", \"ff\", \"foo\", \"fof\"])\n",
    "s3.str.contains(\"f+o?f+\")"
   ]
  },
  {
   "cell_type": "markdown",
   "id": "03c407d1-868c-47fc-97da-294163221504",
   "metadata": {},
   "source": [
    "This will search for all strings that contain 1 or more f’s, then an optional o, and finally 1 or more f’s. We can see that the third and fifth strings satisfy this pattern, as shown in the output."
   ]
  },
  {
   "cell_type": "markdown",
   "id": "36305244-f86c-4e47-a1d4-a49a00e3c813",
   "metadata": {},
   "source": [
    "#### Grouping\n",
    "\n",
    "Groups are parts of regular expression patterns enclosed in parentheses (e.g. (abc)). We use them to combine smaller regular expressions into larger ones.\n",
    "\n",
    "For example, when used with the str.extract() method, grouping allows extracting captured groups in separate columns in a dataframe. Let’s look at an example."
   ]
  },
  {
   "cell_type": "code",
   "execution_count": 15,
   "id": "d5b44f85-fcea-4dcd-ab3f-bd64dc7ac02e",
   "metadata": {},
   "outputs": [
    {
     "data": {
      "text/html": [
       "<div>\n",
       "<style scoped>\n",
       "    .dataframe tbody tr th:only-of-type {\n",
       "        vertical-align: middle;\n",
       "    }\n",
       "\n",
       "    .dataframe tbody tr th {\n",
       "        vertical-align: top;\n",
       "    }\n",
       "\n",
       "    .dataframe thead th {\n",
       "        text-align: right;\n",
       "    }\n",
       "</style>\n",
       "<table border=\"1\" class=\"dataframe\">\n",
       "  <thead>\n",
       "    <tr style=\"text-align: right;\">\n",
       "      <th></th>\n",
       "      <th>0</th>\n",
       "    </tr>\n",
       "  </thead>\n",
       "  <tbody>\n",
       "    <tr>\n",
       "      <th>0</th>\n",
       "      <td>Monday</td>\n",
       "    </tr>\n",
       "    <tr>\n",
       "      <th>1</th>\n",
       "      <td>Wednesday</td>\n",
       "    </tr>\n",
       "    <tr>\n",
       "      <th>2</th>\n",
       "      <td>Saturday</td>\n",
       "    </tr>\n",
       "  </tbody>\n",
       "</table>\n",
       "</div>"
      ],
      "text/plain": [
       "           0\n",
       "0     Monday\n",
       "1  Wednesday\n",
       "2   Saturday"
      ]
     },
     "execution_count": 15,
     "metadata": {},
     "output_type": "execute_result"
    }
   ],
   "source": [
    "s4 = pd.Series([\"Monday5km\", \"Wednesday10km\", \"Saturday25km\"])\n",
    "# Extract weekday names in a new column\n",
    "s4.str.extract(\"(\\w+day)\", expand=True)"
   ]
  },
  {
   "cell_type": "code",
   "execution_count": 16,
   "id": "69ce19c3-be79-4412-9fca-903496507689",
   "metadata": {},
   "outputs": [
    {
     "data": {
      "text/html": [
       "<div>\n",
       "<style scoped>\n",
       "    .dataframe tbody tr th:only-of-type {\n",
       "        vertical-align: middle;\n",
       "    }\n",
       "\n",
       "    .dataframe tbody tr th {\n",
       "        vertical-align: top;\n",
       "    }\n",
       "\n",
       "    .dataframe thead th {\n",
       "        text-align: right;\n",
       "    }\n",
       "</style>\n",
       "<table border=\"1\" class=\"dataframe\">\n",
       "  <thead>\n",
       "    <tr style=\"text-align: right;\">\n",
       "      <th></th>\n",
       "      <th>0</th>\n",
       "      <th>1</th>\n",
       "    </tr>\n",
       "  </thead>\n",
       "  <tbody>\n",
       "    <tr>\n",
       "      <th>0</th>\n",
       "      <td>Monday</td>\n",
       "      <td>5km</td>\n",
       "    </tr>\n",
       "    <tr>\n",
       "      <th>1</th>\n",
       "      <td>Wednesday</td>\n",
       "      <td>10km</td>\n",
       "    </tr>\n",
       "    <tr>\n",
       "      <th>2</th>\n",
       "      <td>Saturday</td>\n",
       "      <td>25km</td>\n",
       "    </tr>\n",
       "  </tbody>\n",
       "</table>\n",
       "</div>"
      ],
      "text/plain": [
       "           0     1\n",
       "0     Monday   5km\n",
       "1  Wednesday  10km\n",
       "2   Saturday  25km"
      ]
     },
     "execution_count": 16,
     "metadata": {},
     "output_type": "execute_result"
    }
   ],
   "source": [
    "# Extract weekday names and distances in km in separate columns\n",
    "s4.str.extract(\"(\\w+day)(\\d+km)\", expand=True)"
   ]
  },
  {
   "cell_type": "markdown",
   "id": "d9030e79-bb28-4576-9b9c-7f2c09c6cc60",
   "metadata": {},
   "source": [
    "Grouping also means that we can refer to the captured groups. Let’s see this with the example below."
   ]
  },
  {
   "cell_type": "code",
   "execution_count": 17,
   "id": "b637909a-7ab6-410a-93ff-8e34e748e85e",
   "metadata": {},
   "outputs": [
    {
     "data": {
      "text/plain": [
       "'Monday5km'"
      ]
     },
     "execution_count": 17,
     "metadata": {},
     "output_type": "execute_result"
    }
   ],
   "source": [
    "# Define string sample\n",
    "sample = 'Monday5km'\n",
    "sample"
   ]
  },
  {
   "cell_type": "markdown",
   "id": "2960c380-a2fa-455d-be17-d1a89c01a984",
   "metadata": {},
   "source": [
    "We will use the match function from the re library to match groups in the string sample from above. The function groups returns the matched groups in a tuple.\n",
    "\n"
   ]
  },
  {
   "cell_type": "code",
   "execution_count": 18,
   "id": "f4583eb4-7813-477e-9346-b4ee08605eda",
   "metadata": {},
   "outputs": [
    {
     "data": {
      "text/plain": [
       "('Monday', '5km')"
      ]
     },
     "execution_count": 18,
     "metadata": {},
     "output_type": "execute_result"
    }
   ],
   "source": [
    "# Import re library\n",
    "import re\n",
    "\n",
    "# Match groups according to regex pattern\n",
    "m = re.match('(\\w+day)(\\d+km)', # regex pattern\n",
    "             sample              # string sample\n",
    "            )\n",
    "\n",
    "# Show matched groups\n",
    "m.groups()"
   ]
  },
  {
   "cell_type": "code",
   "execution_count": 19,
   "id": "fb424da5-4711-4f68-84d6-30b601f9514f",
   "metadata": {},
   "outputs": [
    {
     "data": {
      "text/plain": [
       "'Monday'"
      ]
     },
     "execution_count": 19,
     "metadata": {},
     "output_type": "execute_result"
    }
   ],
   "source": [
    "# Show first matched group\n",
    "\n",
    "m.groups()[0]"
   ]
  },
  {
   "cell_type": "code",
   "execution_count": 20,
   "id": "4782738b-6ee8-4ba4-8f68-e5896cf27703",
   "metadata": {},
   "outputs": [
    {
     "data": {
      "text/plain": [
       "'5km'"
      ]
     },
     "execution_count": 20,
     "metadata": {},
     "output_type": "execute_result"
    }
   ],
   "source": [
    "# Show second matched group\n",
    "\n",
    "m.groups()[1]"
   ]
  },
  {
   "cell_type": "code",
   "execution_count": 21,
   "id": "56c0f6b3-f13b-4d37-8211-ca9716a69ba1",
   "metadata": {},
   "outputs": [
    {
     "data": {
      "text/plain": [
       "'Mon'"
      ]
     },
     "execution_count": 21,
     "metadata": {},
     "output_type": "execute_result"
    }
   ],
   "source": [
    "m.groups()[0][:3]"
   ]
  },
  {
   "cell_type": "code",
   "execution_count": 22,
   "id": "88bf891c-3002-4d13-9c0c-fc4f64d2ea6c",
   "metadata": {},
   "outputs": [],
   "source": [
    "def f(x):\n",
    "    return x.groups()[0][:3]"
   ]
  },
  {
   "cell_type": "code",
   "execution_count": 23,
   "id": "0e9178a3-3f70-4051-9f5a-da3aa9806592",
   "metadata": {},
   "outputs": [
    {
     "data": {
      "text/plain": [
       "0     Mon5km\n",
       "1    Wed10km\n",
       "2    Sat25km\n",
       "dtype: object"
      ]
     },
     "execution_count": 23,
     "metadata": {},
     "output_type": "execute_result"
    }
   ],
   "source": [
    "s4.str.replace(\"(\\w+day)\",\n",
    "               f,           \n",
    "               regex=True\n",
    "              )"
   ]
  },
  {
   "cell_type": "code",
   "execution_count": null,
   "id": "ecea8f6d-41af-4796-acbd-4e48e29088a1",
   "metadata": {},
   "outputs": [],
   "source": []
  }
 ],
 "metadata": {
  "kernelspec": {
   "display_name": "Python [conda env:adsml] *",
   "language": "python",
   "name": "conda-env-adsml-py"
  },
  "language_info": {
   "codemirror_mode": {
    "name": "ipython",
    "version": 3
   },
   "file_extension": ".py",
   "mimetype": "text/x-python",
   "name": "python",
   "nbconvert_exporter": "python",
   "pygments_lexer": "ipython3",
   "version": "3.9.7"
  }
 },
 "nbformat": 4,
 "nbformat_minor": 5
}
