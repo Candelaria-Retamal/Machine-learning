{
 "cells": [
  {
   "cell_type": "markdown",
   "id": "acb62ed6-7c96-4a00-ac67-e8b84d7f11e9",
   "metadata": {},
   "source": [
    "### Panda's string functions\n",
    "\n",
    "For pandas Series the string functions are accessed using the str attribute. They have the following general form: Series.str.<function/property> with the function names matching the corresponding string functions in Python.\n",
    "\n",
    "Note: The str attribute is not defined for the pandas DataFrame, only for Series. We must apply any string function column-wise.\n",
    "\n",
    "Let’s create an example series and look at a few string functions:"
   ]
  },
  {
   "cell_type": "code",
   "execution_count": 1,
   "id": "10793f5c-b4a3-4abb-8dd7-4e8188496a6b",
   "metadata": {},
   "outputs": [],
   "source": [
    "import pandas as pd\n",
    "import numpy as np\n",
    "\n",
    "s = pd.Series(\n",
    "    [\n",
    "        \"0\",\n",
    "        \"John Wood\",\n",
    "        \"Colin Welsh\",\n",
    "        \"my list\",\n",
    "        \"02456\",\n",
    "        np.nan,\n",
    "        \"HELLO WORLD\",\n",
    "        \"water%\",\n",
    "    ]\n",
    ")"
   ]
  },
  {
   "cell_type": "markdown",
   "id": "20fa58d8-9402-4a35-90ed-945dfb4840f0",
   "metadata": {},
   "source": [
    "Here, we defined a Series of different string objects. If you recall from the first course, the python function str.lower() takes as input a string object and converts it to lowercase. Similarly, the pandas function str.lower() takes as input a Series and converts all strings in this Series to lowercase. Let’s give it a try:"
   ]
  },
  {
   "cell_type": "code",
   "execution_count": 2,
   "id": "39b5554d-0c85-469b-ad79-82f6370b3b3d",
   "metadata": {},
   "outputs": [
    {
     "data": {
      "text/plain": [
       "0              0\n",
       "1      john wood\n",
       "2    colin welsh\n",
       "3        my list\n",
       "4          02456\n",
       "5            NaN\n",
       "6    hello world\n",
       "7         water%\n",
       "dtype: object"
      ]
     },
     "execution_count": 2,
     "metadata": {},
     "output_type": "execute_result"
    }
   ],
   "source": [
    "s.str.lower()"
   ]
  },
  {
   "cell_type": "code",
   "execution_count": 3,
   "id": "8fb3c53f-e3fa-461a-9135-502c5f2d9c5d",
   "metadata": {},
   "outputs": [
    {
     "data": {
      "text/plain": [
       "0              0\n",
       "1      JOHN WOOD\n",
       "2    COLIN WELSH\n",
       "3        MY LIST\n",
       "4          02456\n",
       "5            NaN\n",
       "6    HELLO WORLD\n",
       "7         WATER%\n",
       "dtype: object"
      ]
     },
     "execution_count": 3,
     "metadata": {},
     "output_type": "execute_result"
    }
   ],
   "source": [
    "# The function str.upper() is the opposite of this:\n",
    "s.str.upper()\n"
   ]
  },
  {
   "cell_type": "code",
   "execution_count": 4,
   "id": "89f231c4-9fc0-4969-bb33-b2afb6aa7063",
   "metadata": {},
   "outputs": [
    {
     "data": {
      "text/plain": [
       "0     1.0\n",
       "1     9.0\n",
       "2    11.0\n",
       "3     7.0\n",
       "4     5.0\n",
       "5     NaN\n",
       "6    11.0\n",
       "7     6.0\n",
       "dtype: float64"
      ]
     },
     "execution_count": 4,
     "metadata": {},
     "output_type": "execute_result"
    }
   ],
   "source": [
    "# We can get the length of each string in the Series:\n",
    "s.str.len()"
   ]
  },
  {
   "cell_type": "markdown",
   "id": "3f1b7173-9918-4f95-aa22-ba1a8f80a874",
   "metadata": {},
   "source": [
    "For data cleaning and manipulations, we will be especially interested in splitting, stripping and replacing strings. Let’s give these a try:\n",
    "\n"
   ]
  },
  {
   "cell_type": "code",
   "execution_count": 5,
   "id": "ee1437be-3b43-4633-87bc-3319eed1179d",
   "metadata": {},
   "outputs": [
    {
     "data": {
      "text/plain": [
       "0               [0]\n",
       "1      [John, Wood]\n",
       "2    [Colin, Welsh]\n",
       "3        [my, list]\n",
       "4           [02456]\n",
       "5               NaN\n",
       "6    [HELLO, WORLD]\n",
       "7          [water%]\n",
       "dtype: object"
      ]
     },
     "execution_count": 5,
     "metadata": {},
     "output_type": "execute_result"
    }
   ],
   "source": [
    "s.str.split(\" \")"
   ]
  },
  {
   "cell_type": "markdown",
   "id": "c7d3ba82-368c-4302-b0b7-5ddd7a06a5e8",
   "metadata": {},
   "source": [
    "A nice feature of the str.split() function is that we can choose to have the results returned to us in a DataFrame instead of a Series of lists. We do this by including the expand=True parameter as follows:\n",
    "\n"
   ]
  },
  {
   "cell_type": "code",
   "execution_count": 6,
   "id": "8aa2a44f-5cd3-4b83-af46-2822b2c0f82d",
   "metadata": {},
   "outputs": [
    {
     "data": {
      "text/html": [
       "<div>\n",
       "<style scoped>\n",
       "    .dataframe tbody tr th:only-of-type {\n",
       "        vertical-align: middle;\n",
       "    }\n",
       "\n",
       "    .dataframe tbody tr th {\n",
       "        vertical-align: top;\n",
       "    }\n",
       "\n",
       "    .dataframe thead th {\n",
       "        text-align: right;\n",
       "    }\n",
       "</style>\n",
       "<table border=\"1\" class=\"dataframe\">\n",
       "  <thead>\n",
       "    <tr style=\"text-align: right;\">\n",
       "      <th></th>\n",
       "      <th>0</th>\n",
       "      <th>1</th>\n",
       "    </tr>\n",
       "  </thead>\n",
       "  <tbody>\n",
       "    <tr>\n",
       "      <th>0</th>\n",
       "      <td>0</td>\n",
       "      <td>None</td>\n",
       "    </tr>\n",
       "    <tr>\n",
       "      <th>1</th>\n",
       "      <td>John</td>\n",
       "      <td>Wood</td>\n",
       "    </tr>\n",
       "    <tr>\n",
       "      <th>2</th>\n",
       "      <td>Colin</td>\n",
       "      <td>Welsh</td>\n",
       "    </tr>\n",
       "    <tr>\n",
       "      <th>3</th>\n",
       "      <td>my</td>\n",
       "      <td>list</td>\n",
       "    </tr>\n",
       "    <tr>\n",
       "      <th>4</th>\n",
       "      <td>02456</td>\n",
       "      <td>None</td>\n",
       "    </tr>\n",
       "    <tr>\n",
       "      <th>5</th>\n",
       "      <td>NaN</td>\n",
       "      <td>NaN</td>\n",
       "    </tr>\n",
       "    <tr>\n",
       "      <th>6</th>\n",
       "      <td>HELLO</td>\n",
       "      <td>WORLD</td>\n",
       "    </tr>\n",
       "    <tr>\n",
       "      <th>7</th>\n",
       "      <td>water%</td>\n",
       "      <td>None</td>\n",
       "    </tr>\n",
       "  </tbody>\n",
       "</table>\n",
       "</div>"
      ],
      "text/plain": [
       "        0      1\n",
       "0       0   None\n",
       "1    John   Wood\n",
       "2   Colin  Welsh\n",
       "3      my   list\n",
       "4   02456   None\n",
       "5     NaN    NaN\n",
       "6   HELLO  WORLD\n",
       "7  water%   None"
      ]
     },
     "execution_count": 6,
     "metadata": {},
     "output_type": "execute_result"
    }
   ],
   "source": [
    "substrings = s.str.split(\" \", expand=True)\n",
    "substrings"
   ]
  },
  {
   "cell_type": "markdown",
   "id": "0865bb11-6630-4b58-81a3-bf05894d5e99",
   "metadata": {},
   "source": [
    "Note that the number of columns is determined by the maximum size of the lists. In our case, we had lists of size one and two so the DataFrame has two columns. For strings that were not split pandas filled the second column of the DataFrame contains the entry 'None'. We can now easily access the substring by just indexing the DataFrame. For example"
   ]
  },
  {
   "cell_type": "code",
   "execution_count": 7,
   "id": "77d8d705-9e41-4db2-84e1-5f6774c540b2",
   "metadata": {},
   "outputs": [
    {
     "data": {
      "text/plain": [
       "0     None\n",
       "1     Wood\n",
       "2    Welsh\n",
       "3     list\n",
       "4     None\n",
       "5      NaN\n",
       "6    WORLD\n",
       "7     None\n",
       "Name: 1, dtype: object"
      ]
     },
     "execution_count": 7,
     "metadata": {},
     "output_type": "execute_result"
    }
   ],
   "source": [
    "substrings[1]"
   ]
  },
  {
   "cell_type": "markdown",
   "id": "343c7708-f921-43b8-9f87-f28302e188a4",
   "metadata": {},
   "source": [
    "Let’s now look at replacing a substring. The general syntax of the function is the following"
   ]
  },
  {
   "cell_type": "code",
   "execution_count": 8,
   "id": "a34c724d-1aa1-4f8d-ab0f-6195b8f8973c",
   "metadata": {},
   "outputs": [
    {
     "data": {
      "text/plain": [
       "0              0\n",
       "1      John Wood\n",
       "2    Colin Welsh\n",
       "3        my list\n",
       "4          02456\n",
       "5            NaN\n",
       "6    HELLO WORLD\n",
       "7         water%\n",
       "dtype: object"
      ]
     },
     "execution_count": 8,
     "metadata": {},
     "output_type": "execute_result"
    }
   ],
   "source": [
    "s.str.replace('strA','strB')"
   ]
  },
  {
   "cell_type": "markdown",
   "id": "387c8207-4275-4bab-bccc-a52e0865d316",
   "metadata": {},
   "source": [
    "where 'strA' is the substring we want to replace and 'strB' is what we want to replace it by. Let’s give this a try"
   ]
  },
  {
   "cell_type": "code",
   "execution_count": 10,
   "id": "60144bc9-090e-41e5-af22-0a5332657c23",
   "metadata": {},
   "outputs": [
    {
     "data": {
      "text/plain": [
       "0                 0\n",
       "1         John Wood\n",
       "2       Colin Welsh\n",
       "3           my list\n",
       "4             02456\n",
       "5               NaN\n",
       "6       HELLO WORLD\n",
       "7    water percent \n",
       "dtype: object"
      ]
     },
     "execution_count": 10,
     "metadata": {},
     "output_type": "execute_result"
    }
   ],
   "source": [
    "s.str.replace(\"%\", \" percent \")"
   ]
  },
  {
   "cell_type": "markdown",
   "id": "bd72295e-6e29-4488-974d-d4e383d682ba",
   "metadata": {},
   "source": [
    "If instead we just want to remove a specific substring or character we can use the function str.replace() and choose to replace it with the empty string. For example\n",
    "\n"
   ]
  },
  {
   "cell_type": "code",
   "execution_count": 11,
   "id": "e243bb31-b3af-4c97-a1b6-3d2258ca5057",
   "metadata": {},
   "outputs": [
    {
     "data": {
      "text/plain": [
       "0              0\n",
       "1      John Wood\n",
       "2    Colin Welsh\n",
       "3        my list\n",
       "4          02456\n",
       "5            NaN\n",
       "6    HELLO WORLD\n",
       "7          water\n",
       "dtype: object"
      ]
     },
     "execution_count": 11,
     "metadata": {},
     "output_type": "execute_result"
    }
   ],
   "source": [
    "s.str.replace(\"%\", \"\")"
   ]
  },
  {
   "cell_type": "markdown",
   "id": "0af04eec-84c5-4a7b-91b6-01fc63f20b6e",
   "metadata": {},
   "source": [
    "Another useful function for us will be to index a particular slice of each string. For example suppose we want to get the first two characters of every string. We can do this by using the index directly\n",
    "\n"
   ]
  },
  {
   "cell_type": "code",
   "execution_count": 12,
   "id": "f04819a5-f7e4-490d-bbfe-e750f4660bc3",
   "metadata": {},
   "outputs": [
    {
     "data": {
      "text/plain": [
       "0      0\n",
       "1     Jo\n",
       "2     Co\n",
       "3     my\n",
       "4     02\n",
       "5    NaN\n",
       "6     HE\n",
       "7     wa\n",
       "dtype: object"
      ]
     },
     "execution_count": 12,
     "metadata": {},
     "output_type": "execute_result"
    }
   ],
   "source": [
    "s.str[0:2]"
   ]
  },
  {
   "cell_type": "code",
   "execution_count": 13,
   "id": "9de04bf0-364a-4156-94cf-4daa9cd5d59f",
   "metadata": {},
   "outputs": [
    {
     "data": {
      "text/plain": [
       "0      0\n",
       "1     Jo\n",
       "2     Co\n",
       "3     my\n",
       "4     02\n",
       "5    NaN\n",
       "6     HE\n",
       "7     wa\n",
       "dtype: object"
      ]
     },
     "execution_count": 13,
     "metadata": {},
     "output_type": "execute_result"
    }
   ],
   "source": [
    "# Or we use the str.slice() function\n",
    "\n",
    "s.str.slice(0, 2)"
   ]
  },
  {
   "cell_type": "markdown",
   "id": "82e8cc6a-e5c0-4f39-b252-a62569f025f4",
   "metadata": {},
   "source": [
    "We can even combine the action of slicing and replacing using the str.slice_replace() function. Here we must mention first the slice of the string that we want to be replaced and then what we want it replaced by. The general syntax looks like this\n",
    "\n",
    "str.slice_replace(i,j,'str')\n",
    "\n",
    "This command takes the substring at positions i to j-1 and replaces it with the string 'str'. Let’s give it a try"
   ]
  },
  {
   "cell_type": "code",
   "execution_count": 15,
   "id": "afdb32fa-e4ff-4f73-aa5a-75487f83dada",
   "metadata": {},
   "outputs": [
    {
     "data": {
      "text/plain": [
       "0             ___\n",
       "1      ___hn Wood\n",
       "2    ___lin Welsh\n",
       "3        ___ list\n",
       "4          ___456\n",
       "5             NaN\n",
       "6    ___LLO WORLD\n",
       "7         ___ter%\n",
       "dtype: object"
      ]
     },
     "execution_count": 15,
     "metadata": {},
     "output_type": "execute_result"
    }
   ],
   "source": [
    "s.str.slice_replace(0, 2, \"___\")"
   ]
  },
  {
   "cell_type": "markdown",
   "id": "09ed1ccf-05b1-434a-abbb-08ff473e4a64",
   "metadata": {},
   "source": [
    "A common operation when working with text data is to test whether character strings contain a certain substring or pattern of characters. For instance, if we were only interested in posts about Andrew Wiggins, we’d need to match all posts that make mention of him and avoid matching posts that don’t mention him. he str.contains() function returns a Series of True/False values that indicate whether each string contains the given keyword. We can then use this Series of booleans to index our original Series and obtain those entries which correspond to the True values.\n",
    "\n",
    "Here is an example"
   ]
  },
  {
   "cell_type": "code",
   "execution_count": 16,
   "id": "37dcca2b-6bc7-4707-8fe7-38fd0e3a4b4c",
   "metadata": {},
   "outputs": [
    {
     "data": {
      "text/plain": [
       "0     True\n",
       "1    False\n",
       "2    False\n",
       "3    False\n",
       "4     True\n",
       "5      NaN\n",
       "6    False\n",
       "7    False\n",
       "dtype: object"
      ]
     },
     "execution_count": 16,
     "metadata": {},
     "output_type": "execute_result"
    }
   ],
   "source": [
    "flag = s.str.contains(\"0\")\n",
    "flag"
   ]
  },
  {
   "cell_type": "markdown",
   "id": "4e406560-3fb8-4fbd-8777-e4853a42ede4",
   "metadata": {},
   "source": [
    "Note that the NaN entry returned NaN. If we wanted to make sure that we get back a Series of only True and False values we could use the parameter na=False which replaces NaN with a False:"
   ]
  },
  {
   "cell_type": "code",
   "execution_count": 17,
   "id": "bb6521e7-27de-4d42-8cd1-09bb05ee55ff",
   "metadata": {},
   "outputs": [
    {
     "data": {
      "text/plain": [
       "0     True\n",
       "1    False\n",
       "2    False\n",
       "3    False\n",
       "4     True\n",
       "5    False\n",
       "6    False\n",
       "7    False\n",
       "dtype: bool"
      ]
     },
     "execution_count": 17,
     "metadata": {},
     "output_type": "execute_result"
    }
   ],
   "source": [
    "flag = s.str.contains(\"0\", na=False)\n",
    "flag"
   ]
  },
  {
   "cell_type": "markdown",
   "id": "8515739e-e58b-45d6-85bd-2b80dba560d3",
   "metadata": {},
   "source": [
    "Let’s now get back the entries which contain the character '0':"
   ]
  },
  {
   "cell_type": "code",
   "execution_count": 18,
   "id": "856fd82d-24fc-43f2-b411-f900a24c8a8f",
   "metadata": {},
   "outputs": [
    {
     "data": {
      "text/plain": [
       "0        0\n",
       "4    02456\n",
       "dtype: object"
      ]
     },
     "execution_count": 18,
     "metadata": {},
     "output_type": "execute_result"
    }
   ],
   "source": [
    "s[flag]"
   ]
  },
  {
   "cell_type": "markdown",
   "id": "4f8c2f9d-7a98-449b-ad9f-c9cb10c8f29f",
   "metadata": {},
   "source": [
    "### Example: Cleaning up the movies dataset\n",
    "\n",
    "Now that we have gotten an overview of the string functions available to us in pandas, it is time we put them to use with a real dataset. To do this we will use a dataset that you have seen before Kaggle TMDB 5000 Movie DataSet. "
   ]
  },
  {
   "cell_type": "code",
   "execution_count": null,
   "id": "d25a2970-c44d-4d9d-af43-0047dfbb299a",
   "metadata": {},
   "outputs": [],
   "source": [
    "# Import libraries\n",
    "import pandas as pd\n",
    "import numpy as np\n",
    "\n",
    "# Load the data\n",
    "movies = pd.read_csv(\"c2_tmdb_5000_movies.csv\")"
   ]
  }
 ],
 "metadata": {
  "kernelspec": {
   "display_name": "Python [conda env:adsml] *",
   "language": "python",
   "name": "conda-env-adsml-py"
  },
  "language_info": {
   "codemirror_mode": {
    "name": "ipython",
    "version": 3
   },
   "file_extension": ".py",
   "mimetype": "text/x-python",
   "name": "python",
   "nbconvert_exporter": "python",
   "pygments_lexer": "ipython3",
   "version": "3.9.7"
  }
 },
 "nbformat": 4,
 "nbformat_minor": 5
}
