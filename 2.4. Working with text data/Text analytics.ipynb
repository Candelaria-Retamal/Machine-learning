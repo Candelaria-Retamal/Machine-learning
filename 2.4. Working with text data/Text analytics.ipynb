{
 "cells": [
  {
   "cell_type": "markdown",
   "id": "8429865f-b6b9-45e6-9e98-e4839cd63c8a",
   "metadata": {},
   "source": [
    "### Text analytics\n",
    "\n",
    "In this unit, we will look at different techniques for getting insights from text data. After walking you through some common preprocessing steps for text data, we will explore different tools for extracting information about the content of text documents. First, we will look at word frequencies and then detect word combinations that frequently appear together. Next, we will learn how to weight word frequencies according to the tf-idf model. This model provides more informative statistics about key terms in a given document in our dataset compared to plain word frequencies.\n",
    "\n",
    "We will work with publicly available press releases by the Swiss Federal Council about the Coronavirus 2019 epidemic."
   ]
  },
  {
   "cell_type": "code",
   "execution_count": 1,
   "id": "1c828e73-e38e-40e9-9f83-821aa760a76e",
   "metadata": {},
   "outputs": [
    {
     "name": "stdout",
     "output_type": "stream",
     "text": [
      "Data shape:  (61, 4)\n"
     ]
    }
   ],
   "source": [
    "# A first look at the data\n",
    "# Import libraries\n",
    "\n",
    "import os\n",
    "import pandas as pd\n",
    "import numpy as np\n",
    "import matplotlib.pyplot as plt\n",
    "from   collections import defaultdict\n",
    "\n",
    "%matplotlib inline\n",
    "%config InlineBackend.figure_format = 'retina'\n",
    "\n",
    "# Path to the data\n",
    "PATH_DATA = os.path.join('c2_press_releases_covid19.csv')\n",
    "\n",
    "# Load press releases\n",
    "df = pd.read_csv(PATH_DATA)\n",
    "\n",
    "print('Data shape: ',df.shape)"
   ]
  },
  {
   "cell_type": "code",
   "execution_count": 2,
   "id": "6dd27ccb-c7bd-4715-8a0b-b90121692472",
   "metadata": {},
   "outputs": [
    {
     "data": {
      "text/html": [
       "<div>\n",
       "<style scoped>\n",
       "    .dataframe tbody tr th:only-of-type {\n",
       "        vertical-align: middle;\n",
       "    }\n",
       "\n",
       "    .dataframe tbody tr th {\n",
       "        vertical-align: top;\n",
       "    }\n",
       "\n",
       "    .dataframe thead th {\n",
       "        text-align: right;\n",
       "    }\n",
       "</style>\n",
       "<table border=\"1\" class=\"dataframe\">\n",
       "  <thead>\n",
       "    <tr style=\"text-align: right;\">\n",
       "      <th></th>\n",
       "      <th>title</th>\n",
       "      <th>url</th>\n",
       "      <th>pub_date</th>\n",
       "      <th>text</th>\n",
       "    </tr>\n",
       "  </thead>\n",
       "  <tbody>\n",
       "    <tr>\n",
       "      <th>27</th>\n",
       "      <td>Coronavirus: Masks compulsory on public transp...</td>\n",
       "      <td>https://www.admin.ch/gov/en/start/documentatio...</td>\n",
       "      <td>2020-07-01</td>\n",
       "      <td>(Last modification 22.07.2020) Bern, 01.07.202...</td>\n",
       "    </tr>\n",
       "    <tr>\n",
       "      <th>14</th>\n",
       "      <td>Coronavirus: Switzerland reaches agreement wit...</td>\n",
       "      <td>https://www.admin.ch/gov/en/start/documentatio...</td>\n",
       "      <td>2020-05-13</td>\n",
       "      <td>Bern, 13.05.2020 - Switzerland plans to open a...</td>\n",
       "    </tr>\n",
       "    <tr>\n",
       "      <th>20</th>\n",
       "      <td>Coronavirus: Switzerland to reopen its borders...</td>\n",
       "      <td>https://www.admin.ch/gov/en/start/documentatio...</td>\n",
       "      <td>2020-06-05</td>\n",
       "      <td>Bern, 05.06.2020 - Federal Councillor Karin Ke...</td>\n",
       "    </tr>\n",
       "  </tbody>\n",
       "</table>\n",
       "</div>"
      ],
      "text/plain": [
       "                                                title  \\\n",
       "27  Coronavirus: Masks compulsory on public transp...   \n",
       "14  Coronavirus: Switzerland reaches agreement wit...   \n",
       "20  Coronavirus: Switzerland to reopen its borders...   \n",
       "\n",
       "                                                  url    pub_date  \\\n",
       "27  https://www.admin.ch/gov/en/start/documentatio...  2020-07-01   \n",
       "14  https://www.admin.ch/gov/en/start/documentatio...  2020-05-13   \n",
       "20  https://www.admin.ch/gov/en/start/documentatio...  2020-06-05   \n",
       "\n",
       "                                                 text  \n",
       "27  (Last modification 22.07.2020) Bern, 01.07.202...  \n",
       "14  Bern, 13.05.2020 - Switzerland plans to open a...  \n",
       "20  Bern, 05.06.2020 - Federal Councillor Karin Ke...  "
      ]
     },
     "execution_count": 2,
     "metadata": {},
     "output_type": "execute_result"
    }
   ],
   "source": [
    "# Print a few samples\n",
    "\n",
    "df.head(3)\n",
    "\n",
    "#Alternatively we may use the .sample method which gives out 3 random samples\n",
    "\n",
    "df.sample(3)"
   ]
  },
  {
   "cell_type": "markdown",
   "id": "a12ae8d1-a575-4fde-8404-98014ef4a098",
   "metadata": {},
   "source": [
    "We can adjust the column width displayed in our dataframe using the pandas.set_option() method and the display.max_colwidth parameter."
   ]
  },
  {
   "cell_type": "code",
   "execution_count": 3,
   "id": "12ec3afb-b07e-4846-97c5-76077d33f690",
   "metadata": {},
   "outputs": [],
   "source": [
    "# Change display option for max_colwidth\n",
    "\n",
    "pd.set_option('display.max_colwidth', 500)\n",
    "\n",
    "#To reset the display options to the default ones, use this command: pd.reset_option('display.max_colwidth')"
   ]
  },
  {
   "cell_type": "code",
   "execution_count": 4,
   "id": "46519cf6-cbf7-46a1-9772-5e521f66a447",
   "metadata": {},
   "outputs": [
    {
     "name": "stdout",
     "output_type": "stream",
     "text": [
      "Data shape:  (61, 3)\n"
     ]
    }
   ],
   "source": [
    "# Remove 'url' column\n",
    "\n",
    "df.drop(labels = ['url'],    # specify which columns to drop\n",
    "        axis=1,              # drops labels from the columns\n",
    "        inplace=True         # apply changes to the original df\n",
    "       )\n",
    "\n",
    "# Print data shape\n",
    "print('Data shape: ',df.shape)"
   ]
  },
  {
   "cell_type": "code",
   "execution_count": 5,
   "id": "a190843a-5547-4afa-b155-2155e841aa08",
   "metadata": {},
   "outputs": [
    {
     "data": {
      "text/html": [
       "<div>\n",
       "<style scoped>\n",
       "    .dataframe tbody tr th:only-of-type {\n",
       "        vertical-align: middle;\n",
       "    }\n",
       "\n",
       "    .dataframe tbody tr th {\n",
       "        vertical-align: top;\n",
       "    }\n",
       "\n",
       "    .dataframe thead th {\n",
       "        text-align: right;\n",
       "    }\n",
       "</style>\n",
       "<table border=\"1\" class=\"dataframe\">\n",
       "  <thead>\n",
       "    <tr style=\"text-align: right;\">\n",
       "      <th></th>\n",
       "      <th>title</th>\n",
       "      <th>pub_date</th>\n",
       "      <th>text</th>\n",
       "    </tr>\n",
       "  </thead>\n",
       "  <tbody>\n",
       "    <tr>\n",
       "      <th>15</th>\n",
       "      <td>Coronavirus: Switzerland responds to humanitarian needs and supports the development of diagnostics, therapeutics and vaccines</td>\n",
       "      <td>2020-05-13</td>\n",
       "      <td>Bern, 13.05.2020 - At its meeting of 13 May 2020, the Federal Council approved the allocation of CHF 175 million for the global fight against the COVID-19 pandemic. These funds will be used for humanitarian aid, the development and production of diagnostics, therapeutics and vaccines, and efforts aimed at ensuring equitable access to these medical solutions worldwide. The CHF 175 million is part of a CHF 400 million package approved by the Federal Council two weeks ago. On 29 April 2020, the...</td>\n",
       "    </tr>\n",
       "    <tr>\n",
       "      <th>10</th>\n",
       "      <td>Corona virus: Switzerland set to take part in 2021 Olympic Games and Dubai World Expo</td>\n",
       "      <td>2020-04-29</td>\n",
       "      <td>Bern, 29.04.2020 - Because of the COVID-19 pandemic, a number of global events are being postponed – including the 2020 Summer Olympics and Paralympics in Tokyo and Expo 2020 in Dubai. The Federal Council has confirmed that Switzerland will be showcasing itself at both major events which will now be held in 2021. It also emphasized the importance of such events in terms of economic recovery for the international markets. The International Olympic Committee, the International Paralympic Commi...</td>\n",
       "    </tr>\n",
       "    <tr>\n",
       "      <th>22</th>\n",
       "      <td>Coronavirus: Move towards normalisation and simplified basic rules to protect the population</td>\n",
       "      <td>2020-06-19</td>\n",
       "      <td>Bern, 19.06.2020 - As of Monday, 22 June, the measures put in place to tackle the coronavirus will for the most part be lifted. Only the ban on large-scale events will remain in place until the end of August. This follows the decisions taken by the Federal Council at its meeting on 19 June in view of the continuing low level of new cases. All publicly accessible venues must have a set of precautionary measures in place. However, the Federal Council has simplified the applicable requirements....</td>\n",
       "    </tr>\n",
       "  </tbody>\n",
       "</table>\n",
       "</div>"
      ],
      "text/plain": [
       "                                                                                                                             title  \\\n",
       "15  Coronavirus: Switzerland responds to humanitarian needs and supports the development of diagnostics, therapeutics and vaccines   \n",
       "10                                           Corona virus: Switzerland set to take part in 2021 Olympic Games and Dubai World Expo   \n",
       "22                                    Coronavirus: Move towards normalisation and simplified basic rules to protect the population   \n",
       "\n",
       "      pub_date  \\\n",
       "15  2020-05-13   \n",
       "10  2020-04-29   \n",
       "22  2020-06-19   \n",
       "\n",
       "                                                                                                                                                                                                                                                                                                                                                                                                                                                                                                                   text  \n",
       "15  Bern, 13.05.2020 - At its meeting of 13 May 2020, the Federal Council approved the allocation of CHF 175 million for the global fight against the COVID-19 pandemic. These funds will be used for humanitarian aid, the development and production of diagnostics, therapeutics and vaccines, and efforts aimed at ensuring equitable access to these medical solutions worldwide. The CHF 175 million is part of a CHF 400 million package approved by the Federal Council two weeks ago. On 29 April 2020, the...  \n",
       "10  Bern, 29.04.2020 - Because of the COVID-19 pandemic, a number of global events are being postponed – including the 2020 Summer Olympics and Paralympics in Tokyo and Expo 2020 in Dubai. The Federal Council has confirmed that Switzerland will be showcasing itself at both major events which will now be held in 2021. It also emphasized the importance of such events in terms of economic recovery for the international markets. The International Olympic Committee, the International Paralympic Commi...  \n",
       "22  Bern, 19.06.2020 - As of Monday, 22 June, the measures put in place to tackle the coronavirus will for the most part be lifted. Only the ban on large-scale events will remain in place until the end of August. This follows the decisions taken by the Federal Council at its meeting on 19 June in view of the continuing low level of new cases. All publicly accessible venues must have a set of precautionary measures in place. However, the Federal Council has simplified the applicable requirements....  "
      ]
     },
     "execution_count": 5,
     "metadata": {},
     "output_type": "execute_result"
    }
   ],
   "source": [
    "# Show a few samples\n",
    "df.sample(3)"
   ]
  },
  {
   "cell_type": "markdown",
   "id": "948d94c2-cda8-448c-a8ac-4d37e56f5fb2",
   "metadata": {},
   "source": [
    "We usually call a dataset of text data corpus (plural corpora) and samples of text documents. Our corpus has 61 documents. Below we check the data for duplicated entries and missing values."
   ]
  },
  {
   "cell_type": "code",
   "execution_count": 6,
   "id": "902fd574-0937-4baa-8026-30bccb844816",
   "metadata": {},
   "outputs": [
    {
     "name": "stdout",
     "output_type": "stream",
     "text": [
      "Found 0 duplicated entries.\n"
     ]
    }
   ],
   "source": [
    "# Check for duplicated entries\n",
    "\n",
    "print('Found {} duplicated entries.'.format(df.duplicated().sum()))\n"
   ]
  },
  {
   "cell_type": "code",
   "execution_count": 7,
   "id": "72217b2a-4957-41a8-94c9-89d01e4f2a06",
   "metadata": {},
   "outputs": [
    {
     "name": "stdout",
     "output_type": "stream",
     "text": [
      "<class 'pandas.core.frame.DataFrame'>\n",
      "RangeIndex: 61 entries, 0 to 60\n",
      "Data columns (total 3 columns):\n",
      " #   Column    Non-Null Count  Dtype \n",
      "---  ------    --------------  ----- \n",
      " 0   title     61 non-null     object\n",
      " 1   pub_date  61 non-null     object\n",
      " 2   text      61 non-null     object\n",
      "dtypes: object(3)\n",
      "memory usage: 1.6+ KB\n"
     ]
    }
   ],
   "source": [
    "# Check for missing values\n",
    "\n",
    "df.info()"
   ]
  },
  {
   "cell_type": "code",
   "execution_count": 8,
   "id": "13bb94f8-c444-44ff-aebf-8de6dc6ff88e",
   "metadata": {},
   "outputs": [
    {
     "name": "stdout",
     "output_type": "stream",
     "text": [
      "<class 'pandas.core.frame.DataFrame'>\n",
      "RangeIndex: 61 entries, 0 to 60\n",
      "Data columns (total 3 columns):\n",
      " #   Column    Non-Null Count  Dtype         \n",
      "---  ------    --------------  -----         \n",
      " 0   title     61 non-null     object        \n",
      " 1   pub_date  61 non-null     datetime64[ns]\n",
      " 2   text      61 non-null     object        \n",
      "dtypes: datetime64[ns](1), object(2)\n",
      "memory usage: 1.6+ KB\n"
     ]
    }
   ],
   "source": [
    "# Convert pub_date to datetime dtype\n",
    "\n",
    "df['pub_date'] = pd.to_datetime(df.pub_date)\n",
    "\n",
    "# Check data types again\n",
    "df.info()"
   ]
  },
  {
   "cell_type": "markdown",
   "id": "917543ea-c9e0-441c-9e68-8d7c83ee0ba3",
   "metadata": {},
   "source": [
    "We converted the column pub_date to datetime. Below, we see that the earliest press release is from February 28, 2020, and the last one from August 18, 2021."
   ]
  },
  {
   "cell_type": "code",
   "execution_count": 9,
   "id": "a8fd9381-d26d-4570-8682-87951a127b31",
   "metadata": {},
   "outputs": [
    {
     "data": {
      "text/plain": [
       "Timestamp('2020-02-28 00:00:00')"
      ]
     },
     "execution_count": 9,
     "metadata": {},
     "output_type": "execute_result"
    }
   ],
   "source": [
    "# Print earliest publication date\n",
    "\n",
    "df['pub_date'].min()"
   ]
  },
  {
   "cell_type": "code",
   "execution_count": 10,
   "id": "22fcd861-2919-4763-bb99-f144a900bb09",
   "metadata": {},
   "outputs": [
    {
     "data": {
      "text/plain": [
       "Timestamp('2021-08-18 00:00:00')"
      ]
     },
     "execution_count": 10,
     "metadata": {},
     "output_type": "execute_result"
    }
   ],
   "source": [
    "# Print latest publication date\n",
    "\n",
    "df['pub_date'].max()"
   ]
  },
  {
   "cell_type": "markdown",
   "id": "862f8726-e361-4bb5-b049-324644ff3266",
   "metadata": {},
   "source": [
    "#### Text length: \n",
    "You may be wondering about the length of the press releases. Do they all use the same number of words or characters? Let’s look at the first press release."
   ]
  },
  {
   "cell_type": "code",
   "execution_count": 11,
   "id": "76111233-dc4f-4254-8cca-2a4862aabd67",
   "metadata": {},
   "outputs": [
    {
     "name": "stdout",
     "output_type": "stream",
     "text": [
      "Bern, 28.02.2020 - An extraordinary meeting of the Federal Council was held today, 28 February. In view of the current situation and the spread of the coronavirus, the Federal Council has categorised the situation in Switzerland as ‘special’ in terms of the Epidemics Act. Large-scale events involving more than 1000 people are to be banned. The ban comes into immediate effect and will apply at least until 15 March. The Federal Council's top priority is to protect the population. It is responding to the latest developments in the coronavirus epidemic and has categorised the situation in Switzerland as ‘special' in terms of the Epidemics Act. This enables the Federal Council, in consultation with the cantons, to order measures that are normally the responsibility of the cantons.The Federal Council is banning public and private events in Switzerland at which more than 1000 people would gather. This ban on events comes into immediate effect and will apply at least until 15 March. The cantons are responsible for enforcing the ban.In the case of public or private events at which fewer than 1000 people would gather, event organisers must carry out a risk assessment in conjunction with the competent cantonal authorities to decide whether or not the event can be held.The Federal Council is aware that this measure will have a significant impact on public life in Switzerland. However, the move is expected to provide effective protection to people in Switzerland and to public health. It should prevent or delay the spread of the disease in Switzerland, thus reducing its momentum. The Federal Council's top priority is to protect the population. It is responding to the latest developments in the coronavirus epidemic and has categorised the situation in Switzerland as ‘special' in terms of the Epidemics Act. This enables the Federal Council, in consultation with the cantons, to order measures that are normally the responsibility of the cantons. The Federal Council is banning public and private events in Switzerland at which more than 1000 people would gather. This ban on events comes into immediate effect and will apply at least until 15 March. The cantons are responsible for enforcing the ban. In the case of public or private events at which fewer than 1000 people would gather, event organisers must carry out a risk assessment in conjunction with the competent cantonal authorities to decide whether or not the event can be held. The Federal Council is aware that this measure will have a significant impact on public life in Switzerland. However, the move is expected to provide effective protection to people in Switzerland and to public health. It should prevent or delay the spread of the disease in Switzerland, thus reducing its momentum.\n"
     ]
    }
   ],
   "source": [
    "print(df['text'][0])"
   ]
  },
  {
   "cell_type": "markdown",
   "id": "b5f97892-8802-40b6-aebd-4b8124b88523",
   "metadata": {},
   "source": [
    "We will start by splitting this document on whitespace using the split function. The process of splitting text into its constituent terms is called tokenization and the constituent terms are called tokens."
   ]
  },
  {
   "cell_type": "code",
   "execution_count": 12,
   "id": "0d151b7a-c1e5-4e27-8d33-bd3cd2519580",
   "metadata": {},
   "outputs": [
    {
     "name": "stdout",
     "output_type": "stream",
     "text": [
      "['Bern,', '28.02.2020', '-', 'An', 'extraordinary', 'meeting', 'of', 'the', 'Federal', 'Council', 'was', 'held', 'today,', '28', 'February.', 'In', 'view', 'of', 'the', 'current', 'situation', 'and', 'the', 'spread', 'of', 'the', 'coronavirus,', 'the', 'Federal', 'Council', 'has', 'categorised', 'the', 'situation', 'in', 'Switzerland', 'as', '‘special’', 'in', 'terms', 'of', 'the', 'Epidemics', 'Act.', 'Large-scale', 'events', 'involving', 'more', 'than', '1000', 'people', 'are', 'to', 'be', 'banned.', 'The', 'ban', 'comes', 'into', 'immediate', 'effect', 'and', 'will', 'apply', 'at', 'least', 'until', '15', 'March.', 'The', 'Federal', \"Council's\", 'top', 'priority', 'is', 'to', 'protect', 'the', 'population.', 'It', 'is', 'responding', 'to', 'the', 'latest', 'developments', 'in', 'the', 'coronavirus', 'epidemic', 'and', 'has', 'categorised', 'the', 'situation', 'in', 'Switzerland', 'as', \"‘special'\", 'in', 'terms', 'of', 'the', 'Epidemics', 'Act.', 'This', 'enables', 'the', 'Federal', 'Council,', 'in', 'consultation', 'with', 'the', 'cantons,', 'to', 'order', 'measures', 'that', 'are', 'normally', 'the', 'responsibility', 'of', 'the', 'cantons.The', 'Federal', 'Council', 'is', 'banning', 'public', 'and', 'private', 'events', 'in', 'Switzerland', 'at', 'which', 'more', 'than', '1000', 'people', 'would', 'gather.', 'This', 'ban', 'on', 'events', 'comes', 'into', 'immediate', 'effect', 'and', 'will', 'apply', 'at', 'least', 'until', '15', 'March.', 'The', 'cantons', 'are', 'responsible', 'for', 'enforcing', 'the', 'ban.In', 'the', 'case', 'of', 'public', 'or', 'private', 'events', 'at', 'which', 'fewer', 'than', '1000', 'people', 'would', 'gather,', 'event', 'organisers', 'must', 'carry', 'out', 'a', 'risk', 'assessment', 'in', 'conjunction', 'with', 'the', 'competent', 'cantonal', 'authorities', 'to', 'decide', 'whether', 'or', 'not', 'the', 'event', 'can', 'be', 'held.The', 'Federal', 'Council', 'is', 'aware', 'that', 'this', 'measure', 'will', 'have', 'a', 'significant', 'impact', 'on', 'public', 'life', 'in', 'Switzerland.', 'However,', 'the', 'move', 'is', 'expected', 'to', 'provide', 'effective', 'protection', 'to', 'people', 'in', 'Switzerland', 'and', 'to', 'public', 'health.', 'It', 'should', 'prevent', 'or', 'delay', 'the', 'spread', 'of', 'the', 'disease', 'in', 'Switzerland,', 'thus', 'reducing', 'its', 'momentum.', 'The', 'Federal', \"Council's\", 'top', 'priority', 'is', 'to', 'protect', 'the', 'population.', 'It', 'is', 'responding', 'to', 'the', 'latest', 'developments', 'in', 'the', 'coronavirus', 'epidemic', 'and', 'has', 'categorised', 'the', 'situation', 'in', 'Switzerland', 'as', \"‘special'\", 'in', 'terms', 'of', 'the', 'Epidemics', 'Act.', 'This', 'enables', 'the', 'Federal', 'Council,', 'in', 'consultation', 'with', 'the', 'cantons,', 'to', 'order', 'measures', 'that', 'are', 'normally', 'the', 'responsibility', 'of', 'the', 'cantons.', 'The', 'Federal', 'Council', 'is', 'banning', 'public', 'and', 'private', 'events', 'in', 'Switzerland', 'at', 'which', 'more', 'than', '1000', 'people', 'would', 'gather.', 'This', 'ban', 'on', 'events', 'comes', 'into', 'immediate', 'effect', 'and', 'will', 'apply', 'at', 'least', 'until', '15', 'March.', 'The', 'cantons', 'are', 'responsible', 'for', 'enforcing', 'the', 'ban.', 'In', 'the', 'case', 'of', 'public', 'or', 'private', 'events', 'at', 'which', 'fewer', 'than', '1000', 'people', 'would', 'gather,', 'event', 'organisers', 'must', 'carry', 'out', 'a', 'risk', 'assessment', 'in', 'conjunction', 'with', 'the', 'competent', 'cantonal', 'authorities', 'to', 'decide', 'whether', 'or', 'not', 'the', 'event', 'can', 'be', 'held.', 'The', 'Federal', 'Council', 'is', 'aware', 'that', 'this', 'measure', 'will', 'have', 'a', 'significant', 'impact', 'on', 'public', 'life', 'in', 'Switzerland.', 'However,', 'the', 'move', 'is', 'expected', 'to', 'provide', 'effective', 'protection', 'to', 'people', 'in', 'Switzerland', 'and', 'to', 'public', 'health.', 'It', 'should', 'prevent', 'or', 'delay', 'the', 'spread', 'of', 'the', 'disease', 'in', 'Switzerland,', 'thus', 'reducing', 'its', 'momentum.']\n"
     ]
    }
   ],
   "source": [
    "# Split document on whitespace\n",
    "\n",
    "print(df['text'][0].split())"
   ]
  },
  {
   "cell_type": "code",
   "execution_count": 13,
   "id": "be71ac10-f50c-47db-a6fd-cff1f83b5f3c",
   "metadata": {},
   "outputs": [
    {
     "data": {
      "text/plain": [
       "450"
      ]
     },
     "execution_count": 13,
     "metadata": {},
     "output_type": "execute_result"
    }
   ],
   "source": [
    "# Count the number of tokens in document\n",
    "len(df['text'][0].split())"
   ]
  },
  {
   "cell_type": "code",
   "execution_count": 14,
   "id": "d83842c7-3789-4ce2-8b09-b38ce9810abf",
   "metadata": {},
   "outputs": [
    {
     "data": {
      "text/plain": [
       "0      450\n",
       "1     1982\n",
       "2     1393\n",
       "3      518\n",
       "4      997\n",
       "      ... \n",
       "56     983\n",
       "57     105\n",
       "58    2821\n",
       "59    1675\n",
       "60     534\n",
       "Name: text, Length: 61, dtype: int64"
      ]
     },
     "execution_count": 14,
     "metadata": {},
     "output_type": "execute_result"
    }
   ],
   "source": [
    "# In the next cell, we use the apply function to count the number of tokens in each press release.\n",
    "\n",
    "df['text'].apply(lambda x: len(x.split()))\n"
   ]
  },
  {
   "cell_type": "markdown",
   "id": "44bca9ce-ee9b-4b98-b32e-2221f8e6e4b7",
   "metadata": {},
   "source": [
    "The following plot shows the distribution of token counts in all of the press releases.\n",
    "\n"
   ]
  },
  {
   "cell_type": "code",
   "execution_count": 15,
   "id": "730f1164-2a39-4c45-babf-04e3d506bc32",
   "metadata": {},
   "outputs": [
    {
     "data": {
      "image/png": "[encoded data removed]",
      "text/plain": [
       "<Figure size 576x288 with 1 Axes>"
      ]
     },
     "metadata": {
      "image/png": {
       "height": 283,
       "width": 496
      },
      "needs_background": "light"
     },
     "output_type": "display_data"
    }
   ],
   "source": [
    "# Plot the number of tokens per press release\n",
    "\n",
    "# Barplot and font specifications\n",
    "barplot_specs = {\"color\": \"mediumpurple\", \"alpha\": 0.7, \"edgecolor\": \"grey\"}\n",
    "label_specs   = {\"fontsize\": 12}\n",
    "title_specs   = {\"fontsize\": 14, \"fontweight\": \"bold\", \"y\": 1.01}\n",
    "\n",
    "plt.figure(figsize=(8,4))\n",
    "\n",
    "plt.hist(df['text'].apply(lambda x:len(x.split())), **barplot_specs)\n",
    "plt.xlabel('Nbr of tokens', **label_specs)\n",
    "plt.ylabel('Nbr of press releases',**label_specs)\n",
    "plt.title('Distribution of token counts in press releases',**title_specs)\n",
    "plt.show()"
   ]
  },
  {
   "cell_type": "code",
   "execution_count": 16,
   "id": "26ef8418-1f03-4d0d-8447-0865286c79e5",
   "metadata": {},
   "outputs": [
    {
     "data": {
      "text/plain": [
       "count      61.000000\n",
       "mean     1287.098361\n",
       "std       800.633597\n",
       "min        66.000000\n",
       "25%       752.000000\n",
       "50%      1132.000000\n",
       "75%      1706.000000\n",
       "max      3658.000000\n",
       "Name: text, dtype: float64"
      ]
     },
     "execution_count": 16,
     "metadata": {},
     "output_type": "execute_result"
    }
   ],
   "source": [
    "# we use the describe method to get descriptive statistics for token counts in press releases.\n",
    "df['text'].apply(lambda x: len(x.split())).describe()"
   ]
  },
  {
   "cell_type": "markdown",
   "id": "ad613151-1d63-4138-99b8-c2ce48717bcf",
   "metadata": {},
   "source": [
    "The shortest press release has 66 tokens, and the longest has 3’658 tokens. The median number of tokens per press release is 1’132."
   ]
  },
  {
   "cell_type": "markdown",
   "id": "e1f9bdcd-160c-4009-a6ba-2415593140fc",
   "metadata": {},
   "source": [
    "#### Word frequencies\n",
    "\n",
    "Now, we would like to know a bit more about what each press release is about. One way to answer this question would be to look at the most frequent tokens in each press release. Tokens that are mentioned several times in a text may reveal some information about the content of each press release. Let’s start with at an example of a press release from the data."
   ]
  },
  {
   "cell_type": "code",
   "execution_count": 17,
   "id": "97ccc12a-a77e-4494-ab99-acb577e30c9b",
   "metadata": {},
   "outputs": [
    {
     "name": "stdout",
     "output_type": "stream",
     "text": [
      "['Bern,', '28.02.2020', '-', 'An', 'extraordinary', 'meeting', 'of', 'the', 'Federal', 'Council', 'was', 'held', 'today,', '28', 'February.', 'In', 'view', 'of', 'the', 'current', 'situation', 'and', 'the', 'spread', 'of', 'the', 'coronavirus,', 'the', 'Federal', 'Council', 'has', 'categorised', 'the', 'situation', 'in', 'Switzerland', 'as', '‘special’', 'in', 'terms', 'of', 'the', 'Epidemics', 'Act.', 'Large-scale', 'events', 'involving', 'more', 'than', '1000', 'people', 'are', 'to', 'be', 'banned.', 'The', 'ban', 'comes', 'into', 'immediate', 'effect', 'and', 'will', 'apply', 'at', 'least', 'until', '15', 'March.', 'The', 'Federal', \"Council's\", 'top', 'priority', 'is', 'to', 'protect', 'the', 'population.', 'It', 'is', 'responding', 'to', 'the', 'latest', 'developments', 'in', 'the', 'coronavirus', 'epidemic', 'and', 'has', 'categorised', 'the', 'situation', 'in', 'Switzerland', 'as', \"‘special'\", 'in', 'terms', 'of', 'the', 'Epidemics', 'Act.', 'This', 'enables', 'the', 'Federal', 'Council,', 'in', 'consultation', 'with', 'the', 'cantons,', 'to', 'order', 'measures', 'that', 'are', 'normally', 'the', 'responsibility', 'of', 'the', 'cantons.The', 'Federal', 'Council', 'is', 'banning', 'public', 'and', 'private', 'events', 'in', 'Switzerland', 'at', 'which', 'more', 'than', '1000', 'people', 'would', 'gather.', 'This', 'ban', 'on', 'events', 'comes', 'into']\n"
     ]
    }
   ],
   "source": [
    "sample = df['text'][0]\n",
    "# Split text on whitespace\n",
    "print(sample.split()[0:150])\n",
    "# Note: we show only the first 150 tokens"
   ]
  },
  {
   "cell_type": "markdown",
   "id": "dd16bfe8-29ba-4ff9-bc62-1efe4fcef3da",
   "metadata": {},
   "source": [
    "This approach doesn’t separate punctuation from adjacent words. For example, in the following tokens: February., March., Act., etc., the period . wasn’t separated from the preceding token. This is not great as it means February. and February won’t be counted together.\n",
    "\n",
    "Below, we replace characters such as commas, periods, parentheses and single hyphens (-) with whitespace, using regular expressions."
   ]
  },
  {
   "cell_type": "code",
   "execution_count": 18,
   "id": "d16dce90-3637-4437-ae81-f7d5d86b1ae5",
   "metadata": {},
   "outputs": [
    {
     "name": "stdout",
     "output_type": "stream",
     "text": [
      "Bern  28 02 2020 An extraordinary meeting of the Federal Council was held today  28 February  In view of the current situation and the spread of the coronavirus  the Federal Council has categorised the situation in Switzerland as ‘special’ in terms of the Epidemics Act  Large-scale events involving more than 1000 people are to be banned  The ban comes into immediate effect and will apply at least until 15 March  The Federal Council's top priority is to protect the population  It is responding to the latest developments in the coronavirus epidemic and has categorised the situation in Switzerland as ‘special' in terms of the Epidemics Act  This enables the Federal Council  in consultation with the cantons  to order measures that are normally the responsibility of the cantons The Federal Council is banning public and private events in Switzerland at which more than 1000 people would gather  This ban on events comes into immediate effect and will apply at least until 15 March  The cantons are responsible for enforcing the ban In the case of public or private events at which fewer than 1000 people would gather  event organisers must carry out a risk assessment in conjunction with the competent cantonal authorities to decide whether or not the event can be held The Federal Council is aware that this measure will have a significant impact on public life in Switzerland  However  the move is expected to provide effective protection to people in Switzerland and to public health  It should prevent or delay the spread of the disease in Switzerland  thus reducing its momentum  The Federal Council's top priority is to protect the population  It is responding to the latest developments in the coronavirus epidemic and has categorised the situation in Switzerland as ‘special' in terms of the Epidemics Act  This enables the Federal Council  in consultation with the cantons  to order measures that are normally the responsibility of the cantons  The Federal Council is banning public and private events in Switzerland at which more than 1000 people would gather  This ban on events comes into immediate effect and will apply at least until 15 March  The cantons are responsible for enforcing the ban  In the case of public or private events at which fewer than 1000 people would gather  event organisers must carry out a risk assessment in conjunction with the competent cantonal authorities to decide whether or not the event can be held  The Federal Council is aware that this measure will have a significant impact on public life in Switzerland  However  the move is expected to provide effective protection to people in Switzerland and to public health  It should prevent or delay the spread of the disease in Switzerland  thus reducing its momentum \n"
     ]
    }
   ],
   "source": [
    "import re\n",
    "\n",
    "# Replace punctuation marks (,.()) with whitespace\n",
    "clean_sample = re.sub(r\"[,.()]\", # regex pattern\n",
    "                      \" \",       # replace with whitespace\n",
    "                      sample     # string\n",
    "                     )\n",
    "\n",
    "# Replace single hyphens with whitespace\n",
    "clean_sample = re.sub(r\"\\s-\\s\",      # regex pattern\n",
    "                      \" \",           # replace with whitespace\n",
    "                      clean_sample   # string\n",
    "                     )\n",
    "\n",
    "# Print clean_sample\n",
    "print(clean_sample)"
   ]
  },
  {
   "cell_type": "code",
   "execution_count": 19,
   "id": "7a685025-b235-439d-b3a8-d0e3e6f09caf",
   "metadata": {},
   "outputs": [
    {
     "name": "stdout",
     "output_type": "stream",
     "text": [
      "['Bern', '28', '02', '2020', 'An', 'extraordinary', 'meeting', 'of', 'the', 'Federal', 'Council', 'was', 'held', 'today', '28', 'February', 'In', 'view', 'of', 'the', 'current', 'situation', 'and', 'the', 'spread', 'of', 'the', 'coronavirus', 'the', 'Federal', 'Council', 'has', 'categorised', 'the', 'situation', 'in', 'Switzerland', 'as', '‘special’', 'in', 'terms', 'of', 'the', 'Epidemics', 'Act', 'Large-scale', 'events', 'involving', 'more', 'than', '1000', 'people', 'are', 'to', 'be', 'banned', 'The', 'ban', 'comes', 'into', 'immediate', 'effect', 'and', 'will', 'apply', 'at', 'least', 'until', '15', 'March', 'The', 'Federal', \"Council's\", 'top', 'priority', 'is', 'to', 'protect', 'the', 'population', 'It', 'is', 'responding', 'to', 'the', 'latest', 'developments', 'in', 'the', 'coronavirus', 'epidemic', 'and', 'has', 'categorised', 'the', 'situation', 'in', 'Switzerland', 'as', \"‘special'\", 'in', 'terms', 'of', 'the', 'Epidemics', 'Act', 'This', 'enables', 'the', 'Federal', 'Council', 'in', 'consultation', 'with', 'the', 'cantons', 'to', 'order', 'measures', 'that', 'are', 'normally', 'the', 'responsibility', 'of', 'the', 'cantons', 'The', 'Federal', 'Council', 'is', 'banning', 'public', 'and', 'private', 'events', 'in', 'Switzerland', 'at', 'which', 'more', 'than', '1000', 'people', 'would', 'gather', 'This', 'ban', 'on', 'events']\n"
     ]
    }
   ],
   "source": [
    "# Split clean_sample on whitespace\n",
    "print(clean_sample.split()[0:150])\n",
    "\n",
    "# Note: we show only the first 150 tokens"
   ]
  },
  {
   "cell_type": "code",
   "execution_count": 20,
   "id": "f69eaa66-60a2-4e32-b508-4c1da48d832d",
   "metadata": {},
   "outputs": [
    {
     "data": {
      "text/plain": [
       "[('the', 39),\n",
       " ('in', 20),\n",
       " ('to', 15),\n",
       " ('of', 12),\n",
       " ('Switzerland', 11),\n",
       " ('Federal', 10),\n",
       " ('and', 10),\n",
       " ('is', 10),\n",
       " ('The', 9),\n",
       " ('Council', 8),\n",
       " ('public', 8),\n",
       " ('events', 7),\n",
       " ('people', 7),\n",
       " ('at', 7),\n",
       " ('cantons', 6),\n",
       " ('or', 6),\n",
       " ('than', 5),\n",
       " ('1000', 5),\n",
       " ('are', 5),\n",
       " ('ban', 5),\n",
       " ('will', 5),\n",
       " ('situation', 4),\n",
       " ('It', 4),\n",
       " ('This', 4),\n",
       " ('with', 4)]"
      ]
     },
     "execution_count": 20,
     "metadata": {},
     "output_type": "execute_result"
    }
   ],
   "source": [
    "# We will use the Counter object from the collections module.\n",
    "from collections import Counter\n",
    "\n",
    "# Print top-25 most frequent tokens in clean_sample\n",
    "Counter(clean_sample.split()).most_common(25)"
   ]
  },
  {
   "cell_type": "markdown",
   "id": "e4f416ed-cf77-47bb-abff-09188df8913c",
   "metadata": {},
   "source": [
    "Here are a few observations:\n",
    "\n",
    "The words “The” and “the” were counted separately. However, there is no advantage in tracking “The” and “the” separately.\n",
    "Words such as: “the”, “in”, “to”, etc. are among the most common tokens. These words don’t help us understand what a press release is about."
   ]
  },
  {
   "cell_type": "markdown",
   "id": "8908379e-6533-4be8-a4a4-6e03726c3e0f",
   "metadata": {},
   "source": [
    "#### Case folding\n",
    "\n",
    "\n",
    "It is common to convert documents to lowercase"
   ]
  },
  {
   "cell_type": "code",
   "execution_count": 21,
   "id": "40384be6-24e2-45da-9be6-3fe07b34142f",
   "metadata": {},
   "outputs": [
    {
     "name": "stdout",
     "output_type": "stream",
     "text": [
      "Convert to lowercase: \n",
      "\n",
      "bern  28 02 2020 an extraordinary meeting of the federal council was held today  28 february  in view of the current situation and the spread of the coronavirus  the federal council has categorised the situation in switzerland as ‘special’ in terms of the epidemics act  large-scale events involving more than 1000 people are to be banned  the ban comes into immediate effect and will apply at least until 15 march  the federal council's top priority is to protect the population  it is responding to the latest developments in the coronavirus epidemic and has categorised the situation in switzerland as ‘special' in terms of the epidemics act  this enables the federal council  in consultation with the cantons  to order measures that are normally the responsibility of the cantons the federal council is banning public and private events in switzerland at which more than 1000 people would gather  this ban on events comes into immediate effect and will apply at least until 15 march  the cantons are responsible for enforcing the ban in the case of public or private events at which fewer than 1000 people would gather  event organisers must carry out a risk assessment in conjunction with the competent cantonal authorities to decide whether or not the event can be held the federal council is aware that this measure will have a significant impact on public life in switzerland  however  the move is expected to provide effective protection to people in switzerland and to public health  it should prevent or delay the spread of the disease in switzerland  thus reducing its momentum  the federal council's top priority is to protect the population  it is responding to the latest developments in the coronavirus epidemic and has categorised the situation in switzerland as ‘special' in terms of the epidemics act  this enables the federal council  in consultation with the cantons  to order measures that are normally the responsibility of the cantons  the federal council is banning public and private events in switzerland at which more than 1000 people would gather  this ban on events comes into immediate effect and will apply at least until 15 march  the cantons are responsible for enforcing the ban  in the case of public or private events at which fewer than 1000 people would gather  event organisers must carry out a risk assessment in conjunction with the competent cantonal authorities to decide whether or not the event can be held  the federal council is aware that this measure will have a significant impact on public life in switzerland  however  the move is expected to provide effective protection to people in switzerland and to public health  it should prevent or delay the spread of the disease in switzerland  thus reducing its momentum \n",
      "\n"
     ]
    }
   ],
   "source": [
    "# Case folding\n",
    "processed_sample = clean_sample.lower()\n",
    "\n",
    "print(\"Convert to lowercase: \\n\\n{}\\n\".format(processed_sample))"
   ]
  },
  {
   "cell_type": "markdown",
   "id": "f01ae396-a85c-4309-b542-2301768d30fa",
   "metadata": {},
   "source": [
    "#### Stop words\n",
    "\n",
    "Words such as “the”, “in”, “to”, are commonly referred to as stop words and are necessary for a sentence to make sense from a grammatical point of view. However, they are very “frequent” and usually “uninformative”. Hence, in most cases, it is useful to remove them from text."
   ]
  },
  {
   "cell_type": "code",
   "execution_count": 22,
   "id": "179c322e-b94f-4fae-bada-895fd120429a",
   "metadata": {},
   "outputs": [
    {
     "name": "stdout",
     "output_type": "stream",
     "text": [
      "179 stopwords in NLTK's list.\n",
      "\n",
      "['i', 'me', 'my', 'myself', 'we', 'our', 'ours', 'ourselves', 'you', \"you're\", \"you've\", \"you'll\", \"you'd\", 'your', 'yours', 'yourself', 'yourselves', 'he', 'him', 'his', 'himself', 'she', \"she's\", 'her', 'hers', 'herself', 'it', \"it's\", 'its', 'itself', 'they', 'them', 'their', 'theirs', 'themselves', 'what', 'which', 'who', 'whom', 'this', 'that', \"that'll\", 'these', 'those', 'am', 'is', 'are', 'was', 'were', 'be', 'been', 'being', 'have', 'has', 'had', 'having', 'do', 'does', 'did', 'doing', 'a', 'an', 'the', 'and', 'but', 'if', 'or', 'because', 'as', 'until', 'while', 'of', 'at', 'by', 'for', 'with', 'about', 'against', 'between', 'into', 'through', 'during', 'before', 'after', 'above', 'below', 'to', 'from', 'up', 'down', 'in', 'out', 'on', 'off', 'over', 'under', 'again', 'further', 'then', 'once', 'here', 'there', 'when', 'where', 'why', 'how', 'all', 'any', 'both', 'each', 'few', 'more', 'most', 'other', 'some', 'such', 'no', 'nor', 'not', 'only', 'own', 'same', 'so', 'than', 'too', 'very', 's', 't', 'can', 'will', 'just', 'don', \"don't\", 'should', \"should've\", 'now', 'd', 'll', 'm', 'o', 're', 've', 'y', 'ain', 'aren', \"aren't\", 'couldn', \"couldn't\", 'didn', \"didn't\", 'doesn', \"doesn't\", 'hadn', \"hadn't\", 'hasn', \"hasn't\", 'haven', \"haven't\", 'isn', \"isn't\", 'ma', 'mightn', \"mightn't\", 'mustn', \"mustn't\", 'needn', \"needn't\", 'shan', \"shan't\", 'shouldn', \"shouldn't\", 'wasn', \"wasn't\", 'weren', \"weren't\", 'won', \"won't\", 'wouldn', \"wouldn't\"]\n"
     ]
    }
   ],
   "source": [
    "# Load English stopwords from nltk\n",
    "\n",
    "import nltk\n",
    "\n",
    "nltk.download(\"stopwords\", quiet=True)\n",
    "\n",
    "from nltk.corpus import stopwords\n",
    "\n",
    "stopwords_english = stopwords.words(\"english\")\n",
    "\n",
    "# Print stopwords\n",
    "\n",
    "print(\"{} stopwords in NLTK's list.\\n\".format(len(stopwords_english)))\n",
    "print(stopwords_english)"
   ]
  },
  {
   "cell_type": "code",
   "execution_count": 23,
   "id": "1a817ce7-5ba6-459a-a862-c7d571376a66",
   "metadata": {},
   "outputs": [
    {
     "name": "stdout",
     "output_type": "stream",
     "text": [
      "['bern', '28', '02', '2020', 'extraordinary', 'meeting', 'federal', 'council', 'held', 'today', '28', 'february', 'view', 'current', 'situation', 'spread', 'coronavirus', 'federal', 'council', 'categorised', 'situation', 'switzerland', '‘special’', 'terms', 'epidemics', 'act', 'large-scale', 'events', 'involving', '1000', 'people', 'banned', 'ban', 'comes', 'immediate', 'effect', 'apply', 'least', '15', 'march', 'federal', \"council's\", 'top', 'priority', 'protect', 'population', 'responding', 'latest', 'developments', 'coronavirus', 'epidemic', 'categorised', 'situation', 'switzerland', \"‘special'\", 'terms', 'epidemics', 'act', 'enables', 'federal', 'council', 'consultation', 'cantons', 'order', 'measures', 'normally', 'responsibility', 'cantons', 'federal', 'council', 'banning', 'public', 'private', 'events', 'switzerland', '1000', 'people', 'would', 'gather', 'ban', 'events', 'comes', 'immediate', 'effect', 'apply', 'least', '15', 'march', 'cantons', 'responsible', 'enforcing', 'ban', 'case', 'public', 'private', 'events', 'fewer', '1000', 'people', 'would', 'gather', 'event', 'organisers', 'must', 'carry', 'risk', 'assessment', 'conjunction', 'competent', 'cantonal', 'authorities', 'decide', 'whether', 'event', 'held', 'federal', 'council', 'aware', 'measure', 'significant', 'impact', 'public', 'life', 'switzerland', 'however', 'move', 'expected', 'provide', 'effective', 'protection', 'people', 'switzerland', 'public', 'health', 'prevent', 'delay', 'spread', 'disease', 'switzerland', 'thus', 'reducing', 'momentum', 'federal', \"council's\", 'top', 'priority', 'protect', 'population', 'responding', 'latest', 'developments', 'coronavirus', 'epidemic', 'categorised', 'situation', 'switzerland', \"‘special'\", 'terms', 'epidemics', 'act', 'enables', 'federal', 'council', 'consultation', 'cantons', 'order', 'measures', 'normally', 'responsibility', 'cantons', 'federal', 'council', 'banning', 'public', 'private', 'events', 'switzerland', '1000', 'people', 'would', 'gather', 'ban', 'events', 'comes', 'immediate', 'effect', 'apply', 'least', '15', 'march', 'cantons', 'responsible', 'enforcing', 'ban', 'case', 'public', 'private', 'events', 'fewer', '1000', 'people', 'would', 'gather', 'event', 'organisers', 'must', 'carry', 'risk', 'assessment', 'conjunction', 'competent', 'cantonal', 'authorities', 'decide', 'whether', 'event', 'held', 'federal', 'council', 'aware', 'measure', 'significant', 'impact', 'public', 'life', 'switzerland', 'however', 'move', 'expected', 'provide', 'effective', 'protection', 'people', 'switzerland', 'public', 'health', 'prevent', 'delay', 'spread', 'disease', 'switzerland', 'thus', 'reducing', 'momentum']\n"
     ]
    }
   ],
   "source": [
    "# We can remove stop words from our document using list comprehensions.\n",
    "\n",
    "# Use a list comprehension to remove stopwords from processed_sample\n",
    "\n",
    "processed_sample_tokens = [tok for tok in processed_sample.split() if tok not in stopwords_english]\n",
    "print(processed_sample_tokens)"
   ]
  },
  {
   "cell_type": "markdown",
   "id": "79a2cf14-bf0c-45a5-90db-840b96dadb30",
   "metadata": {},
   "source": [
    "So far, we removed punctuation marks, converted text to lowercase, and removed stop words. Let’s recount words in our text sample."
   ]
  },
  {
   "cell_type": "code",
   "execution_count": 24,
   "id": "c6e4c4be-86de-4227-9964-410908b683af",
   "metadata": {},
   "outputs": [
    {
     "data": {
      "text/plain": [
       "[('switzerland', 11),\n",
       " ('federal', 10),\n",
       " ('council', 8),\n",
       " ('public', 8),\n",
       " ('events', 7),\n",
       " ('people', 7),\n",
       " ('cantons', 6),\n",
       " ('1000', 5),\n",
       " ('ban', 5),\n",
       " ('situation', 4),\n",
       " ('private', 4),\n",
       " ('would', 4),\n",
       " ('gather', 4),\n",
       " ('event', 4),\n",
       " ('held', 3),\n",
       " ('spread', 3),\n",
       " ('coronavirus', 3),\n",
       " ('categorised', 3),\n",
       " ('terms', 3),\n",
       " ('epidemics', 3),\n",
       " ('act', 3),\n",
       " ('comes', 3),\n",
       " ('immediate', 3),\n",
       " ('effect', 3),\n",
       " ('apply', 3)]"
      ]
     },
     "execution_count": 24,
     "metadata": {},
     "output_type": "execute_result"
    }
   ],
   "source": [
    "# Print top-25 most frequent tokens in processed_sample_tokens\n",
    "\n",
    "Counter(processed_sample_tokens).most_common(25)"
   ]
  },
  {
   "cell_type": "markdown",
   "id": "c356449f-0bc1-46d8-ac29-b96e61e9d367",
   "metadata": {},
   "source": [
    "This function takes a document, removes common punctuation marks, converts text to lowercase, removes stopwords, and splits on whitespace."
   ]
  },
  {
   "cell_type": "code",
   "execution_count": 25,
   "id": "7ca35bc1-f57a-45a8-8d83-de24f42be43b",
   "metadata": {},
   "outputs": [],
   "source": [
    "# Define preprocess_text function\n",
    "\n",
    "def preprocess_text(text):\n",
    "    \n",
    "    '''\n",
    "    This function preprocesses raw samples of text:\n",
    "    - Converts to lowercase\n",
    "    - Replaces common punctuation marks with whitespace\n",
    "    - Removes stop words\n",
    "    - Splits text on whitespace\n",
    "    \n",
    "    INPUT: \n",
    "    - text: \"raw\" text (string)\n",
    "    \n",
    "    OUTPUT:\n",
    "    - processed_sample_tokens: list of tokens (list of strings)\n",
    "    '''\n",
    "    \n",
    "    # Convert to lowercase\n",
    "    clean_text = text.lower()\n",
    "    \n",
    "    # Replace common punctuation marks with whitespace\n",
    "    clean_text = re.sub(r\"[,.()]\",\" \", clean_text)\n",
    "    \n",
    "    # Replace single hyphens with whitespace\n",
    "    clean_text = re.sub(r\"\\s-\\s\",\" \", clean_text)\n",
    "    \n",
    "    # Remove stop words and split on whitespace\n",
    "    processed_sample_tokens = [tok for tok in clean_text.split() if tok not in stopwords_english]\n",
    "    \n",
    "    return processed_sample_tokens"
   ]
  },
  {
   "cell_type": "markdown",
   "id": "64bd5d0d-31d5-41e6-9cc4-1aed8952a589",
   "metadata": {},
   "source": [
    "Let’s test this function with an example. Below we sample a press release randomly from the dataset, using the random library."
   ]
  },
  {
   "cell_type": "code",
   "execution_count": 26,
   "id": "b84509f8-8865-4c6f-9977-aa92f6dadf07",
   "metadata": {},
   "outputs": [
    {
     "name": "stdout",
     "output_type": "stream",
     "text": [
      "['bern', '18', '12', '2020', 'epidemiological', 'situation', 'cause', 'great', 'concern', 'number', 'infections', 'high', 'continuing', 'rise', 'hospitals', 'healthcare', 'workers', 'extreme', 'pressure', 'weeks', 'festive', 'period', 'increases', 'risk', 'even', 'rapid', 'rise', 'cases', 'meeting', '18', 'december', 'federal', 'council', 'consulting', 'cantons', 'decided', 'tighten', 'national', 'measures', 'spread', 'coronavirus', 'even', 'aim', 'considerably', 'reduce', 'number', 'contacts', 'tuesday', '22', 'december', 'restaurants', 'bars', 'cultural', 'venues', 'sports', 'leisure', 'facilities', 'close', 'federal', 'council', 'also', 'expanded', 'use', 'rapid', 'tests', 'aim', 'measures', 'reduce', 'case', 'numbers', 'rapidly', 'substantially', 'protect', 'people', 'virus', 'safeguard', 'health', 'service', 'relieve', 'pressure', 'healthcare', 'workers', 'cantons', 'must', 'able', 'guarantee', 'times', 'tests', 'available', 'contacts', 'traced', 'isolation', 'quarantine', 'requirements', 'respected', 'new', 'measures', 'take', 'effect', 'tuesday', '22', 'december', 'apply', '22', 'january', '2021', 'restaurants', 'closerestaurants', 'bars', 'required', 'close', 'exceptions', 'made', 'festive', 'period', 'however', 'exceptions', 'work', 'canteens', 'school', 'canteens', 'primary', 'lower', 'secondary', 'schools', 'meals', 'hotel', 'guests', 'takeaways', 'delivery', 'services', 'may', 'remain', 'open', 'sports', 'facilities', 'closesports', 'facilities', 'closed', 'outdoor', 'sports', 'groups', 'five', 'people', 'continue', 'permitted', 'professional', 'matches', 'may', 'continue']\n"
     ]
    }
   ],
   "source": [
    "# Sample a press release randomly from the data\n",
    "import random\n",
    "sample =  df.iloc[random.randint(0,len(df)-1),2]\n",
    "\n",
    "print(preprocess_text(sample)[0:150])\n",
    "\n",
    "# Note: we show only the first 150 tokens"
   ]
  },
  {
   "cell_type": "code",
   "execution_count": 27,
   "id": "5d11c8d3-e909-4cce-ac93-dc93819bb1e3",
   "metadata": {},
   "outputs": [
    {
     "name": "stdout",
     "output_type": "stream",
     "text": [
      "['bern', '28', '02', '2020', 'extraordinary', 'meeting', 'federal', 'council', 'held', 'today', '28', 'february', 'view', 'current', 'situation', 'spread', 'coronavirus', 'federal', 'council', 'categorised', 'situation', 'switzerland', '‘special’', 'terms', 'epidemics', 'act', 'large-scale', 'events', 'involving', '1000', 'people', 'banned', 'ban', 'comes', 'immediate', 'effect', 'apply', 'least', '15', 'march', 'federal', \"council's\", 'top', 'priority', 'protect', 'population', 'responding', 'latest', 'developments', 'coronavirus', 'epidemic', 'categorised', 'situation', 'switzerland', \"‘special'\", 'terms', 'epidemics', 'act', 'enables', 'federal', 'council', 'consultation', 'cantons', 'order', 'measures', 'normally', 'responsibility', 'cantons', 'federal', 'council', 'banning', 'public', 'private', 'events', 'switzerland', '1000', 'people', 'would', 'gather', 'ban', 'events', 'comes', 'immediate', 'effect', 'apply', 'least', '15', 'march', 'cantons', 'responsible', 'enforcing', 'ban', 'case', 'public', 'private', 'events', 'fewer', '1000', 'people', 'would', 'gather', 'event', 'organisers', 'must', 'carry', 'risk', 'assessment', 'conjunction', 'competent', 'cantonal', 'authorities', 'decide', 'whether', 'event', 'held', 'federal', 'council', 'aware', 'measure', 'significant', 'impact', 'public', 'life', 'switzerland', 'however', 'move', 'expected', 'provide', 'effective', 'protection', 'people', 'switzerland', 'public', 'health', 'prevent', 'delay', 'spread', 'disease', 'switzerland', 'thus', 'reducing', 'momentum', 'federal', \"council's\", 'top', 'priority', 'protect', 'population', 'responding', 'latest', 'developments', 'coronavirus', 'epidemic', 'categorised', 'situation', 'switzerland', \"‘special'\", 'terms', 'epidemics', 'act', 'enables', 'federal', 'council', 'consultation', 'cantons', 'order', 'measures', 'normally', 'responsibility', 'cantons', 'federal', 'council', 'banning', 'public', 'private', 'events', 'switzerland', '1000', 'people', 'would', 'gather', 'ban', 'events', 'comes', 'immediate', 'effect', 'apply', 'least', '15', 'march', 'cantons', 'responsible', 'enforcing', 'ban', 'case', 'public', 'private', 'events', 'fewer', '1000', 'people', 'would', 'gather', 'event', 'organisers', 'must', 'carry', 'risk', 'assessment', 'conjunction', 'competent', 'cantonal', 'authorities', 'decide', 'whether', 'event', 'held', 'federal', 'council', 'aware', 'measure', 'significant', 'impact', 'public', 'life', 'switzerland', 'however', 'move', 'expected', 'provide', 'effective', 'protection', 'people', 'switzerland', 'public', 'health', 'prevent', 'delay', 'spread', 'disease', 'switzerland', 'thus', 'reducing', 'momentum']\n"
     ]
    }
   ],
   "source": [
    "# We can now use this function to process all press releases. \n",
    "# 1st alternative (using list comprehensions)\n",
    "\n",
    "preprocessed_press_releases = [preprocess_text(doc) for doc in df['text']]\n",
    "\n",
    "# Show an example of processed and tokenized text\n",
    "print(preprocessed_press_releases[0])"
   ]
  },
  {
   "cell_type": "code",
   "execution_count": 28,
   "id": "f7f8bdf2-414e-4aea-84f6-659876cec4db",
   "metadata": {},
   "outputs": [
    {
     "data": {
      "text/html": [
       "<div>\n",
       "<style scoped>\n",
       "    .dataframe tbody tr th:only-of-type {\n",
       "        vertical-align: middle;\n",
       "    }\n",
       "\n",
       "    .dataframe tbody tr th {\n",
       "        vertical-align: top;\n",
       "    }\n",
       "\n",
       "    .dataframe thead th {\n",
       "        text-align: right;\n",
       "    }\n",
       "</style>\n",
       "<table border=\"1\" class=\"dataframe\">\n",
       "  <thead>\n",
       "    <tr style=\"text-align: right;\">\n",
       "      <th></th>\n",
       "      <th>title</th>\n",
       "      <th>pub_date</th>\n",
       "      <th>text</th>\n",
       "      <th>clean_text</th>\n",
       "    </tr>\n",
       "  </thead>\n",
       "  <tbody>\n",
       "    <tr>\n",
       "      <th>40</th>\n",
       "      <td>Coronavirus: Federal Council introduces 7pm closing time and closures on Sundays and public holidays</td>\n",
       "      <td>2020-12-11</td>\n",
       "      <td>Bern, 11.12.2020 - At its meeting on 11 December, the Federal Council tightened its measures to counter the spread of the coronavirus. The aim is to reduce the level of contact between people and to prevent people from gathering together. Restaurants and bars, shops and markets, museums and libraries, and sports and leisure facilities will be required to close at 7pm from tomorrow, Saturday, 12 December. With the exception of restaurants and bars they must also remain closed on Sundays and p...</td>\n",
       "      <td>[bern, 11, 12, 2020, meeting, 11, december, federal, council, tightened, measures, counter, spread, coronavirus, aim, reduce, level, contact, people, prevent, people, gathering, together, restaurants, bars, shops, markets, museums, libraries, sports, leisure, facilities, required, close, 7pm, tomorrow, saturday, 12, december, exception, restaurants, bars, must, also, remain, closed, sundays, public, holidays, cantons, favourable, epidemiological, situation, may, extend, closing, time, 11pm, ...</td>\n",
       "    </tr>\n",
       "  </tbody>\n",
       "</table>\n",
       "</div>"
      ],
      "text/plain": [
       "                                                                                                   title  \\\n",
       "40  Coronavirus: Federal Council introduces 7pm closing time and closures on Sundays and public holidays   \n",
       "\n",
       "     pub_date  \\\n",
       "40 2020-12-11   \n",
       "\n",
       "                                                                                                                                                                                                                                                                                                                                                                                                                                                                                                                   text  \\\n",
       "40  Bern, 11.12.2020 - At its meeting on 11 December, the Federal Council tightened its measures to counter the spread of the coronavirus. The aim is to reduce the level of contact between people and to prevent people from gathering together. Restaurants and bars, shops and markets, museums and libraries, and sports and leisure facilities will be required to close at 7pm from tomorrow, Saturday, 12 December. With the exception of restaurants and bars they must also remain closed on Sundays and p...   \n",
       "\n",
       "                                                                                                                                                                                                                                                                                                                                                                                                                                                                                                             clean_text  \n",
       "40  [bern, 11, 12, 2020, meeting, 11, december, federal, council, tightened, measures, counter, spread, coronavirus, aim, reduce, level, contact, people, prevent, people, gathering, together, restaurants, bars, shops, markets, museums, libraries, sports, leisure, facilities, required, close, 7pm, tomorrow, saturday, 12, december, exception, restaurants, bars, must, also, remain, closed, sundays, public, holidays, cantons, favourable, epidemiological, situation, may, extend, closing, time, 11pm, ...  "
      ]
     },
     "execution_count": 28,
     "metadata": {},
     "output_type": "execute_result"
    }
   ],
   "source": [
    "# 2nd alternative (using the apply method)\n",
    "\n",
    "df['clean_text'] = df['text'].apply(lambda x: preprocess_text(x))\n",
    "\n",
    "# Show an example of preprocessed and tokenized text\n",
    "df.sample()"
   ]
  },
  {
   "cell_type": "markdown",
   "id": "1dfad6bb-31e5-452f-9894-0be73d87193c",
   "metadata": {},
   "source": [
    "#### Collocations\n",
    "\n",
    "We can look for combinations of words that frequently appear together, such as Federal Council, private event, Covid certificate, etc. We will use Gensim’s Phrases model to detect collocations in our corpus. model.phrases will identify the most common collocations and join the constituent tokens into a single token, using the “_” glue character."
   ]
  },
  {
   "cell_type": "code",
   "execution_count": 29,
   "id": "5fc36d57-1d89-4a7f-b37c-32b3cd339245",
   "metadata": {},
   "outputs": [],
   "source": [
    "# Import Gensim and Phrases\n",
    "\n",
    "import gensim\n",
    "from gensim.models import Phrases\n",
    "\n",
    "# Find common collocations in press releases\n",
    "\n",
    "# Create an instance of the Phrases model\n",
    "n_gram_model = Phrases(preprocessed_press_releases,       # Expected input format: list of tokenized texts\n",
    "                       min_count=5,                       # Keeps only collocations with at least min_counts \n",
    "                       delimiter=b'_')                    # Glue character used to join collocation tokens"
   ]
  },
  {
   "cell_type": "code",
   "execution_count": 30,
   "id": "d8aec683-6ba1-4c30-a283-9efb12570aec",
   "metadata": {},
   "outputs": [
    {
     "name": "stdout",
     "output_type": "stream",
     "text": [
      "['bern', '28', '02', '2020', 'extraordinary', 'meeting', 'federal_council', 'held', 'today', '28', 'february', 'view', 'current', 'situation', 'spread_coronavirus', 'federal_council', 'categorised', 'situation', 'switzerland', '‘special’', 'terms_epidemics', 'act', 'large-scale_events', 'involving', '1000_people', 'banned', 'ban', 'comes', 'immediate', 'effect', 'apply', 'least', '15', 'march', \"federal_council's\", 'top_priority', 'protect_population', 'responding', 'latest', 'developments', 'coronavirus', 'epidemic', 'categorised', 'situation', 'switzerland', \"‘special'\", 'terms_epidemics', 'act', 'enables', 'federal_council', 'consultation', 'cantons', 'order', 'measures', 'normally', 'responsibility', 'cantons', 'federal_council', 'banning', 'public', 'private_events', 'switzerland', '1000_people', 'would', 'gather', 'ban', 'events', 'comes', 'immediate', 'effect', 'apply', 'least', '15', 'march', 'cantons_responsible', 'enforcing', 'ban', 'case', 'public', 'private_events', 'fewer_1000', 'people', 'would', 'gather', 'event_organisers', 'must', 'carry', 'risk', 'assessment', 'conjunction', 'competent', 'cantonal_authorities', 'decide', 'whether', 'event', 'held', 'federal_council', 'aware', 'measure', 'significant', 'impact', 'public', 'life', 'switzerland', 'however', 'move', 'expected', 'provide', 'effective', 'protection', 'people', 'switzerland', 'public_health', 'prevent', 'delay', 'spread', 'disease', 'switzerland', 'thus', 'reducing', 'momentum', \"federal_council's\", 'top_priority', 'protect_population', 'responding', 'latest', 'developments', 'coronavirus', 'epidemic', 'categorised', 'situation', 'switzerland', \"‘special'\", 'terms_epidemics', 'act', 'enables', 'federal_council', 'consultation', 'cantons', 'order', 'measures', 'normally', 'responsibility', 'cantons', 'federal_council', 'banning', 'public', 'private_events', 'switzerland', '1000_people', 'would', 'gather', 'ban', 'events', 'comes', 'immediate', 'effect', 'apply', 'least', '15', 'march', 'cantons_responsible', 'enforcing', 'ban', 'case', 'public', 'private_events', 'fewer_1000', 'people', 'would', 'gather', 'event_organisers', 'must', 'carry', 'risk', 'assessment', 'conjunction', 'competent', 'cantonal_authorities', 'decide', 'whether', 'event', 'held', 'federal_council', 'aware', 'measure', 'significant', 'impact', 'public', 'life', 'switzerland', 'however', 'move', 'expected', 'provide', 'effective', 'protection', 'people', 'switzerland', 'public_health', 'prevent', 'delay', 'spread', 'disease', 'switzerland', 'thus', 'reducing', 'momentum']\n"
     ]
    }
   ],
   "source": [
    "#We apply the n_gram_model model to the press releases texts.\n",
    "# Apply Phrases to press releases\n",
    "\n",
    "preprocessed_press_releases_collocations = [n_gram_model[doc] for doc in preprocessed_press_releases]\n",
    "# Add processed press releases (with collocations) to dataframe\n",
    "\n",
    "df['clean_text'] = preprocessed_press_releases_collocations\n",
    "print(preprocessed_press_releases_collocations[0])\n"
   ]
  },
  {
   "cell_type": "code",
   "execution_count": 31,
   "id": "a0ac8a5f-401a-4187-8610-e164dc0f61d0",
   "metadata": {},
   "outputs": [
    {
     "data": {
      "image/png": "[encoded data removed]",
      "text/plain": [
       "<Figure size 1080x216 with 1 Axes>"
      ]
     },
     "metadata": {
      "image/png": {
       "height": 330,
       "width": 891
      },
      "needs_background": "light"
     },
     "output_type": "display_data"
    }
   ],
   "source": [
    "# Below we count and plot the most frequent words in a randomly selected press release. This time we include collocations in the most common words.\n",
    "\n",
    "# Generates a random integer between 0 and len(df)\n",
    "idx = random.randint(0,len(df))\n",
    "\n",
    "# Find top-50 most common words\n",
    "w = Counter(preprocessed_press_releases_collocations[idx]).most_common(50)\n",
    "\n",
    "# Plots top words\n",
    "\n",
    "# Barplot and font specifications\n",
    "barplot_specs   = {\"color\": \"mediumpurple\", \"alpha\": 0.7, \"edgecolor\": \"grey\"}\n",
    "title_specs     = {\"fontsize\": 14, \"fontweight\": \"bold\", \"y\": 1.2}\n",
    "suptitle_specs  = {\"fontsize\": 11}\n",
    "label_specs     = {\"fontsize\": 13}\n",
    "\n",
    "plt.figure(figsize=(15,3))\n",
    "plt.bar(*zip(*w), **barplot_specs)\n",
    "plt.title('Most common words in document {} - Publication date: {}'.format(idx,df.iloc[idx,1].strftime(\"%d-%m-%Y\")), **title_specs)\n",
    "plt.suptitle(df.iloc[idx,0],**suptitle_specs)\n",
    "plt.ylabel('Word counts', **label_specs)\n",
    "plt.xticks(rotation=90)\n",
    "plt.show()"
   ]
  },
  {
   "cell_type": "code",
   "execution_count": 32,
   "id": "25d35c58-548a-45b2-b388-485e6101f6e2",
   "metadata": {},
   "outputs": [
    {
     "name": "stdout",
     "output_type": "stream",
     "text": [
      "Printing document 57:\n",
      "\n",
      "Bern, 30.06.2021 - At its meeting on 30 June, the Federal Council decided to extend until the end of the year the temporary measures in support of the print media relating to the COVID situation. At the same time, the Federal Council supports the package of measures recently adopted by Parliament in favour of the media as it addresses the industry’s structural difficulties. The complete text is available in German, French and Italian. Please click on the desired language in the navigation menu above. The complete text is available in German, French and Italian. Please click on the desired language in the navigation menu above.\n"
     ]
    }
   ],
   "source": [
    "# Do the topmost frequent words help guess the “topic” of the press release?\n",
    "# Print the original unprocessed text corresponding to the previous plot \n",
    "print('Printing document {}:\\n'.format(idx))\n",
    "print(df.iloc[idx,2])"
   ]
  },
  {
   "cell_type": "markdown",
   "id": "0d9ec29c-52fe-4135-bc73-82da98fdabe6",
   "metadata": {},
   "source": [
    "#### Tf-idf weighting model\n",
    "\n",
    "We would like to give the words specific to a given press release higher weights so that we can discriminate it from other press releases in the same corpus.\n",
    "\n",
    "Therefore, we may want to:\n",
    "\n",
    "* Diminish the importance of widespread words over the entire corpus of documents as they could shadow rarer yet more interesting words.\n",
    "* Focus more on rare words across the corpus, as they could be more informative about the content of individual press releases.\n",
    "\n",
    "This is known as tf–idf weighting model, where tf stands for term-frequency and idf stands for inverse document frequency and is a “measure” of a word’s “rarity” in the corpus. The higher the idf, the “rarer” the word in the corpus. In other words, tf-idf model favors words, or terms, that are frequent in few documents.\n",
    "\n",
    "We start by importing the tf-idf model from scikit-learn and creating an instance of it."
   ]
  },
  {
   "cell_type": "code",
   "execution_count": 33,
   "id": "1565caa1-c687-4815-8af4-5d8fe8b1dd77",
   "metadata": {},
   "outputs": [],
   "source": [
    "# Import TfidfVectorizer\n",
    "from sklearn.feature_extraction.text import TfidfVectorizer\n",
    "\n",
    "# Create an instance of the tf-idf model\n",
    "tfidf = TfidfVectorizer()"
   ]
  },
  {
   "cell_type": "markdown",
   "id": "13d65dc6-1dba-446d-aeeb-f553e2f7f68e",
   "metadata": {},
   "source": [
    "tf-idf model expects non-tokenized text; using it directly with preprocessed_press_releases_collocations would throw an error. This is why below we use the join() function to join lists of tokens into single strings."
   ]
  },
  {
   "cell_type": "code",
   "execution_count": 34,
   "id": "e05855a0-147c-4b19-9d30-e1186a0bc9a7",
   "metadata": {},
   "outputs": [],
   "source": [
    "# Join lists of tokens into single strings (for each press release)\n",
    "\n",
    "X = [\" \".join([w for w in doc]) for doc in preprocessed_press_releases_collocations]\n",
    "# Fit model on text data\n",
    "tfidf.fit(X);"
   ]
  },
  {
   "cell_type": "markdown",
   "id": "3e477b29-7e68-42e5-beca-7e5dfe172d89",
   "metadata": {},
   "source": [
    " couple of things happen once we call the fit method of TfidfVectorizer() on our text data.\n",
    "\n",
    "First, the TfidfVectorizer model tokenizes texts and builds the vocabulary. The vocabulary is the list of unique words in our corpus. We can check which words are part of the vocabulary using the get_feature_names_out() method."
   ]
  },
  {
   "cell_type": "code",
   "execution_count": 35,
   "id": "a66622e5-b94f-4b25-a271-d6c67b62d0e9",
   "metadata": {},
   "outputs": [
    {
     "name": "stdout",
     "output_type": "stream",
     "text": [
      "Vocabulary length: 3947\n",
      "\n",
      "Show a few words from vocabulary:\n",
      "['000' '07' '11' '128' '16' '19_april' '1_july' '2021' '23' '27_may'\n",
      " '30_people' '480' '5_million' '72' '85' 'able' 'accept' 'accompanying'\n",
      " 'act' 'acute' 'additional' 'adjustment' 'adolescents' 'advantages'\n",
      " 'affects' 'age_16' 'ahead' 'airline' 'allfollowing' 'allowedfrom'\n",
      " 'always' 'amounting' 'announced' 'anyone' 'appeared' 'appointment'\n",
      " 'april_2020' 'armed' 'article' 'assessments' 'assume_cost'\n",
      " 'asymptomatic_persons' 'attention' 'austrian' 'automatically'\n",
      " 'aviation_industry' 'back' 'banned' 'basically' 'beds']\n"
     ]
    }
   ],
   "source": [
    "# Show vocabulary\n",
    "vocabulary = tfidf.get_feature_names_out()\n",
    "\n",
    "# Print vocabulary length\n",
    "print('Vocabulary length: {}\\n'.format(len(vocabulary)))\n",
    "\n",
    "# Show a few words from vocabulary\n",
    "print('Show a few words from vocabulary:')\n",
    "print(vocabulary[0:500:10])"
   ]
  },
  {
   "cell_type": "code",
   "execution_count": 36,
   "id": "3750c184-4899-407e-98cb-52a37264f9aa",
   "metadata": {},
   "outputs": [
    {
     "name": "stdout",
     "output_type": "stream",
     "text": [
      "(61, 3947)\n"
     ]
    }
   ],
   "source": [
    "# To transform each sample of text in our corpus into its tf-idf representation, we call the transform() method.\n",
    "\n",
    "# Get tf-idf representation of text data\n",
    "X_tfidf = tfidf.transform(X)\n",
    "print(X_tfidf.shape)\n"
   ]
  },
  {
   "cell_type": "markdown",
   "id": "060c0730-9fe5-4fca-9f84-1fcf64eaa27f",
   "metadata": {},
   "source": [
    "The shape of X_tfidf is (61, 3947). Each row corresponds to a text document from the corpus and each column to a word in the vocabulary.\n",
    "\n",
    "We can check what X_tfidf looks like using the following code snippet.\n",
    "\n"
   ]
  },
  {
   "cell_type": "code",
   "execution_count": 37,
   "id": "fe3dd1cd-4869-4efe-be46-093cac903135",
   "metadata": {},
   "outputs": [
    {
     "data": {
      "text/html": [
       "<div>\n",
       "<style scoped>\n",
       "    .dataframe tbody tr th:only-of-type {\n",
       "        vertical-align: middle;\n",
       "    }\n",
       "\n",
       "    .dataframe tbody tr th {\n",
       "        vertical-align: top;\n",
       "    }\n",
       "\n",
       "    .dataframe thead th {\n",
       "        text-align: right;\n",
       "    }\n",
       "</style>\n",
       "<table border=\"1\" class=\"dataframe\">\n",
       "  <thead>\n",
       "    <tr style=\"text-align: right;\">\n",
       "      <th></th>\n",
       "      <th>000</th>\n",
       "      <th>000_people</th>\n",
       "      <th>01</th>\n",
       "      <th>02</th>\n",
       "      <th>03</th>\n",
       "      <th>04</th>\n",
       "      <th>04_2020</th>\n",
       "      <th>05</th>\n",
       "      <th>05_2020</th>\n",
       "      <th>06</th>\n",
       "      <th>...</th>\n",
       "      <th>young_people</th>\n",
       "      <th>younger</th>\n",
       "      <th>youth</th>\n",
       "      <th>zealand</th>\n",
       "      <th>zero</th>\n",
       "      <th>zones</th>\n",
       "      <th>zoos</th>\n",
       "      <th>zoos_botanical</th>\n",
       "      <th>zoosin</th>\n",
       "      <th>zurich</th>\n",
       "    </tr>\n",
       "  </thead>\n",
       "  <tbody>\n",
       "    <tr>\n",
       "      <th>0</th>\n",
       "      <td>0.000000</td>\n",
       "      <td>0.0</td>\n",
       "      <td>0.0</td>\n",
       "      <td>0.054617</td>\n",
       "      <td>0.000000</td>\n",
       "      <td>0.0</td>\n",
       "      <td>0.0</td>\n",
       "      <td>0.0</td>\n",
       "      <td>0.0</td>\n",
       "      <td>0.0</td>\n",
       "      <td>...</td>\n",
       "      <td>0.0</td>\n",
       "      <td>0.0</td>\n",
       "      <td>0.0</td>\n",
       "      <td>0.0</td>\n",
       "      <td>0.000000</td>\n",
       "      <td>0.0</td>\n",
       "      <td>0.0</td>\n",
       "      <td>0.0</td>\n",
       "      <td>0.0</td>\n",
       "      <td>0.0</td>\n",
       "    </tr>\n",
       "    <tr>\n",
       "      <th>1</th>\n",
       "      <td>0.000000</td>\n",
       "      <td>0.0</td>\n",
       "      <td>0.0</td>\n",
       "      <td>0.000000</td>\n",
       "      <td>0.014843</td>\n",
       "      <td>0.0</td>\n",
       "      <td>0.0</td>\n",
       "      <td>0.0</td>\n",
       "      <td>0.0</td>\n",
       "      <td>0.0</td>\n",
       "      <td>...</td>\n",
       "      <td>0.0</td>\n",
       "      <td>0.0</td>\n",
       "      <td>0.0</td>\n",
       "      <td>0.0</td>\n",
       "      <td>0.000000</td>\n",
       "      <td>0.0</td>\n",
       "      <td>0.0</td>\n",
       "      <td>0.0</td>\n",
       "      <td>0.0</td>\n",
       "      <td>0.0</td>\n",
       "    </tr>\n",
       "    <tr>\n",
       "      <th>2</th>\n",
       "      <td>0.032799</td>\n",
       "      <td>0.0</td>\n",
       "      <td>0.0</td>\n",
       "      <td>0.000000</td>\n",
       "      <td>0.016399</td>\n",
       "      <td>0.0</td>\n",
       "      <td>0.0</td>\n",
       "      <td>0.0</td>\n",
       "      <td>0.0</td>\n",
       "      <td>0.0</td>\n",
       "      <td>...</td>\n",
       "      <td>0.0</td>\n",
       "      <td>0.0</td>\n",
       "      <td>0.0</td>\n",
       "      <td>0.0</td>\n",
       "      <td>0.000000</td>\n",
       "      <td>0.0</td>\n",
       "      <td>0.0</td>\n",
       "      <td>0.0</td>\n",
       "      <td>0.0</td>\n",
       "      <td>0.0</td>\n",
       "    </tr>\n",
       "    <tr>\n",
       "      <th>3</th>\n",
       "      <td>0.000000</td>\n",
       "      <td>0.0</td>\n",
       "      <td>0.0</td>\n",
       "      <td>0.000000</td>\n",
       "      <td>0.035813</td>\n",
       "      <td>0.0</td>\n",
       "      <td>0.0</td>\n",
       "      <td>0.0</td>\n",
       "      <td>0.0</td>\n",
       "      <td>0.0</td>\n",
       "      <td>...</td>\n",
       "      <td>0.0</td>\n",
       "      <td>0.0</td>\n",
       "      <td>0.0</td>\n",
       "      <td>0.0</td>\n",
       "      <td>0.000000</td>\n",
       "      <td>0.0</td>\n",
       "      <td>0.0</td>\n",
       "      <td>0.0</td>\n",
       "      <td>0.0</td>\n",
       "      <td>0.0</td>\n",
       "    </tr>\n",
       "    <tr>\n",
       "      <th>4</th>\n",
       "      <td>0.123561</td>\n",
       "      <td>0.0</td>\n",
       "      <td>0.0</td>\n",
       "      <td>0.000000</td>\n",
       "      <td>0.020593</td>\n",
       "      <td>0.0</td>\n",
       "      <td>0.0</td>\n",
       "      <td>0.0</td>\n",
       "      <td>0.0</td>\n",
       "      <td>0.0</td>\n",
       "      <td>...</td>\n",
       "      <td>0.0</td>\n",
       "      <td>0.0</td>\n",
       "      <td>0.0</td>\n",
       "      <td>0.0</td>\n",
       "      <td>0.064655</td>\n",
       "      <td>0.0</td>\n",
       "      <td>0.0</td>\n",
       "      <td>0.0</td>\n",
       "      <td>0.0</td>\n",
       "      <td>0.0</td>\n",
       "    </tr>\n",
       "  </tbody>\n",
       "</table>\n",
       "<p>5 rows × 3947 columns</p>\n",
       "</div>"
      ],
      "text/plain": [
       "        000  000_people   01        02        03   04  04_2020   05  05_2020  \\\n",
       "0  0.000000         0.0  0.0  0.054617  0.000000  0.0      0.0  0.0      0.0   \n",
       "1  0.000000         0.0  0.0  0.000000  0.014843  0.0      0.0  0.0      0.0   \n",
       "2  0.032799         0.0  0.0  0.000000  0.016399  0.0      0.0  0.0      0.0   \n",
       "3  0.000000         0.0  0.0  0.000000  0.035813  0.0      0.0  0.0      0.0   \n",
       "4  0.123561         0.0  0.0  0.000000  0.020593  0.0      0.0  0.0      0.0   \n",
       "\n",
       "    06  ...  young_people  younger  youth  zealand      zero  zones  zoos  \\\n",
       "0  0.0  ...           0.0      0.0    0.0      0.0  0.000000    0.0   0.0   \n",
       "1  0.0  ...           0.0      0.0    0.0      0.0  0.000000    0.0   0.0   \n",
       "2  0.0  ...           0.0      0.0    0.0      0.0  0.000000    0.0   0.0   \n",
       "3  0.0  ...           0.0      0.0    0.0      0.0  0.000000    0.0   0.0   \n",
       "4  0.0  ...           0.0      0.0    0.0      0.0  0.064655    0.0   0.0   \n",
       "\n",
       "   zoos_botanical  zoosin  zurich  \n",
       "0             0.0     0.0     0.0  \n",
       "1             0.0     0.0     0.0  \n",
       "2             0.0     0.0     0.0  \n",
       "3             0.0     0.0     0.0  \n",
       "4             0.0     0.0     0.0  \n",
       "\n",
       "[5 rows x 3947 columns]"
      ]
     },
     "execution_count": 37,
     "metadata": {},
     "output_type": "execute_result"
    }
   ],
   "source": [
    "df_tfidf = pd.DataFrame(X_tfidf.toarray(),\n",
    "                        columns=vocabulary)\n",
    "df_tfidf.head()"
   ]
  },
  {
   "cell_type": "markdown",
   "id": "c936c359-ddc7-4ed2-98f8-e4babd17d2a8",
   "metadata": {},
   "source": [
    "#### Top words according to tf-idf scores\n",
    "\n",
    "Instead of looking at the topmost frequent words in each press release, we will focus on words with the highest tf-idf scores in each document. Remember, tf-idf favors words that are frequent in few press releases. We hope that this way, the importance of widespread words across all press releases (such as “Federal Council”, etc.) will be diminished, letting us focus on other more informative words about the content of individual press releases.\n",
    "\n",
    "Below we plot the top 50 words according to the tf-idf scores.\n",
    "\n",
    " \n"
   ]
  },
  {
   "cell_type": "code",
   "execution_count": 38,
   "id": "12481993-9978-4c46-bf80-d481b046f4a2",
   "metadata": {},
   "outputs": [
    {
     "name": "stdout",
     "output_type": "stream",
     "text": [
      "Printing top words according to tf-idf for document 57.\n"
     ]
    }
   ],
   "source": [
    "# Set number of top words to plot\n",
    "N = 50\n",
    "\n",
    "print('Printing top words according to tf-idf for document {}.'.format(idx))\n"
   ]
  },
  {
   "cell_type": "code",
   "execution_count": 39,
   "id": "69878b87-67c6-4122-aaa0-37a84faf1bfb",
   "metadata": {},
   "outputs": [
    {
     "data": {
      "text/plain": [
       "array([2232, 2025,  722, ..., 2621, 2620,    0], dtype=int64)"
      ]
     },
     "execution_count": 39,
     "metadata": {},
     "output_type": "execute_result"
    }
   ],
   "source": [
    "# Sort indexes according to tf-idf scores for document idx\n",
    "\n",
    "index_sorted = np.argsort(df_tfidf.iloc[idx,:])[::-1]  # descending order\n",
    "\n",
    "# Print sorted indexes according to tf-idf\n",
    "index_sorted.values"
   ]
  },
  {
   "cell_type": "code",
   "execution_count": 40,
   "id": "1f0410a1-779a-4894-b7a5-48fe9b8a55f8",
   "metadata": {},
   "outputs": [
    {
     "name": "stdout",
     "output_type": "stream",
     "text": [
      "['menu' 'language' 'click' 'please' 'media' 'italian' 'navigation'\n",
      " 'french' 'german' 'text' 'desired' 'complete' '30' 'available'\n",
      " 'structural' 'addresses' 'difficulties' 'print' 'relating' 'recently'\n",
      " 'favour' 'supports' 'end_year' 'package_measures' 'industry' 'temporary'\n",
      " 'extend' '2021_meeting' '06' 'parliament' 'adopted' 'federal_council'\n",
      " 'support' 'june' 'time' 'situation' 'decided' 'covid' 'measures' 'bern'\n",
      " 'entrance' 'estate' 'entry' 'estimated' 'entry_requirements'\n",
      " 'establishments' 'etc' 'essential_everyday' 'entitlement' 'entitled']\n"
     ]
    }
   ],
   "source": [
    "# Sort words in vocabulary according to tf-idf\n",
    "\n",
    "features_sorted = np.array(vocabulary)[index_sorted][0:N]\n",
    "\n",
    "# Print top words according to tf-idf scores\n",
    "print(features_sorted)"
   ]
  },
  {
   "cell_type": "code",
   "execution_count": 41,
   "id": "5fb303ca-487d-48a9-b71d-0786128fc97c",
   "metadata": {},
   "outputs": [
    {
     "name": "stdout",
     "output_type": "stream",
     "text": [
      "menu                  0.245256\n",
      "language              0.245256\n",
      "click                 0.245256\n",
      "please                0.245256\n",
      "media                 0.245256\n",
      "italian               0.245256\n",
      "navigation            0.245256\n",
      "french                0.245256\n",
      "german                0.230626\n",
      "text                  0.230626\n",
      "desired               0.230626\n",
      "complete              0.218673\n",
      "30                    0.167981\n",
      "available             0.146646\n",
      "structural            0.145350\n",
      "addresses             0.145350\n",
      "difficulties          0.145350\n",
      "print                 0.132059\n",
      "relating              0.132059\n",
      "recently              0.132059\n",
      "favour                0.122628\n",
      "supports              0.122628\n",
      "end_year              0.115313\n",
      "package_measures      0.109337\n",
      "industry              0.109337\n",
      "temporary             0.104283\n",
      "extend                0.099906\n",
      "2021_meeting          0.096045\n",
      "06                    0.089467\n",
      "parliament            0.086615\n",
      "adopted               0.081561\n",
      "federal_council       0.065562\n",
      "support               0.065288\n",
      "june                  0.062554\n",
      "time                  0.057689\n",
      "situation             0.054462\n",
      "decided               0.054462\n",
      "covid                 0.043286\n",
      "measures              0.041861\n",
      "bern                  0.033314\n",
      "entrance              0.000000\n",
      "estate                0.000000\n",
      "entry                 0.000000\n",
      "estimated             0.000000\n",
      "entry_requirements    0.000000\n",
      "establishments        0.000000\n",
      "etc                   0.000000\n",
      "essential_everyday    0.000000\n",
      "entitlement           0.000000\n",
      "entitled              0.000000\n",
      "Name: 57, dtype: float64\n"
     ]
    }
   ],
   "source": [
    "# Sort tf-idf scores (descending order)\n",
    "\n",
    "tfidf_weights_sorted = df_tfidf.iloc[idx,:][index_sorted][0:N]\n",
    "print(tfidf_weights_sorted)"
   ]
  },
  {
   "cell_type": "code",
   "execution_count": 42,
   "id": "aadc843e-af65-4b8e-8b79-d56ca946f6c3",
   "metadata": {},
   "outputs": [
    {
     "data": {
      "image/png": "[encoded data removed]",
      "text/plain": [
       "<Figure size 1080x216 with 1 Axes>"
      ]
     },
     "metadata": {
      "image/png": {
       "height": 333,
       "width": 897
      },
      "needs_background": "light"
     },
     "output_type": "display_data"
    }
   ],
   "source": [
    "# Plots top words according to tf-idf scores\n",
    "\n",
    "# Barplot and font specifications\n",
    "barplot_specs   = {\"color\": \"mediumpurple\", \"alpha\": 0.7, \"edgecolor\": \"grey\"}\n",
    "title_specs     = {\"fontsize\": 14, \"fontweight\": \"bold\", \"y\": 1.2}\n",
    "suptitle_specs  = {\"fontsize\": 11}\n",
    "label_specs     = {\"fontsize\": 13}\n",
    "\n",
    "plt.figure(figsize=(15,3))\n",
    "\n",
    "plt.bar(x = features_sorted,\n",
    "        height=tfidf_weights_sorted,\n",
    "        **barplot_specs)\n",
    "\n",
    "plt.title('Top words according to tf-idf in document {} - Publication date: {}'.format(idx,df.iloc[idx,1].strftime(\"%d-%m-%Y\")), **title_specs)\n",
    "plt.suptitle(df.iloc[idx,0],**suptitle_specs)\n",
    "plt.ylabel('Tf-Idf weights', **label_specs)\n",
    "plt.xticks(rotation=90)\n",
    "plt.show()"
   ]
  },
  {
   "cell_type": "markdown",
   "id": "e49e7cd1-006c-47a8-9ac1-ecc1d526241d",
   "metadata": {},
   "source": [
    "Don’t hesitate to compare this approach with the topmost frequent words for the same press release. Hopefully, diminishing the importance of widespread words across all documents has helped to focus on rare words that are more informative about the content of individual press releases. \n",
    "* Working with text data requires preprocessing to remove unnecessary words and reduce variability by standardizing words into a common form.\n",
    "* Word frequencies can reveal information about the content of a document.\n",
    "* Tf-idf weighting allows focusing less on widespread words across all documents in a dataset and more on words that occur in a small fraction of the corpus."
   ]
  },
  {
   "cell_type": "code",
   "execution_count": null,
   "id": "dce246f5-feff-4ff9-895d-0796c243717c",
   "metadata": {},
   "outputs": [],
   "source": []
  }
 ],
 "metadata": {
  "kernelspec": {
   "display_name": "Python [conda env:adsml] *",
   "language": "python",
   "name": "conda-env-adsml-py"
  },
  "language_info": {
   "codemirror_mode": {
    "name": "ipython",
    "version": 3
   },
   "file_extension": ".py",
   "mimetype": "text/x-python",
   "name": "python",
   "nbconvert_exporter": "python",
   "pygments_lexer": "ipython3",
   "version": "3.9.7"
  }
 },
 "nbformat": 4,
 "nbformat_minor": 5
}
