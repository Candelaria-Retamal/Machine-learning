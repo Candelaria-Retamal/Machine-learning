{
 "cells": [
  {
   "cell_type": "markdown",
   "id": "409c1045-689e-4603-926b-a9050e3c41fc",
   "metadata": {},
   "source": [
    "# Unit 3: House prices\n",
    "###### Candelaria Retamal\n",
    "###### **11.03.2022**\n",
    "\n",
    "## Table of contents\n",
    "\n",
    "<a id=\"Table\"></a>\n",
    "### [A. Data Cleaning](#Cleaning)\n",
    "\n",
    "### [B. Feature Encoding](#Encoding)\n",
    "\n",
    "### [C. Feature Engineering](#Engineering)\n",
    "\n",
    "### [D. Model Fitting](#Fitting)\n",
    "\n",
    "### [E. Regularization](#Regularization)\n",
    "\n",
    "### [F. Compute Predictions](#Compute)\n",
    "\n",
    "### [G. Evaluate Predictions](#Evaluate)"
   ]
  },
  {
   "cell_type": "markdown",
   "id": "35b0448a-e50b-42ea-8104-5c649c46f2f1",
   "metadata": {},
   "source": [
    "<a id=\"Cleaning\"></a>\n",
    "### **A. Data Cleaning**"
   ]
  },
  {
   "cell_type": "markdown",
   "id": "0ee6ce05-12c9-4222-b236-dbddbc3a8048",
   "metadata": {},
   "source": [
    "> Your analysis should include the necessary data cleaning steps. For instance:\n",
    "    - Find and handle incorrect, missing values\n",
    "    - Correct inconsistencies in the variables\n",
    "    - Handle outliers -\n",
    "    You are free to choose your preferred approach to handle each step. For instance, you might want to replace missing values with the average or the most frequent value or create an missing category. In any case, justify your choices!"
   ]
  },
  {
   "cell_type": "markdown",
   "id": "fd93fa9b-08ba-4099-8437-90f12c4fffbb",
   "metadata": {},
   "source": [
    "**Solution:** Before starting with the solution of the problem, we will include a short summary (that comes from the documentation.txt).\n",
    "\n",
    "* MS SubClass (Nominal): Identifies the type of dwelling involved in the sale [16 options]\n",
    "* MS Zoning (Nominal): Identifies the general zoning classification of the sale [8 options]\n",
    "* Street (Nominal): Type of road access to property [2 options]\n",
    "* Alley (Nominal): Type of alley access to property [3 options]\n",
    "* Land Contour (Nominal): Flatness of the property [4 options]\n",
    "* Lot Config (Nominal): Lot configuration [5 options]\n",
    "* Neighborhood (Nominal): Physical locations within Ames city limits (map available)[28 options]\n",
    "* Condition 1 (Nominal): Proximity to various conditions [9 options]\n",
    "* Condition 2 (Nominal): Proximity to various conditions (if more than one is present) [9 options]\n",
    "* Bldg Type (Nominal): Type of dwelling [5 options]\n",
    "* House Style (Nominal): Style of dwelling [8 options]\n",
    "* Roof Style (Nominal): Type of roof [6 options]\n",
    "* Roof Matl (Nominal): Roof material [8 options]\n",
    "* Exterior 1 (Nominal): Exterior covering on house [17 options]\n",
    "* Exterior 2 (Nominal): Exterior covering on house (if more than one material) [17 options]\n",
    "* Mas Vnr Type (Nominal): Masonry veneer type [5 options]\n",
    "* Foundation (Nominal): Type of foundation [6 options]\n",
    "* Heating (Nominal): Type of heating [6 options]\n",
    "* Central Air (Nominal): Central air conditioning [2 options]\n",
    "* Garage Type (Nominal): Garage location [7 options]\n",
    "* Misc Feature (Nominal): Miscellaneous feature not covered in other categories [6 options]\n",
    "* Sale Type (Nominal): Type of sale [10 options]\n",
    "* Sale Condition (Nominal): Condition of sale [6 options]\n"
   ]
  },
  {
   "cell_type": "markdown",
   "id": "16bc68f5-e8c1-41e9-a7fd-7fc27e9b63f3",
   "metadata": {},
   "source": [
    "* Lot Shape (Ordinal): General shape of property [4 options] non-num\n",
    "* Utilities (Ordinal): Type of utilities available [4 options] non-num\n",
    "* Land Slope (Ordinal): Slope of property [3 options] non-num\n",
    "* Overall Qual (Ordinal): Rates the overall material and finish of the house [10 options] num\n",
    "* Overall Cond (Ordinal): Rates the overall condition of the house [10 options] num\n",
    "* Exter Qual (Ordinal): Evaluates the quality of the material on the exterior [5 options] non-num\n",
    "* Exter Cond (Ordinal): Evaluates the present condition of the material on the exterior [5 options] non-num\n",
    "* Bsmt Qual (Ordinal): Evaluates the height of the basement [6 options] non-num\n",
    "* Bsmt Cond (Ordinal): Evaluates the general condition of the basement [6 options] non-num\n",
    "* Bsmt Exposure (Ordinal): Refers to walkout or garden level walls [5 options] non-num\n",
    "* BsmtFin Type 1 (Ordinal): Rating of basement finished area [7 options] non-num\n",
    "* BsmtFinType 2\t(Ordinal): Rating of basement finished area (if multiple types) [7 options] non-num\n",
    "* HeatingQC (Ordinal): Heating quality and condition [5 options] non-num\n",
    "* Electrical (Ordinal): Electrical system [5 options] non-num\n",
    "* KitchenQual (Ordinal): Kitchen quality [5 options] non-num\n",
    "* Functional (Ordinal): Home functionality (Assume typical unless deductions are warranted) [8 options] non-num\n",
    "* FireplaceQu (Ordinal): Fireplace quality [6 options] non-num\n",
    "* Garage Finish (Ordinal): Interior finish of the garage [4 options] non-num\n",
    "* Garage Qual (Ordinal): Garage quality [6 options] non-num\n",
    "* Garage Cond (Ordinal): Garage condition [6 options] non-num\n",
    "* Paved Drive (Ordinal): Paved driveway [3 options] non-num\n",
    "* Pool QC (Ordinal): Pool quality [5 options] non-num\n",
    "* Fence (Ordinal): Fence quality [5 options] non-num"
   ]
  },
  {
   "cell_type": "markdown",
   "id": "9fd0ec06-3377-45dd-b1f9-c792660d17d1",
   "metadata": {},
   "source": [
    "We will first load the information, and start by taking a quick look to the level of completeness of the available data."
   ]
  },
  {
   "cell_type": "code",
   "execution_count": 1,
   "id": "6e231990-b69d-48e4-86c7-8b47da4c3598",
   "metadata": {},
   "outputs": [
    {
     "data": {
      "text/html": [
       "<div>\n",
       "<style scoped>\n",
       "    .dataframe tbody tr th:only-of-type {\n",
       "        vertical-align: middle;\n",
       "    }\n",
       "\n",
       "    .dataframe tbody tr th {\n",
       "        vertical-align: top;\n",
       "    }\n",
       "\n",
       "    .dataframe thead th {\n",
       "        text-align: right;\n",
       "    }\n",
       "</style>\n",
       "<table border=\"1\" class=\"dataframe\">\n",
       "  <thead>\n",
       "    <tr style=\"text-align: right;\">\n",
       "      <th></th>\n",
       "      <th>Order</th>\n",
       "      <th>PID</th>\n",
       "      <th>MS SubClass</th>\n",
       "      <th>MS Zoning</th>\n",
       "      <th>Lot Frontage</th>\n",
       "      <th>Lot Area</th>\n",
       "      <th>Street</th>\n",
       "      <th>Alley</th>\n",
       "      <th>Lot Shape</th>\n",
       "      <th>Land Contour</th>\n",
       "      <th>...</th>\n",
       "      <th>Screen Porch</th>\n",
       "      <th>Pool Area</th>\n",
       "      <th>Pool QC</th>\n",
       "      <th>Fence</th>\n",
       "      <th>Misc Feature</th>\n",
       "      <th>Misc Val</th>\n",
       "      <th>Mo Sold</th>\n",
       "      <th>Yr Sold</th>\n",
       "      <th>Sale Type</th>\n",
       "      <th>Sale Condition</th>\n",
       "    </tr>\n",
       "  </thead>\n",
       "  <tbody>\n",
       "    <tr>\n",
       "      <th>0</th>\n",
       "      <td>2217</td>\n",
       "      <td>909279080</td>\n",
       "      <td>50</td>\n",
       "      <td>RL</td>\n",
       "      <td>NaN</td>\n",
       "      <td>11275</td>\n",
       "      <td>Pave</td>\n",
       "      <td>NaN</td>\n",
       "      <td>IR1</td>\n",
       "      <td>HLS</td>\n",
       "      <td>...</td>\n",
       "      <td>0</td>\n",
       "      <td>0</td>\n",
       "      <td>NaN</td>\n",
       "      <td>NaN</td>\n",
       "      <td>NaN</td>\n",
       "      <td>0</td>\n",
       "      <td>3</td>\n",
       "      <td>2007</td>\n",
       "      <td>WD</td>\n",
       "      <td>Normal</td>\n",
       "    </tr>\n",
       "    <tr>\n",
       "      <th>1</th>\n",
       "      <td>837</td>\n",
       "      <td>907126050</td>\n",
       "      <td>20</td>\n",
       "      <td>RL</td>\n",
       "      <td>65.0</td>\n",
       "      <td>9757</td>\n",
       "      <td>Pave</td>\n",
       "      <td>NaN</td>\n",
       "      <td>Reg</td>\n",
       "      <td>Low</td>\n",
       "      <td>...</td>\n",
       "      <td>92</td>\n",
       "      <td>0</td>\n",
       "      <td>NaN</td>\n",
       "      <td>NaN</td>\n",
       "      <td>NaN</td>\n",
       "      <td>0</td>\n",
       "      <td>10</td>\n",
       "      <td>2009</td>\n",
       "      <td>WD</td>\n",
       "      <td>Normal</td>\n",
       "    </tr>\n",
       "    <tr>\n",
       "      <th>2</th>\n",
       "      <td>2397</td>\n",
       "      <td>528144030</td>\n",
       "      <td>60</td>\n",
       "      <td>RL</td>\n",
       "      <td>86.0</td>\n",
       "      <td>11065</td>\n",
       "      <td>Pave</td>\n",
       "      <td>NaN</td>\n",
       "      <td>IR1</td>\n",
       "      <td>Lvl</td>\n",
       "      <td>...</td>\n",
       "      <td>0</td>\n",
       "      <td>0</td>\n",
       "      <td>NaN</td>\n",
       "      <td>NaN</td>\n",
       "      <td>NaN</td>\n",
       "      <td>0</td>\n",
       "      <td>10</td>\n",
       "      <td>2006</td>\n",
       "      <td>New</td>\n",
       "      <td>Partial</td>\n",
       "    </tr>\n",
       "    <tr>\n",
       "      <th>3</th>\n",
       "      <td>1963</td>\n",
       "      <td>535452060</td>\n",
       "      <td>20</td>\n",
       "      <td>RL</td>\n",
       "      <td>70.0</td>\n",
       "      <td>7000</td>\n",
       "      <td>Pave</td>\n",
       "      <td>NaN</td>\n",
       "      <td>Reg</td>\n",
       "      <td>Lvl</td>\n",
       "      <td>...</td>\n",
       "      <td>0</td>\n",
       "      <td>0</td>\n",
       "      <td>NaN</td>\n",
       "      <td>MnWw</td>\n",
       "      <td>NaN</td>\n",
       "      <td>0</td>\n",
       "      <td>4</td>\n",
       "      <td>2007</td>\n",
       "      <td>WD</td>\n",
       "      <td>Family</td>\n",
       "    </tr>\n",
       "    <tr>\n",
       "      <th>4</th>\n",
       "      <td>306</td>\n",
       "      <td>911202100</td>\n",
       "      <td>50</td>\n",
       "      <td>C (all)</td>\n",
       "      <td>66.0</td>\n",
       "      <td>8712</td>\n",
       "      <td>Pave</td>\n",
       "      <td>Pave</td>\n",
       "      <td>Reg</td>\n",
       "      <td>HLS</td>\n",
       "      <td>...</td>\n",
       "      <td>0</td>\n",
       "      <td>0</td>\n",
       "      <td>NaN</td>\n",
       "      <td>NaN</td>\n",
       "      <td>NaN</td>\n",
       "      <td>0</td>\n",
       "      <td>1</td>\n",
       "      <td>2010</td>\n",
       "      <td>WD</td>\n",
       "      <td>Abnorml</td>\n",
       "    </tr>\n",
       "  </tbody>\n",
       "</table>\n",
       "<p>5 rows × 81 columns</p>\n",
       "</div>"
      ],
      "text/plain": [
       "   Order        PID  MS SubClass MS Zoning  Lot Frontage  Lot Area Street  \\\n",
       "0   2217  909279080           50        RL           NaN     11275   Pave   \n",
       "1    837  907126050           20        RL          65.0      9757   Pave   \n",
       "2   2397  528144030           60        RL          86.0     11065   Pave   \n",
       "3   1963  535452060           20        RL          70.0      7000   Pave   \n",
       "4    306  911202100           50   C (all)          66.0      8712   Pave   \n",
       "\n",
       "  Alley Lot Shape Land Contour  ... Screen Porch Pool Area Pool QC Fence  \\\n",
       "0   NaN       IR1          HLS  ...            0         0     NaN   NaN   \n",
       "1   NaN       Reg          Low  ...           92         0     NaN   NaN   \n",
       "2   NaN       IR1          Lvl  ...            0         0     NaN   NaN   \n",
       "3   NaN       Reg          Lvl  ...            0         0     NaN  MnWw   \n",
       "4  Pave       Reg          HLS  ...            0         0     NaN   NaN   \n",
       "\n",
       "  Misc Feature Misc Val Mo Sold Yr Sold  Sale Type  Sale Condition  \n",
       "0          NaN        0       3    2007        WD           Normal  \n",
       "1          NaN        0      10    2009        WD           Normal  \n",
       "2          NaN        0      10    2006        New         Partial  \n",
       "3          NaN        0       4    2007        WD           Family  \n",
       "4          NaN        0       1    2010        WD          Abnorml  \n",
       "\n",
       "[5 rows x 81 columns]"
      ]
     },
     "execution_count": 1,
     "metadata": {},
     "output_type": "execute_result"
    }
   ],
   "source": [
    "import numpy as np\n",
    "import pandas as pd\n",
    "import matplotlib.pyplot as plt\n",
    "import seaborn as sns\n",
    "import missingno as msno\n",
    "from sklearn.datasets import fetch_openml\n",
    "\n",
    "%load_ext lab_black\n",
    "%matplotlib inline\n",
    "\n",
    "# Load the data into a Pandas DataFrame\n",
    "df = pd.read_csv(\"house-prices-test.csv\")\n",
    "df.head(5)"
   ]
  },
  {
   "cell_type": "markdown",
   "id": "48244c30-e0c7-4caa-ac42-4986037fbcec",
   "metadata": {},
   "source": [
    "Now we will use some tools learned during the second unit for counting the amount of information that may be missing or incomplete in the original database. It is important to mention that the variables Order and PID will be eliminated, as they do not have information that may be useful for the price prediction. "
   ]
  },
  {
   "cell_type": "markdown",
   "id": "dccbd4bd-ef35-4034-ae45-36270fe1e7db",
   "metadata": {},
   "source": [
    "* We will first check the number of rows and columns in the original dataframe"
   ]
  },
  {
   "cell_type": "code",
   "execution_count": 2,
   "id": "237efc20-6eed-44bd-b9de-5a16f25a9dea",
   "metadata": {},
   "outputs": [
    {
     "name": "stdout",
     "output_type": "stream",
     "text": [
      "500\n",
      "81\n"
     ]
    }
   ],
   "source": [
    "# Number of rows\n",
    "print(df.shape[0])\n",
    "# Number of columns\n",
    "print(df.shape[1])"
   ]
  },
  {
   "cell_type": "markdown",
   "id": "0e662522-a39a-4c68-ab46-972f4b3fade9",
   "metadata": {},
   "source": [
    "* We will now verify the amount of columns that contain each type of element"
   ]
  },
  {
   "cell_type": "code",
   "execution_count": 3,
   "id": "09c7161c-57a3-476f-869d-79809d748252",
   "metadata": {},
   "outputs": [
    {
     "data": {
      "text/plain": [
       "object     43\n",
       "int64      27\n",
       "float64    11\n",
       "dtype: int64"
      ]
     },
     "execution_count": 3,
     "metadata": {},
     "output_type": "execute_result"
    }
   ],
   "source": [
    "# Count how many times each data type is present in the dataset\n",
    "pd.value_counts(df.dtypes)"
   ]
  },
  {
   "cell_type": "markdown",
   "id": "93e96753-70cf-46bd-bf3c-24e629f0de84",
   "metadata": {},
   "source": [
    "* Let's take a look at the data frame for visualizing the ocupation of the cells with information"
   ]
  },
  {
   "cell_type": "code",
   "execution_count": 4,
   "id": "b9bc347e-7fed-4e0f-8fb2-825a2c047c83",
   "metadata": {},
   "outputs": [
    {
     "data": {
      "text/plain": [
       "<matplotlib.image.AxesImage at 0x1e470a3ed90>"
      ]
     },
     "execution_count": 4,
     "metadata": {},
     "output_type": "execute_result"
    },
    {
     "data": {
      "image/png": "[encoded data removed]",
      "text/plain": [
       "<Figure size 720x576 with 1 Axes>"
      ]
     },
     "metadata": {
      "needs_background": "light"
     },
     "output_type": "display_data"
    }
   ],
   "source": [
    "# This is a representation of the occupation of cells in the dataset.\n",
    "plt.figure(figsize=(10, 8))\n",
    "plt.title(\"Visualization of missing values per sample\")\n",
    "plt.xlabel(\"Index of columns\")\n",
    "plt.ylabel(\"Index of rows\")\n",
    "plt.imshow(df.isna(), aspect=\"auto\", interpolation=\"nearest\", cmap=\"gray\")"
   ]
  },
  {
   "cell_type": "markdown",
   "id": "def80499-21c0-4703-b211-08226f7d6ad6",
   "metadata": {},
   "source": [
    "* If we visualize the percentage of missing information per feature "
   ]
  },
  {
   "cell_type": "code",
   "execution_count": 5,
   "id": "9b4a2857-fc27-439e-9bea-5b0465960cd3",
   "metadata": {},
   "outputs": [
    {
     "data": {
      "text/plain": [
       "<AxesSubplot:title={'center':'Percentage of missing values per feature'}>"
      ]
     },
     "execution_count": 5,
     "metadata": {},
     "output_type": "execute_result"
    },
    {
     "data": {
      "image/png": "[encoded data removed]",
      "text/plain": [
       "<Figure size 1080x288 with 1 Axes>"
      ]
     },
     "metadata": {
      "needs_background": "light"
     },
     "output_type": "display_data"
    }
   ],
   "source": [
    "# If we check the % of missing information per feature\n",
    "df.isna().mean().sort_values().plot(\n",
    "    kind=\"bar\", figsize=(15, 4), title=\"Percentage of missing values per feature\"\n",
    ")"
   ]
  },
  {
   "cell_type": "markdown",
   "id": "ffe84068-9711-45c2-a49c-f8660952c2de",
   "metadata": {},
   "source": [
    "**Observations:** There are a small amount of features (only 5) that lack of more than a 40% of information. These entries will be checked in order to  see if there is any possibility of filling up the gaps. If this is not possible, this columns will be eliminated along with the Order and PID columns."
   ]
  },
  {
   "cell_type": "markdown",
   "id": "08d30e80-cd70-4e16-b835-30dcdc638b17",
   "metadata": {},
   "source": [
    "*  We will first check if there are any duplicated entries in the database"
   ]
  },
  {
   "cell_type": "code",
   "execution_count": 6,
   "id": "48e053f0-2dd6-43b8-9587-51b75b27d461",
   "metadata": {},
   "outputs": [
    {
     "name": "stdout",
     "output_type": "stream",
     "text": [
      "There are a total of 0 duplicated entries\n"
     ]
    }
   ],
   "source": [
    "print(\"There are a total of \" + str(df.duplicated().sum()) + \" duplicated entries\")"
   ]
  },
  {
   "cell_type": "markdown",
   "id": "07be694b-a64e-4b05-9ba0-e9f34f63286f",
   "metadata": {},
   "source": [
    "* There are no duplicated values to eliminate, hence we will now check the variables that count with a unique value along the numeric and object type features. Unique value columns correspond to those features that contain a unique possibility for all of the rows."
   ]
  },
  {
   "cell_type": "code",
   "execution_count": 7,
   "id": "889ed1f5-9bb1-4901-a141-afb79f3a4660",
   "metadata": {},
   "outputs": [
    {
     "data": {
      "text/plain": [
       "0"
      ]
     },
     "execution_count": 7,
     "metadata": {},
     "output_type": "execute_result"
    }
   ],
   "source": [
    "# First we check the columns which dtype is numeric\n",
    "unique_numeric = df.select_dtypes(include=\"number\").nunique().sort_values()\n",
    "np.sum(np.array(unique_numeric) == 1)"
   ]
  },
  {
   "cell_type": "code",
   "execution_count": 8,
   "id": "6a4dd787-7d5b-4f27-9ebf-d5651df94d2d",
   "metadata": {},
   "outputs": [
    {
     "data": {
      "text/plain": [
       "2"
      ]
     },
     "execution_count": 8,
     "metadata": {},
     "output_type": "execute_result"
    }
   ],
   "source": [
    "# Now we check the columns with an object dtype\n",
    "unique_obj = df.select_dtypes(include=\"object\").nunique()\n",
    "np.sum(np.array(unique_obj) == 1)"
   ]
  },
  {
   "cell_type": "markdown",
   "id": "2663616f-77c5-4d53-b7ed-ce4cf1d7925f",
   "metadata": {},
   "source": [
    "**Observations:** The 2 columns of type object that are unique, will be filled with the only value that they contain. "
   ]
  },
  {
   "cell_type": "code",
   "execution_count": 9,
   "id": "67337f4a-b550-4b21-9b49-6a9b85bdeb05",
   "metadata": {},
   "outputs": [],
   "source": [
    "# We fill the NaN values of the columns saved in unique. For filling this columns, there is an only value that may be incorporated (as it was previously stated)\n",
    "unique = []\n",
    "for x in range(0, len(unique_obj)):\n",
    "    if unique_obj[x] == 1:\n",
    "        unique.append(unique_obj.index[x])\n",
    "for x in unique:\n",
    "    df[str(x)].fillna(value=df[str(x)].bfill(), inplace=True)\n",
    "    df[str(x)].fillna(value=df[str(x)].ffill(), inplace=True)"
   ]
  },
  {
   "cell_type": "markdown",
   "id": "01c42eb0-1136-4dfe-a833-3a8dd7711108",
   "metadata": {},
   "source": [
    "* We will only maintain those columns that count with more than a 40% of information. The rest of the columns will be dropped."
   ]
  },
  {
   "cell_type": "code",
   "execution_count": 10,
   "id": "8d4aceac-dece-42ea-9831-b7e7139bc254",
   "metadata": {},
   "outputs": [],
   "source": [
    "# We calculate the null percentage:\n",
    "null_percentage = df.isnull().sum() / df.shape[0] * 100\n",
    "# Drop columns with more than a 40% of missing values\n",
    "for x in range(0, len(null_percentage)):\n",
    "    if null_percentage[x] >= 40:\n",
    "        df.drop([null_percentage.index[x]], axis=1, inplace=True)"
   ]
  },
  {
   "cell_type": "code",
   "execution_count": 11,
   "id": "fce0c757-ac9f-41dc-b8bb-e0f7145edaeb",
   "metadata": {},
   "outputs": [
    {
     "data": {
      "image/png": "[encoded data removed]",
      "text/plain": [
       "<Figure size 360x288 with 1 Axes>"
      ]
     },
     "metadata": {
      "needs_background": "light"
     },
     "output_type": "display_data"
    }
   ],
   "source": [
    "# % of null information in the columns\n",
    "null_percentage = df.isnull().sum() / df.shape[0] * 100\n",
    "\n",
    "hist = null_percentage.plot.hist(\n",
    "    bins=10, color=\"navy\", edgecolor=\"white\", range=[0, 100], figsize=(5, 4)\n",
    ")\n",
    "hist.set_xlabel(\"Proportion intervals of lacking information [%]\")\n",
    "hist.set_ylabel(\"Number of columns\")\n",
    "hist.set_title(\"Number of columns and their proportion of null information\")\n",
    "plt.show()"
   ]
  },
  {
   "cell_type": "markdown",
   "id": "ae44242f-6508-495f-a705-235334240a34",
   "metadata": {},
   "source": [
    "* Most of the columns have between 0% and 10% of missing values. We consider that this amount of information is good enough for working with the database. As we mentioned before, we will also eliminate the columns that only identify the entries."
   ]
  },
  {
   "cell_type": "code",
   "execution_count": 12,
   "id": "0460c495-ce12-496e-9715-0914430c4a09",
   "metadata": {},
   "outputs": [],
   "source": [
    "df.drop(\"Order\", inplace=True, axis=1)\n",
    "df.drop(\"PID\", inplace=True, axis=1)"
   ]
  },
  {
   "cell_type": "markdown",
   "id": "3d70c119-3584-4ea4-b7b8-c77315e57df9",
   "metadata": {},
   "source": [
    "* We will now check the columns with missing data, for evaluating a possible strategy for filling the values"
   ]
  },
  {
   "cell_type": "code",
   "execution_count": 13,
   "id": "4cbb4aba-42fa-47b2-bc2c-f578b300d1cc",
   "metadata": {},
   "outputs": [
    {
     "name": "stdout",
     "output_type": "stream",
     "text": [
      "<class 'pandas.core.frame.DataFrame'>\n",
      "RangeIndex: 500 entries, 0 to 499\n",
      "Data columns (total 13 columns):\n",
      " #   Column          Non-Null Count  Dtype  \n",
      "---  ------          --------------  -----  \n",
      " 0   Lot Frontage    430 non-null    float64\n",
      " 1   Mas Vnr Type    497 non-null    object \n",
      " 2   Mas Vnr Area    497 non-null    float64\n",
      " 3   Bsmt Qual       491 non-null    object \n",
      " 4   Bsmt Cond       491 non-null    object \n",
      " 5   Bsmt Exposure   491 non-null    object \n",
      " 6   BsmtFin Type 1  491 non-null    object \n",
      " 7   BsmtFin Type 2  491 non-null    object \n",
      " 8   Garage Type     479 non-null    object \n",
      " 9   Garage Yr Blt   479 non-null    float64\n",
      " 10  Garage Finish   479 non-null    object \n",
      " 11  Garage Qual     479 non-null    object \n",
      " 12  Garage Cond     479 non-null    object \n",
      "dtypes: float64(3), object(10)\n",
      "memory usage: 50.9+ KB\n"
     ]
    }
   ],
   "source": [
    "null_list = df.columns[df.isnull().any()].tolist()\n",
    "df[null_list].info()"
   ]
  },
  {
   "cell_type": "code",
   "execution_count": 14,
   "id": "5566447a-7f59-4abe-8b4b-b6ee1d75c049",
   "metadata": {},
   "outputs": [
    {
     "data": {
      "text/html": [
       "<div>\n",
       "<style scoped>\n",
       "    .dataframe tbody tr th:only-of-type {\n",
       "        vertical-align: middle;\n",
       "    }\n",
       "\n",
       "    .dataframe tbody tr th {\n",
       "        vertical-align: top;\n",
       "    }\n",
       "\n",
       "    .dataframe thead th {\n",
       "        text-align: right;\n",
       "    }\n",
       "</style>\n",
       "<table border=\"1\" class=\"dataframe\">\n",
       "  <thead>\n",
       "    <tr style=\"text-align: right;\">\n",
       "      <th></th>\n",
       "      <th>Lot Frontage</th>\n",
       "      <th>Mas Vnr Area</th>\n",
       "      <th>Garage Yr Blt</th>\n",
       "    </tr>\n",
       "  </thead>\n",
       "  <tbody>\n",
       "    <tr>\n",
       "      <th>count</th>\n",
       "      <td>430.000000</td>\n",
       "      <td>497.000000</td>\n",
       "      <td>479.000000</td>\n",
       "    </tr>\n",
       "    <tr>\n",
       "      <th>mean</th>\n",
       "      <td>69.330233</td>\n",
       "      <td>101.418511</td>\n",
       "      <td>1979.430063</td>\n",
       "    </tr>\n",
       "    <tr>\n",
       "      <th>std</th>\n",
       "      <td>22.814602</td>\n",
       "      <td>190.962191</td>\n",
       "      <td>25.436088</td>\n",
       "    </tr>\n",
       "    <tr>\n",
       "      <th>min</th>\n",
       "      <td>21.000000</td>\n",
       "      <td>0.000000</td>\n",
       "      <td>1895.000000</td>\n",
       "    </tr>\n",
       "    <tr>\n",
       "      <th>25%</th>\n",
       "      <td>59.000000</td>\n",
       "      <td>0.000000</td>\n",
       "      <td>1960.000000</td>\n",
       "    </tr>\n",
       "    <tr>\n",
       "      <th>50%</th>\n",
       "      <td>69.000000</td>\n",
       "      <td>0.000000</td>\n",
       "      <td>1987.000000</td>\n",
       "    </tr>\n",
       "    <tr>\n",
       "      <th>75%</th>\n",
       "      <td>80.000000</td>\n",
       "      <td>148.000000</td>\n",
       "      <td>2003.000000</td>\n",
       "    </tr>\n",
       "    <tr>\n",
       "      <th>max</th>\n",
       "      <td>153.000000</td>\n",
       "      <td>1378.000000</td>\n",
       "      <td>2010.000000</td>\n",
       "    </tr>\n",
       "  </tbody>\n",
       "</table>\n",
       "</div>"
      ],
      "text/plain": [
       "       Lot Frontage  Mas Vnr Area  Garage Yr Blt\n",
       "count    430.000000    497.000000     479.000000\n",
       "mean      69.330233    101.418511    1979.430063\n",
       "std       22.814602    190.962191      25.436088\n",
       "min       21.000000      0.000000    1895.000000\n",
       "25%       59.000000      0.000000    1960.000000\n",
       "50%       69.000000      0.000000    1987.000000\n",
       "75%       80.000000    148.000000    2003.000000\n",
       "max      153.000000   1378.000000    2010.000000"
      ]
     },
     "execution_count": 14,
     "metadata": {},
     "output_type": "execute_result"
    }
   ],
   "source": [
    "df[null_list].describe()"
   ]
  },
  {
   "cell_type": "code",
   "execution_count": 15,
   "id": "81fd9d46-939d-444d-a68e-761a80ccdf35",
   "metadata": {},
   "outputs": [
    {
     "data": {
      "image/png": "[encoded data removed]",
      "text/plain": [
       "<Figure size 1152x720 with 15 Axes>"
      ]
     },
     "metadata": {
      "needs_background": "light"
     },
     "output_type": "display_data"
    }
   ],
   "source": [
    "# A quick look at the distribution of the variables\n",
    "fig, axes = plt.subplots(nrows=3, ncols=5, figsize=(16, 10))\n",
    "\n",
    "for c, ax in zip(null_list, axes.ravel()):\n",
    "    ax.hist(df[c].dropna(), bins=30)\n",
    "    ax.set_title(c)\n",
    "\n",
    "plt.tight_layout()  # to avoid overlapping with the labels\n",
    "plt.show()"
   ]
  },
  {
   "cell_type": "markdown",
   "id": "2e15bd69-7e30-426b-81f8-373da8967328",
   "metadata": {},
   "source": [
    "**Observations:** Through the plots of the numerical values contained among the null_list variables, we will take the following decisions: (1) The missing values in Lot Frontage will be replaced by the mean, because even though the data is slightly skewed to the left, the skeweness does not seem big enough as to use the median instead of the mean. (2) For the variable Garage Yr Blt, the missing values will be replaced by the median. (3) The missing values in Mas Vnr Area will be replaced with the median value also, because the data is extremely skewed to the left. The qualitative variables will be replaced differently: (1) Those features that present a clear predominant value will use this value for replacing its missing rows. (2) The rest of the features' missing values will be replaced by a new missing category."
   ]
  },
  {
   "cell_type": "code",
   "execution_count": 16,
   "id": "ced3a696-f4a0-4d75-bb55-7ce509eedd61",
   "metadata": {},
   "outputs": [
    {
     "name": "stdout",
     "output_type": "stream",
     "text": [
      "<class 'pandas.core.frame.DataFrame'>\n",
      "RangeIndex: 500 entries, 0 to 499\n",
      "Data columns (total 10 columns):\n",
      " #   Column          Non-Null Count  Dtype \n",
      "---  ------          --------------  ----- \n",
      " 0   Mas Vnr Type    497 non-null    object\n",
      " 1   Bsmt Qual       491 non-null    object\n",
      " 2   Bsmt Cond       491 non-null    object\n",
      " 3   Bsmt Exposure   491 non-null    object\n",
      " 4   BsmtFin Type 1  491 non-null    object\n",
      " 5   BsmtFin Type 2  491 non-null    object\n",
      " 6   Garage Type     479 non-null    object\n",
      " 7   Garage Finish   479 non-null    object\n",
      " 8   Garage Qual     479 non-null    object\n",
      " 9   Garage Cond     479 non-null    object\n",
      "dtypes: object(10)\n",
      "memory usage: 39.2+ KB\n"
     ]
    }
   ],
   "source": [
    "# Replace numerical NaN values\n",
    "df[\"Lot Frontage\"].fillna(int(df[\"Lot Frontage\"].mean()), inplace=True)\n",
    "df[\"Garage Yr Blt\"].fillna(int(df[\"Mas Vnr Area\"].median()), inplace=True)\n",
    "df[\"Mas Vnr Area\"].fillna(int(df[\"Mas Vnr Area\"].median()), inplace=True)\n",
    "# Check the new list of missing values\n",
    "null_list = df.columns[df.isnull().any()].tolist()\n",
    "df[null_list].info()"
   ]
  },
  {
   "cell_type": "code",
   "execution_count": 17,
   "id": "240e1191-97e1-4c70-a2e6-53420c3ba868",
   "metadata": {},
   "outputs": [
    {
     "name": "stdout",
     "output_type": "stream",
     "text": [
      "<class 'pandas.core.frame.DataFrame'>\n",
      "RangeIndex: 500 entries, 0 to 499\n",
      "Data columns (total 7 columns):\n",
      " #   Column          Non-Null Count  Dtype \n",
      "---  ------          --------------  ----- \n",
      " 0   Mas Vnr Type    497 non-null    object\n",
      " 1   Bsmt Cond       491 non-null    object\n",
      " 2   Bsmt Exposure   491 non-null    object\n",
      " 3   BsmtFin Type 2  491 non-null    object\n",
      " 4   Garage Type     479 non-null    object\n",
      " 5   Garage Qual     479 non-null    object\n",
      " 6   Garage Cond     479 non-null    object\n",
      "dtypes: object(7)\n",
      "memory usage: 27.5+ KB\n"
     ]
    }
   ],
   "source": [
    "# Fill categorical features with a new missing category\n",
    "df[\"Bsmt Qual\"].fillna((\"Missing\"), inplace=True)\n",
    "df[\"BsmtFin Type 1\"].fillna((\"Missing\"), inplace=True)\n",
    "df[\"Garage Finish\"].fillna((\"Missing\"), inplace=True)\n",
    "# Check the new list of missing values\n",
    "null_list = df.columns[df.isnull().any()].tolist()\n",
    "df[null_list].info()"
   ]
  },
  {
   "cell_type": "code",
   "execution_count": 18,
   "id": "925a85c4-c021-40c2-8a37-0fda8b83e865",
   "metadata": {},
   "outputs": [
    {
     "name": "stdout",
     "output_type": "stream",
     "text": [
      "<class 'pandas.core.frame.DataFrame'>\n",
      "RangeIndex: 500 entries, 0 to 499\n",
      "Empty DataFrame"
     ]
    }
   ],
   "source": [
    "# Fill the rest of the categorical data with the most common value\n",
    "df = df.fillna(df.mode().iloc[0])\n",
    "# Check the new list of missing values\n",
    "null_list = df.columns[df.isnull().any()].tolist()\n",
    "df[null_list].info()"
   ]
  },
  {
   "cell_type": "code",
   "execution_count": 19,
   "id": "9a150e10-f11e-4bf1-a71d-117a676391ba",
   "metadata": {},
   "outputs": [
    {
     "name": "stdout",
     "output_type": "stream",
     "text": [
      "500\n",
      "75\n"
     ]
    }
   ],
   "source": [
    "# Number of rows\n",
    "print(df.shape[0])\n",
    "# Number of columns\n",
    "print(df.shape[1])"
   ]
  },
  {
   "cell_type": "markdown",
   "id": "351c3e44-82af-41e3-910c-59d30aac8a53",
   "metadata": {},
   "source": [
    "**Observations:** We may see that the number of rows is the same as the number of rows in the beggining (because no duplicated items were found). Through the cleaning process we have only dropped 6 columns (from 81 to 75). \n",
    "\n",
    "In the following steps we will transform every nominal variable into a non-numeric value (that will be hot encoded in the following section). For the ordinal features, we will transform all of them into numerical values, since different academic researchs **[ADD REFERENCE]** have shown that these variables should be treated as any other continuous, numerical feature. Also, we will check that the ordinal and nominal variables present as many values as the documentation.txt mentions (form making sure that no mistaken values were unintentionally added in the model preparation). For this las point, we know that the variables Bsmt Qual, BsmtFin Type I and Garage Finish have one extra possible value that corresponds to missing."
   ]
  },
  {
   "cell_type": "code",
   "execution_count": 88,
   "id": "23b205d1-f8bf-43be-9e3a-8fa6248c2ad8",
   "metadata": {},
   "outputs": [],
   "source": [
    "nominal = []\n",
    "ordinal = []\n",
    "# check line by line in txt\n",
    "with open(\"documentation.txt\", \"rt\") as f:\n",
    "    data = f.readlines()\n",
    "# Generate two lists for Nominal and Ordinal variables\n",
    "for line in data:\n",
    "    if \"(Nominal)\" in line:\n",
    "        nominal.append(line)\n",
    "\n",
    "    if \"(Ordinal)\" in line:\n",
    "        ordinal.append(line)\n",
    "\n",
    "# Auxiliar variables for searching in the list of names\n",
    "sub_str_nom = \"(Nominal):\"\n",
    "sub_str_ord = \"(Ordinal)\"\n",
    "\n",
    "# Remove after substring in String\n",
    "nominal_var = []\n",
    "ordinal_var = []\n",
    "# slicing nominal variables names\n",
    "for test_str in nominal:\n",
    "    res = test_str[: test_str.index(sub_str_nom)][:-1]\n",
    "    nominal_var.append(res)\n",
    "# slicing ordinal variables names\n",
    "for test_str in ordinal:\n",
    "    res1 = test_str[: test_str.index(sub_str_ord)][:-1]\n",
    "    ordinal_var.append(res1)"
   ]
  },
  {
   "cell_type": "code",
   "execution_count": 89,
   "id": "1cecf0f1-dd63-4bcb-b303-6dbd62ccf89f",
   "metadata": {},
   "outputs": [
    {
     "data": {
      "text/plain": [
       "['Lot Shape',\n",
       " 'Utilities',\n",
       " 'Land Slope',\n",
       " 'Overall Qual',\n",
       " 'Overall Cond',\n",
       " 'Exter Qual',\n",
       " 'Exter Cond',\n",
       " 'Bsmt Qual',\n",
       " 'Bsmt Cond',\n",
       " 'Bsmt Exposure',\n",
       " 'BsmtFin Type 1',\n",
       " 'BsmtFinType 2',\n",
       " 'HeatingQC',\n",
       " 'Electrical',\n",
       " 'KitchenQual',\n",
       " 'Functional',\n",
       " 'FireplaceQu',\n",
       " 'Garage Finish',\n",
       " 'Garage Qual',\n",
       " 'Garage Cond',\n",
       " 'Paved Drive',\n",
       " 'Pool QC',\n",
       " 'Fence']"
      ]
     },
     "execution_count": 89,
     "metadata": {},
     "output_type": "execute_result"
    }
   ],
   "source": []
  },
  {
   "cell_type": "code",
   "execution_count": null,
   "id": "17cc7970-6df1-48da-8dd3-cd5dd534390d",
   "metadata": {},
   "outputs": [],
   "source": [
    "# For creating separate lists to hold the names of the columns with the same dtype:\n",
    "# Take a further look at possible outliers\n",
    "df.select_dtypes(include=[np.number]).plot(\n",
    "    lw=0, marker=\".\", subplots=True, layout=(-1, 3), figsize=(15, 20), markersize=1\n",
    ")"
   ]
  },
  {
   "cell_type": "markdown",
   "id": "4b7c9065-a7e6-4f3d-a0f9-14f7d11bbf10",
   "metadata": {},
   "source": [
    "For taking into consideration the consistency of the variables (ordinal and nominal) we will first use hot-encoding for turning the nominal variables into dummy variables. By this means we will ensure that the nominal variables will be useful at the moment of using the model for prediction."
   ]
  }
 ],
 "metadata": {
  "kernelspec": {
   "display_name": "Python [conda env:adsml] *",
   "language": "python",
   "name": "conda-env-adsml-py"
  },
  "language_info": {
   "codemirror_mode": {
    "name": "ipython",
    "version": 3
   },
   "file_extension": ".py",
   "mimetype": "text/x-python",
   "name": "python",
   "nbconvert_exporter": "python",
   "pygments_lexer": "ipython3",
   "version": "3.9.7"
  }
 },
 "nbformat": 4,
 "nbformat_minor": 5
}
