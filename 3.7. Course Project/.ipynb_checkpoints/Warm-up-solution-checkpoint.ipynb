{
 "cells": [
  {
   "cell_type": "markdown",
   "id": "f8732f21-9fd1-469d-8a69-7c7a947fc16f",
   "metadata": {},
   "source": [
    "# Unit 3: Warm-up\n",
    "###### Candelaria Retamal\n",
    "###### **02.03.2022**\n",
    "\n",
    "## Table of contents\n",
    "\n",
    "<a id=\"Table\"></a>\n",
    "### [Task 1: Fitting an equation to a set of data points](#Task1)\n",
    "\n",
    "### [Task 2: Fitting a model to a set of data points with outliers](#Task2)\n"
   ]
  },
  {
   "cell_type": "markdown",
   "id": "bf960432-e702-4628-bdc7-f230f589b301",
   "metadata": {},
   "source": [
    "<a id=\"Task1\"></a>\n",
    "### **Task 1**"
   ]
  },
  {
   "cell_type": "markdown",
   "id": "5f483f59-8ac9-4a4f-8268-55c2a0987346",
   "metadata": {},
   "source": [
    "#### Solution: Load the dataset, fit the curve and compute the RSS and R2\n",
    "---\n",
    "\n",
    "> Create a set of 50 x/y **Numpy arrays**. The feature vector x should contain the x values in the dataset. The target vector y should contain the y values in the dataset."
   ]
  },
  {
   "cell_type": "code",
   "execution_count": 1,
   "id": "a1086f6b-0070-479a-9482-1f880bc032a2",
   "metadata": {},
   "outputs": [
    {
     "data": {
      "text/html": [
       "<div>\n",
       "<style scoped>\n",
       "    .dataframe tbody tr th:only-of-type {\n",
       "        vertical-align: middle;\n",
       "    }\n",
       "\n",
       "    .dataframe tbody tr th {\n",
       "        vertical-align: top;\n",
       "    }\n",
       "\n",
       "    .dataframe thead th {\n",
       "        text-align: right;\n",
       "    }\n",
       "</style>\n",
       "<table border=\"1\" class=\"dataframe\">\n",
       "  <thead>\n",
       "    <tr style=\"text-align: right;\">\n",
       "      <th></th>\n",
       "      <th>x</th>\n",
       "      <th>y</th>\n",
       "    </tr>\n",
       "  </thead>\n",
       "  <tbody>\n",
       "    <tr>\n",
       "      <th>0</th>\n",
       "      <td>10.529</td>\n",
       "      <td>39.105</td>\n",
       "    </tr>\n",
       "    <tr>\n",
       "      <th>1</th>\n",
       "      <td>10.799</td>\n",
       "      <td>40.584</td>\n",
       "    </tr>\n",
       "    <tr>\n",
       "      <th>2</th>\n",
       "      <td>11.698</td>\n",
       "      <td>39.883</td>\n",
       "    </tr>\n",
       "    <tr>\n",
       "      <th>3</th>\n",
       "      <td>12.851</td>\n",
       "      <td>39.411</td>\n",
       "    </tr>\n",
       "    <tr>\n",
       "      <th>4</th>\n",
       "      <td>13.565</td>\n",
       "      <td>40.760</td>\n",
       "    </tr>\n",
       "  </tbody>\n",
       "</table>\n",
       "</div>"
      ],
      "text/plain": [
       "        x       y\n",
       "0  10.529  39.105\n",
       "1  10.799  40.584\n",
       "2  11.698  39.883\n",
       "3  12.851  39.411\n",
       "4  13.565  40.760"
      ]
     },
     "execution_count": 1,
     "metadata": {},
     "output_type": "execute_result"
    }
   ],
   "source": [
    "import pandas as pd\n",
    "import os\n",
    "%matplotlib inline\n",
    "import matplotlib.pyplot as plt\n",
    "import numpy as np\n",
    "import numpy.polynomial.polynomial as poly\n",
    "\n",
    "# Load the data into a Pandas DataFrame\n",
    "data_df = pd.read_csv(\"p3_task-1.csv\")\n",
    "data_df.head(5)"
   ]
  },
  {
   "cell_type": "code",
   "execution_count": 2,
   "id": "29ccab6e-970e-4327-8f25-c8f96b5e80c5",
   "metadata": {},
   "outputs": [
    {
     "name": "stdout",
     "output_type": "stream",
     "text": [
      "x: <class 'numpy.ndarray'> (50,) float64 [10.529 10.799 11.698 12.851 13.565]\n",
      "y: <class 'numpy.ndarray'> (50,) float64 [39.105 40.584 39.883 39.411 40.76 ]\n"
     ]
    }
   ],
   "source": [
    "# Extract the x/y Numpy arrays\n",
    "x = data_df.x.values\n",
    "y = data_df.y.values\n",
    "\n",
    "# Show the type and shape of the variables (by showing the first 5 inputs)\n",
    "print(\"x:\", type(x), x.shape, x.dtype, x[:5])\n",
    "print(\"y:\", type(y), y.shape, y.dtype, y[:5])"
   ]
  },
  {
   "cell_type": "markdown",
   "id": "e838b206-0085-49c4-8cde-3a94134fc95e",
   "metadata": {},
   "source": [
    "> Fit the curve and plot it"
   ]
  },
  {
   "cell_type": "code",
   "execution_count": 3,
   "id": "3c97f5cb-2d9b-4bfb-aa37-1260d6155219",
   "metadata": {},
   "outputs": [
    {
     "data": {
      "image/png": "[encoded data removed]",
      "text/plain": [
       "<Figure size 432x288 with 1 Axes>"
      ]
     },
     "metadata": {
      "needs_background": "light"
     },
     "output_type": "display_data"
    }
   ],
   "source": [
    "# Fit a polynomial\n",
    "coefs = np.polyfit(np.log(x), y, deg=1)\n",
    "\n",
    "# Generate a hundred values between min(x) and max(x)\n",
    "x_values = np.linspace((x).min(), (x).max(), num=50)\n",
    "\n",
    "# Predict y values\n",
    "y_values = np.polyval(coefs, np.log(x_values))\n",
    "\n",
    "# Plot curve\n",
    "plt.scatter(x, y)\n",
    "plt.plot(x_values, y_values, c='C3', label='polyfit(log(x), y, deg=1)')\n",
    "plt.xlabel('x values')\n",
    "plt.ylabel('y values')\n",
    "plt.legend()\n",
    "plt.show()"
   ]
  },
  {
   "cell_type": "markdown",
   "id": "855198a3-938e-426e-8962-02020435280b",
   "metadata": {},
   "source": [
    "> Compute the RSS and R2 measures"
   ]
  },
  {
   "cell_type": "code",
   "execution_count": 4,
   "id": "0d52d7ac-8389-4cc5-8ddb-4e655fa13b75",
   "metadata": {},
   "outputs": [],
   "source": [
    "# RSS score function\n",
    "def RSS(y, y_pred):\n",
    "    return np.sum(np.square(np.subtract(y, y_pred)))"
   ]
  },
  {
   "cell_type": "code",
   "execution_count": 5,
   "id": "2bccb11a-e089-4863-ae9f-5bd2c007c75f",
   "metadata": {},
   "outputs": [
    {
     "name": "stdout",
     "output_type": "stream",
     "text": [
      "RSS baseline: 541.1432872199999\n",
      "RSS value: 31.84265175275674\n"
     ]
    }
   ],
   "source": [
    "# RSS of the baseline\n",
    "rss_baseline = RSS(y, y.mean())\n",
    "print(\"RSS baseline:\", rss_baseline)\n",
    "# RSS of the model\n",
    "y_pred = np.polyval(coefs, np.log(x))  \n",
    "model_rss = RSS(y, y_pred)\n",
    "print('RSS value:', model_rss) "
   ]
  },
  {
   "cell_type": "code",
   "execution_count": 6,
   "id": "e3da98de-a69e-4fe7-87bf-891b42c2cda4",
   "metadata": {},
   "outputs": [
    {
     "name": "stdout",
     "output_type": "stream",
     "text": [
      "R^2 coefficient: 0.9411567093138287\n"
     ]
    }
   ],
   "source": [
    "# R^2 coefficient\n",
    "R2 = 1 - (model_rss / rss_baseline)\n",
    "print(\"R^2 coefficient:\", R2)  # Prints: ~0.983"
   ]
  },
  {
   "cell_type": "markdown",
   "id": "dfac4a68-803a-4242-9c39-225de36b3356",
   "metadata": {},
   "source": [
    "**Discussion:** According to what was seen in the course we know that if R2 measures how well a model performs compared to the constant mean baseline. In this case, the R2 value is close to 1, then the model performs way better than the baseline. Then, the obtained R2 value seems to be a good score."
   ]
  },
  {
   "cell_type": "markdown",
   "id": "3823fd67-7c3b-4343-a26d-5e00133054d8",
   "metadata": {},
   "source": [
    "##### [Return to the table of contents](#Table)"
   ]
  },
  {
   "cell_type": "markdown",
   "id": "7deb455c-9d27-4d9e-928a-e2244f06f1a8",
   "metadata": {},
   "source": [
    "<a id=\"Task2\"></a>\n",
    "### **Task 2**"
   ]
  },
  {
   "cell_type": "markdown",
   "id": "749c8f50-d74e-4131-8849-0f9e8458488b",
   "metadata": {},
   "source": [
    "#### Solution: Fit a model to a set of data points that contains outliers. \n",
    "---\n",
    "\n",
    "> Use the train/test split methodology (ex. 80-20 splits) "
   ]
  },
  {
   "cell_type": "code",
   "execution_count": 7,
   "id": "e17ebd16-4810-41a4-b87a-d9795b1185b6",
   "metadata": {},
   "outputs": [
    {
     "data": {
      "text/html": [
       "<div>\n",
       "<style scoped>\n",
       "    .dataframe tbody tr th:only-of-type {\n",
       "        vertical-align: middle;\n",
       "    }\n",
       "\n",
       "    .dataframe tbody tr th {\n",
       "        vertical-align: top;\n",
       "    }\n",
       "\n",
       "    .dataframe thead th {\n",
       "        text-align: right;\n",
       "    }\n",
       "</style>\n",
       "<table border=\"1\" class=\"dataframe\">\n",
       "  <thead>\n",
       "    <tr style=\"text-align: right;\">\n",
       "      <th></th>\n",
       "      <th>x1</th>\n",
       "      <th>x2</th>\n",
       "      <th>x3</th>\n",
       "      <th>y</th>\n",
       "    </tr>\n",
       "  </thead>\n",
       "  <tbody>\n",
       "    <tr>\n",
       "      <th>0</th>\n",
       "      <td>7.892</td>\n",
       "      <td>318.818</td>\n",
       "      <td>162.970</td>\n",
       "      <td>2112.420</td>\n",
       "    </tr>\n",
       "    <tr>\n",
       "      <th>1</th>\n",
       "      <td>8.830</td>\n",
       "      <td>303.180</td>\n",
       "      <td>181.399</td>\n",
       "      <td>2096.231</td>\n",
       "    </tr>\n",
       "    <tr>\n",
       "      <th>2</th>\n",
       "      <td>13.811</td>\n",
       "      <td>296.231</td>\n",
       "      <td>145.849</td>\n",
       "      <td>2067.045</td>\n",
       "    </tr>\n",
       "    <tr>\n",
       "      <th>3</th>\n",
       "      <td>12.863</td>\n",
       "      <td>325.830</td>\n",
       "      <td>167.996</td>\n",
       "      <td>2269.262</td>\n",
       "    </tr>\n",
       "    <tr>\n",
       "      <th>4</th>\n",
       "      <td>13.698</td>\n",
       "      <td>254.035</td>\n",
       "      <td>171.892</td>\n",
       "      <td>1966.604</td>\n",
       "    </tr>\n",
       "  </tbody>\n",
       "</table>\n",
       "</div>"
      ],
      "text/plain": [
       "       x1       x2       x3         y\n",
       "0   7.892  318.818  162.970  2112.420\n",
       "1   8.830  303.180  181.399  2096.231\n",
       "2  13.811  296.231  145.849  2067.045\n",
       "3  12.863  325.830  167.996  2269.262\n",
       "4  13.698  254.035  171.892  1966.604"
      ]
     },
     "execution_count": 7,
     "metadata": {},
     "output_type": "execute_result"
    }
   ],
   "source": [
    "import pandas as pd\n",
    "import os\n",
    "%matplotlib inline\n",
    "import matplotlib.pyplot as plt\n",
    "import numpy as np\n",
    "import numpy.polynomial.polynomial as poly\n",
    "\n",
    "# Load the data into a Pandas DataFrame\n",
    "data_df = pd.read_csv(\"p3_task-2.csv\")\n",
    "data_df.head(5)"
   ]
  },
  {
   "cell_type": "code",
   "execution_count": 8,
   "id": "a9efc279-572c-48be-acd5-1f66ac555249",
   "metadata": {},
   "outputs": [
    {
     "name": "stdout",
     "output_type": "stream",
     "text": [
      "Train DataFrame: (800, 4)\n",
      "Test DataFrame: (200, 4)\n"
     ]
    },
    {
     "data": {
      "image/png": "[encoded data removed]",
      "text/plain": [
       "<Figure size 1080x360 with 3 Axes>"
      ]
     },
     "metadata": {
      "needs_background": "light"
     },
     "output_type": "display_data"
    }
   ],
   "source": [
    "from sklearn.model_selection import train_test_split\n",
    "\n",
    "# Split into train/test sets\n",
    "train_df, test_df = train_test_split(\n",
    "    data_df, train_size=0.8, test_size=0.2, random_state=0\n",
    ")\n",
    "\n",
    "print(\"Train DataFrame:\", train_df.shape)\n",
    "print(\"Test DataFrame:\", test_df.shape)\n",
    "\n",
    "# Create X/y variables\n",
    "X_tr = train_df.drop(\"y\", axis=1).values\n",
    "y_tr = train_df.y.values\n",
    "\n",
    "X_te = test_df.drop(\"y\", axis=1).values\n",
    "y_te = test_df.y.values\n",
    "\n",
    "# Create two subplots and unpack the output array immediately\n",
    "f, (ax1, ax2, ax3) = plt.subplots(1, 3, figsize=(15,5), sharey=True)\n",
    "\n",
    "ax1.scatter(X_tr[:,0], y_tr, label=\"train set\", marker=\".\")\n",
    "ax1.scatter(X_te[:,0], y_te, label=\"test set\", marker=\".\")\n",
    "ax1.set_title('Variable x1')\n",
    "ax1.set_ylabel(\"y value\")\n",
    "ax1.set_xlabel(\"x value\")\n",
    "\n",
    "ax2.scatter(X_tr[:,1], y_tr, label=\"train set\", marker=\".\")\n",
    "ax2.scatter(X_te[:,1], y_te, label=\"test set\", marker=\".\")\n",
    "ax2.set_title('Variable x2')\n",
    "ax2.set_xlabel(\"x value\")\n",
    "\n",
    "ax3.scatter(X_tr[:,2], y_tr, label=\"train set\", marker=\".\")\n",
    "ax3.scatter(X_te[:,2], y_te, label=\"test set\", marker=\".\")\n",
    "ax3.set_title('Variable x3')\n",
    "ax3.set_xlabel(\"x value\")\n",
    "\n",
    "plt.show()"
   ]
  },
  {
   "cell_type": "markdown",
   "id": "c84fdc27-4649-4107-a66f-c7dab87cfff3",
   "metadata": {},
   "source": [
    "> Create new dataframe that does not contain outliers"
   ]
  },
  {
   "cell_type": "code",
   "execution_count": 15,
   "id": "1325a17d-5853-4e02-b7cc-95c2e3c44431",
   "metadata": {},
   "outputs": [],
   "source": [
    "# Points in the upper left or lower right corners\n",
    "idx = (X_tr[:,0] < 0)  | (X_tr[:,0] > 25) | (X_tr[:,1] < 200) | (X_tr[:,1] > 450) | (X_tr[:,2] < 100)| (X_tr[:,2] > 200)\n",
    "\n",
    "# Extract \"normal\" points\n",
    "x1_tr, y1_tr = X_tr[~idx], y_tr[~idx]\n",
    "\n",
    "# Extract outliers\n",
    "x2_tr, y2_tr = X_tr[idx], y_tr[idx]\n"
   ]
  },
  {
   "cell_type": "markdown",
   "id": "ea351783-7fcd-429c-9b1b-4efc97a7231a",
   "metadata": {},
   "source": [
    "> Fit a linear regression with the outliers"
   ]
  },
  {
   "cell_type": "code",
   "execution_count": 17,
   "id": "aa1d28d0-eeaa-433b-973b-e1949b111f35",
   "metadata": {},
   "outputs": [
    {
     "data": {
      "text/plain": [
       "117.26195640000003"
      ]
     },
     "execution_count": 17,
     "metadata": {},
     "output_type": "execute_result"
    }
   ],
   "source": [
    "# Mean absolute error\n",
    "def MAE(y, y_pred):\n",
    "    return np.mean(np.abs(y - y_pred))\n",
    "\n",
    "# Compute baseline\n",
    "pred_baseline = np.mean(y_tr)  \n",
    "pred_baseline\n",
    "\n",
    "# compare the baseline with the target from the test data\n",
    "mae_baseline = MAE(y_te, pred_baseline)\n",
    "mae_baseline "
   ]
  },
  {
   "cell_type": "code",
   "execution_count": 18,
   "id": "8f61cb46-203f-4e74-9faf-43696758f9ca",
   "metadata": {},
   "outputs": [
    {
     "name": "stdout",
     "output_type": "stream",
     "text": [
      "Rank 4\n",
      "Condition number: 2495.9084217233935\n"
     ]
    }
   ],
   "source": [
    "# Add a column of ones\n",
    "X1= np.c_[np.ones(X_tr.shape[0]), X_tr]\n",
    "\n",
    "# Verify that X_tr with the additional column of ones has full rank\n",
    "rank = np.linalg.matrix_rank(X1)\n",
    "print(\"Rank\", rank)\n",
    "\n",
    "# Compute its condition number\n",
    "cn = np.linalg.cond(X1)\n",
    "print(\"Condition number:\", cn)  "
   ]
  },
  {
   "cell_type": "code",
   "execution_count": 26,
   "id": "3b610079-1df1-4c77-ad9b-22c065e48433",
   "metadata": {
    "tags": []
   },
   "outputs": [
    {
     "name": "stdout",
     "output_type": "stream",
     "text": [
      "The MAE value for the LR is 104.78843301492127\n",
      "The MAE value for the Huber Regression is 76.02850196994638\n",
      "The MAE value for the LR without outliers is 69.30261030814657\n"
     ]
    },
    {
     "data": {
      "image/png": "[encoded data removed]",
      "text/plain": [
       "<Figure size 432x288 with 1 Axes>"
      ]
     },
     "metadata": {
      "needs_background": "light"
     },
     "output_type": "display_data"
    }
   ],
   "source": [
    "# (A) Fit and evaluate a linear regression model\n",
    "from sklearn.linear_model import LinearRegression\n",
    "\n",
    "# Create a linear regression object\n",
    "lr = LinearRegression()\n",
    "# Fit the model\n",
    "lr.fit(X_tr, y_tr)\n",
    "y_pred_lr = lr.predict(X_te)\n",
    "mae_lr = MAE(y_te, y_pred_lr)\n",
    "print(\n",
    "    \"The MAE value for the LR is \"+str(mae_lr)\n",
    "    )\n",
    "\n",
    "# (B) Same with Huber loss\n",
    "from sklearn.linear_model import HuberRegressor\n",
    "\n",
    "# Create the estimator\n",
    "huber = HuberRegressor(epsilon=1)\n",
    "# Fit it to X,y\n",
    "huber.fit(X_tr, y_tr)\n",
    "y_pred_huber = huber.predict(X_te)\n",
    "mae_huber = MAE(y_te, y_pred_huber)\n",
    "print(\n",
    "    \"The MAE value for the Huber Regression is \"+str(mae_huber)\n",
    "    )\n",
    "\n",
    "# (C) Same without outliers\n",
    "# Create a linear regression object\n",
    "lr_wo = LinearRegression()\n",
    "# Fit the model\n",
    "lr_wo.fit(x1_tr, y1_tr)\n",
    "y_pred_lr_wo = lr_wo.predict(X_te)\n",
    "mae_lr_wo = MAE(y_te, y_pred_lr_wo)\n",
    "print(\n",
    "    \"The MAE value for the LR without outliers is \"+str(mae_lr_wo)\n",
    "    )\n",
    "\n",
    "# (D) Plot best model\n",
    "%matplotlib inline\n",
    "import matplotlib.pyplot as plt\n",
    "\n",
    "# Compare your models to a baseline using a bar chart\n",
    "\n",
    "# Final comparison\n",
    "mae_values = [mae_baseline, mae_lr, mae_huber, mae_lr_wo]\n",
    "titles = [\"Baseline\", \"Linear\", \"Huber\", \"Linear w/outliers\"]\n",
    "\n",
    "xcor = np.arange(len(mae_values))\n",
    "plt.bar(xcor, mae_values)\n",
    "plt.xticks(xcor, titles)\n",
    "\n",
    "plt.ylabel(\"MAE\")\n",
    "plt.show()"
   ]
  },
  {
   "cell_type": "markdown",
   "id": "a6137a74-e190-4f94-a87d-9db91a8173d7",
   "metadata": {},
   "source": [
    "**Observations:** The best model corresponds to the linear without outliers, as the MAE is the smallest one among the rest of the options. This result is only slightly better than the Huber regression model. The linear regression without outliers and huber regression models should both perform better than the linear regression with outliers."
   ]
  },
  {
   "cell_type": "code",
   "execution_count": null,
   "id": "7618a923-f553-46c7-bae1-3796827544d5",
   "metadata": {},
   "outputs": [],
   "source": []
  }
 ],
 "metadata": {
  "kernelspec": {
   "display_name": "Python [conda env:adsml] *",
   "language": "python",
   "name": "conda-env-adsml-py"
  },
  "language_info": {
   "codemirror_mode": {
    "name": "ipython",
    "version": 3
   },
   "file_extension": ".py",
   "mimetype": "text/x-python",
   "name": "python",
   "nbconvert_exporter": "python",
   "pygments_lexer": "ipython3",
   "version": "3.9.7"
  }
 },
 "nbformat": 4,
 "nbformat_minor": 5
}
