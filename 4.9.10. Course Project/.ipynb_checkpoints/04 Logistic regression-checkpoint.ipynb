{
 "cells": [
  {
   "cell_type": "markdown",
   "id": "f78df942-b269-4e80-b150-ccb86679f0c8",
   "metadata": {},
   "source": [
    "# Unit 4: Applied Machine Learning 2\n",
    "## Task 4: Logistic regression\n",
    "###### Candelaria Retamal\n",
    "###### **22.06.2022**\n"
   ]
  },
  {
   "cell_type": "markdown",
   "id": "9b12e468-0151-40f4-81a8-98d38bd0fd84",
   "metadata": {},
   "source": [
    "#### 4.1. Train and evaluate a logistic regression\n",
    "Train and evaluate a logistic regression model (without any regularization penalty=\"none\" and without any hyperparameters tuning)."
   ]
  },
  {
   "cell_type": "markdown",
   "id": "5dc6331f-fc96-474e-94d3-a293a303e7ed",
   "metadata": {},
   "source": [
    "---\n",
    "\n",
    "> **Solution**: "
   ]
  },
  {
   "cell_type": "markdown",
   "id": "75642a2e-897c-4533-b76c-eced5b8f2154",
   "metadata": {},
   "source": [
    "#### 4.2. Get model coefficients\n",
    "Get the model coefficients using the coef_ attribute of your estimator and visualize them using a heatmap.\n",
    "* What are the largest 5 coefficients for each category (i.e. the indices of these coefficients)?\n",
    "* Are these results consistent with your observations during the data exploration in the last question of Task 1?"
   ]
  },
  {
   "cell_type": "markdown",
   "id": "72ee41b5-f0ed-4f9a-9689-03cc32834609",
   "metadata": {},
   "source": [
    "---\n",
    "\n",
    "> **Solution**: "
   ]
  },
  {
   "cell_type": "markdown",
   "id": "b84a532d-bcb4-471f-9366-569f69959c08",
   "metadata": {},
   "source": [
    "#### 4.3. l2 regularization and strength parameters\n",
    "Set an “l2” regularization and tune the regularization strength parameter of the model with cross-validated grid-search."
   ]
  },
  {
   "cell_type": "markdown",
   "id": "e8ab6d66-bf9c-4b24-8a62-1b03965e3414",
   "metadata": {},
   "source": [
    "---\n",
    "\n",
    "> **Solution**: "
   ]
  },
  {
   "cell_type": "markdown",
   "id": "04dcb538-5220-4417-99ca-8f5175eceb75",
   "metadata": {},
   "source": [
    "#### 4.4. Report the result of cross-validated grid-search\n",
    "Report the result of cross-validated grid-search as a dataframe and interpret the result. In particular, briefly explain what are the mean_train_score, mean_test_score, std_train_score and std_test_score:\n",
    "* How are they obtained?\n",
    "* What do they measure?"
   ]
  },
  {
   "cell_type": "markdown",
   "id": "c69b4836-8481-4934-a775-da0dc1c410d3",
   "metadata": {},
   "source": [
    "---\n",
    "\n",
    "> **Solution**: "
   ]
  },
  {
   "cell_type": "markdown",
   "id": "169b7886-265a-42bd-ba78-70b077f706a7",
   "metadata": {
    "tags": []
   },
   "source": [
    "#### 4.5. Train and validation curves\n",
    "Plot the training and validation curves:\n",
    "* Compare the accuracies to the non-regularized model above.\n",
    "* Do the curves indicate overfitting?"
   ]
  },
  {
   "cell_type": "markdown",
   "id": "ccf299d1-dec2-4070-a3a0-50697c14affe",
   "metadata": {},
   "source": [
    "---\n",
    "\n",
    "> **Solution**: "
   ]
  },
  {
   "cell_type": "markdown",
   "id": "712f063f-6a63-4a77-be35-e8e71148c281",
   "metadata": {},
   "source": [
    "#### 4.6. Classification report and confusion matrix \n",
    "Provide a classification report and visualize the confusion matrix of the test set."
   ]
  },
  {
   "cell_type": "markdown",
   "id": "5f991d27-cf8c-487e-b6c6-0c78bf4b5126",
   "metadata": {},
   "source": [
    "---\n",
    "\n",
    "> **Solution**: "
   ]
  },
  {
   "cell_type": "code",
   "execution_count": null,
   "id": "eb4c51db-1822-4c2a-b919-3e2fb5fc974c",
   "metadata": {},
   "outputs": [],
   "source": []
  }
 ],
 "metadata": {
  "kernelspec": {
   "display_name": "Python [conda env:adsml] *",
   "language": "python",
   "name": "conda-env-adsml-py"
  },
  "language_info": {
   "codemirror_mode": {
    "name": "ipython",
    "version": 3
   },
   "file_extension": ".py",
   "mimetype": "text/x-python",
   "name": "python",
   "nbconvert_exporter": "python",
   "pygments_lexer": "ipython3",
   "version": "3.9.7"
  }
 },
 "nbformat": 4,
 "nbformat_minor": 5
}
