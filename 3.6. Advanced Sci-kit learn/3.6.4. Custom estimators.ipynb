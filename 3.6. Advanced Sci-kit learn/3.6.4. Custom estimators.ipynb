{
 "cells": [
  {
   "cell_type": "markdown",
   "id": "fc16d272-74b9-4710-ac22-5a27a0c53011",
   "metadata": {},
   "source": [
    "#### Custom estimators"
   ]
  },
  {
   "cell_type": "markdown",
   "id": "29a8d35b-f864-438a-a526-9364659b3d90",
   "metadata": {},
   "source": [
    "In the last unit, we saw how to define our own transformers. In this unit, we will see how to implement custom estimators with the scenario of outliers removal.\n",
    "\n",
    "#### Use case - outliers removal\n",
    "Let’s start by loading the dataset."
   ]
  },
  {
   "cell_type": "code",
   "execution_count": 2,
   "id": "651f8ad3-277f-4750-9205-394903855ae9",
   "metadata": {},
   "outputs": [
    {
     "data": {
      "text/html": [
       "<div>\n",
       "<style scoped>\n",
       "    .dataframe tbody tr th:only-of-type {\n",
       "        vertical-align: middle;\n",
       "    }\n",
       "\n",
       "    .dataframe tbody tr th {\n",
       "        vertical-align: top;\n",
       "    }\n",
       "\n",
       "    .dataframe thead th {\n",
       "        text-align: right;\n",
       "    }\n",
       "</style>\n",
       "<table border=\"1\" class=\"dataframe\">\n",
       "  <thead>\n",
       "    <tr style=\"text-align: right;\">\n",
       "      <th></th>\n",
       "      <th>Order</th>\n",
       "      <th>PID</th>\n",
       "      <th>MS SubClass</th>\n",
       "      <th>MS Zoning</th>\n",
       "      <th>Lot Frontage</th>\n",
       "      <th>Lot Area</th>\n",
       "      <th>Street</th>\n",
       "      <th>Alley</th>\n",
       "      <th>Lot Shape</th>\n",
       "      <th>Land Contour</th>\n",
       "      <th>...</th>\n",
       "      <th>Pool Area</th>\n",
       "      <th>Pool QC</th>\n",
       "      <th>Fence</th>\n",
       "      <th>Misc Feature</th>\n",
       "      <th>Misc Val</th>\n",
       "      <th>Mo Sold</th>\n",
       "      <th>Yr Sold</th>\n",
       "      <th>Sale Type</th>\n",
       "      <th>Sale Condition</th>\n",
       "      <th>SalePrice</th>\n",
       "    </tr>\n",
       "  </thead>\n",
       "  <tbody>\n",
       "    <tr>\n",
       "      <th>0</th>\n",
       "      <td>484</td>\n",
       "      <td>528275070</td>\n",
       "      <td>60</td>\n",
       "      <td>RL</td>\n",
       "      <td>NaN</td>\n",
       "      <td>8795</td>\n",
       "      <td>Pave</td>\n",
       "      <td>NaN</td>\n",
       "      <td>IR1</td>\n",
       "      <td>Lvl</td>\n",
       "      <td>...</td>\n",
       "      <td>0</td>\n",
       "      <td>NaN</td>\n",
       "      <td>NaN</td>\n",
       "      <td>NaN</td>\n",
       "      <td>0</td>\n",
       "      <td>4</td>\n",
       "      <td>2009</td>\n",
       "      <td>WD</td>\n",
       "      <td>Normal</td>\n",
       "      <td>236000</td>\n",
       "    </tr>\n",
       "    <tr>\n",
       "      <th>1</th>\n",
       "      <td>2586</td>\n",
       "      <td>535305120</td>\n",
       "      <td>20</td>\n",
       "      <td>RL</td>\n",
       "      <td>75.0</td>\n",
       "      <td>10170</td>\n",
       "      <td>Pave</td>\n",
       "      <td>NaN</td>\n",
       "      <td>Reg</td>\n",
       "      <td>Lvl</td>\n",
       "      <td>...</td>\n",
       "      <td>0</td>\n",
       "      <td>NaN</td>\n",
       "      <td>NaN</td>\n",
       "      <td>NaN</td>\n",
       "      <td>0</td>\n",
       "      <td>6</td>\n",
       "      <td>2006</td>\n",
       "      <td>WD</td>\n",
       "      <td>Normal</td>\n",
       "      <td>155000</td>\n",
       "    </tr>\n",
       "    <tr>\n",
       "      <th>2</th>\n",
       "      <td>2289</td>\n",
       "      <td>923228250</td>\n",
       "      <td>160</td>\n",
       "      <td>RM</td>\n",
       "      <td>21.0</td>\n",
       "      <td>2001</td>\n",
       "      <td>Pave</td>\n",
       "      <td>NaN</td>\n",
       "      <td>Reg</td>\n",
       "      <td>Lvl</td>\n",
       "      <td>...</td>\n",
       "      <td>0</td>\n",
       "      <td>NaN</td>\n",
       "      <td>NaN</td>\n",
       "      <td>NaN</td>\n",
       "      <td>0</td>\n",
       "      <td>1</td>\n",
       "      <td>2007</td>\n",
       "      <td>WD</td>\n",
       "      <td>Normal</td>\n",
       "      <td>75000</td>\n",
       "    </tr>\n",
       "    <tr>\n",
       "      <th>3</th>\n",
       "      <td>142</td>\n",
       "      <td>535152150</td>\n",
       "      <td>20</td>\n",
       "      <td>RL</td>\n",
       "      <td>70.0</td>\n",
       "      <td>10552</td>\n",
       "      <td>Pave</td>\n",
       "      <td>NaN</td>\n",
       "      <td>IR1</td>\n",
       "      <td>Lvl</td>\n",
       "      <td>...</td>\n",
       "      <td>0</td>\n",
       "      <td>NaN</td>\n",
       "      <td>NaN</td>\n",
       "      <td>NaN</td>\n",
       "      <td>0</td>\n",
       "      <td>4</td>\n",
       "      <td>2010</td>\n",
       "      <td>WD</td>\n",
       "      <td>Normal</td>\n",
       "      <td>165500</td>\n",
       "    </tr>\n",
       "    <tr>\n",
       "      <th>4</th>\n",
       "      <td>2042</td>\n",
       "      <td>903475060</td>\n",
       "      <td>190</td>\n",
       "      <td>RM</td>\n",
       "      <td>60.0</td>\n",
       "      <td>10120</td>\n",
       "      <td>Pave</td>\n",
       "      <td>NaN</td>\n",
       "      <td>IR1</td>\n",
       "      <td>Bnk</td>\n",
       "      <td>...</td>\n",
       "      <td>0</td>\n",
       "      <td>NaN</td>\n",
       "      <td>MnPrv</td>\n",
       "      <td>NaN</td>\n",
       "      <td>0</td>\n",
       "      <td>1</td>\n",
       "      <td>2007</td>\n",
       "      <td>WD</td>\n",
       "      <td>Normal</td>\n",
       "      <td>122000</td>\n",
       "    </tr>\n",
       "  </tbody>\n",
       "</table>\n",
       "<p>5 rows × 82 columns</p>\n",
       "</div>"
      ],
      "text/plain": [
       "   Order        PID  MS SubClass MS Zoning  Lot Frontage  Lot Area Street  \\\n",
       "0    484  528275070           60        RL           NaN      8795   Pave   \n",
       "1   2586  535305120           20        RL          75.0     10170   Pave   \n",
       "2   2289  923228250          160        RM          21.0      2001   Pave   \n",
       "3    142  535152150           20        RL          70.0     10552   Pave   \n",
       "4   2042  903475060          190        RM          60.0     10120   Pave   \n",
       "\n",
       "  Alley Lot Shape Land Contour  ... Pool Area Pool QC  Fence Misc Feature  \\\n",
       "0   NaN       IR1          Lvl  ...         0     NaN    NaN          NaN   \n",
       "1   NaN       Reg          Lvl  ...         0     NaN    NaN          NaN   \n",
       "2   NaN       Reg          Lvl  ...         0     NaN    NaN          NaN   \n",
       "3   NaN       IR1          Lvl  ...         0     NaN    NaN          NaN   \n",
       "4   NaN       IR1          Bnk  ...         0     NaN  MnPrv          NaN   \n",
       "\n",
       "  Misc Val Mo Sold Yr Sold Sale Type  Sale Condition  SalePrice  \n",
       "0        0       4    2009       WD           Normal     236000  \n",
       "1        0       6    2006       WD           Normal     155000  \n",
       "2        0       1    2007       WD           Normal      75000  \n",
       "3        0       4    2010       WD           Normal     165500  \n",
       "4        0       1    2007       WD           Normal     122000  \n",
       "\n",
       "[5 rows x 82 columns]"
      ]
     },
     "execution_count": 2,
     "metadata": {},
     "output_type": "execute_result"
    }
   ],
   "source": [
    "import pandas as pd\n",
    "\n",
    "data_df = pd.read_csv(\"c3_house-prices.csv\")\n",
    "data_df.head()\n"
   ]
  },
  {
   "cell_type": "markdown",
   "id": "a826ebd2-40d6-4c9b-b0f7-3ca8be5c1196",
   "metadata": {},
   "source": [
    "We learned about skewed distributions in the last subject and saw how log-transforms can help in such cases. However, it’s still possible that some values remain far from the mean after the transformation.\n",
    "\n",
    "For instance, let’s plot the z-scores distribution of the Lot Area variable before and after the log-transform. This time, we use the zscore() function from the scipy.stats module."
   ]
  },
  {
   "cell_type": "code",
   "execution_count": 3,
   "id": "936076b6-a396-4d2b-a052-1047f6ba3699",
   "metadata": {},
   "outputs": [
    {
     "data": {
      "image/png": "[encoded data removed]",
      "text/plain": [
       "<Figure size 720x216 with 2 Axes>"
      ]
     },
     "metadata": {
      "needs_background": "light"
     },
     "output_type": "display_data"
    }
   ],
   "source": [
    "%matplotlib inline\n",
    "import matplotlib.pyplot as plt\n",
    "from scipy.stats import zscore\n",
    "import numpy as np\n",
    "\n",
    "# Check for outliers in the continuous features\n",
    "c = \"Lot Area\"\n",
    "x = data_df[c].dropna()\n",
    "\n",
    "# Plot histograms\n",
    "fig, (ax1, ax2) = plt.subplots(nrows=1, ncols=2, figsize=(10, 3))\n",
    "ax1.hist(zscore(x), bins=50)\n",
    "ax2.hist(zscore(np.log1p(x)), bins=50)\n",
    "ax1.set_title(c)\n",
    "ax2.set_title(\"log({})\".format(c))\n",
    "plt.show()\n"
   ]
  },
  {
   "cell_type": "markdown",
   "id": "96b30769-a822-4d4e-a9b2-7fa1289f1e12",
   "metadata": {},
   "source": [
    "We can see that the transformation helps, but there are still many values with a z-score above +3 or below -3. We could simply remove them with Pandas before applying our ML models in Scikit-learn. However, let’s see how to encapsulate this preprocessing step into a Scikit-learn object.\n",
    "\n",
    "The Lot Area isn’t the only variable with a skewed distribution in this dataset. In the following code, we list them and create the train and test sets.\n",
    "\n"
   ]
  },
  {
   "cell_type": "code",
   "execution_count": 4,
   "id": "e31dcb74-0fa6-4fa3-81c5-626d99caab47",
   "metadata": {},
   "outputs": [
    {
     "data": {
      "text/html": [
       "<div>\n",
       "<style scoped>\n",
       "    .dataframe tbody tr th:only-of-type {\n",
       "        vertical-align: middle;\n",
       "    }\n",
       "\n",
       "    .dataframe tbody tr th {\n",
       "        vertical-align: top;\n",
       "    }\n",
       "\n",
       "    .dataframe thead th {\n",
       "        text-align: right;\n",
       "    }\n",
       "</style>\n",
       "<table border=\"1\" class=\"dataframe\">\n",
       "  <thead>\n",
       "    <tr style=\"text-align: right;\">\n",
       "      <th></th>\n",
       "      <th>Lot Area</th>\n",
       "      <th>Lot Frontage</th>\n",
       "      <th>Total Bsmt SF</th>\n",
       "      <th>Gr Liv Area</th>\n",
       "      <th>Garage Area</th>\n",
       "    </tr>\n",
       "  </thead>\n",
       "  <tbody>\n",
       "    <tr>\n",
       "      <th>339</th>\n",
       "      <td>20896</td>\n",
       "      <td>49.0</td>\n",
       "      <td>2077.0</td>\n",
       "      <td>2097</td>\n",
       "      <td>1134.0</td>\n",
       "    </tr>\n",
       "    <tr>\n",
       "      <th>1557</th>\n",
       "      <td>8930</td>\n",
       "      <td>68.0</td>\n",
       "      <td>0.0</td>\n",
       "      <td>1902</td>\n",
       "      <td>539.0</td>\n",
       "    </tr>\n",
       "    <tr>\n",
       "      <th>2167</th>\n",
       "      <td>3811</td>\n",
       "      <td>44.0</td>\n",
       "      <td>1594.0</td>\n",
       "      <td>1646</td>\n",
       "      <td>482.0</td>\n",
       "    </tr>\n",
       "    <tr>\n",
       "      <th>706</th>\n",
       "      <td>11200</td>\n",
       "      <td>NaN</td>\n",
       "      <td>1298.0</td>\n",
       "      <td>1298</td>\n",
       "      <td>403.0</td>\n",
       "    </tr>\n",
       "    <tr>\n",
       "      <th>2396</th>\n",
       "      <td>31250</td>\n",
       "      <td>125.0</td>\n",
       "      <td>0.0</td>\n",
       "      <td>1600</td>\n",
       "      <td>270.0</td>\n",
       "    </tr>\n",
       "  </tbody>\n",
       "</table>\n",
       "</div>"
      ],
      "text/plain": [
       "      Lot Area  Lot Frontage  Total Bsmt SF  Gr Liv Area  Garage Area\n",
       "339      20896          49.0         2077.0         2097       1134.0\n",
       "1557      8930          68.0            0.0         1902        539.0\n",
       "2167      3811          44.0         1594.0         1646        482.0\n",
       "706      11200           NaN         1298.0         1298        403.0\n",
       "2396     31250         125.0            0.0         1600        270.0"
      ]
     },
     "execution_count": 4,
     "metadata": {},
     "output_type": "execute_result"
    }
   ],
   "source": [
    "from sklearn.model_selection import train_test_split\n",
    "\n",
    "# Create X, y\n",
    "X = data_df.drop(\"SalePrice\", axis=1)\n",
    "y = np.log10(data_df.SalePrice)\n",
    "\n",
    "# Split into train/test sets\n",
    "X_tr, X_te, y_tr, y_te = train_test_split(X, y, test_size=0.5, random_state=0)\n",
    "\n",
    "# Continuous variables to check\n",
    "to_check = [\"Lot Area\", \"Lot Frontage\", \"Total Bsmt SF\", \"Gr Liv Area\", \"Garage Area\"]\n",
    "X_tr[to_check].head()\n"
   ]
  },
  {
   "cell_type": "markdown",
   "id": "4f477e2d-26b0-40a9-9903-8812668bd258",
   "metadata": {},
   "source": [
    "Note that we still have missing values in the data. In this unit, we ignore them during the outliers removal part and will then see later in this unit how to replace them using a SimpleImputer transformer object.\n",
    "\n",
    "#### ClassifierMixin object\n",
    "In the last unit, we defined our own transformers by creating a subclass of the BaseEstimator and TransformerMixin. Similarly, we can define custom estimators by creating a subclass of BaseEstimator and\n",
    "\n",
    "RegressorMixin for regression tasks\n",
    "ClassifierMixin for classification ones\n",
    "Let’s see how to create a ZScoresOutlierClassifier class that takes a set of column names to check for outliers and a removal threshold. This custom estimator will predict whether a point is an outlier or not - since this is a classification task, we need to extend ClassifierMixin.\n",
    "\n"
   ]
  },
  {
   "cell_type": "code",
   "execution_count": 5,
   "id": "36264cc5-c970-46c3-8a95-4aa7fcf2b9b7",
   "metadata": {},
   "outputs": [],
   "source": [
    "from sklearn.base import BaseEstimator, ClassifierMixin\n",
    "\n",
    "# Custom outliers detector base on z-scores\n",
    "# Adapted from https://github.com/scikit-learn/scikit-learn/issues/9630#issuecomment-325202441\n",
    "class ZScoresOutlierClassifier(BaseEstimator, ClassifierMixin):\n",
    "    def __init__(self, columns, threshold=3):\n",
    "        self.columns = columns\n",
    "        self.threshold = threshold\n",
    "\n",
    "    def fit(self, X_df, y):\n",
    "        # Check that X_df is a DataFrame\n",
    "        assert type(X_df) == pd.DataFrame\n",
    "\n",
    "        # Compute train mean/std\n",
    "        self.train_mean_ = X_df[self.columns].mean()\n",
    "        self.train_std_ = X_df[self.columns].std()\n",
    "\n",
    "        # Return estimator\n",
    "        return self\n",
    "\n",
    "    def predict(self, X_df):\n",
    "        # Check that X_df is a DataFrame\n",
    "        assert type(X_df) == pd.DataFrame\n",
    "\n",
    "        # Apply threshold\n",
    "        z_scores = (X_df[self.columns] - self.train_mean_) / (self.train_std_)\n",
    "        below_threshold = np.abs(z_scores.fillna(0)) <= self.threshold\n",
    "\n",
    "        # Find inliners\n",
    "        mask = below_threshold.all(axis=1)\n",
    "\n",
    "        # Return predictions: +1 for inliners, -1 for outliers\n",
    "        return mask.replace({True: 1, False: -1})"
   ]
  },
  {
   "cell_type": "markdown",
   "id": "14404c43-fab8-4690-a196-1940601304ec",
   "metadata": {},
   "source": [
    "In this code, we define two functions: fit() and predict().\n",
    "\n",
    "The fit function computes the mean and standard deviation of each column of the train DataFrame and stores them in the train_mean_ and train_std_ variables. The “predict” part computes the z-scores using simple Pandas code and checks that the data points are below the defined threshold.\n",
    "\n",
    "Note the Pandas all(axis=1) call - a point that isn’t an outlier should have all its z-scores below the threshold. Finally, we return 1 for normal points and -1 for outliers: this is the standard encoding for outlier detector objects from Scikit-learn.\n",
    "\n",
    "Let’s test our custom classifier on the training data\n",
    "\n"
   ]
  },
  {
   "cell_type": "code",
   "execution_count": 6,
   "id": "217864d4-e965-457d-aac2-a2f8ce29a713",
   "metadata": {},
   "outputs": [
    {
     "data": {
      "text/plain": [
       "339    -1\n",
       "1557    1\n",
       "2167    1\n",
       "706     1\n",
       "2396    1\n",
       "dtype: int64"
      ]
     },
     "execution_count": 6,
     "metadata": {},
     "output_type": "execute_result"
    }
   ],
   "source": [
    "outliers_clf = ZScoresOutlierClassifier(to_check)\n",
    "outliers_clf.fit(X_tr, y_tr)\n",
    "outliers_clf.predict(X_tr).head()"
   ]
  },
  {
   "cell_type": "markdown",
   "id": "cf2b86d9-a6df-4729-9939-c30abe48efb5",
   "metadata": {},
   "source": [
    "As we can see, the first point is labeled as an outlier and shouldn’t be used to train the model.\n",
    "\n",
    "Challenge: We didn’t check for outliers in the output variable - can you adapt the code to also handle extreme values in the target?\n",
    "\n",
    "#### RegressorMixin object\n",
    "Now that we have a custom outlier classifier, let’s see how to use it to improve our predictions. Remember: outliers hurt the performance of our models because of the RSS-based cost functions which have bad statistical properties i.e. they don’t handle well statistically extreme values.\n",
    "\n",
    "Let’s define a WithoutOutliersRegressor object that first removes the outliers from the training data before fitting the estimator.\n",
    "\n"
   ]
  },
  {
   "cell_type": "code",
   "execution_count": 7,
   "id": "ed17b92a-41ad-47f9-acce-95f5420d7c30",
   "metadata": {},
   "outputs": [],
   "source": [
    "from sklearn.base import RegressorMixin, clone\n",
    "\n",
    "# Custom regressor with an embedded outliers detector\n",
    "# Adapted from https://github.com/scikit-learn/scikit-learn/issues/9630#issuecomment-325202441\n",
    "class WithoutOutliersRegressor(BaseEstimator, RegressorMixin):\n",
    "    def __init__(self, outlier_detector, regressor):\n",
    "        self.outlier_detector = outlier_detector\n",
    "        self.regressor = regressor\n",
    "\n",
    "    def fit(self, X, y, verbose=False):\n",
    "        # Fit outliers detector, use it on X\n",
    "        self.outlier_detector_ = clone(self.outlier_detector).fit(X, y)\n",
    "        outliers = self.outlier_detector_.predict(X) == -1\n",
    "\n",
    "        # Print the number of outliers detected\n",
    "        if verbose:\n",
    "            print(\n",
    "                \"Outliers detected: {} ({:.1f}%)\".format(\n",
    "                    outliers.sum(), 100 * outliers.mean()\n",
    "                )\n",
    "            )\n",
    "\n",
    "        # Fit regressor without the outliers\n",
    "        self.regressor_ = clone(self.regressor).fit(X[~outliers], y[~outliers])\n",
    "\n",
    "        # Return the estimator\n",
    "        return self\n",
    "\n",
    "    def predict(self, X):\n",
    "        # Make predictions with the regressor (fitted without the outliers)\n",
    "        return self.regressor_.predict(X)"
   ]
  },
  {
   "cell_type": "markdown",
   "id": "9c1e978b-4e0b-4aa5-b35b-63e1f9c9a542",
   "metadata": {},
   "source": [
    "Again, we need to define the fit() and predict() functions.\n",
    "\n",
    "In the fit part, we fit our outlier detector to the training data, create an outliers mask and use it to exclude outliers from our model fit() call. In the “predict” part, we simply use our fitted regressor object to make new predictions for all data points i.e. including potential outliers.\n",
    "\n",
    "So far in this course, we always saw examples where the current state of our estimators was clear ex. is it fitted, on what data are the coefficients computed and so on. However, in this implementation, we are working with an outlier detector and a regressor that are created outside our custom estimator, and we modify them inside it by calling the .fit() method.\n",
    "\n",
    "To avoid any confusion, we clone the estimators with the clone() function from Scikit-learn - that way, we are sure to leave the original objects unmodified. This issue is very similar to what can happen with Pandas inplace=True operations. If you’re curious about this, you can take a look at this example which illustrate the issue.\n",
    "\n",
    "#### Complete pipeline\n",
    "Let’s use our new estimator in a complete pipeline. First, we need to fill missing values and encode non-numerical variables. This time, we will use the SimpleImputer object from Scikit-learn to handle missing values."
   ]
  },
  {
   "cell_type": "code",
   "execution_count": 8,
   "id": "46d9878f-a16a-466f-a90a-5e762187507b",
   "metadata": {},
   "outputs": [],
   "source": [
    "from sklearn.pipeline import Pipeline\n",
    "from sklearn.impute import SimpleImputer\n",
    "from sklearn.preprocessing import OneHotEncoder\n",
    "\n",
    "# One-hot encoding for non-numerical columns\n",
    "onehot_columns = X.select_dtypes(exclude=np.number).columns\n",
    "onehot_transformer = Pipeline(\n",
    "    [\n",
    "        (\"imputer\", SimpleImputer(strategy=\"most_frequent\")),\n",
    "        (\"encoder\", OneHotEncoder(handle_unknown=\"ignore\")),\n",
    "    ]\n",
    ")"
   ]
  },
  {
   "cell_type": "markdown",
   "id": "4883a8c7-22cc-49b5-ba51-385bdc013506",
   "metadata": {},
   "source": [
    "By setting its strategy parameter to most_frequent, the imputer simply replaces missing values with the most frequent value found in the column. Other possible strategies are mean, median and constant. You can always refer to the documentation if you’re unsure about the different options.\n",
    "\n",
    "Let’s also define the transformations for the numerical columns.\n",
    "\n"
   ]
  },
  {
   "cell_type": "code",
   "execution_count": 9,
   "id": "99826f6b-03f4-428a-83fb-f046930ebf57",
   "metadata": {},
   "outputs": [],
   "source": [
    "from sklearn.preprocessing import FunctionTransformer\n",
    "from sklearn.preprocessing import StandardScaler\n",
    "\n",
    "# Basic transformations for the others\n",
    "other_columns = X.columns.difference(onehot_columns)\n",
    "other_transformer = Pipeline(\n",
    "    [\n",
    "        (\"imputer\", SimpleImputer(strategy=\"most_frequent\")),\n",
    "        (\"log\", FunctionTransformer(np.log1p)),\n",
    "        (\"scaler\", StandardScaler()),\n",
    "    ]\n",
    ")"
   ]
  },
  {
   "cell_type": "markdown",
   "id": "7d05cb97-f2b0-4249-a922-4fabde5f66b2",
   "metadata": {},
   "source": [
    "Again, we perform minimal preprocessing steps. We first impute missing values, apply the log-transform and standardize the results.\n",
    "\n",
    "Let’s collect the preprocessing steps into a final ColumnTransformer\n",
    "\n"
   ]
  },
  {
   "cell_type": "code",
   "execution_count": 10,
   "id": "9ddee6fc-311d-4a83-b68c-e781d1856663",
   "metadata": {},
   "outputs": [],
   "source": [
    "from sklearn.compose import ColumnTransformer\n",
    "\n",
    "# Create preprocessor\n",
    "preprocessor = ColumnTransformer(\n",
    "    [\n",
    "        (\"onehot\", onehot_transformer, onehot_columns),\n",
    "        (\"other\", other_transformer, other_columns),\n",
    "    ]\n",
    ")"
   ]
  },
  {
   "cell_type": "markdown",
   "id": "6e1b7e96-892b-449c-9ffa-9040345c6a7b",
   "metadata": {},
   "source": [
    "Finally, let’s create our WithoutOutliersRegressor custom estimator. We simply need to pass the outlier detector and the regressor"
   ]
  },
  {
   "cell_type": "code",
   "execution_count": 11,
   "id": "6779febb-3f28-4809-a9f7-cfd18a401969",
   "metadata": {},
   "outputs": [],
   "source": [
    "from sklearn.linear_model import Ridge\n",
    "\n",
    "# Define pipeline\n",
    "model = WithoutOutliersRegressor(\n",
    "    outlier_detector=ZScoresOutlierClassifier(to_check, threshold=3),\n",
    "    regressor=Pipeline([(\"preprocessor\", preprocessor), (\"ridge\", Ridge())]),\n",
    ")"
   ]
  },
  {
   "cell_type": "markdown",
   "id": "f42d4e4f-a612-4318-95db-ab7a040c074a",
   "metadata": {},
   "source": [
    "It’s important to note that our ZScoresOutlierClassifier works on the untransformed DataFrame - our preprocessor is only applied before the Ridge model! For this reason, the detector is working on the original variables and not the log-transformed ones.\n",
    "\n",
    "To apply the outliers detector on the log-transformed variables, we cannot simply encapsulate our detector into a ColumnTransformer that applies the log-transform to the columns listed in to_check. The reason is simple: as we saw in the last units, column transformer objects produce Numpy arrays. However, our outliers detector works on DataFrames!\n",
    "\n"
   ]
  },
  {
   "cell_type": "markdown",
   "id": "6eef4cc5-d914-487c-85d2-9f8694ead8ce",
   "metadata": {},
   "source": [
    "#### Final evaluation\n",
    "Let’s see how our fully-encapsulated model performs.\n",
    "\n"
   ]
  },
  {
   "cell_type": "code",
   "execution_count": 12,
   "id": "5ab211d1-9821-4809-91f6-ee7be9e3d608",
   "metadata": {},
   "outputs": [
    {
     "name": "stdout",
     "output_type": "stream",
     "text": [
      "Outliers detected: 38 (3.1%)\n"
     ]
    },
    {
     "data": {
      "text/plain": [
       "WithoutOutliersRegressor(outlier_detector=ZScoresOutlierClassifier(columns=['Lot '\n",
       "                                                                            'Area',\n",
       "                                                                            'Lot '\n",
       "                                                                            'Frontage',\n",
       "                                                                            'Total '\n",
       "                                                                            'Bsmt '\n",
       "                                                                            'SF',\n",
       "                                                                            'Gr '\n",
       "                                                                            'Liv '\n",
       "                                                                            'Area',\n",
       "                                                                            'Garage '\n",
       "                                                                            'Area']),\n",
       "                         regressor=Pipeline(steps=[('preprocessor',\n",
       "                                                    ColumnTransformer(transformers=[('onehot',\n",
       "                                                                                     Pipeline(steps=[('imputer',\n",
       "                                                                                                      SimpleImputer(strategy='most_frequent')),\n",
       "                                                                                                     ('encoder',\n",
       "                                                                                                      OneHotEncoder(handle_unknown='ig...\n",
       "       'Garage Area', 'Garage Cars', 'Garage Yr Blt', 'Gr Liv Area',\n",
       "       'Half Bath', 'Kitchen AbvGr', 'Lot Area', 'Lot Frontage',\n",
       "       'Low Qual Fin SF', 'MS SubClass', 'Mas Vnr Area', 'Misc Val', 'Mo Sold',\n",
       "       'Open Porch SF', 'Order', 'Overall Cond', 'Overall Qual', 'PID',\n",
       "       'Pool Area', 'Screen Porch', 'TotRms AbvGrd', 'Total Bsmt SF',\n",
       "       'Wood Deck SF', 'Year Built', 'Year Remod/Add', 'Yr Sold'],\n",
       "      dtype='object'))])),\n",
       "                                                   ('ridge', Ridge())]))"
      ]
     },
     "execution_count": 12,
     "metadata": {},
     "output_type": "execute_result"
    }
   ],
   "source": [
    "import warnings\n",
    "\n",
    "warnings.simplefilter(\"ignore\", FutureWarning)\n",
    "\n",
    "model.fit(X_tr, y_tr, verbose=True)"
   ]
  },
  {
   "cell_type": "markdown",
   "id": "0aeea303-38e0-47de-bc33-41ef4a937524",
   "metadata": {},
   "source": [
    "The outlier detector labeled around 3% of the entries as outliers. Those training points won’t be used to fit the model.\n",
    "\n",
    "Let’s evaluate it on the test set."
   ]
  },
  {
   "cell_type": "code",
   "execution_count": 13,
   "id": "6dc98a0b-54f5-45e6-a195-6c40a49516fb",
   "metadata": {},
   "outputs": [
    {
     "name": "stdout",
     "output_type": "stream",
     "text": [
      "MAE: 14,215.87$\n"
     ]
    }
   ],
   "source": [
    "from sklearn.metrics import mean_absolute_error as MAE\n",
    "\n",
    "# Evaluate predictions\n",
    "y_pred = model.predict(X_te)\n",
    "print(\"MAE: {:,.2f}$\".format(MAE(10 ** y_te, 10 ** y_pred)))"
   ]
  },
  {
   "cell_type": "markdown",
   "id": "2f28319c-b7b8-4326-ad06-f8c1ee162b85",
   "metadata": {},
   "source": [
    "This time, we get an MAE score around 14 thousand dollars which is similar to what we obtained in the previous units.\n",
    "\n",
    "The advantage of our pipeline is that we can easily switch to other outlier detection methods. It’s not part of the course to know how the different detectors work, but it’s important to know that Scikit-learn implements many advanced techniques that can be used out-of-the-box once we are familiar with the transformers and estimators API.\n",
    "\n",
    "The library also does a great job at documenting the different approaches. If you google sklearn outlier detection, you should get this page which documents them in the top results.\n",
    "\n",
    "For instance, let’s try with the IsolationForest detector"
   ]
  },
  {
   "cell_type": "code",
   "execution_count": 14,
   "id": "0cc3b456-2d8a-43e2-b8ae-c30949720572",
   "metadata": {},
   "outputs": [
    {
     "name": "stdout",
     "output_type": "stream",
     "text": [
      "Outliers detected: 5 (0.4%)\n",
      "MAE: 14,480.59$\n"
     ]
    }
   ],
   "source": [
    "from sklearn.ensemble import IsolationForest\n",
    "from sklearn.pipeline import make_pipeline\n",
    "\n",
    "# Try with Isolation forests\n",
    "model2 = WithoutOutliersRegressor(\n",
    "    outlier_detector=make_pipeline(preprocessor, IsolationForest(random_state=0)),\n",
    "    regressor=Pipeline([(\"preprocessor\", preprocessor), (\"ridge\", Ridge())]),\n",
    ")\n",
    "model2.fit(X_tr, y_tr, verbose=True)\n",
    "\n",
    "# Evaluate predictions\n",
    "y_pred = model2.predict(X_te)\n",
    "print(\"MAE: {:,.2f}$\".format(MAE(10 ** y_te, 10 ** y_pred)))"
   ]
  },
  {
   "cell_type": "markdown",
   "id": "4db35475-4d92-4e8c-a3ec-136068f0445f",
   "metadata": {},
   "source": [
    "This time, we add our preprocessor before the IsolationForest using the make_pipeline() function to quickly create a Pipeline without having to name each step.\n",
    "\n",
    "As we can see, the isolation forest labels 10% of the data points as outliers and we get a slightly larger MAE score.\n",
    "\n",
    "#### Summary\n",
    "In this unit, we saw how to create custom estimators with the example of outliers removal. Custom estimators can be particularly useful if we need to encapsulate tools from other libraries into our Scikit-learn workflow. For instance, encapsulate ML methods from NLTK, TensorFlow or even our own algorithms.\n",
    "\n",
    "In the next unit, we will discuss advanced transformations that can improve the performance of our models. This will end our tour of the Scikit-learn library and machine learning workflow."
   ]
  }
 ],
 "metadata": {
  "kernelspec": {
   "display_name": "Python [conda env:adsml] *",
   "language": "python",
   "name": "conda-env-adsml-py"
  },
  "language_info": {
   "codemirror_mode": {
    "name": "ipython",
    "version": 3
   },
   "file_extension": ".py",
   "mimetype": "text/x-python",
   "name": "python",
   "nbconvert_exporter": "python",
   "pygments_lexer": "ipython3",
   "version": "3.9.7"
  }
 },
 "nbformat": 4,
 "nbformat_minor": 5
}
