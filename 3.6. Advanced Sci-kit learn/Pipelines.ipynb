{
 "cells": [
  {
   "cell_type": "markdown",
   "id": "fd72d998-af92-4c7a-8008-bbb2d03afa9b",
   "metadata": {},
   "source": [
    "### Pipelines\n",
    "\n",
    "So far, we used Scikit-learn for its ML estimators like the LinearRegression or Ridge ones and saw a few examples of transformers with the StandardScaler and PolynomialFeatures objects. In this unit and the next ones, we will see how to assemble Scikit-learn estimators and transformers into a full ML pipeline."
   ]
  },
  {
   "cell_type": "markdown",
   "id": "f8ed8f25-e2cd-4943-a879-90f77ddc6634",
   "metadata": {},
   "source": [
    "#### Encapsulating preprocessing steps\n",
    "Let’s start by loading the data."
   ]
  },
  {
   "cell_type": "code",
   "execution_count": 2,
   "id": "03fdcf0c-e67d-4cb9-baff-b159b00c2476",
   "metadata": {},
   "outputs": [
    {
     "data": {
      "text/html": [
       "<div>\n",
       "<style scoped>\n",
       "    .dataframe tbody tr th:only-of-type {\n",
       "        vertical-align: middle;\n",
       "    }\n",
       "\n",
       "    .dataframe tbody tr th {\n",
       "        vertical-align: top;\n",
       "    }\n",
       "\n",
       "    .dataframe thead th {\n",
       "        text-align: right;\n",
       "    }\n",
       "</style>\n",
       "<table border=\"1\" class=\"dataframe\">\n",
       "  <thead>\n",
       "    <tr style=\"text-align: right;\">\n",
       "      <th></th>\n",
       "      <th>temp</th>\n",
       "      <th>hum</th>\n",
       "      <th>windspeed</th>\n",
       "      <th>yr</th>\n",
       "      <th>workingday</th>\n",
       "      <th>holiday</th>\n",
       "      <th>weekday</th>\n",
       "      <th>season</th>\n",
       "      <th>weathersit</th>\n",
       "      <th>casual</th>\n",
       "    </tr>\n",
       "  </thead>\n",
       "  <tbody>\n",
       "    <tr>\n",
       "      <th>0</th>\n",
       "      <td>0.344</td>\n",
       "      <td>0.806</td>\n",
       "      <td>0.160</td>\n",
       "      <td>2011</td>\n",
       "      <td>no</td>\n",
       "      <td>no</td>\n",
       "      <td>6</td>\n",
       "      <td>spring</td>\n",
       "      <td>cloudy</td>\n",
       "      <td>331</td>\n",
       "    </tr>\n",
       "    <tr>\n",
       "      <th>1</th>\n",
       "      <td>0.363</td>\n",
       "      <td>0.696</td>\n",
       "      <td>0.249</td>\n",
       "      <td>2011</td>\n",
       "      <td>no</td>\n",
       "      <td>no</td>\n",
       "      <td>0</td>\n",
       "      <td>spring</td>\n",
       "      <td>cloudy</td>\n",
       "      <td>131</td>\n",
       "    </tr>\n",
       "    <tr>\n",
       "      <th>2</th>\n",
       "      <td>0.196</td>\n",
       "      <td>0.437</td>\n",
       "      <td>0.248</td>\n",
       "      <td>2011</td>\n",
       "      <td>yes</td>\n",
       "      <td>no</td>\n",
       "      <td>1</td>\n",
       "      <td>spring</td>\n",
       "      <td>clear</td>\n",
       "      <td>120</td>\n",
       "    </tr>\n",
       "    <tr>\n",
       "      <th>3</th>\n",
       "      <td>0.200</td>\n",
       "      <td>0.590</td>\n",
       "      <td>0.160</td>\n",
       "      <td>2011</td>\n",
       "      <td>yes</td>\n",
       "      <td>no</td>\n",
       "      <td>2</td>\n",
       "      <td>spring</td>\n",
       "      <td>clear</td>\n",
       "      <td>108</td>\n",
       "    </tr>\n",
       "    <tr>\n",
       "      <th>4</th>\n",
       "      <td>0.227</td>\n",
       "      <td>0.437</td>\n",
       "      <td>0.187</td>\n",
       "      <td>2011</td>\n",
       "      <td>yes</td>\n",
       "      <td>no</td>\n",
       "      <td>3</td>\n",
       "      <td>spring</td>\n",
       "      <td>clear</td>\n",
       "      <td>82</td>\n",
       "    </tr>\n",
       "  </tbody>\n",
       "</table>\n",
       "</div>"
      ],
      "text/plain": [
       "    temp    hum  windspeed    yr workingday holiday  weekday  season  \\\n",
       "0  0.344  0.806      0.160  2011         no      no        6  spring   \n",
       "1  0.363  0.696      0.249  2011         no      no        0  spring   \n",
       "2  0.196  0.437      0.248  2011        yes      no        1  spring   \n",
       "3  0.200  0.590      0.160  2011        yes      no        2  spring   \n",
       "4  0.227  0.437      0.187  2011        yes      no        3  spring   \n",
       "\n",
       "  weathersit  casual  \n",
       "0     cloudy     331  \n",
       "1     cloudy     131  \n",
       "2      clear     120  \n",
       "3      clear     108  \n",
       "4      clear      82  "
      ]
     },
     "execution_count": 2,
     "metadata": {},
     "output_type": "execute_result"
    }
   ],
   "source": [
    "import pandas as pd\n",
    "\n",
    "data_df = pd.read_csv(\"c3_bike-sharing-data.csv\")\n",
    "data_df.head()"
   ]
  },
  {
   "cell_type": "markdown",
   "id": "95873ce1-3eb9-4f40-9000-522598d9d635",
   "metadata": {},
   "source": [
    "As we can see, the data contains a few categorical variables. Let’s encode them with the get_dummies() function from Pandas and create the X and y train/test variables."
   ]
  },
  {
   "cell_type": "code",
   "execution_count": 3,
   "id": "aca5c933-0996-44f0-b9c5-b7506a6e0e36",
   "metadata": {},
   "outputs": [],
   "source": [
    "from sklearn.model_selection import train_test_split\n",
    "\n",
    "# One-hot encoding\n",
    "encoded_df = pd.get_dummies(data_df)\n",
    "\n",
    "# Split into train/test sets\n",
    "X = encoded_df.drop(\"casual\", axis=1).values\n",
    "y = data_df.casual.values\n",
    "X_tr, X_te, y_tr, y_te = train_test_split(X, y, test_size=0.3, random_state=0)"
   ]
  },
  {
   "cell_type": "markdown",
   "id": "1ddcad67-abf6-45fb-a1c7-322910ede940",
   "metadata": {},
   "source": [
    "The data is not ready yet! We are going to fit a ridge regression model, so we first need to standardize the data with a StandardScaler transformer."
   ]
  },
  {
   "cell_type": "code",
   "execution_count": 4,
   "id": "9417be3b-d7ed-4fff-b485-541da5d0a425",
   "metadata": {},
   "outputs": [],
   "source": [
    "from sklearn.preprocessing import StandardScaler\n",
    "\n",
    "# Standardize data\n",
    "scaler = StandardScaler()\n",
    "X_tr_rescaled = scaler.fit_transform(X_tr)\n",
    "X_te_rescaled = scaler.transform(X_te)"
   ]
  },
  {
   "cell_type": "markdown",
   "id": "91a5c555-04c3-4b57-9304-cd33bff028f0",
   "metadata": {},
   "source": [
    "It’s important to note that we fit the scaler on the train data by calling the fit() operation on X_tr and then use the computed train mean and standard deviations (featurewise) to standardize both train/test sets with the transform() one.\n",
    "\n",
    "Let’s now fit the ridge regression model and see how it performs."
   ]
  },
  {
   "cell_type": "code",
   "execution_count": null,
   "id": "21cdec91-6d85-48dd-8635-f5c294839869",
   "metadata": {},
   "outputs": [
    {
     "name": "stdout",
     "output_type": "stream",
     "text": [
      "MAE: 255890.12\n"
     ]
    }
   ],
   "source": [
    "from sklearn.metrics import mean_absolute_error as MAE\n",
    "from sklearn.linear_model import Ridge\n",
    "\n",
    "ridge = Ridge()\n",
    "ridge.fit(X_tr_rescaled, y_tr)\n",
    "print(\"MAE: {:.2f}\".format(MAE(y_te, ridge.predict(X_te))))"
   ]
  },
  {
   "cell_type": "markdown",
   "id": "c36f0ef6-7460-4da0-b4e3-f6b578da8428",
   "metadata": {},
   "source": [
    "Using this MAE metric, we can see that the predictions are, on average, 255,890 users away from the observed value! If we compare this result to the median baseline"
   ]
  },
  {
   "cell_type": "code",
   "execution_count": 6,
   "id": "848447e9-e7b2-483a-a79c-7e6db6bbe574",
   "metadata": {},
   "outputs": [
    {
     "name": "stdout",
     "output_type": "stream",
     "text": [
      "Median baseline: 523.47\n"
     ]
    }
   ],
   "source": [
    "import numpy as np\n",
    "\n",
    "median_predictions = np.full_like(y_te, np.median(y_tr))\n",
    "print(\"Median baseline: {:.2f}\".format(MAE(y_te, median_predictions)))"
   ]
  },
  {
   "cell_type": "markdown",
   "id": "827aed83-5add-4669-8f93-88b4cb8be41e",
   "metadata": {},
   "source": [
    "we can clearly see that there is an issue with our code! Can you find it?\n",
    "\n",
    "The mistake isn’t with our model - this part is correct. In fact, we simply used the wrong variable when computing predictions. Instead of passing X_te_rescaled to our model, we passed the untransformed X_te test input data."
   ]
  },
  {
   "cell_type": "code",
   "execution_count": 7,
   "id": "97b20b5f-c38d-4269-83df-860151a7762e",
   "metadata": {},
   "outputs": [
    {
     "name": "stdout",
     "output_type": "stream",
     "text": [
      "MAE: 279.80\n"
     ]
    }
   ],
   "source": [
    "print(\"MAE: {:.2f}\".format(MAE(y_te, ridge.predict(X_te_rescaled))))"
   ]
  },
  {
   "cell_type": "markdown",
   "id": "c793b5d3-98d3-4d2f-a803-86c6463c31a7",
   "metadata": {},
   "source": [
    "After fixing this issue, we get the correct predictions with an MAE of 280.\n",
    "\n",
    "Applying different preprocessing steps to the train/test data is a common mistake which can be hard to detect when we have a long sequence of transformations. To solve this issue, we can use the Pipeline object to encapsulate them with the estimator. Let’s see how to use this object."
   ]
  },
  {
   "cell_type": "markdown",
   "id": "d613b0f0-7429-43d0-880a-29f6c9396b6b",
   "metadata": {},
   "source": [
    "#### Pipeline object\n",
    "To create a Scikit-learn pipeline, we simply need to list the sequence of preprocessing steps and the final model.\n",
    "\n"
   ]
  },
  {
   "cell_type": "code",
   "execution_count": 8,
   "id": "a4b1c57d-c99b-4fbb-a96d-fe2c77513f83",
   "metadata": {},
   "outputs": [],
   "source": [
    "from sklearn.pipeline import Pipeline\n",
    "\n",
    "# Create pipeline\n",
    "pipe = Pipeline([(\"scaler\", StandardScaler()), (\"ridge\", Ridge())])"
   ]
  },
  {
   "cell_type": "markdown",
   "id": "4a6d9920-f9b1-46b0-a454-cd1eb25a4b11",
   "metadata": {},
   "source": [
    "The steps are simply (name, object) pairs. For each object, we can choose a name that we can then use later to refer to the step. In this case, we simply name the StandardScaler() step scaler and the Ridge() one ridge.\n",
    "\n",
    "We can then retrieve the list of steps with the named_steps attribute."
   ]
  },
  {
   "cell_type": "code",
   "execution_count": 9,
   "id": "a35cc24c-038f-4eb1-95a4-0ef8f905b969",
   "metadata": {},
   "outputs": [
    {
     "data": {
      "text/plain": [
       "{'scaler': StandardScaler(), 'ridge': Ridge()}"
      ]
     },
     "execution_count": 9,
     "metadata": {},
     "output_type": "execute_result"
    }
   ],
   "source": [
    "# Get a dictionary with each step\n",
    "pipe.named_steps"
   ]
  },
  {
   "cell_type": "markdown",
   "id": "77b918e5-4af3-4087-8028-59f213217a80",
   "metadata": {},
   "source": [
    "The pipeline object can be used as a standard Scikit-learn estimator i.e. it implements the usual fit(), predict() and score() functions from the estimator API."
   ]
  },
  {
   "cell_type": "code",
   "execution_count": 10,
   "id": "bca4a4bd-ff76-4727-aa91-9fd9a1632a32",
   "metadata": {},
   "outputs": [
    {
     "name": "stdout",
     "output_type": "stream",
     "text": [
      "MAE: 279.80\n"
     ]
    }
   ],
   "source": [
    "# Fit on the train set\n",
    "pipe.fit(X_tr, y_tr)\n",
    "\n",
    "# Evaluate on the test set\n",
    "print(\"MAE: {:.2f}\".format(MAE(y_te, pipe.predict(X_te))))\n"
   ]
  },
  {
   "cell_type": "markdown",
   "id": "445435f8-6cec-429a-a343-28a9a67c2227",
   "metadata": {},
   "source": [
    "Note that this time, we pass the unstandardized data to the pipeline which implicitly applies the scaler before ridge regression without creating intermediate variables that can lead to mistakes!"
   ]
  },
  {
   "cell_type": "markdown",
   "id": "ecd33932-cfbf-4f06-8a0d-62bbf28da3f1",
   "metadata": {},
   "source": [
    "#### Multiple preprocessing steps\n",
    "In the example above, we have a single preprocessing step. The pipe.fit() call is equivalent to applying the following handmade function"
   ]
  },
  {
   "cell_type": "code",
   "execution_count": 11,
   "id": "50b66c0f-b221-4057-bd00-2728306dfc9f",
   "metadata": {},
   "outputs": [],
   "source": [
    "def pipe_fit(X, y):\n",
    "    # Fit and apply the transformation\n",
    "    X1 = scaler.fit_transform(X)\n",
    "\n",
    "    # Fit the estimator\n",
    "    ridge.fit(X1, y)\n",
    "\n",
    "\n",
    "# Fit to the train data\n",
    "pipe_fit(X_tr, y_tr)"
   ]
  },
  {
   "cell_type": "markdown",
   "id": "880172d0-fa61-4a1a-ac01-b571808ebe2f",
   "metadata": {},
   "source": [
    "Similarly, the pipe.predict() call above is equivalent to"
   ]
  },
  {
   "cell_type": "code",
   "execution_count": 12,
   "id": "d27d5eae-fef2-44cb-abf7-bb17886285b3",
   "metadata": {},
   "outputs": [
    {
     "name": "stdout",
     "output_type": "stream",
     "text": [
      "MAE: 279.80\n"
     ]
    }
   ],
   "source": [
    "def pipe_predict(X):\n",
    "    # Apply the transformation\n",
    "    X1 = scaler.transform(X)\n",
    "\n",
    "    # Make predictions\n",
    "    return ridge.predict(X1)\n",
    "\n",
    "\n",
    "# Evaluate on the test set\n",
    "print(\"MAE: {:.2f}\".format(MAE(y_te, pipe_predict(X_te))))\n"
   ]
  },
  {
   "cell_type": "markdown",
   "id": "73f14393-e4e1-4fb5-99a8-b50a8a6f8389",
   "metadata": {},
   "source": [
    "In practice, we sometimes need to encapsulate several transformers into a more complex pipeline.\n",
    "\n",
    "Pipeline with three transformations\n",
    "pipe = Pipeline([\n",
    "    ('transform1', ...),\n",
    "    ('transform2', ...),\n",
    "    ('transform3', ...),\n",
    "    ('estimator', ...)\n",
    "])\n",
    "\n",
    "In such cases, Scikit-learn simply fits and applies each transformer one after the other before fitting the estimator to the result. To illustrate this, here is the equivalent function to pipe.fit()\n",
    "\n"
   ]
  },
  {
   "cell_type": "code",
   "execution_count": 14,
   "id": "557598d0-db60-4e8d-98ee-75f6204faa89",
   "metadata": {},
   "outputs": [],
   "source": [
    "# Example with three transformations\n",
    "def pipe_fit(X, y):\n",
    "\n",
    "    # Fit and apply the transformations\n",
    "    X1 = transform1.fit_transform(X)\n",
    "    X2 = transform2.fit_transform(X1)\n",
    "    X3 = transform3.fit_transform(X2)\n",
    "\n",
    "    # Fit the estimator\n",
    "    estimator.fit(X3, y)"
   ]
  },
  {
   "cell_type": "markdown",
   "id": "46edfe9f-618e-48d4-adb9-9ed920eab1b1",
   "metadata": {},
   "source": [
    "At prediction time, the pipeline would apply the transformations and call the predict() function with the result."
   ]
  },
  {
   "cell_type": "code",
   "execution_count": 15,
   "id": "df3d06ae-fd81-4769-b4a3-3e2fee73a2ff",
   "metadata": {},
   "outputs": [],
   "source": [
    "def pipe_predict(X, y):\n",
    "\n",
    "    # Apply the transformations\n",
    "    X1 = transform1.transform(X)\n",
    "    X2 = transform2.transform(X1)\n",
    "    X3 = transform3.transform(X2)\n",
    "\n",
    "    # Make predictions\n",
    "    return estimator.predict(X3)"
   ]
  },
  {
   "cell_type": "markdown",
   "id": "e788f118-4881-4219-8a6a-50581710c432",
   "metadata": {},
   "source": [
    "#### Optional steps\n",
    "It can be interesting to try fitting an estimator with and without a preprocessing step to see if it improves to results. We will see a few scenarios in the next course where this is helpful. To achieve this, we can simply set the step to None"
   ]
  },
  {
   "cell_type": "code",
   "execution_count": 16,
   "id": "0b451d6e-8f97-4c4f-9189-9e5df604595d",
   "metadata": {},
   "outputs": [
    {
     "name": "stdout",
     "output_type": "stream",
     "text": [
      "MAE: 282.48\n"
     ]
    }
   ],
   "source": [
    "# Create a pipeline\n",
    "pipe = Pipeline([(\"scaler\", None), (\"ridge\", Ridge())])  # Disable this step\n",
    "\n",
    "# Fit pipeline to the train set\n",
    "pipe.fit(X_tr, y_tr)\n",
    "\n",
    "# Accuracy on the test set\n",
    "print(\"MAE: {:.2f}\".format(MAE(y_te, pipe.predict(X_te))))"
   ]
  },
  {
   "cell_type": "markdown",
   "id": "7e9df33c-e69d-497e-9e24-99ff5deeac7a",
   "metadata": {},
   "source": [
    "In this case, we cannot really conclude that we get worse results since we didn’t tune the regularization strength hyperparameter of our ridge regression model."
   ]
  },
  {
   "cell_type": "markdown",
   "id": "6bf7a2ec-846c-4eb7-9e80-5d9d5a3ad9b5",
   "metadata": {},
   "source": [
    "#### Grid search with pipelines\n",
    "Let’s see how we would tune the alpha hyperparameter using grid search on our pipeline\n",
    "\n"
   ]
  },
  {
   "cell_type": "code",
   "execution_count": 18,
   "id": "a846b966-8834-4cdb-998a-3f6b61bb24d0",
   "metadata": {},
   "outputs": [
    {
     "data": {
      "text/html": [
       "<div>\n",
       "<style scoped>\n",
       "    .dataframe tbody tr th:only-of-type {\n",
       "        vertical-align: middle;\n",
       "    }\n",
       "\n",
       "    .dataframe tbody tr th {\n",
       "        vertical-align: top;\n",
       "    }\n",
       "\n",
       "    .dataframe thead th {\n",
       "        text-align: right;\n",
       "    }\n",
       "</style>\n",
       "<table border=\"1\" class=\"dataframe\">\n",
       "  <thead>\n",
       "    <tr style=\"text-align: right;\">\n",
       "      <th></th>\n",
       "      <th>alpha</th>\n",
       "      <th>train_mae</th>\n",
       "      <th>test_mae</th>\n",
       "    </tr>\n",
       "  </thead>\n",
       "  <tbody>\n",
       "    <tr>\n",
       "      <th>0</th>\n",
       "      <td>0.000100</td>\n",
       "      <td>262.057394</td>\n",
       "      <td>279.754483</td>\n",
       "    </tr>\n",
       "    <tr>\n",
       "      <th>1</th>\n",
       "      <td>0.000120</td>\n",
       "      <td>262.057392</td>\n",
       "      <td>279.754483</td>\n",
       "    </tr>\n",
       "    <tr>\n",
       "      <th>2</th>\n",
       "      <td>0.000145</td>\n",
       "      <td>262.057391</td>\n",
       "      <td>279.754485</td>\n",
       "    </tr>\n",
       "    <tr>\n",
       "      <th>3</th>\n",
       "      <td>0.000175</td>\n",
       "      <td>262.057389</td>\n",
       "      <td>279.754486</td>\n",
       "    </tr>\n",
       "    <tr>\n",
       "      <th>4</th>\n",
       "      <td>0.000210</td>\n",
       "      <td>262.057386</td>\n",
       "      <td>279.754487</td>\n",
       "    </tr>\n",
       "  </tbody>\n",
       "</table>\n",
       "</div>"
      ],
      "text/plain": [
       "      alpha   train_mae    test_mae\n",
       "0  0.000100  262.057394  279.754483\n",
       "1  0.000120  262.057392  279.754483\n",
       "2  0.000145  262.057391  279.754485\n",
       "3  0.000175  262.057389  279.754486\n",
       "4  0.000210  262.057386  279.754487"
      ]
     },
     "execution_count": 18,
     "metadata": {},
     "output_type": "execute_result"
    }
   ],
   "source": [
    "import numpy as np\n",
    "\n",
    "# Variable to store the results\n",
    "gs_results = []\n",
    "\n",
    "# Grid search\n",
    "for alpha in np.logspace(-4, 4, num=100):\n",
    "    # Create/fit the pipeline\n",
    "    pipe = Pipeline([(\"scaler\", StandardScaler()), (\"ridge\", Ridge(alpha))])\n",
    "    pipe.fit(X_tr, y_tr)\n",
    "\n",
    "    # Save model and its performance on train/test sets\n",
    "    gs_results.append(\n",
    "        {\n",
    "            \"alpha\": alpha,\n",
    "            \"train_mae\": MAE(y_tr, pipe.predict(X_tr)),\n",
    "            \"test_mae\": MAE(y_te, pipe.predict(X_te)),\n",
    "        }\n",
    "    )\n",
    "\n",
    "# Convert results to DataFrame\n",
    "gs_results = pd.DataFrame(gs_results)\n",
    "gs_results.head()"
   ]
  },
  {
   "cell_type": "markdown",
   "id": "8f08b301-4b36-40b2-9785-a623106f8b34",
   "metadata": {},
   "source": [
    "In this code, we simply create a new pipe object for each value and get the table above.\n",
    "\n",
    "Let’s visualize the train/test scores by plotting the validation curves.\n",
    "\n"
   ]
  },
  {
   "cell_type": "code",
   "execution_count": 19,
   "id": "00bd124d-3840-4073-90b8-f322cfd9b619",
   "metadata": {},
   "outputs": [
    {
     "data": {
      "image/png": "[encoded data removed]",
      "text/plain": [
       "<Figure size 432x288 with 1 Axes>"
      ]
     },
     "metadata": {
      "needs_background": "light"
     },
     "output_type": "display_data"
    }
   ],
   "source": [
    "%matplotlib inline\n",
    "import matplotlib.pyplot as plt\n",
    "\n",
    "# Plot the validation curves\n",
    "plt.semilogx(gs_results[\"alpha\"], gs_results[\"train_mae\"], label=\"train curve\")\n",
    "plt.semilogx(gs_results[\"alpha\"], gs_results[\"test_mae\"], label=\"test curve\")\n",
    "plt.xlabel(\"$alpha$\")\n",
    "plt.ylabel(\"MAE\")\n",
    "plt.legend()\n",
    "plt.show()"
   ]
  },
  {
   "cell_type": "markdown",
   "id": "9dd5e1e2-dbb0-42ef-9ecd-1ca75b9ce39f",
   "metadata": {},
   "source": [
    "The model is not overfitting: the test curve remains flat when releasing the regularization constraint i.e. alpha values close to zero. On the other hand, we can see that the performance quickly drops when increasing alpha. This corresponds to the underfitting case.\n",
    "\n",
    "If we don’t want to create a new pipeline object in the for loop (ex. for readability), we can also use the get_params() and set_params() functions which are available in every Scikit-learn estimator including the Pipeline one."
   ]
  },
  {
   "cell_type": "code",
   "execution_count": 20,
   "id": "8bfaa839-1e56-4fc1-baa5-61e5f1b4d838",
   "metadata": {},
   "outputs": [
    {
     "data": {
      "text/plain": [
       "{'memory': None,\n",
       " 'steps': [('scaler', StandardScaler()), ('ridge', Ridge())],\n",
       " 'verbose': False,\n",
       " 'scaler': StandardScaler(),\n",
       " 'ridge': Ridge(),\n",
       " 'scaler__copy': True,\n",
       " 'scaler__with_mean': True,\n",
       " 'scaler__with_std': True,\n",
       " 'ridge__alpha': 1.0,\n",
       " 'ridge__copy_X': True,\n",
       " 'ridge__fit_intercept': True,\n",
       " 'ridge__max_iter': None,\n",
       " 'ridge__normalize': 'deprecated',\n",
       " 'ridge__positive': False,\n",
       " 'ridge__random_state': None,\n",
       " 'ridge__solver': 'auto',\n",
       " 'ridge__tol': 0.001}"
      ]
     },
     "execution_count": 20,
     "metadata": {},
     "output_type": "execute_result"
    }
   ],
   "source": [
    "# Create the pipeline\n",
    "pipe = Pipeline([(\"scaler\", StandardScaler()), (\"ridge\", Ridge())])\n",
    "pipe.get_params()\n"
   ]
  },
  {
   "cell_type": "markdown",
   "id": "d12de8cc-5216-4d65-9b90-fc0471afaf4a",
   "metadata": {},
   "source": [
    "In this case, the dictionary of parameters from our pipe estimator contains all the steps with their hyperparameters prefixed by the name of the step and two underscores _. For instance, ridge__alpha corresponds to the regularization strength of the ridge step.\n",
    "\n",
    "We can use the same syntax to set each hyperparameter value. For instance, let’s set the alpha one in our grid-search loop."
   ]
  },
  {
   "cell_type": "code",
   "execution_count": 21,
   "id": "4a4177b1-bc05-45ad-b5d9-a7b7e0e19ba1",
   "metadata": {},
   "outputs": [
    {
     "data": {
      "image/png": "[encoded data removed]",
      "text/plain": [
       "<Figure size 432x288 with 1 Axes>"
      ]
     },
     "metadata": {
      "needs_background": "light"
     },
     "output_type": "display_data"
    }
   ],
   "source": [
    "# Variable to store the results\n",
    "gs_results = []\n",
    "\n",
    "# Grid search\n",
    "for alpha in np.logspace(-4, 4, num=100):\n",
    "    # Fit the pipeline\n",
    "    pipe.set_params(ridge__alpha=alpha)\n",
    "    pipe.fit(X_tr, y_tr)\n",
    "\n",
    "    # Save model and its performance on train/test sets\n",
    "    gs_results.append(\n",
    "        {\n",
    "            \"alpha\": alpha,\n",
    "            \"train_mae\": MAE(y_tr, pipe.predict(X_tr)),\n",
    "            \"test_mae\": MAE(y_te, pipe.predict(X_te)),\n",
    "        }\n",
    "    )\n",
    "\n",
    "# Convert results to DataFrame\n",
    "gs_results = pd.DataFrame(gs_results)\n",
    "\n",
    "# Plot the validation curves\n",
    "plt.semilogx(gs_results[\"alpha\"], gs_results[\"train_mae\"], label=\"train curve\")\n",
    "plt.semilogx(gs_results[\"alpha\"], gs_results[\"test_mae\"], label=\"test curve\")\n",
    "plt.xlabel(\"$alpha$\")\n",
    "plt.ylabel(\"MAE\")\n",
    "plt.legend()\n",
    "plt.show()"
   ]
  },
  {
   "cell_type": "markdown",
   "id": "6a210162-5303-45a4-abd3-a95f9b5bcd27",
   "metadata": {},
   "source": [
    "Both approaches are correct and produce the same results. However, the set_params() one can be useful to quickly test different hyperparameter values without having to define new pipeline objects.\n",
    "\n",
    "#### Summary\n",
    "In this unit, we saw how to encapsulate a set of preprocessing steps and an estimator into a single Pipeline object. It’s interesting to note that we included only the standardization step in the pipeline and not the one-hot encoding one which was performed outside Scikit-learn with the get_dummies() function from Pandas.\n",
    "\n",
    "In the next unit, we will see how to encode categorical variables directly in Scikit-learn. To achieve this, we will use the ColumnTransformer object which is part of a new workflow that tries to consolidate the data manipulation steps, usually done in Pandas, with the modeling part from Scikit-learn."
   ]
  },
  {
   "cell_type": "code",
   "execution_count": null,
   "id": "8c015537-bf16-408e-99fe-8b7280e743f0",
   "metadata": {},
   "outputs": [],
   "source": []
  }
 ],
 "metadata": {
  "kernelspec": {
   "display_name": "Python [conda env:adsml] *",
   "language": "python",
   "name": "conda-env-adsml-py"
  },
  "language_info": {
   "codemirror_mode": {
    "name": "ipython",
    "version": 3
   },
   "file_extension": ".py",
   "mimetype": "text/x-python",
   "name": "python",
   "nbconvert_exporter": "python",
   "pygments_lexer": "ipython3",
   "version": "3.9.7"
  }
 },
 "nbformat": 4,
 "nbformat_minor": 5
}
