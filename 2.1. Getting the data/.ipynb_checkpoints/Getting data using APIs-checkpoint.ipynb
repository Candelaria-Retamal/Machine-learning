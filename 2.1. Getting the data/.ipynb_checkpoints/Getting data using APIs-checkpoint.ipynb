{
 "cells": [
  {
   "cell_type": "markdown",
   "id": "ad3d72f1-5a0c-4f78-a7d5-378f2e9106f5",
   "metadata": {},
   "source": [
    "### Getting data with APIs"
   ]
  },
  {
   "cell_type": "markdown",
   "id": "b0f979bf-5c02-4f1d-8f8d-3a8d4974db76",
   "metadata": {},
   "source": [
    "The client refers to our application that will access some user data. We should save the Client ID and Secret somewhere as they will be useful later."
   ]
  },
  {
   "cell_type": "code",
   "execution_count": 2,
   "id": "04ea8985-e356-47d7-a52f-13f58ccf9d45",
   "metadata": {},
   "outputs": [
    {
     "name": "stdout",
     "output_type": "stream",
     "text": [
      "Credentials: ['client_id', 'client_secret']\n"
     ]
    }
   ],
   "source": [
    "import json\n",
    "# Load credentials\n",
    "with open('client-credentials.json') as file:\n",
    "    client_credentials = json.load(file)\n",
    "\n",
    "print('Credentials:', list(client_credentials.keys())) # ['client_id', 'client_secret']"
   ]
  },
  {
   "cell_type": "markdown",
   "id": "80f4eea4-9805-424b-a5cd-b6f27a961e69",
   "metadata": {},
   "source": [
    "The json.load() function returns the JSON content as a Python dictionary that we can use to access the client information"
   ]
  },
  {
   "cell_type": "code",
   "execution_count": 2,
   "id": "d67b15ab-30ec-4e88-b91c-16711f00cfe6",
   "metadata": {},
   "outputs": [
    {
     "name": "stdout",
     "output_type": "stream",
     "text": [
      "76830\n"
     ]
    }
   ],
   "source": [
    "print(client_credentials['client_id']) # Client ID"
   ]
  },
  {
   "cell_type": "markdown",
   "id": "4c94399f-c7ac-4511-a97f-bab18e765578",
   "metadata": {},
   "source": [
    "The Strava API is made for applications that need to access user data from Strava. In this scenario, the app (client) has to be authorized by the users to access and manage their Strava data. \n",
    "\n",
    "In our case, we analyze our own data, but the process is the same - we need to explicitly authorize our app to access and manage our data. Let’s see how to do this.\n",
    "\n",
    "Authorization is done in the browser via a URL that links to the website Authorization Service. For Strava, it is: https://www.strava.com/oauth/authorize\n",
    "\n",
    "If you copy/paste this link in a browser, you should get the following message - note that the formatting depends on the browser, but the content should be the same\n",
    "\n",
    "{\n",
    "  \"message\": \"Bad Request\",\n",
    "  \"errors\": [\n",
    "    {\n",
    "      \"resource\": \"Application\",\n",
    "      \"field\": \"client_id\",\n",
    "      \"code\": \"invalid\"\n",
    "    }\n",
    "  ]\n",
    "}\n",
    "\n",
    "This message (in JSON format) simply says that our authorization request is invalid. In fact, we need to provide a few additional parameters to the Strava Authorization Service! This is done via GET parameters which is a way to pass (key, value) information pairs via URLs\n",
    "\n",
    "GET syntax - passing parameters via a URL\n",
    "url?key1=value1&key2=value2&key3=value3\n"
   ]
  },
  {
   "cell_type": "markdown",
   "id": "fec08eae-30b6-4745-9f55-9a41114e19b4",
   "metadata": {},
   "source": [
    "According to the Strava Authentication API reference, we need to provide the following parameters: client_id which identifies our application, scope which defines the requested scope/rights for our application ex. read user profile, read user activities. Let’s store all the required GET parameters in a Python dictionary. We get the client_id from the json file and set the scope to get full read access to the user data. Also, as specified in the Strava API Authentication Reference, we need to set a response_type parameter to 'code' to explicitly say that Strava should return us with some Access Code for this user data."
   ]
  },
  {
   "cell_type": "code",
   "execution_count": 3,
   "id": "485e138f-1f6d-4abf-bfc9-28176674b334",
   "metadata": {},
   "outputs": [],
   "source": [
    "oauth_params = {\n",
    "    'client_id': client_credentials['client_id'],\n",
    "    'scope': 'read_all,profile:read_all,activity:read_all',\n",
    "    'redirect_uri': 'https://localhost',\n",
    "    'response_type': 'code'\n",
    "}"
   ]
  },
  {
   "cell_type": "markdown",
   "id": "6ace731b-9dec-43f0-a265-6450b423205c",
   "metadata": {},
   "source": [
    "Let’s now create the authorization link with the GET syntax that we saw above. In practice, URLs follow strict rules and we typically use a function to achieve this. In Python, we can use the urlencode() one from the built-in urllib Python module"
   ]
  },
  {
   "cell_type": "code",
   "execution_count": 4,
   "id": "2d886dff-6303-4d9b-959b-876a4b5f848f",
   "metadata": {},
   "outputs": [
    {
     "name": "stdout",
     "output_type": "stream",
     "text": [
      "https://www.strava.com/oauth/authorize?client_id=76830&scope=read_all%2Cprofile%3Aread_all%2Cactivity%3Aread_all&redirect_uri=https%3A%2F%2Flocalhost&response_type=code\n"
     ]
    }
   ],
   "source": [
    "from urllib.parse import urlencode\n",
    "\n",
    "# Generate link that users can copy/paste in their browser to authorize our app\n",
    "print('https://www.strava.com/oauth/authorize' + '?' + urlencode(oauth_params))"
   ]
  },
  {
   "cell_type": "markdown",
   "id": "fb666fcb-46ac-47b3-98c1-380df4beb92b",
   "metadata": {},
   "source": [
    "After authorizing the application, Strava redirects the user to the app redirect URI i.e. localhost in our case. Since our computer doesn’t host any web server, you should see an empty page saying that the site can’t be reached. This isn’t an issue in our case! We can manually copy the access code from the URL"
   ]
  },
  {
   "cell_type": "markdown",
   "id": "fd3b2d5b-6530-4a14-95a4-8dfbc2e03157",
   "metadata": {},
   "source": [
    "https://localhost/?\n",
    "  state=&\n",
    "  code=...&   <--- Here is our access code\n",
    "  scope=read,activity:read_all,profile:read_all,read_all"
   ]
  },
  {
   "cell_type": "markdown",
   "id": "bf083b0e-10df-4a25-a048-a744bc803545",
   "metadata": {},
   "source": [
    "As we can see, Strava returned three GET parameters\n",
    "\n",
    "* code which is the Access Code needed to retrieve the user data\n",
    "* scope which lists the scopes accepted by the user\n",
    "* state which is an optional flag from the Strava API used for security reasons - not important in our case since we’re not really building an app but just doing some data analysis\n",
    "\n",
    "The important parameter here is the user Access Code. Let’s extract it from the URL.\n",
    "\n",
    "Again, the access code is private and shouldn’t be shared via our notebook. One solution is to automatically extract it from the URL. First, let’s load the URL into memory with the Python getpass() built-in function"
   ]
  },
  {
   "cell_type": "code",
   "execution_count": null,
   "id": "5c18e067-6994-4000-ae1c-2fd80708f2a3",
   "metadata": {},
   "outputs": [],
   "source": [
    "from getpass import getpass\n",
    "\n",
    "# After authorizing the app, user is redirected to\n",
    "authorization_response = getpass(prompt='Full callback URL')"
   ]
  },
  {
   "cell_type": "markdown",
   "id": "841b2e6e-c426-495f-8316-6a21eff29a11",
   "metadata": {},
   "source": [
    "You should get a prompt when running this code - copy/paste the https://localhost/?state=&code=...&scope=... URL that you got from the Strava Authorization Service from above. Python will store it in the authorization_response variable.\n",
    "\n",
    "Let’s now extract the code part from it"
   ]
  },
  {
   "cell_type": "code",
   "execution_count": null,
   "id": "244e75f4-70d3-4079-a8b5-6691207104bc",
   "metadata": {},
   "outputs": [],
   "source": [
    "from urllib.parse import urlparse, parse_qs\n",
    "\n",
    "# Extract Authorization Code from URL\n",
    "authorization_code = parse_qs(urlparse(authorization_response).query)['code'][0]"
   ]
  },
  {
   "cell_type": "markdown",
   "id": "75994cfe-91e1-4394-8b40-9efac5521a94",
   "metadata": {},
   "source": [
    "In this code, we use urlparse from the Python urllib module to parse the URL into a ParseResult object from which we get the state=&code=...&scope=... part of the URL with its .query attribute.\n",
    "You can always verify that it worked by printing the intermediate results in a new cell - note: as the code should be kept private, make sure to then remove the print statement and output from your notebook!"
   ]
  },
  {
   "cell_type": "code",
   "execution_count": null,
   "id": "e25b584f-f261-447c-9cb5-8ae5a3384568",
   "metadata": {},
   "outputs": [],
   "source": [
    "urlparse(authorization_response).query # state=&code=...&scope=..."
   ]
  },
  {
   "cell_type": "markdown",
   "id": "6a8ce044-295d-4fb1-9617-44954ba73e76",
   "metadata": {},
   "source": [
    "We then extract the GET parameters using the parse_qs() function which returns a Python dictionary with one entry per result. The ['code'][0] simply says: get the first (and only) value of the code GET variable from the parsed parameters.\n",
    "Again, don’t hesitate to print intermediate results to better understand the role of each function in the code from above"
   ]
  },
  {
   "cell_type": "code",
   "execution_count": null,
   "id": "e93bde74-10b7-45d3-ba32-6e2f5af9377d",
   "metadata": {},
   "outputs": [],
   "source": [
    "parse_qs(urlparse(authorization_response).query)\n",
    "# Returns\n",
    "# {'code': ['...'],\n",
    "#  'scope': ['read,activity:read_all,profile:read_all,read_all']}"
   ]
  },
  {
   "cell_type": "markdown",
   "id": "7c034c05-acb4-4756-a873-79c95df72827",
   "metadata": {},
   "source": [
    "If you print the authorization_code, you should see that it correctly extracted the code"
   ]
  },
  {
   "cell_type": "code",
   "execution_count": null,
   "id": "96e7b814-272d-417c-99a4-fb2e8f831392",
   "metadata": {},
   "outputs": [],
   "source": [
    "print(authorization_code)"
   ]
  },
  {
   "cell_type": "markdown",
   "id": "5a08d8c5-abdb-41a0-81e3-034cba7e41af",
   "metadata": {},
   "source": [
    "### Get access token\n",
    "\n",
    "Now that our app has been authorized to access data from the user via the Access Code, we need to retrieve an Access Token from Strava to actually perform API queries and access user resources\n",
    "\n",
    "Why do we need an Access Token? Isn’t the Access Code sufficient? This actually depends on the API. Strava implements the OAuth 2.0 protocol where the app first needs to get some Access Code before getting the final Access Token that can be used to retrieve data. However, you might work later with other APIs that directly provide the Access Token. For instance, this was the case with the Strava API before October 2018 when they adopted the OAuth 2.0 standard.\n",
    "\n",
    "Let’s get back to our Strava API example. According to its authentication documentation, we can get the access token by making a POST request to https://www.strava.com/oauth/token\n",
    "\n",
    "You can think of GET requests as the addresses that are in the browser URL field at the top of the window. They are used to get content from the web but are not necessarily meant to send data to a web service besides short GET variables as we saw above. On the other hand, POST requests are used to send/post data to a web service, data that will typically be stored by it. In our API scenario which exposes entries of user data, we will typically use\n",
    "\n",
    "* GET queries to list the entries\n",
    "* POST queries to create new entries\n",
    "* PUT queries to update existing entries\n",
    "\n",
    "We can use the Python Requests library to perform those three types of queries via its .get(), .post() and .put() functions. Let’s see how to do the POST one to get the access token"
   ]
  },
  {
   "cell_type": "code",
   "execution_count": 16,
   "id": "10a915f0-48c3-48cb-9525-9bf07fa11223",
   "metadata": {},
   "outputs": [
    {
     "data": {
      "text/plain": [
       "400"
      ]
     },
     "execution_count": 16,
     "metadata": {},
     "output_type": "execute_result"
    }
   ],
   "source": [
    "import requests\n",
    "\n",
    "# Exchange Authorization Code for Access Token\n",
    "r = requests.post('https://www.strava.com/oauth/token', data={\n",
    "    'client_id': client_credentials['client_id'],\n",
    "    'client_secret': client_credentials['client_secret'],\n",
    "    'code': authorization_code,\n",
    "    'grant_type': 'authorization_code'\n",
    "})\n",
    "r.status_code # 200"
   ]
  },
  {
   "cell_type": "markdown",
   "id": "5eb03c91-5c08-4ad5-b22b-a0536900b359",
   "metadata": {},
   "source": [
    "The function takes two arguments, the URL and the data that let us send the fields defined in the Strava API token exchange guide\n",
    "\n",
    "* The client_id and client_secret which identify our application\n",
    "* The access code code\n",
    "* A grant_type field which states that we “post” the authorization code\n",
    "\n",
    "The function returns an object of type Response with the response from the Strava service. The first thing to do is to verify that the request was successful. We can achieve that by printing the status_code attribute. In our case, we get 200 for the status which means that the request was successful. In general 2xx codes are for successful requests whereas 4xx ones are returned when something is wrong ex. the famous 404 “Not Found” one - see List of HTTP status codes for the complete list of codes.\n",
    "\n",
    "The Response object stores the result of the request in its .text attribute. In our case, it should contain our Access Token - note: again, the token should be kept private, make sure to then remove the print statement and output from your notebook!"
   ]
  },
  {
   "cell_type": "code",
   "execution_count": null,
   "id": "39315485-33d6-40a7-878a-1318fcd25aef",
   "metadata": {},
   "outputs": [],
   "source": [
    "print(r.text) # ex. {\"token_type\":\"Bearer\",\"expires_at\": ... }"
   ]
  },
  {
   "cell_type": "markdown",
   "id": "f48b48ec-48d7-4bd9-9752-fdc88b0a7a1d",
   "metadata": {},
   "source": [
    "As we can see, the token is actually a JSON object of (key, value) pairs which is common practice for HTTP API responses. We can use the .json() method from the Response object to parse the result into a Python dictionary"
   ]
  },
  {
   "cell_type": "code",
   "execution_count": null,
   "id": "c855eb12-9fe9-4aaf-b543-b8136be18c0e",
   "metadata": {},
   "outputs": [],
   "source": [
    "r.json()\n",
    "\n",
    "# Outputs:\n",
    "# {'token_type': 'Bearer',\n",
    "#  'expires_at': 1558..,\n",
    "#  'expires_in': 21600,\n",
    "#  'refresh_token': '6001..',\n",
    "#  'access_token': '8bea..',\n",
    "#  'athlete': {'id': ..,\n",
    "#   ...\n",
    "#   'follower': ..}}"
   ]
  },
  {
   "cell_type": "markdown",
   "id": "3421b2f2-c5bb-4633-a00d-c22ee4ada7d9",
   "metadata": {},
   "source": [
    "This token contains all the information we need to retrieve the data from the Strava API\n",
    "\n",
    "* The access_token - we will use it in all of our API requests expires_at and expires_in which specify when the token expires\n",
    "* A refresh_token to get a new Access Token when this one expires\n",
    "* Strava also sends some basic information about the user in an athlete field\n",
    "\n",
    "Let’s store the token as we will need it later when interacting with the Strava API. One solution is to store it in a .json file that we can later reload in our code and notebooks. We can do this via a token_saver() function that takes the JSON object, creates a token.json file and saves it with the json.dump() function"
   ]
  },
  {
   "cell_type": "code",
   "execution_count": null,
   "id": "bc46f5fb-af10-4060-9042-fc3b88a4021e",
   "metadata": {},
   "outputs": [],
   "source": [
    "# Token saver\n",
    "def token_saver(token_obj):\n",
    "    with open('token.json', 'w') as file:\n",
    "        json.dump(token_obj, file, indent=4)\n",
    "\n",
    "token_saver(r.json())"
   ]
  },
  {
   "cell_type": "markdown",
   "id": "459cdd1e-bdae-49e1-9fe5-e5f281f3ff84",
   "metadata": {},
   "source": [
    "You can verify that the token is saved by simply opening the token.json file ex. directly in JupyterLab or any other text editor."
   ]
  },
  {
   "cell_type": "markdown",
   "id": "86279d7a-4c12-4dcd-a1a8-844a1efe1891",
   "metadata": {},
   "source": [
    "### Refreshing tokens\n",
    "\n",
    "Before starting making requests to the Strava API, let’s quickly discuss how access tokens work and when they should be refreshed.\n",
    "\n",
    "First, let’s start by reloading the token - as this is a frequent operation, we can also write a small function for this"
   ]
  },
  {
   "cell_type": "code",
   "execution_count": null,
   "id": "04567a38-329c-460f-bc8d-9eb95decf8b2",
   "metadata": {},
   "outputs": [],
   "source": [
    "# Token loader\n",
    "def get_token():\n",
    "    with open('token.json', 'r') as file:\n",
    "        return json.load(file)\n",
    "\n",
    "token = get_token()\n",
    "token.keys() # 'token_type', 'expires_at', 'expires_in', 'refresh_token', 'access_token', 'athlete'"
   ]
  },
  {
   "cell_type": "markdown",
   "id": "4c4384fa-1d89-4a63-9d1a-157a4337374b",
   "metadata": {},
   "source": [
    "We saw above that the token has two fields that specify when the token expires"
   ]
  },
  {
   "cell_type": "code",
   "execution_count": null,
   "id": "0485761a-cfea-4a1f-aecd-ad68afffa7c7",
   "metadata": {},
   "outputs": [],
   "source": [
    "print('Expires in:', token['expires_in']) # initially: 21600 (6 hours)\n",
    "print('Expires at:', token['expires_at']) # in seconds"
   ]
  },
  {
   "cell_type": "markdown",
   "id": "90fa43fd-58b1-4f54-8a46-a2c3e2dc4917",
   "metadata": {},
   "source": [
    "Those are both in seconds\n",
    "\n",
    "* expires_in is initially 21600 because the access token lives for 6 hours\n",
    "* expires_at is when the token expires\n",
    "\n",
    "The second field is a Unix timestamp which is defined as the number of seconds since Jan 1, 1970. To get the corresponding date, we can use functions from the Python datetime built-in module"
   ]
  },
  {
   "cell_type": "code",
   "execution_count": null,
   "id": "172781dd-772a-4ae3-92e4-ede768bdf202",
   "metadata": {},
   "outputs": [],
   "source": [
    "from datetime import datetime, timedelta\n",
    "\n",
    "print('Expires at:', datetime.fromtimestamp(token['expires_at'])) # date, time\n",
    "print('Expires in:', timedelta(seconds=token['expires_in'])) # time delta"
   ]
  },
  {
   "cell_type": "markdown",
   "id": "be3ca7d8-88db-4ef8-94d2-1c0bb1b5145c",
   "metadata": {},
   "source": [
    "When the token expires, we should reach the Strava token API and ask for a new one by simply issuing a new POST request with our refresh_token"
   ]
  },
  {
   "cell_type": "code",
   "execution_count": null,
   "id": "3f70f342-ee48-46b4-b2eb-d32692d82da5",
   "metadata": {},
   "outputs": [],
   "source": [
    "# Refresh expired Access Tokens\n",
    "r = requests.post('https://www.strava.com/oauth/token', data={\n",
    "    'client_id': client_credentials['client_id'],\n",
    "    'client_secret': client_credentials['client_secret'],\n",
    "    'refresh_token': token['refresh_token'],\n",
    "    'grant_type': 'refresh_token'\n",
    "})\n",
    "token_saver(r.json())\n",
    "token = get_token()"
   ]
  },
  {
   "cell_type": "markdown",
   "id": "86599d2f-3eb8-4ca9-bf6d-676426282123",
   "metadata": {},
   "source": [
    "Note that this time, the grant_type is refresh_token instead of authorization_code. We should now have a new token if the last one expired or a copy of the current one if it’s still valid."
   ]
  },
  {
   "cell_type": "markdown",
   "id": "41b83916-6e7a-4c04-9445-b85c0d5ed373",
   "metadata": {},
   "source": [
    "### Reach API using Python Requests\n",
    "\n",
    "Finally, let’s get some data from the API. Strava exposes several endpoints such as\n",
    "\n",
    "* /activities to add, retrieve and update the athlete activities\n",
    "* /clubs to list the athlete clubs\n",
    "* /routes, /segments and so on\n",
    "APIs usually provide an API Reference Documentation that lists the different endpoints and explains how they work. For Strava, you can take a look at developers.strava.com/docs/reference. For this example, we will simply list some of the athlete activities with the /athlete/activities one.\n",
    "\n",
    "As you can see in the related documentation entry List Athlete Activities, this endpoint accepts GET requests and has a few optional parameters ex. to specify the date interval or the desired number of results. For this example, we will use the defaults and only specify the Access Token\n"
   ]
  },
  {
   "cell_type": "code",
   "execution_count": null,
   "id": "7e67bfc1-b8bb-4084-88bb-dc2d4a4a979b",
   "metadata": {},
   "outputs": [],
   "source": [
    "# List activities\n",
    "r = requests.get('https://www.strava.com/api/v3/athlete/activities', params={\n",
    "    'access_token': token['access_token']\n",
    "})\n",
    "r.status_code # 200"
   ]
  },
  {
   "cell_type": "markdown",
   "id": "b1aecda5-5f0e-4efc-bf60-319434232039",
   "metadata": {},
   "source": [
    "As you can see, the syntax is similar to the one from the code with the post request from above. We specify the URL of the API endpoint, and pass the parameters as a Python dictionary in a params argument. Again, we check that the request was successful by printing the Response status code.\n",
    "\n",
    "Finally, let’s save the result in an activities.json file. Again, we use the .json() method as the API returns a JSON response"
   ]
  },
  {
   "cell_type": "code",
   "execution_count": null,
   "id": "71a09ff0-9619-42d5-9cef-25fc656c11b2",
   "metadata": {},
   "outputs": [],
   "source": [
    "# Save activities\n",
    "with open('activities.json', 'w') as file:\n",
    "    json.dump(r.json(), file, indent=4)"
   ]
  },
  {
   "cell_type": "markdown",
   "id": "3781fd7a-add7-4bee-a48a-e6468bb6a30c",
   "metadata": {},
   "source": [
    "You should be able to see the different activities saved in your Strava account by opening the file in a text editor.\n",
    "\n",
    "Since the results are stored on the disk, we can reuse them later in our analyzes. For instance, let’s load them in a Pandas DataFrame"
   ]
  },
  {
   "cell_type": "code",
   "execution_count": null,
   "id": "de61b297-ae58-41e6-b212-758e2d4589db",
   "metadata": {},
   "outputs": [],
   "source": [
    "# Load data into DataFrame\n",
    "activities_df = pd.read_json(r.text)\n",
    "activities_df[['name', 'type', 'distance', 'elapsed_time', 'max_speed']]"
   ]
  },
  {
   "cell_type": "markdown",
   "id": "289ec48b-8f70-4d85-9a0d-c975d371c212",
   "metadata": {},
   "source": [
    "The result depends on the activities logged in the Strava account linked to our Access Token - which, in our case, only has two activities!"
   ]
  },
  {
   "cell_type": "markdown",
   "id": "70d36631-2823-4afe-ac4a-0128927dde20",
   "metadata": {},
   "source": [
    "### With requests_oauthlib\n",
    "\n",
    "In the example from above, we saw how to reach the Strava API by making all the required requests manually with the Python Requests .get() and .post() methods which should give you a good overview of interacting with a web service in general. However, we mentioned above that Strava implements OAuth 2.0 which is a very common protocol for APIs, and we can easily find Python libraries that simplify a bit the entire process. Let’s quickly see how using them would change our code!\n",
    "\n",
    "For this example, we will use requests-oauthlib which is a popular Python library (> 1,000 stars on GitHub) that implements the OAuthlib protocol with Python Requests i.e. the library that we used above to manually perform GET/POST requests. Let’s first install it in the course environment. Open a new terminal window, activate the environment and install the library with\n",
    "\n",
    "- Activate environment\n",
    "conda activate adsml\n",
    "\n",
    "- Install \"requests-oauthlib\" Conda package\n",
    "conda install requests-oauthlib\n",
    "\n",
    "from requests_oauthlib import OAuth2Session\n",
    "\n",
    "The first step is to create an OAuth2Session object with the client information, redirect URI and requested scope\n"
   ]
  },
  {
   "cell_type": "code",
   "execution_count": 7,
   "id": "6522c8d4-bb6a-4292-bbbe-d9159634703b",
   "metadata": {},
   "outputs": [],
   "source": [
    "from requests_oauthlib import OAuth2Session\n",
    "\n",
    "# Create a session for initialization\n",
    "init_session = OAuth2Session(\n",
    "    client_credentials['client_id'],\n",
    "    redirect_uri='https://localhost',\n",
    "    scope='read_all,profile:read_all,activity:read_all'\n",
    ")"
   ]
  },
  {
   "cell_type": "markdown",
   "id": "4f2736b1-c854-48a5-b7d4-f3765bde5412",
   "metadata": {},
   "source": [
    "We can now automatically generate the authorization link with"
   ]
  },
  {
   "cell_type": "code",
   "execution_count": 8,
   "id": "a3077b5d-4248-47d6-b439-e67fa00974f4",
   "metadata": {},
   "outputs": [
    {
     "name": "stdout",
     "output_type": "stream",
     "text": [
      "Visit link: https://www.strava.com/oauth/authorize?response_type=code&client_id=76830&redirect_uri=https%3A%2F%2Flocalhost&scope=read_all%2Cprofile%3Aread_all%2Cactivity%3Aread_all&state=PKdO6YqNnnB14gBgDJWY3MWJYvm82W\n"
     ]
    }
   ],
   "source": [
    "# Get authorization link\n",
    "user_link, state = init_session.authorization_url('https://www.strava.com/oauth/authorize')\n",
    "print('Visit link:', user_link)"
   ]
  },
  {
   "cell_type": "code",
   "execution_count": null,
   "id": "0f200091-f3dc-4e76-ad49-6da088637ef5",
   "metadata": {},
   "outputs": [],
   "source": [
    "from getpass import getpass\n",
    "authorization_response = getpass(prompt='https://localhost/?state=PKdO6YqNnnB14gBgDJWY3MWJYvm82W&code=73e621c0cd6c663fb88d54918145a7a6803a10c8&scope=read,activity:read_all,profile:read_all,read_all')"
   ]
  },
  {
   "cell_type": "markdown",
   "id": "2e540c86-a8b3-4d0a-b0e2-753bdd9b2370",
   "metadata": {},
   "source": [
    "We can now use our init_session object from above to retrieve the Access Token with its fetch_token() method"
   ]
  },
  {
   "cell_type": "code",
   "execution_count": null,
   "id": "226d0ed2-2c5e-47eb-8210-4dbeb6173939",
   "metadata": {},
   "outputs": [],
   "source": [
    "# Get Access Token\n",
    "token = init_session.fetch_token(\n",
    "    'https://www.strava.com/oauth/token',\n",
    "    authorization_response=authorization_response,\n",
    "    include_client_id=True,\n",
    "    client_secret=client_credentials['client_secret']\n",
    ")"
   ]
  },
  {
   "cell_type": "markdown",
   "id": "b0aa05f6-69a3-43d1-82aa-144490fd483b",
   "metadata": {},
   "source": [
    "Again, let’s save the token with our function from above. If you then open the token.json file, you should see that it’s similar to the one that we got above"
   ]
  },
  {
   "cell_type": "code",
   "execution_count": null,
   "id": "2067fd98-0540-4db0-9d0f-2e1e72e435a5",
   "metadata": {},
   "outputs": [],
   "source": [
    "token_saver(token)"
   ]
  },
  {
   "cell_type": "markdown",
   "id": "22d3e428-e861-406d-b085-93ecaef2f915",
   "metadata": {},
   "source": [
    "To interact with the API, we need to create a new OAuth2Session object with our client_id and token"
   ]
  },
  {
   "cell_type": "code",
   "execution_count": null,
   "id": "9b81f510-6145-4ef3-bcb8-f7607df2950e",
   "metadata": {},
   "outputs": [],
   "source": [
    "# Create a session for reaching the API\n",
    "api_session = OAuth2Session(\n",
    "    client_credentials['client_id'],\n",
    "    token=token, # pass Access Token\n",
    "    \n",
    "    # Automatically refresh expired token\n",
    "    auto_refresh_url='https://www.strava.com/oauth/token',\n",
    "    auto_refresh_kwargs={\n",
    "        'client_id': client_credentials['client_id'],\n",
    "        'client_secret': client_credentials['client_secret']\n",
    "    },\n",
    "    token_updater=token_saver # automatically saves new tokens\n",
    ")"
   ]
  },
  {
   "cell_type": "markdown",
   "id": "09c22cb8-51ed-44ff-abef-03f0b60d91a7",
   "metadata": {},
   "source": [
    "The object also provides a way to automatically refresh expired tokens with a few additional parameters\n",
    "\n",
    "* auto_refresh_url the URL of the token service\n",
    "* auto_refresh_kwargs to pass additional values to the * service when needed ex. Strava requires the client_id and client_secret in our case\n",
    "* token_updater a function to automatically save the new token\n",
    "\n",
    "We can now use this new api_session object to make requests"
   ]
  },
  {
   "cell_type": "code",
   "execution_count": null,
   "id": "1ae72811-d7de-4c91-8a47-13b21d97a465",
   "metadata": {},
   "outputs": [],
   "source": [
    "# List activities\n",
    "r = api_session.get('https://www.strava.com/api/v3/athlete/activities')\n",
    "r.status_code # 200"
   ]
  },
  {
   "cell_type": "markdown",
   "id": "844940ef-8353-4090-9ce3-38acd6be270f",
   "metadata": {},
   "source": [
    "Creating the DataFrame from the Response object directly should give us the same result"
   ]
  },
  {
   "cell_type": "code",
   "execution_count": null,
   "id": "88a5cdc3-244d-4bdb-878f-704260113a0b",
   "metadata": {},
   "outputs": [],
   "source": [
    "activities_df = pd.read_json(r.text)\n",
    "activities_df[['name', 'type', 'distance', 'elapsed_time', 'max_speed']]"
   ]
  },
  {
   "cell_type": "code",
   "execution_count": null,
   "id": "c7edbe38-53e6-401e-87b5-39447b59606a",
   "metadata": {},
   "outputs": [],
   "source": []
  }
 ],
 "metadata": {
  "kernelspec": {
   "display_name": "Python [conda env:adsml] *",
   "language": "python",
   "name": "conda-env-adsml-py"
  },
  "language_info": {
   "codemirror_mode": {
    "name": "ipython",
    "version": 3
   },
   "file_extension": ".py",
   "mimetype": "text/x-python",
   "name": "python",
   "nbconvert_exporter": "python",
   "pygments_lexer": "ipython3",
   "version": "3.9.7"
  }
 },
 "nbformat": 4,
 "nbformat_minor": 5
}
