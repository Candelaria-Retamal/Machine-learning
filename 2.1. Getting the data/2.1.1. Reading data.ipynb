{
 "cells": [
  {
   "cell_type": "markdown",
   "id": "8003745f-b929-4526-938b-c09f2454fca6",
   "metadata": {},
   "source": [
    "# Reading Data from files\n",
    "###### **19.01.2022**"
   ]
  },
  {
   "cell_type": "markdown",
   "id": "77a36b3a-4846-4050-a317-cb9e4ad6caeb",
   "metadata": {},
   "source": [
    "### Reading data from csv files\n",
    "\n",
    "Let’s start by creating a toy example of a CSV file. You can do this straight in the JupyterLab by opening up a new text file. Enter the following text. Let’s now import our csv file as a pandas DataFrame. To do this, we will use the function read_csv() from pandas which takes data from a csv file and converts and stores it as a DataFrame. Since we saved the file directly in our working directory, we can pass the file name directly."
   ]
  },
  {
   "cell_type": "code",
   "execution_count": 2,
   "id": "ec59e43d-d6b6-4c92-b627-ec21a4e501b7",
   "metadata": {},
   "outputs": [
    {
     "data": {
      "text/html": [
       "<div>\n",
       "<style scoped>\n",
       "    .dataframe tbody tr th:only-of-type {\n",
       "        vertical-align: middle;\n",
       "    }\n",
       "\n",
       "    .dataframe tbody tr th {\n",
       "        vertical-align: top;\n",
       "    }\n",
       "\n",
       "    .dataframe thead th {\n",
       "        text-align: right;\n",
       "    }\n",
       "</style>\n",
       "<table border=\"1\" class=\"dataframe\">\n",
       "  <thead>\n",
       "    <tr style=\"text-align: right;\">\n",
       "      <th></th>\n",
       "      <th>a</th>\n",
       "      <th>b</th>\n",
       "      <th>c</th>\n",
       "      <th>d</th>\n",
       "    </tr>\n",
       "  </thead>\n",
       "  <tbody>\n",
       "    <tr>\n",
       "      <th>0</th>\n",
       "      <td>yellow</td>\n",
       "      <td>10</td>\n",
       "      <td>2</td>\n",
       "      <td>3.2</td>\n",
       "    </tr>\n",
       "    <tr>\n",
       "      <th>1</th>\n",
       "      <td>green</td>\n",
       "      <td>2</td>\n",
       "      <td>3</td>\n",
       "      <td>8.1</td>\n",
       "    </tr>\n",
       "    <tr>\n",
       "      <th>2</th>\n",
       "      <td>blue</td>\n",
       "      <td>7</td>\n",
       "      <td>1</td>\n",
       "      <td>0.4</td>\n",
       "    </tr>\n",
       "  </tbody>\n",
       "</table>\n",
       "</div>"
      ],
      "text/plain": [
       "        a   b  c    d\n",
       "0  yellow  10  2  3.2\n",
       "1   green   2  3  8.1\n",
       "2    blue   7  1  0.4"
      ]
     },
     "execution_count": 2,
     "metadata": {},
     "output_type": "execute_result"
    }
   ],
   "source": [
    "import numpy as np\n",
    "import pandas as pd\n",
    "df = pd.read_csv(\"c2_file.csv\")\n",
    "df"
   ]
  },
  {
   "cell_type": "code",
   "execution_count": 3,
   "id": "7797c165-2e2b-4198-920c-fe5bd283e4b9",
   "metadata": {},
   "outputs": [
    {
     "data": {
      "text/html": [
       "<div>\n",
       "<style scoped>\n",
       "    .dataframe tbody tr th:only-of-type {\n",
       "        vertical-align: middle;\n",
       "    }\n",
       "\n",
       "    .dataframe tbody tr th {\n",
       "        vertical-align: top;\n",
       "    }\n",
       "\n",
       "    .dataframe thead th {\n",
       "        text-align: right;\n",
       "    }\n",
       "</style>\n",
       "<table border=\"1\" class=\"dataframe\">\n",
       "  <thead>\n",
       "    <tr style=\"text-align: right;\">\n",
       "      <th></th>\n",
       "      <th>0</th>\n",
       "      <th>1</th>\n",
       "      <th>2</th>\n",
       "      <th>3</th>\n",
       "    </tr>\n",
       "  </thead>\n",
       "  <tbody>\n",
       "    <tr>\n",
       "      <th>0</th>\n",
       "      <td>a</td>\n",
       "      <td>b</td>\n",
       "      <td>c</td>\n",
       "      <td>d</td>\n",
       "    </tr>\n",
       "    <tr>\n",
       "      <th>1</th>\n",
       "      <td>yellow</td>\n",
       "      <td>10</td>\n",
       "      <td>2</td>\n",
       "      <td>3.2</td>\n",
       "    </tr>\n",
       "    <tr>\n",
       "      <th>2</th>\n",
       "      <td>green</td>\n",
       "      <td>2</td>\n",
       "      <td>3</td>\n",
       "      <td>8.1</td>\n",
       "    </tr>\n",
       "    <tr>\n",
       "      <th>3</th>\n",
       "      <td>blue</td>\n",
       "      <td>7</td>\n",
       "      <td>1</td>\n",
       "      <td>0.4</td>\n",
       "    </tr>\n",
       "  </tbody>\n",
       "</table>\n",
       "</div>"
      ],
      "text/plain": [
       "        0   1  2    3\n",
       "0       a   b  c    d\n",
       "1  yellow  10  2  3.2\n",
       "2   green   2  3  8.1\n",
       "3    blue   7  1  0.4"
      ]
     },
     "execution_count": 3,
     "metadata": {},
     "output_type": "execute_result"
    }
   ],
   "source": [
    "# If our file did not contain any headers, and the first row was part of the data values\n",
    "pd.read_csv(\"c2_file.csv\", header=None)"
   ]
  },
  {
   "cell_type": "code",
   "execution_count": 4,
   "id": "3c6625d1-4277-415c-bdcb-51ea0130345c",
   "metadata": {},
   "outputs": [
    {
     "data": {
      "text/html": [
       "<div>\n",
       "<style scoped>\n",
       "    .dataframe tbody tr th:only-of-type {\n",
       "        vertical-align: middle;\n",
       "    }\n",
       "\n",
       "    .dataframe tbody tr th {\n",
       "        vertical-align: top;\n",
       "    }\n",
       "\n",
       "    .dataframe thead th {\n",
       "        text-align: right;\n",
       "    }\n",
       "</style>\n",
       "<table border=\"1\" class=\"dataframe\">\n",
       "  <thead>\n",
       "    <tr style=\"text-align: right;\">\n",
       "      <th></th>\n",
       "      <th>column 1</th>\n",
       "      <th>column 2</th>\n",
       "      <th>column 3</th>\n",
       "      <th>column 4</th>\n",
       "    </tr>\n",
       "  </thead>\n",
       "  <tbody>\n",
       "    <tr>\n",
       "      <th>0</th>\n",
       "      <td>a</td>\n",
       "      <td>b</td>\n",
       "      <td>c</td>\n",
       "      <td>d</td>\n",
       "    </tr>\n",
       "    <tr>\n",
       "      <th>1</th>\n",
       "      <td>yellow</td>\n",
       "      <td>10</td>\n",
       "      <td>2</td>\n",
       "      <td>3.2</td>\n",
       "    </tr>\n",
       "    <tr>\n",
       "      <th>2</th>\n",
       "      <td>green</td>\n",
       "      <td>2</td>\n",
       "      <td>3</td>\n",
       "      <td>8.1</td>\n",
       "    </tr>\n",
       "    <tr>\n",
       "      <th>3</th>\n",
       "      <td>blue</td>\n",
       "      <td>7</td>\n",
       "      <td>1</td>\n",
       "      <td>0.4</td>\n",
       "    </tr>\n",
       "  </tbody>\n",
       "</table>\n",
       "</div>"
      ],
      "text/plain": [
       "  column 1 column 2 column 3 column 4\n",
       "0        a        b        c        d\n",
       "1   yellow       10        2      3.2\n",
       "2    green        2        3      8.1\n",
       "3     blue        7        1      0.4"
      ]
     },
     "execution_count": 4,
     "metadata": {},
     "output_type": "execute_result"
    }
   ],
   "source": [
    "# We can also specify the column labels ourselves as follows\n",
    "pd.read_csv(\"c2_file.csv\", names=[\"column 1\", \"column 2\", \"column 3\", \"column 4\"])"
   ]
  },
  {
   "cell_type": "code",
   "execution_count": 5,
   "id": "d79e4985-ef06-4aa5-949d-9bcf39874f19",
   "metadata": {},
   "outputs": [
    {
     "data": {
      "text/html": [
       "<div>\n",
       "<style scoped>\n",
       "    .dataframe tbody tr th:only-of-type {\n",
       "        vertical-align: middle;\n",
       "    }\n",
       "\n",
       "    .dataframe tbody tr th {\n",
       "        vertical-align: top;\n",
       "    }\n",
       "\n",
       "    .dataframe thead th {\n",
       "        text-align: right;\n",
       "    }\n",
       "</style>\n",
       "<table border=\"1\" class=\"dataframe\">\n",
       "  <thead>\n",
       "    <tr style=\"text-align: right;\">\n",
       "      <th></th>\n",
       "      <th>b</th>\n",
       "      <th>c</th>\n",
       "      <th>d</th>\n",
       "    </tr>\n",
       "    <tr>\n",
       "      <th>a</th>\n",
       "      <th></th>\n",
       "      <th></th>\n",
       "      <th></th>\n",
       "    </tr>\n",
       "  </thead>\n",
       "  <tbody>\n",
       "    <tr>\n",
       "      <th>yellow</th>\n",
       "      <td>10</td>\n",
       "      <td>2</td>\n",
       "      <td>3.2</td>\n",
       "    </tr>\n",
       "    <tr>\n",
       "      <th>green</th>\n",
       "      <td>2</td>\n",
       "      <td>3</td>\n",
       "      <td>8.1</td>\n",
       "    </tr>\n",
       "    <tr>\n",
       "      <th>blue</th>\n",
       "      <td>7</td>\n",
       "      <td>1</td>\n",
       "      <td>0.4</td>\n",
       "    </tr>\n",
       "  </tbody>\n",
       "</table>\n",
       "</div>"
      ],
      "text/plain": [
       "         b  c    d\n",
       "a                 \n",
       "yellow  10  2  3.2\n",
       "green    2  3  8.1\n",
       "blue     7  1  0.4"
      ]
     },
     "execution_count": 5,
     "metadata": {},
     "output_type": "execute_result"
    }
   ],
   "source": [
    "# We can specify a specific column to be the index by using the argument index_col and choosing the position of the column we want as an index.\n",
    "pd.read_csv(\"c2_file.csv\", index_col=0)"
   ]
  },
  {
   "cell_type": "code",
   "execution_count": 6,
   "id": "d38721cc-2cc7-4cd0-b30e-8f4853797d65",
   "metadata": {},
   "outputs": [
    {
     "data": {
      "text/plain": [
       "a     object\n",
       "b      int64\n",
       "c      int64\n",
       "d    float64\n",
       "dtype: object"
      ]
     },
     "execution_count": 6,
     "metadata": {},
     "output_type": "execute_result"
    }
   ],
   "source": [
    "# We can assign each column the data type which is the most general among the values encountered in that column.\n",
    "df.dtypes"
   ]
  },
  {
   "cell_type": "code",
   "execution_count": 7,
   "id": "96007275-4688-4d04-b946-84838810d1b1",
   "metadata": {},
   "outputs": [
    {
     "data": {
      "text/plain": [
       "a     object\n",
       "b    float64\n",
       "c      int64\n",
       "d    float64\n",
       "dtype: object"
      ]
     },
     "execution_count": 7,
     "metadata": {},
     "output_type": "execute_result"
    }
   ],
   "source": [
    "# We can also force the data types of the columns to whatever we like when creating the DataFrame\n",
    "df2 = pd.read_csv(\"c2_file.csv\", dtype={\"b\": np.float64}) #the type must be coherent with the information contained in the columns\n",
    "df2.dtypes"
   ]
  },
  {
   "cell_type": "code",
   "execution_count": 8,
   "id": "34eedb58-49b2-4816-bd33-deef9d413c39",
   "metadata": {},
   "outputs": [
    {
     "data": {
      "text/html": [
       "<div>\n",
       "<style scoped>\n",
       "    .dataframe tbody tr th:only-of-type {\n",
       "        vertical-align: middle;\n",
       "    }\n",
       "\n",
       "    .dataframe tbody tr th {\n",
       "        vertical-align: top;\n",
       "    }\n",
       "\n",
       "    .dataframe thead th {\n",
       "        text-align: right;\n",
       "    }\n",
       "</style>\n",
       "<table border=\"1\" class=\"dataframe\">\n",
       "  <thead>\n",
       "    <tr style=\"text-align: right;\">\n",
       "      <th></th>\n",
       "      <th>a</th>\n",
       "      <th>b</th>\n",
       "    </tr>\n",
       "  </thead>\n",
       "  <tbody>\n",
       "    <tr>\n",
       "      <th>0</th>\n",
       "      <td>yellow</td>\n",
       "      <td>10</td>\n",
       "    </tr>\n",
       "    <tr>\n",
       "      <th>1</th>\n",
       "      <td>green</td>\n",
       "      <td>2</td>\n",
       "    </tr>\n",
       "    <tr>\n",
       "      <th>2</th>\n",
       "      <td>blue</td>\n",
       "      <td>7</td>\n",
       "    </tr>\n",
       "  </tbody>\n",
       "</table>\n",
       "</div>"
      ],
      "text/plain": [
       "        a   b\n",
       "0  yellow  10\n",
       "1   green   2\n",
       "2    blue   7"
      ]
     },
     "execution_count": 8,
     "metadata": {},
     "output_type": "execute_result"
    }
   ],
   "source": [
    "# Loading partial data\n",
    "pd.read_csv(\"c2_file.csv\", usecols=[\"a\", \"b\"])"
   ]
  },
  {
   "cell_type": "markdown",
   "id": "bd9f1d8c-28e9-4257-9c39-fdb830f209cb",
   "metadata": {},
   "source": [
    "### Reading data from Excel files"
   ]
  },
  {
   "cell_type": "markdown",
   "id": "cd3f2131-0b39-4aef-b82e-727f80701ed9",
   "metadata": {},
   "source": [
    "We can import data from an Excel file using the pandas function pd.read_excel(). Let’s try this out:"
   ]
  },
  {
   "cell_type": "code",
   "execution_count": 9,
   "id": "dff8c07a-745d-4755-99e2-4c8a0dfaf04a",
   "metadata": {},
   "outputs": [
    {
     "data": {
      "text/html": [
       "<div>\n",
       "<style scoped>\n",
       "    .dataframe tbody tr th:only-of-type {\n",
       "        vertical-align: middle;\n",
       "    }\n",
       "\n",
       "    .dataframe tbody tr th {\n",
       "        vertical-align: top;\n",
       "    }\n",
       "\n",
       "    .dataframe thead th {\n",
       "        text-align: right;\n",
       "    }\n",
       "</style>\n",
       "<table border=\"1\" class=\"dataframe\">\n",
       "  <thead>\n",
       "    <tr style=\"text-align: right;\">\n",
       "      <th></th>\n",
       "      <th>varA</th>\n",
       "      <th>varB</th>\n",
       "      <th>varC</th>\n",
       "    </tr>\n",
       "  </thead>\n",
       "  <tbody>\n",
       "    <tr>\n",
       "      <th>0</th>\n",
       "      <td>0.391723</td>\n",
       "      <td>-0.155122</td>\n",
       "      <td>0.381104</td>\n",
       "    </tr>\n",
       "    <tr>\n",
       "      <th>1</th>\n",
       "      <td>0.575125</td>\n",
       "      <td>-0.105817</td>\n",
       "      <td>0.232245</td>\n",
       "    </tr>\n",
       "    <tr>\n",
       "      <th>2</th>\n",
       "      <td>0.672305</td>\n",
       "      <td>0.424688</td>\n",
       "      <td>-0.694795</td>\n",
       "    </tr>\n",
       "    <tr>\n",
       "      <th>3</th>\n",
       "      <td>0.766115</td>\n",
       "      <td>-0.791350</td>\n",
       "      <td>-0.028739</td>\n",
       "    </tr>\n",
       "    <tr>\n",
       "      <th>4</th>\n",
       "      <td>0.677259</td>\n",
       "      <td>-0.817543</td>\n",
       "      <td>-0.537088</td>\n",
       "    </tr>\n",
       "    <tr>\n",
       "      <th>5</th>\n",
       "      <td>-0.029702</td>\n",
       "      <td>-0.891848</td>\n",
       "      <td>-0.682719</td>\n",
       "    </tr>\n",
       "    <tr>\n",
       "      <th>6</th>\n",
       "      <td>-0.161366</td>\n",
       "      <td>-0.659600</td>\n",
       "      <td>-0.727898</td>\n",
       "    </tr>\n",
       "    <tr>\n",
       "      <th>7</th>\n",
       "      <td>0.031672</td>\n",
       "      <td>0.016607</td>\n",
       "      <td>-0.940479</td>\n",
       "    </tr>\n",
       "    <tr>\n",
       "      <th>8</th>\n",
       "      <td>0.833212</td>\n",
       "      <td>-0.503236</td>\n",
       "      <td>-0.887210</td>\n",
       "    </tr>\n",
       "    <tr>\n",
       "      <th>9</th>\n",
       "      <td>0.907753</td>\n",
       "      <td>0.265177</td>\n",
       "      <td>-0.390762</td>\n",
       "    </tr>\n",
       "  </tbody>\n",
       "</table>\n",
       "</div>"
      ],
      "text/plain": [
       "       varA      varB      varC\n",
       "0  0.391723 -0.155122  0.381104\n",
       "1  0.575125 -0.105817  0.232245\n",
       "2  0.672305  0.424688 -0.694795\n",
       "3  0.766115 -0.791350 -0.028739\n",
       "4  0.677259 -0.817543 -0.537088\n",
       "5 -0.029702 -0.891848 -0.682719\n",
       "6 -0.161366 -0.659600 -0.727898\n",
       "7  0.031672  0.016607 -0.940479\n",
       "8  0.833212 -0.503236 -0.887210\n",
       "9  0.907753  0.265177 -0.390762"
      ]
     },
     "execution_count": 9,
     "metadata": {},
     "output_type": "execute_result"
    }
   ],
   "source": [
    "import pandas as pd\n",
    "\n",
    "pd.read_excel(\"c2_data.xls\")"
   ]
  },
  {
   "cell_type": "code",
   "execution_count": 11,
   "id": "b1787595-380c-45a3-a2af-976931ad5d1a",
   "metadata": {},
   "outputs": [
    {
     "data": {
      "text/html": [
       "<div>\n",
       "<style scoped>\n",
       "    .dataframe tbody tr th:only-of-type {\n",
       "        vertical-align: middle;\n",
       "    }\n",
       "\n",
       "    .dataframe tbody tr th {\n",
       "        vertical-align: top;\n",
       "    }\n",
       "\n",
       "    .dataframe thead th {\n",
       "        text-align: right;\n",
       "    }\n",
       "</style>\n",
       "<table border=\"1\" class=\"dataframe\">\n",
       "  <thead>\n",
       "    <tr style=\"text-align: right;\">\n",
       "      <th></th>\n",
       "      <th>varD</th>\n",
       "      <th>varE</th>\n",
       "      <th>varF</th>\n",
       "    </tr>\n",
       "  </thead>\n",
       "  <tbody>\n",
       "    <tr>\n",
       "      <th>0</th>\n",
       "      <td>0.907753</td>\n",
       "      <td>0.265177</td>\n",
       "      <td>-0.390762</td>\n",
       "    </tr>\n",
       "    <tr>\n",
       "      <th>1</th>\n",
       "      <td>0.755019</td>\n",
       "      <td>-0.768056</td>\n",
       "      <td>-0.528307</td>\n",
       "    </tr>\n",
       "    <tr>\n",
       "      <th>2</th>\n",
       "      <td>0.850692</td>\n",
       "      <td>-0.537159</td>\n",
       "      <td>-0.601387</td>\n",
       "    </tr>\n",
       "    <tr>\n",
       "      <th>3</th>\n",
       "      <td>0.131663</td>\n",
       "      <td>0.941327</td>\n",
       "      <td>0.240073</td>\n",
       "    </tr>\n",
       "    <tr>\n",
       "      <th>4</th>\n",
       "      <td>0.574400</td>\n",
       "      <td>0.091735</td>\n",
       "      <td>-0.395277</td>\n",
       "    </tr>\n",
       "    <tr>\n",
       "      <th>5</th>\n",
       "      <td>0.816630</td>\n",
       "      <td>0.875612</td>\n",
       "      <td>-0.880044</td>\n",
       "    </tr>\n",
       "    <tr>\n",
       "      <th>6</th>\n",
       "      <td>0.536732</td>\n",
       "      <td>0.175428</td>\n",
       "      <td>-0.473053</td>\n",
       "    </tr>\n",
       "    <tr>\n",
       "      <th>7</th>\n",
       "      <td>-0.084641</td>\n",
       "      <td>-0.042827</td>\n",
       "      <td>0.053344</td>\n",
       "    </tr>\n",
       "    <tr>\n",
       "      <th>8</th>\n",
       "      <td>0.268271</td>\n",
       "      <td>-0.010628</td>\n",
       "      <td>-0.090952</td>\n",
       "    </tr>\n",
       "    <tr>\n",
       "      <th>9</th>\n",
       "      <td>0.166792</td>\n",
       "      <td>-0.872579</td>\n",
       "      <td>-0.556899</td>\n",
       "    </tr>\n",
       "  </tbody>\n",
       "</table>\n",
       "</div>"
      ],
      "text/plain": [
       "       varD      varE      varF\n",
       "0  0.907753  0.265177 -0.390762\n",
       "1  0.755019 -0.768056 -0.528307\n",
       "2  0.850692 -0.537159 -0.601387\n",
       "3  0.131663  0.941327  0.240073\n",
       "4  0.574400  0.091735 -0.395277\n",
       "5  0.816630  0.875612 -0.880044\n",
       "6  0.536732  0.175428 -0.473053\n",
       "7 -0.084641 -0.042827  0.053344\n",
       "8  0.268271 -0.010628 -0.090952\n",
       "9  0.166792 -0.872579 -0.556899"
      ]
     },
     "execution_count": 11,
     "metadata": {},
     "output_type": "execute_result"
    }
   ],
   "source": [
    "#  If we want to load data from a different spreadsheet, we must specify its name or index.\n",
    "pd.read_excel(\"c2_data.xls\", sheet_name=\"Sheet2\")"
   ]
  },
  {
   "cell_type": "markdown",
   "id": "5d38ca5b-3cb2-4732-ac03-1b4f01304653",
   "metadata": {},
   "source": [
    "### JSON data"
   ]
  },
  {
   "cell_type": "markdown",
   "id": "30b9d34b-7ea8-474b-90fc-31b27b325e5f",
   "metadata": {},
   "source": [
    "JSON is a file format used to transmit information between web servers and clients or browsers in logical and structured manner."
   ]
  },
  {
   "cell_type": "markdown",
   "id": "5843b819-f622-49b3-a7db-64a7ea425863",
   "metadata": {},
   "source": [
    "#### Syntax and structure\n",
    "\n",
    "JSON can contain two type of objects: JSON and arrays. We can import the data from this file similarly to how we dealt with csv and Excel files."
   ]
  },
  {
   "cell_type": "code",
   "execution_count": 14,
   "id": "3589909c-769d-4827-8b56-e43e46ae08a4",
   "metadata": {},
   "outputs": [
    {
     "data": {
      "text/html": [
       "<div>\n",
       "<style scoped>\n",
       "    .dataframe tbody tr th:only-of-type {\n",
       "        vertical-align: middle;\n",
       "    }\n",
       "\n",
       "    .dataframe tbody tr th {\n",
       "        vertical-align: top;\n",
       "    }\n",
       "\n",
       "    .dataframe thead th {\n",
       "        text-align: right;\n",
       "    }\n",
       "</style>\n",
       "<table border=\"1\" class=\"dataframe\">\n",
       "  <thead>\n",
       "    <tr style=\"text-align: right;\">\n",
       "      <th></th>\n",
       "      <th>col1</th>\n",
       "      <th>col2</th>\n",
       "      <th>col3</th>\n",
       "      <th>col4</th>\n",
       "    </tr>\n",
       "  </thead>\n",
       "  <tbody>\n",
       "    <tr>\n",
       "      <th>row1</th>\n",
       "      <td>0</td>\n",
       "      <td>1</td>\n",
       "      <td>2</td>\n",
       "      <td>3</td>\n",
       "    </tr>\n",
       "    <tr>\n",
       "      <th>row2</th>\n",
       "      <td>4</td>\n",
       "      <td>5</td>\n",
       "      <td>6</td>\n",
       "      <td>7</td>\n",
       "    </tr>\n",
       "    <tr>\n",
       "      <th>row3</th>\n",
       "      <td>8</td>\n",
       "      <td>9</td>\n",
       "      <td>10</td>\n",
       "      <td>11</td>\n",
       "    </tr>\n",
       "    <tr>\n",
       "      <th>row4</th>\n",
       "      <td>12</td>\n",
       "      <td>13</td>\n",
       "      <td>14</td>\n",
       "      <td>15</td>\n",
       "    </tr>\n",
       "  </tbody>\n",
       "</table>\n",
       "</div>"
      ],
      "text/plain": [
       "      col1  col2  col3  col4\n",
       "row1     0     1     2     3\n",
       "row2     4     5     6     7\n",
       "row3     8     9    10    11\n",
       "row4    12    13    14    15"
      ]
     },
     "execution_count": 14,
     "metadata": {},
     "output_type": "execute_result"
    }
   ],
   "source": [
    "pd.read_json(\"frame.json\")"
   ]
  },
  {
   "cell_type": "markdown",
   "id": "ef261547-91cd-4bbc-a255-a81a91f5987b",
   "metadata": {},
   "source": [
    "Now in this example, the JSON file that we used was already in what is called tabular form. This means that we could directly load it as a DataFrame. However, this is not usually the case with JSON files. To explore this, let’s create a second JSON file. In this case we will store some bibliography entries. "
   ]
  },
  {
   "cell_type": "code",
   "execution_count": 15,
   "id": "000ad359-6595-4aa2-82d3-ff55fa2c40c0",
   "metadata": {},
   "outputs": [
    {
     "data": {
      "text/html": [
       "<div>\n",
       "<style scoped>\n",
       "    .dataframe tbody tr th:only-of-type {\n",
       "        vertical-align: middle;\n",
       "    }\n",
       "\n",
       "    .dataframe tbody tr th {\n",
       "        vertical-align: top;\n",
       "    }\n",
       "\n",
       "    .dataframe thead th {\n",
       "        text-align: right;\n",
       "    }\n",
       "</style>\n",
       "<table border=\"1\" class=\"dataframe\">\n",
       "  <thead>\n",
       "    <tr style=\"text-align: right;\">\n",
       "      <th></th>\n",
       "      <th>books</th>\n",
       "    </tr>\n",
       "  </thead>\n",
       "  <tbody>\n",
       "    <tr>\n",
       "      <th>0</th>\n",
       "      <td>{'isbn': '9781593275846', 'title': 'Eloquent J...</td>\n",
       "    </tr>\n",
       "    <tr>\n",
       "      <th>1</th>\n",
       "      <td>{'isbn': '9781449331818', 'title': 'Learning J...</td>\n",
       "    </tr>\n",
       "    <tr>\n",
       "      <th>2</th>\n",
       "      <td>{'isbn': '9781449365035', 'title': 'Speaking J...</td>\n",
       "    </tr>\n",
       "  </tbody>\n",
       "</table>\n",
       "</div>"
      ],
      "text/plain": [
       "                                               books\n",
       "0  {'isbn': '9781593275846', 'title': 'Eloquent J...\n",
       "1  {'isbn': '9781449331818', 'title': 'Learning J...\n",
       "2  {'isbn': '9781449365035', 'title': 'Speaking J..."
      ]
     },
     "execution_count": 15,
     "metadata": {},
     "output_type": "execute_result"
    }
   ],
   "source": [
    "pd.read_json(\"c2_books.json\")"
   ]
  },
  {
   "cell_type": "markdown",
   "id": "f4a51477-6a39-44ad-91fc-9d06931be921",
   "metadata": {},
   "source": [
    "We can see that all of the information about a book was stored in a single data field, so we cannot really distinguish between the different information such as the author, title, etc. It would be much more useful to create a DataFrame where we have different columns for the different types of data. In order to do this, we will need to perform some additional steps. We start by importing the json library for python, and a special function from pandas called json_normalize():\n",
    "\n"
   ]
  },
  {
   "cell_type": "code",
   "execution_count": 16,
   "id": "f45536bc-2e10-4cb1-9285-a8d77752d2eb",
   "metadata": {},
   "outputs": [],
   "source": [
    "import json\n",
    "from pandas import json_normalize"
   ]
  },
  {
   "cell_type": "markdown",
   "id": "6d57882e-5485-4192-a8d6-40bf904ab0f5",
   "metadata": {},
   "source": [
    "Let’s load the data from the JSON file and convert it to an object (a dictionary, really) which we store in the variable dictionary:"
   ]
  },
  {
   "cell_type": "code",
   "execution_count": 17,
   "id": "d0a33d0c-da05-4470-9c21-b624d3a2644e",
   "metadata": {},
   "outputs": [],
   "source": [
    "with open(\"c2_books.json\", \"r\") as f:\n",
    "    json_string = f.read()\n",
    "    dictionary = json.loads(json_string)"
   ]
  },
  {
   "cell_type": "markdown",
   "id": "c1ad9d59-8a84-4a3c-8977-2622a9aeb278",
   "metadata": {},
   "source": [
    "If we now type the command dictionary, we can see indeed the data from our file. Once we have the data in this format, we can apply a process known as normalization. It’s called normalization because it “normalizes” JSON data, which can be quite complex in structure, into a flat table structure (a DataFrame, to be more precise). To do this, we use the json_normalize() function. This function turns an array of nested JSON objects into a DataFrame, with the columns corresponding to the different variables stored in the JSON file. We will pass as arguments the variable dictionary which contains the data as a dictionary, and then we have to mention a key, which is used for separating the entries. To know which key to use, we must look at our JSON file and see the name that is given before the entries. In our case, this name is books."
   ]
  },
  {
   "cell_type": "code",
   "execution_count": 18,
   "id": "1629c3f8-9b7a-427f-9bd1-0ea56a64ba84",
   "metadata": {},
   "outputs": [
    {
     "data": {
      "text/html": [
       "<div>\n",
       "<style scoped>\n",
       "    .dataframe tbody tr th:only-of-type {\n",
       "        vertical-align: middle;\n",
       "    }\n",
       "\n",
       "    .dataframe tbody tr th {\n",
       "        vertical-align: top;\n",
       "    }\n",
       "\n",
       "    .dataframe thead th {\n",
       "        text-align: right;\n",
       "    }\n",
       "</style>\n",
       "<table border=\"1\" class=\"dataframe\">\n",
       "  <thead>\n",
       "    <tr style=\"text-align: right;\">\n",
       "      <th></th>\n",
       "      <th>isbn</th>\n",
       "      <th>title</th>\n",
       "      <th>subtitle</th>\n",
       "      <th>author</th>\n",
       "      <th>published</th>\n",
       "      <th>publisher</th>\n",
       "      <th>pages</th>\n",
       "      <th>description</th>\n",
       "      <th>website</th>\n",
       "    </tr>\n",
       "  </thead>\n",
       "  <tbody>\n",
       "    <tr>\n",
       "      <th>0</th>\n",
       "      <td>9781593275846</td>\n",
       "      <td>Eloquent JavaScript, Second Edition</td>\n",
       "      <td>A Modern Introduction to Programming</td>\n",
       "      <td>Marijn Haverbeke</td>\n",
       "      <td>2014-12-14T00:00:00.000Z</td>\n",
       "      <td>No Starch Press</td>\n",
       "      <td>472</td>\n",
       "      <td>JavaScript lies at the heart of almost every m...</td>\n",
       "      <td>http://eloquentjavascript.net/</td>\n",
       "    </tr>\n",
       "    <tr>\n",
       "      <th>1</th>\n",
       "      <td>9781449331818</td>\n",
       "      <td>Learning JavaScript Design Patterns</td>\n",
       "      <td>A JavaScript and jQuery Developer's Guide</td>\n",
       "      <td>Addy Osmani</td>\n",
       "      <td>2012-07-01T00:00:00.000Z</td>\n",
       "      <td>O'Reilly Media</td>\n",
       "      <td>254</td>\n",
       "      <td>With Learning JavaScript Design Patterns, you'...</td>\n",
       "      <td>http://www.addyosmani.com/resources/essentialj...</td>\n",
       "    </tr>\n",
       "    <tr>\n",
       "      <th>2</th>\n",
       "      <td>9781449365035</td>\n",
       "      <td>Speaking JavaScript</td>\n",
       "      <td>An In-Depth Guide for Programmers</td>\n",
       "      <td>Axel Rauschmayer</td>\n",
       "      <td>2014-02-01T00:00:00.000Z</td>\n",
       "      <td>O'Reilly Media</td>\n",
       "      <td>460</td>\n",
       "      <td>Like it or not, JavaScript is everywhere these...</td>\n",
       "      <td>http://speakingjs.com/</td>\n",
       "    </tr>\n",
       "  </tbody>\n",
       "</table>\n",
       "</div>"
      ],
      "text/plain": [
       "            isbn                                title  \\\n",
       "0  9781593275846  Eloquent JavaScript, Second Edition   \n",
       "1  9781449331818  Learning JavaScript Design Patterns   \n",
       "2  9781449365035                  Speaking JavaScript   \n",
       "\n",
       "                                    subtitle            author  \\\n",
       "0       A Modern Introduction to Programming  Marijn Haverbeke   \n",
       "1  A JavaScript and jQuery Developer's Guide       Addy Osmani   \n",
       "2          An In-Depth Guide for Programmers  Axel Rauschmayer   \n",
       "\n",
       "                  published        publisher  pages  \\\n",
       "0  2014-12-14T00:00:00.000Z  No Starch Press    472   \n",
       "1  2012-07-01T00:00:00.000Z   O'Reilly Media    254   \n",
       "2  2014-02-01T00:00:00.000Z   O'Reilly Media    460   \n",
       "\n",
       "                                         description  \\\n",
       "0  JavaScript lies at the heart of almost every m...   \n",
       "1  With Learning JavaScript Design Patterns, you'...   \n",
       "2  Like it or not, JavaScript is everywhere these...   \n",
       "\n",
       "                                             website  \n",
       "0                     http://eloquentjavascript.net/  \n",
       "1  http://www.addyosmani.com/resources/essentialj...  \n",
       "2                             http://speakingjs.com/  "
      ]
     },
     "execution_count": 18,
     "metadata": {},
     "output_type": "execute_result"
    }
   ],
   "source": [
    "json_normalize(dictionary, 'books')"
   ]
  },
  {
   "cell_type": "markdown",
   "id": "664d1420-af7b-4f56-a4ef-72a74d1ecff2",
   "metadata": {},
   "source": [
    "### HTML files\n",
    "\n",
    "This is a webpage containing some famous quotes. Our goal will be to extract these quotes and store them in a DataFrame. Clicking on the view source code option opens up a new page with the HTML source code. This source code might seem very complicated at first sight. We can see that the actual quotes we want are found in this code, but they are surrounded by so many extra symbols. In order to be able to extract them we must first know some basic facts about HTML code.\n",
    "\n"
   ]
  },
  {
   "cell_type": "code",
   "execution_count": 21,
   "id": "1a356bfa-ce95-4b5d-a6d5-2460fb2d8eb7",
   "metadata": {},
   "outputs": [
    {
     "data": {
      "text/plain": [
       "200"
      ]
     },
     "execution_count": 21,
     "metadata": {},
     "output_type": "execute_result"
    }
   ],
   "source": [
    "# 1. Read the webpage into python\n",
    "import requests\n",
    "# 2. To download the contents of the HTML code, the requests library will make a GET request to the web serves\n",
    "page = requests.get(\n",
    "    \"https://web.archive.org/web/20180908144902/en.proverbia.net/shortfamousquotes.asp\"\n",
    ")\n",
    "# 3. The variable page is a Response object. It has an attribute called text which contains the HTML code. We can verify this by peeking at the first 100 entries\n",
    "page.text[0:100]\n",
    "# 4. It also has an attribute called status_code which indicates if the page was downloaded correctly\n",
    "page.status_code\n",
    "# A status code of 200 means that the page was downloaded correctly."
   ]
  },
  {
   "cell_type": "markdown",
   "id": "5ec5129e-d0cf-4927-a3cb-e4d0998c7410",
   "metadata": {},
   "source": [
    "### Web scraping\n",
    "\n",
    "In the previous unit, we downloaded the data from a webpage to an object called page using the requests library. We saw that this object had an attribute called text which contained the HTML source code of the webpage. We will now look at how we can extract the information we want from this code. We will use a python library called BeautifulSoup. Let’s start by importing this library:"
   ]
  },
  {
   "cell_type": "code",
   "execution_count": 22,
   "id": "f3511939-89fd-46f0-a724-8096c0dcfb30",
   "metadata": {},
   "outputs": [],
   "source": [
    "from bs4 import BeautifulSoup\n",
    "# We parse the HTML code stored in the object page and create a BeautifulSoup object\n",
    "soup = BeautifulSoup(page.text, \"html.parser\")"
   ]
  },
  {
   "cell_type": "markdown",
   "id": "8ec8dba9-7ac1-404b-a50e-7f1ab46e44c9",
   "metadata": {},
   "source": [
    "This soup object now contains all of the HTML code in the original document. Now comes the fun part: we want to extract the information that we want from the HTML code. In our case, **our goal is to extract the quotes**. To do this, we have to do some investigative work. We will look in the HTML code for some patterns that we can exploit in order to find all the quotes. That is, we want to find some tags or identifiers which occur around every quote. If we inspect the section in which the quotes appear we will see that they start and end with <blockquote and </blockquote, respectively. (For this we run the soup object). Once we identified such a pattern, we can use BeautifulSoup to find all instances of the pattern for us. This is done through the function find_all(). Let’s give it a try:\n",
    "\n"
   ]
  },
  {
   "cell_type": "code",
   "execution_count": 25,
   "id": "d92f7383-897e-43a7-99f4-7418ec0faa73",
   "metadata": {},
   "outputs": [
    {
     "data": {
      "text/plain": [
       "[<blockquote>There is a natural aristocracy among men. The grounds of this are virtue and talents. </blockquote>,\n",
       " <blockquote>All our words from loose using have lost their edge. </blockquote>,\n",
       " <blockquote>God couldn't be everywhere, so he created mothers </blockquote>,\n",
       " <blockquote>Be not afraid of going slowly, be afraid only of standing still. </blockquote>,\n",
       " <blockquote>Learn from yesterday, live for today, hope for tomorrow. </blockquote>,\n",
       " <blockquote>Do not confine your children to your own learning, for they were born in another time. </blockquote>,\n",
       " <blockquote>I hear and I forget, I see and I remember. I do and I understand. </blockquote>,\n",
       " <blockquote>In teaching others we teach ourselves. </blockquote>,\n",
       " <blockquote>Happiness will never come to those who fail to appreciate what they already have. </blockquote>,\n",
       " <blockquote>Without His love I can do nothing, with His love there is nothing I cannot do. </blockquote>]"
      ]
     },
     "execution_count": 25,
     "metadata": {},
     "output_type": "execute_result"
    }
   ],
   "source": [
    "quotes = soup.find_all(\"blockquote\")\n",
    "# It returns a ResultSet object which we can treat as a list of tags\n",
    "quotes"
   ]
  },
  {
   "cell_type": "markdown",
   "id": "8a789c13-8464-45df-a304-cc517cf7af80",
   "metadata": {},
   "source": [
    "We can iterate over it or access entries at a specific index. It also has a very useful attribute called text."
   ]
  },
  {
   "cell_type": "code",
   "execution_count": 26,
   "id": "a05a1d07-0113-47bb-93c9-3f3f3c96f447",
   "metadata": {},
   "outputs": [
    {
     "data": {
      "text/plain": [
       "'There is a natural aristocracy among men. The grounds of this are virtue and talents. '"
      ]
     },
     "execution_count": 26,
     "metadata": {},
     "output_type": "execute_result"
    }
   ],
   "source": [
    "quotes[0].text"
   ]
  },
  {
   "cell_type": "markdown",
   "id": "88e93419-3e70-4a77-974c-fae9fc358e90",
   "metadata": {},
   "source": [
    "The attribute text extracted the text of the tag for us, and returned a string object containing the quote. We can now create a loop to extract all the quotes:"
   ]
  },
  {
   "cell_type": "code",
   "execution_count": 27,
   "id": "3645a5c7-6706-40c6-98ac-fcc654ac3f66",
   "metadata": {},
   "outputs": [
    {
     "data": {
      "text/html": [
       "<div>\n",
       "<style scoped>\n",
       "    .dataframe tbody tr th:only-of-type {\n",
       "        vertical-align: middle;\n",
       "    }\n",
       "\n",
       "    .dataframe tbody tr th {\n",
       "        vertical-align: top;\n",
       "    }\n",
       "\n",
       "    .dataframe thead th {\n",
       "        text-align: right;\n",
       "    }\n",
       "</style>\n",
       "<table border=\"1\" class=\"dataframe\">\n",
       "  <thead>\n",
       "    <tr style=\"text-align: right;\">\n",
       "      <th></th>\n",
       "      <th>Quote</th>\n",
       "    </tr>\n",
       "  </thead>\n",
       "  <tbody>\n",
       "    <tr>\n",
       "      <th>0</th>\n",
       "      <td>There is a natural aristocracy among men. The ...</td>\n",
       "    </tr>\n",
       "    <tr>\n",
       "      <th>1</th>\n",
       "      <td>All our words from loose using have lost their...</td>\n",
       "    </tr>\n",
       "    <tr>\n",
       "      <th>2</th>\n",
       "      <td>God couldn't be everywhere, so he created moth...</td>\n",
       "    </tr>\n",
       "    <tr>\n",
       "      <th>3</th>\n",
       "      <td>Be not afraid of going slowly, be afraid only ...</td>\n",
       "    </tr>\n",
       "    <tr>\n",
       "      <th>4</th>\n",
       "      <td>Learn from yesterday, live for today, hope for...</td>\n",
       "    </tr>\n",
       "    <tr>\n",
       "      <th>5</th>\n",
       "      <td>Do not confine your children to your own learn...</td>\n",
       "    </tr>\n",
       "    <tr>\n",
       "      <th>6</th>\n",
       "      <td>I hear and I forget, I see and I remember. I d...</td>\n",
       "    </tr>\n",
       "    <tr>\n",
       "      <th>7</th>\n",
       "      <td>In teaching others we teach ourselves.</td>\n",
       "    </tr>\n",
       "    <tr>\n",
       "      <th>8</th>\n",
       "      <td>Happiness will never come to those who fail to...</td>\n",
       "    </tr>\n",
       "    <tr>\n",
       "      <th>9</th>\n",
       "      <td>Without His love I can do nothing, with His lo...</td>\n",
       "    </tr>\n",
       "  </tbody>\n",
       "</table>\n",
       "</div>"
      ],
      "text/plain": [
       "                                               Quote\n",
       "0  There is a natural aristocracy among men. The ...\n",
       "1  All our words from loose using have lost their...\n",
       "2  God couldn't be everywhere, so he created moth...\n",
       "3  Be not afraid of going slowly, be afraid only ...\n",
       "4  Learn from yesterday, live for today, hope for...\n",
       "5  Do not confine your children to your own learn...\n",
       "6  I hear and I forget, I see and I remember. I d...\n",
       "7            In teaching others we teach ourselves. \n",
       "8  Happiness will never come to those who fail to...\n",
       "9  Without His love I can do nothing, with His lo..."
      ]
     },
     "execution_count": 27,
     "metadata": {},
     "output_type": "execute_result"
    }
   ],
   "source": [
    "quote_list = []\n",
    "for quote in quotes:\n",
    "    string = quote.text\n",
    "    quote_list.append(string)\n",
    "    \n",
    "# Finally, we can create a DataFrame to store our strings:\n",
    "df = pd.DataFrame(quote_list, columns=[\"Quote\"])\n",
    "df"
   ]
  },
  {
   "cell_type": "markdown",
   "id": "cae6dffc-d5eb-4e80-933b-1d6a29b12508",
   "metadata": {},
   "source": [
    "We will now continue by extracting the **authors** of each quote. The first step is as before: to identify a pattern of tags that surround the text that we want. If we repeat the same logic that we used for the quotes we will find that the author is contained inside the tags <p class=\"a\" and </p. Let’s try to use the find_all() function again. But wait - this time we cannot just search for all instances of the tag <p> <\\p> because this tag occurs in more cases then just around the text giving the authors of the code! Instead, we will have to take advantage of the class property. The HTML code is structured in such a way that all tags of the form <p> <\\p> that surround the text giving the authors are of the type class=\"a\". We can specify this to the find_all() command as follows:\n",
    "\n"
   ]
  },
  {
   "cell_type": "code",
   "execution_count": 28,
   "id": "42dcb78b-e9d3-4b4b-b2ff-91f8fcd55823",
   "metadata": {},
   "outputs": [],
   "source": [
    "authors = soup.find_all(\"p\", class_=\"a\")"
   ]
  },
  {
   "cell_type": "markdown",
   "id": "9ea54313-1c76-46cb-b638-a732daf0233f",
   "metadata": {},
   "source": [
    "Once again we can treat the object authors as a list and access the attribute text, which returns us the text inside the tag for each item of the list."
   ]
  },
  {
   "cell_type": "code",
   "execution_count": 29,
   "id": "c6538819-bc62-471f-9dfe-d713bd8b7448",
   "metadata": {},
   "outputs": [
    {
     "data": {
      "text/plain": [
       "'\\nThomas Jefferson (1743-1826) Third president of the United States.\\n'"
      ]
     },
     "execution_count": 29,
     "metadata": {},
     "output_type": "execute_result"
    }
   ],
   "source": [
    "authors[0].text"
   ]
  },
  {
   "cell_type": "markdown",
   "id": "3f232835-7ac4-4ef9-bbbc-1d6dc89ee460",
   "metadata": {},
   "source": [
    "We can see that there are some extra characters that we would like to remove from the text. We can do this by just selecting the indices of the string that we want to keep. In this case, we want to get rid of the first and last characters (note that \\n is considered as a single character - it’s the new line character) - so the string we want to keep is:"
   ]
  },
  {
   "cell_type": "code",
   "execution_count": 30,
   "id": "5f885ded-df57-4db7-a2ad-5199c228294a",
   "metadata": {},
   "outputs": [
    {
     "data": {
      "text/plain": [
       "'Thomas Jefferson (1743-1826) Third president of the United States.'"
      ]
     },
     "execution_count": 30,
     "metadata": {},
     "output_type": "execute_result"
    }
   ],
   "source": [
    "authors[0].text[1:-1]"
   ]
  },
  {
   "cell_type": "code",
   "execution_count": 31,
   "id": "11d73676-f2c4-4e08-9176-c2e49938e410",
   "metadata": {},
   "outputs": [
    {
     "data": {
      "text/html": [
       "<div>\n",
       "<style scoped>\n",
       "    .dataframe tbody tr th:only-of-type {\n",
       "        vertical-align: middle;\n",
       "    }\n",
       "\n",
       "    .dataframe tbody tr th {\n",
       "        vertical-align: top;\n",
       "    }\n",
       "\n",
       "    .dataframe thead th {\n",
       "        text-align: right;\n",
       "    }\n",
       "</style>\n",
       "<table border=\"1\" class=\"dataframe\">\n",
       "  <thead>\n",
       "    <tr style=\"text-align: right;\">\n",
       "      <th></th>\n",
       "      <th>Quote</th>\n",
       "      <th>Author</th>\n",
       "    </tr>\n",
       "  </thead>\n",
       "  <tbody>\n",
       "    <tr>\n",
       "      <th>0</th>\n",
       "      <td>There is a natural aristocracy among men. The ...</td>\n",
       "      <td>Thomas Jefferson (1743-1826) Third president o...</td>\n",
       "    </tr>\n",
       "    <tr>\n",
       "      <th>1</th>\n",
       "      <td>All our words from loose using have lost their...</td>\n",
       "      <td>Ernest Hemingway (1898-1961) American Writer.</td>\n",
       "    </tr>\n",
       "    <tr>\n",
       "      <th>2</th>\n",
       "      <td>God couldn't be everywhere, so he created moth...</td>\n",
       "      <td>Jewish proverb</td>\n",
       "    </tr>\n",
       "    <tr>\n",
       "      <th>3</th>\n",
       "      <td>Be not afraid of going slowly, be afraid only ...</td>\n",
       "      <td>Chinese proverb</td>\n",
       "    </tr>\n",
       "    <tr>\n",
       "      <th>4</th>\n",
       "      <td>Learn from yesterday, live for today, hope for...</td>\n",
       "      <td>Unknown Source</td>\n",
       "    </tr>\n",
       "    <tr>\n",
       "      <th>5</th>\n",
       "      <td>Do not confine your children to your own learn...</td>\n",
       "      <td>Chinese proverb</td>\n",
       "    </tr>\n",
       "    <tr>\n",
       "      <th>6</th>\n",
       "      <td>I hear and I forget, I see and I remember. I d...</td>\n",
       "      <td>Chinese proverb</td>\n",
       "    </tr>\n",
       "    <tr>\n",
       "      <th>7</th>\n",
       "      <td>In teaching others we teach ourselves.</td>\n",
       "      <td>Proverb</td>\n",
       "    </tr>\n",
       "    <tr>\n",
       "      <th>8</th>\n",
       "      <td>Happiness will never come to those who fail to...</td>\n",
       "      <td>Unknown Source</td>\n",
       "    </tr>\n",
       "    <tr>\n",
       "      <th>9</th>\n",
       "      <td>Without His love I can do nothing, with His lo...</td>\n",
       "      <td>Unknown Source</td>\n",
       "    </tr>\n",
       "  </tbody>\n",
       "</table>\n",
       "</div>"
      ],
      "text/plain": [
       "                                               Quote  \\\n",
       "0  There is a natural aristocracy among men. The ...   \n",
       "1  All our words from loose using have lost their...   \n",
       "2  God couldn't be everywhere, so he created moth...   \n",
       "3  Be not afraid of going slowly, be afraid only ...   \n",
       "4  Learn from yesterday, live for today, hope for...   \n",
       "5  Do not confine your children to your own learn...   \n",
       "6  I hear and I forget, I see and I remember. I d...   \n",
       "7            In teaching others we teach ourselves.    \n",
       "8  Happiness will never come to those who fail to...   \n",
       "9  Without His love I can do nothing, with His lo...   \n",
       "\n",
       "                                              Author  \n",
       "0  Thomas Jefferson (1743-1826) Third president o...  \n",
       "1      Ernest Hemingway (1898-1961) American Writer.  \n",
       "2                                    Jewish proverb   \n",
       "3                                   Chinese proverb   \n",
       "4                                    Unknown Source   \n",
       "5                                   Chinese proverb   \n",
       "6                                   Chinese proverb   \n",
       "7                                           Proverb   \n",
       "8                                    Unknown Source   \n",
       "9                                    Unknown Source   "
      ]
     },
     "execution_count": 31,
     "metadata": {},
     "output_type": "execute_result"
    }
   ],
   "source": [
    "author_list = []\n",
    "for author in authors:\n",
    "    string = author.text[1:-1]\n",
    "    author_list.append(string)\n",
    "df[\"Author\"] = author_list\n",
    "df"
   ]
  },
  {
   "cell_type": "markdown",
   "id": "249964d7-ee7a-45eb-a11d-97c83a27f4ed",
   "metadata": {},
   "source": [
    "#### **In summary**"
   ]
  },
  {
   "cell_type": "markdown",
   "id": "ab58b68f-1d8a-4351-83c5-59f68890d788",
   "metadata": {},
   "source": [
    "* Download HTML code using the requests library\n",
    "* Create a BeautifulSoup object to contain the parse HTML code\n",
    "* Look for patterns identifying the information that you want to extract from the code\n",
    "* Search for specific tags using the find_all() method\n",
    "* Iterate over the object returned by find_all() and use the text attribute to extract the text between each set of tags\n",
    "* Store the strings in a Python list and convert to a DataFrame for further analysis\n",
    "\n",
    "A word of caution: the legal aspects of web scraping can be a highly complex matter and when doing so one has to be very careful with the terms and conditions of each website. In fact, many websites state clearly in their terms and conditions that web scraping is not allowed. Others, provide what is known as an API ( “Application Programming Interface”) which is a set of predefined functions and procedures that control the access we can have to a site’s data. Whenever such an API is provided it is best practice to use it, instead of developing your own scraping methods."
   ]
  },
  {
   "cell_type": "markdown",
   "id": "2a62324c-776a-4e80-9360-5d23975f3610",
   "metadata": {},
   "source": [
    "#### Special case: scrapping tables\n",
    "\n",
    "It may happen that you want to directly scrape tables out of webpages. For that, you could apply the method described above i.e. collect the HTML from a webpage, then parse it using BeautifulSoup and insert it in a DataFrame. But fortunately, for that specific use case, Pandas has a built-in and straightforward method pd.read_html() that will automatically retrieve tables in a webpage (as identified by <table in its HTML code) and insert them into a DataFrame. For example, if you want to collect the table of additives as described in this Open Food Facts webpage, you can call pd.read_html() with the URL as input:"
   ]
  },
  {
   "cell_type": "code",
   "execution_count": 32,
   "id": "390ca996-8de6-4bf2-97b2-d1e3cd7d9f6b",
   "metadata": {},
   "outputs": [
    {
     "name": "stdout",
     "output_type": "stream",
     "text": [
      "1\n",
      "                   Additive  Products    * Risk\n",
      "0        E330 - Citric acid    138624  NaN  NaN\n",
      "1          E322 - Lecithins     95545  NaN  NaN\n",
      "2          E322i - Lecithin     86705  NaN  NaN\n",
      "3  E500 - Sodium carbonates     58968  NaN  NaN\n",
      "4        E415 - Xanthan gum     52039  NaN  NaN\n"
     ]
    }
   ],
   "source": [
    "tables = pd.read_html(\"https://world.openfoodfacts.org/additives\")\n",
    "print(len(tables))  # 1\n",
    "print(tables[0].head())"
   ]
  },
  {
   "cell_type": "markdown",
   "id": "4b9fd7f9-f5ee-4ca4-87fe-4ba93549dec0",
   "metadata": {},
   "source": [
    "You could use the same method in a webpage with many tables, as for instance the Wikipedia page for world record progression for 50m metres freestyle, and it would return all the available tables:\n",
    "\n"
   ]
  },
  {
   "cell_type": "code",
   "execution_count": 33,
   "id": "085f20e8-be0b-4068-bf15-e0932a1bb440",
   "metadata": {},
   "outputs": [
    {
     "name": "stdout",
     "output_type": "stream",
     "text": [
      "9\n",
      "   Pos   Time                   Swimmer              Date          Venue   Ref\n",
      "0    1  20.91         Cesar Cielo (BRA)  17 December 2009         Brazil   NaN\n",
      "1    2  20.94  Frederick Bousquet (FRA)     22 April 2009         France   NaN\n",
      "2    3  21.04      Caeleb Dressel (USA)      27 July 2019    South Korea   NaN\n",
      "3    3  21.04      Caeleb Dressel (USA)      20 June 2021          Omaha  [19]\n",
      "4    4  21.11      Benjamin Proud (GBR)     3 August 2018  Great Britain   NaN\n",
      "   Pos   Time                    Swimmer              Date       Venue  Ref\n",
      "0    1  22.93  Ranomi Kromowidjojo (NED)     7 August 2017     Germany  NaN\n",
      "1    2  23.00       Sarah Sjöström (SWE)     7 August 2017     Germany  NaN\n",
      "2    3  23.19        Cate Campbell (AUS)   27 October 2017      Russia  NaN\n",
      "3    4  23.25     Marleen Veldhuis (NED)     13 April 2008  Manchester  NaN\n",
      "4    5  23.27    Therese Alshammar (SWE)  21 November 2009   Singapore  NaN\n"
     ]
    }
   ],
   "source": [
    "tables = pd.read_html(\n",
    "    \"https://en.wikipedia.org/wiki/World_record_progression_50_metres_freestyle\"\n",
    ")\n",
    "print(len(tables))\n",
    "print(tables[4].head())\n",
    "print(tables[-2].head())"
   ]
  },
  {
   "cell_type": "markdown",
   "id": "bc024c65-cc72-421e-a8ec-e299ebbc25ac",
   "metadata": {},
   "source": [
    "And if you’re only interested in tables mentioning “Switzerland”, then there is a parameter match exactly done for that:"
   ]
  },
  {
   "cell_type": "code",
   "execution_count": 34,
   "id": "a61d46ae-1b7d-4167-967b-07ca8e1d90c6",
   "metadata": {},
   "outputs": [
    {
     "name": "stdout",
     "output_type": "stream",
     "text": [
      "1\n",
      "     Time          Name    Nationality\n",
      "10  22.54   Robin Leamy  United States\n",
      "11  22.52  Dano Halsall    Switzerland\n",
      "12  22.40     Tom Jager  United States\n",
      "13  22.33   Matt Biondi  United States\n",
      "14  22.33   Matt Biondi  United States\n"
     ]
    }
   ],
   "source": [
    "tables = pd.read_html(\n",
    "    \"https://en.wikipedia.org/wiki/World_record_progression_50_metres_freestyle\",\n",
    "    match=\"Switzerland\",\n",
    ")\n",
    "print(len(tables))  # 1\n",
    "print(tables[0][10:15][[\"Time\", \"Name\", \"Nationality\"]])\n"
   ]
  },
  {
   "cell_type": "code",
   "execution_count": null,
   "id": "e18b5f40-e3c8-435f-8193-33e99d8f7ba0",
   "metadata": {},
   "outputs": [],
   "source": []
  }
 ],
 "metadata": {
  "kernelspec": {
   "display_name": "Python [conda env:adsml] *",
   "language": "python",
   "name": "conda-env-adsml-py"
  },
  "language_info": {
   "codemirror_mode": {
    "name": "ipython",
    "version": 3
   },
   "file_extension": ".py",
   "mimetype": "text/x-python",
   "name": "python",
   "nbconvert_exporter": "python",
   "pygments_lexer": "ipython3",
   "version": "3.9.7"
  }
 },
 "nbformat": 4,
 "nbformat_minor": 5
}
