{
 "cells": [
  {
   "cell_type": "markdown",
   "id": "b9354a23-2858-452c-a1f8-cf47aae19fb4",
   "metadata": {},
   "source": [
    "Electric car consumption\n",
    "The electric car consumption dataset contains 57 measurements of the energy consumption, by miles, of an electric car in different temperature settings. The dataset is inspired by this study which analyzed the effect of temperatures on the efficiency, range and emissions of electric vehicles in different regions of the United States.\n",
    "\n",
    "Let’s start by loading the dataset."
   ]
  },
  {
   "cell_type": "code",
   "execution_count": 1,
   "id": "3ca7d9a5-c6e3-4f96-a755-f8d9623e86d1",
   "metadata": {},
   "outputs": [
    {
     "name": "stdout",
     "output_type": "stream",
     "text": [
      "Shape: (57, 2)\n"
     ]
    },
    {
     "data": {
      "text/html": [
       "<div>\n",
       "<style scoped>\n",
       "    .dataframe tbody tr th:only-of-type {\n",
       "        vertical-align: middle;\n",
       "    }\n",
       "\n",
       "    .dataframe tbody tr th {\n",
       "        vertical-align: top;\n",
       "    }\n",
       "\n",
       "    .dataframe thead th {\n",
       "        text-align: right;\n",
       "    }\n",
       "</style>\n",
       "<table border=\"1\" class=\"dataframe\">\n",
       "  <thead>\n",
       "    <tr style=\"text-align: right;\">\n",
       "      <th></th>\n",
       "      <th>Temperature [°F]</th>\n",
       "      <th>Energy Consumption [Wh/mil]</th>\n",
       "    </tr>\n",
       "  </thead>\n",
       "  <tbody>\n",
       "    <tr>\n",
       "      <th>0</th>\n",
       "      <td>-15</td>\n",
       "      <td>460</td>\n",
       "    </tr>\n",
       "    <tr>\n",
       "      <th>1</th>\n",
       "      <td>-12</td>\n",
       "      <td>398</td>\n",
       "    </tr>\n",
       "    <tr>\n",
       "      <th>2</th>\n",
       "      <td>-8</td>\n",
       "      <td>460</td>\n",
       "    </tr>\n",
       "    <tr>\n",
       "      <th>3</th>\n",
       "      <td>-7</td>\n",
       "      <td>540</td>\n",
       "    </tr>\n",
       "    <tr>\n",
       "      <th>4</th>\n",
       "      <td>-6</td>\n",
       "      <td>347</td>\n",
       "    </tr>\n",
       "  </tbody>\n",
       "</table>\n",
       "</div>"
      ],
      "text/plain": [
       "   Temperature [°F]  Energy Consumption [Wh/mil]\n",
       "0               -15                          460\n",
       "1               -12                          398\n",
       "2                -8                          460\n",
       "3                -7                          540\n",
       "4                -6                          347"
      ]
     },
     "execution_count": 1,
     "metadata": {},
     "output_type": "execute_result"
    }
   ],
   "source": [
    "import pandas as pd\n",
    "\n",
    "# Load the data\n",
    "data_df = pd.read_csv(\"c3_electric-cars.csv\")\n",
    "\n",
    "# Print shape\n",
    "print(\"Shape:\", data_df.shape)\n",
    "\n",
    "# First five rows\n",
    "data_df.head()"
   ]
  },
  {
   "cell_type": "markdown",
   "id": "d2b8274a-346b-4313-ac99-da92eadbe0e4",
   "metadata": {},
   "source": [
    "In this unit, we will build a model to predict energy consumption using temperatures.\n",
    "\n",
    "Let’s create and plot the x, y variables. Note that in this unit we work only with the training set and for simplicity we use the names x, y instead of x_tr, y_tr."
   ]
  },
  {
   "cell_type": "code",
   "execution_count": 2,
   "id": "97c7df97-8a69-4383-9782-93c5d540bf38",
   "metadata": {},
   "outputs": [
    {
     "data": {
      "image/png": "[encoded data removed]",
      "text/plain": [
       "<Figure size 432x288 with 1 Axes>"
      ]
     },
     "metadata": {
      "needs_background": "light"
     },
     "output_type": "display_data"
    }
   ],
   "source": [
    "# Extract x, y data\n",
    "x = data_df.iloc[:, 0].values  # Temperatures\n",
    "y = data_df.iloc[:, 1].values  # Consumption\n",
    "\n",
    "# Plot data\n",
    "%matplotlib inline\n",
    "import matplotlib.pyplot as plt\n",
    "\n",
    "data_df.plot.scatter(\"Temperature [°F]\", \"Energy Consumption [Wh/mil]\")\n",
    "plt.show()"
   ]
  },
  {
   "cell_type": "markdown",
   "id": "a4eb19ef-91a0-4f4e-bdc3-206eca945967",
   "metadata": {},
   "source": [
    "As you can see, electric cars consume more energy during cold weather. The optimal consumption is around 70°F (21°C) and then increases with warmer temperatures.\n",
    "\n",
    "We can use a polynomial to model the relationship between the two variables. Let’s see how to do that with Scikit-learn.\n",
    "\n",
    "#### Create the polynomial features\n",
    "Scikit-learn implements a PolynomialFeatures object to build the polynomial features. Note that it’s considered as a preprocessing step because it’s done before fitting the model."
   ]
  },
  {
   "cell_type": "code",
   "execution_count": 3,
   "id": "1d66af48-b163-4ef3-b745-4a9b4cb678c3",
   "metadata": {},
   "outputs": [
    {
     "name": "stdout",
     "output_type": "stream",
     "text": [
      "Shape: (57, 3)\n"
     ]
    }
   ],
   "source": [
    "from sklearn.preprocessing import PolynomialFeatures\n",
    "import numpy as np\n",
    "\n",
    "# Create the object\n",
    "pf_obj = PolynomialFeatures(degree=2)\n",
    "\n",
    "# Create the polynomial features\n",
    "X2 = pf_obj.fit_transform(\n",
    "    # Pass two dimensional array\n",
    "    x[:, np.newaxis]  # (57,) -> (57,1)\n",
    ")\n",
    "\n",
    "print(\"Shape:\", X2.shape)"
   ]
  },
  {
   "cell_type": "markdown",
   "id": "561df094-b616-41eb-994b-2cc16e1862b0",
   "metadata": {},
   "source": [
    "In the Scikit-learn jargon, this object is a preprocessor which means that it implements the fit() and transform() functions.\n",
    "\n",
    "Here is the code to create the polynomial features that correspond to a polynomial of degree 2.\n",
    "\n"
   ]
  },
  {
   "cell_type": "markdown",
   "id": "f88729bf-3837-4285-8329-dcdbfd66d42f",
   "metadata": {},
   "source": [
    "We start by creating the PolynomialFeatures object and set its degree with the degree parameter. Then, we obtain the features by passing the input data to its fit_transform() function which is a shortcut for the fit() and transform() ones."
   ]
  },
  {
   "cell_type": "code",
   "execution_count": 4,
   "id": "548dd8d6-6294-4e98-833c-d1b2a97fb466",
   "metadata": {},
   "outputs": [],
   "source": [
    "# Fit the preprocessor\n",
    "pf_obj.fit(x[:, np.newaxis])\n",
    "\n",
    "# Create the polynomial features\n",
    "X2 = pf_obj.transform((x[:, np.newaxis]))"
   ]
  },
  {
   "cell_type": "markdown",
   "id": "f3758c82-22b6-4732-a410-81dd64a84e1c",
   "metadata": {},
   "source": [
    "In this code, fit() computes the number of output features and transform() creates them. Again, Scikit-learn works with 2-dimensional Numpy arrays, and we need to add a dimension to x using the x[:, np.newaxis] syntax.\n",
    "\n",
    "Scikit-learn labels each new feature in X2, and we can obtain these labels with the get_feature_names_out() function."
   ]
  },
  {
   "cell_type": "code",
   "execution_count": 5,
   "id": "ba02fffa-d18e-4a54-8717-72d9bf8ca9b8",
   "metadata": {},
   "outputs": [
    {
     "name": "stdout",
     "output_type": "stream",
     "text": [
      "Features: ['1' 'x0' 'x0^2']\n"
     ]
    }
   ],
   "source": [
    "# Get feature names\n",
    "feature_names = pf_obj.get_feature_names_out()\n",
    "\n",
    "print(\"Features:\", feature_names)\n"
   ]
  },
  {
   "cell_type": "markdown",
   "id": "42dea53e-1c92-4ab4-9cf1-dc9666bed752",
   "metadata": {},
   "source": [
    "Here, x0 denotes temperatures. As we can see, Scikit-learn adds a 1 to the polynomial features which corresponds to the intercept term. However, we will use the LinearRegression object which already fits one. Hence, this new feature is not necessary and we can remove it by setting the include_bias parameter to False."
   ]
  },
  {
   "cell_type": "code",
   "execution_count": 6,
   "id": "e5c6eb56-e01a-4a9f-b605-813f372a8669",
   "metadata": {},
   "outputs": [
    {
     "name": "stdout",
     "output_type": "stream",
     "text": [
      "Features: ['x0' 'x0^2']\n"
     ]
    }
   ],
   "source": [
    "# Create the object\n",
    "pf_obj = PolynomialFeatures(degree=2, include_bias=False)\n",
    "\n",
    "# Create the polynomial features\n",
    "X2 = pf_obj.fit_transform(x[:, np.newaxis])\n",
    "\n",
    "# Get feature names\n",
    "feature_names = pf_obj.get_feature_names_out()\n",
    "\n",
    "print(\"Features:\", feature_names)"
   ]
  },
  {
   "cell_type": "raw",
   "id": "a3a96ba7-1d6d-4d24-bade-3a57f3886db0",
   "metadata": {},
   "source": [
    "It’s also possible to create the new set of features manually with the Numpy c_ object.\n",
    "\n",
    "# Create the polynomial features manually\n",
    "X2 = np.c_[x, x ** 2]"
   ]
  },
  {
   "cell_type": "markdown",
   "id": "f0d6dd0d-1bf7-4a30-87a7-87a3939101ca",
   "metadata": {},
   "source": [
    "#### Fit a linear regression\n",
    "Let’s fit a linear regression to the new set of features.\n",
    "\n"
   ]
  },
  {
   "cell_type": "code",
   "execution_count": 7,
   "id": "4326d7b1-5a82-47e9-993e-00a0d3a6676a",
   "metadata": {},
   "outputs": [
    {
     "data": {
      "text/plain": [
       "LinearRegression()"
      ]
     },
     "execution_count": 7,
     "metadata": {},
     "output_type": "execute_result"
    }
   ],
   "source": [
    "from sklearn.linear_model import LinearRegression\n",
    "\n",
    "# Create linear regression\n",
    "linreg = LinearRegression()\n",
    "\n",
    "# Fit it\n",
    "linreg.fit(X2, y)"
   ]
  },
  {
   "cell_type": "markdown",
   "id": "b3e0d992-ca30-405d-8e59-e41a71a457db",
   "metadata": {},
   "source": [
    "We can now plot the model by generating a hundred sample data points."
   ]
  },
  {
   "cell_type": "code",
   "execution_count": 8,
   "id": "fb75501a-e868-4757-bc36-8cc8b68a05ff",
   "metadata": {},
   "outputs": [],
   "source": [
    "# Generate a hundred values between min(x) and max(x)\n",
    "x_values = np.linspace(min(x), max(x), num=100)\n",
    "X_values2 = pf_obj.transform(x_values[:, np.newaxis])"
   ]
  },
  {
   "cell_type": "markdown",
   "id": "b24a30ca-41df-478a-be5d-cfa160dc7133",
   "metadata": {},
   "source": [
    "Note that we need to create the polynomial features for these x_values with the transform() function. Again, you can also use the Numpy c_ object."
   ]
  },
  {
   "cell_type": "code",
   "execution_count": 9,
   "id": "c0729247-162e-4bff-afd0-d8bdb64219ec",
   "metadata": {},
   "outputs": [
    {
     "data": {
      "image/png": "[encoded data removed]",
      "text/plain": [
       "<Figure size 432x288 with 1 Axes>"
      ]
     },
     "metadata": {
      "needs_background": "light"
     },
     "output_type": "display_data"
    }
   ],
   "source": [
    "X_values2 = np.c_[x_values, x_values ** 2]\n",
    "# Compute predictions\n",
    "y_values = linreg.predict(X_values2)\n",
    "\n",
    "# Plot predictions\n",
    "data_df.plot.scatter(\"Temperature [°F]\", \"Energy Consumption [Wh/mil]\")\n",
    "plt.plot(x_values, y_values, color=\"C3\")\n",
    "plt.show()"
   ]
  },
  {
   "cell_type": "markdown",
   "id": "5a78aed6-b831-4a52-8e50-cc82c99d1128",
   "metadata": {},
   "source": [
    "The model captures the main trend but doesn’t fit well the data. You can try to increase the degree of the set of polynomial features. We leave it to you as an exercise. Here is the result for degrees 3, 5 and 10.\n",
    "\n",
    "It seems that the curve gets more complex when we increase the degree which can lead to overfitting. Large degrees might result in models that fit the noise in the data rather than the signal. In our example, the degree five seems to generalize well from the data."
   ]
  },
  {
   "cell_type": "code",
   "execution_count": 10,
   "id": "96283fd9-bbdd-41f3-b374-d610c7b3a1d8",
   "metadata": {},
   "outputs": [
    {
     "data": {
      "text/html": [
       "<div>\n",
       "<style scoped>\n",
       "    .dataframe tbody tr th:only-of-type {\n",
       "        vertical-align: middle;\n",
       "    }\n",
       "\n",
       "    .dataframe tbody tr th {\n",
       "        vertical-align: top;\n",
       "    }\n",
       "\n",
       "    .dataframe thead th {\n",
       "        text-align: right;\n",
       "    }\n",
       "</style>\n",
       "<table border=\"1\" class=\"dataframe\">\n",
       "  <thead>\n",
       "    <tr style=\"text-align: right;\">\n",
       "      <th></th>\n",
       "      <th>Temperature [°F]</th>\n",
       "      <th>Energy Consumption [Wh/mil]</th>\n",
       "    </tr>\n",
       "  </thead>\n",
       "  <tbody>\n",
       "    <tr>\n",
       "      <th>0</th>\n",
       "      <td>-15</td>\n",
       "      <td>460</td>\n",
       "    </tr>\n",
       "    <tr>\n",
       "      <th>1</th>\n",
       "      <td>-12</td>\n",
       "      <td>398</td>\n",
       "    </tr>\n",
       "    <tr>\n",
       "      <th>2</th>\n",
       "      <td>-8</td>\n",
       "      <td>460</td>\n",
       "    </tr>\n",
       "    <tr>\n",
       "      <th>3</th>\n",
       "      <td>-7</td>\n",
       "      <td>540</td>\n",
       "    </tr>\n",
       "    <tr>\n",
       "      <th>4</th>\n",
       "      <td>-6</td>\n",
       "      <td>347</td>\n",
       "    </tr>\n",
       "  </tbody>\n",
       "</table>\n",
       "</div>"
      ],
      "text/plain": [
       "   Temperature [°F]  Energy Consumption [Wh/mil]\n",
       "0               -15                          460\n",
       "1               -12                          398\n",
       "2                -8                          460\n",
       "3                -7                          540\n",
       "4                -6                          347"
      ]
     },
     "execution_count": 10,
     "metadata": {},
     "output_type": "execute_result"
    }
   ],
   "source": [
    "#### Splitting data with Numpy\n",
    "\n",
    "import pandas as pd\n",
    "\n",
    "# Load the data\n",
    "data_df = pd.read_csv(\"c3_electric-cars.csv\")\n",
    "\n",
    "# First five rows\n",
    "data_df.head()"
   ]
  },
  {
   "cell_type": "markdown",
   "id": "bd0ea5f0-3e46-4e9b-97ad-7d139326ee14",
   "metadata": {},
   "source": [
    "Our goal is to split these x/y points into a train and a test set. To achieve this, we will generate two lists of indexes. One for data points in the train set and the other for data points in the test set.\n",
    "\n",
    "First, let’s start by creating a list with all the indexes that we can then split into two."
   ]
  },
  {
   "cell_type": "code",
   "execution_count": 11,
   "id": "c8512352-451f-4212-be35-86cb595664cc",
   "metadata": {},
   "outputs": [
    {
     "name": "stdout",
     "output_type": "stream",
     "text": [
      "indexes: [ 0  1  2  3  4  5  6  7  8  9 10 11 12 13 14 15 16 17 18 19 20 21 22 23\n",
      " 24 25 26 27 28 29 30 31 32 33 34 35 36 37 38 39 40 41 42 43 44 45 46 47\n",
      " 48 49 50 51 52 53 54 55 56]\n"
     ]
    }
   ],
   "source": [
    "import numpy as np\n",
    "\n",
    "# Generate a list of indexes\n",
    "n = len(data_df)\n",
    "indexes = np.arange(n)\n",
    "\n",
    "print(\"indexes:\", indexes)"
   ]
  },
  {
   "cell_type": "markdown",
   "id": "daaa026e-84fb-46e7-8b6f-d879a1092426",
   "metadata": {},
   "source": [
    "We can now split this list. For this example, we will do a 70-30 split.\n",
    "\n"
   ]
  },
  {
   "cell_type": "code",
   "execution_count": 12,
   "id": "f49ba192-951c-480a-8be0-b349c1b4de3a",
   "metadata": {},
   "outputs": [
    {
     "name": "stdout",
     "output_type": "stream",
     "text": [
      "train indexes: [ 0  1  2  3  4  5  6  7  8  9 10 11 12 13 14 15 16 17 18 19 20 21 22 23\n",
      " 24 25 26 27 28 29 30 31 32 33 34 35 36 37 38]\n",
      "test indexes: [39 40 41 42 43 44 45 46 47 48 49 50 51 52 53 54 55 56]\n"
     ]
    }
   ],
   "source": [
    "# Split into train/test indexes\n",
    "split_idx = int(n * 0.7)\n",
    "train_idx = indexes[:split_idx]\n",
    "test_idx = indexes[split_idx:]\n",
    "\n",
    "print(\"train indexes:\", train_idx)\n",
    "print(\"test indexes:\", test_idx)"
   ]
  },
  {
   "cell_type": "markdown",
   "id": "3a7a3276-aa77-433e-899d-cef0e84f3f57",
   "metadata": {},
   "source": [
    "The idea is to compute the index split_idx at which we need to split the data, and then use it to separate the list of indexes into two. Note that the data is not necessarily separable into 70-30 parts. For this reason, we use the int() Python built-in function to convert n*0.7 into an integer.\n",
    "\n",
    "Finally, we can separate the x/y data points into train/test sets using the train_idx and test_idx lists."
   ]
  },
  {
   "cell_type": "markdown",
   "id": "04d4d7b4-3c70-4235-ae4d-82a2b6d557de",
   "metadata": {},
   "source": [
    "As we can see, there are 39 data points in the train set and 18 in the test one. Let’s plot these two sets."
   ]
  },
  {
   "cell_type": "code",
   "execution_count": 14,
   "id": "e3dd59ab-e575-47b0-9f9f-ea2f351023f6",
   "metadata": {},
   "outputs": [
    {
     "data": {
      "image/png": "[encoded data removed]",
      "text/plain": [
       "<Figure size 432x288 with 1 Axes>"
      ]
     },
     "metadata": {
      "needs_background": "light"
     },
     "output_type": "display_data"
    }
   ],
   "source": [
    "%matplotlib inline\n",
    "import matplotlib.pyplot as plt\n",
    "\n",
    "# Plot data points\n",
    "plt.scatter(x_tr, y_tr, label=\"train set\")\n",
    "plt.scatter(x_te, y_te, label=\"test set\")\n",
    "plt.xlabel(\"temperature\")\n",
    "plt.ylabel(\"number of users\")\n",
    "plt.legend()\n",
    "plt.show()\n"
   ]
  },
  {
   "cell_type": "markdown",
   "id": "5dc99e92-1512-4498-81dc-f341e662b1e2",
   "metadata": {},
   "source": [
    "This is a bad split because neither of the sets represents well the entire data. The issue is that the data points are ordered by temperatures in the original .csv file. Hence, when we split the data, the 39 points with the lowest temperatures go into the train set and the remaining 18 into the test set.\n",
    "\n",
    "#### Shuffling the indexes\n",
    "One solution is to shuffle the data before splitting it. In this unit, we will shuffle the list of indexes rather than the data points directly. This has the advantage of leaving the original data unmodified.\n",
    "\n",
    "To achieve this, we can use the shuffle() function from the Numpy random module."
   ]
  },
  {
   "cell_type": "code",
   "execution_count": 16,
   "id": "52da7d12-559c-45cd-843f-9d71363dc283",
   "metadata": {},
   "outputs": [
    {
     "name": "stdout",
     "output_type": "stream",
     "text": [
      "indexes: [53 36 13 55 45 56  7 52 28 22 24 17 15 11 27 26 20  1 10 21 40 30 51 31\n",
      " 14 46  9 23 44 12 25  0 38  4 41 37  6 29 42 39 18 35 16 54 50  8 33 19\n",
      "  5 49  3 34 47 32  2 48 43]\n"
     ]
    }
   ],
   "source": [
    "# shuffle the indexes\n",
    "np.random.shuffle(indexes)\n",
    "\n",
    "print(\"indexes:\", indexes)  # result depends on the seed"
   ]
  },
  {
   "cell_type": "markdown",
   "id": "0ed02e2a-8114-46fa-99a8-ad6cf656fca1",
   "metadata": {},
   "source": [
    "Numpy shuffles the data differently each time we run this code. In fact, it uses a random number generator to shuffle the data, and we can fix its results by setting its seed number with the seed() function."
   ]
  },
  {
   "cell_type": "code",
   "execution_count": 17,
   "id": "206caf79-3e88-4c56-8899-89e17f6069be",
   "metadata": {},
   "outputs": [
    {
     "name": "stdout",
     "output_type": "stream",
     "text": [
      "indexes: [35 34 41 27 11  2 33 56 22 55  4 10 29 50 32 40 37  7 14 31 28 46 51 18\n",
      " 54 26 15  5 30 16 48 20 49  8 13 25 17 42 45 38  1 12 43 24  6 23 36 21\n",
      " 19  9 39 52  3  0 53 47 44]\n"
     ]
    }
   ],
   "source": [
    "# Create the indexes\n",
    "indexes = np.arange(n)\n",
    "\n",
    "# Shuffle the indexes\n",
    "np.random.seed(0)\n",
    "np.random.shuffle(indexes)\n",
    "\n",
    "print(\"indexes:\", indexes)"
   ]
  },
  {
   "cell_type": "markdown",
   "id": "ea2d0124-d5d9-4cbf-8700-0373d760b16d",
   "metadata": {},
   "source": [
    "We can now split the indexes into train/test indexes."
   ]
  },
  {
   "cell_type": "code",
   "execution_count": 18,
   "id": "036a54c2-1087-49e7-9aeb-d211acb09aea",
   "metadata": {},
   "outputs": [
    {
     "data": {
      "image/png": "[encoded data removed]",
      "text/plain": [
       "<Figure size 432x288 with 1 Axes>"
      ]
     },
     "metadata": {
      "needs_background": "light"
     },
     "output_type": "display_data"
    }
   ],
   "source": [
    "# Split into train/test indexes\n",
    "split_idx = int(n * 0.7)\n",
    "train_idx = indexes[:split_idx]\n",
    "test_idx = indexes[split_idx:]\n",
    "\n",
    "# Split data\n",
    "x_tr, y_tr = x[train_idx], y[train_idx]\n",
    "x_te, y_te = x[test_idx], y[test_idx]\n",
    "\n",
    "# Plot data points\n",
    "plt.scatter(x_tr, y_tr, label=\"train set\")\n",
    "plt.scatter(x_te, y_te, label=\"test set\")\n",
    "plt.xlabel(\"temperature\")\n",
    "plt.ylabel(\"number of users\")\n",
    "plt.legend()\n",
    "plt.show()"
   ]
  },
  {
   "cell_type": "markdown",
   "id": "f9c54335-43c6-499c-8519-99b7392d77e7",
   "metadata": {},
   "source": [
    "#### With Scikit-learn\n",
    "\n",
    "Splitting the data is a common operation in machine learning. For this reason, Scikit-learn implements a train_test_split() function in its model_selection module.\n",
    "\n"
   ]
  },
  {
   "cell_type": "code",
   "execution_count": 19,
   "id": "27bd89f1-7030-4592-a44c-64c4259978ec",
   "metadata": {},
   "outputs": [],
   "source": [
    "from sklearn.model_selection import train_test_split\n",
    "\n",
    "# Split data\n",
    "x_tr, x_te, y_tr, y_te = train_test_split(\n",
    "    x, y, train_size=0.7, test_size=0.3, random_state=0\n",
    ")"
   ]
  },
  {
   "cell_type": "markdown",
   "id": "c46f30d7-6614-4b9b-a898-8424915be845",
   "metadata": {},
   "source": [
    "The function takes a set of arrays and split them into train/test sets. We can specify the size of each set with the train_size and the test_size parameters, and set the seed with random_state. In this code, the two sizes are percentages of data. But we can also specify the number of points.\n",
    "\n"
   ]
  },
  {
   "cell_type": "code",
   "execution_count": 20,
   "id": "dabdfc10-61c4-4c36-bc5e-b175851aa27d",
   "metadata": {},
   "outputs": [],
   "source": [
    "from sklearn.model_selection import train_test_split\n",
    "\n",
    "# Split data\n",
    "x_tr, x_te, y_tr, y_te = train_test_split(\n",
    "    x, y, train_size=39, test_size=18, random_state=0\n",
    ")"
   ]
  },
  {
   "cell_type": "markdown",
   "id": "9a5c140e-47fd-492e-ba0f-97837af8ab92",
   "metadata": {},
   "source": [
    "#### Model selection\n",
    "In a previous unit, we fitted a polynomial of degree 5 and another of degree 10 to this dataset. Let’s see which one has a better generalization error according to our test set.\n",
    "\n",
    "We create the two models using the Numpy polyfit() function and evaluate them with the mean_squared_error() function from Scikit-learn."
   ]
  },
  {
   "cell_type": "code",
   "execution_count": 21,
   "id": "5298601c-b205-4224-af7c-70acbfe2953e",
   "metadata": {},
   "outputs": [
    {
     "name": "stdout",
     "output_type": "stream",
     "text": [
      "Degree 5 MSE: 719 (train) vs 651 (test)\n",
      "Degree 10 MSE: 707 (train) vs 1218 (test)\n"
     ]
    }
   ],
   "source": [
    "from sklearn.metrics import mean_squared_error as mse\n",
    "\n",
    "# Polynomial regressions of degree 5 and 10\n",
    "coef5 = np.polyfit(x_tr, y_tr, deg=5)\n",
    "coef10 = np.polyfit(x_tr, y_tr, deg=10)\n",
    "\n",
    "# Evaluate performance\n",
    "y_pred5_tr = np.polyval(coef5, x_tr)\n",
    "y_pred5_te = np.polyval(coef5, x_te)\n",
    "\n",
    "print(\n",
    "    \"Degree 5 MSE: {:.0f} (train) vs {:.0f} (test)\".format(\n",
    "        mse(y_tr, y_pred5_tr), mse(y_te, y_pred5_te)\n",
    "    )\n",
    ")\n",
    "# Degree 5 MSE: 719 (train) vs 651 (test)\n",
    "\n",
    "y_pred10_tr = np.polyval(coef10, x_tr)\n",
    "y_pred10_te = np.polyval(coef10, x_te)\n",
    "\n",
    "print(\n",
    "    \"Degree 10 MSE: {:.0f} (train) vs {:.0f} (test)\".format(\n",
    "        mse(y_tr, y_pred10_tr), mse(y_te, y_pred10_te)\n",
    "    )\n",
    ")"
   ]
  },
  {
   "cell_type": "markdown",
   "id": "c0d2486b-2214-4420-a193-48600d225204",
   "metadata": {},
   "source": [
    "Electric car consumption\n",
    "The electric car consumption dataset contains 57 measurements of the energy consumption, by miles, of an electric car in different temperature settings. The dataset is inspired by this study which analyzed the effect of temperatures on the efficiency, range and emissions of electric vehicles in different regions of the United States.\n",
    "\n",
    "Let’s start by loading the dataset."
   ]
  },
  {
   "cell_type": "markdown",
   "id": "d7fb5e1d-07f0-48b0-8d28-b2d98d1e3997",
   "metadata": {},
   "source": [
    "We can see that the polynomial of degree 10 has a better training error than the polynomial of degree 5. However, its test score nearly doubles which means that it’s likely overfitting. On the other hand, the polynomial of degree 5 seems to generalize well from the data with a test score close to its train score."
   ]
  },
  {
   "cell_type": "markdown",
   "id": "378523fc-0ec0-4720-92ba-870028a4c1eb",
   "metadata": {},
   "source": [
    "#### One-hot encoding (dummy variables)\n",
    "So far, we worked with variables that are quantitative, e.g., temperatures, wind speed, humidity. But many datasets also have categorical features, e.g., the day of the week, season, type of weather. In this unit, we will see how to preprocess these categorical variables using one-hot encoding.\n",
    "\n",
    "This time, we will work with a modified version of the bike sharing dataset with one quantitative and one categorical variable.\n",
    "\n",
    "#### Categorical variables\n",
    "Let’s start by loading the dataset."
   ]
  },
  {
   "cell_type": "code",
   "execution_count": 24,
   "id": "cb1b2e4f-4e70-41ae-bb96-97a71ad9d80f",
   "metadata": {},
   "outputs": [
    {
     "data": {
      "text/html": [
       "<div>\n",
       "<style scoped>\n",
       "    .dataframe tbody tr th:only-of-type {\n",
       "        vertical-align: middle;\n",
       "    }\n",
       "\n",
       "    .dataframe tbody tr th {\n",
       "        vertical-align: top;\n",
       "    }\n",
       "\n",
       "    .dataframe thead th {\n",
       "        text-align: right;\n",
       "    }\n",
       "</style>\n",
       "<table border=\"1\" class=\"dataframe\">\n",
       "  <thead>\n",
       "    <tr style=\"text-align: right;\">\n",
       "      <th></th>\n",
       "      <th>temp</th>\n",
       "      <th>weekday</th>\n",
       "      <th>casual</th>\n",
       "    </tr>\n",
       "  </thead>\n",
       "  <tbody>\n",
       "    <tr>\n",
       "      <th>0</th>\n",
       "      <td>0.344</td>\n",
       "      <td>6</td>\n",
       "      <td>331</td>\n",
       "    </tr>\n",
       "    <tr>\n",
       "      <th>1</th>\n",
       "      <td>0.363</td>\n",
       "      <td>0</td>\n",
       "      <td>131</td>\n",
       "    </tr>\n",
       "    <tr>\n",
       "      <th>2</th>\n",
       "      <td>0.196</td>\n",
       "      <td>1</td>\n",
       "      <td>120</td>\n",
       "    </tr>\n",
       "    <tr>\n",
       "      <th>3</th>\n",
       "      <td>0.200</td>\n",
       "      <td>2</td>\n",
       "      <td>108</td>\n",
       "    </tr>\n",
       "    <tr>\n",
       "      <th>4</th>\n",
       "      <td>0.227</td>\n",
       "      <td>3</td>\n",
       "      <td>82</td>\n",
       "    </tr>\n",
       "  </tbody>\n",
       "</table>\n",
       "</div>"
      ],
      "text/plain": [
       "    temp  weekday  casual\n",
       "0  0.344        6     331\n",
       "1  0.363        0     131\n",
       "2  0.196        1     120\n",
       "3  0.200        2     108\n",
       "4  0.227        3      82"
      ]
     },
     "execution_count": 24,
     "metadata": {},
     "output_type": "execute_result"
    }
   ],
   "source": [
    "import pandas as pd\n",
    "\n",
    "# Load the data\n",
    "data_df = pd.read_csv(\"c3_bike-small.csv\")\n",
    "\n",
    "# First five rows\n",
    "data_df.head()"
   ]
  },
  {
   "cell_type": "code",
   "execution_count": 25,
   "id": "0f7b3ad3-49fd-4b9b-bca0-8a9ef8103f16",
   "metadata": {},
   "outputs": [
    {
     "data": {
      "text/plain": [
       "6    105\n",
       "0    105\n",
       "1    105\n",
       "2    104\n",
       "3    104\n",
       "4    104\n",
       "5    104\n",
       "Name: weekday, dtype: int64"
      ]
     },
     "execution_count": 25,
     "metadata": {},
     "output_type": "execute_result"
    }
   ],
   "source": [
    "data_df.weekday.value_counts()"
   ]
  },
  {
   "cell_type": "markdown",
   "id": "9f13f883-26b8-4066-96e3-af9cdee66c1a",
   "metadata": {},
   "source": [
    "In this example, Monday corresponds to zero and Sunday to six, but this numerical encoding is somewhat arbitrary. In fact, with this encoding, the weekday variable doesn’t indicate the day of the week but how far we are from the beginning of the week.\n",
    "\n",
    "Let’s do a quick experiment. Let’s fit a linear regression with and without this variable and compare the two \n",
    "R\n",
    "2\n",
    " coefficients. Note that in this unit we work only with the training set and for simplicity we use the names x, y instead of x_tr, y_tr."
   ]
  },
  {
   "cell_type": "code",
   "execution_count": 26,
   "id": "273bef60-2d3c-4a28-a712-4b7db9898d98",
   "metadata": {},
   "outputs": [
    {
     "data": {
      "text/plain": [
       "0.29525001840042775"
      ]
     },
     "execution_count": 26,
     "metadata": {},
     "output_type": "execute_result"
    }
   ],
   "source": [
    "# Create X/y data\n",
    "X = data_df[[\"temp\"]].values\n",
    "y = data_df.casual.values\n",
    "\n",
    "# Fit a linear regression\n",
    "from sklearn.linear_model import LinearRegression\n",
    "\n",
    "lr = LinearRegression()\n",
    "lr.fit(X, y)\n",
    "lr.score(X, y)"
   ]
  },
  {
   "cell_type": "markdown",
   "id": "443266ec-6c80-4065-9da4-98996d0060e3",
   "metadata": {},
   "source": [
    "Let’s add the weekday variable and see whether this improves the performance of our model."
   ]
  },
  {
   "cell_type": "code",
   "execution_count": 27,
   "id": "df09141c-206b-490f-9007-079608b820e8",
   "metadata": {},
   "outputs": [
    {
     "data": {
      "text/plain": [
       "0.2988588081409286"
      ]
     },
     "execution_count": 27,
     "metadata": {},
     "output_type": "execute_result"
    }
   ],
   "source": [
    "# Create X/y data\n",
    "X = data_df[[\"temp\", \"weekday\"]].values\n",
    "y = data_df.casual.values\n",
    "\n",
    "# Fit a linear regression\n",
    "lr = LinearRegression()\n",
    "lr.fit(X, y)\n",
    "lr.score(X, y)"
   ]
  },
  {
   "cell_type": "markdown",
   "id": "830380a3-b744-4dd4-81d4-232fa2537fff",
   "metadata": {},
   "source": [
    "We can see that the two \n",
    "R\n",
    "2\n",
    " coefficients are very close and that the weekday variable isn’t really useful in its current format. However, there is a more appropriate way to encode this variable: one-hot encoding."
   ]
  },
  {
   "cell_type": "markdown",
   "id": "47342d4b-96e6-498a-b569-5aea3ac3f015",
   "metadata": {},
   "source": [
    "#### One-hot encoding\n",
    "The idea is to create a new variable for each possible value. In our example, we create a variable for each day of the week which indicates whether the measurement was made that day. It’s called one-hot encoding because only one variable from the seven can be positive at a time. These indicators are also called dummy variables.\n",
    "\n",
    "Pandas implements a get_dummies() function to create the dummies. We pass the DataFrame and specify which columns are categorical with the columns parameter. The code should return the first five rows of the DataFrame with the dummy variables."
   ]
  },
  {
   "cell_type": "code",
   "execution_count": 28,
   "id": "3ed1d903-19a9-4041-8156-91022d7a40d7",
   "metadata": {},
   "outputs": [
    {
     "data": {
      "text/html": [
       "<div>\n",
       "<style scoped>\n",
       "    .dataframe tbody tr th:only-of-type {\n",
       "        vertical-align: middle;\n",
       "    }\n",
       "\n",
       "    .dataframe tbody tr th {\n",
       "        vertical-align: top;\n",
       "    }\n",
       "\n",
       "    .dataframe thead th {\n",
       "        text-align: right;\n",
       "    }\n",
       "</style>\n",
       "<table border=\"1\" class=\"dataframe\">\n",
       "  <thead>\n",
       "    <tr style=\"text-align: right;\">\n",
       "      <th></th>\n",
       "      <th>temp</th>\n",
       "      <th>casual</th>\n",
       "      <th>weekday_0</th>\n",
       "      <th>weekday_1</th>\n",
       "      <th>weekday_2</th>\n",
       "      <th>weekday_3</th>\n",
       "      <th>weekday_4</th>\n",
       "      <th>weekday_5</th>\n",
       "      <th>weekday_6</th>\n",
       "    </tr>\n",
       "  </thead>\n",
       "  <tbody>\n",
       "    <tr>\n",
       "      <th>0</th>\n",
       "      <td>0.344</td>\n",
       "      <td>331</td>\n",
       "      <td>0</td>\n",
       "      <td>0</td>\n",
       "      <td>0</td>\n",
       "      <td>0</td>\n",
       "      <td>0</td>\n",
       "      <td>0</td>\n",
       "      <td>1</td>\n",
       "    </tr>\n",
       "    <tr>\n",
       "      <th>1</th>\n",
       "      <td>0.363</td>\n",
       "      <td>131</td>\n",
       "      <td>1</td>\n",
       "      <td>0</td>\n",
       "      <td>0</td>\n",
       "      <td>0</td>\n",
       "      <td>0</td>\n",
       "      <td>0</td>\n",
       "      <td>0</td>\n",
       "    </tr>\n",
       "    <tr>\n",
       "      <th>2</th>\n",
       "      <td>0.196</td>\n",
       "      <td>120</td>\n",
       "      <td>0</td>\n",
       "      <td>1</td>\n",
       "      <td>0</td>\n",
       "      <td>0</td>\n",
       "      <td>0</td>\n",
       "      <td>0</td>\n",
       "      <td>0</td>\n",
       "    </tr>\n",
       "    <tr>\n",
       "      <th>3</th>\n",
       "      <td>0.200</td>\n",
       "      <td>108</td>\n",
       "      <td>0</td>\n",
       "      <td>0</td>\n",
       "      <td>1</td>\n",
       "      <td>0</td>\n",
       "      <td>0</td>\n",
       "      <td>0</td>\n",
       "      <td>0</td>\n",
       "    </tr>\n",
       "    <tr>\n",
       "      <th>4</th>\n",
       "      <td>0.227</td>\n",
       "      <td>82</td>\n",
       "      <td>0</td>\n",
       "      <td>0</td>\n",
       "      <td>0</td>\n",
       "      <td>1</td>\n",
       "      <td>0</td>\n",
       "      <td>0</td>\n",
       "      <td>0</td>\n",
       "    </tr>\n",
       "  </tbody>\n",
       "</table>\n",
       "</div>"
      ],
      "text/plain": [
       "    temp  casual  weekday_0  weekday_1  weekday_2  weekday_3  weekday_4  \\\n",
       "0  0.344     331          0          0          0          0          0   \n",
       "1  0.363     131          1          0          0          0          0   \n",
       "2  0.196     120          0          1          0          0          0   \n",
       "3  0.200     108          0          0          1          0          0   \n",
       "4  0.227      82          0          0          0          1          0   \n",
       "\n",
       "   weekday_5  weekday_6  \n",
       "0          0          1  \n",
       "1          0          0  \n",
       "2          0          0  \n",
       "3          0          0  \n",
       "4          0          0  "
      ]
     },
     "execution_count": 28,
     "metadata": {},
     "output_type": "execute_result"
    }
   ],
   "source": [
    "pd.get_dummies(data_df, columns=[\"weekday\"]).head()"
   ]
  },
  {
   "cell_type": "code",
   "execution_count": 29,
   "id": "5be40644-79cc-46aa-a599-783257bbcb8b",
   "metadata": {},
   "outputs": [
    {
     "data": {
      "text/plain": [
       "0.5969174988134782"
      ]
     },
     "execution_count": 29,
     "metadata": {},
     "output_type": "execute_result"
    }
   ],
   "source": [
    "# We can now fit a linear regression using this new encoding.\n",
    "# One-hot encoding\n",
    "encoded_df = pd.get_dummies(data_df, columns=[\"weekday\"])\n",
    "\n",
    "# Create X/y data\n",
    "X = encoded_df.drop([\"casual\"], axis=1).values\n",
    "y = encoded_df.casual.values\n",
    "\n",
    "# Fit a linear regression\n",
    "lr = LinearRegression()\n",
    "lr.fit(X, y)\n",
    "lr.score(X, y)"
   ]
  },
  {
   "cell_type": "markdown",
   "id": "6a0156f3-9da0-41b5-9e9e-a1ca01b4f10a",
   "metadata": {},
   "source": [
    "As we can see, the \n",
    "R\n",
    "2\n",
    " coefficient is now close to 0.6 which is much better than the two previous models.\n",
    "\n",
    "Note that each category now has a redundant column. We can drop it with the drop_first attribute.\n",
    "\n"
   ]
  },
  {
   "cell_type": "code",
   "execution_count": 30,
   "id": "f5310045-a0a1-4aa7-9919-274d6a9e0aaf",
   "metadata": {},
   "outputs": [
    {
     "data": {
      "text/html": [
       "<div>\n",
       "<style scoped>\n",
       "    .dataframe tbody tr th:only-of-type {\n",
       "        vertical-align: middle;\n",
       "    }\n",
       "\n",
       "    .dataframe tbody tr th {\n",
       "        vertical-align: top;\n",
       "    }\n",
       "\n",
       "    .dataframe thead th {\n",
       "        text-align: right;\n",
       "    }\n",
       "</style>\n",
       "<table border=\"1\" class=\"dataframe\">\n",
       "  <thead>\n",
       "    <tr style=\"text-align: right;\">\n",
       "      <th></th>\n",
       "      <th>temp</th>\n",
       "      <th>casual</th>\n",
       "      <th>weekday_1</th>\n",
       "      <th>weekday_2</th>\n",
       "      <th>weekday_3</th>\n",
       "      <th>weekday_4</th>\n",
       "      <th>weekday_5</th>\n",
       "      <th>weekday_6</th>\n",
       "    </tr>\n",
       "  </thead>\n",
       "  <tbody>\n",
       "    <tr>\n",
       "      <th>0</th>\n",
       "      <td>0.344</td>\n",
       "      <td>331</td>\n",
       "      <td>0</td>\n",
       "      <td>0</td>\n",
       "      <td>0</td>\n",
       "      <td>0</td>\n",
       "      <td>0</td>\n",
       "      <td>1</td>\n",
       "    </tr>\n",
       "    <tr>\n",
       "      <th>1</th>\n",
       "      <td>0.363</td>\n",
       "      <td>131</td>\n",
       "      <td>0</td>\n",
       "      <td>0</td>\n",
       "      <td>0</td>\n",
       "      <td>0</td>\n",
       "      <td>0</td>\n",
       "      <td>0</td>\n",
       "    </tr>\n",
       "    <tr>\n",
       "      <th>2</th>\n",
       "      <td>0.196</td>\n",
       "      <td>120</td>\n",
       "      <td>1</td>\n",
       "      <td>0</td>\n",
       "      <td>0</td>\n",
       "      <td>0</td>\n",
       "      <td>0</td>\n",
       "      <td>0</td>\n",
       "    </tr>\n",
       "    <tr>\n",
       "      <th>3</th>\n",
       "      <td>0.200</td>\n",
       "      <td>108</td>\n",
       "      <td>0</td>\n",
       "      <td>1</td>\n",
       "      <td>0</td>\n",
       "      <td>0</td>\n",
       "      <td>0</td>\n",
       "      <td>0</td>\n",
       "    </tr>\n",
       "    <tr>\n",
       "      <th>4</th>\n",
       "      <td>0.227</td>\n",
       "      <td>82</td>\n",
       "      <td>0</td>\n",
       "      <td>0</td>\n",
       "      <td>1</td>\n",
       "      <td>0</td>\n",
       "      <td>0</td>\n",
       "      <td>0</td>\n",
       "    </tr>\n",
       "  </tbody>\n",
       "</table>\n",
       "</div>"
      ],
      "text/plain": [
       "    temp  casual  weekday_1  weekday_2  weekday_3  weekday_4  weekday_5  \\\n",
       "0  0.344     331          0          0          0          0          0   \n",
       "1  0.363     131          0          0          0          0          0   \n",
       "2  0.196     120          1          0          0          0          0   \n",
       "3  0.200     108          0          1          0          0          0   \n",
       "4  0.227      82          0          0          1          0          0   \n",
       "\n",
       "   weekday_6  \n",
       "0          1  \n",
       "1          0  \n",
       "2          0  \n",
       "3          0  \n",
       "4          0  "
      ]
     },
     "execution_count": 30,
     "metadata": {},
     "output_type": "execute_result"
    }
   ],
   "source": [
    "# One-hot encoding\n",
    "encoded_df = pd.get_dummies(data_df, columns=[\"weekday\"], drop_first=True)\n",
    "encoded_df.head()"
   ]
  },
  {
   "cell_type": "markdown",
   "id": "1a02c700-bf18-4d98-9af4-8b382cc9bf85",
   "metadata": {},
   "source": [
    "If we look at this plot, we see that the ordinal variable weekday doesn't have a linear relationship with the target \"casual\". This means that a simple linear model can only do so much in this case. (Remember that a linear model can only fit straight lines in the case of single features). One-hot encoding is a common transformation for features that have non-linear relationships with the target to add more flexibility to linear models. (This type of transformation is not necessarily beneficial for other models that we will discuss in Course 4)."
   ]
  },
  {
   "cell_type": "code",
   "execution_count": null,
   "id": "d2ca6e9f-54b2-4cea-b16c-a789a7f3f5fd",
   "metadata": {},
   "outputs": [
    {
     "data": {
      "text/plain": [
       "Text(0, 0.5, 'Casual')"
      ]
     },
     "execution_count": 32,
     "metadata": {},
     "output_type": "execute_result"
    },
    {
     "data": {
      "image/png": "[encoded data removed]",
      "text/plain": [
       "<Figure size 432x288 with 1 Axes>"
      ]
     },
     "metadata": {
      "needs_background": "light"
     },
     "output_type": "display_data"
    }
   ],
   "source": [
    "\n",
    "# Plot 'weekday' against the target casual\n",
    "import matplotlib.pyplot as plt\n",
    "\n",
    "plt.scatter(data_df['weekday'],data_df['casual'],alpha=0.3);\n",
    "plt.xlabel('Weekday')\n",
    "plt.ylabel('Casual')"
   ]
  },
  {
   "cell_type": "markdown",
   "id": "8f814ca3-5681-423e-a17e-98ea77a29ffa",
   "metadata": {},
   "source": [
    "The following code will hopefully allow visualizing the effect of one-hot encoding on model predictions. I've fitted two linear models:\n",
    "\n",
    "* Model 1: I'm using only the ordinal feature weekday to predict the target casual.\n",
    "* Model 2: I'm using the one-hot encoded features weekday_x to predict the target casual.\n",
    "\n",
    "Please note that I've purposefully left the feature temp out of these models, as I wanted to focus on the effect of one-hot encoding on model performance. Adding the temp feature will, of course, further improve model performance."
   ]
  },
  {
   "cell_type": "code",
   "execution_count": 34,
   "id": "ba1b2307-0673-47dc-9b8f-de1e5c880465",
   "metadata": {},
   "outputs": [
    {
     "name": "stdout",
     "output_type": "stream",
     "text": [
      "Model 1: R2=0.004\n",
      "Model 2: R2=0.274\n"
     ]
    },
    {
     "data": {
      "image/png": "[encoded data removed]",
      "text/plain": [
       "<Figure size 432x288 with 1 Axes>"
      ]
     },
     "metadata": {
      "needs_background": "light"
     },
     "output_type": "display_data"
    }
   ],
   "source": [
    "# Load dependencies\n",
    "import pandas as pd\n",
    "import matplotlib.pyplot as plt\n",
    "import numpy as np\n",
    "from sklearn.linear_model import LinearRegression\n",
    "\n",
    "# Load the data\n",
    "data_df = pd.read_csv('c3_bike-small.csv')\n",
    "\n",
    "# Model 1: `weekday` is ordinal\n",
    "\n",
    "# Create X/y data\n",
    "X = data_df[['weekday']].values\n",
    "y = data_df.casual.values\n",
    "\n",
    "# Fit model\n",
    "lr1 = LinearRegression()\n",
    "lr1.fit(X, y)\n",
    "\n",
    "# Model 2: `weekday` is one-hot encoded\n",
    "\n",
    "# Apply one-hot encoding\n",
    "encoded_df = pd.get_dummies(data_df, columns=['weekday'], drop_first=True)\n",
    "\n",
    "# Create X data\n",
    "X_new = encoded_df.drop(['temp','casual'],axis=1)  # Remove feature 'temp' and the target\n",
    "\n",
    "# Fit model\n",
    "lr2 = LinearRegression()\n",
    "lr2.fit(X_new, y)\n",
    "\n",
    "# Print R2\n",
    "print('Model 1: R2={}'.format(np.round(lr1.score(X,y),3)))   # Prints: Model 1: R2=0.004\n",
    "print('Model 2: R2={}'.format(np.round(lr2.score(X_new,y),3)))  # Prints: Model 2: R2=0.274\n",
    "\n",
    "# Plot ordinal `weekday` against target\n",
    "plt.scatter(data_df['weekday'],data_df['casual'], color=\"none\", edgecolor='grey', alpha=0.3, label=None);\n",
    "\n",
    "# Model 1: Plot predictions\n",
    "plt.scatter(data_df['weekday'],lr1.predict(X), color=\"red\", s=55, label='Model 1 predictions')\n",
    "\n",
    "# Model 2: Plot predictions\n",
    "plt.scatter(data_df['weekday'],lr2.predict(X_new), color=\"blue\", s=55, label='Model 2 predictions')\n",
    "\n",
    "plt.xlabel('Weekday')\n",
    "plt.ylabel('Casual')\n",
    "\n",
    "plt.legend(bbox_to_anchor=(1,1));"
   ]
  },
  {
   "cell_type": "code",
   "execution_count": null,
   "id": "de85e033-b1c5-4855-8e77-f03ddfb19f44",
   "metadata": {},
   "outputs": [],
   "source": []
  }
 ],
 "metadata": {
  "kernelspec": {
   "display_name": "Python [conda env:adsml] *",
   "language": "python",
   "name": "conda-env-adsml-py"
  },
  "language_info": {
   "codemirror_mode": {
    "name": "ipython",
    "version": 3
   },
   "file_extension": ".py",
   "mimetype": "text/x-python",
   "name": "python",
   "nbconvert_exporter": "python",
   "pygments_lexer": "ipython3",
   "version": "3.9.7"
  }
 },
 "nbformat": 4,
 "nbformat_minor": 5
}
