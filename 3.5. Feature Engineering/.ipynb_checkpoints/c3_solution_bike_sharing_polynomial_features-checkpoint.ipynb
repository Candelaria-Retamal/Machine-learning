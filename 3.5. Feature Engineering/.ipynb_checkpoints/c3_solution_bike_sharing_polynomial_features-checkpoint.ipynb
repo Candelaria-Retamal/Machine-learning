{
 "cells": [
  {
   "cell_type": "markdown",
   "metadata": {},
   "source": [
    "Bike sharing polynomial features\n",
    "---"
   ]
  },
  {
   "cell_type": "markdown",
   "metadata": {},
   "source": [
    "Exercise - Load and split the data, set the baseline\n",
    "---\n",
    "\n",
    "> **Exercise**: Load the dataset. Encode categorical variables with one-hot encoding. Split the data into train/test sets with the `train_test_split()` function from Scikit-learn (50-50 split, `random_state=0`). Fit a linear regression and compare its performance to the median baseline using the mean absolute error (MAE) measure."
   ]
  },
  {
   "cell_type": "code",
   "execution_count": null,
   "metadata": {},
   "outputs": [],
   "source": [
    "import pandas as pd\n",
    "import os\n",
    "\n",
    "# Load data\n",
    "data_df = pd.read_csv(\"c3_bike-sharing-data.csv\")\n",
    "data_df.head()"
   ]
  },
  {
   "cell_type": "code",
   "execution_count": null,
   "metadata": {},
   "outputs": [],
   "source": [
    "# One-hot encoding\n",
    "encoded_df = pd.get_dummies(\n",
    "    data_df, columns=[\"yr\", \"workingday\", \"holiday\", \"weekday\", \"season\", \"weathersit\"]\n",
    ")\n",
    "encoded_df.head()"
   ]
  },
  {
   "cell_type": "code",
   "execution_count": null,
   "metadata": {},
   "outputs": [],
   "source": [
    "from sklearn.model_selection import train_test_split\n",
    "\n",
    "# Split into train/test sets\n",
    "train_df, test_df = train_test_split(\n",
    "    encoded_df, train_size=0.5, test_size=0.5, random_state=0\n",
    ")\n",
    "\n",
    "print(\"Train DataFrame:\", train_df.shape)\n",
    "print(\"Test DataFrame:\", test_df.shape)"
   ]
  },
  {
   "cell_type": "code",
   "execution_count": null,
   "metadata": {},
   "outputs": [],
   "source": [
    "# Create X/y variables\n",
    "X_tr = train_df.drop(\"casual\", axis=1).values\n",
    "y_tr = train_df.casual.values\n",
    "\n",
    "X_te = test_df.drop(\"casual\", axis=1).values\n",
    "y_te = test_df.casual.values"
   ]
  },
  {
   "cell_type": "code",
   "execution_count": null,
   "metadata": {},
   "outputs": [],
   "source": [
    "import numpy as np\n",
    "\n",
    "# Mean absolute error (MAE)\n",
    "def MAE(y, y_pred):\n",
    "    return np.mean(np.abs(y - y_pred))"
   ]
  },
  {
   "cell_type": "code",
   "execution_count": null,
   "metadata": {},
   "outputs": [],
   "source": [
    "from sklearn.linear_model import LinearRegression, Ridge\n",
    "\n",
    "# Function to fit the model\n",
    "def fit_model(X_train, y_train, X_test):\n",
    "    # Create the model\n",
    "    # Note: Using ridge with a small alpha to avoid ill-conditioning issues\n",
    "    model = Ridge(alpha=1e-4)  # or LinearRegression()\n",
    "\n",
    "    # Fit it to train data\n",
    "    model.fit(X_train, y_train)\n",
    "\n",
    "    # Compute predictions for test set\n",
    "    y_pred = np.maximum(model.predict(X_test), 50)  # set a lower limit\n",
    "\n",
    "    return y_pred"
   ]
  },
  {
   "cell_type": "code",
   "execution_count": null,
   "metadata": {},
   "outputs": [],
   "source": [
    "# Median baseline\n",
    "mae_baseline = MAE(y_te, np.median(y_tr))\n",
    "\n",
    "# Linear regression\n",
    "y_pred = fit_model(X_tr, y_tr, X_te)\n",
    "mae_lr = MAE(y_te, y_pred)\n",
    "\n",
    "print(\"MAE baseline: {:.3f}\".format(mae_baseline))\n",
    "print(\"MAE linear regression: {:.3f}\".format(mae_lr))"
   ]
  },
  {
   "cell_type": "markdown",
   "metadata": {},
   "source": [
    "Exercise - Add polynomial features\n",
    "---\n",
    "\n",
    "> **Exercise**: Add the `temp^2` and `temp^3` polynomial features. Then fit and evaluate a linear regression. Plot your model with a scatter plot of temperatures vs. number of users. Feel free to add other features."
   ]
  },
  {
   "cell_type": "code",
   "execution_count": null,
   "metadata": {},
   "outputs": [],
   "source": [
    "# Function to add features\n",
    "def create_features(df):\n",
    "    temp = df.temp.values\n",
    "    others = df.drop([\"temp\", \"casual\"], axis=1).values\n",
    "    return np.c_[temp, temp ** 2, temp ** 3, others]"
   ]
  },
  {
   "cell_type": "code",
   "execution_count": null,
   "metadata": {},
   "outputs": [],
   "source": [
    "# Create new input matrices\n",
    "X_tr2 = create_features(train_df)\n",
    "X_te2 = create_features(test_df)\n",
    "\n",
    "# Fit a linear regression\n",
    "y_pred_lr = fit_model(X_tr2, y_tr, X_te2)\n",
    "mae_lr2 = MAE(y_te, y_pred_lr)\n",
    "print(\"MAE lr with new features: {:.3f}\".format(mae_lr2))"
   ]
  },
  {
   "cell_type": "code",
   "execution_count": null,
   "metadata": {},
   "outputs": [],
   "source": [
    "# Plot predictions\n",
    "%matplotlib inline\n",
    "import matplotlib.pyplot as plt\n",
    "\n",
    "plt.scatter(test_df.temp, test_df.casual, s=10, label=\"test points\")\n",
    "plt.scatter(test_df.temp, y_pred_lr, s=10, label=\"lr with new features\")\n",
    "plt.legend()\n",
    "plt.show()"
   ]
  },
  {
   "cell_type": "markdown",
   "metadata": {},
   "source": [
    "Exercise - Separate sources\n",
    "---\n",
    "\n",
    "In the last exercise, we saw that we can identify two sources in the data.\n",
    "\n",
    "1. Data points collected during working days\n",
    "1. Data points collected during non-working days\n",
    "\n",
    "The goal of this exercise is to create a model for each source using your extended set of features, e.g., the original features plus the `temp^2`, `temp^3` polynomial features.\n",
    "\n",
    "> **Exercise**: Create a model for each source with the extended set of features, and evaluate the overall performance on the test set using MAE. Plot the two models with a scatter plot of temperatures vs. number of users. Create a final comparison using a bar chart."
   ]
  },
  {
   "cell_type": "code",
   "execution_count": null,
   "metadata": {},
   "outputs": [],
   "source": [
    "# Split data into working days (wd) and non-working days (nwd)\n",
    "train_df_wd = train_df[train_df.workingday_yes == 1]\n",
    "train_df_nwd = train_df[train_df.workingday_yes == 0]\n",
    "\n",
    "test_df_wd = test_df[test_df.workingday_yes == 1]\n",
    "test_df_nwd = test_df[test_df.workingday_yes == 0]"
   ]
  },
  {
   "cell_type": "code",
   "execution_count": null,
   "metadata": {},
   "outputs": [],
   "source": [
    "# Fit two linear regressions\n",
    "y_pred_wd = fit_model(\n",
    "    create_features(train_df_wd), train_df_wd.casual, create_features(test_df_wd)\n",
    ")\n",
    "y_pred_nwd = fit_model(\n",
    "    create_features(train_df_nwd), train_df_nwd.casual, create_features(test_df_nwd)\n",
    ")\n",
    "\n",
    "# Reassemble predictions\n",
    "y_pred_wdnwd = np.concatenate([y_pred_wd, y_pred_nwd])\n",
    "y_te_wdnwd = np.concatenate([test_df_wd.casual, test_df_nwd.casual])\n",
    "\n",
    "# Compute MAE\n",
    "mae_wdnwd = MAE(y_te_wdnwd, y_pred_wdnwd)\n",
    "print(\"MAE two sources: {:.3f}\".format(mae_wdnwd))"
   ]
  },
  {
   "cell_type": "code",
   "execution_count": null,
   "metadata": {},
   "outputs": [],
   "source": [
    "# Plot predictions\n",
    "temp_te_wdnwd = np.concatenate([test_df_wd.temp, test_df_nwd.temp])\n",
    "plt.scatter(temp_te_wdnwd, y_te_wdnwd, s=10, label=\"test points\")\n",
    "plt.scatter(test_df_wd.temp, y_pred_wd, s=10, label=\"working day model\")\n",
    "plt.scatter(test_df_nwd.temp, y_pred_nwd, s=10, label=\"non-working day model\")\n",
    "\n",
    "plt.legend()\n",
    "plt.show()"
   ]
  },
  {
   "cell_type": "code",
   "execution_count": null,
   "metadata": {},
   "outputs": [],
   "source": [
    "# Final comparison\n",
    "mae_values = [mae_baseline, mae_lr, mae_lr2, mae_wdnwd]\n",
    "titles = [\"median\", \"lr\", \"lr new features\", \"two models\"]\n",
    "\n",
    "plt.bar(titles, mae_values)\n",
    "\n",
    "plt.ylabel(\"MAE\")\n",
    "plt.show()"
   ]
  }
 ],
 "metadata": {
  "kernelspec": {
   "display_name": "Python 3",
   "language": "python",
   "name": "python3"
  },
  "language_info": {
   "codemirror_mode": {
    "name": "ipython",
    "version": 3
   },
   "file_extension": ".py",
   "mimetype": "text/x-python",
   "name": "python",
   "nbconvert_exporter": "python",
   "pygments_lexer": "ipython3",
   "version": "3.9.6"
  }
 },
 "nbformat": 4,
 "nbformat_minor": 4
}
