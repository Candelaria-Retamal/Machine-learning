{
 "cells": [
  {
   "cell_type": "markdown",
   "id": "7eb16c21-a290-4ea9-840c-6ca82e1401b2",
   "metadata": {},
   "source": [
    "### Ridge regression\n",
    "\n",
    "In the last unit, we learned about \n",
    "L\n",
    "2\n",
    " regularization and saw that it adds a constraint on the length of the vector of parameters w. So far, we didn’t specify any particular model or cost function, but if we use multi-linear regressions and minimize the squares of the residuals, we obtain the ridge regression model."
   ]
  },
  {
   "cell_type": "code",
   "execution_count": 1,
   "id": "b15ab094-ffd0-47ab-a5cf-ee44dedb0723",
   "metadata": {},
   "outputs": [
    {
     "data": {
      "image/png": "[encoded data removed]",
      "text/plain": [
       "<IPython.core.display.Image object>"
      ]
     },
     "execution_count": 1,
     "metadata": {},
     "output_type": "execute_result"
    }
   ],
   "source": [
    "from IPython.display import Image\n",
    "Image(filename=\"ridge.png\")"
   ]
  },
  {
   "cell_type": "markdown",
   "id": "5dbd9c00-df56-4ec7-a998-3ae3889ac60e",
   "metadata": {},
   "source": [
    "In this unit, we will implement ridge regressions with Scikit-learn and test our model on a set of 50 noisy observations of a sine curve."
   ]
  },
  {
   "cell_type": "code",
   "execution_count": 2,
   "id": "9dafea4b-7668-44b8-8835-5610afbd5ed4",
   "metadata": {},
   "outputs": [
    {
     "name": "stdout",
     "output_type": "stream",
     "text": [
      "Shape: (50, 2)\n"
     ]
    },
    {
     "data": {
      "text/html": [
       "<div>\n",
       "<style scoped>\n",
       "    .dataframe tbody tr th:only-of-type {\n",
       "        vertical-align: middle;\n",
       "    }\n",
       "\n",
       "    .dataframe tbody tr th {\n",
       "        vertical-align: top;\n",
       "    }\n",
       "\n",
       "    .dataframe thead th {\n",
       "        text-align: right;\n",
       "    }\n",
       "</style>\n",
       "<table border=\"1\" class=\"dataframe\">\n",
       "  <thead>\n",
       "    <tr style=\"text-align: right;\">\n",
       "      <th></th>\n",
       "      <th>x</th>\n",
       "      <th>y</th>\n",
       "    </tr>\n",
       "  </thead>\n",
       "  <tbody>\n",
       "    <tr>\n",
       "      <th>0</th>\n",
       "      <td>0.000</td>\n",
       "      <td>0.706</td>\n",
       "    </tr>\n",
       "    <tr>\n",
       "      <th>1</th>\n",
       "      <td>0.128</td>\n",
       "      <td>0.288</td>\n",
       "    </tr>\n",
       "    <tr>\n",
       "      <th>2</th>\n",
       "      <td>0.256</td>\n",
       "      <td>0.645</td>\n",
       "    </tr>\n",
       "    <tr>\n",
       "      <th>3</th>\n",
       "      <td>0.385</td>\n",
       "      <td>1.272</td>\n",
       "    </tr>\n",
       "    <tr>\n",
       "      <th>4</th>\n",
       "      <td>0.513</td>\n",
       "      <td>1.238</td>\n",
       "    </tr>\n",
       "  </tbody>\n",
       "</table>\n",
       "</div>"
      ],
      "text/plain": [
       "       x      y\n",
       "0  0.000  0.706\n",
       "1  0.128  0.288\n",
       "2  0.256  0.645\n",
       "3  0.385  1.272\n",
       "4  0.513  1.238"
      ]
     },
     "execution_count": 2,
     "metadata": {},
     "output_type": "execute_result"
    }
   ],
   "source": [
    "import pandas as pd\n",
    "\n",
    "# Load the training data\n",
    "training_data = pd.read_csv(\"c3_data-points.csv\")\n",
    "\n",
    "# Print shape\n",
    "print(\"Shape:\", training_data.shape)\n",
    "\n",
    "# First five rows\n",
    "training_data.head()"
   ]
  },
  {
   "cell_type": "markdown",
   "id": "bfe55098-3b43-4435-9a97-4aea53e3497d",
   "metadata": {},
   "source": [
    "We generated the 50 x/y data points using a sine curve. The idea is to create 50 points on the curve and add a small noise to each point. Let’s create the x, y variables and plot the data. Note that in this unit we work only with the training set and for simplicity we use the names x, y instead of x_tr, y_tr."
   ]
  },
  {
   "cell_type": "code",
   "execution_count": 3,
   "id": "21b97361-870f-4649-a7d1-dd0ba7f7db0d",
   "metadata": {},
   "outputs": [
    {
     "data": {
      "image/png": "[encoded data removed]",
      "text/plain": [
       "<Figure size 432x288 with 1 Axes>"
      ]
     },
     "metadata": {
      "needs_background": "light"
     },
     "output_type": "display_data"
    }
   ],
   "source": [
    "%matplotlib inline\n",
    "import matplotlib.pyplot as plt\n",
    "import numpy as np\n",
    "\n",
    "# Extract x, y data\n",
    "x = training_data.x.values\n",
    "y = training_data.y.values\n",
    "\n",
    "# Plot data points\n",
    "plt.scatter(x, y)\n",
    "\n",
    "# Plot sine curve for reference\n",
    "x_values = np.linspace(min(x), max(x), num=100)\n",
    "y_sine = np.sin(x_values)\n",
    "plt.plot(x_values, y_sine, c=\"C3\", label=\"sine curve\")\n",
    "plt.legend()\n",
    "plt.show()"
   ]
  },
  {
   "cell_type": "markdown",
   "id": "1d331bd0-3b56-406a-a621-080ef57eac78",
   "metadata": {
    "tags": []
   },
   "source": [
    "In this unit, we will try to recover this sine curve from the 50 noisy observations of it."
   ]
  },
  {
   "cell_type": "markdown",
   "id": "5e24c3c4-cf82-45f3-bc3d-511e36bdca96",
   "metadata": {},
   "source": [
    "#### Polynomial regression\n",
    "Let’s fit a polynomial regression of degree 10 to this set of points. We can generate the polynomial features using the PolynomialFeatures object from Scikit-learn."
   ]
  },
  {
   "cell_type": "code",
   "execution_count": 5,
   "id": "15e1bb76-5af0-4b57-9297-eccccdbea6a0",
   "metadata": {},
   "outputs": [
    {
     "name": "stdout",
     "output_type": "stream",
     "text": [
      "Shape: (50, 10)\n",
      "Features: ['x0' 'x0^2' 'x0^3' 'x0^4' 'x0^5' 'x0^6' 'x0^7' 'x0^8' 'x0^9' 'x0^10']\n"
     ]
    }
   ],
   "source": [
    "from sklearn.preprocessing import PolynomialFeatures\n",
    "\n",
    "# Create the polynomial features\n",
    "poly_obj = PolynomialFeatures(degree=10, include_bias=False)\n",
    "X_poly = poly_obj.fit_transform(x[:, np.newaxis])\n",
    "\n",
    "print(\"Shape:\", X_poly.shape)\n",
    "print(\"Features:\", poly_obj.get_feature_names_out())"
   ]
  },
  {
   "cell_type": "markdown",
   "id": "449457ec-c851-4bc9-bf5a-f2ca263d58ac",
   "metadata": {},
   "source": [
    "Later in this unit, we will apply regularization to our models. Since regularization is sensitive to the scale of our features, we will start by standardizing our data.\n",
    "\n",
    "This is a common operation in machine learning, so Scikit-learn implements a StandardScaler() object to do it. Let’s see how to use to it."
   ]
  },
  {
   "cell_type": "code",
   "execution_count": 6,
   "id": "8357866c-4115-4e28-b56f-d673cb8a662e",
   "metadata": {},
   "outputs": [],
   "source": [
    "from sklearn.preprocessing import StandardScaler\n",
    "\n",
    "scaler = StandardScaler()\n",
    "X_rescaled = scaler.fit_transform(X_poly)"
   ]
  },
  {
   "cell_type": "markdown",
   "id": "e5706152-930c-4f13-ac2a-ebad191d790f",
   "metadata": {},
   "source": [
    "In this code, we first have to create the object and then call its fit_transform() function to compute the mean/standard deviation of each feature (fit) and apply standardization (transform)."
   ]
  },
  {
   "cell_type": "markdown",
   "id": "ae66177c-6ce4-485f-8374-2941dd6b34fd",
   "metadata": {},
   "source": [
    "Important note: The scaler object has also a transform() function which does not compute the mean/standard deviation of a feature but only applies the transformation. However, since here we are working with the training data we should use fit_transform() function. Later in this course we will see that in order to only apply the standardization on the validation and testing data we should use the transform() function. This is because we shouldn’t learn the mean/standard deviation from the validation and testing data."
   ]
  },
  {
   "cell_type": "markdown",
   "id": "c248c0b3-530d-4fb8-a80d-28debf5a420f",
   "metadata": {},
   "source": [
    "Let’s verify that the data is standardized. The mean should be close to zero."
   ]
  },
  {
   "cell_type": "code",
   "execution_count": 7,
   "id": "04312fa7-3223-4df7-a715-9905a20875b0",
   "metadata": {},
   "outputs": [
    {
     "data": {
      "text/plain": [
       "array([ 1.77635684e-16,  2.66453526e-16, -1.68753900e-16, -8.88178420e-18,\n",
       "       -7.99360578e-17,  8.88178420e-18, -1.77635684e-17, -1.77635684e-17,\n",
       "        4.44089210e-17,  1.06581410e-16])"
      ]
     },
     "execution_count": 7,
     "metadata": {},
     "output_type": "execute_result"
    }
   ],
   "source": [
    "X_rescaled.mean(axis=0)"
   ]
  },
  {
   "cell_type": "code",
   "execution_count": 8,
   "id": "2a7cf873-7bb4-4303-8c50-922a97d24338",
   "metadata": {},
   "outputs": [
    {
     "data": {
      "text/plain": [
       "array([1., 1., 1., 1., 1., 1., 1., 1., 1., 1.])"
      ]
     },
     "execution_count": 8,
     "metadata": {},
     "output_type": "execute_result"
    }
   ],
   "source": [
    "X_rescaled.std(axis=0)"
   ]
  },
  {
   "cell_type": "markdown",
   "id": "cda92a59-d23b-4a16-af30-161ba44eec8f",
   "metadata": {},
   "source": [
    "Let’s now fit a linear regression to the standardize data and plot its prediction curve."
   ]
  },
  {
   "cell_type": "code",
   "execution_count": 9,
   "id": "f981e552-3724-40cc-a9b2-ab9f8faa2d24",
   "metadata": {},
   "outputs": [],
   "source": [
    "from sklearn.linear_model import LinearRegression\n",
    "\n",
    "# Linear regression\n",
    "lr = LinearRegression()\n",
    "lr.fit(X_rescaled, y)\n",
    "\n",
    "# Pass sample x values through the preprocessing steps\n",
    "# Create the polynomial basis with poly_obj.transform()\n",
    "# Standardize the features with scaler.transform() to get the X_values_rescaled\n",
    "X_values_rescaled = scaler.transform(poly_obj.transform(x_values[:, np.newaxis]))\n",
    "y_values_lr = lr.predict(X_values_rescaled)"
   ]
  },
  {
   "cell_type": "code",
   "execution_count": 10,
   "id": "14aebec4-1de2-4310-b78a-2ef6df41b609",
   "metadata": {},
   "outputs": [
    {
     "data": {
      "image/png": "[encoded data removed]",
      "text/plain": [
       "<Figure size 432x288 with 1 Axes>"
      ]
     },
     "metadata": {
      "needs_background": "light"
     },
     "output_type": "display_data"
    }
   ],
   "source": [
    "# Plot the model\n",
    "plt.scatter(X_rescaled[:, 0], y)\n",
    "plt.plot(X_values_rescaled[:, 0], y_values_lr, c=\"C3\", label=\"linear regression\")\n",
    "plt.legend()\n",
    "plt.show()"
   ]
  },
  {
   "cell_type": "markdown",
   "id": "7fe15359-d8b9-40d6-ae50-6451d3444515",
   "metadata": {},
   "source": [
    "As we can see, the model is clearly overfitting. Let’s try to reduce overfitting with regularization"
   ]
  },
  {
   "cell_type": "markdown",
   "id": "92af8988-044b-4768-a66d-ff3d8e9eac86",
   "metadata": {},
   "source": [
    "#### Ridge regression\n",
    "Scikit-learn implements ridge regressions with its Ridge object from the linear_model module. This object is an estimator which means that it implements the usual fit(), predict() and score() functions.\n"
   ]
  },
  {
   "cell_type": "code",
   "execution_count": 12,
   "id": "47a64b23-3911-4a5f-aa7b-95f76aa86292",
   "metadata": {},
   "outputs": [],
   "source": [
    "from sklearn.linear_model import Ridge\n",
    "\n",
    "# Ridge regression\n",
    "ridge = Ridge()\n",
    "ridge.fit(X_rescaled, y)\n",
    "\n",
    "# Compute predictions\n",
    "y_values_ridge = ridge.predict(X_values_rescaled)"
   ]
  },
  {
   "cell_type": "markdown",
   "id": "a6130fc3-238e-43b0-a013-783c8c3574fa",
   "metadata": {},
   "source": [
    "In this code, we replaced the LinearRegression object with a Ridge one. The rest of the code is the same. We get the following curve.\n",
    "\n"
   ]
  },
  {
   "cell_type": "code",
   "execution_count": 13,
   "id": "dd3f83a3-d6db-4e36-aeca-bfbc6cc07f03",
   "metadata": {},
   "outputs": [
    {
     "data": {
      "image/png": "[encoded data removed]",
      "text/plain": [
       "<Figure size 432x288 with 1 Axes>"
      ]
     },
     "metadata": {
      "needs_background": "light"
     },
     "output_type": "display_data"
    }
   ],
   "source": [
    "# Plot the model\n",
    "plt.scatter(X_rescaled[:, 0], y)\n",
    "plt.plot(X_values_rescaled[:, 0], y_values_ridge, c=\"C3\", label=\"ridge regression\")\n",
    "plt.legend()\n",
    "plt.show()"
   ]
  },
  {
   "cell_type": "markdown",
   "id": "061ce732-81af-46c2-b52d-85dc6ccbca68",
   "metadata": {},
   "source": [
    "By default, the Ridge object sets the regularization strength \n",
    "α\n",
    " to one. In our case, the curve is too rigid to model the data points, and the model is underfitting.\n",
    "\n",
    "We can decrease the constraint on the coefficients by setting a lower alpha value."
   ]
  },
  {
   "cell_type": "code",
   "execution_count": 14,
   "id": "b8993e72-95f1-4a0f-9d2d-50ea60a86ee7",
   "metadata": {},
   "outputs": [],
   "source": [
    "# Ridge regression\n",
    "ridge2 = Ridge(alpha=1e-4)\n",
    "ridge2.fit(X_rescaled, y)\n",
    "\n",
    "# Compute predictions\n",
    "y_values_ridge2 = ridge2.predict(X_values_rescaled)"
   ]
  },
  {
   "cell_type": "code",
   "execution_count": 15,
   "id": "9a794747-703d-4081-ad01-cd8680d17fd6",
   "metadata": {},
   "outputs": [
    {
     "data": {
      "image/png": "[encoded data removed]",
      "text/plain": [
       "<Figure size 432x288 with 1 Axes>"
      ]
     },
     "metadata": {
      "needs_background": "light"
     },
     "output_type": "display_data"
    }
   ],
   "source": [
    "# Plot the model\n",
    "plt.scatter(X_rescaled[:, 0], y)\n",
    "plt.plot(X_values_rescaled[:, 0], y_values_ridge2, c=\"C3\", label=\"tuned ridge\")\n",
    "plt.legend()\n",
    "plt.show()"
   ]
  },
  {
   "cell_type": "markdown",
   "id": "e7bfcdfa-3d97-48c7-99e5-8d7134f1149e",
   "metadata": {},
   "source": [
    "We can also compare the coefficients before and after adding the regularization term using the coef_ attribute."
   ]
  },
  {
   "cell_type": "code",
   "execution_count": 16,
   "id": "cedf772d-777e-4b87-8320-6a125db59099",
   "metadata": {},
   "outputs": [
    {
     "name": "stdout",
     "output_type": "stream",
     "text": [
      "x0    :        6.3\n",
      "x0^2  :     -156.5\n",
      "x0^3  :     1604.8\n",
      "x0^4  :    -8250.8\n",
      "x0^5  :    24145.5\n",
      "x0^6  :   -42951.3\n",
      "x0^7  :    47245.0\n",
      "x0^8  :   -31285.6\n",
      "x0^9  :    11373.1\n",
      "x0^10 :    -1731.0\n"
     ]
    }
   ],
   "source": [
    "# Linear regression coefficients\n",
    "features = poly_obj.get_feature_names_out()\n",
    "for feature, coef in zip(features, lr.coef_):\n",
    "    print(\"{:<6}: {:>10.1f}\".format(feature, coef))"
   ]
  },
  {
   "cell_type": "code",
   "execution_count": 17,
   "id": "1a18eee7-e6f9-4625-85b0-d436fe852302",
   "metadata": {},
   "outputs": [
    {
     "name": "stdout",
     "output_type": "stream",
     "text": [
      "x0    :  1.4\n",
      "x0^2  : -1.6\n",
      "x0^3  : -6.8\n",
      "x0^4  :  3.9\n",
      "x0^5  :  4.5\n",
      "x0^6  :  0.5\n",
      "x0^7  : -1.7\n",
      "x0^8  : -1.1\n",
      "x0^9  :  0.2\n",
      "x0^10 :  0.1\n"
     ]
    }
   ],
   "source": [
    "# Ridge regression coefficients\n",
    "for feature, coef in zip(features, ridge2.coef_):\n",
    "    print(\"{:<6}: {:>4.1f}\".format(feature, coef))"
   ]
  },
  {
   "cell_type": "markdown",
   "id": "3f33abf5-3187-4992-9071-34af67743420",
   "metadata": {},
   "source": [
    "As we can see, the coefficients are much smaller with ridge regression than with linear regression.\n",
    "\n",
    "Using the analogy from the previous unit, the coefficients of the linear regression model minimize the loss function L(w) in blue. On the other hand, the coefficients of the ridge regression model correspond to the optimal solution w*.\n"
   ]
  },
  {
   "cell_type": "code",
   "execution_count": 18,
   "id": "40268869-e41e-4769-a703-7e9e94a29658",
   "metadata": {},
   "outputs": [
    {
     "data": {
      "image/png": "[encoded data removed]",
      "text/plain": [
       "<IPython.core.display.Image object>"
      ]
     },
     "execution_count": 18,
     "metadata": {},
     "output_type": "execute_result"
    }
   ],
   "source": [
    "from IPython.display import Image\n",
    "Image(filename=\"optimal.png\")"
   ]
  },
  {
   "cell_type": "code",
   "execution_count": null,
   "id": "7414f98b-7d52-46aa-964b-9f82eaa32e38",
   "metadata": {},
   "outputs": [],
   "source": [
    "#### Lasso regressions\n",
    "One of the advantages of using Scikit-learn is that it’s easy to test different estimators. For instance, we can change the regularization to \n",
    "L\n",
    "1\n",
    " using the Lasso estimator."
   ]
  }
 ],
 "metadata": {
  "kernelspec": {
   "display_name": "Python [conda env:adsml] *",
   "language": "python",
   "name": "conda-env-adsml-py"
  },
  "language_info": {
   "codemirror_mode": {
    "name": "ipython",
    "version": 3
   },
   "file_extension": ".py",
   "mimetype": "text/x-python",
   "name": "python",
   "nbconvert_exporter": "python",
   "pygments_lexer": "ipython3",
   "version": "3.9.7"
  }
 },
 "nbformat": 4,
 "nbformat_minor": 5
}
