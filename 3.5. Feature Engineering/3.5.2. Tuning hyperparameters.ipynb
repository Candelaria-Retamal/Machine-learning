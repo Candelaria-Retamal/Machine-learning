{
 "cells": [
  {
   "cell_type": "markdown",
   "id": "b266f2b7-e1a8-48c1-987d-cc3f22dfd4e3",
   "metadata": {},
   "source": [
    "### Tuning hyperparameters with grid search\n",
    "\n",
    "In this unit, we will see how to tune the hyperparameter using a simple technique called grid search. This time, we will work with the house prices data set."
   ]
  },
  {
   "cell_type": "code",
   "execution_count": 2,
   "id": "89b4b9ff-98e5-4c50-9b02-17fafce857d4",
   "metadata": {},
   "outputs": [
    {
     "data": {
      "text/html": [
       "<div>\n",
       "<style scoped>\n",
       "    .dataframe tbody tr th:only-of-type {\n",
       "        vertical-align: middle;\n",
       "    }\n",
       "\n",
       "    .dataframe tbody tr th {\n",
       "        vertical-align: top;\n",
       "    }\n",
       "\n",
       "    .dataframe thead th {\n",
       "        text-align: right;\n",
       "    }\n",
       "</style>\n",
       "<table border=\"1\" class=\"dataframe\">\n",
       "  <thead>\n",
       "    <tr style=\"text-align: right;\">\n",
       "      <th></th>\n",
       "      <th>Order</th>\n",
       "      <th>PID</th>\n",
       "      <th>MS SubClass</th>\n",
       "      <th>MS Zoning</th>\n",
       "      <th>Lot Frontage</th>\n",
       "      <th>Lot Area</th>\n",
       "      <th>Street</th>\n",
       "      <th>Alley</th>\n",
       "      <th>Lot Shape</th>\n",
       "      <th>Land Contour</th>\n",
       "      <th>...</th>\n",
       "      <th>Pool Area</th>\n",
       "      <th>Pool QC</th>\n",
       "      <th>Fence</th>\n",
       "      <th>Misc Feature</th>\n",
       "      <th>Misc Val</th>\n",
       "      <th>Mo Sold</th>\n",
       "      <th>Yr Sold</th>\n",
       "      <th>Sale Type</th>\n",
       "      <th>Sale Condition</th>\n",
       "      <th>SalePrice</th>\n",
       "    </tr>\n",
       "  </thead>\n",
       "  <tbody>\n",
       "    <tr>\n",
       "      <th>0</th>\n",
       "      <td>484</td>\n",
       "      <td>528275070</td>\n",
       "      <td>60</td>\n",
       "      <td>RL</td>\n",
       "      <td>NaN</td>\n",
       "      <td>8795</td>\n",
       "      <td>Pave</td>\n",
       "      <td>NaN</td>\n",
       "      <td>IR1</td>\n",
       "      <td>Lvl</td>\n",
       "      <td>...</td>\n",
       "      <td>0</td>\n",
       "      <td>NaN</td>\n",
       "      <td>NaN</td>\n",
       "      <td>NaN</td>\n",
       "      <td>0</td>\n",
       "      <td>4</td>\n",
       "      <td>2009</td>\n",
       "      <td>WD</td>\n",
       "      <td>Normal</td>\n",
       "      <td>236000</td>\n",
       "    </tr>\n",
       "    <tr>\n",
       "      <th>1</th>\n",
       "      <td>2586</td>\n",
       "      <td>535305120</td>\n",
       "      <td>20</td>\n",
       "      <td>RL</td>\n",
       "      <td>75.0</td>\n",
       "      <td>10170</td>\n",
       "      <td>Pave</td>\n",
       "      <td>NaN</td>\n",
       "      <td>Reg</td>\n",
       "      <td>Lvl</td>\n",
       "      <td>...</td>\n",
       "      <td>0</td>\n",
       "      <td>NaN</td>\n",
       "      <td>NaN</td>\n",
       "      <td>NaN</td>\n",
       "      <td>0</td>\n",
       "      <td>6</td>\n",
       "      <td>2006</td>\n",
       "      <td>WD</td>\n",
       "      <td>Normal</td>\n",
       "      <td>155000</td>\n",
       "    </tr>\n",
       "    <tr>\n",
       "      <th>2</th>\n",
       "      <td>2289</td>\n",
       "      <td>923228250</td>\n",
       "      <td>160</td>\n",
       "      <td>RM</td>\n",
       "      <td>21.0</td>\n",
       "      <td>2001</td>\n",
       "      <td>Pave</td>\n",
       "      <td>NaN</td>\n",
       "      <td>Reg</td>\n",
       "      <td>Lvl</td>\n",
       "      <td>...</td>\n",
       "      <td>0</td>\n",
       "      <td>NaN</td>\n",
       "      <td>NaN</td>\n",
       "      <td>NaN</td>\n",
       "      <td>0</td>\n",
       "      <td>1</td>\n",
       "      <td>2007</td>\n",
       "      <td>WD</td>\n",
       "      <td>Normal</td>\n",
       "      <td>75000</td>\n",
       "    </tr>\n",
       "    <tr>\n",
       "      <th>3</th>\n",
       "      <td>142</td>\n",
       "      <td>535152150</td>\n",
       "      <td>20</td>\n",
       "      <td>RL</td>\n",
       "      <td>70.0</td>\n",
       "      <td>10552</td>\n",
       "      <td>Pave</td>\n",
       "      <td>NaN</td>\n",
       "      <td>IR1</td>\n",
       "      <td>Lvl</td>\n",
       "      <td>...</td>\n",
       "      <td>0</td>\n",
       "      <td>NaN</td>\n",
       "      <td>NaN</td>\n",
       "      <td>NaN</td>\n",
       "      <td>0</td>\n",
       "      <td>4</td>\n",
       "      <td>2010</td>\n",
       "      <td>WD</td>\n",
       "      <td>Normal</td>\n",
       "      <td>165500</td>\n",
       "    </tr>\n",
       "    <tr>\n",
       "      <th>4</th>\n",
       "      <td>2042</td>\n",
       "      <td>903475060</td>\n",
       "      <td>190</td>\n",
       "      <td>RM</td>\n",
       "      <td>60.0</td>\n",
       "      <td>10120</td>\n",
       "      <td>Pave</td>\n",
       "      <td>NaN</td>\n",
       "      <td>IR1</td>\n",
       "      <td>Bnk</td>\n",
       "      <td>...</td>\n",
       "      <td>0</td>\n",
       "      <td>NaN</td>\n",
       "      <td>MnPrv</td>\n",
       "      <td>NaN</td>\n",
       "      <td>0</td>\n",
       "      <td>1</td>\n",
       "      <td>2007</td>\n",
       "      <td>WD</td>\n",
       "      <td>Normal</td>\n",
       "      <td>122000</td>\n",
       "    </tr>\n",
       "  </tbody>\n",
       "</table>\n",
       "<p>5 rows × 82 columns</p>\n",
       "</div>"
      ],
      "text/plain": [
       "   Order        PID  MS SubClass MS Zoning  Lot Frontage  Lot Area Street  \\\n",
       "0    484  528275070           60        RL           NaN      8795   Pave   \n",
       "1   2586  535305120           20        RL          75.0     10170   Pave   \n",
       "2   2289  923228250          160        RM          21.0      2001   Pave   \n",
       "3    142  535152150           20        RL          70.0     10552   Pave   \n",
       "4   2042  903475060          190        RM          60.0     10120   Pave   \n",
       "\n",
       "  Alley Lot Shape Land Contour  ... Pool Area Pool QC  Fence Misc Feature  \\\n",
       "0   NaN       IR1          Lvl  ...         0     NaN    NaN          NaN   \n",
       "1   NaN       Reg          Lvl  ...         0     NaN    NaN          NaN   \n",
       "2   NaN       Reg          Lvl  ...         0     NaN    NaN          NaN   \n",
       "3   NaN       IR1          Lvl  ...         0     NaN    NaN          NaN   \n",
       "4   NaN       IR1          Bnk  ...         0     NaN  MnPrv          NaN   \n",
       "\n",
       "  Misc Val Mo Sold Yr Sold Sale Type  Sale Condition  SalePrice  \n",
       "0        0       4    2009       WD           Normal     236000  \n",
       "1        0       6    2006       WD           Normal     155000  \n",
       "2        0       1    2007       WD           Normal      75000  \n",
       "3        0       4    2010       WD           Normal     165500  \n",
       "4        0       1    2007       WD           Normal     122000  \n",
       "\n",
       "[5 rows x 82 columns]"
      ]
     },
     "execution_count": 2,
     "metadata": {},
     "output_type": "execute_result"
    }
   ],
   "source": [
    "import pandas as pd\n",
    "\n",
    "# Load the data\n",
    "data_df = pd.read_csv(\"c3_house-prices.csv\")\n",
    "data_df.head()"
   ]
  },
  {
   "cell_type": "markdown",
   "id": "a52aa1f7-69dd-406a-9e42-ba9580fa58cd",
   "metadata": {},
   "source": [
    "Let’s start by looking a the price."
   ]
  },
  {
   "cell_type": "code",
   "execution_count": 3,
   "id": "fcdb3aed-dc74-4caf-ba6d-6d575595d89f",
   "metadata": {},
   "outputs": [
    {
     "data": {
      "image/png": "[encoded data removed]",
      "text/plain": [
       "<Figure size 432x288 with 1 Axes>"
      ]
     },
     "metadata": {
      "needs_background": "light"
     },
     "output_type": "display_data"
    }
   ],
   "source": [
    "%matplotlib inline\n",
    "import matplotlib.pyplot as plt\n",
    "\n",
    "data_df.hist(column=\"SalePrice\", bins=20, grid=False, xrot=45)\n",
    "plt.show()"
   ]
  },
  {
   "cell_type": "markdown",
   "id": "a3439184-3d89-4159-bb5d-25d6f6d4146b",
   "metadata": {},
   "source": [
    "To avoid building a model that is biased toward more expensive houses, we will apply the logarithm transformation and build a model that predicts the log of the sale price.\n",
    "\n"
   ]
  },
  {
   "cell_type": "code",
   "execution_count": 4,
   "id": "4b9f9a8f-1f2d-4152-97b1-d623ef2f28c6",
   "metadata": {},
   "outputs": [
    {
     "data": {
      "image/png": "[encoded data removed]",
      "text/plain": [
       "<Figure size 432x288 with 1 Axes>"
      ]
     },
     "metadata": {
      "needs_background": "light"
     },
     "output_type": "display_data"
    }
   ],
   "source": [
    "import numpy as np\n",
    "\n",
    "plt.hist(np.log10(data_df.SalePrice), bins=20)\n",
    "plt.xlabel(\"log10(SalePrice)\")\n",
    "plt.show()"
   ]
  },
  {
   "cell_type": "markdown",
   "id": "54701e10-7908-4679-8e8b-c8bbd2c7e0a6",
   "metadata": {},
   "source": [
    "#### Preprocessing the data\n",
    "As often, the raw data isn’t ready for our machine learning algorithms. In the final project, you will work on this house prices data set and apply all the necessary data cleaning. However, for this unit, we will apply the minimal steps: encoding non-numerical entries with one-hot encoding, and replacing missing entries with the median value.\n",
    "\n",
    "Let’s create a preprocess(df) function to perform those steps."
   ]
  },
  {
   "cell_type": "code",
   "execution_count": 5,
   "id": "99056022-a0b6-4d91-ad62-cc58f0d30b91",
   "metadata": {},
   "outputs": [
    {
     "data": {
      "text/html": [
       "<div>\n",
       "<style scoped>\n",
       "    .dataframe tbody tr th:only-of-type {\n",
       "        vertical-align: middle;\n",
       "    }\n",
       "\n",
       "    .dataframe tbody tr th {\n",
       "        vertical-align: top;\n",
       "    }\n",
       "\n",
       "    .dataframe thead th {\n",
       "        text-align: right;\n",
       "    }\n",
       "</style>\n",
       "<table border=\"1\" class=\"dataframe\">\n",
       "  <thead>\n",
       "    <tr style=\"text-align: right;\">\n",
       "      <th></th>\n",
       "      <th>Order</th>\n",
       "      <th>PID</th>\n",
       "      <th>MS SubClass</th>\n",
       "      <th>Lot Frontage</th>\n",
       "      <th>Lot Area</th>\n",
       "      <th>Overall Qual</th>\n",
       "      <th>Overall Cond</th>\n",
       "      <th>Year Built</th>\n",
       "      <th>Year Remod/Add</th>\n",
       "      <th>Mas Vnr Area</th>\n",
       "      <th>...</th>\n",
       "      <th>Sale Type_VWD</th>\n",
       "      <th>Sale Type_WD</th>\n",
       "      <th>Sale Type_nan</th>\n",
       "      <th>Sale Condition_Abnorml</th>\n",
       "      <th>Sale Condition_AdjLand</th>\n",
       "      <th>Sale Condition_Alloca</th>\n",
       "      <th>Sale Condition_Family</th>\n",
       "      <th>Sale Condition_Normal</th>\n",
       "      <th>Sale Condition_Partial</th>\n",
       "      <th>Sale Condition_nan</th>\n",
       "    </tr>\n",
       "  </thead>\n",
       "  <tbody>\n",
       "    <tr>\n",
       "      <th>0</th>\n",
       "      <td>484</td>\n",
       "      <td>528275070</td>\n",
       "      <td>60</td>\n",
       "      <td>68.0</td>\n",
       "      <td>8795</td>\n",
       "      <td>7</td>\n",
       "      <td>5</td>\n",
       "      <td>2000</td>\n",
       "      <td>2000</td>\n",
       "      <td>0.0</td>\n",
       "      <td>...</td>\n",
       "      <td>0</td>\n",
       "      <td>1</td>\n",
       "      <td>0</td>\n",
       "      <td>0</td>\n",
       "      <td>0</td>\n",
       "      <td>0</td>\n",
       "      <td>0</td>\n",
       "      <td>1</td>\n",
       "      <td>0</td>\n",
       "      <td>0</td>\n",
       "    </tr>\n",
       "    <tr>\n",
       "      <th>1</th>\n",
       "      <td>2586</td>\n",
       "      <td>535305120</td>\n",
       "      <td>20</td>\n",
       "      <td>75.0</td>\n",
       "      <td>10170</td>\n",
       "      <td>6</td>\n",
       "      <td>6</td>\n",
       "      <td>1951</td>\n",
       "      <td>1951</td>\n",
       "      <td>522.0</td>\n",
       "      <td>...</td>\n",
       "      <td>0</td>\n",
       "      <td>1</td>\n",
       "      <td>0</td>\n",
       "      <td>0</td>\n",
       "      <td>0</td>\n",
       "      <td>0</td>\n",
       "      <td>0</td>\n",
       "      <td>1</td>\n",
       "      <td>0</td>\n",
       "      <td>0</td>\n",
       "    </tr>\n",
       "    <tr>\n",
       "      <th>2</th>\n",
       "      <td>2289</td>\n",
       "      <td>923228250</td>\n",
       "      <td>160</td>\n",
       "      <td>21.0</td>\n",
       "      <td>2001</td>\n",
       "      <td>4</td>\n",
       "      <td>5</td>\n",
       "      <td>1970</td>\n",
       "      <td>1970</td>\n",
       "      <td>80.0</td>\n",
       "      <td>...</td>\n",
       "      <td>0</td>\n",
       "      <td>1</td>\n",
       "      <td>0</td>\n",
       "      <td>0</td>\n",
       "      <td>0</td>\n",
       "      <td>0</td>\n",
       "      <td>0</td>\n",
       "      <td>1</td>\n",
       "      <td>0</td>\n",
       "      <td>0</td>\n",
       "    </tr>\n",
       "    <tr>\n",
       "      <th>3</th>\n",
       "      <td>142</td>\n",
       "      <td>535152150</td>\n",
       "      <td>20</td>\n",
       "      <td>70.0</td>\n",
       "      <td>10552</td>\n",
       "      <td>5</td>\n",
       "      <td>5</td>\n",
       "      <td>1959</td>\n",
       "      <td>1959</td>\n",
       "      <td>0.0</td>\n",
       "      <td>...</td>\n",
       "      <td>0</td>\n",
       "      <td>1</td>\n",
       "      <td>0</td>\n",
       "      <td>0</td>\n",
       "      <td>0</td>\n",
       "      <td>0</td>\n",
       "      <td>0</td>\n",
       "      <td>1</td>\n",
       "      <td>0</td>\n",
       "      <td>0</td>\n",
       "    </tr>\n",
       "    <tr>\n",
       "      <th>4</th>\n",
       "      <td>2042</td>\n",
       "      <td>903475060</td>\n",
       "      <td>190</td>\n",
       "      <td>60.0</td>\n",
       "      <td>10120</td>\n",
       "      <td>7</td>\n",
       "      <td>4</td>\n",
       "      <td>1910</td>\n",
       "      <td>1950</td>\n",
       "      <td>0.0</td>\n",
       "      <td>...</td>\n",
       "      <td>0</td>\n",
       "      <td>1</td>\n",
       "      <td>0</td>\n",
       "      <td>0</td>\n",
       "      <td>0</td>\n",
       "      <td>0</td>\n",
       "      <td>0</td>\n",
       "      <td>1</td>\n",
       "      <td>0</td>\n",
       "      <td>0</td>\n",
       "    </tr>\n",
       "  </tbody>\n",
       "</table>\n",
       "<p>5 rows × 348 columns</p>\n",
       "</div>"
      ],
      "text/plain": [
       "   Order        PID  MS SubClass  Lot Frontage  Lot Area  Overall Qual  \\\n",
       "0    484  528275070           60          68.0      8795             7   \n",
       "1   2586  535305120           20          75.0     10170             6   \n",
       "2   2289  923228250          160          21.0      2001             4   \n",
       "3    142  535152150           20          70.0     10552             5   \n",
       "4   2042  903475060          190          60.0     10120             7   \n",
       "\n",
       "   Overall Cond  Year Built  Year Remod/Add  Mas Vnr Area  ...  Sale Type_VWD  \\\n",
       "0             5        2000            2000           0.0  ...              0   \n",
       "1             6        1951            1951         522.0  ...              0   \n",
       "2             5        1970            1970          80.0  ...              0   \n",
       "3             5        1959            1959           0.0  ...              0   \n",
       "4             4        1910            1950           0.0  ...              0   \n",
       "\n",
       "   Sale Type_WD   Sale Type_nan  Sale Condition_Abnorml  \\\n",
       "0              1              0                       0   \n",
       "1              1              0                       0   \n",
       "2              1              0                       0   \n",
       "3              1              0                       0   \n",
       "4              1              0                       0   \n",
       "\n",
       "   Sale Condition_AdjLand  Sale Condition_Alloca  Sale Condition_Family  \\\n",
       "0                       0                      0                      0   \n",
       "1                       0                      0                      0   \n",
       "2                       0                      0                      0   \n",
       "3                       0                      0                      0   \n",
       "4                       0                      0                      0   \n",
       "\n",
       "   Sale Condition_Normal  Sale Condition_Partial  Sale Condition_nan  \n",
       "0                      1                       0                   0  \n",
       "1                      1                       0                   0  \n",
       "2                      1                       0                   0  \n",
       "3                      1                       0                   0  \n",
       "4                      1                       0                   0  \n",
       "\n",
       "[5 rows x 348 columns]"
      ]
     },
     "execution_count": 5,
     "metadata": {},
     "output_type": "execute_result"
    }
   ],
   "source": [
    "def preprocess(df):\n",
    "    # Work on a copy\n",
    "    df = df.copy()\n",
    "\n",
    "    # One-hot encoding\n",
    "    df = pd.get_dummies(df, dummy_na=True)\n",
    "\n",
    "    # Fill missing values\n",
    "    for c in df.columns:\n",
    "        df[c] = df[c].fillna(df[c].median())\n",
    "\n",
    "    return df\n",
    "\n",
    "\n",
    "preprocessed_df = preprocess(data_df)\n",
    "preprocessed_df.head()"
   ]
  },
  {
   "cell_type": "markdown",
   "id": "f1f5e740-6238-491c-ae3b-1f62ad8aefa8",
   "metadata": {},
   "source": [
    "As we can see, our preprocessed_df DataFrame contains all the numerical columns on the left and created the necessary one-hot encoded columns for non-numerical variables. The total number of feature is now 347.\n",
    "\n",
    "Before applying the model, we still need to create the X/y variables and split the data into training/validation sets."
   ]
  },
  {
   "cell_type": "code",
   "execution_count": 6,
   "id": "28202fdf-ab59-4d99-8039-cb09897167fd",
   "metadata": {},
   "outputs": [
    {
     "name": "stdout",
     "output_type": "stream",
     "text": [
      "Train: (1215, 347) (1215,)\n",
      "Validation: (1215, 347) (1215,)\n"
     ]
    }
   ],
   "source": [
    "from sklearn.model_selection import train_test_split\n",
    "\n",
    "# Create X, y\n",
    "X = preprocessed_df.drop(\"SalePrice\", axis=1).values\n",
    "y = np.log10(preprocessed_df.SalePrice).values\n",
    "\n",
    "# Split into train/validation sets\n",
    "X_tr, X_val, y_tr, y_val = train_test_split(X, y, test_size=0.5, random_state=0)\n",
    "\n",
    "print(\"Train:\", X_tr.shape, y_tr.shape)\n",
    "print(\"Validation:\", X_val.shape, y_val.shape)"
   ]
  },
  {
   "cell_type": "markdown",
   "id": "9d3210dd-6adf-40eb-9a6e-4579f6de73b1",
   "metadata": {},
   "source": [
    "The features have a different scale, so we also need to standardize them before applying ridge regression in the next part.\n",
    "\n"
   ]
  },
  {
   "cell_type": "code",
   "execution_count": 7,
   "id": "1cdedc82-1fc8-4111-a441-cb6ab1920380",
   "metadata": {},
   "outputs": [],
   "source": [
    "from sklearn.preprocessing import StandardScaler\n",
    "\n",
    "# Standardize features\n",
    "scaler = StandardScaler()\n",
    "X_tr_rescaled = scaler.fit_transform(X_tr)\n",
    "X_val_rescaled = scaler.transform(X_val)"
   ]
  },
  {
   "cell_type": "markdown",
   "id": "0fff141a-2f1e-4cc1-8907-7ceb4ee3d6ef",
   "metadata": {},
   "source": [
    "#### Linear regression\n",
    "Before using ridge regression, let’s do a quick test and fit a linear regression model.\n",
    "\n"
   ]
  },
  {
   "cell_type": "code",
   "execution_count": 8,
   "id": "b1596daf-fc09-4d19-af73-f4ed6dc505d5",
   "metadata": {},
   "outputs": [
    {
     "name": "stdout",
     "output_type": "stream",
     "text": [
      "Train MSE: 0.0014\n",
      "Validation MSE: 39882370663790403387392.0000\n"
     ]
    }
   ],
   "source": [
    "from sklearn.linear_model import LinearRegression\n",
    "from sklearn.metrics import mean_squared_error as MSE\n",
    "\n",
    "# Try with a linear regression\n",
    "lr = LinearRegression()\n",
    "lr.fit(X_tr_rescaled, y_tr)\n",
    "\n",
    "print(\"Train MSE: {:.4f}\".format(MSE(y_tr, lr.predict(X_tr_rescaled))))\n",
    "print(\"Validation MSE: {:.4f}\".format(MSE(y_val, lr.predict(X_val_rescaled))))\n"
   ]
  },
  {
   "cell_type": "markdown",
   "id": "7b855aed-5eec-4be3-88f0-fd876d440897",
   "metadata": {},
   "source": [
    "As we can see, there is an issue with the model - the validation MSE score is extremely high. If we take a look at the model coefficients, we can see that they are extremely large."
   ]
  },
  {
   "cell_type": "code",
   "execution_count": 9,
   "id": "d812c2b2-6ea0-4239-aeee-d160e8aee90a",
   "metadata": {},
   "outputs": [
    {
     "data": {
      "image/png": "[encoded data removed]",
      "text/plain": [
       "<Figure size 432x288 with 1 Axes>"
      ]
     },
     "metadata": {
      "needs_background": "light"
     },
     "output_type": "display_data"
    }
   ],
   "source": [
    "plt.hist(lr.coef_, bins=30)\n",
    "plt.xlabel(\"coefficients\")\n",
    "plt.show()"
   ]
  },
  {
   "cell_type": "markdown",
   "id": "ecceb19a-eeec-474d-a4a5-81596a5d1eb8",
   "metadata": {},
   "source": [
    "Note the 1e11 factor on the x-axis (!) The high validation score probably comes from numerical issues due to those large coefficients. Let’s try to fix the issue with regularization!\n",
    "\n",
    "Grid search\n",
    "This time, we will search for the best regularization strength using a technique called grid search. You can think of this technique as a simple exhaustive searching over a set of hyperparameters.\n",
    "\n",
    "In our case, we only have one hyperparameter: the regularization strength. So we will simply iterate over a list of alpha values and pick the one with the best validation score. However, in the next course, we will see cases where we need to tune several hyperparameters. In this case, we will generate a list of values for each one and evaluate the different combinations i.e. searching over a grid of hyperparams. As you can guess, the number of combinations to evaluate can quickly get very large. You will experiment with this issue in the next course, but you can already read about it in the Appendix at the end of this unit.\n",
    "\n",
    "Ridge regression\n",
    "Let’s first create the list of alpha values and evaluate a ridge regression model for each one. Regularization strength affects the generalization error on a log-scale. So we will use np.logspace(a, b) to generate sample alpha values i.e. instead of np.linspace(a, b).\n",
    "\n",
    "It’s frequent to start with a range between a=1e-4 and b=1e4 for this hyperparameter, but we will use a larger range this time to see the effect of regularization with very large/small values."
   ]
  },
  {
   "cell_type": "code",
   "execution_count": 10,
   "id": "a66dd320-454c-4bd2-9f31-bbc9d624853f",
   "metadata": {},
   "outputs": [],
   "source": [
    "from sklearn.linear_model import Ridge\n",
    "from sklearn.metrics import mean_absolute_error as MAE\n",
    "\n",
    "# Variable to store the results\n",
    "gs_results = []\n",
    "\n",
    "# Grid search\n",
    "for alpha in np.logspace(-4, 8, num=50):\n",
    "    # Create and fit ridge regression\n",
    "    ridge = Ridge(alpha=alpha)\n",
    "    ridge.fit(X_tr_rescaled, y_tr)\n",
    "\n",
    "    # Save model and its performance on train/validation sets\n",
    "    gs_results.append(\n",
    "        {\n",
    "            \"alpha\": alpha,\n",
    "            \"train_mse\": MSE(y_tr, ridge.predict(X_tr_rescaled)),\n",
    "            \"train_mae\": MAE(10 ** y_tr, 10 ** ridge.predict(X_tr_rescaled)),\n",
    "            \"validation_mse\": MSE(y_val, ridge.predict(X_val_rescaled)),\n",
    "            \"validation_mae\": MAE(10 ** y_val, 10 ** ridge.predict(X_val_rescaled)),\n",
    "        }\n",
    "    )"
   ]
  },
  {
   "cell_type": "markdown",
   "id": "5f10a429-3ddd-4cc0-9383-7b366e049ef0",
   "metadata": {},
   "source": [
    "Note that we raise the predictions to power 10 for the MAE metric since we want to get a score in dollars and not log-dollars - remember that our model predicts the logarithm of the sale prices base 10.\n",
    "\n",
    "Finally, we collect the results in a DataFrame and print the first five rows."
   ]
  },
  {
   "cell_type": "code",
   "execution_count": 11,
   "id": "d78e3292-da22-40c0-b129-e1fa3c4df60e",
   "metadata": {},
   "outputs": [
    {
     "data": {
      "text/html": [
       "<div>\n",
       "<style scoped>\n",
       "    .dataframe tbody tr th:only-of-type {\n",
       "        vertical-align: middle;\n",
       "    }\n",
       "\n",
       "    .dataframe tbody tr th {\n",
       "        vertical-align: top;\n",
       "    }\n",
       "\n",
       "    .dataframe thead th {\n",
       "        text-align: right;\n",
       "    }\n",
       "</style>\n",
       "<table border=\"1\" class=\"dataframe\">\n",
       "  <thead>\n",
       "    <tr style=\"text-align: right;\">\n",
       "      <th></th>\n",
       "      <th>alpha</th>\n",
       "      <th>train_mse</th>\n",
       "      <th>train_mae</th>\n",
       "      <th>validation_mse</th>\n",
       "      <th>validation_mae</th>\n",
       "    </tr>\n",
       "  </thead>\n",
       "  <tbody>\n",
       "    <tr>\n",
       "      <th>0</th>\n",
       "      <td>0.000100</td>\n",
       "      <td>0.001412</td>\n",
       "      <td>11145.427686</td>\n",
       "      <td>0.006007</td>\n",
       "      <td>17817.437628</td>\n",
       "    </tr>\n",
       "    <tr>\n",
       "      <th>1</th>\n",
       "      <td>0.000176</td>\n",
       "      <td>0.001412</td>\n",
       "      <td>11145.427755</td>\n",
       "      <td>0.006007</td>\n",
       "      <td>17817.434943</td>\n",
       "    </tr>\n",
       "    <tr>\n",
       "      <th>2</th>\n",
       "      <td>0.000309</td>\n",
       "      <td>0.001412</td>\n",
       "      <td>11145.427876</td>\n",
       "      <td>0.006007</td>\n",
       "      <td>17817.430225</td>\n",
       "    </tr>\n",
       "    <tr>\n",
       "      <th>3</th>\n",
       "      <td>0.000543</td>\n",
       "      <td>0.001412</td>\n",
       "      <td>11145.428088</td>\n",
       "      <td>0.006007</td>\n",
       "      <td>17817.421933</td>\n",
       "    </tr>\n",
       "    <tr>\n",
       "      <th>4</th>\n",
       "      <td>0.000954</td>\n",
       "      <td>0.001412</td>\n",
       "      <td>11145.428460</td>\n",
       "      <td>0.006007</td>\n",
       "      <td>17817.407358</td>\n",
       "    </tr>\n",
       "  </tbody>\n",
       "</table>\n",
       "</div>"
      ],
      "text/plain": [
       "      alpha  train_mse     train_mae  validation_mse  validation_mae\n",
       "0  0.000100   0.001412  11145.427686        0.006007    17817.437628\n",
       "1  0.000176   0.001412  11145.427755        0.006007    17817.434943\n",
       "2  0.000309   0.001412  11145.427876        0.006007    17817.430225\n",
       "3  0.000543   0.001412  11145.428088        0.006007    17817.421933\n",
       "4  0.000954   0.001412  11145.428460        0.006007    17817.407358"
      ]
     },
     "execution_count": 11,
     "metadata": {},
     "output_type": "execute_result"
    }
   ],
   "source": [
    "# Convert results to DataFrame\n",
    "gs_results = pd.DataFrame(gs_results)\n",
    "gs_results.head()\n"
   ]
  },
  {
   "cell_type": "markdown",
   "id": "7b9e90b1-c7c3-43f5-8142-a9a763940812",
   "metadata": {},
   "source": [
    "#### Validation curves\n",
    "A good way to visualize the results is by plotting the validation curves. For each alpha, we plot the train and validation scores to see which value minimizes the error.\n",
    "\n"
   ]
  },
  {
   "cell_type": "code",
   "execution_count": 12,
   "id": "6ffec001-57aa-4ddc-98b6-22b4a1324904",
   "metadata": {},
   "outputs": [
    {
     "data": {
      "image/png": "[encoded data removed]",
      "text/plain": [
       "<Figure size 432x288 with 1 Axes>"
      ]
     },
     "metadata": {
      "needs_background": "light"
     },
     "output_type": "display_data"
    }
   ],
   "source": [
    "# Plot the validation curves\n",
    "plt.semilogx(gs_results[\"alpha\"], gs_results[\"train_mse\"], label=\"train curve\")\n",
    "plt.semilogx(\n",
    "    gs_results[\"alpha\"], gs_results[\"validation_mse\"], label=\"validation curve\"\n",
    ")\n",
    "plt.xlabel(\"$log_{10}(alpha)$\")\n",
    "plt.ylabel(\"MSE\")\n",
    "plt.legend()\n",
    "plt.show()"
   ]
  },
  {
   "cell_type": "markdown",
   "id": "249fb83a-c81f-44bc-90c5-078e8819d32e",
   "metadata": {},
   "source": [
    "There are a few things to observe about this result.\n",
    "\n",
    "* The optimal range of alpha values seems to be around 10e3\n",
    "* The model starts overfitting when alpha is smaller than 10e2\n",
    "* The models starts underfitting when alpha is larger than 10e4"
   ]
  },
  {
   "cell_type": "markdown",
   "id": "d4994940-cb1f-4d00-bc0a-e7b1097b57e8",
   "metadata": {},
   "source": [
    "It’s also interesting to see that the validation score reaches a plateau with alpha values above 10e6. This is the effect of regularization: when the regularization strength is too large, the model coefficient go to zero and the model always predicts the intercept term.\n",
    "\n"
   ]
  },
  {
   "cell_type": "code",
   "execution_count": 13,
   "id": "d78f0667-33c6-4537-9d6f-3748fdf16075",
   "metadata": {},
   "outputs": [
    {
     "name": "stdout",
     "output_type": "stream",
     "text": [
      "Largest coefficient: 1.8e-08\n",
      "Intercept: 5.23\n"
     ]
    }
   ],
   "source": [
    "# Fit a model with a very strong regularization\n",
    "strong_ridge = Ridge(alpha=10 ** 10)\n",
    "strong_ridge.fit(X_tr_rescaled, y_tr)\n",
    "\n",
    "print(\"Largest coefficient: {:.1e}\".format(np.max(np.abs(strong_ridge.coef_))))\n",
    "print(\"Intercept: {:.2f}\".format(strong_ridge.intercept_))"
   ]
  },
  {
   "cell_type": "markdown",
   "id": "33864628-0c5c-4a2a-b321-909732002c61",
   "metadata": {},
   "source": [
    "Since all coefficients are close to zero, the model always predicts the intercept term - 5.23 in this case. It’s interesting to observe that this is equal to the mean - which is, as we saw in a previous unit, the constant prediction that minimizes the MSE score i.e. the mean baseline."
   ]
  },
  {
   "cell_type": "code",
   "execution_count": 14,
   "id": "2e0ddcc3-6797-4d5d-9e32-1a4766aac5e6",
   "metadata": {},
   "outputs": [
    {
     "name": "stdout",
     "output_type": "stream",
     "text": [
      "Mean target value: 5.23\n"
     ]
    }
   ],
   "source": [
    "print(\"Mean target value: {:.2f}\".format(np.mean(y_tr)))"
   ]
  },
  {
   "cell_type": "markdown",
   "id": "b4b51fc5-85cb-4441-9140-73409a552745",
   "metadata": {},
   "source": [
    "On the left part of the plot, the model also reaches a plateau which corresponds to the performance of a non-regularized model without the numerical issues that we encountered above. It’s interesting to note that a very small regularization factor can already solve those numerical issues in this case.\n",
    "\n",
    "Let’s retrieve the alpha with the best generalization i.e. the one that minimizes the validation score."
   ]
  },
  {
   "cell_type": "code",
   "execution_count": 15,
   "id": "504c6af2-2f0c-45f4-bec5-590fe56f805f",
   "metadata": {},
   "outputs": [
    {
     "name": "stdout",
     "output_type": "stream",
     "text": [
      "Best alpha: 7.2e+02\n",
      "Validation MSE: 0.0048\n",
      "Validation MAE: 15,597$\n"
     ]
    }
   ],
   "source": [
    "# Get entry with the best validation MSE\n",
    "best_result = gs_results.loc[gs_results.validation_mse.idxmin()]\n",
    "\n",
    "# Print the details\n",
    "print(\"Best alpha: {:.1e}\".format(best_result.alpha))\n",
    "print(\"Validation MSE: {:.4f}\".format(best_result.validation_mse))\n",
    "print(\"Validation MAE: {:,.0f}$\".format(best_result.validation_mae))"
   ]
  },
  {
   "cell_type": "markdown",
   "id": "8e54c3e2-4c72-4ee2-9ada-c891838b32e0",
   "metadata": {},
   "source": [
    "#### Introduction to cross-validation\n",
    "In the code from above, we found the best alpha value for a single train/validation set split. This result shouldn’t be too far from the true optimal alpha value since the train/validation scores are evaluated on a large set of data points. However, it’s often a good idea to average the scores on different train/validation splits to get more stable results. This is called cross-validation.\n",
    "\n",
    "We will learn more about the different cross-validation variants in the next course, but let’s implement our own cross-validation strategy with a simple for loop.\n",
    "\n"
   ]
  },
  {
   "cell_type": "code",
   "execution_count": 16,
   "id": "c8a3ed7b-9553-4ab9-b256-9d89d76c8b12",
   "metadata": {},
   "outputs": [],
   "source": [
    "# Fit/validate N models\n",
    "gs_results = []\n",
    "for run_idx in range(10):\n",
    "\n",
    "    # Split into train/validation sets\n",
    "    X_tr, X_val, y_tr, y_val = train_test_split(\n",
    "        X, y, test_size=0.5, random_state=run_idx\n",
    "    )\n",
    "\n",
    "    # Standardize features\n",
    "    X_tr_rescaled = scaler.fit_transform(X_tr)\n",
    "    X_val_rescaled = scaler.transform(X_val)\n",
    "\n",
    "    # Grid search\n",
    "    for alpha in np.logspace(1, 4, num=20):\n",
    "        # Create and fit ridge regression\n",
    "        ridge = Ridge(alpha=alpha)\n",
    "        ridge.fit(X_tr_rescaled, y_tr)\n",
    "\n",
    "        # Save model and its performance on train/validation sets\n",
    "        gs_results.append(\n",
    "            {\n",
    "                \"model\": ridge,\n",
    "                \"alpha\": alpha,\n",
    "                \"run_idx\": run_idx,\n",
    "                \"train_mse\": MSE(y_tr, ridge.predict(X_tr_rescaled)),\n",
    "                \"train_mae\": MAE(10 ** y_tr, 10 ** ridge.predict(X_tr_rescaled)),\n",
    "                \"validation_mse\": MSE(y_val, ridge.predict(X_val_rescaled)),\n",
    "                \"validation_mae\": MAE(10 ** y_val, 10 ** ridge.predict(X_val_rescaled)),\n",
    "            }\n",
    "        )"
   ]
  },
  {
   "cell_type": "markdown",
   "id": "265a925e-744a-41d7-b186-02423c84cdc4",
   "metadata": {},
   "source": [
    "In this code, we perform grid search on 10 different train/validation splits by changing the random_state attribute. For each different split, we standardize the data using the train mean and standard deviations.\n",
    "\n",
    "The gs_results now contains 10 times more entries than if we had used a single train/validation set split."
   ]
  },
  {
   "cell_type": "code",
   "execution_count": 17,
   "id": "bca6da0a-b45d-4848-9954-ed5af6c1d68b",
   "metadata": {},
   "outputs": [
    {
     "data": {
      "text/html": [
       "<div>\n",
       "<style scoped>\n",
       "    .dataframe tbody tr th:only-of-type {\n",
       "        vertical-align: middle;\n",
       "    }\n",
       "\n",
       "    .dataframe tbody tr th {\n",
       "        vertical-align: top;\n",
       "    }\n",
       "\n",
       "    .dataframe thead th {\n",
       "        text-align: right;\n",
       "    }\n",
       "</style>\n",
       "<table border=\"1\" class=\"dataframe\">\n",
       "  <thead>\n",
       "    <tr style=\"text-align: right;\">\n",
       "      <th></th>\n",
       "      <th>model</th>\n",
       "      <th>alpha</th>\n",
       "      <th>run_idx</th>\n",
       "      <th>train_mse</th>\n",
       "      <th>train_mae</th>\n",
       "      <th>validation_mse</th>\n",
       "      <th>validation_mae</th>\n",
       "    </tr>\n",
       "  </thead>\n",
       "  <tbody>\n",
       "    <tr>\n",
       "      <th>0</th>\n",
       "      <td>Ridge(alpha=10.0)</td>\n",
       "      <td>10.000000</td>\n",
       "      <td>0</td>\n",
       "      <td>0.001416</td>\n",
       "      <td>11151.125598</td>\n",
       "      <td>0.005898</td>\n",
       "      <td>17485.758076</td>\n",
       "    </tr>\n",
       "    <tr>\n",
       "      <th>1</th>\n",
       "      <td>Ridge(alpha=14.38449888287663)</td>\n",
       "      <td>14.384499</td>\n",
       "      <td>0</td>\n",
       "      <td>0.001419</td>\n",
       "      <td>11161.657456</td>\n",
       "      <td>0.005857</td>\n",
       "      <td>17372.165040</td>\n",
       "    </tr>\n",
       "    <tr>\n",
       "      <th>2</th>\n",
       "      <td>Ridge(alpha=20.6913808111479)</td>\n",
       "      <td>20.691381</td>\n",
       "      <td>0</td>\n",
       "      <td>0.001424</td>\n",
       "      <td>11176.962177</td>\n",
       "      <td>0.005802</td>\n",
       "      <td>17233.571836</td>\n",
       "    </tr>\n",
       "    <tr>\n",
       "      <th>3</th>\n",
       "      <td>Ridge(alpha=29.76351441631318)</td>\n",
       "      <td>29.763514</td>\n",
       "      <td>0</td>\n",
       "      <td>0.001431</td>\n",
       "      <td>11198.863815</td>\n",
       "      <td>0.005733</td>\n",
       "      <td>17067.620448</td>\n",
       "    </tr>\n",
       "    <tr>\n",
       "      <th>4</th>\n",
       "      <td>Ridge(alpha=42.81332398719393)</td>\n",
       "      <td>42.813324</td>\n",
       "      <td>0</td>\n",
       "      <td>0.001442</td>\n",
       "      <td>11233.772529</td>\n",
       "      <td>0.005647</td>\n",
       "      <td>16871.527796</td>\n",
       "    </tr>\n",
       "  </tbody>\n",
       "</table>\n",
       "</div>"
      ],
      "text/plain": [
       "                            model      alpha  run_idx  train_mse  \\\n",
       "0               Ridge(alpha=10.0)  10.000000        0   0.001416   \n",
       "1  Ridge(alpha=14.38449888287663)  14.384499        0   0.001419   \n",
       "2   Ridge(alpha=20.6913808111479)  20.691381        0   0.001424   \n",
       "3  Ridge(alpha=29.76351441631318)  29.763514        0   0.001431   \n",
       "4  Ridge(alpha=42.81332398719393)  42.813324        0   0.001442   \n",
       "\n",
       "      train_mae  validation_mse  validation_mae  \n",
       "0  11151.125598        0.005898    17485.758076  \n",
       "1  11161.657456        0.005857    17372.165040  \n",
       "2  11176.962177        0.005802    17233.571836  \n",
       "3  11198.863815        0.005733    17067.620448  \n",
       "4  11233.772529        0.005647    16871.527796  "
      ]
     },
     "execution_count": 17,
     "metadata": {},
     "output_type": "execute_result"
    }
   ],
   "source": [
    "# Convert results to DataFrame\n",
    "gs_results = pd.DataFrame(gs_results)\n",
    "gs_results.head()"
   ]
  },
  {
   "cell_type": "markdown",
   "id": "b6b4120a-0a5c-4152-a1c5-c4ba70062289",
   "metadata": {},
   "source": [
    "Let’s group the results by alpha value and compute the average scores."
   ]
  },
  {
   "cell_type": "code",
   "execution_count": 18,
   "id": "3445c297-beb6-4f22-aee0-5a8474a31b73",
   "metadata": {},
   "outputs": [
    {
     "name": "stdout",
     "output_type": "stream",
     "text": [
      "Best alpha: 5.5e+02\n",
      "Validation MSE: 0.0038\n",
      "Validation MAE: 15,700$\n"
     ]
    }
   ],
   "source": [
    "# Group results by alpha value\n",
    "gb_alpha = gs_results.groupby(\"alpha\")\n",
    "\n",
    "# Compute train/validation mean scores with std\n",
    "mean_tr = gb_alpha.train_mse.mean()\n",
    "mean_val = gb_alpha.validation_mse.mean()\n",
    "std_tr = gb_alpha.train_mse.std()\n",
    "std_val = gb_alpha.validation_mse.std()\n",
    "alphas = mean_tr.index.values\n",
    "\n",
    "# Get entry with the best mean validation MSE\n",
    "best_alpha = mean_val.idxmin()\n",
    "best_result = gb_alpha.get_group(best_alpha)\n",
    "\n",
    "# Print the details\n",
    "print(\"Best alpha: {:.1e}\".format(best_alpha))\n",
    "print(\"Validation MSE: {:.4f}\".format(best_result.validation_mse.mean()))\n",
    "print(\"Validation MAE: {:,.0f}$\".format(best_result.validation_mae.mean()))"
   ]
  },
  {
   "cell_type": "markdown",
   "id": "5b077f42-d86f-4baa-83a9-ba7e13eeaa79",
   "metadata": {},
   "source": [
    "This time, the best alpha value is 5.5e+02 with a mean validation MSE of 0.0038 and a mean validation MAE of 15,700 dollars which is not far from the values computed above.\n",
    "\n",
    "Note that we also computed the standard deviation for the different alpha values to measure how much the scores vary around the mean. We can now include this information in the plot with the validation curves."
   ]
  },
  {
   "cell_type": "code",
   "execution_count": 19,
   "id": "c53bbcfe-b168-456d-8eaf-4a9c72a584bd",
   "metadata": {},
   "outputs": [
    {
     "data": {
      "image/png": "[encoded data removed]",
      "text/plain": [
       "<Figure size 432x288 with 1 Axes>"
      ]
     },
     "metadata": {
      "needs_background": "light"
     },
     "output_type": "display_data"
    }
   ],
   "source": [
    "# Plot mean scores\n",
    "plt.plot(np.log10(alphas), mean_tr, label=\"train\")\n",
    "plt.plot(np.log10(alphas), mean_val, label=\"validation\")\n",
    "\n",
    "# Quantify variance with ±std curves\n",
    "plt.fill_between(np.log10(alphas), mean_tr - std_tr, mean_tr + std_tr, alpha=0.2)\n",
    "plt.fill_between(np.log10(alphas), mean_val - std_val, mean_val + std_val, alpha=0.2)\n",
    "\n",
    "# Add marker for best score\n",
    "plt.scatter(np.log10(best_alpha), mean_val.min(), marker=\"x\", c=\"red\", zorder=10)\n",
    "\n",
    "plt.title(\"Validation curves with {} runs\".format(len(gs_results.groupby(\"run_idx\"))))\n",
    "plt.xlabel(\"$log_{10}(alpha)$\")\n",
    "plt.ylabel(\"MSE\")\n",
    "plt.legend()\n",
    "plt.show()"
   ]
  },
  {
   "cell_type": "code",
   "execution_count": null,
   "id": "1a0576d8-0aae-4dee-bf22-e43cad8fae1b",
   "metadata": {},
   "outputs": [],
   "source": []
  }
 ],
 "metadata": {
  "kernelspec": {
   "display_name": "Python [conda env:adsml] *",
   "language": "python",
   "name": "conda-env-adsml-py"
  },
  "language_info": {
   "codemirror_mode": {
    "name": "ipython",
    "version": 3
   },
   "file_extension": ".py",
   "mimetype": "text/x-python",
   "name": "python",
   "nbconvert_exporter": "python",
   "pygments_lexer": "ipython3",
   "version": "3.9.7"
  }
 },
 "nbformat": 4,
 "nbformat_minor": 5
}
