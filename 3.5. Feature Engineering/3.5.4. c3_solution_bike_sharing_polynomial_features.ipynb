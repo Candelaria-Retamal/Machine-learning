{
 "cells": [
  {
   "cell_type": "markdown",
   "metadata": {},
   "source": [
    "Bike sharing polynomial features\n",
    "---"
   ]
  },
  {
   "cell_type": "markdown",
   "metadata": {},
   "source": [
    "Exercise - Load and split the data, set the baseline\n",
    "---\n",
    "\n",
    "> **Exercise**: Load the dataset. Encode categorical variables with one-hot encoding. Split the data into train/test sets with the `train_test_split()` function from Scikit-learn (50-50 split, `random_state=0`). Fit a linear regression and compare its performance to the median baseline using the mean absolute error (MAE) measure."
   ]
  },
  {
   "cell_type": "code",
   "execution_count": 1,
   "metadata": {},
   "outputs": [
    {
     "data": {
      "text/html": [
       "<div>\n",
       "<style scoped>\n",
       "    .dataframe tbody tr th:only-of-type {\n",
       "        vertical-align: middle;\n",
       "    }\n",
       "\n",
       "    .dataframe tbody tr th {\n",
       "        vertical-align: top;\n",
       "    }\n",
       "\n",
       "    .dataframe thead th {\n",
       "        text-align: right;\n",
       "    }\n",
       "</style>\n",
       "<table border=\"1\" class=\"dataframe\">\n",
       "  <thead>\n",
       "    <tr style=\"text-align: right;\">\n",
       "      <th></th>\n",
       "      <th>temp</th>\n",
       "      <th>hum</th>\n",
       "      <th>windspeed</th>\n",
       "      <th>yr</th>\n",
       "      <th>workingday</th>\n",
       "      <th>holiday</th>\n",
       "      <th>weekday</th>\n",
       "      <th>season</th>\n",
       "      <th>weathersit</th>\n",
       "      <th>casual</th>\n",
       "    </tr>\n",
       "  </thead>\n",
       "  <tbody>\n",
       "    <tr>\n",
       "      <th>0</th>\n",
       "      <td>0.344</td>\n",
       "      <td>0.806</td>\n",
       "      <td>0.160</td>\n",
       "      <td>2011</td>\n",
       "      <td>no</td>\n",
       "      <td>no</td>\n",
       "      <td>6</td>\n",
       "      <td>spring</td>\n",
       "      <td>cloudy</td>\n",
       "      <td>331</td>\n",
       "    </tr>\n",
       "    <tr>\n",
       "      <th>1</th>\n",
       "      <td>0.363</td>\n",
       "      <td>0.696</td>\n",
       "      <td>0.249</td>\n",
       "      <td>2011</td>\n",
       "      <td>no</td>\n",
       "      <td>no</td>\n",
       "      <td>0</td>\n",
       "      <td>spring</td>\n",
       "      <td>cloudy</td>\n",
       "      <td>131</td>\n",
       "    </tr>\n",
       "    <tr>\n",
       "      <th>2</th>\n",
       "      <td>0.196</td>\n",
       "      <td>0.437</td>\n",
       "      <td>0.248</td>\n",
       "      <td>2011</td>\n",
       "      <td>yes</td>\n",
       "      <td>no</td>\n",
       "      <td>1</td>\n",
       "      <td>spring</td>\n",
       "      <td>clear</td>\n",
       "      <td>120</td>\n",
       "    </tr>\n",
       "    <tr>\n",
       "      <th>3</th>\n",
       "      <td>0.200</td>\n",
       "      <td>0.590</td>\n",
       "      <td>0.160</td>\n",
       "      <td>2011</td>\n",
       "      <td>yes</td>\n",
       "      <td>no</td>\n",
       "      <td>2</td>\n",
       "      <td>spring</td>\n",
       "      <td>clear</td>\n",
       "      <td>108</td>\n",
       "    </tr>\n",
       "    <tr>\n",
       "      <th>4</th>\n",
       "      <td>0.227</td>\n",
       "      <td>0.437</td>\n",
       "      <td>0.187</td>\n",
       "      <td>2011</td>\n",
       "      <td>yes</td>\n",
       "      <td>no</td>\n",
       "      <td>3</td>\n",
       "      <td>spring</td>\n",
       "      <td>clear</td>\n",
       "      <td>82</td>\n",
       "    </tr>\n",
       "  </tbody>\n",
       "</table>\n",
       "</div>"
      ],
      "text/plain": [
       "    temp    hum  windspeed    yr workingday holiday  weekday  season  \\\n",
       "0  0.344  0.806      0.160  2011         no      no        6  spring   \n",
       "1  0.363  0.696      0.249  2011         no      no        0  spring   \n",
       "2  0.196  0.437      0.248  2011        yes      no        1  spring   \n",
       "3  0.200  0.590      0.160  2011        yes      no        2  spring   \n",
       "4  0.227  0.437      0.187  2011        yes      no        3  spring   \n",
       "\n",
       "  weathersit  casual  \n",
       "0     cloudy     331  \n",
       "1     cloudy     131  \n",
       "2      clear     120  \n",
       "3      clear     108  \n",
       "4      clear      82  "
      ]
     },
     "execution_count": 1,
     "metadata": {},
     "output_type": "execute_result"
    }
   ],
   "source": [
    "import pandas as pd\n",
    "import os\n",
    "\n",
    "# Load data\n",
    "data_df = pd.read_csv(\"c3_bike-sharing-data.csv\")\n",
    "data_df.head()"
   ]
  },
  {
   "cell_type": "code",
   "execution_count": 2,
   "metadata": {},
   "outputs": [
    {
     "data": {
      "text/html": [
       "<div>\n",
       "<style scoped>\n",
       "    .dataframe tbody tr th:only-of-type {\n",
       "        vertical-align: middle;\n",
       "    }\n",
       "\n",
       "    .dataframe tbody tr th {\n",
       "        vertical-align: top;\n",
       "    }\n",
       "\n",
       "    .dataframe thead th {\n",
       "        text-align: right;\n",
       "    }\n",
       "</style>\n",
       "<table border=\"1\" class=\"dataframe\">\n",
       "  <thead>\n",
       "    <tr style=\"text-align: right;\">\n",
       "      <th></th>\n",
       "      <th>temp</th>\n",
       "      <th>hum</th>\n",
       "      <th>windspeed</th>\n",
       "      <th>casual</th>\n",
       "      <th>yr_2011</th>\n",
       "      <th>yr_2012</th>\n",
       "      <th>workingday_no</th>\n",
       "      <th>workingday_yes</th>\n",
       "      <th>holiday_no</th>\n",
       "      <th>holiday_yes</th>\n",
       "      <th>...</th>\n",
       "      <th>weekday_4</th>\n",
       "      <th>weekday_5</th>\n",
       "      <th>weekday_6</th>\n",
       "      <th>season_fall</th>\n",
       "      <th>season_spring</th>\n",
       "      <th>season_summer</th>\n",
       "      <th>season_winter</th>\n",
       "      <th>weathersit_clear</th>\n",
       "      <th>weathersit_cloudy</th>\n",
       "      <th>weathersit_rainy</th>\n",
       "    </tr>\n",
       "  </thead>\n",
       "  <tbody>\n",
       "    <tr>\n",
       "      <th>0</th>\n",
       "      <td>0.344</td>\n",
       "      <td>0.806</td>\n",
       "      <td>0.160</td>\n",
       "      <td>331</td>\n",
       "      <td>1</td>\n",
       "      <td>0</td>\n",
       "      <td>1</td>\n",
       "      <td>0</td>\n",
       "      <td>1</td>\n",
       "      <td>0</td>\n",
       "      <td>...</td>\n",
       "      <td>0</td>\n",
       "      <td>0</td>\n",
       "      <td>1</td>\n",
       "      <td>0</td>\n",
       "      <td>1</td>\n",
       "      <td>0</td>\n",
       "      <td>0</td>\n",
       "      <td>0</td>\n",
       "      <td>1</td>\n",
       "      <td>0</td>\n",
       "    </tr>\n",
       "    <tr>\n",
       "      <th>1</th>\n",
       "      <td>0.363</td>\n",
       "      <td>0.696</td>\n",
       "      <td>0.249</td>\n",
       "      <td>131</td>\n",
       "      <td>1</td>\n",
       "      <td>0</td>\n",
       "      <td>1</td>\n",
       "      <td>0</td>\n",
       "      <td>1</td>\n",
       "      <td>0</td>\n",
       "      <td>...</td>\n",
       "      <td>0</td>\n",
       "      <td>0</td>\n",
       "      <td>0</td>\n",
       "      <td>0</td>\n",
       "      <td>1</td>\n",
       "      <td>0</td>\n",
       "      <td>0</td>\n",
       "      <td>0</td>\n",
       "      <td>1</td>\n",
       "      <td>0</td>\n",
       "    </tr>\n",
       "    <tr>\n",
       "      <th>2</th>\n",
       "      <td>0.196</td>\n",
       "      <td>0.437</td>\n",
       "      <td>0.248</td>\n",
       "      <td>120</td>\n",
       "      <td>1</td>\n",
       "      <td>0</td>\n",
       "      <td>0</td>\n",
       "      <td>1</td>\n",
       "      <td>1</td>\n",
       "      <td>0</td>\n",
       "      <td>...</td>\n",
       "      <td>0</td>\n",
       "      <td>0</td>\n",
       "      <td>0</td>\n",
       "      <td>0</td>\n",
       "      <td>1</td>\n",
       "      <td>0</td>\n",
       "      <td>0</td>\n",
       "      <td>1</td>\n",
       "      <td>0</td>\n",
       "      <td>0</td>\n",
       "    </tr>\n",
       "    <tr>\n",
       "      <th>3</th>\n",
       "      <td>0.200</td>\n",
       "      <td>0.590</td>\n",
       "      <td>0.160</td>\n",
       "      <td>108</td>\n",
       "      <td>1</td>\n",
       "      <td>0</td>\n",
       "      <td>0</td>\n",
       "      <td>1</td>\n",
       "      <td>1</td>\n",
       "      <td>0</td>\n",
       "      <td>...</td>\n",
       "      <td>0</td>\n",
       "      <td>0</td>\n",
       "      <td>0</td>\n",
       "      <td>0</td>\n",
       "      <td>1</td>\n",
       "      <td>0</td>\n",
       "      <td>0</td>\n",
       "      <td>1</td>\n",
       "      <td>0</td>\n",
       "      <td>0</td>\n",
       "    </tr>\n",
       "    <tr>\n",
       "      <th>4</th>\n",
       "      <td>0.227</td>\n",
       "      <td>0.437</td>\n",
       "      <td>0.187</td>\n",
       "      <td>82</td>\n",
       "      <td>1</td>\n",
       "      <td>0</td>\n",
       "      <td>0</td>\n",
       "      <td>1</td>\n",
       "      <td>1</td>\n",
       "      <td>0</td>\n",
       "      <td>...</td>\n",
       "      <td>0</td>\n",
       "      <td>0</td>\n",
       "      <td>0</td>\n",
       "      <td>0</td>\n",
       "      <td>1</td>\n",
       "      <td>0</td>\n",
       "      <td>0</td>\n",
       "      <td>1</td>\n",
       "      <td>0</td>\n",
       "      <td>0</td>\n",
       "    </tr>\n",
       "  </tbody>\n",
       "</table>\n",
       "<p>5 rows × 24 columns</p>\n",
       "</div>"
      ],
      "text/plain": [
       "    temp    hum  windspeed  casual  yr_2011  yr_2012  workingday_no  \\\n",
       "0  0.344  0.806      0.160     331        1        0              1   \n",
       "1  0.363  0.696      0.249     131        1        0              1   \n",
       "2  0.196  0.437      0.248     120        1        0              0   \n",
       "3  0.200  0.590      0.160     108        1        0              0   \n",
       "4  0.227  0.437      0.187      82        1        0              0   \n",
       "\n",
       "   workingday_yes  holiday_no  holiday_yes  ...  weekday_4  weekday_5  \\\n",
       "0               0           1            0  ...          0          0   \n",
       "1               0           1            0  ...          0          0   \n",
       "2               1           1            0  ...          0          0   \n",
       "3               1           1            0  ...          0          0   \n",
       "4               1           1            0  ...          0          0   \n",
       "\n",
       "   weekday_6  season_fall  season_spring  season_summer  season_winter  \\\n",
       "0          1            0              1              0              0   \n",
       "1          0            0              1              0              0   \n",
       "2          0            0              1              0              0   \n",
       "3          0            0              1              0              0   \n",
       "4          0            0              1              0              0   \n",
       "\n",
       "   weathersit_clear  weathersit_cloudy  weathersit_rainy  \n",
       "0                 0                  1                 0  \n",
       "1                 0                  1                 0  \n",
       "2                 1                  0                 0  \n",
       "3                 1                  0                 0  \n",
       "4                 1                  0                 0  \n",
       "\n",
       "[5 rows x 24 columns]"
      ]
     },
     "execution_count": 2,
     "metadata": {},
     "output_type": "execute_result"
    }
   ],
   "source": [
    "# One-hot encoding\n",
    "encoded_df = pd.get_dummies(\n",
    "    data_df, columns=[\"yr\", \"workingday\", \"holiday\", \"weekday\", \"season\", \"weathersit\"]\n",
    ")\n",
    "encoded_df.head()"
   ]
  },
  {
   "cell_type": "code",
   "execution_count": 3,
   "metadata": {},
   "outputs": [
    {
     "name": "stdout",
     "output_type": "stream",
     "text": [
      "Train DataFrame: (365, 24)\n",
      "Test DataFrame: (366, 24)\n"
     ]
    }
   ],
   "source": [
    "from sklearn.model_selection import train_test_split\n",
    "\n",
    "# Split into train/test sets\n",
    "train_df, test_df = train_test_split(\n",
    "    encoded_df, train_size=0.5, test_size=0.5, random_state=0\n",
    ")\n",
    "\n",
    "print(\"Train DataFrame:\", train_df.shape)\n",
    "print(\"Test DataFrame:\", test_df.shape)"
   ]
  },
  {
   "cell_type": "code",
   "execution_count": 4,
   "metadata": {},
   "outputs": [],
   "source": [
    "# Create X/y variables\n",
    "X_tr = train_df.drop(\"casual\", axis=1).values\n",
    "y_tr = train_df.casual.values\n",
    "\n",
    "X_te = test_df.drop(\"casual\", axis=1).values\n",
    "y_te = test_df.casual.values"
   ]
  },
  {
   "cell_type": "code",
   "execution_count": 5,
   "metadata": {},
   "outputs": [],
   "source": [
    "import numpy as np\n",
    "\n",
    "# Mean absolute error (MAE)\n",
    "def MAE(y, y_pred):\n",
    "    return np.mean(np.abs(y - y_pred))"
   ]
  },
  {
   "cell_type": "code",
   "execution_count": 6,
   "metadata": {},
   "outputs": [],
   "source": [
    "from sklearn.linear_model import LinearRegression, Ridge\n",
    "\n",
    "# Function to fit the model\n",
    "def fit_model(X_train, y_train, X_test):\n",
    "    # Create the model\n",
    "    # Note: Using ridge with a small alpha to avoid ill-conditioning issues\n",
    "    model = Ridge(alpha=1e-4)  # or LinearRegression()\n",
    "\n",
    "    # Fit it to train data\n",
    "    model.fit(X_train, y_train)\n",
    "\n",
    "    # Compute predictions for test set\n",
    "    y_pred = np.maximum(model.predict(X_test), 50)  # set a lower limit\n",
    "\n",
    "    return y_pred"
   ]
  },
  {
   "cell_type": "code",
   "execution_count": 7,
   "metadata": {},
   "outputs": [
    {
     "name": "stdout",
     "output_type": "stream",
     "text": [
      "MAE baseline: 503.574\n",
      "MAE linear regression: 246.866\n"
     ]
    }
   ],
   "source": [
    "# Median baseline\n",
    "mae_baseline = MAE(y_te, np.median(y_tr))\n",
    "\n",
    "# Linear regression\n",
    "y_pred = fit_model(X_tr, y_tr, X_te)\n",
    "mae_lr = MAE(y_te, y_pred)\n",
    "\n",
    "print(\"MAE baseline: {:.3f}\".format(mae_baseline))\n",
    "print(\"MAE linear regression: {:.3f}\".format(mae_lr))"
   ]
  },
  {
   "cell_type": "markdown",
   "metadata": {},
   "source": [
    "Exercise - Add polynomial features\n",
    "---\n",
    "\n",
    "> **Exercise**: Add the `temp^2` and `temp^3` polynomial features. Then fit and evaluate a linear regression. Plot your model with a scatter plot of temperatures vs. number of users. Feel free to add other features."
   ]
  },
  {
   "cell_type": "code",
   "execution_count": 8,
   "metadata": {},
   "outputs": [],
   "source": [
    "# Function to add features\n",
    "def create_features(df):\n",
    "    temp = df.temp.values\n",
    "    others = df.drop([\"temp\", \"casual\"], axis=1).values\n",
    "    return np.c_[temp, temp ** 2, temp ** 3, others]"
   ]
  },
  {
   "cell_type": "code",
   "execution_count": 9,
   "metadata": {},
   "outputs": [
    {
     "name": "stdout",
     "output_type": "stream",
     "text": [
      "MAE lr with new features: 224.400\n"
     ]
    }
   ],
   "source": [
    "# Create new input matrices\n",
    "X_tr2 = create_features(train_df)\n",
    "X_te2 = create_features(test_df)\n",
    "\n",
    "# Fit a linear regression\n",
    "y_pred_lr = fit_model(X_tr2, y_tr, X_te2)\n",
    "mae_lr2 = MAE(y_te, y_pred_lr)\n",
    "print(\"MAE lr with new features: {:.3f}\".format(mae_lr2))"
   ]
  },
  {
   "cell_type": "code",
   "execution_count": 10,
   "metadata": {},
   "outputs": [
    {
     "data": {
      "image/png": "[encoded data removed]",
      "text/plain": [
       "<Figure size 432x288 with 1 Axes>"
      ]
     },
     "metadata": {
      "needs_background": "light"
     },
     "output_type": "display_data"
    }
   ],
   "source": [
    "# Plot predictions\n",
    "%matplotlib inline\n",
    "import matplotlib.pyplot as plt\n",
    "\n",
    "plt.scatter(test_df.temp, test_df.casual, s=10, label=\"test points\")\n",
    "plt.scatter(test_df.temp, y_pred_lr, s=10, label=\"lr with new features\")\n",
    "plt.legend()\n",
    "plt.show()"
   ]
  },
  {
   "cell_type": "markdown",
   "metadata": {},
   "source": [
    "Exercise - Separate sources\n",
    "---\n",
    "\n",
    "In the last exercise, we saw that we can identify two sources in the data.\n",
    "\n",
    "1. Data points collected during working days\n",
    "1. Data points collected during non-working days\n",
    "\n",
    "The goal of this exercise is to create a model for each source using your extended set of features, e.g., the original features plus the `temp^2`, `temp^3` polynomial features.\n",
    "\n",
    "> **Exercise**: Create a model for each source with the extended set of features, and evaluate the overall performance on the test set using MAE. Plot the two models with a scatter plot of temperatures vs. number of users. Create a final comparison using a bar chart."
   ]
  },
  {
   "cell_type": "code",
   "execution_count": 11,
   "metadata": {},
   "outputs": [],
   "source": [
    "# Split data into working days (wd) and non-working days (nwd)\n",
    "train_df_wd = train_df[train_df.workingday_yes == 1]\n",
    "train_df_nwd = train_df[train_df.workingday_yes == 0]\n",
    "\n",
    "test_df_wd = test_df[test_df.workingday_yes == 1]\n",
    "test_df_nwd = test_df[test_df.workingday_yes == 0]"
   ]
  },
  {
   "cell_type": "code",
   "execution_count": 12,
   "metadata": {},
   "outputs": [
    {
     "name": "stdout",
     "output_type": "stream",
     "text": [
      "MAE two sources: 178.718\n"
     ]
    }
   ],
   "source": [
    "# Fit two linear regressions\n",
    "y_pred_wd = fit_model(\n",
    "    create_features(train_df_wd), train_df_wd.casual, create_features(test_df_wd)\n",
    ")\n",
    "y_pred_nwd = fit_model(\n",
    "    create_features(train_df_nwd), train_df_nwd.casual, create_features(test_df_nwd)\n",
    ")\n",
    "\n",
    "# Reassemble predictions\n",
    "y_pred_wdnwd = np.concatenate([y_pred_wd, y_pred_nwd])\n",
    "y_te_wdnwd = np.concatenate([test_df_wd.casual, test_df_nwd.casual])\n",
    "\n",
    "# Compute MAE\n",
    "mae_wdnwd = MAE(y_te_wdnwd, y_pred_wdnwd)\n",
    "print(\"MAE two sources: {:.3f}\".format(mae_wdnwd))"
   ]
  },
  {
   "cell_type": "code",
   "execution_count": 13,
   "metadata": {},
   "outputs": [
    {
     "data": {
      "image/png": "[encoded data removed]",
      "text/plain": [
       "<Figure size 432x288 with 1 Axes>"
      ]
     },
     "metadata": {
      "needs_background": "light"
     },
     "output_type": "display_data"
    }
   ],
   "source": [
    "# Plot predictions\n",
    "temp_te_wdnwd = np.concatenate([test_df_wd.temp, test_df_nwd.temp])\n",
    "plt.scatter(temp_te_wdnwd, y_te_wdnwd, s=10, label=\"test points\")\n",
    "plt.scatter(test_df_wd.temp, y_pred_wd, s=10, label=\"working day model\")\n",
    "plt.scatter(test_df_nwd.temp, y_pred_nwd, s=10, label=\"non-working day model\")\n",
    "\n",
    "plt.legend()\n",
    "plt.show()"
   ]
  },
  {
   "cell_type": "code",
   "execution_count": 14,
   "metadata": {},
   "outputs": [
    {
     "data": {
      "image/png": "[encoded data removed]",
      "text/plain": [
       "<Figure size 432x288 with 1 Axes>"
      ]
     },
     "metadata": {
      "needs_background": "light"
     },
     "output_type": "display_data"
    }
   ],
   "source": [
    "# Final comparison\n",
    "mae_values = [mae_baseline, mae_lr, mae_lr2, mae_wdnwd]\n",
    "titles = [\"median\", \"lr\", \"lr new features\", \"two models\"]\n",
    "\n",
    "plt.bar(titles, mae_values)\n",
    "\n",
    "plt.ylabel(\"MAE\")\n",
    "plt.show()"
   ]
  }
 ],
 "metadata": {
  "kernelspec": {
   "display_name": "Python 3 (ipykernel)",
   "language": "python",
   "name": "python3"
  },
  "language_info": {
   "codemirror_mode": {
    "name": "ipython",
    "version": 3
   },
   "file_extension": ".py",
   "mimetype": "text/x-python",
   "name": "python",
   "nbconvert_exporter": "python",
   "pygments_lexer": "ipython3",
   "version": "3.9.7"
  }
 },
 "nbformat": 4,
 "nbformat_minor": 4
}
