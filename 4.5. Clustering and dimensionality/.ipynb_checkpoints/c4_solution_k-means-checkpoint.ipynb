{
 "cells": [
  {
   "cell_type": "markdown",
   "metadata": {},
   "source": [
    "The k-means algorithm\n",
    "---"
   ]
  },
  {
   "cell_type": "markdown",
   "metadata": {},
   "source": [
    "Exercise - Chigago gambling crimes\n",
    "---\n",
    "\n",
    "The city of Chicago disposes of 8 police patrols to fight gambling crimes. They want to assign each patrol to an area of Chicago where there is historically a lot of gambling crimes.\n",
    "\n",
    "> **Exercise**: Load the gambling crimes data. Create an `X` array with the `Longitude` and the `Latitude` variables (drop the other ones). Create a map of the gambling crimes using these two variables. Find eight centers of gamblings crimes using *k*-means. Plot each cluster with a different color and mark their centers (the centroids)."
   ]
  },
  {
   "cell_type": "code",
   "execution_count": null,
   "metadata": {},
   "outputs": [],
   "source": [
    "import pandas as pd\n",
    "import os\n",
    "\n",
    "# Load data\n",
    "data_df = pd.read_csv(\"c4_chicago-crimes.csv\")\n",
    "\n",
    "# Print shape\n",
    "print(\"Shape:\", data_df.shape)\n",
    "\n",
    "# First five rows\n",
    "data_df.head()"
   ]
  },
  {
   "cell_type": "code",
   "execution_count": null,
   "metadata": {},
   "outputs": [],
   "source": [
    "import numpy as np\n",
    "\n",
    "# Create X matrix\n",
    "longitude = data_df[\"Longitude\"].values\n",
    "latitude = data_df[\"Latitude\"].values\n",
    "X = np.c_[longitude, latitude]"
   ]
  },
  {
   "cell_type": "code",
   "execution_count": null,
   "metadata": {},
   "outputs": [],
   "source": [
    "%matplotlib inline\n",
    "import matplotlib.pyplot as plt\n",
    "from sklearn.cluster import KMeans\n",
    "\n",
    "# Create k-means object\n",
    "kmeans = KMeans(n_clusters=8, random_state=0)\n",
    "\n",
    "# Compute k-means\n",
    "kmeans.fit(X)\n",
    "\n",
    "# Create figure\n",
    "plt.figure(figsize=(10, 10))  # figure 10 by 10 inches\n",
    "\n",
    "# Same scale for the x- and y-axis\n",
    "plt.gca().set_aspect(\"equal\", adjustable=\"box\")\n",
    "\n",
    "# Plot each cluster\n",
    "for cluster in range(kmeans.n_clusters):\n",
    "    # Get points in this cluster\n",
    "    idx = kmeans.labels_ == cluster\n",
    "    x1, x2 = X[idx, 0], X[idx, 1]\n",
    "\n",
    "    # Plot points\n",
    "    plt.scatter(x1, x2, s=10, label=\"cluster {}\".format(cluster))\n",
    "\n",
    "    # Plot centroid\n",
    "    centroid = kmeans.cluster_centers_[cluster]\n",
    "    plt.plot(centroid[0], centroid[1], marker=\"*\", color=\"black\", markersize=18)\n",
    "\n",
    "# Add labels\n",
    "plt.legend(markerscale=2)  # larger (x2) markers\n",
    "plt.xlabel(\"Longitude\")\n",
    "plt.ylabel(\"Latitude\")\n",
    "plt.show()"
   ]
  },
  {
   "cell_type": "markdown",
   "metadata": {},
   "source": [
    "Challenge - Image compression\n",
    "---\n",
    "\n",
    "> **Exercise**: Load the `pepper.jpg` image. Apply *k*-means to the image pixels to extract a palette of 3, 5 or 10 colors. Then re-draw the image using this new palette."
   ]
  },
  {
   "cell_type": "code",
   "execution_count": null,
   "metadata": {},
   "outputs": [],
   "source": [
    "from PIL import Image\n",
    "\n",
    "# Load the image using PIL\n",
    "pillow_img = Image.open(\"c4_pepper.jpg\")\n",
    "\n",
    "# Display image\n",
    "pillow_img"
   ]
  },
  {
   "cell_type": "code",
   "execution_count": null,
   "metadata": {},
   "outputs": [],
   "source": [
    "# Convert image into Numpy array\n",
    "img = np.array(pillow_img)\n",
    "\n",
    "# Create matrix of pixels\n",
    "X = img.reshape(-1, 3)  # Size (n, 3) where n is the number of pixels\n",
    "\n",
    "# Apply k-means\n",
    "kmeans = KMeans(n_clusters=5, random_state=0)\n",
    "kmeans.fit(X, y=None)\n",
    "\n",
    "# Get the array of centroids (the new color palette)\n",
    "palette = kmeans.cluster_centers_\n",
    "\n",
    "# Get labels of each pixel\n",
    "labels = kmeans.labels_\n",
    "\n",
    "# Get new colors from our color palette\n",
    "new_pixels = palette[labels]\n",
    "\n",
    "# Reshape array of pixels\n",
    "new_img = new_pixels.reshape(img.shape)\n",
    "\n",
    "# Show image\n",
    "plt.imshow(new_img / 255)  # Imshow expects pixels between 0 and 1 when dtype is float!\n",
    "plt.show()"
   ]
  }
 ],
 "metadata": {
  "kernelspec": {
   "display_name": "Python 3",
   "language": "python",
   "name": "python3"
  },
  "language_info": {
   "codemirror_mode": {
    "name": "ipython",
    "version": 3
   },
   "file_extension": ".py",
   "mimetype": "text/x-python",
   "name": "python",
   "nbconvert_exporter": "python",
   "pygments_lexer": "ipython3",
   "version": "3.9.2"
  }
 },
 "nbformat": 4,
 "nbformat_minor": 2
}
