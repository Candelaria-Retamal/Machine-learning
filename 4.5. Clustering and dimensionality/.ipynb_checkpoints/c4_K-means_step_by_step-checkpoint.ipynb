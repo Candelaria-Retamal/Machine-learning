{
 "cells": [
  {
   "cell_type": "markdown",
   "metadata": {},
   "source": [
    "Generate clusters\n",
    "---"
   ]
  },
  {
   "cell_type": "code",
   "execution_count": null,
   "metadata": {},
   "outputs": [],
   "source": [
    "from sklearn.datasets import make_blobs\n",
    "\n",
    "# Generate data\n",
    "X, y = make_blobs(\n",
    "    n_samples=150, centers=3, n_features=2, cluster_std=0.5, random_state=0)\n",
    "\n",
    "print('X (features):', X.shape)\n",
    "print('y (true labels):', y.shape)"
   ]
  },
  {
   "cell_type": "markdown",
   "metadata": {},
   "source": [
    "Plotting function\n",
    "---"
   ]
  },
  {
   "cell_type": "code",
   "execution_count": null,
   "metadata": {},
   "outputs": [],
   "source": [
    "%matplotlib inline\n",
    "import matplotlib.pyplot as plt\n",
    "import numpy as np\n",
    "\n",
    "# Plot data\n",
    "def plot(ax, X, y, centroids=None, title=None):\n",
    "    \n",
    "    # Plot each cluster\n",
    "    for cluster in np.unique(y):\n",
    "        # Find points in this cluster\n",
    "        idx = (y == cluster)\n",
    "\n",
    "        # Plot these points\n",
    "        ax.scatter(X[idx, 0], X[idx, 1], label='cluster {}'.format(cluster))\n",
    "        \n",
    "    # Plot centroids\n",
    "    if centroids is not None:\n",
    "        for centroid in centroids:\n",
    "            ax.plot(centroid[0], centroid[1], marker='*', color='black', markersize=16)\n",
    "        \n",
    "    # Add legend, labels\n",
    "    if title is not None:\n",
    "        ax.set_title(title)\n",
    "    ax.set_xlabel('feature 1')\n",
    "    ax.set_ylabel('feature 2')\n",
    "    ax.set_aspect('equal', adjustable='box')\n",
    "    ax.legend(frameon=True, facecolor='white', loc='lower left')\n",
    "    plt.show()"
   ]
  },
  {
   "cell_type": "code",
   "execution_count": null,
   "metadata": {},
   "outputs": [],
   "source": [
    "# Plot ground truth\n",
    "fig = plt.figure()\n",
    "plot(fig.gca(), X, y)"
   ]
  },
  {
   "cell_type": "markdown",
   "metadata": {},
   "source": [
    "K-means algorithm (step by step)\n",
    "---"
   ]
  },
  {
   "cell_type": "code",
   "execution_count": null,
   "metadata": {},
   "outputs": [],
   "source": [
    "# Set k\n",
    "k = 3"
   ]
  },
  {
   "cell_type": "code",
   "execution_count": null,
   "metadata": {},
   "outputs": [],
   "source": [
    "# Function to get initial centroids\n",
    "def init_cluster(X):\n",
    "    centroids_idx = np.random.choice(len(X), size=k, replace=False)\n",
    "    centroids = X[centroids_idx]\n",
    "    return centroids"
   ]
  },
  {
   "cell_type": "code",
   "execution_count": null,
   "metadata": {},
   "outputs": [],
   "source": [
    "# Assign points to the closest centroid\n",
    "def get_clusters(centroids):\n",
    "    # Distance from each centroid to each point\n",
    "    distances = []\n",
    "    for i in range(k):\n",
    "        # Get centroid\n",
    "        centroid = centroids[i]\n",
    "        \n",
    "        # |point - centroid|^2\n",
    "        distance = np.sum(np.square(X - centroids[i]), axis=1)\n",
    "        distances.append(distance)\n",
    "    distances = np.array(distances).T\n",
    "    \n",
    "    # Assign points to closest centroid\n",
    "    clusters = distances.argmin(axis=1)\n",
    "    return clusters"
   ]
  },
  {
   "cell_type": "code",
   "execution_count": null,
   "metadata": {},
   "outputs": [],
   "source": [
    "# Compute new centroids\n",
    "def get_centroids(X, clusters):\n",
    "    new_centroids = []\n",
    "\n",
    "    for i in range(k):\n",
    "        # Points in the cluster\n",
    "        points_idx = (clusters == i)\n",
    "\n",
    "        # Compute center of the cluster\n",
    "        center = np.mean(X[points_idx], axis=0)\n",
    "        new_centroids.append(center)\n",
    "\n",
    "    return new_centroids"
   ]
  },
  {
   "cell_type": "code",
   "execution_count": null,
   "metadata": {},
   "outputs": [],
   "source": [
    "# Set random state\n",
    "np.random.seed(7)\n",
    "    \n",
    "# Generate centroids\n",
    "centroids = init_cluster(X)\n",
    "clusters = np.full_like(y, fill_value=1)\n",
    "\n",
    "# Plot initial centroids\n",
    "fig = plt.figure()\n",
    "plot(fig.gca(), X, clusters, centroids, title='initialize centroids')\n",
    "\n",
    "# k-means step by step\n",
    "n_steps = 4\n",
    "\n",
    "for i in range(1, n_steps+1):\n",
    "    # Print step number\n",
    "    print('Step:', i)\n",
    "    \n",
    "    # Match points to closest centroid\n",
    "    clusters = get_clusters(centroids)\n",
    "    fig = plt.figure()\n",
    "    plot(fig.gca(), X, clusters, centroids, title='iteration {} - matching'.format(i))\n",
    "    \n",
    "    # Compute new centroids\n",
    "    centroids = get_centroids(X, clusters)\n",
    "    fig = plt.figure()\n",
    "    plot(fig.gca(), X, clusters, centroids, title='iteration {} - recentering'.format(i))"
   ]
  },
  {
   "cell_type": "code",
   "execution_count": null,
   "metadata": {},
   "outputs": [],
   "source": []
  }
 ],
 "metadata": {
  "kernelspec": {
   "display_name": "Python 3",
   "language": "python",
   "name": "python3"
  },
  "language_info": {
   "codemirror_mode": {
    "name": "ipython",
    "version": 3
   },
   "file_extension": ".py",
   "mimetype": "text/x-python",
   "name": "python",
   "nbconvert_exporter": "python",
   "pygments_lexer": "ipython3",
   "version": "3.9.6"
  }
 },
 "nbformat": 4,
 "nbformat_minor": 4
}
