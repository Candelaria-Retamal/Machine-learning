{
 "cells": [
  {
   "cell_type": "markdown",
   "metadata": {},
   "source": [
    "Visualize MNIST with PCA\n",
    "---"
   ]
  },
  {
   "cell_type": "markdown",
   "metadata": {},
   "source": [
    "Solution - Load data\n",
    "---\n",
    "\n",
    "> **Exercise**: Load the ten thousand images and their labels from `c4_mnist-10k.npz`."
   ]
  },
  {
   "cell_type": "code",
   "execution_count": null,
   "metadata": {},
   "outputs": [],
   "source": [
    "import numpy as np\n",
    "import os\n",
    "\n",
    "# Load data\n",
    "with np.load(\"c4_mnist-10k.npz\") as npz_file:\n",
    "    X = npz_file[\"data\"]\n",
    "    y = npz_file[\"labels\"]\n",
    "\n",
    "print(\"X:\", X.shape, X.dtype)\n",
    "print(\"y:\", y.shape, y.dtype)"
   ]
  },
  {
   "cell_type": "markdown",
   "metadata": {},
   "source": [
    "Solution - Visualize digits on a 2d plot\n",
    "---\n",
    "\n",
    "> **Exercise**: Compute the first two principal components using all the images and then plot a subset of the database using them, e.g., 500 images."
   ]
  },
  {
   "cell_type": "code",
   "execution_count": null,
   "metadata": {},
   "outputs": [],
   "source": [
    "from sklearn.decomposition import PCA\n",
    "\n",
    "# Compute first two principal components\n",
    "pca = PCA(n_components=2)\n",
    "pca.fit(X)"
   ]
  },
  {
   "cell_type": "code",
   "execution_count": null,
   "metadata": {},
   "outputs": [],
   "source": [
    "%matplotlib inline\n",
    "#%config InlineBackend.figure_format ='retina' # For retina screens (mac)\n",
    "import matplotlib.pyplot as plt\n",
    "\n",
    "# Compute component scores of 500 images\n",
    "digits_components = pca.transform(X[:500])\n",
    "digits_label = y[:500]\n",
    "\n",
    "# Group images by digit\n",
    "for label in range(10):  # 0,1,2,3..9\n",
    "    # Images of this digit\n",
    "    idx = digits_label == label\n",
    "\n",
    "    # Plot images\n",
    "    plt.scatter(\n",
    "        digits_components[idx, 0],\n",
    "        digits_components[idx, 1],\n",
    "        # Use digits as markers\n",
    "        # Take a look at https://stackoverflow.com/a/17291915/3890306\n",
    "        marker=\"${}$\".format(label),\n",
    "        s=100,  # Size of each marker\n",
    "    )\n",
    "\n",
    "# Add legend and labels\n",
    "plt.xlabel(\"1st component\")\n",
    "plt.ylabel(\"2nd component\")\n",
    "plt.show()"
   ]
  }
 ],
 "metadata": {
  "anaconda-cloud": {},
  "kernelspec": {
   "display_name": "Python 3",
   "language": "python",
   "name": "python3"
  },
  "language_info": {
   "codemirror_mode": {
    "name": "ipython",
    "version": 3
   },
   "file_extension": ".py",
   "mimetype": "text/x-python",
   "name": "python",
   "nbconvert_exporter": "python",
   "pygments_lexer": "ipython3",
   "version": "3.9.2"
  }
 },
 "nbformat": 4,
 "nbformat_minor": 2
}
