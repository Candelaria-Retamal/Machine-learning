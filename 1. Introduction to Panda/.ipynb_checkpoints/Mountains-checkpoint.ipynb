{
 "cells": [
  {
   "cell_type": "markdown",
   "id": "b4aa1c17-6163-4bfe-8470-89e81f8121a8",
   "metadata": {},
   "source": [
    "# Mountains Data Set\n",
    "###### **10.01.20222**\n",
    "## Table of contents\n",
    "<a id=\"Table\"></a>\n",
    "### [Which are the most difficult mountains to climb?](#Difficult)\n",
    "### [Which are the most popular years for climbing?](#Popular)\n",
    "### [Are the taller mountains more difficult to climb?](#Taller)\n",
    "### [Which mountain ranges contain the highest mountains?](#Ranges)\n",
    "### [Are mountains over 8000m more popular for climbing?](#Over8000)\n"
   ]
  },
  {
   "cell_type": "markdown",
   "id": "a94ca396-0ac3-4035-8fba-a2d43c074df7",
   "metadata": {},
   "source": [
    "<a id=\"Taller\"></a>\n",
    "### [Return to the table of contents](#Table)\n",
    "<a id=\"Over8000\"></a>\n",
    "### [Return to the table of contents](#Table)\n",
    "<a id=\"Ranges\"></a>\n",
    "### [Return to the table of contents](#Table)"
   ]
  },
  {
   "cell_type": "markdown",
   "id": "6cb941ec-c2a5-4675-8e2f-9750cfb6476d",
   "metadata": {},
   "source": [
    "Opening and reading the data base is a relevant first step. For visualizing the data the command df is introduced. df.head(5) makes it possible to see only the first 5 rows in the csv file. To get some quick information about our data we can use the DataFrame method info(). With this infomration you may know the number of columns and rows, the type of the object in each column and the number of cellls that lack of information per column.\n",
    "Finally the method df.describe() can be very useful in terms of having a quick snapshot of the main statistics."
   ]
  },
  {
   "cell_type": "code",
   "execution_count": 1,
   "id": "1362726d-ea16-4411-9f93-15884e98b482",
   "metadata": {},
   "outputs": [
    {
     "data": {
      "text/plain": [
       "<bound method NDFrame.describe of      Rank                                  Mountain  Height (m)  Height (ft)  \\\n",
       "0       1  Mount Everest / Sagarmatha / Chomolungma        8848        29029   \n",
       "1       2                K2 / Qogir / Godwin Austen        8611        28251   \n",
       "2       3                             Kangchenjunga        8586        28169   \n",
       "3       4                                    Lhotse        8516        27940   \n",
       "4       5                                    Makalu        8485        27838   \n",
       "..    ...                                       ...         ...          ...   \n",
       "113   105              Noijin Kangsang / Norin Kang        7206        23642   \n",
       "114   106                               Langtang Ri        7205        23638   \n",
       "115   107                              Kangphu Kang        7204        23635   \n",
       "116   108                             Singhi Kangri        7202        23629   \n",
       "117   109                               Lupghar Sar        7200        23622   \n",
       "\n",
       "     Prominence (m)                   Range              Coordinates  \\\n",
       "0              8848     Mahalangur Himalaya  27°59′17″N 86°55′31″E﻿    \n",
       "1              4017       Baltoro Karakoram  35°52′53″N 76°30′48″E﻿    \n",
       "2              3922  Kangchenjunga Himalaya  27°42′12″N 88°08′51″E﻿    \n",
       "3               610     Mahalangur Himalaya  27°57′42″N 86°55′59″E﻿    \n",
       "4              2386     Mahalangur Himalaya  27°53′23″N 87°05′20″E﻿    \n",
       "..              ...                     ...                      ...   \n",
       "113            2160        Nagarze Himalaya  28°56′48″N 90°10′42″E﻿    \n",
       "114             650       Langtang Himalaya  28°22′53″N 85°41′01″E﻿    \n",
       "115            1200         Lunana Himalaya  28°09′20″N 90°03′48″E﻿    \n",
       "116             790       Siachen Karakoram  35°35′59″N 76°59′01″E﻿    \n",
       "117             730        Hispar Karakoram  36°21′01″N 75°02′13″E﻿    \n",
       "\n",
       "      Parent mountain First ascent Ascents bef. 2004  \\\n",
       "0                 NaN         1953            >>145    \n",
       "1       Mount Everest         1954                45   \n",
       "2       Mount Everest         1955                38   \n",
       "3       Mount Everest         1956                26   \n",
       "4       Mount Everest         1955                45   \n",
       "..                ...          ...               ...   \n",
       "113   Gangkar Puensum         1986                 4   \n",
       "114     Shisha Pangma         1981                 4   \n",
       "115     Tongshanjiabu         2002                 1   \n",
       "116  Teram Kangri III         1976                 2   \n",
       "117        Momhil Sar         1979                 1   \n",
       "\n",
       "     Failed attempts bef. 2004  \n",
       "0                        121.0  \n",
       "1                         44.0  \n",
       "2                         24.0  \n",
       "3                         26.0  \n",
       "4                         52.0  \n",
       "..                         ...  \n",
       "113                        1.0  \n",
       "114                        0.0  \n",
       "115                        0.0  \n",
       "116                        0.0  \n",
       "117                        0.0  \n",
       "\n",
       "[118 rows x 11 columns]>"
      ]
     },
     "execution_count": 1,
     "metadata": {},
     "output_type": "execute_result"
    }
   ],
   "source": [
    "import pandas as pd\n",
    "df= pd.read_csv(\"c1_mountains.csv\") \n",
    "df.head(5)\n",
    "df.info\n",
    "df.describe"
   ]
  },
  {
   "cell_type": "markdown",
   "id": "5485f9ee-28bb-4dd7-a68f-27c35c77c06d",
   "metadata": {},
   "source": [
    "For this application we would like to make the first column show the name of the mountain. In the default form, the first column has been indexed starting from 0, but this is useless for this application.The method used is called df.set_index(). The first parameter is the name of the column, but the second parameter \"inplace\" accepts booleans and its default value is always false. Through the True boolean the changes are applied directly to the original object."
   ]
  },
  {
   "cell_type": "code",
   "execution_count": 2,
   "id": "c560109a-0786-434d-b355-183e45a10147",
   "metadata": {},
   "outputs": [
    {
     "data": {
      "text/html": [
       "<div>\n",
       "<style scoped>\n",
       "    .dataframe tbody tr th:only-of-type {\n",
       "        vertical-align: middle;\n",
       "    }\n",
       "\n",
       "    .dataframe tbody tr th {\n",
       "        vertical-align: top;\n",
       "    }\n",
       "\n",
       "    .dataframe thead th {\n",
       "        text-align: right;\n",
       "    }\n",
       "</style>\n",
       "<table border=\"1\" class=\"dataframe\">\n",
       "  <thead>\n",
       "    <tr style=\"text-align: right;\">\n",
       "      <th></th>\n",
       "      <th>Rank</th>\n",
       "      <th>Height (m)</th>\n",
       "      <th>Height (ft)</th>\n",
       "      <th>Prominence (m)</th>\n",
       "      <th>Range</th>\n",
       "      <th>Coordinates</th>\n",
       "      <th>Parent mountain</th>\n",
       "      <th>First ascent</th>\n",
       "      <th>Ascents bef. 2004</th>\n",
       "      <th>Failed attempts bef. 2004</th>\n",
       "    </tr>\n",
       "    <tr>\n",
       "      <th>Mountain</th>\n",
       "      <th></th>\n",
       "      <th></th>\n",
       "      <th></th>\n",
       "      <th></th>\n",
       "      <th></th>\n",
       "      <th></th>\n",
       "      <th></th>\n",
       "      <th></th>\n",
       "      <th></th>\n",
       "      <th></th>\n",
       "    </tr>\n",
       "  </thead>\n",
       "  <tbody>\n",
       "    <tr>\n",
       "      <th>Mount Everest / Sagarmatha / Chomolungma</th>\n",
       "      <td>1</td>\n",
       "      <td>8848</td>\n",
       "      <td>29029</td>\n",
       "      <td>8848</td>\n",
       "      <td>Mahalangur Himalaya</td>\n",
       "      <td>27°59′17″N 86°55′31″E﻿</td>\n",
       "      <td>NaN</td>\n",
       "      <td>1953</td>\n",
       "      <td>&gt;&gt;145</td>\n",
       "      <td>121.0</td>\n",
       "    </tr>\n",
       "    <tr>\n",
       "      <th>K2 / Qogir / Godwin Austen</th>\n",
       "      <td>2</td>\n",
       "      <td>8611</td>\n",
       "      <td>28251</td>\n",
       "      <td>4017</td>\n",
       "      <td>Baltoro Karakoram</td>\n",
       "      <td>35°52′53″N 76°30′48″E﻿</td>\n",
       "      <td>Mount Everest</td>\n",
       "      <td>1954</td>\n",
       "      <td>45</td>\n",
       "      <td>44.0</td>\n",
       "    </tr>\n",
       "    <tr>\n",
       "      <th>Kangchenjunga</th>\n",
       "      <td>3</td>\n",
       "      <td>8586</td>\n",
       "      <td>28169</td>\n",
       "      <td>3922</td>\n",
       "      <td>Kangchenjunga Himalaya</td>\n",
       "      <td>27°42′12″N 88°08′51″E﻿</td>\n",
       "      <td>Mount Everest</td>\n",
       "      <td>1955</td>\n",
       "      <td>38</td>\n",
       "      <td>24.0</td>\n",
       "    </tr>\n",
       "    <tr>\n",
       "      <th>Lhotse</th>\n",
       "      <td>4</td>\n",
       "      <td>8516</td>\n",
       "      <td>27940</td>\n",
       "      <td>610</td>\n",
       "      <td>Mahalangur Himalaya</td>\n",
       "      <td>27°57′42″N 86°55′59″E﻿</td>\n",
       "      <td>Mount Everest</td>\n",
       "      <td>1956</td>\n",
       "      <td>26</td>\n",
       "      <td>26.0</td>\n",
       "    </tr>\n",
       "    <tr>\n",
       "      <th>Makalu</th>\n",
       "      <td>5</td>\n",
       "      <td>8485</td>\n",
       "      <td>27838</td>\n",
       "      <td>2386</td>\n",
       "      <td>Mahalangur Himalaya</td>\n",
       "      <td>27°53′23″N 87°05′20″E﻿</td>\n",
       "      <td>Mount Everest</td>\n",
       "      <td>1955</td>\n",
       "      <td>45</td>\n",
       "      <td>52.0</td>\n",
       "    </tr>\n",
       "  </tbody>\n",
       "</table>\n",
       "</div>"
      ],
      "text/plain": [
       "                                          Rank  Height (m)  Height (ft)  \\\n",
       "Mountain                                                                  \n",
       "Mount Everest / Sagarmatha / Chomolungma     1        8848        29029   \n",
       "K2 / Qogir / Godwin Austen                   2        8611        28251   \n",
       "Kangchenjunga                                3        8586        28169   \n",
       "Lhotse                                       4        8516        27940   \n",
       "Makalu                                       5        8485        27838   \n",
       "\n",
       "                                          Prominence (m)  \\\n",
       "Mountain                                                   \n",
       "Mount Everest / Sagarmatha / Chomolungma            8848   \n",
       "K2 / Qogir / Godwin Austen                          4017   \n",
       "Kangchenjunga                                       3922   \n",
       "Lhotse                                               610   \n",
       "Makalu                                              2386   \n",
       "\n",
       "                                                           Range  \\\n",
       "Mountain                                                           \n",
       "Mount Everest / Sagarmatha / Chomolungma     Mahalangur Himalaya   \n",
       "K2 / Qogir / Godwin Austen                     Baltoro Karakoram   \n",
       "Kangchenjunga                             Kangchenjunga Himalaya   \n",
       "Lhotse                                       Mahalangur Himalaya   \n",
       "Makalu                                       Mahalangur Himalaya   \n",
       "\n",
       "                                                      Coordinates  \\\n",
       "Mountain                                                            \n",
       "Mount Everest / Sagarmatha / Chomolungma  27°59′17″N 86°55′31″E﻿    \n",
       "K2 / Qogir / Godwin Austen                35°52′53″N 76°30′48″E﻿    \n",
       "Kangchenjunga                             27°42′12″N 88°08′51″E﻿    \n",
       "Lhotse                                    27°57′42″N 86°55′59″E﻿    \n",
       "Makalu                                    27°53′23″N 87°05′20″E﻿    \n",
       "\n",
       "                                         Parent mountain First ascent  \\\n",
       "Mountain                                                                \n",
       "Mount Everest / Sagarmatha / Chomolungma             NaN         1953   \n",
       "K2 / Qogir / Godwin Austen                 Mount Everest         1954   \n",
       "Kangchenjunga                              Mount Everest         1955   \n",
       "Lhotse                                     Mount Everest         1956   \n",
       "Makalu                                     Mount Everest         1955   \n",
       "\n",
       "                                         Ascents bef. 2004  \\\n",
       "Mountain                                                     \n",
       "Mount Everest / Sagarmatha / Chomolungma            >>145    \n",
       "K2 / Qogir / Godwin Austen                              45   \n",
       "Kangchenjunga                                           38   \n",
       "Lhotse                                                  26   \n",
       "Makalu                                                  45   \n",
       "\n",
       "                                          Failed attempts bef. 2004  \n",
       "Mountain                                                             \n",
       "Mount Everest / Sagarmatha / Chomolungma                      121.0  \n",
       "K2 / Qogir / Godwin Austen                                     44.0  \n",
       "Kangchenjunga                                                  24.0  \n",
       "Lhotse                                                         26.0  \n",
       "Makalu                                                         52.0  "
      ]
     },
     "execution_count": 2,
     "metadata": {},
     "output_type": "execute_result"
    }
   ],
   "source": [
    "df.set_index(\"Mountain\", inplace=True)\n",
    "df.head()"
   ]
  },
  {
   "cell_type": "markdown",
   "id": "8f47561a-ebb5-44d2-bb4b-61d5eea21c63",
   "metadata": {},
   "source": [
    "Another important step is deciding what part of the data we plan to use. If we only want to focus in some entries we can eliminate rows and columns that are not useful. For dropping columns the command **df.drop([names of columns],axis=1, inplace=True)** can be used. For dropping rows the same technique is applied, but the axis must be changed from 1 to 0. **df.drop([names of rows],axis=0, inplace=True)**"
   ]
  },
  {
   "cell_type": "code",
   "execution_count": 3,
   "id": "eaa89c3d-7532-4ac8-bbd5-4317cb023f11",
   "metadata": {},
   "outputs": [
    {
     "data": {
      "text/html": [
       "<div>\n",
       "<style scoped>\n",
       "    .dataframe tbody tr th:only-of-type {\n",
       "        vertical-align: middle;\n",
       "    }\n",
       "\n",
       "    .dataframe tbody tr th {\n",
       "        vertical-align: top;\n",
       "    }\n",
       "\n",
       "    .dataframe thead th {\n",
       "        text-align: right;\n",
       "    }\n",
       "</style>\n",
       "<table border=\"1\" class=\"dataframe\">\n",
       "  <thead>\n",
       "    <tr style=\"text-align: right;\">\n",
       "      <th></th>\n",
       "      <th>Height (m)</th>\n",
       "      <th>Prominence (m)</th>\n",
       "      <th>Range</th>\n",
       "      <th>First ascent</th>\n",
       "      <th>Ascents bef. 2004</th>\n",
       "      <th>Failed attempts bef. 2004</th>\n",
       "    </tr>\n",
       "    <tr>\n",
       "      <th>Mountain</th>\n",
       "      <th></th>\n",
       "      <th></th>\n",
       "      <th></th>\n",
       "      <th></th>\n",
       "      <th></th>\n",
       "      <th></th>\n",
       "    </tr>\n",
       "  </thead>\n",
       "  <tbody>\n",
       "    <tr>\n",
       "      <th>K2 / Qogir / Godwin Austen</th>\n",
       "      <td>8611</td>\n",
       "      <td>4017</td>\n",
       "      <td>Baltoro Karakoram</td>\n",
       "      <td>1954</td>\n",
       "      <td>45</td>\n",
       "      <td>44.0</td>\n",
       "    </tr>\n",
       "    <tr>\n",
       "      <th>Kangchenjunga</th>\n",
       "      <td>8586</td>\n",
       "      <td>3922</td>\n",
       "      <td>Kangchenjunga Himalaya</td>\n",
       "      <td>1955</td>\n",
       "      <td>38</td>\n",
       "      <td>24.0</td>\n",
       "    </tr>\n",
       "    <tr>\n",
       "      <th>Lhotse</th>\n",
       "      <td>8516</td>\n",
       "      <td>610</td>\n",
       "      <td>Mahalangur Himalaya</td>\n",
       "      <td>1956</td>\n",
       "      <td>26</td>\n",
       "      <td>26.0</td>\n",
       "    </tr>\n",
       "    <tr>\n",
       "      <th>Makalu</th>\n",
       "      <td>8485</td>\n",
       "      <td>2386</td>\n",
       "      <td>Mahalangur Himalaya</td>\n",
       "      <td>1955</td>\n",
       "      <td>45</td>\n",
       "      <td>52.0</td>\n",
       "    </tr>\n",
       "    <tr>\n",
       "      <th>Cho Oyu</th>\n",
       "      <td>8188</td>\n",
       "      <td>2340</td>\n",
       "      <td>Mahalangur Himalaya</td>\n",
       "      <td>1954</td>\n",
       "      <td>79</td>\n",
       "      <td>28.0</td>\n",
       "    </tr>\n",
       "  </tbody>\n",
       "</table>\n",
       "</div>"
      ],
      "text/plain": [
       "                            Height (m)  Prominence (m)  \\\n",
       "Mountain                                                 \n",
       "K2 / Qogir / Godwin Austen        8611            4017   \n",
       "Kangchenjunga                     8586            3922   \n",
       "Lhotse                            8516             610   \n",
       "Makalu                            8485            2386   \n",
       "Cho Oyu                           8188            2340   \n",
       "\n",
       "                                             Range First ascent  \\\n",
       "Mountain                                                          \n",
       "K2 / Qogir / Godwin Austen       Baltoro Karakoram         1954   \n",
       "Kangchenjunga               Kangchenjunga Himalaya         1955   \n",
       "Lhotse                         Mahalangur Himalaya         1956   \n",
       "Makalu                         Mahalangur Himalaya         1955   \n",
       "Cho Oyu                        Mahalangur Himalaya         1954   \n",
       "\n",
       "                           Ascents bef. 2004  Failed attempts bef. 2004  \n",
       "Mountain                                                                 \n",
       "K2 / Qogir / Godwin Austen                45                       44.0  \n",
       "Kangchenjunga                             38                       24.0  \n",
       "Lhotse                                    26                       26.0  \n",
       "Makalu                                    45                       52.0  \n",
       "Cho Oyu                                   79                       28.0  "
      ]
     },
     "execution_count": 3,
     "metadata": {},
     "output_type": "execute_result"
    }
   ],
   "source": [
    "df.drop([\"Rank\", \"Height (ft)\", \"Coordinates\", \"Parent mountain\"], axis=1, inplace=True)\n",
    "df.drop(\n",
    "    [\"Mount Everest / Sagarmatha / Chomolungma\", \"Muztagh Ata\"], axis=0, inplace=True\n",
    ")\n",
    "\n",
    "df.head()"
   ]
  },
  {
   "cell_type": "markdown",
   "id": "0442ba4f-bb70-440e-89e7-ab63f511706d",
   "metadata": {},
   "source": [
    "For selecting entries based on boolean conditions we will first separate the climbed mountains from the unclimbed mountains. The df[df[]=] takes the true values from the boolean in the intern brackets and returns the rows of the DF that correspond to True values."
   ]
  },
  {
   "cell_type": "code",
   "execution_count": 4,
   "id": "f20d5485-5008-47ba-a0c5-e320f710fe9f",
   "metadata": {},
   "outputs": [
    {
     "data": {
      "text/html": [
       "<div>\n",
       "<style scoped>\n",
       "    .dataframe tbody tr th:only-of-type {\n",
       "        vertical-align: middle;\n",
       "    }\n",
       "\n",
       "    .dataframe tbody tr th {\n",
       "        vertical-align: top;\n",
       "    }\n",
       "\n",
       "    .dataframe thead th {\n",
       "        text-align: right;\n",
       "    }\n",
       "</style>\n",
       "<table border=\"1\" class=\"dataframe\">\n",
       "  <thead>\n",
       "    <tr style=\"text-align: right;\">\n",
       "      <th></th>\n",
       "      <th>Height (m)</th>\n",
       "      <th>Prominence (m)</th>\n",
       "      <th>Range</th>\n",
       "      <th>First ascent</th>\n",
       "      <th>Ascents bef. 2004</th>\n",
       "      <th>Failed attempts bef. 2004</th>\n",
       "    </tr>\n",
       "    <tr>\n",
       "      <th>Mountain</th>\n",
       "      <th></th>\n",
       "      <th></th>\n",
       "      <th></th>\n",
       "      <th></th>\n",
       "      <th></th>\n",
       "      <th></th>\n",
       "    </tr>\n",
       "  </thead>\n",
       "  <tbody>\n",
       "    <tr>\n",
       "      <th>Gangkhar Puensum</th>\n",
       "      <td>7570</td>\n",
       "      <td>2995</td>\n",
       "      <td>Kula Kangri Himalaya</td>\n",
       "      <td>unclimbed</td>\n",
       "      <td>0</td>\n",
       "      <td>3.0</td>\n",
       "    </tr>\n",
       "    <tr>\n",
       "      <th>Labuche Kang III / East</th>\n",
       "      <td>7250</td>\n",
       "      <td>570</td>\n",
       "      <td>Labuche Himalaya</td>\n",
       "      <td>unclimbed</td>\n",
       "      <td>0</td>\n",
       "      <td>0.0</td>\n",
       "    </tr>\n",
       "    <tr>\n",
       "      <th>Karjiang</th>\n",
       "      <td>7221</td>\n",
       "      <td>880</td>\n",
       "      <td>Kula Kangri Himalaya</td>\n",
       "      <td>unclimbed</td>\n",
       "      <td>0</td>\n",
       "      <td>2.0</td>\n",
       "    </tr>\n",
       "    <tr>\n",
       "      <th>Tongshanjiabu</th>\n",
       "      <td>7207</td>\n",
       "      <td>1757</td>\n",
       "      <td>Lunana Himalaya</td>\n",
       "      <td>unclimbed</td>\n",
       "      <td>0</td>\n",
       "      <td>0.0</td>\n",
       "    </tr>\n",
       "  </tbody>\n",
       "</table>\n",
       "</div>"
      ],
      "text/plain": [
       "                         Height (m)  Prominence (m)                 Range  \\\n",
       "Mountain                                                                    \n",
       "Gangkhar Puensum               7570            2995  Kula Kangri Himalaya   \n",
       "Labuche Kang III / East        7250             570      Labuche Himalaya   \n",
       "Karjiang                       7221             880  Kula Kangri Himalaya   \n",
       "Tongshanjiabu                  7207            1757       Lunana Himalaya   \n",
       "\n",
       "                        First ascent Ascents bef. 2004  \\\n",
       "Mountain                                                 \n",
       "Gangkhar Puensum           unclimbed                 0   \n",
       "Labuche Kang III / East    unclimbed                 0   \n",
       "Karjiang                   unclimbed                 0   \n",
       "Tongshanjiabu              unclimbed                 0   \n",
       "\n",
       "                         Failed attempts bef. 2004  \n",
       "Mountain                                            \n",
       "Gangkhar Puensum                               3.0  \n",
       "Labuche Kang III / East                        0.0  \n",
       "Karjiang                                       2.0  \n",
       "Tongshanjiabu                                  0.0  "
      ]
     },
     "execution_count": 4,
     "metadata": {},
     "output_type": "execute_result"
    }
   ],
   "source": [
    "df[df[\"First ascent\"] == \"unclimbed\"]"
   ]
  },
  {
   "cell_type": "markdown",
   "id": "ae57792f-74f6-4746-af58-e4ff1e04fba6",
   "metadata": {},
   "source": [
    "The coding line on top gives a list with all the unclimbed mountains. As we are interested in the climbed ones the code is slightly modified. Additionally, the copy method is highly reccomended at the moment of selecting a subset of the DF and reassigning it to the same or a new variable."
   ]
  },
  {
   "cell_type": "code",
   "execution_count": 5,
   "id": "83c0d028-9652-4c41-bd55-8a0787a81691",
   "metadata": {},
   "outputs": [],
   "source": [
    "df=df[df[\"First ascent\"]!=\"unclimbed\"].copy()"
   ]
  },
  {
   "cell_type": "markdown",
   "id": "d26533b2-f866-48a5-a488-966d00cfb685",
   "metadata": {},
   "source": [
    "If we wanted to filter the mountains that are higher than 8000m the new command would be the same as the last one, but with a boolean \"Height (m)\"> 8000"
   ]
  },
  {
   "cell_type": "markdown",
   "id": "30e80b8c-b3dc-402d-a683-7daef260591f",
   "metadata": {},
   "source": [
    "Dropping null values is another useful tool. With the info() method we already saw that part of the information contained in the columns was null. For handling this information a posibbility could be:"
   ]
  },
  {
   "cell_type": "code",
   "execution_count": 6,
   "id": "f8ff7454-6b25-45e2-adc2-b5d2229d846b",
   "metadata": {},
   "outputs": [],
   "source": [
    "df.dropna(inplace=True)"
   ]
  },
  {
   "cell_type": "code",
   "execution_count": 7,
   "id": "c89d0301-f247-4a6f-a2a2-8e187a8f667c",
   "metadata": {},
   "outputs": [
    {
     "name": "stdout",
     "output_type": "stream",
     "text": [
      "<class 'pandas.core.frame.DataFrame'>\n",
      "Index: 110 entries, K2 / Qogir / Godwin Austen to Lupghar Sar\n",
      "Data columns (total 6 columns):\n",
      " #   Column                     Non-Null Count  Dtype  \n",
      "---  ------                     --------------  -----  \n",
      " 0   Height (m)                 110 non-null    int64  \n",
      " 1   Prominence (m)             110 non-null    int64  \n",
      " 2   Range                      110 non-null    object \n",
      " 3   First ascent               110 non-null    object \n",
      " 4   Ascents bef. 2004          110 non-null    object \n",
      " 5   Failed attempts bef. 2004  110 non-null    float64\n",
      "dtypes: float64(1), int64(2), object(3)\n",
      "memory usage: 6.0+ KB\n"
     ]
    }
   ],
   "source": [
    "df.info()"
   ]
  },
  {
   "cell_type": "markdown",
   "id": "6df2ad7e-669a-4709-97f9-04eed0744359",
   "metadata": {},
   "source": [
    "Finally, fixing data types may be appliable for making all of the variables of the same sort or type. In the information above we can see that part of the information is of the type object. This is done by panda when the null data is erased. A good strategy would be incorporating the method astype()."
   ]
  },
  {
   "cell_type": "code",
   "execution_count": 8,
   "id": "3b532fda-8e0b-4539-ad86-ac9682dc5222",
   "metadata": {},
   "outputs": [],
   "source": [
    "df[\"First ascent\"] = df[\"First ascent\"].astype(int)\n",
    "df[\"Ascents bef. 2004\"] = df[\"Ascents bef. 2004\"].astype(int)\n",
    "df[\"Failed attempts bef. 2004\"] = df[\"Failed attempts bef. 2004\"].astype(int)"
   ]
  },
  {
   "cell_type": "markdown",
   "id": "f26cbc7e-7dbb-46b8-8c9a-a15f62a9b150",
   "metadata": {},
   "source": [
    "If the info is checked again we will see that the column Range is still of the type object, because it contains strings that correspond to mountain ranges. For saving the cleaned data in a fresh CSV the following code may be used."
   ]
  },
  {
   "cell_type": "code",
   "execution_count": 9,
   "id": "bcea8a84-a0b5-4082-83f1-43c2d818b53c",
   "metadata": {},
   "outputs": [],
   "source": [
    "new_filename = \"Mountains_Cleaned.csv\"\n",
    "df.to_csv(new_filename, encoding=\"utf-8\")"
   ]
  },
  {
   "cell_type": "markdown",
   "id": "3c71aab7-b783-4afc-8a99-4cceb0ae80bf",
   "metadata": {},
   "source": [
    "For defining new variables (For example total attempts as the sum of achieved and failed). The idea is to make the code to create a new column named as the new variable. The same could be done for success rate and difficulty variables."
   ]
  },
  {
   "cell_type": "code",
   "execution_count": 10,
   "id": "080f8b19-d000-467b-9bbd-7431cc36e6da",
   "metadata": {},
   "outputs": [],
   "source": [
    "df[\"Total attempts\"] = df[\"Ascents bef. 2004\"] + df[\"Failed attempts bef. 2004\"]"
   ]
  },
  {
   "cell_type": "markdown",
   "id": "2af19133-ecea-4bc9-8da5-f246106fb02c",
   "metadata": {},
   "source": [
    "<a id=\"Difficult\"></a>\n",
    "#### **Wich are the most difficult mountains to climb?**\n",
    "Lets calculate Difficulty. This value will come from the success rate and will be defined as the total attempts over the success rate times 100.  This new column will be useful for responding to the first question. "
   ]
  },
  {
   "cell_type": "code",
   "execution_count": 11,
   "id": "b42155b9-4a81-46c6-80c7-0a5f8c9c2ed9",
   "metadata": {},
   "outputs": [],
   "source": [
    "df[\"Success rate\"] = (df[\"Ascents bef. 2004\"] / df[\"Total attempts\"]) * 100\n",
    "df[\"Difficulty\"] = (df[\"Total attempts\"] / df[\"Success rate\"]) * 100"
   ]
  },
  {
   "cell_type": "markdown",
   "id": "3f1774cf-a0fa-4221-a6ef-2137153aee53",
   "metadata": {},
   "source": [
    "Normalizing the values will make them llie between 0 and 1 for easier analysis. For making this we just divide all of the values by the maximum one. The normalized difficulty can be coded as:"
   ]
  },
  {
   "cell_type": "code",
   "execution_count": 12,
   "id": "2d41c6d7-4c98-47fa-9756-d8db30ba60bd",
   "metadata": {},
   "outputs": [],
   "source": [
    "df[\"Difficulty\"] = df[\"Difficulty\"] / df[\"Difficulty\"].max()"
   ]
  },
  {
   "cell_type": "markdown",
   "id": "9b0fa417-7d23-4033-a68a-b7a54c715181",
   "metadata": {},
   "source": [
    "Finally, the rows can be sorted for showing the information in a descending or ascending order. "
   ]
  },
  {
   "cell_type": "code",
   "execution_count": 13,
   "id": "eef55a5c-bb78-4881-93fd-b72c8f4e9ea1",
   "metadata": {},
   "outputs": [],
   "source": [
    "df = df.sort_values(by=\"Difficulty\", ascending=False)"
   ]
  },
  {
   "cell_type": "code",
   "execution_count": 14,
   "id": "b344470f-f24f-489c-a3e7-58aa5161fb1b",
   "metadata": {},
   "outputs": [
    {
     "data": {
      "text/html": [
       "<div>\n",
       "<style scoped>\n",
       "    .dataframe tbody tr th:only-of-type {\n",
       "        vertical-align: middle;\n",
       "    }\n",
       "\n",
       "    .dataframe tbody tr th {\n",
       "        vertical-align: top;\n",
       "    }\n",
       "\n",
       "    .dataframe thead th {\n",
       "        text-align: right;\n",
       "    }\n",
       "</style>\n",
       "<table border=\"1\" class=\"dataframe\">\n",
       "  <thead>\n",
       "    <tr style=\"text-align: right;\">\n",
       "      <th></th>\n",
       "      <th>Height (m)</th>\n",
       "      <th>Prominence (m)</th>\n",
       "      <th>Range</th>\n",
       "      <th>First ascent</th>\n",
       "      <th>Ascents bef. 2004</th>\n",
       "      <th>Failed attempts bef. 2004</th>\n",
       "      <th>Total attempts</th>\n",
       "      <th>Success rate</th>\n",
       "      <th>Difficulty</th>\n",
       "    </tr>\n",
       "    <tr>\n",
       "      <th>Mountain</th>\n",
       "      <th></th>\n",
       "      <th></th>\n",
       "      <th></th>\n",
       "      <th></th>\n",
       "      <th></th>\n",
       "      <th></th>\n",
       "      <th></th>\n",
       "      <th></th>\n",
       "      <th></th>\n",
       "    </tr>\n",
       "  </thead>\n",
       "  <tbody>\n",
       "    <tr>\n",
       "      <th>Nanga Parbat</th>\n",
       "      <td>8126</td>\n",
       "      <td>4608</td>\n",
       "      <td>Nanga Parbat Himalaya</td>\n",
       "      <td>1953</td>\n",
       "      <td>52</td>\n",
       "      <td>67</td>\n",
       "      <td>119</td>\n",
       "      <td>43.697479</td>\n",
       "      <td>1.000000</td>\n",
       "    </tr>\n",
       "    <tr>\n",
       "      <th>Makalu</th>\n",
       "      <td>8485</td>\n",
       "      <td>2386</td>\n",
       "      <td>Mahalangur Himalaya</td>\n",
       "      <td>1955</td>\n",
       "      <td>45</td>\n",
       "      <td>52</td>\n",
       "      <td>97</td>\n",
       "      <td>46.391753</td>\n",
       "      <td>0.767786</td>\n",
       "    </tr>\n",
       "    <tr>\n",
       "      <th>Annapurna I</th>\n",
       "      <td>8091</td>\n",
       "      <td>2984</td>\n",
       "      <td>Annapurna Himalaya</td>\n",
       "      <td>1950</td>\n",
       "      <td>36</td>\n",
       "      <td>47</td>\n",
       "      <td>83</td>\n",
       "      <td>43.373494</td>\n",
       "      <td>0.702689</td>\n",
       "    </tr>\n",
       "    <tr>\n",
       "      <th>Manaslu</th>\n",
       "      <td>8163</td>\n",
       "      <td>3092</td>\n",
       "      <td>Manaslu Himalaya</td>\n",
       "      <td>1956</td>\n",
       "      <td>49</td>\n",
       "      <td>45</td>\n",
       "      <td>94</td>\n",
       "      <td>52.127660</td>\n",
       "      <td>0.662169</td>\n",
       "    </tr>\n",
       "    <tr>\n",
       "      <th>K2 / Qogir / Godwin Austen</th>\n",
       "      <td>8611</td>\n",
       "      <td>4017</td>\n",
       "      <td>Baltoro Karakoram</td>\n",
       "      <td>1954</td>\n",
       "      <td>45</td>\n",
       "      <td>44</td>\n",
       "      <td>89</td>\n",
       "      <td>50.561798</td>\n",
       "      <td>0.646364</td>\n",
       "    </tr>\n",
       "    <tr>\n",
       "      <th>Dhaulagiri I</th>\n",
       "      <td>8167</td>\n",
       "      <td>3357</td>\n",
       "      <td>Dhaulagiri Himalaya</td>\n",
       "      <td>1960</td>\n",
       "      <td>51</td>\n",
       "      <td>39</td>\n",
       "      <td>90</td>\n",
       "      <td>56.666667</td>\n",
       "      <td>0.583209</td>\n",
       "    </tr>\n",
       "    <tr>\n",
       "      <th>Cho Oyu</th>\n",
       "      <td>8188</td>\n",
       "      <td>2340</td>\n",
       "      <td>Mahalangur Himalaya</td>\n",
       "      <td>1954</td>\n",
       "      <td>79</td>\n",
       "      <td>28</td>\n",
       "      <td>107</td>\n",
       "      <td>73.831776</td>\n",
       "      <td>0.532169</td>\n",
       "    </tr>\n",
       "    <tr>\n",
       "      <th>Annapurna II</th>\n",
       "      <td>7937</td>\n",
       "      <td>2437</td>\n",
       "      <td>Annapurna Himalaya</td>\n",
       "      <td>1960</td>\n",
       "      <td>6</td>\n",
       "      <td>19</td>\n",
       "      <td>25</td>\n",
       "      <td>24.000000</td>\n",
       "      <td>0.382506</td>\n",
       "    </tr>\n",
       "    <tr>\n",
       "      <th>Lhotse</th>\n",
       "      <td>8516</td>\n",
       "      <td>610</td>\n",
       "      <td>Mahalangur Himalaya</td>\n",
       "      <td>1956</td>\n",
       "      <td>26</td>\n",
       "      <td>26</td>\n",
       "      <td>52</td>\n",
       "      <td>50.000000</td>\n",
       "      <td>0.381894</td>\n",
       "    </tr>\n",
       "    <tr>\n",
       "      <th>Kangchenjunga</th>\n",
       "      <td>8586</td>\n",
       "      <td>3922</td>\n",
       "      <td>Kangchenjunga Himalaya</td>\n",
       "      <td>1955</td>\n",
       "      <td>38</td>\n",
       "      <td>24</td>\n",
       "      <td>62</td>\n",
       "      <td>61.290323</td>\n",
       "      <td>0.371458</td>\n",
       "    </tr>\n",
       "  </tbody>\n",
       "</table>\n",
       "</div>"
      ],
      "text/plain": [
       "                            Height (m)  Prominence (m)  \\\n",
       "Mountain                                                 \n",
       "Nanga Parbat                      8126            4608   \n",
       "Makalu                            8485            2386   \n",
       "Annapurna I                       8091            2984   \n",
       "Manaslu                           8163            3092   \n",
       "K2 / Qogir / Godwin Austen        8611            4017   \n",
       "Dhaulagiri I                      8167            3357   \n",
       "Cho Oyu                           8188            2340   \n",
       "Annapurna II                      7937            2437   \n",
       "Lhotse                            8516             610   \n",
       "Kangchenjunga                     8586            3922   \n",
       "\n",
       "                                             Range  First ascent  \\\n",
       "Mountain                                                           \n",
       "Nanga Parbat                 Nanga Parbat Himalaya          1953   \n",
       "Makalu                         Mahalangur Himalaya          1955   \n",
       "Annapurna I                     Annapurna Himalaya          1950   \n",
       "Manaslu                           Manaslu Himalaya          1956   \n",
       "K2 / Qogir / Godwin Austen       Baltoro Karakoram          1954   \n",
       "Dhaulagiri I                   Dhaulagiri Himalaya          1960   \n",
       "Cho Oyu                        Mahalangur Himalaya          1954   \n",
       "Annapurna II                    Annapurna Himalaya          1960   \n",
       "Lhotse                         Mahalangur Himalaya          1956   \n",
       "Kangchenjunga               Kangchenjunga Himalaya          1955   \n",
       "\n",
       "                            Ascents bef. 2004  Failed attempts bef. 2004  \\\n",
       "Mountain                                                                   \n",
       "Nanga Parbat                               52                         67   \n",
       "Makalu                                     45                         52   \n",
       "Annapurna I                                36                         47   \n",
       "Manaslu                                    49                         45   \n",
       "K2 / Qogir / Godwin Austen                 45                         44   \n",
       "Dhaulagiri I                               51                         39   \n",
       "Cho Oyu                                    79                         28   \n",
       "Annapurna II                                6                         19   \n",
       "Lhotse                                     26                         26   \n",
       "Kangchenjunga                              38                         24   \n",
       "\n",
       "                            Total attempts  Success rate  Difficulty  \n",
       "Mountain                                                              \n",
       "Nanga Parbat                           119     43.697479    1.000000  \n",
       "Makalu                                  97     46.391753    0.767786  \n",
       "Annapurna I                             83     43.373494    0.702689  \n",
       "Manaslu                                 94     52.127660    0.662169  \n",
       "K2 / Qogir / Godwin Austen              89     50.561798    0.646364  \n",
       "Dhaulagiri I                            90     56.666667    0.583209  \n",
       "Cho Oyu                                107     73.831776    0.532169  \n",
       "Annapurna II                            25     24.000000    0.382506  \n",
       "Lhotse                                  52     50.000000    0.381894  \n",
       "Kangchenjunga                           62     61.290323    0.371458  "
      ]
     },
     "execution_count": 14,
     "metadata": {},
     "output_type": "execute_result"
    }
   ],
   "source": [
    "df.head(10)"
   ]
  },
  {
   "cell_type": "markdown",
   "id": "af8ecd25-116c-4e3c-bcae-2f26007fadaf",
   "metadata": {},
   "source": [
    "Plots are a fundamental part of presenting the data in an understandable way. In the following section the matplotlib setup is going to be presented for creating **bar plots**"
   ]
  },
  {
   "cell_type": "code",
   "execution_count": 15,
   "id": "82d97ad8-9210-460e-9363-002539acd50a",
   "metadata": {},
   "outputs": [],
   "source": [
    "import matplotlib.pyplot as plt\n",
    "%matplotlib inline"
   ]
  },
  {
   "cell_type": "markdown",
   "id": "82dce31c-48b0-4303-9344-4a677fa34be2",
   "metadata": {},
   "source": [
    "The general syntax for the plot() function is the following: **values.plot.type()**. Where values is  the name of the DataFrame column whose values we want to plot. And, type is a keyword specifying the type of plot we want. "
   ]
  },
  {
   "cell_type": "markdown",
   "id": "f3bce214-9115-4895-80bc-fa1198fb5f8a",
   "metadata": {},
   "source": [
    "* **Bar plots**: Bar plots are useful for displaying data that is easily classified into categories. This will allow us to see how the top 10 mountains compare by just taking a quick glance at the plot."
   ]
  },
  {
   "cell_type": "code",
   "execution_count": 16,
   "id": "704fb6a4-a9e4-4953-9d3d-d5dd920fa111",
   "metadata": {},
   "outputs": [
    {
     "data": {
      "image/png": "[encoded data removed]",
      "text/plain": [
       "<Figure size 432x288 with 1 Axes>"
      ]
     },
     "metadata": {
      "needs_background": "light"
     },
     "output_type": "display_data"
    }
   ],
   "source": [
    "#Make sure index is properly defined\n",
    "df = df.reset_index().set_index(\"Mountain\")\n",
    "#Select the first 10 rows in difficulty\n",
    "values = df[0:10][\"Difficulty\"]\n",
    "#specify horizontal barplot\n",
    "bar_plot = values.plot.barh()\n",
    "#Specify colors in each bar\n",
    "colormap = plt.cm.tab10(range(0, len(values)))\n",
    "bar_plot = values.plot.barh(color=colormap)\n",
    "\n",
    "# Add titles, labels, invert y-axis\n",
    "bar_plot = values.plot.barh(color=colormap)\n",
    "bar_plot.set_title(\"The 10 most difficult mountains\")\n",
    "bar_plot.set_xlabel(\"Difficulty\")\n",
    "bar_plot.invert_yaxis()\n",
    "plt.show(bar_plot)"
   ]
  },
  {
   "cell_type": "markdown",
   "id": "ed7632b0-407e-4564-9085-08ddda5b67bd",
   "metadata": {},
   "source": [
    "###### [Return to the table of contents](#Table)"
   ]
  },
  {
   "cell_type": "markdown",
   "id": "be698784-2c54-473f-a248-0a0420fb9451",
   "metadata": {},
   "source": [
    "<a id=\"Popular\"></a>\n",
    "#### **Wich are the most popular years for climbing?**\n"
   ]
  },
  {
   "cell_type": "markdown",
   "id": "358cea2a-f756-459b-9ed6-9d1e094f434f",
   "metadata": {},
   "source": [
    "* **Histograms**: A histogram is similar to a bar plot, except that we group data into certain predefined ranges. First, we need to choose a variable for which to create the histogram. Let’s start with the 'First ascent' column that gives the year of the first ascent of each mountain. By plotting this variable we want to have a quick picture of which were the most popular periods of time for completing first ascents. The syntax will be similar to what we used before for creating a bar plot, except that instead of using the method barh() to ask for a horizontal bar plot we will use the method hist() to ask for a histogram."
   ]
  },
  {
   "cell_type": "code",
   "execution_count": 17,
   "id": "3c225a25-9c08-4964-a140-24164d02461c",
   "metadata": {},
   "outputs": [
    {
     "data": {
      "text/plain": [
       "<AxesSubplot:ylabel='Frequency'>"
      ]
     },
     "execution_count": 17,
     "metadata": {},
     "output_type": "execute_result"
    },
    {
     "data": {
      "image/png": "[encoded data removed]",
      "text/plain": [
       "<Figure size 432x288 with 1 Axes>"
      ]
     },
     "metadata": {
      "needs_background": "light"
     },
     "output_type": "display_data"
    }
   ],
   "source": [
    "#Select the data that will be plotted\n",
    "df[\"First ascent\"].plot.hist()"
   ]
  },
  {
   "cell_type": "code",
   "execution_count": 18,
   "id": "9f9ea747-4009-4939-92e0-c723c83dc00b",
   "metadata": {},
   "outputs": [
    {
     "data": {
      "image/png": "[encoded data removed]",
      "text/plain": [
       "<Figure size 432x288 with 1 Axes>"
      ]
     },
     "metadata": {
      "needs_background": "light"
     },
     "output_type": "display_data"
    }
   ],
   "source": [
    "#Change color, put edges and specify # of bins\n",
    "hist = df[\"First ascent\"].plot.hist(bins=20, color=\"orange\", edgecolor=\"black\")\n",
    "hist.set_xlabel(\"Year\")\n",
    "hist.set_ylabel(\"Number of first ascents\")\n",
    "hist.set_title(\"Popular years for climbing\")\n",
    "plt.show()"
   ]
  },
  {
   "cell_type": "markdown",
   "id": "ad6b0f4e-1842-4f2e-ade9-a3f1354f5d98",
   "metadata": {},
   "source": [
    "###### [Return to the table of contents](#Table)"
   ]
  },
  {
   "cell_type": "markdown",
   "id": "aaf08619-7921-4f82-9747-f97fffae46e3",
   "metadata": {},
   "source": [
    "* **Stacked histograms**: For the histogram obtained above let’s try to separate between the mountains over 8000m and the ones under 8000m and see if there is a particular time period in which most first attempts were obtained for the peaks over 8000m."
   ]
  },
  {
   "cell_type": "code",
   "execution_count": 19,
   "id": "f7088dc9-d297-4109-94e9-1f87b5a01c92",
   "metadata": {},
   "outputs": [],
   "source": [
    "#Make sure index is properly defined\n",
    "df = df.reset_index().set_index(\"Mountain\")\n",
    "#Boolean para mayor y menor de 8000 m\n",
    "df[\"Height (m)\"] > 8000\n",
    "#high will store the list of True/False values\n",
    "high = df[\"Height (m)\"] > 8000"
   ]
  },
  {
   "cell_type": "markdown",
   "id": "b2ae5685-baac-429a-891f-b5d5419e0726",
   "metadata": {},
   "source": [
    "Here we used a special type of indexer for a DataFrame called loc. For now, notice that the indexer uses square brackets as opposed to the parentheses used by methods. Inside the square brackets, we are passing two parameters. The first tells the indexer which rows to select, and the second tells the indexer which columns to select. In our case, we ask for all the rows that have a True value in the boolean list high and for the single column 'First ascent'. The result should look as follows:"
   ]
  },
  {
   "cell_type": "code",
   "execution_count": 20,
   "id": "545a9a55-669d-45de-9c3b-8eda3338d5ad",
   "metadata": {},
   "outputs": [
    {
     "data": {
      "text/plain": [
       "Mountain\n",
       "Nanga Parbat                       1953\n",
       "Makalu                             1955\n",
       "Annapurna I                        1950\n",
       "Manaslu                            1956\n",
       "K2 / Qogir / Godwin Austen         1954\n",
       "Dhaulagiri I                       1960\n",
       "Cho Oyu                            1954\n",
       "Lhotse                             1956\n",
       "Kangchenjunga                      1955\n",
       "Shishapangma                       1964\n",
       "Broad Peak / K3                    1957\n",
       "Gasherbrum II / K4                 1956\n",
       "Gasherbrum I / Hidden Peak / K5    1958\n",
       "Name: First ascent, dtype: int32"
      ]
     },
     "execution_count": 20,
     "metadata": {},
     "output_type": "execute_result"
    }
   ],
   "source": [
    "df.loc[high, \"First ascent\"]"
   ]
  },
  {
   "cell_type": "code",
   "execution_count": 21,
   "id": "4ba06ae2-40af-4f71-bf8d-ce2d46ff81cd",
   "metadata": {},
   "outputs": [
    {
     "data": {
      "text/plain": [
       "Mountain\n",
       "Annapurna II                1960\n",
       "Baintha Brakk / The Ogre    1977\n",
       "Annapurna III               1961\n",
       "Dhaulagiri IV               1975\n",
       "Annapurna Dakshin           1964\n",
       "                            ... \n",
       "Baltoro Kangri              1976\n",
       "Gyala Peri                  1986\n",
       "Saser Kangri III            1986\n",
       "Lupghar Sar                 1979\n",
       "Saser Kangri II E           2011\n",
       "Name: First ascent, Length: 97, dtype: int32"
      ]
     },
     "execution_count": 21,
     "metadata": {},
     "output_type": "execute_result"
    }
   ],
   "source": [
    "df.loc[~high, \"First ascent\"]"
   ]
  },
  {
   "cell_type": "markdown",
   "id": "b2f8ac14-0dcf-45c2-b637-7fb909221717",
   "metadata": {},
   "source": [
    "The unary tilde operator ~ flips the boolean values of the list high. This allows us now to separate between the two groups as we wanted. We will use a different approach from before, instead of using Pandas we will use Matplotlib directly. In particular we will use the function hist() from the Matplotlib library."
   ]
  },
  {
   "cell_type": "code",
   "execution_count": 22,
   "id": "2973bad3-1527-4558-8edd-0754ca505388",
   "metadata": {},
   "outputs": [
    {
     "data": {
      "image/png": "[encoded data removed]",
      "text/plain": [
       "<Figure size 432x288 with 1 Axes>"
      ]
     },
     "metadata": {
      "needs_background": "light"
     },
     "output_type": "display_data"
    }
   ],
   "source": [
    "plt.hist(\n",
    "    [df.loc[high, \"First ascent\"], df.loc[~high, \"First ascent\"]],\n",
    "    stacked=True,\n",
    "    edgecolor=\"black\",\n",
    "    bins=20,\n",
    ")\n",
    "\n",
    "plt.legend([\"over 8000m\", \"under 8000m\"], loc=\"upper right\")\n",
    "plt.xlabel(\"Year\")\n",
    "plt.ylabel(\"Number of first ascents\")\n",
    "plt.title(\"Year of first ascent\")\n",
    "plt.show()"
   ]
  },
  {
   "cell_type": "markdown",
   "id": "ff019c59-b238-4c08-966b-df938d762508",
   "metadata": {},
   "source": [
    "So we can now see that for the mountains over 8000m the popular period for climbing is even more pronounced: in particular all first ascents were completed in 50s and 60s which is also known as the super expedition age."
   ]
  },
  {
   "cell_type": "markdown",
   "id": "304ad5a9-79ee-496c-9fab-e007be43a871",
   "metadata": {},
   "source": [
    "* **Scatter plots**: Scatterplots allow us to plot two variables - one against the other - and see if there is a correlation between them. We will plot the number of total attempts versus the mountain height. This will help us determine if taller mountains are more popular. The scatter() function in its simplest form, makes us specify two parameters: the x value (which will be plotted on the x-axis) and the y value (which will be plotted on the y-axis). Here is the code:"
   ]
  },
  {
   "cell_type": "code",
   "execution_count": 23,
   "id": "7f3dd7f3-0f61-45bf-a7f7-00c8d39704cd",
   "metadata": {},
   "outputs": [
    {
     "data": {
      "image/png": "[encoded data removed]",
      "text/plain": [
       "<Figure size 432x288 with 1 Axes>"
      ]
     },
     "metadata": {
      "needs_background": "light"
     },
     "output_type": "display_data"
    }
   ],
   "source": [
    "plt.scatter(df[\"Height (m)\"], df[\"Total attempts\"])\n",
    "plt.show()"
   ]
  },
  {
   "cell_type": "code",
   "execution_count": 24,
   "id": "3ca545f6-4d28-4724-86f1-a789640bd34c",
   "metadata": {},
   "outputs": [
    {
     "data": {
      "image/png": "[encoded data removed]",
      "text/plain": [
       "<Figure size 432x288 with 1 Axes>"
      ]
     },
     "metadata": {
      "needs_background": "light"
     },
     "output_type": "display_data"
    }
   ],
   "source": [
    "#Additional commands for making it look pretty\n",
    "plt.scatter(df[\"Height (m)\"], df[\"Total attempts\"], color=\"red\", edgecolor=\"black\")\n",
    "plt.ylabel(\"Total attempts\")\n",
    "plt.xlabel(\"Mountain height\")\n",
    "plt.title(\"Number of total attempts vs mountain height\", fontsize=14)\n",
    "plt.show()"
   ]
  },
  {
   "cell_type": "markdown",
   "id": "74a786bd-4605-40ca-9ca7-9aca44ae62d8",
   "metadata": {},
   "source": [
    "We can see that there is a definite increase in the number of total attempts for mountains that are over 8000m, as opposed to those peaks that are under 8000m."
   ]
  },
  {
   "cell_type": "code",
   "execution_count": null,
   "id": "098e2d67-206e-4ef2-8364-7156407c5963",
   "metadata": {},
   "outputs": [],
   "source": []
  }
 ],
 "metadata": {
  "kernelspec": {
   "display_name": "Python 3 (ipykernel)",
   "language": "python",
   "name": "python3"
  },
  "language_info": {
   "codemirror_mode": {
    "name": "ipython",
    "version": 3
   },
   "file_extension": ".py",
   "mimetype": "text/x-python",
   "name": "python",
   "nbconvert_exporter": "python",
   "pygments_lexer": "ipython3",
   "version": "3.9.7"
  }
 },
 "nbformat": 4,
 "nbformat_minor": 5
}
