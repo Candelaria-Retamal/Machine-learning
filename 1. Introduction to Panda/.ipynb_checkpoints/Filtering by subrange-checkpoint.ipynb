{
 "cells": [
  {
   "cell_type": "markdown",
   "id": "e410058c-4a6e-43b9-9b0a-0754f8a18309",
   "metadata": {},
   "source": [
    "## Exercise 1: Filtering by subrange"
   ]
  },
  {
   "cell_type": "markdown",
   "id": "e5abdbbd-413e-44c8-820b-50fc0c937f0b",
   "metadata": {},
   "source": [
    "##### 11.01.22"
   ]
  },
  {
   "cell_type": "markdown",
   "id": "25ac7f2a-78f0-4023-b827-c5ebf04964e8",
   "metadata": {},
   "source": [
    "In this exercise we will produce a horizontal bar chart that displays the distribution of mountains in the Himalaya according to their range. y axis: name of every subrange of the Himalayas. X axis: number of mountains in each subrange. Incorporate appropiate title and labels in your chart."
   ]
  },
  {
   "cell_type": "code",
   "execution_count": 9,
   "id": "5367830f-71cb-4660-9487-87bf987a4b4c",
   "metadata": {},
   "outputs": [
    {
     "data": {
      "text/plain": [
       "0         Baltoro Karakoram\n",
       "1    Kangchenjunga Himalaya\n",
       "2       Mahalangur Himalaya\n",
       "3       Mahalangur Himalaya\n",
       "4       Mahalangur Himalaya\n",
       "5       Dhaulagiri Himalaya\n",
       "6          Manaslu Himalaya\n",
       "7     Nanga Parbat Himalaya\n",
       "8        Annapurna Himalaya\n",
       "9         Baltoro Karakoram\n",
       "Name: Range, dtype: object"
      ]
     },
     "execution_count": 9,
     "metadata": {},
     "output_type": "execute_result"
    }
   ],
   "source": [
    "#Check the main possible ranges in DF.\n",
    "import pandas as pd\n",
    "import matplotlib.pyplot as plt\n",
    "%matplotlib inline\n",
    "df= pd.read_csv(\"Mountains_Cleaned.csv\") \n",
    "df[\"Range\"].head(10)"
   ]
  },
  {
   "cell_type": "code",
   "execution_count": 10,
   "id": "a56215d8-3bc0-47c6-875b-1fc27150fb22",
   "metadata": {},
   "outputs": [
    {
     "data": {
      "text/plain": [
       "100         Rimo Karakoram\n",
       "101      Langtang Himalaya\n",
       "102     Annapurna Himalaya\n",
       "103    Mahalangur Himalaya\n",
       "104       Hispar Karakoram\n",
       "105       Nagarze Himalaya\n",
       "106      Langtang Himalaya\n",
       "107        Lunana Himalaya\n",
       "108      Siachen Karakoram\n",
       "109       Hispar Karakoram\n",
       "Name: Range, dtype: object"
      ]
     },
     "execution_count": 10,
     "metadata": {},
     "output_type": "execute_result"
    }
   ],
   "source": [
    "df[\"Range\"].tail(10)"
   ]
  },
  {
   "cell_type": "markdown",
   "id": "eeb0eabb-7fff-42cf-9efa-265639ccef70",
   "metadata": {},
   "source": [
    "According to the visible data in the bottom and tail, there only exist two main ranges: Himalaya and Karakoram. Hence, we need to extract the infomation that only makes reference to the Himalaya."
   ]
  },
  {
   "cell_type": "code",
   "execution_count": 11,
   "id": "19eb1ca7-c23d-40df-882c-0fb3384f23a2",
   "metadata": {},
   "outputs": [],
   "source": [
    "# If for separating rows with str Himalaya\n",
    "Himalaya = [\"Himalaya\" in str(x) for x in df[\"Range\"]]"
   ]
  },
  {
   "cell_type": "markdown",
   "id": "3360fbd0-8ad3-4a2f-b1b8-d2ced8c35495",
   "metadata": {},
   "source": [
    "To create the bar chart, we will first group these entries according to the specific subranges. Pandas has a very useful function for this, called groupby(). We will see more of this function on the subject devoted to pandas in the future, but for now, give the following command a try"
   ]
  },
  {
   "cell_type": "code",
   "execution_count": 12,
   "id": "fc79207a-82cf-4499-8d7f-4f7c59fbfe4f",
   "metadata": {},
   "outputs": [],
   "source": [
    "count = df[Himalaya].groupby(\"Range\").size()"
   ]
  },
  {
   "cell_type": "code",
   "execution_count": 13,
   "id": "ee19666c-067a-4f66-b512-5a231ac2f89c",
   "metadata": {},
   "outputs": [
    {
     "data": {
      "text/plain": [
       "Range\n",
       "Annapurna Himalaya         5\n",
       "Assam Himalaya             2\n",
       "Baiku Himalaya             1\n",
       "Dhaulagiri Himalaya        7\n",
       "Ganesh Himalaya            1\n",
       "Garhwal Himalaya           6\n",
       "Jomolhari Himalaya         1\n",
       "Jugal Himalaya             1\n",
       "Kangchenjunga Himalaya     6\n",
       "Kula Kangri Himalaya       1\n",
       "Labuche Himalaya           1\n",
       "Langtang Himalaya          4\n",
       "Lunana Himalaya            1\n",
       "Mahalangur Himalaya       11\n",
       "Manaslu Himalaya           3\n",
       "Nagarze Himalaya           1\n",
       "Nalakankar Himalaya        1\n",
       "Nanga Parbat Himalaya      1\n",
       "dtype: int64"
      ]
     },
     "execution_count": 13,
     "metadata": {},
     "output_type": "execute_result"
    }
   ],
   "source": [
    "count"
   ]
  },
  {
   "cell_type": "markdown",
   "id": "13f5a836-8d43-48d9-b47c-3d5fbe84b8db",
   "metadata": {},
   "source": [
    "Now we can sort the series in an increasing order"
   ]
  },
  {
   "cell_type": "code",
   "execution_count": 14,
   "id": "cf521dab-b9f5-4575-b260-35a755ccce56",
   "metadata": {},
   "outputs": [],
   "source": [
    "count = count.sort_values()"
   ]
  },
  {
   "cell_type": "code",
   "execution_count": 15,
   "id": "2e8d75e0-131a-4146-8d52-873d03a5275b",
   "metadata": {},
   "outputs": [
    {
     "data": {
      "image/png": "[encoded data removed]",
      "text/plain": [
       "<Figure size 576x360 with 1 Axes>"
      ]
     },
     "metadata": {
      "needs_background": "light"
     },
     "output_type": "display_data"
    }
   ],
   "source": [
    "# With figsize the size of the plot is increased\n",
    "plt.figure(figsize=(8, 5))\n",
    "colormap = plt.cm.tab20(range(0, len(count)))\n",
    "plot = count.plot.barh(title=\"The Himalaya subranges\", color=colormap)\n",
    "plot.set_xlabel(\"Number of mountains in the subrange\")\n",
    "plot.set_ylabel(\"Subrange\")\n",
    "plt.show()"
   ]
  },
  {
   "cell_type": "code",
   "execution_count": null,
   "id": "1f2b6b7b-41d2-4b3d-8594-c0b293c4bfd9",
   "metadata": {},
   "outputs": [],
   "source": []
  }
 ],
 "metadata": {
  "kernelspec": {
   "display_name": "Python 3 (ipykernel)",
   "language": "python",
   "name": "python3"
  },
  "language_info": {
   "codemirror_mode": {
    "name": "ipython",
    "version": 3
   },
   "file_extension": ".py",
   "mimetype": "text/x-python",
   "name": "python",
   "nbconvert_exporter": "python",
   "pygments_lexer": "ipython3",
   "version": "3.9.7"
  }
 },
 "nbformat": 4,
 "nbformat_minor": 5
}
