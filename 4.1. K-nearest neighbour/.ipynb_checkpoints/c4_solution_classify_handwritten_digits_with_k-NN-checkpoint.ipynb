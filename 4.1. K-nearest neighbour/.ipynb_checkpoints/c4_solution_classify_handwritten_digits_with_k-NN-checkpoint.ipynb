{
 "cells": [
  {
   "cell_type": "markdown",
   "metadata": {},
   "source": [
    "Classify handwritten digits with k-NN\n",
    "---"
   ]
  },
  {
   "cell_type": "markdown",
   "metadata": {},
   "source": [
    "Solution - Load dataset\n",
    "--\n",
    "\n",
    "> **Exercise**: Load the data from the `c4_mnist-6k.npz` file into X/y arrays. The data type of the input matrix `X` should be `float64`. Split it into train (5,000 images) and test (1,000) sets using the `train_test_split()` function. Set the `random_state` to zero. "
   ]
  },
  {
   "cell_type": "code",
   "execution_count": null,
   "metadata": {},
   "outputs": [],
   "source": [
    "import numpy as np\n",
    "import os\n",
    "\n",
    "# Load the numpy .npz file\n",
    "with np.load(\"c4_mnist-6k.npz\", allow_pickle=False) as data:\n",
    "    mnist_data = dict(data.items())\n",
    "\n",
    "print(\"Data loaded\")\n",
    "print(\"It is a dictionary with keys:\", list(mnist_data.keys()))"
   ]
  },
  {
   "cell_type": "code",
   "execution_count": null,
   "metadata": {},
   "outputs": [],
   "source": [
    "# Create X/y arrays\n",
    "X = mnist_data[\"data\"]\n",
    "y = mnist_data[\"labels\"]\n",
    "\n",
    "print(\"X:\", X.shape, X.dtype)\n",
    "print(\"y:\", y.shape, y.dtype)"
   ]
  },
  {
   "cell_type": "code",
   "execution_count": null,
   "metadata": {},
   "outputs": [],
   "source": [
    "from sklearn.model_selection import train_test_split\n",
    "\n",
    "# Convert the type of the input matrix to float\n",
    "X = X.astype(np.float)\n",
    "\n",
    "# Split data into train/test sets\n",
    "X_tr, X_te, y_tr, y_te = train_test_split(\n",
    "    X, y, train_size=5000, test_size=1000, random_state=0\n",
    ")"
   ]
  },
  {
   "cell_type": "markdown",
   "metadata": {},
   "source": [
    "Solution: Data exploration\n",
    "---\n",
    "\n",
    "> **Exercise**: What are the different categories? What is the proportion of images in each one?"
   ]
  },
  {
   "cell_type": "code",
   "execution_count": null,
   "metadata": {},
   "outputs": [],
   "source": [
    "import pandas as pd\n",
    "\n",
    "# The categories correspond to digits from 0 and 9\n",
    "# There is approximately the same proportion of images (~10%) for each class\n",
    "pd.value_counts(y, normalize=True)"
   ]
  },
  {
   "cell_type": "markdown",
   "metadata": {},
   "source": [
    "> **Exercise**: Plot some images with their labels from the X/y arrays."
   ]
  },
  {
   "cell_type": "code",
   "execution_count": null,
   "metadata": {},
   "outputs": [],
   "source": [
    "%matplotlib inline\n",
    "import matplotlib.pyplot as plt\n",
    "\n",
    "# Function to plot the i-th image from some X/y arrays\n",
    "def show_image(idx, X, y):\n",
    "    # Get image pixels from the input matrix X\n",
    "    flat_img = X[idx]  # has shape (784,)\n",
    "\n",
    "    # Reshape image into a 28x28 array\n",
    "    img = flat_img.reshape(28, 28)\n",
    "\n",
    "    # Print label using the output vector y\n",
    "    print(\"Label:\", y[idx])\n",
    "\n",
    "    # Plot image with pyplot\n",
    "    plt.imshow(img, cmap=plt.cm.gray_r)\n",
    "    plt.show()\n",
    "\n",
    "\n",
    "# Show the first images from the training set\n",
    "show_image(0, X_tr, y_tr)\n",
    "show_image(1, X_tr, y_tr)\n",
    "show_image(2, X_tr, y_tr)"
   ]
  },
  {
   "cell_type": "markdown",
   "metadata": {},
   "source": [
    "Solution: Set a baseline\n",
    "---\n",
    "\n",
    "> **Exercise**: Create a baseline model using the `DummyClassifier` object from Scikit-learn and evaluate its performance on the test set."
   ]
  },
  {
   "cell_type": "code",
   "execution_count": null,
   "metadata": {},
   "outputs": [],
   "source": [
    "from sklearn.dummy import DummyClassifier\n",
    "\n",
    "# Create the dummy classifier\n",
    "dummy = DummyClassifier(strategy=\"most_frequent\")\n",
    "\n",
    "# Fit it to the train data\n",
    "dummy.fit(X_tr, y_tr)\n",
    "\n",
    "# Compute accuracy on the test set\n",
    "accuracy = dummy.score(X_te, y_te)\n",
    "print(\"Baseline accuracy: {:.3f}\".format(accuracy))"
   ]
  },
  {
   "cell_type": "markdown",
   "metadata": {},
   "source": [
    "Solution: Create k-NN classifier\n",
    "---\n",
    "\n",
    "> **Exercise**: Build a k-NN classifier using a `Pipeline` object (set k to 5). Try with and without standardization."
   ]
  },
  {
   "cell_type": "code",
   "execution_count": null,
   "metadata": {},
   "outputs": [],
   "source": [
    "from sklearn.neighbors import KNeighborsClassifier\n",
    "from sklearn.preprocessing import StandardScaler\n",
    "from sklearn.pipeline import Pipeline\n",
    "\n",
    "# Create k-NN classifier\n",
    "knn = KNeighborsClassifier(\n",
    "    n_neighbors=5,  # Set k to 5\n",
    "    # Use the simple 'brute' strategy to find nearest neighbors.\n",
    "    # It's faster in this case!\n",
    "    algorithm=\"brute\",\n",
    ")\n",
    "\n",
    "# Create the pipeline and fit it to training data\n",
    "knn_pipe = Pipeline(\n",
    "    [\n",
    "        # ('scaler', StandardScaler()), # With standardization\n",
    "        (\"scaler\", None),  # Better performance without standardization!\n",
    "        (\"knn\", knn),\n",
    "    ]\n",
    ")\n",
    "knn_pipe.fit(X_tr, y_tr)\n",
    "\n",
    "# Evaluate on test set\n",
    "accuracy = knn_pipe.score(X_te, y_te)\n",
    "\n",
    "# Print accuracy\n",
    "print(\"k-nearest neighbors (k=5) accuracy: {:.3f}\".format(accuracy))"
   ]
  },
  {
   "cell_type": "markdown",
   "metadata": {},
   "source": [
    "Solution: Tune k using grid search\n",
    "---\n",
    "\n",
    "> **Exercise**: Tune k using grid search. Plot the test accuracy.\n",
    "\n",
    "**Hint**: You don't have to compute the train accuracy which is computationally expensive due to the size of the train set."
   ]
  },
  {
   "cell_type": "code",
   "execution_count": null,
   "metadata": {},
   "outputs": [],
   "source": [
    "# Generate a set of k values\n",
    "k_values = np.arange(1, 20, 2)\n",
    "k_values"
   ]
  },
  {
   "cell_type": "code",
   "execution_count": null,
   "metadata": {},
   "outputs": [],
   "source": [
    "# Run several times the evaluation\n",
    "gs_results = []\n",
    "for run_idx in range(5):\n",
    "    # Split into train/test sets\n",
    "    X_tr, X_te, y_tr, y_te = train_test_split(X, y, test_size=0.3, random_state=run_idx)\n",
    "\n",
    "    # Grid search\n",
    "    for k in k_values:\n",
    "        # Fit k-NN model\n",
    "        knn_pipe.set_params(knn__n_neighbors=k)\n",
    "        knn_pipe.fit(X_tr, y_tr)\n",
    "\n",
    "        # Save model and its performance on train/test sets\n",
    "        gs_results.append(\n",
    "            {\n",
    "                \"k\": k,\n",
    "                \"run_idx\": run_idx,\n",
    "                \"train_accuracy\": knn_pipe.score(X_tr, y_tr),\n",
    "                \"test_accuracy\": knn_pipe.score(X_te, y_te),\n",
    "            }\n",
    "        )\n",
    "\n",
    "# Convert results to DataFrame\n",
    "gs_results = pd.DataFrame(gs_results)\n",
    "gs_results.head()"
   ]
  },
  {
   "cell_type": "code",
   "execution_count": null,
   "metadata": {},
   "outputs": [],
   "source": [
    "# Group results by alpha value\n",
    "grouped = gs_results.groupby(\"k\")\n",
    "\n",
    "# Compute train/test mean scores with std\n",
    "mean_tr = grouped.train_accuracy.mean()\n",
    "mean_te = grouped.test_accuracy.mean()\n",
    "std_tr = grouped.train_accuracy.std()\n",
    "std_te = grouped.test_accuracy.std()"
   ]
  },
  {
   "cell_type": "code",
   "execution_count": null,
   "metadata": {},
   "outputs": [],
   "source": [
    "# Plot mean scores\n",
    "plt.plot(k_values, mean_tr, label=\"train\")\n",
    "plt.plot(k_values, mean_te, label=\"test\")\n",
    "\n",
    "# Add marker for best score\n",
    "best_k = mean_te.idxmax()\n",
    "plt.scatter(best_k, mean_te.max(), marker=\"x\", c=\"red\", zorder=10)\n",
    "\n",
    "# Quantify variance with ±std curves\n",
    "plt.fill_between(k_values, mean_tr - std_tr, mean_tr + std_tr, alpha=0.2)\n",
    "plt.fill_between(k_values, mean_te - std_te, mean_te + std_te, alpha=0.2)\n",
    "plt.title(\"Best k: {} with {:.1f}% accuracy\".format(best_k, 100 * mean_te[best_k]))\n",
    "plt.ylabel(\"accuracy\")\n",
    "plt.xlabel(\"k\")\n",
    "plt.legend()\n",
    "plt.show()"
   ]
  }
 ],
 "metadata": {
  "kernelspec": {
   "display_name": "Python 3",
   "language": "python",
   "name": "python3"
  },
  "language_info": {
   "codemirror_mode": {
    "name": "ipython",
    "version": 3
   },
   "file_extension": ".py",
   "mimetype": "text/x-python",
   "name": "python",
   "nbconvert_exporter": "python",
   "pygments_lexer": "ipython3",
   "version": "3.9.2"
  }
 },
 "nbformat": 4,
 "nbformat_minor": 2
}
