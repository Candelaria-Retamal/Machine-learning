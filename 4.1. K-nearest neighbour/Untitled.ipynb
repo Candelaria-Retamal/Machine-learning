{
 "cells": [
  {
   "cell_type": "code",
   "execution_count": 4,
   "id": "ec65dbf0-ac6b-4ae4-ae3d-1faaf73bc264",
   "metadata": {},
   "outputs": [
    {
     "data": {
      "text/plain": [
       "array([[0.        , 1.41421356, 2.23606798],\n",
       "       [0.        , 1.41421356, 1.41421356],\n",
       "       [0.        , 1.41421356, 2.82842712],\n",
       "       [0.        , 1.41421356, 2.23606798],\n",
       "       [0.        , 1.41421356, 1.41421356],\n",
       "       [0.        , 1.41421356, 1.41421356],\n",
       "       [0.        , 1.41421356, 2.82842712]])"
      ]
     },
     "execution_count": 4,
     "metadata": {},
     "output_type": "execute_result"
    }
   ],
   "source": [
    "from sklearn.neighbors import NearestNeighbors\n",
    "import numpy as np\n",
    "Input_data = np.array([[-1, 1], [-2, 2], [-3, 3], [1, 2], [2, 3], [3, 4],[4, 5]])\n",
    "nrst_neigh = NearestNeighbors(n_neighbors = 3, algorithm='ball_tree')\n",
    "nrst_neigh.fit(Input_data)\n",
    "distances, indices = nrst_neigh.kneighbors(Input_data)\n",
    "indices\n",
    "distances\n"
   ]
  }
 ],
 "metadata": {
  "kernelspec": {
   "display_name": "Python [conda env:adsml] *",
   "language": "python",
   "name": "conda-env-adsml-py"
  },
  "language_info": {
   "codemirror_mode": {
    "name": "ipython",
    "version": 3
   },
   "file_extension": ".py",
   "mimetype": "text/x-python",
   "name": "python",
   "nbconvert_exporter": "python",
   "pygments_lexer": "ipython3",
   "version": "3.9.7"
  }
 },
 "nbformat": 4,
 "nbformat_minor": 5
}
