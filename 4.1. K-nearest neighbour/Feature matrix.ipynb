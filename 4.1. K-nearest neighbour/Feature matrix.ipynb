{
 "cells": [
  {
   "cell_type": "markdown",
   "id": "02d224a2-4a8f-43ed-b246-86f22cf5a6f2",
   "metadata": {},
   "source": [
    "**High-level features**"
   ]
  },
  {
   "cell_type": "markdown",
   "id": "1d59217a-55d4-4594-8287-384f46c79276",
   "metadata": {},
   "source": [
    "So far, we saw machine learning algorithms that work with sets of features i.e. the features have no structure or order. Hence, we cannot change their accuracy by shuffling the columns in the feature matrix X. However, working with images is more difficult because there is a spatial relationship between the pixels of an image. The location of each pixel in the (height, width) grid is essential, and it would be difficult to recognize an image after shuffling its pixels.\n",
    "\n",
    "One solution is to extract a set of high-level features from the images and use them as the inputs to our machine learning algorithms. For instance, later in this course, we will learn about convolution neural networks (CNN) which automatically extract them. Here are a few examples of high-level features.\n",
    "\n",
    "* Are there rounded objects in the image?\n",
    "* Type of environment? e.g., indoor, outdoor, sea, forest, clearing\n",
    "* Presence of specific objects such as wings, wheels, eyes, legs"
   ]
  },
  {
   "cell_type": "markdown",
   "id": "5d126b17-b7ea-4b17-a1cd-771d3793be72",
   "metadata": {},
   "source": [
    "In this subject and the next one, we will work on the raw pixels directly, i.e., not with high-level features. But later in this course, we will try to improve our classifiers using these neural network algorithms.\n",
    "\n",
    "**Create feature matrix**\n",
    "Let’s see how to transform our 2- and 3-dimensional arrays of pixels into an input matrix X that we can use in our machine learning tasks. We will start by loading the first image from the cifar-images.zip archive.\n",
    "\n",
    "We can use the code from the previous unit."
   ]
  },
  {
   "cell_type": "code",
   "execution_count": 2,
   "id": "2437177c-8880-4a22-a792-72d8ef05c1b8",
   "metadata": {},
   "outputs": [
    {
     "name": "stdout",
     "output_type": "stream",
     "text": [
      "Shape: (32, 32, 3)\n"
     ]
    }
   ],
   "source": [
    "from PIL import Image\n",
    "import numpy as np\n",
    "\n",
    "# Load the image\n",
    "pillow_img = Image.open('c4_cifar-1.png')\n",
    "\n",
    "# Convert it into a Numpy array\n",
    "img = np.array(pillow_img)\n",
    "\n",
    "# Print shape\n",
    "print('Shape:', img.shape) # (32, 32, 3)"
   ]
  },
  {
   "cell_type": "markdown",
   "id": "462c7cb5-4251-44f2-8166-7d2110af4217",
   "metadata": {},
   "source": [
    "We load the image using the open() function and convert it into a Numpy array of shape (32, 32, 3), i.e., a 32 by 32 image with three color channels. Again, we cannot work on this array directly, but we can flatten it into a vector of 32*32*3=3072 values."
   ]
  },
  {
   "cell_type": "code",
   "execution_count": 3,
   "id": "f275fd80-411d-4416-b4c4-400a73d57776",
   "metadata": {},
   "outputs": [
    {
     "name": "stdout",
     "output_type": "stream",
     "text": [
      "Shape: (3072,)\n"
     ]
    }
   ],
   "source": [
    "# Flatten the array\n",
    "flat_img = img.flatten()\n",
    "\n",
    "# Print shape\n",
    "print('Shape:', flat_img.shape) # (3072,)"
   ]
  },
  {
   "cell_type": "markdown",
   "id": "6ecda182-c757-4e11-8052-6db586df7f4a",
   "metadata": {},
   "source": [
    "In this code, the flatten() function reads each value from the img 3-dimensional array and stores them into a 1-dimensional vector. It follows a well-defined order when reading the array. Hence, the pixels are still ordered, but in a single dimension. Later in this unit, we will see how to recover the original image using the Numpy reshape() function.\n",
    "\n",
    "The idea is to flatten all images from our dataset and use these vectors of pixels as the rows of the input matrix X."
   ]
  },
  {
   "cell_type": "code",
   "execution_count": 4,
   "id": "4df2483a-e55a-4e44-b563-c259a55623fb",
   "metadata": {},
   "outputs": [],
   "source": [
    "# Five images from the CIFAR-10 dataset\n",
    "files = [\n",
    "    'c4_cifar-1.png',\n",
    "    'c4_cifar-2.png',\n",
    "    'c4_cifar-3.png',\n",
    "    'c4_cifar-4.png',\n",
    "    'c4_cifar-5.png'\n",
    "]\n",
    "\n",
    "# Feature matrix\n",
    "features = []\n",
    "\n",
    "for file in files:\n",
    "    # Load the image\n",
    "    pillow_img = Image.open(file)\n",
    "\n",
    "    # Convert it into a Numpy array\n",
    "    img = np.array(pillow_img)\n",
    "\n",
    "    # Flatten the array\n",
    "    flat_img = img.flatten()\n",
    "\n",
    "    # Add it to the feature matrix\n",
    "    features.append(flat_img)"
   ]
  },
  {
   "cell_type": "markdown",
   "id": "7a070ca1-7add-49e7-9fb7-6fe18f281122",
   "metadata": {},
   "source": [
    "In this code, we create the “flat” vector of pixels for each image and add them to a feature variable. We can then transform this list of five (3072,) vectors into a two-dimensional array of shape (5, 3072) using the array() function from Numpy."
   ]
  },
  {
   "cell_type": "code",
   "execution_count": 5,
   "id": "1827b785-ecfb-4b19-b8a6-1c034f38e8aa",
   "metadata": {},
   "outputs": [
    {
     "name": "stdout",
     "output_type": "stream",
     "text": [
      "shape: (5, 3072)\n",
      "dtype: uint8\n"
     ]
    }
   ],
   "source": [
    "# Create input matrix\n",
    "X = np.array(features)\n",
    "\n",
    "# Print shape\n",
    "print('shape:', X.shape) # (5, 3072)\n",
    "\n",
    "# Print data type\n",
    "print('dtype:', X.dtype) # uint8"
   ]
  },
  {
   "cell_type": "markdown",
   "id": "0d8f2329-f8ed-4056-b62e-35b7779b393b",
   "metadata": {},
   "source": [
    "We now have a feature matrix X containing our five images. However, its data type (uint8) can cause issues with some Scikit-learn objects that work with floating point numbers. For instance, the StandardScaler object raises a DataConversionWarning when applying standardization."
   ]
  },
  {
   "cell_type": "code",
   "execution_count": 6,
   "id": "d5dc56b1-0ac0-430c-af1a-e25e01c4a65d",
   "metadata": {},
   "outputs": [
    {
     "data": {
      "text/plain": [
       "array([[ 0.73671505,  0.59622324,  0.98559361, ..., -0.57902805,\n",
       "        -0.73675288,  0.11136219],\n",
       "       [ 0.52892363, -0.62119594, -0.39995103, ...,  1.59731875,\n",
       "        -1.21829071, -1.36539731],\n",
       "       [-1.94568335, -1.66692779, -1.28555688, ..., -0.01996648,\n",
       "         0.78009128,  0.49870895],\n",
       "       [ 0.05667039,  0.68987087,  1.34269274, ..., -1.39765391,\n",
       "        -0.32744572,  1.51549418],\n",
       "       [ 0.62337428,  1.00202963, -0.64277844, ...,  0.39932969,\n",
       "         1.50239803, -0.76016801]])"
      ]
     },
     "execution_count": 6,
     "metadata": {},
     "output_type": "execute_result"
    }
   ],
   "source": [
    "from sklearn.preprocessing import StandardScaler\n",
    "\n",
    "StandardScaler().fit_transform(X)"
   ]
  },
  {
   "cell_type": "markdown",
   "id": "12d26918-007a-4df9-a931-cd3c90c64fa6",
   "metadata": {},
   "source": [
    "Scikit-learn simply tells us that the data in X was converted to type float since standardization resulted in floating point numbers. **To avoid this warning, we can convert our input matrix using the astype() function.**\n",
    "\n"
   ]
  },
  {
   "cell_type": "code",
   "execution_count": 8,
   "id": "e604fbc9-093f-4f9f-b0af-c09c41b8169a",
   "metadata": {},
   "outputs": [
    {
     "name": "stdout",
     "output_type": "stream",
     "text": [
      "dtype: uint8\n"
     ]
    }
   ],
   "source": [
    "print('dtype:', X.dtype)"
   ]
  },
  {
   "cell_type": "code",
   "execution_count": 9,
   "id": "ddad9181-479e-4206-bc57-bcc5cdcdcf18",
   "metadata": {},
   "outputs": [
    {
     "name": "stdout",
     "output_type": "stream",
     "text": [
      "dtype: float64\n"
     ]
    }
   ],
   "source": [
    "# Convert to float\n",
    "X = X.astype(np.float)\n",
    "\n",
    "# Print the new data type\n",
    "print('dtype:', X.dtype)\n"
   ]
  },
  {
   "cell_type": "markdown",
   "id": "2051b09e-1817-42da-9ef1-6235b918b0ae",
   "metadata": {},
   "source": [
    "As you can see, we didn’t specify the precision of the floating point numbers for the conversion. It seems that Python used float64 which means that each value takes 8 bytes of memory (64 bits). You might use other values such as float16 or float32 which are less precise but also take less memory."
   ]
  },
  {
   "cell_type": "markdown",
   "id": "81e2b045-0a0f-4683-bb70-20f89014ecff",
   "metadata": {},
   "source": [
    "It’s always interesting to track the amount of memory. For large datasets, you might want to decrease the precision of your values by changing the data type, e.g., from float64 to float16.\n",
    "\n",
    "Now, let’s see how to recover the images from the X array.\n",
    "\n",
    "**Plot images from feature matrix**"
   ]
  },
  {
   "cell_type": "markdown",
   "id": "c41ab249-3a98-4745-9b93-f7d3f5012142",
   "metadata": {},
   "source": [
    "Many datasets (e.g., MNIST, CIFAR-10) provide the set of images as a feature matrix X where rows correspond to the “flat” vectors of pixels from above. In this case, we need to convert these rows back into 2- or 3-dimensional arrays to plot the images. Let’s see how to do that. We will try to recover the third image from our dataset.\n",
    "\n",
    "First, we need to extract the flat vector of pixels."
   ]
  },
  {
   "cell_type": "code",
   "execution_count": 10,
   "id": "ad543a0a-2809-41bb-972d-7bf51bf77437",
   "metadata": {},
   "outputs": [
    {
     "name": "stdout",
     "output_type": "stream",
     "text": [
      "shape: (3072,)\n"
     ]
    }
   ],
   "source": [
    "# Extract the third image\n",
    "flat_img = X[2, :] # third row\n",
    "\n",
    "print('shape:', flat_img.shape) "
   ]
  },
  {
   "cell_type": "markdown",
   "id": "2a970bdd-f065-450a-97ed-9ab63b06e51a",
   "metadata": {},
   "source": [
    "We can now reshape this flat_img vector into a 3-dimensional array using the reshape() function. You can think of it as the inverse of the flatten() operation.\n",
    "\n"
   ]
  },
  {
   "cell_type": "code",
   "execution_count": 11,
   "id": "529a4789-3b7f-4f59-8108-2a5d2da8c8e5",
   "metadata": {},
   "outputs": [
    {
     "name": "stdout",
     "output_type": "stream",
     "text": [
      "shape: (32, 32, 3)\n"
     ]
    }
   ],
   "source": [
    "# Reshape the image\n",
    "img = flat_img.reshape(32, 32, 3)\n",
    "\n",
    "# Print shape\n",
    "print('shape:', img.shape)"
   ]
  },
  {
   "cell_type": "markdown",
   "id": "94ade478-52a1-4e64-8850-a2a513b990ff",
   "metadata": {},
   "source": [
    "Finally, we can plot the img array using the Pyplot imshow() function:"
   ]
  },
  {
   "cell_type": "code",
   "execution_count": 12,
   "id": "7f1c7439-7f35-4e90-b4f3-8853decfcca6",
   "metadata": {},
   "outputs": [
    {
     "name": "stderr",
     "output_type": "stream",
     "text": [
      "Clipping input data to the valid range for imshow with RGB data ([0..1] for floats or [0..255] for integers).\n"
     ]
    },
    {
     "data": {
      "image/png": "[encoded data removed]",
      "text/plain": [
       "<Figure size 432x288 with 1 Axes>"
      ]
     },
     "metadata": {
      "needs_background": "light"
     },
     "output_type": "display_data"
    }
   ],
   "source": [
    "%matplotlib inline\n",
    "import matplotlib.pyplot as plt\n",
    "\n",
    "# Plot the image\n",
    "plt.imshow(img)\n",
    "plt.show()"
   ]
  },
  {
   "cell_type": "markdown",
   "id": "8c182dcd-83fa-4223-b47c-5e8a42895902",
   "metadata": {},
   "source": [
    "The imshow() function expects arrays with values between 0 and 255 when the data type is uint8, but values between 0 and 1 when they are floating point numbers, so we get a warning saying that Pyplot is clipping the input data into a valid range and we get a white image\n",
    "\n",
    "**To solve the issue, we can simply divide the pixel values by 255 to normalize them between 0 and 1**"
   ]
  },
  {
   "cell_type": "code",
   "execution_count": 13,
   "id": "4a4d300b-3964-4475-978a-bf1cb2328524",
   "metadata": {},
   "outputs": [
    {
     "data": {
      "image/png": "[encoded data removed]",
      "text/plain": [
       "<Figure size 432x288 with 1 Axes>"
      ]
     },
     "metadata": {
      "needs_background": "light"
     },
     "output_type": "display_data"
    }
   ],
   "source": [
    "# Plot the rescaled image\n",
    "plt.imshow(img/255)\n",
    "plt.show()"
   ]
  },
  {
   "cell_type": "markdown",
   "id": "65986adb-79d3-4f29-9484-7deb2f603cf5",
   "metadata": {},
   "source": [
    "or change the data type to integer np.int (or np.uint8)\n",
    "\n"
   ]
  },
  {
   "cell_type": "code",
   "execution_count": 15,
   "id": "e8800ab3-602f-4887-bb8c-0a20a0b26d39",
   "metadata": {},
   "outputs": [
    {
     "data": {
      "image/png": "[encoded data removed]",
      "text/plain": [
       "<Figure size 432x288 with 1 Axes>"
      ]
     },
     "metadata": {
      "needs_background": "light"
     },
     "output_type": "display_data"
    }
   ],
   "source": [
    "# Plot image\n",
    "plt.imshow(img.astype(np.uint8))\n",
    "plt.show()"
   ]
  },
  {
   "cell_type": "code",
   "execution_count": null,
   "id": "1a877a16-d3b6-44ef-bab1-cd4692b93bad",
   "metadata": {},
   "outputs": [],
   "source": []
  }
 ],
 "metadata": {
  "kernelspec": {
   "display_name": "Python [conda env:adsml] *",
   "language": "python",
   "name": "conda-env-adsml-py"
  },
  "language_info": {
   "codemirror_mode": {
    "name": "ipython",
    "version": 3
   },
   "file_extension": ".py",
   "mimetype": "text/x-python",
   "name": "python",
   "nbconvert_exporter": "python",
   "pygments_lexer": "ipython3",
   "version": "3.9.7"
  }
 },
 "nbformat": 4,
 "nbformat_minor": 5
}
