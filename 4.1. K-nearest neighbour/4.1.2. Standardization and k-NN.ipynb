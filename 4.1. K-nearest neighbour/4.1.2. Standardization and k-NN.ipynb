{
 "cells": [
  {
   "cell_type": "markdown",
   "id": "f8c79cfa-3027-4c13-ab74-fd0143a8877e",
   "metadata": {},
   "source": [
    "**Standardization and k-NN**"
   ]
  },
  {
   "cell_type": "markdown",
   "id": "8caaff5b-01a9-4eb8-a6dd-9364f6ada5e7",
   "metadata": {},
   "source": [
    "In this unit, we will fit k-NN to the heart disease data. But before that, let’s first discuss the required preprocessing steps and do a quick refresher about standardization."
   ]
  },
  {
   "cell_type": "markdown",
   "id": "3e275b32-d454-47fb-9df8-bacb66990738",
   "metadata": {},
   "source": [
    "We know that standardization is needed in many situations. For instance, we saw that gradient descent underperforms or even diverges when features have different scales, or that it’s recommended to standardize data before applying regularization. But what about k-NN?"
   ]
  },
  {
   "cell_type": "markdown",
   "id": "1e597d9f-d7ef-45a5-a634-de18f133b3b5",
   "metadata": {},
   "source": [
    "First, k-NN doesn’t learn parameters from the training set. Its k value is a hyperparameter set before fitting the algorithm. Hence, it doesn’t use an optimizer like gradient descent. However, we need to be careful about the features scale because it uses a distance metric to find the nearest neighbors. In the case of the weight and height, the weight variable has a much larger scale than height. For this reason, we need to be careful: k-nearest neighbors searches for points with similar values. Since the weight values are more spread out, k-NN will favor points with similar weight values."
   ]
  },
  {
   "cell_type": "markdown",
   "id": "c04479a3-9b00-4e14-85a5-6570d53a7162",
   "metadata": {},
   "source": [
    "It’s important to note that standardizing the data doesn’t modify the information content: we can still observe the relationship between height and weight i.e. taller people weigh more.\n",
    "\n",
    "As you can see, the 100 points from the previous experiment in orange now form an ellipse with the weight variable as the minor axis. This reveals the bias of k-NN toward similar weight values."
   ]
  },
  {
   "cell_type": "markdown",
   "id": "21f74c67-a881-4569-b8f8-456f6adbe9f4",
   "metadata": {},
   "source": [
    "**When to apply standardization?**\n",
    "\n",
    "In practice, we standardize the input data for two reasons\n",
    "\n",
    "* Some optimization algorithms work better when the features are standardized ex. gradient descent\n",
    "* Some algorithms are sensitive to the scale of the features because they use a distance metric ex. k-NN\n",
    "* With regularization which expects features to be on the same scale"
   ]
  },
  {
   "cell_type": "markdown",
   "id": "f7b62416-41df-4f61-b149-e109918a1a66",
   "metadata": {},
   "source": [
    "**In most cases, it’s a good idea to standardize the features when using k-NN to avoid having a model that is biased toward features that have a larger scale.**"
   ]
  },
  {
   "cell_type": "markdown",
   "id": "fddc0157-1c50-4f35-a6cf-bacfbfab3d82",
   "metadata": {},
   "source": [
    "However we need to remember that by standardizing the data we transform the feature space and in some cases this transformation might produce undesired results. For instance, in the first example that we saw with the house prices from the “K-nearest neighbors” introductory unit, each data point is represented by its location on a longitude/latitude grid. But the data points (the houses) might be more spread out along the longitude or the latitude axis. (Long Beach (NY, USA) or the African state The Gambia are examples of this.) So in this case, we don’t want to rescale these two features individually, but with the same scaler. In other scenarios features may be representing different prices or the time intervals measured by different sensors. It depends on the particular context and our judgment whether we think that the relative relationship of these feature values is important and standardizing them risks distortion when using k-NN. **In any case, it’s a good idea to try with and without standardization to see what works best.**"
   ]
  },
  {
   "cell_type": "markdown",
   "id": "6e3f83f0-a515-45bf-a412-07a4f5371da8",
   "metadata": {},
   "source": [
    "**KNeighborsClassifier**\n",
    "Let’s see if we can improve our baseline with k-NN. First, let’s take a look at the features scale"
   ]
  },
  {
   "cell_type": "code",
   "execution_count": 1,
   "id": "e1bd13d7-b3dd-423e-9725-5c95ad962bfa",
   "metadata": {},
   "outputs": [
    {
     "data": {
      "text/html": [
       "<div>\n",
       "<style scoped>\n",
       "    .dataframe tbody tr th:only-of-type {\n",
       "        vertical-align: middle;\n",
       "    }\n",
       "\n",
       "    .dataframe tbody tr th {\n",
       "        vertical-align: top;\n",
       "    }\n",
       "\n",
       "    .dataframe thead th {\n",
       "        text-align: right;\n",
       "    }\n",
       "</style>\n",
       "<table border=\"1\" class=\"dataframe\">\n",
       "  <thead>\n",
       "    <tr style=\"text-align: right;\">\n",
       "      <th></th>\n",
       "      <th>age</th>\n",
       "      <th>trestbps</th>\n",
       "      <th>chol</th>\n",
       "      <th>thalach</th>\n",
       "      <th>oldpeak</th>\n",
       "      <th>ca</th>\n",
       "    </tr>\n",
       "  </thead>\n",
       "  <tbody>\n",
       "    <tr>\n",
       "      <th>count</th>\n",
       "      <td>303.000000</td>\n",
       "      <td>303.000000</td>\n",
       "      <td>303.000000</td>\n",
       "      <td>303.000000</td>\n",
       "      <td>303.000000</td>\n",
       "      <td>303.000000</td>\n",
       "    </tr>\n",
       "    <tr>\n",
       "      <th>mean</th>\n",
       "      <td>54.438944</td>\n",
       "      <td>131.689769</td>\n",
       "      <td>246.693069</td>\n",
       "      <td>149.607261</td>\n",
       "      <td>1.039604</td>\n",
       "      <td>0.663366</td>\n",
       "    </tr>\n",
       "    <tr>\n",
       "      <th>std</th>\n",
       "      <td>9.038662</td>\n",
       "      <td>17.599748</td>\n",
       "      <td>51.776918</td>\n",
       "      <td>22.875003</td>\n",
       "      <td>1.161075</td>\n",
       "      <td>0.934375</td>\n",
       "    </tr>\n",
       "    <tr>\n",
       "      <th>min</th>\n",
       "      <td>29.000000</td>\n",
       "      <td>94.000000</td>\n",
       "      <td>126.000000</td>\n",
       "      <td>71.000000</td>\n",
       "      <td>0.000000</td>\n",
       "      <td>0.000000</td>\n",
       "    </tr>\n",
       "    <tr>\n",
       "      <th>25%</th>\n",
       "      <td>48.000000</td>\n",
       "      <td>120.000000</td>\n",
       "      <td>211.000000</td>\n",
       "      <td>133.500000</td>\n",
       "      <td>0.000000</td>\n",
       "      <td>0.000000</td>\n",
       "    </tr>\n",
       "    <tr>\n",
       "      <th>50%</th>\n",
       "      <td>56.000000</td>\n",
       "      <td>130.000000</td>\n",
       "      <td>241.000000</td>\n",
       "      <td>153.000000</td>\n",
       "      <td>0.800000</td>\n",
       "      <td>0.000000</td>\n",
       "    </tr>\n",
       "    <tr>\n",
       "      <th>75%</th>\n",
       "      <td>61.000000</td>\n",
       "      <td>140.000000</td>\n",
       "      <td>275.000000</td>\n",
       "      <td>166.000000</td>\n",
       "      <td>1.600000</td>\n",
       "      <td>1.000000</td>\n",
       "    </tr>\n",
       "    <tr>\n",
       "      <th>max</th>\n",
       "      <td>77.000000</td>\n",
       "      <td>200.000000</td>\n",
       "      <td>564.000000</td>\n",
       "      <td>202.000000</td>\n",
       "      <td>6.200000</td>\n",
       "      <td>3.000000</td>\n",
       "    </tr>\n",
       "  </tbody>\n",
       "</table>\n",
       "</div>"
      ],
      "text/plain": [
       "              age    trestbps        chol     thalach     oldpeak          ca\n",
       "count  303.000000  303.000000  303.000000  303.000000  303.000000  303.000000\n",
       "mean    54.438944  131.689769  246.693069  149.607261    1.039604    0.663366\n",
       "std      9.038662   17.599748   51.776918   22.875003    1.161075    0.934375\n",
       "min     29.000000   94.000000  126.000000   71.000000    0.000000    0.000000\n",
       "25%     48.000000  120.000000  211.000000  133.500000    0.000000    0.000000\n",
       "50%     56.000000  130.000000  241.000000  153.000000    0.800000    0.000000\n",
       "75%     61.000000  140.000000  275.000000  166.000000    1.600000    1.000000\n",
       "max     77.000000  200.000000  564.000000  202.000000    6.200000    3.000000"
      ]
     },
     "execution_count": 1,
     "metadata": {},
     "output_type": "execute_result"
    }
   ],
   "source": [
    "import pandas as pd\n",
    "\n",
    "# Load data\n",
    "data_df = pd.read_csv(\"c4_heart-numerical.csv\")\n",
    "\n",
    "# Data summary\n",
    "data_df.describe()\n"
   ]
  },
  {
   "cell_type": "markdown",
   "id": "59a87ec4-1805-4ecd-a417-dffdaf516c97",
   "metadata": {},
   "source": [
    "The features have different scales, so we will add a StandardScaler step in our classification pipeline. But, let’s first split the data\n",
    "\n"
   ]
  },
  {
   "cell_type": "code",
   "execution_count": 2,
   "id": "55e345b9-eafc-4a76-8073-f1e608c590b5",
   "metadata": {},
   "outputs": [],
   "source": [
    "from sklearn.model_selection import train_test_split\n",
    "\n",
    "# Create X/y arrays\n",
    "X = data_df.drop(\"disease\", axis=1).values\n",
    "y = data_df.disease.values\n",
    "\n",
    "# Split data\n",
    "X_tr, X_te, y_tr, y_te = train_test_split(X, y, test_size=0.3, random_state=0)"
   ]
  },
  {
   "cell_type": "markdown",
   "id": "06d25b3e-0ce6-44bc-8c84-0235faad5814",
   "metadata": {},
   "source": [
    "We can now create a pipeline object with k-NN. Scikit-learn implements a KNeighborsRegressor and a KNeighborsClassifier estimator. We can set the number of neighbors with their n_neighbors attribute.\n",
    "\n",
    "Let’s try with the default value of 5"
   ]
  },
  {
   "cell_type": "code",
   "execution_count": 3,
   "id": "f78b3925-0be9-4176-8f1a-a5e676ed75fd",
   "metadata": {},
   "outputs": [
    {
     "name": "stdout",
     "output_type": "stream",
     "text": [
      "Accuracy: 0.747\n"
     ]
    }
   ],
   "source": [
    "from sklearn.neighbors import KNeighborsClassifier\n",
    "from sklearn.preprocessing import StandardScaler\n",
    "from sklearn.pipeline import Pipeline\n",
    "\n",
    "# Create a k-NN pipeline\n",
    "knn_pipe = Pipeline(\n",
    "    [(\"scaler\", StandardScaler()), (\"knn\", KNeighborsClassifier(n_neighbors=5))]\n",
    ")\n",
    "\n",
    "# Fit estimator\n",
    "knn_pipe.fit(X_tr, y_tr)\n",
    "\n",
    "# Evaluate on test set\n",
    "accuracy = knn_pipe.score(X_te, y_te)\n",
    "print(\"Accuracy: {:.3f}\".format(accuracy))"
   ]
  },
  {
   "cell_type": "markdown",
   "id": "3f604c22-5e67-43a9-bcdf-68b94c446357",
   "metadata": {},
   "source": [
    "The accuracy is already a lot better than the “most frequent” baseline from the previous unit: 75% vs. 52%.\n",
    "\n",
    "As a small experiment, let’s see what happens if we remove the scaler"
   ]
  },
  {
   "cell_type": "code",
   "execution_count": 4,
   "id": "a0c842ad-3ce5-468b-ac88-5b23da54ea11",
   "metadata": {},
   "outputs": [
    {
     "name": "stdout",
     "output_type": "stream",
     "text": [
      "Accuracy: 0.670\n"
     ]
    }
   ],
   "source": [
    "from sklearn.base import clone\n",
    "\n",
    "knn_pipe2 = clone(knn_pipe)\n",
    "knn_pipe2.set_params(scaler=None)\n",
    "knn_pipe2.fit(X_tr, y_tr)\n",
    "print(\"Accuracy: {:.3f}\".format(knn_pipe2.score(X_te, y_te)))"
   ]
  },
  {
   "cell_type": "markdown",
   "id": "02438e28-6ed0-47d2-91ca-04af4d6616c4",
   "metadata": {},
   "source": [
    "**Removing standardization hurts accuracy which drops to 67%.**"
   ]
  },
  {
   "cell_type": "markdown",
   "id": "7b8089b0-7bef-4010-b19d-fb9d504e356a",
   "metadata": {},
   "source": [
    "Tuning k with grid search\n",
    "Finally, let’s see if we can improve the results by tuning k. There is around 200 data points in the training set - to get a good overview of the effect of k, let’s generate a set of candidate values between 1 and 100 by steps of 5"
   ]
  },
  {
   "cell_type": "code",
   "execution_count": 5,
   "id": "e0fce752-385d-425a-a310-6f166fd95f46",
   "metadata": {},
   "outputs": [
    {
     "data": {
      "text/plain": [
       "array([  1,   5,  10,  15,  20,  25,  30,  35,  40,  45,  50,  55,  60,\n",
       "        65,  70,  75,  80,  85,  90,  95, 100])"
      ]
     },
     "execution_count": 5,
     "metadata": {},
     "output_type": "execute_result"
    }
   ],
   "source": [
    "import numpy as np\n",
    "\n",
    "# Generate a set of k values\n",
    "k_values = np.r_[1, np.arange(5, 101, step=5)]\n",
    "k_values"
   ]
  },
  {
   "cell_type": "code",
   "execution_count": 6,
   "id": "a6eeafa1-783d-442f-b53b-e92761fb7fae",
   "metadata": {},
   "outputs": [
    {
     "data": {
      "text/html": [
       "<div>\n",
       "<style scoped>\n",
       "    .dataframe tbody tr th:only-of-type {\n",
       "        vertical-align: middle;\n",
       "    }\n",
       "\n",
       "    .dataframe tbody tr th {\n",
       "        vertical-align: top;\n",
       "    }\n",
       "\n",
       "    .dataframe thead th {\n",
       "        text-align: right;\n",
       "    }\n",
       "</style>\n",
       "<table border=\"1\" class=\"dataframe\">\n",
       "  <thead>\n",
       "    <tr style=\"text-align: right;\">\n",
       "      <th></th>\n",
       "      <th>k</th>\n",
       "      <th>train_accuracy</th>\n",
       "      <th>test_accuracy</th>\n",
       "    </tr>\n",
       "  </thead>\n",
       "  <tbody>\n",
       "    <tr>\n",
       "      <th>8</th>\n",
       "      <td>40</td>\n",
       "      <td>0.740566</td>\n",
       "      <td>0.780220</td>\n",
       "    </tr>\n",
       "    <tr>\n",
       "      <th>4</th>\n",
       "      <td>20</td>\n",
       "      <td>0.754717</td>\n",
       "      <td>0.780220</td>\n",
       "    </tr>\n",
       "    <tr>\n",
       "      <th>7</th>\n",
       "      <td>35</td>\n",
       "      <td>0.768868</td>\n",
       "      <td>0.780220</td>\n",
       "    </tr>\n",
       "    <tr>\n",
       "      <th>3</th>\n",
       "      <td>15</td>\n",
       "      <td>0.768868</td>\n",
       "      <td>0.769231</td>\n",
       "    </tr>\n",
       "    <tr>\n",
       "      <th>5</th>\n",
       "      <td>25</td>\n",
       "      <td>0.768868</td>\n",
       "      <td>0.769231</td>\n",
       "    </tr>\n",
       "  </tbody>\n",
       "</table>\n",
       "</div>"
      ],
      "text/plain": [
       "    k  train_accuracy  test_accuracy\n",
       "8  40        0.740566       0.780220\n",
       "4  20        0.754717       0.780220\n",
       "7  35        0.768868       0.780220\n",
       "3  15        0.768868       0.769231\n",
       "5  25        0.768868       0.769231"
      ]
     },
     "execution_count": 6,
     "metadata": {},
     "output_type": "execute_result"
    }
   ],
   "source": [
    "#We can now run grid search using set_params() and a for loop\n",
    "\n",
    "# [Code adapted from the previous course]\n",
    "# Variable to store the results\n",
    "gs_results = []\n",
    "\n",
    "# Grid search\n",
    "for k in k_values:\n",
    "    # Fit k-NN model\n",
    "    knn_pipe.set_params(knn__n_neighbors=k)\n",
    "    knn_pipe.fit(X_tr, y_tr)\n",
    "\n",
    "    # Save model and its performance on train/test sets\n",
    "    gs_results.append(\n",
    "        {\n",
    "            \"k\": k,\n",
    "            \"train_accuracy\": knn_pipe.score(X_tr, y_tr),\n",
    "            \"test_accuracy\": knn_pipe.score(X_te, y_te),\n",
    "        }\n",
    "    )\n",
    "\n",
    "# Convert results to DataFrame\n",
    "gs_results = pd.DataFrame(gs_results)\n",
    "gs_results.sort_values(by=\"test_accuracy\", ascending=False).head()"
   ]
  },
  {
   "cell_type": "code",
   "execution_count": 7,
   "id": "2c14943b-3b19-41b8-b45f-ccc0aaa99806",
   "metadata": {},
   "outputs": [
    {
     "data": {
      "image/png": "[encoded data removed]",
      "text/plain": [
       "<Figure size 432x288 with 1 Axes>"
      ]
     },
     "metadata": {
      "needs_background": "light"
     },
     "output_type": "display_data"
    }
   ],
   "source": [
    "#The optimal k values seems to be between 20 and 40. To get a better overview, let’s plot the validation curves\n",
    "\n",
    "%matplotlib inline\n",
    "import matplotlib.pyplot as plt\n",
    "\n",
    "# Plot the validation curves\n",
    "plt.plot(gs_results[\"k\"], gs_results[\"train_accuracy\"], label=\"train curve\")\n",
    "plt.plot(gs_results[\"k\"], gs_results[\"test_accuracy\"], label=\"test curve\")\n",
    "plt.ylabel(\"accuracy\")\n",
    "plt.xlabel(\"k\")\n",
    "plt.legend()\n",
    "plt.show()"
   ]
  },
  {
   "cell_type": "markdown",
   "id": "c253f0bc-7946-46b4-8341-4c67e1ca0247",
   "metadata": {},
   "source": [
    "Average several runs\n",
    "\n",
    "There is no clear pattern for k between 20 and 40 in the results from above. Let’s see if we can get more stable results by averaging the scores over 30 runs\n",
    "\n"
   ]
  },
  {
   "cell_type": "code",
   "execution_count": 8,
   "id": "e5808519-27e5-439d-be67-add40278a4f3",
   "metadata": {},
   "outputs": [],
   "source": [
    "# Run several times the evaluation\n",
    "gs_results = []\n",
    "for run_idx in range(30):\n",
    "    # Split into train/test sets\n",
    "    X_tr, X_te, y_tr, y_te = train_test_split(X, y, test_size=0.3, random_state=run_idx)\n",
    "\n",
    "    # Grid search\n",
    "    for k in k_values:\n",
    "        # Fit k-NN model\n",
    "        knn_pipe.set_params(knn__n_neighbors=k)\n",
    "        knn_pipe.fit(X_tr, y_tr)\n",
    "\n",
    "        # Save model and its performance on train/test sets\n",
    "        gs_results.append(\n",
    "            {\n",
    "                \"k\": k,\n",
    "                \"run_idx\": run_idx,\n",
    "                \"train_accuracy\": knn_pipe.score(X_tr, y_tr),\n",
    "                \"test_accuracy\": knn_pipe.score(X_te, y_te),\n",
    "            }\n",
    "        )\n",
    "\n",
    "# Convert results to DataFrame\n",
    "gs_results = pd.DataFrame(gs_results)"
   ]
  },
  {
   "cell_type": "markdown",
   "id": "d81f6b3d-b681-422e-b9e9-f7039d63aea3",
   "metadata": {},
   "source": [
    "gs_results contains 30 scores for each k value. Let’s group the results and compute the average scores\n",
    "\n"
   ]
  },
  {
   "cell_type": "code",
   "execution_count": 9,
   "id": "af07ea1c-3aba-4430-9be1-51ae6f6e044f",
   "metadata": {},
   "outputs": [],
   "source": [
    "# Group results by alpha value\n",
    "grouped = gs_results.groupby(\"k\")\n",
    "\n",
    "# Compute train/test mean scores with std\n",
    "mean_tr = grouped.train_accuracy.mean()\n",
    "mean_te = grouped.test_accuracy.mean()\n",
    "std_tr = grouped.train_accuracy.std()\n",
    "std_te = grouped.test_accuracy.std()"
   ]
  },
  {
   "cell_type": "code",
   "execution_count": 10,
   "id": "af31fdec-f316-46b3-b4be-90be7e9e07e4",
   "metadata": {},
   "outputs": [
    {
     "data": {
      "image/png": "[encoded data removed]",
      "text/plain": [
       "<Figure size 432x288 with 1 Axes>"
      ]
     },
     "metadata": {
      "needs_background": "light"
     },
     "output_type": "display_data"
    }
   ],
   "source": [
    "##We can now plot the average validation curves\n",
    "\n",
    "# Plot mean scores\n",
    "plt.plot(k_values, mean_tr, label=\"train\")\n",
    "plt.plot(k_values, mean_te, label=\"test\")\n",
    "\n",
    "# Add marker for best score\n",
    "best_k = mean_te.idxmax()\n",
    "plt.scatter(best_k, mean_te.max(), marker=\"x\", c=\"red\", zorder=10)\n",
    "\n",
    "# Quantify variance with ±std curves\n",
    "plt.fill_between(k_values, mean_tr - std_tr, mean_tr + std_tr, alpha=0.2)\n",
    "plt.fill_between(k_values, mean_te - std_te, mean_te + std_te, alpha=0.2)\n",
    "plt.title(\"Best k: {} with {:.1f}% accuracy\".format(best_k, 100 * mean_te[best_k]))\n",
    "plt.ylabel(\"accuracy\")\n",
    "plt.xlabel(\"k\")\n",
    "plt.legend()\n",
    "plt.show()\n"
   ]
  },
  {
   "cell_type": "markdown",
   "id": "8ff15fe1-139f-48c7-9ac2-ef63046ed92c",
   "metadata": {},
   "source": [
    "The best k value is around 35 with a mean accuracy of 76% and a standard deviation around 4%.\n",
    "\n",
    "As a small experiment, we can compare the results without standardization by adding scaler=None to the knn_pipe.set_params() call in the for loop"
   ]
  },
  {
   "cell_type": "code",
   "execution_count": 11,
   "id": "ab7a0f7f-df09-43ba-a1a4-0633121a481c",
   "metadata": {},
   "outputs": [
    {
     "data": {
      "text/plain": [
       "Pipeline(steps=[('scaler', None),\n",
       "                ('knn', KNeighborsClassifier(n_neighbors=100))])"
      ]
     },
     "execution_count": 11,
     "metadata": {},
     "output_type": "execute_result"
    }
   ],
   "source": [
    "knn_pipe.set_params(scaler=None, knn__n_neighbors=k)"
   ]
  },
  {
   "cell_type": "code",
   "execution_count": 12,
   "id": "d2657580-1c51-4d9c-b398-610b30104d78",
   "metadata": {},
   "outputs": [
    {
     "data": {
      "image/png": "[encoded data removed]",
      "text/plain": [
       "<Figure size 432x288 with 1 Axes>"
      ]
     },
     "metadata": {
      "needs_background": "light"
     },
     "output_type": "display_data"
    }
   ],
   "source": [
    "# Run several times the evaluation\n",
    "gs_results = []\n",
    "for run_idx in range(30):\n",
    "    # Split into train/test sets\n",
    "    X_tr, X_te, y_tr, y_te = train_test_split(X, y, test_size=0.3, random_state=run_idx)\n",
    "\n",
    "    # Grid search\n",
    "    for k in k_values:\n",
    "        # Fit k-NN model\n",
    "        knn_pipe.set_params(scaler=None, knn__n_neighbors=k)\n",
    "        knn_pipe.fit(X_tr, y_tr)\n",
    "\n",
    "        # Save model and its performance on train/test sets\n",
    "        gs_results.append(\n",
    "            {\n",
    "                \"k\": k,\n",
    "                \"run_idx\": run_idx,\n",
    "                \"train_accuracy\": knn_pipe.score(X_tr, y_tr),\n",
    "                \"test_accuracy\": knn_pipe.score(X_te, y_te),\n",
    "            }\n",
    "        )\n",
    "\n",
    "# Convert results to DataFrame\n",
    "gs_results = pd.DataFrame(gs_results)\n",
    "\n",
    "# Group results by alpha value\n",
    "grouped = gs_results.groupby(\"k\")\n",
    "\n",
    "# Compute train/test mean scores with std\n",
    "mean_tr = grouped.train_accuracy.mean()\n",
    "mean_te = grouped.test_accuracy.mean()\n",
    "std_tr = grouped.train_accuracy.std()\n",
    "std_te = grouped.test_accuracy.std()\n",
    "\n",
    "##We can now plot the average validation curves\n",
    "\n",
    "# Plot mean scores\n",
    "plt.plot(k_values, mean_tr, label=\"train\")\n",
    "plt.plot(k_values, mean_te, label=\"test\")\n",
    "\n",
    "# Add marker for best score\n",
    "best_k = mean_te.idxmax()\n",
    "plt.scatter(best_k, mean_te.max(), marker=\"x\", c=\"red\", zorder=10)\n",
    "\n",
    "# Quantify variance with ±std curves\n",
    "plt.fill_between(k_values, mean_tr - std_tr, mean_tr + std_tr, alpha=0.2)\n",
    "plt.fill_between(k_values, mean_te - std_te, mean_te + std_te, alpha=0.2)\n",
    "plt.title(\"Best k: {} with {:.1f}% accuracy\".format(best_k, 100 * mean_te[best_k]))\n",
    "plt.ylabel(\"accuracy\")\n",
    "plt.xlabel(\"k\")\n",
    "plt.legend()\n",
    "plt.show()\n"
   ]
  },
  {
   "cell_type": "markdown",
   "id": "1e13e366-9b11-46b6-ac46-4978800517db",
   "metadata": {},
   "source": [
    "The optimal k is now around 20 with an accuracy of 66 ± 4%."
   ]
  },
  {
   "cell_type": "markdown",
   "id": "7b248b9e-4380-4e72-b645-0af72b24fb70",
   "metadata": {},
   "source": [
    "**Classification report**\n",
    "\n",
    "Above, we decided to tune our k-NN estimator based on the accuracy metric. But, let’s take a look at the other classification metrics that we saw in the last unit."
   ]
  },
  {
   "cell_type": "code",
   "execution_count": 13,
   "id": "6a426bf3-2e5b-42e1-a16d-5185e1f13423",
   "metadata": {},
   "outputs": [
    {
     "name": "stdout",
     "output_type": "stream",
     "text": [
      "              precision    recall  f1-score   support\n",
      "\n",
      "     absence       0.57      0.90      0.70        41\n",
      "    presence       0.85      0.44      0.58        50\n",
      "\n",
      "    accuracy                           0.65        91\n",
      "   macro avg       0.71      0.67      0.64        91\n",
      "weighted avg       0.72      0.65      0.63        91\n",
      "\n"
     ]
    }
   ],
   "source": [
    "from sklearn.metrics import classification_report\n",
    "\n",
    "# Tuned k-NN estimator\n",
    "tuned_knn = Pipeline(\n",
    "    [(\"scaler\", StandardScaler()), (\"knn\", KNeighborsClassifier(n_neighbors=best_k))]\n",
    ")\n",
    "tuned_knn.fit(X_tr, y_tr)\n",
    "\n",
    "# Classification report\n",
    "y_te_preds = tuned_knn.predict(X_te)\n",
    "print(classification_report(y_true=y_te, y_pred=y_te_preds))"
   ]
  },
  {
   "cell_type": "markdown",
   "id": "f0cbb442-7803-43eb-8326-21752657d577",
   "metadata": {},
   "source": [
    "As we can see, the recall value (i.e. “How many times do we predict positive when it is?”) is around 0.48 which is not really good for our use case: our k-NN estimator only detected 48% of sick patients. In a medical application, a doctor might want to detect most of the patients that have the disease, at the cost of increasing the misclassification rate for healthy patients which is not an issue if further tests can be performed for those patients.\n",
    "\n",
    "So, how can we achieve this? At the moment, our k-NN estimator retrieves the k nearest patients, computes the proportion of patients in each class within the neighborhood and predicts the most frequent class. We can retrieve those proportions with the predict_proba() function of the estimator\n",
    "\n"
   ]
  },
  {
   "cell_type": "code",
   "execution_count": 14,
   "id": "0243f496-f0a6-4231-ac62-5e14e8f06d05",
   "metadata": {},
   "outputs": [
    {
     "name": "stdout",
     "output_type": "stream",
     "text": [
      "Predictions: ['absence' 'presence' 'presence' 'absence' 'presence']\n",
      "Probs:\n",
      "[[0.9  0.1 ]\n",
      " [0.15 0.85]\n",
      " [0.25 0.75]\n",
      " [0.7  0.3 ]\n",
      " [0.15 0.85]]\n"
     ]
    }
   ],
   "source": [
    "# Compute probabilities\n",
    "y_te_probs = tuned_knn.predict_proba(X_te)\n",
    "print(\"Predictions:\", y_te_preds[:5])\n",
    "print(\"Probs:\")\n",
    "print(y_te_probs[:5])"
   ]
  },
  {
   "cell_type": "markdown",
   "id": "d7956561-9d80-40ab-a639-f22a6e1cfd46",
   "metadata": {},
   "source": [
    "For instance, 80% of the k=35 nearest patients to the first test one are labeled as healthy (first column) and the remaining 20% as sick (second column), so the patient is labeled with absence. In other words, our estimator labels patients as sick when the probability in the second column is more than 50%.\n",
    "\n",
    "Let’s see how we can increase recall by adjusting this threshold!"
   ]
  },
  {
   "cell_type": "markdown",
   "id": "45a48a23-2d77-45a7-8a90-067c83bdbafb",
   "metadata": {},
   "source": [
    "**ROC curve**\n",
    "We discussed above the idea of adjusting our detection threshold to increase the number of times we detect sick patients at the cost of misclassifying healthy patients. A way to analyze the relation between those two quantities is by plotting the Receiver operating characteristic (ROC) curve.\n",
    "\n",
    "To compute it, we can use the roc_curve() function from Scikit-learn"
   ]
  },
  {
   "cell_type": "code",
   "execution_count": 15,
   "id": "05a0a067-2620-4244-a5ca-f8d991216cfa",
   "metadata": {},
   "outputs": [],
   "source": [
    "from sklearn.metrics import roc_curve\n",
    "\n",
    "# ROC curve\n",
    "fpr, tpr, thresholds = roc_curve(\n",
    "    y_true=y_te, y_score=y_te_probs[:, 1], pos_label=\"presence\"\n",
    ")"
   ]
  },
  {
   "cell_type": "markdown",
   "id": "0cefe4a0-e016-4b14-98af-1dd8a1a4be86",
   "metadata": {},
   "source": [
    "In this code, we pass the true values y_te and y_te_probs[:, 1] which contains the probabilities for the disease category.\n",
    "\n",
    "The function returns three arrays\n",
    "\n",
    "* The False Positive Rate (FPR) - how many times we misclassify healthy patients\n",
    "* The True Positive Rate (TPR) or Recall - how many times we correctly classify sick patients\n",
    "* The associated threshold values\n",
    "\n",
    "Let’s visualize those scores as a table with a DataFrame"
   ]
  },
  {
   "cell_type": "code",
   "execution_count": 16,
   "id": "f69e045e-f9dc-43a8-98f0-a3abfea7382a",
   "metadata": {},
   "outputs": [
    {
     "data": {
      "text/html": [
       "<div>\n",
       "<style scoped>\n",
       "    .dataframe tbody tr th:only-of-type {\n",
       "        vertical-align: middle;\n",
       "    }\n",
       "\n",
       "    .dataframe tbody tr th {\n",
       "        vertical-align: top;\n",
       "    }\n",
       "\n",
       "    .dataframe thead th {\n",
       "        text-align: right;\n",
       "    }\n",
       "</style>\n",
       "<table border=\"1\" class=\"dataframe\">\n",
       "  <thead>\n",
       "    <tr style=\"text-align: right;\">\n",
       "      <th></th>\n",
       "      <th>fpr</th>\n",
       "      <th>tpr (recall)</th>\n",
       "      <th>thresholds</th>\n",
       "    </tr>\n",
       "  </thead>\n",
       "  <tbody>\n",
       "    <tr>\n",
       "      <th>0</th>\n",
       "      <td>0.000000</td>\n",
       "      <td>0.00</td>\n",
       "      <td>1.95</td>\n",
       "    </tr>\n",
       "    <tr>\n",
       "      <th>1</th>\n",
       "      <td>0.000000</td>\n",
       "      <td>0.08</td>\n",
       "      <td>0.95</td>\n",
       "    </tr>\n",
       "    <tr>\n",
       "      <th>2</th>\n",
       "      <td>0.024390</td>\n",
       "      <td>0.14</td>\n",
       "      <td>0.90</td>\n",
       "    </tr>\n",
       "    <tr>\n",
       "      <th>3</th>\n",
       "      <td>0.048780</td>\n",
       "      <td>0.26</td>\n",
       "      <td>0.85</td>\n",
       "    </tr>\n",
       "    <tr>\n",
       "      <th>4</th>\n",
       "      <td>0.048780</td>\n",
       "      <td>0.34</td>\n",
       "      <td>0.70</td>\n",
       "    </tr>\n",
       "    <tr>\n",
       "      <th>5</th>\n",
       "      <td>0.073171</td>\n",
       "      <td>0.34</td>\n",
       "      <td>0.65</td>\n",
       "    </tr>\n",
       "    <tr>\n",
       "      <th>6</th>\n",
       "      <td>0.073171</td>\n",
       "      <td>0.40</td>\n",
       "      <td>0.60</td>\n",
       "    </tr>\n",
       "    <tr>\n",
       "      <th>7</th>\n",
       "      <td>0.097561</td>\n",
       "      <td>0.44</td>\n",
       "      <td>0.55</td>\n",
       "    </tr>\n",
       "    <tr>\n",
       "      <th>8</th>\n",
       "      <td>0.170732</td>\n",
       "      <td>0.60</td>\n",
       "      <td>0.50</td>\n",
       "    </tr>\n",
       "    <tr>\n",
       "      <th>9</th>\n",
       "      <td>0.195122</td>\n",
       "      <td>0.66</td>\n",
       "      <td>0.45</td>\n",
       "    </tr>\n",
       "    <tr>\n",
       "      <th>10</th>\n",
       "      <td>0.243902</td>\n",
       "      <td>0.68</td>\n",
       "      <td>0.40</td>\n",
       "    </tr>\n",
       "    <tr>\n",
       "      <th>11</th>\n",
       "      <td>0.292683</td>\n",
       "      <td>0.78</td>\n",
       "      <td>0.35</td>\n",
       "    </tr>\n",
       "    <tr>\n",
       "      <th>12</th>\n",
       "      <td>0.390244</td>\n",
       "      <td>0.86</td>\n",
       "      <td>0.30</td>\n",
       "    </tr>\n",
       "    <tr>\n",
       "      <th>13</th>\n",
       "      <td>0.512195</td>\n",
       "      <td>0.90</td>\n",
       "      <td>0.25</td>\n",
       "    </tr>\n",
       "    <tr>\n",
       "      <th>14</th>\n",
       "      <td>0.585366</td>\n",
       "      <td>0.90</td>\n",
       "      <td>0.20</td>\n",
       "    </tr>\n",
       "    <tr>\n",
       "      <th>15</th>\n",
       "      <td>0.682927</td>\n",
       "      <td>0.90</td>\n",
       "      <td>0.15</td>\n",
       "    </tr>\n",
       "    <tr>\n",
       "      <th>16</th>\n",
       "      <td>0.829268</td>\n",
       "      <td>0.94</td>\n",
       "      <td>0.10</td>\n",
       "    </tr>\n",
       "    <tr>\n",
       "      <th>17</th>\n",
       "      <td>0.951220</td>\n",
       "      <td>0.98</td>\n",
       "      <td>0.05</td>\n",
       "    </tr>\n",
       "    <tr>\n",
       "      <th>18</th>\n",
       "      <td>1.000000</td>\n",
       "      <td>1.00</td>\n",
       "      <td>0.00</td>\n",
       "    </tr>\n",
       "  </tbody>\n",
       "</table>\n",
       "</div>"
      ],
      "text/plain": [
       "         fpr  tpr (recall)  thresholds\n",
       "0   0.000000          0.00        1.95\n",
       "1   0.000000          0.08        0.95\n",
       "2   0.024390          0.14        0.90\n",
       "3   0.048780          0.26        0.85\n",
       "4   0.048780          0.34        0.70\n",
       "5   0.073171          0.34        0.65\n",
       "6   0.073171          0.40        0.60\n",
       "7   0.097561          0.44        0.55\n",
       "8   0.170732          0.60        0.50\n",
       "9   0.195122          0.66        0.45\n",
       "10  0.243902          0.68        0.40\n",
       "11  0.292683          0.78        0.35\n",
       "12  0.390244          0.86        0.30\n",
       "13  0.512195          0.90        0.25\n",
       "14  0.585366          0.90        0.20\n",
       "15  0.682927          0.90        0.15\n",
       "16  0.829268          0.94        0.10\n",
       "17  0.951220          0.98        0.05\n",
       "18  1.000000          1.00        0.00"
      ]
     },
     "execution_count": 16,
     "metadata": {},
     "output_type": "execute_result"
    }
   ],
   "source": [
    "pd.DataFrame({\"fpr\": fpr, \"tpr (recall)\": tpr, \"thresholds\": thresholds})"
   ]
  },
  {
   "cell_type": "code",
   "execution_count": 17,
   "id": "bb62535b-48d9-406a-a96a-219074a92105",
   "metadata": {},
   "outputs": [
    {
     "data": {
      "image/png": "[encoded data removed]",
      "text/plain": [
       "<Figure size 432x288 with 1 Axes>"
      ]
     },
     "metadata": {
      "needs_background": "light"
     },
     "output_type": "display_data"
    }
   ],
   "source": [
    "# Plot ROC curve\n",
    "plt.plot(fpr, tpr, label=\"ROC curve\")\n",
    "plt.xlabel(\"False Positive Rate\")\n",
    "plt.ylabel(\"True Positive Rate (Recall)\")\n",
    "plt.title('ROC curve for \"presence\"')\n",
    "plt.show()"
   ]
  },
  {
   "cell_type": "markdown",
   "id": "a06d2310-3933-4c76-bab9-0fea29986d49",
   "metadata": {},
   "source": [
    "Ideally, we would like to have a curve close to the upper left corner of the plot with a high recall and a small false positive rate. A way to quantify how close our curve is to that ideal one is to compute the “area” under our ROC curve (AUC)\n",
    "\n"
   ]
  },
  {
   "cell_type": "code",
   "execution_count": 18,
   "id": "808e5393-c05b-4aba-8a82-af4082281860",
   "metadata": {},
   "outputs": [
    {
     "data": {
      "text/plain": [
       "0.7887804878048781"
      ]
     },
     "execution_count": 18,
     "metadata": {},
     "output_type": "execute_result"
    }
   ],
   "source": [
    "from sklearn.metrics import roc_auc_score\n",
    "\n",
    "# Area under the curve (AUC)\n",
    "roc_auc_score(y_true=y_te, y_score=y_te_probs[:, 1])"
   ]
  },
  {
   "cell_type": "markdown",
   "id": "c2ed8f22-06e4-4e82-8bc6-b46e43ecca9c",
   "metadata": {},
   "source": [
    "In our case, we have an AUC around 0.79\n",
    "\n",
    "Let’s get back to the table and see how we can adapt the threshold to achieve a recall score of 90%. By looking at the second column, we see that the first recall score above 90% is row 21: by setting the threshold to 20%, we should get a recall of 92% - let’s verify this with code!"
   ]
  },
  {
   "cell_type": "code",
   "execution_count": 19,
   "id": "fe685de5-5568-4f38-92af-506007fd3916",
   "metadata": {},
   "outputs": [
    {
     "name": "stdout",
     "output_type": "stream",
     "text": [
      "              precision    recall  f1-score   support\n",
      "\n",
      "     absence       0.77      0.41      0.54        41\n",
      "    presence       0.65      0.90      0.76        50\n",
      "\n",
      "    accuracy                           0.68        91\n",
      "   macro avg       0.71      0.66      0.65        91\n",
      "weighted avg       0.71      0.68      0.66        91\n",
      "\n"
     ]
    }
   ],
   "source": [
    "# Adjust threshold\n",
    "custom_preds = [\"absence\" if p else \"presence\" for p in (y_te_probs[:, 1] < 0.2)]\n",
    "\n",
    "print(classification_report(y_true=y_te, y_pred=custom_preds))"
   ]
  },
  {
   "cell_type": "markdown",
   "id": "33c3dba2-4ee8-4803-ba7e-d919a29e0d69",
   "metadata": {},
   "source": [
    "In this code, we make predictions based on this new probability threshold and print the classification report. As we can see, the recall value when the positive class is presence is now 90% with a precision (i.e. How many times are we correct when we predict presence) of 65%."
   ]
  },
  {
   "cell_type": "code",
   "execution_count": null,
   "id": "fff188be-02a7-46dd-b7b8-260824a6836e",
   "metadata": {},
   "outputs": [],
   "source": []
  }
 ],
 "metadata": {
  "kernelspec": {
   "display_name": "Python [conda env:adsml] *",
   "language": "python",
   "name": "conda-env-adsml-py"
  },
  "language_info": {
   "codemirror_mode": {
    "name": "ipython",
    "version": 3
   },
   "file_extension": ".py",
   "mimetype": "text/x-python",
   "name": "python",
   "nbconvert_exporter": "python",
   "pygments_lexer": "ipython3",
   "version": "3.9.7"
  }
 },
 "nbformat": 4,
 "nbformat_minor": 5
}
