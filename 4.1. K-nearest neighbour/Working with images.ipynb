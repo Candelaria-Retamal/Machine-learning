{
 "cells": [
  {
   "cell_type": "markdown",
   "id": "c2a15b52-a6ef-4eb6-8717-0d9e97b601e0",
   "metadata": {},
   "source": [
    "**Working with images**\n",
    "\n",
    "**Grayscale images:** In the next exercise, you will build a k-NN classifier for the MNIST database which is a set of 60 thousand grayscale images of handwritten digits. The images have been preprocessed, and digits have approximately the same size, position, orientation, and a uniform white background."
   ]
  },
  {
   "cell_type": "markdown",
   "id": "e0350bd9-d725-4a63-90ff-4b02914629c8",
   "metadata": {},
   "source": [
    "We will now see how to load and plot the mnist-img.png image which is a handwritten nine taken from this dataset. To achieve this, we will use the Pillow (PIL) library. Note that there are alternative ways (ex. the imread() function from Matplotlib or Scipy) but many depend on the PIL library internally.\n",
    "\n",
    "The Pillow library implements an open() function in its Image module. Let’s use it to load our image into a pillow_img variable"
   ]
  },
  {
   "cell_type": "code",
   "execution_count": 1,
   "id": "62e829be-5f1d-4cbe-83de-7e4173dadd09",
   "metadata": {},
   "outputs": [
    {
     "name": "stdout",
     "output_type": "stream",
     "text": [
      "Type: <class 'PIL.PngImagePlugin.PngImageFile'>\n"
     ]
    }
   ],
   "source": [
    "from PIL import Image\n",
    "\n",
    "# Load the image using PIL\n",
    "pillow_img = Image.open(\"c4_mnist-img.png\")\n",
    "\n",
    "# Print its type\n",
    "print(\"Type:\", type(pillow_img))"
   ]
  },
  {
   "cell_type": "markdown",
   "id": "c04663f6-c247-4457-bc9b-c07c23ee517a",
   "metadata": {},
   "source": [
    "In this code, we load the image into a pillow_img variable and print its type. As we can see, it’s a PngImageFile object. We cannot use this object in our machine learning tasks directly, but we can easily convert it into a Numpy array with the np.array() function\n",
    "\n"
   ]
  },
  {
   "cell_type": "code",
   "execution_count": 2,
   "id": "07f307e7-dad9-4635-ab50-d397de86202d",
   "metadata": {},
   "outputs": [
    {
     "name": "stdout",
     "output_type": "stream",
     "text": [
      "Type: <class 'numpy.ndarray'>\n"
     ]
    }
   ],
   "source": [
    "import numpy as np\n",
    "\n",
    "# Load it into a Numpy array\n",
    "img = np.array(pillow_img)\n",
    "\n",
    "# Print its type\n",
    "print('Type:', type(img))"
   ]
  },
  {
   "cell_type": "code",
   "execution_count": 3,
   "id": "7c8bd11c-3eb5-4ee7-b658-8568eaa97ae5",
   "metadata": {},
   "outputs": [
    {
     "name": "stdout",
     "output_type": "stream",
     "text": [
      "shape: (28, 28)\n",
      "min: 0 max: 255\n",
      "dtype: uint8\n"
     ]
    }
   ],
   "source": [
    "# We now have an img variable that represents our image. Let’s take a look at it\n",
    "\n",
    "print('shape:', img.shape)\n",
    "print('min:', img.min(), 'max:', img.max())\n",
    "print('dtype:', img.dtype)"
   ]
  },
  {
   "cell_type": "markdown",
   "id": "a415b6c7-4a05-44cb-a392-bf95046c0c6c",
   "metadata": {},
   "source": [
    "As we can see, it’s a 2-dimensional array of shape 28 by 28. In fact, each value in this array corresponds to a pixel in the image and values range between 0 and 255. For this reason, its data type is uint8 since 8 bits (or one byte) are sufficient to store this range of values - each bit can take 2 values: 0 or 1, so 8 bits can take 2*2*2*2*2*2*2*2=2^8=256 values ex. from 0 to 255.\n",
    "\n",
    "We can now plot the image using the imshow() function from Matplotlib"
   ]
  },
  {
   "cell_type": "code",
   "execution_count": 4,
   "id": "233555b2-2a91-4385-8a35-68babbe6a3bb",
   "metadata": {},
   "outputs": [
    {
     "data": {
      "image/png": "[encoded data removed]",
      "text/plain": [
       "<Figure size 432x288 with 1 Axes>"
      ]
     },
     "metadata": {
      "needs_background": "light"
     },
     "output_type": "display_data"
    }
   ],
   "source": [
    "%matplotlib inline\n",
    "import matplotlib.pyplot as plt\n",
    "\n",
    "# Plot the image\n",
    "plt.imshow(img)\n",
    "plt.show()"
   ]
  },
  {
   "cell_type": "markdown",
   "id": "b9fe035d-ca66-4ba9-b510-5e0151014206",
   "metadata": {},
   "source": [
    "The code returns a plot of the handwritten nine\n",
    "\n",
    "Each value in the img array is a pixel intensity. The imshow() function uses objects called colormaps to plot the array of pixel intensities. By default, it uses this yellow-purple scale called viridis. To get the list of colormaps available in Matplotlib, you can check the colormaps reference.\n",
    "\n",
    "In our case, we want to use the grayscale colormap. To achieve this, we can use the cmap argument and set it to plt.cm.gray"
   ]
  },
  {
   "cell_type": "code",
   "execution_count": 5,
   "id": "212b9341-033f-41bd-ba0b-ccce2c4e832f",
   "metadata": {},
   "outputs": [
    {
     "data": {
      "image/png": "[encoded data removed]",
      "text/plain": [
       "<Figure size 432x288 with 1 Axes>"
      ]
     },
     "metadata": {
      "needs_background": "light"
     },
     "output_type": "display_data"
    }
   ],
   "source": [
    "plt.imshow(img, cmap=plt.cm.gray)\n",
    "plt.show()"
   ]
  },
  {
   "cell_type": "markdown",
   "id": "a93c2893-978f-4fba-8499-6e36a6011b15",
   "metadata": {},
   "source": [
    " However, the grayscale usually denote white intensity. In other words, the image from above corresponds to the negative image.\n",
    "\n",
    "To solve this, we can simply use the reversed grayscale **gray_r**"
   ]
  },
  {
   "cell_type": "code",
   "execution_count": 6,
   "id": "417a2609-02be-4f75-b4bd-e4ba26369043",
   "metadata": {},
   "outputs": [
    {
     "data": {
      "image/png": "[encoded data removed]",
      "text/plain": [
       "<Figure size 432x288 with 1 Axes>"
      ]
     },
     "metadata": {
      "needs_background": "light"
     },
     "output_type": "display_data"
    }
   ],
   "source": [
    "# gray_r means reversed grayscaled\n",
    "plt.imshow(img, cmap=plt.cm.gray_r)\n",
    "plt.show()"
   ]
  },
  {
   "cell_type": "markdown",
   "id": "137f0a9c-4893-4f36-8161-8f05d541be41",
   "metadata": {},
   "source": [
    "Note that the y-axis is reversed in the plot - the origin at (0,0) is in the top left corner instead of the bottom left one. This is because we are plotting a 2-dimensional Numpy array. Hence, we shouldn’t think in terms of x- and y-axis but rather in terms of row and column positions. Here’s the image from above, but with the indexes that correspond to the Numpy array."
   ]
  },
  {
   "cell_type": "code",
   "execution_count": 7,
   "id": "c83e2f37-1fc8-437c-a476-eec690377deb",
   "metadata": {},
   "outputs": [
    {
     "ename": "TypeError",
     "evalue": "'module' object is not callable",
     "output_type": "error",
     "traceback": [
      "\u001b[1;31m---------------------------------------------------------------------------\u001b[0m",
      "\u001b[1;31mTypeError\u001b[0m                                 Traceback (most recent call last)",
      "\u001b[1;32m~\\AppData\\Local\\Temp/ipykernel_44500/2343374269.py\u001b[0m in \u001b[0;36m<module>\u001b[1;34m\u001b[0m\n\u001b[0;32m      1\u001b[0m \u001b[1;31m#from IPython.display import Image\u001b[0m\u001b[1;33m\u001b[0m\u001b[1;33m\u001b[0m\u001b[0m\n\u001b[1;32m----> 2\u001b[1;33m \u001b[0mImage\u001b[0m\u001b[1;33m(\u001b[0m\u001b[0mfilename\u001b[0m\u001b[1;33m=\u001b[0m\u001b[1;34m\"nine.png\"\u001b[0m\u001b[1;33m)\u001b[0m\u001b[1;33m\u001b[0m\u001b[1;33m\u001b[0m\u001b[0m\n\u001b[0m",
      "\u001b[1;31mTypeError\u001b[0m: 'module' object is not callable"
     ]
    }
   ],
   "source": [
    "#from IPython.display import Image\n",
    "#Image(filename=\"nine.png\")"
   ]
  },
  {
   "cell_type": "markdown",
   "id": "695a08f7-1739-4a87-b2b4-b6fa89c21189",
   "metadata": {},
   "source": [
    "For instance, the pixel at img[6,17] (6th row and 17th column) corresponds roughly to the top of the handwritten nine.\n",
    "\n",
    "Let’s now see how to work with color images.\n",
    "\n",
    "**Color images**\n",
    "In the next subject, we will build an image classifier for the CIFAR-10 database which contains 32 by 32 color images. The number 10 in the name corresponds to the number of categories. For instance, we will classify images of cars, ships, horses, airplanes. Here are some images from the dataset."
   ]
  },
  {
   "cell_type": "markdown",
   "id": "a5a2f81e-9a8f-44cd-b039-d570078c9861",
   "metadata": {},
   "source": [
    "We will now work with the cifar-img.png image which is the image of a horse in the sample images from above (in the top right corner).\n",
    "\n",
    "Let’s start by loading it using the open() function from PIL"
   ]
  },
  {
   "cell_type": "code",
   "execution_count": 8,
   "id": "8a79270f-0ca2-4f5f-8610-5ef1947580f7",
   "metadata": {},
   "outputs": [],
   "source": [
    "# Load the image using PIL\n",
    "pillow_img = Image.open('c4_cifar-img.png')\n",
    "\n",
    "# Convert into Numpy array\n",
    "img = np.array(pillow_img)"
   ]
  },
  {
   "cell_type": "code",
   "execution_count": 9,
   "id": "9985ca30-ce5e-4740-897a-cc78d25adbf0",
   "metadata": {},
   "outputs": [
    {
     "name": "stdout",
     "output_type": "stream",
     "text": [
      "shape: (32, 32, 3)\n",
      "dtype: uint8\n"
     ]
    }
   ],
   "source": [
    "print('shape:', img.shape) # (32, 32, 3)\n",
    "print('dtype:', img.dtype) # uint8"
   ]
  },
  {
   "cell_type": "markdown",
   "id": "5048ae7a-aca9-4ce0-9470-a5ed0bab3205",
   "metadata": {},
   "source": [
    "This code is similar to what we saw for grayscale images. We load the cifar-img.png file and then convert it into a Numpy array. Again, let’s print its shape and data type\n",
    "\n"
   ]
  },
  {
   "cell_type": "markdown",
   "id": "40b85959-da3a-4263-8357-bcb4134ccdfb",
   "metadata": {},
   "source": [
    "The only difference with grayscale images is the shape of the array which is now 3-dimensional with three values in the last dimension. This is because the image uses the RGB color model which associates pixels with three values that correspond to the red, green and blue color channels. There are other possible representations used in image analysis such as the HLS one, but we will only work with RGB images in this course.\n",
    "\n",
    "It’s interesting to note that the color channels correspond to the last dimension of the img array. Later in this course, we will learn about deep learning, and we will use the TensorFlow library which also uses this (height, width, channels) convention.\n",
    "\n",
    "Let’s plot the image using imshow(). This time, we don’t need to use a colormap. The function automatically uses the RGB model when we pass a 3-dimensional array with three channels."
   ]
  },
  {
   "cell_type": "code",
   "execution_count": 11,
   "id": "8798dde3-1466-42dc-95e8-36b99479d925",
   "metadata": {},
   "outputs": [
    {
     "data": {
      "image/png": "[encoded data removed]",
      "text/plain": [
       "<Figure size 432x288 with 1 Axes>"
      ]
     },
     "metadata": {
      "needs_background": "light"
     },
     "output_type": "display_data"
    }
   ],
   "source": [
    "# Plot the image\n",
    "plt.imshow(img)\n",
    "plt.show()"
   ]
  },
  {
   "cell_type": "markdown",
   "id": "e3a3539b-4bb0-4d90-bd71-8507e51a3292",
   "metadata": {},
   "source": [
    "In the image from above, the imshow() function merges the three channels to create the color, but we can easily visualize them separately by plotting each component using the appropriate colormap."
   ]
  },
  {
   "cell_type": "code",
   "execution_count": 12,
   "id": "6bdab242-4a44-4585-9110-cb4b27eeb278",
   "metadata": {},
   "outputs": [
    {
     "data": {
      "image/png": "[encoded data removed]",
      "text/plain": [
       "<Figure size 432x288 with 1 Axes>"
      ]
     },
     "metadata": {
      "needs_background": "light"
     },
     "output_type": "display_data"
    },
    {
     "data": {
      "image/png": "[encoded data removed]",
      "text/plain": [
       "<Figure size 432x288 with 1 Axes>"
      ]
     },
     "metadata": {
      "needs_background": "light"
     },
     "output_type": "display_data"
    },
    {
     "data": {
      "image/png": "[encoded data removed]",
      "text/plain": [
       "<Figure size 432x288 with 1 Axes>"
      ]
     },
     "metadata": {
      "needs_background": "light"
     },
     "output_type": "display_data"
    }
   ],
   "source": [
    "# Plot the Red channel\n",
    "red_channel = img[:,:,0] # First channel in RGB\n",
    "plt.imshow(red_channel, cmap=plt.cm.Reds) # Reds colormap\n",
    "plt.show()\n",
    "\n",
    "# Plot the Green channel\n",
    "green_channel = img[:,:,1] # Second channel in RGB\n",
    "plt.imshow(green_channel, cmap=plt.cm.Greens) # Greens colormap\n",
    "plt.show()\n",
    "\n",
    "# Plot the Blue channel\n",
    "blue_channel = img[:,:,2] # Third channel in RGB\n",
    "plt.imshow(blue_channel, cmap=plt.cm.Blues) # Blues colormap\n",
    "plt.show()\n"
   ]
  },
  {
   "cell_type": "markdown",
   "id": "cc96348b-51cf-4ff5-9d57-e638d8ee618e",
   "metadata": {},
   "source": [
    "This code is also a nice way to visualize the 3-dimensional img array. You can think of it as three 32 by 32 grids stacked on top of each other. In this visualization, img[16, 1, 2] denotes the pixel at (16, 1) in the third grid which corresponds to the horse nostrils in the blue channel."
   ]
  },
  {
   "cell_type": "markdown",
   "id": "b523ae14-39ea-492a-967e-849baba6a184",
   "metadata": {},
   "source": [
    "Summary\n",
    "In this unit, we saw how to load images into Numpy arrays using the open() function from PIL, and how to plot them using the imshow() one from Pyplot. In particular, we saw that\n",
    "\n",
    "Grayscale images correspond to 2-dimensional (height, width) arrays of white intensity values\n",
    "Color images correspond to 3-dimensional (height, width, channels) arrays\n",
    "Pixel values vary between 0 and 255 and we store them with the uint8 data type\n",
    "In the next unit, we will see how to convert these arrays of pixels into a set of features that we can use in our machine learning algorithms."
   ]
  },
  {
   "cell_type": "code",
   "execution_count": null,
   "id": "e3f05919-71c1-451b-8418-8e55754388dd",
   "metadata": {},
   "outputs": [],
   "source": []
  }
 ],
 "metadata": {
  "kernelspec": {
   "display_name": "Python [conda env:adsml] *",
   "language": "python",
   "name": "conda-env-adsml-py"
  },
  "language_info": {
   "codemirror_mode": {
    "name": "ipython",
    "version": 3
   },
   "file_extension": ".py",
   "mimetype": "text/x-python",
   "name": "python",
   "nbconvert_exporter": "python",
   "pygments_lexer": "ipython3",
   "version": "3.9.7"
  }
 },
 "nbformat": 4,
 "nbformat_minor": 5
}
