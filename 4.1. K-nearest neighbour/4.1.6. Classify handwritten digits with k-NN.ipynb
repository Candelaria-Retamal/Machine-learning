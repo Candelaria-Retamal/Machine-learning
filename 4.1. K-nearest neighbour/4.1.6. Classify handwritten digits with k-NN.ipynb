{
 "cells": [
  {
   "cell_type": "markdown",
   "id": "3dc5fed6-3703-4079-a1c9-d9bcd85e0df1",
   "metadata": {},
   "source": [
    "#### **Exercise - Classify handwritten digits with k-NN**\n",
    "\n",
    "The goal of this exercise is to build a k-NN classifier to recognize images from the MNIST dataset using a Pipeline object. According to the official web page, the accuracy of a k-NN classifier trained on the raw pixels is around 95% and above 99% for convolutional neural networks.\n",
    "\n",
    "The original dataset has 70 thousand images, but it can be slow to train using all the images. For this reason, we will use a subset of the dataset.\n",
    "\n",
    "* 5,000 images to train the classifier\n",
    "* 1,000 images to test it\n",
    "\n",
    "We already converted the 6,000 images and their labels into X/y arrays. You will have to load them from a .npz file."
   ]
  },
  {
   "cell_type": "markdown",
   "id": "919db995-eca7-4130-9683-94df2b1498d1",
   "metadata": {},
   "source": [
    "Nearest neighbors algorithm\n",
    "The KNeighborsClassifier object from Scikit-learn implements several algorithms to find the k nearest neighbors to a given data point. The simplest strategy is to compute the distance to every other data points from the training set and select the k closest ones. This is called brute-force search.\n",
    "\n",
    "Some algorithms don’t need to compute the distance to every data points at runtime. However, they require to build a sort of index of the dataset before running the algorithm, and this operation can be computationally expensive for large ones. In our case, the brute strategy is faster. Hence, you might want to set the algorithm parameter to 'brute'"
   ]
  },
  {
   "cell_type": "markdown",
   "id": "0c3defc7-3b19-4234-be48-c6ddb8cfaa3d",
   "metadata": {},
   "source": [
    "knn = KNeighborsClassifier(n_neighbors=..., algorithm='brute')"
   ]
  },
  {
   "cell_type": "code",
   "execution_count": null,
   "id": "50710f08-0e91-4c64-9e43-7da34ce66a02",
   "metadata": {},
   "outputs": [],
   "source": []
  }
 ],
 "metadata": {
  "kernelspec": {
   "display_name": "Python [conda env:adsml] *",
   "language": "python",
   "name": "conda-env-adsml-py"
  },
  "language_info": {
   "codemirror_mode": {
    "name": "ipython",
    "version": 3
   },
   "file_extension": ".py",
   "mimetype": "text/x-python",
   "name": "python",
   "nbconvert_exporter": "python",
   "pygments_lexer": "ipython3",
   "version": "3.9.7"
  }
 },
 "nbformat": 4,
 "nbformat_minor": 5
}
