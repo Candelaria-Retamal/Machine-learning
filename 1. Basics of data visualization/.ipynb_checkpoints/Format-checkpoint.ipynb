{
 "cells": [
  {
   "cell_type": "code",
   "execution_count": null,
   "id": "26745655-8601-499e-9690-77cba6ecf06d",
   "metadata": {},
   "outputs": [],
   "source": [
    "# Mountains Data Set\n",
    "###### **10.01.2022**\n",
    "\n",
    "## Table of contents\n",
    "\n",
    "<a id=\"Table\"></a>\n",
    "### [Which are the most difficult mountains to climb?](#Difficult)\n",
    "\n",
    "### [Which are the most popular years for climbing?](#Popular)\n",
    "\n",
    "### [Are the taller mountains more difficult to climb?](#Taller)\n",
    "\n",
    "### [Are mountains over 8000m more popular for climbing?](#Over8000)\n",
    "\n",
    "### [Which mountain ranges contain the highest mountains?](#Ranges)"
   ]
  },
  {
   "cell_type": "code",
   "execution_count": null,
   "id": "87a4b825-32cb-4f30-bae3-e7ae61716632",
   "metadata": {},
   "outputs": [
    {
     "ename": "SyntaxError",
     "evalue": "invalid syntax (Temp/ipykernel_37760/2474917346.py, line 1)",
     "output_type": "error",
     "traceback": [
      "\u001b[1;36m  File \u001b[1;32m\"C:\\Users\\56975\\AppData\\Local\\Temp/ipykernel_37760/2474917346.py\"\u001b[1;36m, line \u001b[1;32m1\u001b[0m\n\u001b[1;33m    <a id=\"Difficult\"></a>\u001b[0m\n\u001b[1;37m    ^\u001b[0m\n\u001b[1;31mSyntaxError\u001b[0m\u001b[1;31m:\u001b[0m invalid syntax\n"
     ]
    }
   ],
   "source": [
    "<a id=\"Difficult\"></a>\n",
    "###[Return to the table of contents](#Table)\n",
    "<a id=\"Popular\"></a>\n",
    "### [Return to the table of contents](#Table)\n",
    "<a id=\"Taller\"></a>\n",
    "### [Return to the table of contents](#Table)\n",
    "<a id=\"Over8000\"></a>\n",
    "### [Return to the table of contents](#Table)\n",
    "<a id=\"Ranges\"></a>\n",
    "### [Return to the table of contents](#Table)"
   ]
  },
  {
   "cell_type": "code",
   "execution_count": null,
   "id": "4bbb9047-4981-4c4c-90c4-458c5eeb02b4",
   "metadata": {},
   "outputs": [],
   "source": []
  }
 ],
 "metadata": {
  "kernelspec": {
   "display_name": "Python 3 (ipykernel)",
   "language": "python",
   "name": "python3"
  },
  "language_info": {
   "codemirror_mode": {
    "name": "ipython",
    "version": 3
   },
   "file_extension": ".py",
   "mimetype": "text/x-python",
   "name": "python",
   "nbconvert_exporter": "python",
   "pygments_lexer": "ipython3",
   "version": "3.9.7"
  }
 },
 "nbformat": 4,
 "nbformat_minor": 5
}
