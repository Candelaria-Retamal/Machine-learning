{
 "cells": [
  {
   "cell_type": "markdown",
   "id": "cbca5692-0946-41ac-b806-9a9d181ed71d",
   "metadata": {},
   "source": [
    "#### Logistic Regression"
   ]
  },
  {
   "cell_type": "markdown",
   "id": "5797678a-64a0-4f24-a22e-4b3deb5524a9",
   "metadata": {},
   "source": [
    "We won’t go into the details in this course, but in short, instead of minimizing the least squares, logistic regressions minimize the cross-entropy (CE) loss function that we can derive by computing the maximum likelihood estimation (MLE).\n",
    "\n",
    "**Iris dataset**\n",
    "\n",
    "We will use the iris dataset to illustrate logistic regressions. It’s a set of 150 petal/sepal width and length measurements from iris flowers of three different types: setosa, versicolor and virginica.\n",
    "\n",
    "We can load it using the load_iris() function from the Scikit-learn datasets module."
   ]
  },
  {
   "cell_type": "code",
   "execution_count": 1,
   "id": "e3149c00-f45d-443d-9426-ae66dd033e5a",
   "metadata": {},
   "outputs": [
    {
     "name": "stdout",
     "output_type": "stream",
     "text": [
      "Type: <class 'sklearn.utils.Bunch'>\n"
     ]
    }
   ],
   "source": [
    "from sklearn import datasets\n",
    "\n",
    "# Load dataset\n",
    "iris = datasets.load_iris()\n",
    "\n",
    "print(\"Type:\", type(iris))  # sklearn.utils.Bunch"
   ]
  },
  {
   "cell_type": "code",
   "execution_count": 2,
   "id": "6c1d5a9e-ff79-4aff-be02-ed62fdbe59aa",
   "metadata": {},
   "outputs": [
    {
     "data": {
      "text/plain": [
       "dict_keys(['data', 'target', 'frame', 'target_names', 'DESCR', 'feature_names', 'filename', 'data_module'])"
      ]
     },
     "execution_count": 2,
     "metadata": {},
     "output_type": "execute_result"
    }
   ],
   "source": [
    "# Inspect object\n",
    "iris.keys()"
   ]
  },
  {
   "cell_type": "markdown",
   "id": "3ade8efe-d03e-439b-8207-6cb52914aee0",
   "metadata": {},
   "source": [
    "The dictionary has five entries\n",
    "\n",
    "* data - the input matrix\n",
    "* target - the target vector\n",
    "* target_names - the name of the categories\n",
    "* DESCR - a description of the dataset\n",
    "* feature_names - the name of the features\n",
    "\n",
    "Let’s take a look at the feature names"
   ]
  },
  {
   "cell_type": "code",
   "execution_count": 3,
   "id": "3e324512-524d-40e1-bd83-c8c612e4e96f",
   "metadata": {},
   "outputs": [
    {
     "data": {
      "text/plain": [
       "['sepal length (cm)',\n",
       " 'sepal width (cm)',\n",
       " 'petal length (cm)',\n",
       " 'petal width (cm)']"
      ]
     },
     "execution_count": 3,
     "metadata": {},
     "output_type": "execute_result"
    }
   ],
   "source": [
    "# Get feature names\n",
    "iris.feature_names"
   ]
  },
  {
   "cell_type": "markdown",
   "id": "c24f0264-0db4-4001-89b7-f324c426c139",
   "metadata": {},
   "source": [
    "There are four features in total. Each one corresponds to a column in the data input matrix. The target values are encoded with numbers between 0 and 2. Let’s count the number of values in each category"
   ]
  },
  {
   "cell_type": "code",
   "execution_count": 4,
   "id": "6c3714be-e017-4992-acae-535994948fb5",
   "metadata": {},
   "outputs": [
    {
     "data": {
      "text/plain": [
       "0    50\n",
       "1    50\n",
       "2    50\n",
       "dtype: int64"
      ]
     },
     "execution_count": 4,
     "metadata": {},
     "output_type": "execute_result"
    }
   ],
   "source": [
    "import pandas as pd\n",
    "\n",
    "# Category distribution\n",
    "pd.value_counts(iris[\"target\"])\n"
   ]
  },
  {
   "cell_type": "markdown",
   "id": "33eccd05-e024-4c1e-a252-c820f32e9dc2",
   "metadata": {},
   "source": [
    "There are 50 flowers per type. These numerical labels correspond to the indexes of the target names in the target_names list"
   ]
  },
  {
   "cell_type": "code",
   "execution_count": 5,
   "id": "9f01d314-e645-4a87-b63c-c8e9fccfd2b8",
   "metadata": {},
   "outputs": [
    {
     "name": "stdout",
     "output_type": "stream",
     "text": [
      "Target names: ['setosa' 'versicolor' 'virginica']\n"
     ]
    }
   ],
   "source": [
    "# Categories\n",
    "print(\"Target names:\", iris.target_names)"
   ]
  },
  {
   "cell_type": "markdown",
   "id": "107f87f0-eeec-41c2-9055-a6fd6a110fad",
   "metadata": {},
   "source": [
    "In this unit, we will create a binary classifier that recognizes setosa flowers. Hence, we need to create a target vector y that encodes positive entries (setosa) with ones and negative entries (versicolor and virginica) with zeros\n",
    "\n"
   ]
  },
  {
   "cell_type": "code",
   "execution_count": 6,
   "id": "e63a8904-12c4-4108-91b2-0e9f6af66075",
   "metadata": {},
   "outputs": [],
   "source": [
    "# Create the binary target vector\n",
    "y = (iris[\"target\"] == 0).astype(int)"
   ]
  },
  {
   "cell_type": "markdown",
   "id": "e9bad4aa-9325-4144-a8c1-1d2efdc0c895",
   "metadata": {},
   "source": [
    "In this code, we create an array of boolean values where True denotes the positive class and False the negative one. We then convert the boolean values into zeros and ones using the astype(int) function.\n",
    "\n",
    "In this example, we will only work with the petal features, i.e., petal width and petal length. They correspond to the columns with indices 2 and 3 according to the feature_names list from above. Let’s create the input matrix"
   ]
  },
  {
   "cell_type": "code",
   "execution_count": 7,
   "id": "053282f4-1ce8-4f04-99d5-74cbec537a11",
   "metadata": {},
   "outputs": [],
   "source": [
    "# Create the input matrix\n",
    "X = iris[\"data\"]  # Get matrix with all features\n",
    "X = X[:, [2, 3]]  # Keep only petal features"
   ]
  },
  {
   "cell_type": "code",
   "execution_count": 8,
   "id": "f878c024-914a-41a3-a54d-43f996c6cbe8",
   "metadata": {},
   "outputs": [
    {
     "data": {
      "image/png": "[encoded data removed]",
      "text/plain": [
       "<Figure size 432x288 with 1 Axes>"
      ]
     },
     "metadata": {
      "needs_background": "light"
     },
     "output_type": "display_data"
    }
   ],
   "source": [
    "# Finally, let’s plot our X and y values.\n",
    "%matplotlib inline\n",
    "import matplotlib.pyplot as plt\n",
    "\n",
    "# Plot data points\n",
    "setosa_idx = y == 1  # setosa data points\n",
    "\n",
    "plt.scatter(\n",
    "    X[:, 0][setosa_idx], X[:, 1][setosa_idx], color=\"C3\", label=\"setosa\"\n",
    ")  # Setosa\n",
    "plt.scatter(\n",
    "    X[:, 0][~setosa_idx], X[:, 1][~setosa_idx], color=\"C0\", label=\"other\"\n",
    ")  # Versicolor and virginica\n",
    "\n",
    "# Set labels\n",
    "plt.xlabel(\"petal length (cm)\")\n",
    "plt.ylabel(\"petal width (cm)\")\n",
    "plt.legend()\n",
    "plt.show()\n"
   ]
  },
  {
   "cell_type": "markdown",
   "id": "7d061166-42fa-498c-bfe8-bab61d718b66",
   "metadata": {},
   "source": [
    "In this code, we create a setosa_idx list where True entries correspond to setosa flowers. We can then use this list of booleans to separate and plot the two categories with different colors.\n",
    "\n",
    "As we can see, there is a clear separation between the two classes. In this case, we say that the data is linearly separable because it’s possible to draw a line (or a hyperplane in higher dimensions) that separates the different categories.\n",
    "\n",
    "Let’s see how to separate these two classes using logistic regressions.\n",
    "\n",
    "### Scikit-learn implementation\n",
    "Let’s start by splitting the data into train/test splits"
   ]
  },
  {
   "cell_type": "code",
   "execution_count": 9,
   "id": "6e9ab613-7de1-466e-be5d-ecbaa400d432",
   "metadata": {},
   "outputs": [],
   "source": [
    "from sklearn.model_selection import train_test_split\n",
    "\n",
    "# Split into train/test sets\n",
    "X_tr, X_te, y_tr, y_te = train_test_split(X, y, test_size=0.3, random_state=0)"
   ]
  },
  {
   "cell_type": "markdown",
   "id": "02b7f777-4577-410f-adba-cc72b44abc74",
   "metadata": {},
   "source": [
    "Scikit-learn implements a LogisticRegression object which follows the standard estimator API. To avoid any issue with the features scale, let’s encapsulate the estimator in a pipeline with a StandardScaler"
   ]
  },
  {
   "cell_type": "code",
   "execution_count": 11,
   "id": "4e64385f-4cf3-4138-869e-c31eaf147404",
   "metadata": {},
   "outputs": [
    {
     "data": {
      "text/plain": [
       "Pipeline(steps=[('standardscaler', StandardScaler()),\n",
       "                ('logisticregression', LogisticRegression())])"
      ]
     },
     "execution_count": 11,
     "metadata": {},
     "output_type": "execute_result"
    }
   ],
   "source": [
    "from sklearn.linear_model import LogisticRegression\n",
    "from sklearn.preprocessing import StandardScaler\n",
    "from sklearn.pipeline import make_pipeline\n",
    "\n",
    "# Create the estimator (within a pipeline for avoiding scaling issues)\n",
    "logreg = make_pipeline(StandardScaler(), LogisticRegression()) \n",
    "\n",
    "# Fit it to train data\n",
    "logreg.fit(X_tr, y_tr)\n"
   ]
  },
  {
   "cell_type": "code",
   "execution_count": 12,
   "id": "39336ffb-5b41-4cf5-b833-5f80e9a54898",
   "metadata": {},
   "outputs": [
    {
     "name": "stdout",
     "output_type": "stream",
     "text": [
      "Accuracy: 1.000\n"
     ]
    }
   ],
   "source": [
    "# Create the estimator\n",
    "logreg = make_pipeline(StandardScaler(), LogisticRegression(solver=\"liblinear\"))\n",
    "\n",
    "# Fit it to train data\n",
    "logreg.fit(X_tr, y_tr)\n",
    "\n",
    "# Accuracy on test set\n",
    "accuracy = logreg.score(X_te, y_te)\n",
    "print(\"Accuracy: {:.3f}\".format(accuracy))"
   ]
  },
  {
   "cell_type": "markdown",
   "id": "46f32cc0-0489-4863-acf8-b692ba5c167d",
   "metadata": {},
   "source": [
    "We obtain a test accuracy of 1 which means that our estimator correctly classified all points from the test set. We can compute predictions for new data points with the predict() function\n",
    "\n"
   ]
  },
  {
   "cell_type": "code",
   "execution_count": 14,
   "id": "cdbc627c-2681-429c-bbee-d85c64e7fb41",
   "metadata": {},
   "outputs": [
    {
     "data": {
      "text/plain": [
       "array([1])"
      ]
     },
     "execution_count": 14,
     "metadata": {},
     "output_type": "execute_result"
    }
   ],
   "source": [
    "# New flower\n",
    "new_flower = [\n",
    "    1.5,  # petal length (cm)\n",
    "    0.3,  # petal width (cm)\n",
    "]\n",
    "\n",
    "# Classify it\n",
    "logreg.predict([new_flower])"
   ]
  },
  {
   "cell_type": "markdown",
   "id": "c29f8ef3-675b-4e46-bff2-4e70e49d667d",
   "metadata": {},
   "source": [
    "Our classifier labels the new data point with a one (positive class) which means that it’s likely a setosa flower. We can obtain the probabilities from the sigmoid with predict_proba()"
   ]
  },
  {
   "cell_type": "code",
   "execution_count": 15,
   "id": "306bbfdf-b7a5-46b1-829f-0661ff3abede",
   "metadata": {},
   "outputs": [
    {
     "data": {
      "text/plain": [
       "array([[0.05238258, 0.94761742]])"
      ]
     },
     "execution_count": 15,
     "metadata": {},
     "output_type": "execute_result"
    }
   ],
   "source": [
    "# Get probabilities\n",
    "logreg.predict_proba([new_flower])"
   ]
  },
  {
   "cell_type": "markdown",
   "id": "be074806-29ab-4c61-9166-80eada94be57",
   "metadata": {},
   "source": [
    "The function returns the probability for each category. In our case, we get two probabilities. The first one corresponds to the negative class and the second one to the positive class. According to our classifier, the new data point is a setosa flower with probability 0.95.\n",
    "\n",
    "Note that we can use this function to visualize the decision surface of our classifier and draw the boundary that delimits the two classes by marking points with p = 0.5 We provide a decision_surface(X, y, logreg) function in the annex. In short, the function creates a grid of data points in the range of our X/y values and evaluates their probability using our logreg estimator.\n",
    "\n"
   ]
  },
  {
   "cell_type": "code",
   "execution_count": 17,
   "id": "1ac560e9-f177-4a25-83e7-2bdb67e2893d",
   "metadata": {},
   "outputs": [],
   "source": [
    "import numpy as np\n",
    "\n",
    "# Helper function\n",
    "def decision_surface(ax, X, y, logreg):\n",
    "    # Plot data points\n",
    "    setosa_idx = y == 1  # Setosa data points\n",
    "\n",
    "    plt.scatter(\n",
    "        X[:, 0][setosa_idx], X[:, 1][setosa_idx], color=\"C3\", label=\"setosa\"\n",
    "    )  # Setosa\n",
    "    plt.scatter(\n",
    "        X[:, 0][~setosa_idx], X[:, 1][~setosa_idx], color=\"C0\", label=\"other\"\n",
    "    )  # Versicolor and virginica\n",
    "\n",
    "    # Create a grid of values\n",
    "    xlim, ylim = ax.get_xlim(), ax.get_ylim()\n",
    "    x_values = np.linspace(*xlim, num=40)\n",
    "    y_values = np.linspace(*ylim, num=40)\n",
    "    xx, yy = np.meshgrid(x_values, y_values)\n",
    "    points = np.c_[xx.flatten(), yy.flatten()]\n",
    "\n",
    "    # Probability for positive class (setosa)\n",
    "    probs = logreg.predict_proba(points)\n",
    "    prob_setosa = probs[:, 1]\n",
    "\n",
    "    # Draw decision boundary (p=0.5)\n",
    "    zz = prob_setosa.reshape(xx.shape)\n",
    "    plt.contour(xx, yy, zz, levels=[0.5], colors=\"gray\")\n",
    "\n",
    "    # Plot decision surface with level curves\n",
    "    plt.contourf(xx, yy, zz, 10, alpha=0.3, cmap=plt.cm.coolwarm)\n",
    "\n",
    "    # Add labels\n",
    "    plt.xlabel(\"petal length (cm)\")\n",
    "    plt.ylabel(\"petal width (cm)\")\n",
    "    plt.legend()\n",
    "    plt.colorbar(label=\"probability\")\n",
    "    plt.show()"
   ]
  },
  {
   "cell_type": "code",
   "execution_count": 18,
   "id": "b543d498-99c7-4450-9b3f-ed5e750d915b",
   "metadata": {},
   "outputs": [
    {
     "data": {
      "image/png": "[encoded data removed]",
      "text/plain": [
       "<Figure size 432x288 with 2 Axes>"
      ]
     },
     "metadata": {
      "needs_background": "light"
     },
     "output_type": "display_data"
    }
   ],
   "source": [
    "# Plot decision surface\n",
    "fig = plt.figure()\n",
    "decision_surface(fig.gca(), X, y, logreg)"
   ]
  },
  {
   "cell_type": "markdown",
   "id": "ee89e7fb-d9ca-47d1-a1cf-478b1d78a639",
   "metadata": {},
   "source": [
    "We use a red/blue scale to plot the decision surface. Regions in red are associated with probabilities close to one and regions in blue with probabilities close to zero. The gray line delimits points with p < 0.5 from points with p > 0.5."
   ]
  },
  {
   "cell_type": "code",
   "execution_count": null,
   "id": "668a30c7-be7c-43f2-ab95-ebaacebd7893",
   "metadata": {},
   "outputs": [],
   "source": []
  }
 ],
 "metadata": {
  "kernelspec": {
   "display_name": "Python [conda env:adsml] *",
   "language": "python",
   "name": "conda-env-adsml-py"
  },
  "language_info": {
   "codemirror_mode": {
    "name": "ipython",
    "version": 3
   },
   "file_extension": ".py",
   "mimetype": "text/x-python",
   "name": "python",
   "nbconvert_exporter": "python",
   "pygments_lexer": "ipython3",
   "version": "3.9.7"
  }
 },
 "nbformat": 4,
 "nbformat_minor": 5
}
