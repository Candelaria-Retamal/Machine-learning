{
 "cells": [
  {
   "cell_type": "markdown",
   "id": "518149a4-381a-47d9-884b-7fbdfc302014",
   "metadata": {},
   "source": [
    "### Exercise - CIFAR 10 - Classification with k-NN"
   ]
  },
  {
   "cell_type": "markdown",
   "id": "14e9d927-4eab-4785-a641-487ab8af3d55",
   "metadata": {},
   "source": [
    "In the last exercise, we fitted a k-NN classifier to recognize images from the MNIST dataset using raw pixel values and obtained reasonable results. We will now try with the CIFAR-10 dataset. This time, you will tune the following parameters using grid search.\n",
    "\n",
    "* The number of neighbors\n",
    "* The distance metric - L1 or L2 (Euclidean)\n",
    "* The weighting function - uniform or by distance"
   ]
  },
  {
   "cell_type": "markdown",
   "id": "31f70496-8599-4955-9636-40230319e56d",
   "metadata": {},
   "source": [
    "**You might want to start with a grid that only has a few k values to find the best distance metric and weighting function. Then you can fix these parameters and perform fine-tuning of the k value.**"
   ]
  },
  {
   "cell_type": "markdown",
   "id": "7bfeaa81-5045-487c-b692-c3616914d6d6",
   "metadata": {},
   "source": [
    "#### Data description\n",
    "The dataset contains 32 by 32 color images from 10 different categories. In total, there are 60,000 images, but we will use a subset of 6,000 images. The ten categories are numerically encoded with digits between 0 and 9."
   ]
  },
  {
   "cell_type": "markdown",
   "id": "4b6ad485-7636-461e-aa3d-54d254270dfc",
   "metadata": {},
   "source": [
    "#### Parallelized execution\n",
    "Nowadays, processors can make multiple computations in parallel. Scikit-learn k-NN implementation can leverage this to improve the speed of the classifier. The KNeighborsClassifier estimator provides an n_jobs parameters for defining this number of parallel processes. You can set it to -1 to let Scikit-learn use all available processes."
   ]
  },
  {
   "cell_type": "code",
   "execution_count": 2,
   "id": "0c769161-6829-46bd-bbc8-4d70895487a6",
   "metadata": {},
   "outputs": [
    {
     "data": {
      "text/plain": [
       "KNeighborsClassifier(n_jobs=-1)"
      ]
     },
     "execution_count": 2,
     "metadata": {},
     "output_type": "execute_result"
    }
   ],
   "source": [
    "from sklearn.neighbors import KNeighborsClassifier\n",
    "\n",
    "# Create k-NN classifier\n",
    "KNeighborsClassifier(n_jobs=-1)  # As many parallel jobs as possible"
   ]
  },
  {
   "cell_type": "markdown",
   "id": "4ba7d4ab-648d-42ad-bbb5-5525a0a25e95",
   "metadata": {},
   "source": [
    "#### Instructions\n",
    "There are two archives for this exercise. The first one is the exercise notebook, and the other one is a .npz file with the 6,000 images from the CIFAR-10 dataset. It contains the following Numpy arrays.\n",
    "\n",
    "data: input matrix with the flat vectors of pixels\n",
    "├── shape: (6000, 3072)\n",
    "└── dtype: uint8\n",
    "\n",
    "labels: output vector of labels\n",
    "├── shape: (6000,)\n",
    "└── dtype: int32"
   ]
  },
  {
   "cell_type": "markdown",
   "id": "b2fd8447-9153-4445-936f-cca0f87904db",
   "metadata": {},
   "source": [
    "**You may check the c4_solution**"
   ]
  },
  {
   "cell_type": "code",
   "execution_count": null,
   "id": "2e3f4a05-b8a2-47d0-b92b-f38e3fbbd930",
   "metadata": {},
   "outputs": [],
   "source": []
  }
 ],
 "metadata": {
  "kernelspec": {
   "display_name": "Python [conda env:adsml] *",
   "language": "python",
   "name": "conda-env-adsml-py"
  },
  "language_info": {
   "codemirror_mode": {
    "name": "ipython",
    "version": 3
   },
   "file_extension": ".py",
   "mimetype": "text/x-python",
   "name": "python",
   "nbconvert_exporter": "python",
   "pygments_lexer": "ipython3",
   "version": "3.9.7"
  }
 },
 "nbformat": 4,
 "nbformat_minor": 5
}
