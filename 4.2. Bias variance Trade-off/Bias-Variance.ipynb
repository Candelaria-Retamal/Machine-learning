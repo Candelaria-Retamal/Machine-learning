{
 "cells": [
  {
   "cell_type": "markdown",
   "id": "cf9943b5-a248-42ee-b1b4-5745d5843dec",
   "metadata": {},
   "source": [
    "#### Bias-variance trade-off\n",
    "* Models with a high bias (underfitting) usually have a low variance. - LOW DEGREE POLYNOMIAL MODELS\n",
    "* In the example degree 3 polynomial was the perfect equilibrium between low bias and variance\n",
    "* Models with a low bias usually have a high variance (overfitting). - HIGH DEGREE POLYNOMIAL MODELS\n",
    "\n",
    "In practice, we want to find a model that has both a low bias and a low variance. In the next unit, we will see how to manage this bias-variance trade-off."
   ]
  },
  {
   "cell_type": "markdown",
   "id": "b46ad377-8e2c-46f0-bd09-b2174678150b",
   "metadata": {},
   "source": [
    "#### The bias-variance decomposition"
   ]
  },
  {
   "cell_type": "markdown",
   "id": "d505473c-3a0a-4d43-91b0-1c5f61150ad9",
   "metadata": {},
   "source": [
    "* A model that is underfitting. Predictions from this model are, on average, far from the target value (high bias), but close to each other (low variance)\n",
    "* A model that is overfitting. Predictions are centered around the target value (low bias), but far from each other (high variance)"
   ]
  },
  {
   "cell_type": "markdown",
   "id": "7151f718-38a2-4943-80b7-7e7e3e4f00a4",
   "metadata": {},
   "source": [
    "Generalization error = Bias^2 + Variance + Irreducible error"
   ]
  },
  {
   "cell_type": "markdown",
   "id": "10fff8b7-bf2a-449b-94ab-311a6313a783",
   "metadata": {},
   "source": [
    "This is called the bias-variance decomposition. The formula says that the error is equal to the square of the bias of the model plus its variance. Note that there is also an irreducible error term which is due to the noise in the observations and the effect of unobserved variables. It’s interesting to note that this term sets a lower bound on the generalization error.\n",
    "\n",
    "Here is a figure that illustrates the equation from above"
   ]
  },
  {
   "cell_type": "markdown",
   "id": "71977767-249f-4d08-bb46-6e86b0ed85bc",
   "metadata": {},
   "source": [
    "**Summary**\n",
    "Minimizing the generalization error is one of the main goals of machine learning, and there are many ways to do this.\n",
    "\n",
    "By tuning the complexity of the model using grid search\n",
    "By reducing the bias or the variance directly\n",
    "We will see an example of this second option later in this course with random forests. In short, this model reduces the variance of another model called a decision tree by averaging the output of many different instances of it."
   ]
  },
  {
   "cell_type": "markdown",
   "id": "5bee42b3-51e8-48ab-aa8d-dbf9992d28f6",
   "metadata": {},
   "source": [
    "### Grid search using ParameterGrid\n"
   ]
  },
  {
   "cell_type": "markdown",
   "id": "cdb9a426-b957-41c3-a6b5-0aee9942dc68",
   "metadata": {},
   "source": [
    "We already saw in the last course how to tune a hyperparameter using grid search. The for loop approach worked well in the cases that we saw, but doesn’t scale well to models with multiple hyperparameters and more complex grids.\n",
    "\n",
    "In this unit, we will see how to solve this with the ParameterGrid object from Scikit-learn and try to improve our k-NN model on the heart disease dataset."
   ]
  },
  {
   "cell_type": "code",
   "execution_count": 1,
   "id": "e33eb7e7-d8fb-4cbb-ada7-2043d02cec49",
   "metadata": {},
   "outputs": [
    {
     "data": {
      "text/html": [
       "<div>\n",
       "<style scoped>\n",
       "    .dataframe tbody tr th:only-of-type {\n",
       "        vertical-align: middle;\n",
       "    }\n",
       "\n",
       "    .dataframe tbody tr th {\n",
       "        vertical-align: top;\n",
       "    }\n",
       "\n",
       "    .dataframe thead th {\n",
       "        text-align: right;\n",
       "    }\n",
       "</style>\n",
       "<table border=\"1\" class=\"dataframe\">\n",
       "  <thead>\n",
       "    <tr style=\"text-align: right;\">\n",
       "      <th></th>\n",
       "      <th>age</th>\n",
       "      <th>trestbps</th>\n",
       "      <th>chol</th>\n",
       "      <th>thalach</th>\n",
       "      <th>oldpeak</th>\n",
       "      <th>ca</th>\n",
       "      <th>disease</th>\n",
       "    </tr>\n",
       "  </thead>\n",
       "  <tbody>\n",
       "    <tr>\n",
       "      <th>0</th>\n",
       "      <td>63</td>\n",
       "      <td>145</td>\n",
       "      <td>233</td>\n",
       "      <td>150</td>\n",
       "      <td>2.3</td>\n",
       "      <td>0</td>\n",
       "      <td>absence</td>\n",
       "    </tr>\n",
       "    <tr>\n",
       "      <th>1</th>\n",
       "      <td>67</td>\n",
       "      <td>160</td>\n",
       "      <td>286</td>\n",
       "      <td>108</td>\n",
       "      <td>1.5</td>\n",
       "      <td>3</td>\n",
       "      <td>presence</td>\n",
       "    </tr>\n",
       "    <tr>\n",
       "      <th>2</th>\n",
       "      <td>67</td>\n",
       "      <td>120</td>\n",
       "      <td>229</td>\n",
       "      <td>129</td>\n",
       "      <td>2.6</td>\n",
       "      <td>2</td>\n",
       "      <td>presence</td>\n",
       "    </tr>\n",
       "    <tr>\n",
       "      <th>3</th>\n",
       "      <td>37</td>\n",
       "      <td>130</td>\n",
       "      <td>250</td>\n",
       "      <td>187</td>\n",
       "      <td>3.5</td>\n",
       "      <td>0</td>\n",
       "      <td>absence</td>\n",
       "    </tr>\n",
       "    <tr>\n",
       "      <th>4</th>\n",
       "      <td>41</td>\n",
       "      <td>130</td>\n",
       "      <td>204</td>\n",
       "      <td>172</td>\n",
       "      <td>1.4</td>\n",
       "      <td>0</td>\n",
       "      <td>absence</td>\n",
       "    </tr>\n",
       "  </tbody>\n",
       "</table>\n",
       "</div>"
      ],
      "text/plain": [
       "   age  trestbps  chol  thalach  oldpeak  ca   disease\n",
       "0   63       145   233      150      2.3   0   absence\n",
       "1   67       160   286      108      1.5   3  presence\n",
       "2   67       120   229      129      2.6   2  presence\n",
       "3   37       130   250      187      3.5   0   absence\n",
       "4   41       130   204      172      1.4   0   absence"
      ]
     },
     "execution_count": 1,
     "metadata": {},
     "output_type": "execute_result"
    }
   ],
   "source": [
    "# Fit a k-NN classifier: Let’s start by loading the data\n",
    "import pandas as pd\n",
    "\n",
    "# Load data\n",
    "data_df = pd.read_csv(\"c4_heart-numerical.csv\")\n",
    "\n",
    "# Create X/y arrays\n",
    "X = data_df.drop(\"disease\", axis=1).values\n",
    "y = data_df.disease.values\n",
    "\n",
    "data_df.head()"
   ]
  },
  {
   "cell_type": "markdown",
   "id": "ce3f777c-23b4-47c7-a140-d1e8dda8e677",
   "metadata": {},
   "source": [
    "We will use the train/test set methodology to evaluate our classifiers. Let’s split the data into 70-30 train/test sets\n",
    "\n"
   ]
  },
  {
   "cell_type": "code",
   "execution_count": 2,
   "id": "7bf4333a-529b-4492-9d7e-af4abe5621c6",
   "metadata": {},
   "outputs": [],
   "source": [
    "from sklearn.model_selection import train_test_split\n",
    "\n",
    "# Split data into train/test sets\n",
    "X_tr, X_te, y_tr, y_te = train_test_split(X, y, test_size=0.3, random_state=0)"
   ]
  },
  {
   "cell_type": "markdown",
   "id": "8e14115e-f5cd-48a8-96ba-647135ac6e81",
   "metadata": {},
   "source": [
    "**BASELINE**\n",
    "\n",
    "We can now fit a k-NN classifier using the default values i.e. without setting any parameters. This will be our baseline for this unit."
   ]
  },
  {
   "cell_type": "code",
   "execution_count": 3,
   "id": "3e589dfc-d35c-4e4e-a971-e7154f9c89e3",
   "metadata": {},
   "outputs": [
    {
     "name": "stdout",
     "output_type": "stream",
     "text": [
      "Accuracy: 0.747\n"
     ]
    }
   ],
   "source": [
    "from sklearn.pipeline import Pipeline\n",
    "from sklearn.preprocessing import StandardScaler\n",
    "from sklearn.neighbors import KNeighborsClassifier\n",
    "\n",
    "# Create a k-NN classifier with default values\n",
    "pipe = Pipeline([(\"scaler\", StandardScaler()), (\"knn\", KNeighborsClassifier())])\n",
    "\n",
    "# Fit to train data\n",
    "pipe.fit(X_tr, y_tr)\n",
    "\n",
    "# Evaluate on test set\n",
    "accuracy = pipe.score(X_te, y_te)\n",
    "print(\"Accuracy: {:.3f}\".format(accuracy))"
   ]
  },
  {
   "cell_type": "markdown",
   "id": "bd2e2e1a-2ac2-44a2-9826-7c6693bae146",
   "metadata": {},
   "source": [
    "As we can see, its accuracy is around 75%.\n"
   ]
  },
  {
   "cell_type": "markdown",
   "id": "72766b6a-c2b8-48e9-a89e-64e503b8dd8a",
   "metadata": {},
   "source": [
    "**GRID SEARCH IMPROVEMENT**"
   ]
  },
  {
   "cell_type": "markdown",
   "id": "a2df0f59-bbaa-4e4c-ac5c-4c71e2fdec27",
   "metadata": {},
   "source": [
    "Let’s try to improve our k-NN classifier by tuning some hyperparameters from the KNeighborsClassifier object.\n",
    "\n",
    "* n_neighbors - the number of neighbors.\n",
    "* p - the distance metric. Scikit-learn implements the L1 and L2 ones. \n",
    "* weights - The weighting function for the majority vote."
   ]
  },
  {
   "cell_type": "markdown",
   "id": "4357990b-a017-47de-8437-5b304c5e3388",
   "metadata": {},
   "source": [
    "When doing the majority vote, the classifier can use a weighting function. By default, all points have the same weight. This corresponds to the **'uniform'** strategy. However, we can also give more weights to closer data points. For instance, the **'distance'** strategy assigns a weight inversely proportional to their distance.\n",
    "\n",
    "Let’s define a list of values for each parameter\n",
    "\n"
   ]
  },
  {
   "cell_type": "code",
   "execution_count": 5,
   "id": "b80c6a22-3dd7-40b8-9334-e5bb25d17a3c",
   "metadata": {},
   "outputs": [],
   "source": [
    "import numpy as np\n",
    "\n",
    "# Define a set of reasonable values\n",
    "k_values = np.arange(1, 21)  # 1, 2, 3, .., 20\n",
    "weights_functions = [\"uniform\", \"distance\"] #weight strategies uniform and distanced\n",
    "distance_types = [1, 2]  # L1, L2 distances"
   ]
  },
  {
   "cell_type": "markdown",
   "id": "3884b67d-0cbe-4d5b-b14e-e10808bd2706",
   "metadata": {},
   "source": [
    "Using our for loop strategy, we can test the 20*2*2=80 combinations by nesting three for loops\n",
    "\n"
   ]
  },
  {
   "cell_type": "code",
   "execution_count": 6,
   "id": "6c865799-74b4-49ef-8859-e217bab0f9ee",
   "metadata": {},
   "outputs": [],
   "source": [
    "# Create a k-NN classifier\n",
    "pipe = Pipeline([(\"scaler\", StandardScaler()), (\"knn\", KNeighborsClassifier())])\n",
    "\n",
    "# Save accuracy on test set\n",
    "test_scores = []\n",
    "\n",
    "# Grid search\n",
    "for k in k_values:\n",
    "    for f in weights_functions:\n",
    "        for d in distance_types:\n",
    "            # Set hyperparameters\n",
    "            pipe.set_params(knn__n_neighbors=k, knn__weights=f, knn__p=d)\n",
    "\n",
    "            # Fit a k-NN classifier\n",
    "            pipe.fit(X_tr, y_tr)\n",
    "\n",
    "            # Evaluate on test set\n",
    "            accuracy = pipe.score(X_te, y_te)\n",
    "\n",
    "            # Save accuracy\n",
    "            test_scores.append(\n",
    "                {\n",
    "                    \"knn__n_neighbors\": k,\n",
    "                    \"knn__weights\": f,\n",
    "                    \"knn__p\": d,\n",
    "                    \"accuracy\": accuracy,\n",
    "                }\n",
    "            )"
   ]
  },
  {
   "cell_type": "markdown",
   "id": "52523b1a-10e5-4301-b21f-b01524bb8a31",
   "metadata": {},
   "source": [
    "We will try the three properties, and then create a dataframe that contains the accuracy values from bigger to smaller"
   ]
  },
  {
   "cell_type": "code",
   "execution_count": 7,
   "id": "50fdee80-8c24-4917-867b-b4d74c92358f",
   "metadata": {},
   "outputs": [
    {
     "data": {
      "text/html": [
       "<div>\n",
       "<style scoped>\n",
       "    .dataframe tbody tr th:only-of-type {\n",
       "        vertical-align: middle;\n",
       "    }\n",
       "\n",
       "    .dataframe tbody tr th {\n",
       "        vertical-align: top;\n",
       "    }\n",
       "\n",
       "    .dataframe thead th {\n",
       "        text-align: right;\n",
       "    }\n",
       "</style>\n",
       "<table border=\"1\" class=\"dataframe\">\n",
       "  <thead>\n",
       "    <tr style=\"text-align: right;\">\n",
       "      <th></th>\n",
       "      <th>knn__n_neighbors</th>\n",
       "      <th>knn__weights</th>\n",
       "      <th>knn__p</th>\n",
       "      <th>accuracy</th>\n",
       "    </tr>\n",
       "  </thead>\n",
       "  <tbody>\n",
       "    <tr>\n",
       "      <th>14</th>\n",
       "      <td>4</td>\n",
       "      <td>distance</td>\n",
       "      <td>1</td>\n",
       "      <td>0.813187</td>\n",
       "    </tr>\n",
       "    <tr>\n",
       "      <th>28</th>\n",
       "      <td>8</td>\n",
       "      <td>uniform</td>\n",
       "      <td>1</td>\n",
       "      <td>0.813187</td>\n",
       "    </tr>\n",
       "    <tr>\n",
       "      <th>12</th>\n",
       "      <td>4</td>\n",
       "      <td>uniform</td>\n",
       "      <td>1</td>\n",
       "      <td>0.802198</td>\n",
       "    </tr>\n",
       "    <tr>\n",
       "      <th>32</th>\n",
       "      <td>9</td>\n",
       "      <td>uniform</td>\n",
       "      <td>1</td>\n",
       "      <td>0.802198</td>\n",
       "    </tr>\n",
       "    <tr>\n",
       "      <th>30</th>\n",
       "      <td>8</td>\n",
       "      <td>distance</td>\n",
       "      <td>1</td>\n",
       "      <td>0.802198</td>\n",
       "    </tr>\n",
       "  </tbody>\n",
       "</table>\n",
       "</div>"
      ],
      "text/plain": [
       "    knn__n_neighbors knn__weights  knn__p  accuracy\n",
       "14                 4     distance       1  0.813187\n",
       "28                 8      uniform       1  0.813187\n",
       "12                 4      uniform       1  0.802198\n",
       "32                 9      uniform       1  0.802198\n",
       "30                 8     distance       1  0.802198"
      ]
     },
     "execution_count": 7,
     "metadata": {},
     "output_type": "execute_result"
    }
   ],
   "source": [
    "# Create DataFrame with test scores\n",
    "scores_df = pd.DataFrame(test_scores)\n",
    "\n",
    "# Top five scores\n",
    "scores_df.sort_values(by=\"accuracy\", ascending=False).head()\n"
   ]
  },
  {
   "cell_type": "markdown",
   "id": "beefeff4-83dc-4b99-9f1a-ec641543a2aa",
   "metadata": {},
   "source": [
    "As we can see, it’s possible to achieve an accuracy of 80% using the L1 distance metric. However, the code from above can quickly become complex if we have more hyperparameters to tune or if there are several different grids to evaluate.\n",
    "\n",
    "Let’s see how to simplify our code."
   ]
  },
  {
   "cell_type": "markdown",
   "id": "83141df6-18c9-4ee9-8b78-a1219c09977e",
   "metadata": {},
   "source": [
    "### Grid search using ParameterGrid"
   ]
  },
  {
   "cell_type": "markdown",
   "id": "34e172d0-fe3a-4961-ac4f-e7f7406b59a3",
   "metadata": {},
   "source": [
    "Scikit-learn implements a ParameterGrid object to define grids of parameters for our grid search. It takes a dictionary of (parameter, values) pairs. Let’s create a grid for our example from above."
   ]
  },
  {
   "cell_type": "code",
   "execution_count": 8,
   "id": "a9ba5777-0084-465d-84f4-e0206929412e",
   "metadata": {},
   "outputs": [
    {
     "name": "stdout",
     "output_type": "stream",
     "text": [
      "Number of combinations: 80\n"
     ]
    }
   ],
   "source": [
    "from sklearn.model_selection import ParameterGrid\n",
    "\n",
    "# Define a grid of values\n",
    "grid = ParameterGrid(\n",
    "    {\n",
    "        \"knn__n_neighbors\": k_values,\n",
    "        \"knn__weights\": weights_functions,\n",
    "        \"knn__p\": distance_types,\n",
    "    }\n",
    ")\n",
    "\n",
    "# Print the number of combinations\n",
    "print(\"Number of combinations:\", len(grid))\n",
    "# Prints: 80"
   ]
  },
  {
   "cell_type": "markdown",
   "id": "675a75fc-f2ee-411a-a3e0-02377525697f",
   "metadata": {},
   "source": [
    "This grid variable represents all the combinations of parameters, and we can use it as a list. For instance, we print the total number of combinations using the len() function. We can also use it to iterate through each combination of parameters.\n",
    "\n"
   ]
  },
  {
   "cell_type": "code",
   "execution_count": 9,
   "id": "5e0d9f4b-0d99-4c15-8608-511faf75f704",
   "metadata": {},
   "outputs": [
    {
     "name": "stdout",
     "output_type": "stream",
     "text": [
      "{'knn__n_neighbors': 1, 'knn__p': 1, 'knn__weights': 'uniform'}\n",
      "{'knn__n_neighbors': 1, 'knn__p': 1, 'knn__weights': 'distance'}\n",
      "{'knn__n_neighbors': 1, 'knn__p': 2, 'knn__weights': 'uniform'}\n",
      "{'knn__n_neighbors': 1, 'knn__p': 2, 'knn__weights': 'distance'}\n",
      "{'knn__n_neighbors': 2, 'knn__p': 1, 'knn__weights': 'uniform'}\n"
     ]
    }
   ],
   "source": [
    "# Iterate through each combination of parameters\n",
    "for params_dict in list(grid)[\n",
    "    :5\n",
    "]:  # We use list(iter) in order to be able to slice and show only 5 first elements\n",
    "    print(params_dict)"
   ]
  },
  {
   "cell_type": "markdown",
   "id": "cfbe32d4-646c-46ab-8b06-4acd2eb488da",
   "metadata": {},
   "source": [
    "At each iteration, the params_dict variable contains a dictionary with the current combination of values. The idea is to initialize the pipeline with this dictionary of values using the set_params() function.\n",
    "\n",
    "Here is the code to apply grid search using our grid object."
   ]
  },
  {
   "cell_type": "code",
   "execution_count": 10,
   "id": "79c52324-d9ea-4237-a79f-825e34902586",
   "metadata": {},
   "outputs": [],
   "source": [
    "# Create k-NN classifier\n",
    "pipe = Pipeline([(\"scaler\", StandardScaler()), (\"knn\", KNeighborsClassifier())])\n",
    "\n",
    "# Save accuracy on test set\n",
    "test_scores = []\n",
    "\n",
    "for params_dict in grid:\n",
    "    # Set parameters\n",
    "    pipe.set_params(**params_dict)\n",
    "\n",
    "    # Fit a k-NN classifier\n",
    "    pipe.fit(X_tr, y_tr)\n",
    "\n",
    "    # Save accuracy on test set\n",
    "    params_dict[\"accuracy\"] = pipe.score(X_te, y_te)\n",
    "\n",
    "    # Save result\n",
    "    test_scores.append(params_dict)"
   ]
  },
  {
   "cell_type": "markdown",
   "id": "bde0a3d3-2bcc-49ad-a6ad-15abc887280c",
   "metadata": {},
   "source": [
    "This time, we need a single for loop to iterate through each combination of parameters. At each iteration, we set the parameters of our pipeline using the set_params() function and the **kwargs syntax which is a way to work with keyword arguments. In short, the idea is to set the arguments of a function using a dictionary of (keyword, value) pairs. In our case, this dictionary corresponds to the params_dict variable."
   ]
  },
  {
   "cell_type": "code",
   "execution_count": 11,
   "id": "daaf9593-57fd-413b-91bd-fe9c33d6f9ac",
   "metadata": {},
   "outputs": [
    {
     "data": {
      "text/plain": [
       "Pipeline(steps=[('scaler', StandardScaler()),\n",
       "                ('knn', KNeighborsClassifier(n_neighbors=1, p=1))])"
      ]
     },
     "execution_count": 11,
     "metadata": {},
     "output_type": "execute_result"
    }
   ],
   "source": [
    "# Value of params_dict for the first combination\n",
    "params_dict = {\"knn__n_neighbors\": 1, \"knn__p\": 1, \"knn__weights\": \"uniform\"}\n",
    "\n",
    "# Setting the parameters using the **kwargs syntax\n",
    "pipe.set_params(**params_dict)\n",
    "\n",
    "# .. is equivalent to\n",
    "pipe.set_params(knn__n_neighbors=1, knn__p=1, knn__weights=\"uniform\")\n"
   ]
  },
  {
   "cell_type": "markdown",
   "id": "ef0e0580-679e-425d-8bc7-6b28fdff95fc",
   "metadata": {},
   "source": [
    "Finally, we fit the k-NN classifier, save its accuracy in the params_dict dictionary and add it to the test_scores list.\n",
    "\n",
    "Again, we can use this list to create a DataFrame with the results and print the top five scores."
   ]
  },
  {
   "cell_type": "code",
   "execution_count": 12,
   "id": "a31047a1-1414-4544-ae94-c3aa0dcf9b68",
   "metadata": {},
   "outputs": [
    {
     "data": {
      "text/html": [
       "<div>\n",
       "<style scoped>\n",
       "    .dataframe tbody tr th:only-of-type {\n",
       "        vertical-align: middle;\n",
       "    }\n",
       "\n",
       "    .dataframe tbody tr th {\n",
       "        vertical-align: top;\n",
       "    }\n",
       "\n",
       "    .dataframe thead th {\n",
       "        text-align: right;\n",
       "    }\n",
       "</style>\n",
       "<table border=\"1\" class=\"dataframe\">\n",
       "  <thead>\n",
       "    <tr style=\"text-align: right;\">\n",
       "      <th></th>\n",
       "      <th>knn__n_neighbors</th>\n",
       "      <th>knn__p</th>\n",
       "      <th>knn__weights</th>\n",
       "      <th>accuracy</th>\n",
       "    </tr>\n",
       "  </thead>\n",
       "  <tbody>\n",
       "    <tr>\n",
       "      <th>28</th>\n",
       "      <td>8</td>\n",
       "      <td>1</td>\n",
       "      <td>uniform</td>\n",
       "      <td>0.813187</td>\n",
       "    </tr>\n",
       "    <tr>\n",
       "      <th>13</th>\n",
       "      <td>4</td>\n",
       "      <td>1</td>\n",
       "      <td>distance</td>\n",
       "      <td>0.813187</td>\n",
       "    </tr>\n",
       "    <tr>\n",
       "      <th>32</th>\n",
       "      <td>9</td>\n",
       "      <td>1</td>\n",
       "      <td>uniform</td>\n",
       "      <td>0.802198</td>\n",
       "    </tr>\n",
       "    <tr>\n",
       "      <th>12</th>\n",
       "      <td>4</td>\n",
       "      <td>1</td>\n",
       "      <td>uniform</td>\n",
       "      <td>0.802198</td>\n",
       "    </tr>\n",
       "    <tr>\n",
       "      <th>37</th>\n",
       "      <td>10</td>\n",
       "      <td>1</td>\n",
       "      <td>distance</td>\n",
       "      <td>0.802198</td>\n",
       "    </tr>\n",
       "  </tbody>\n",
       "</table>\n",
       "</div>"
      ],
      "text/plain": [
       "    knn__n_neighbors  knn__p knn__weights  accuracy\n",
       "28                 8       1      uniform  0.813187\n",
       "13                 4       1     distance  0.813187\n",
       "32                 9       1      uniform  0.802198\n",
       "12                 4       1      uniform  0.802198\n",
       "37                10       1     distance  0.802198"
      ]
     },
     "execution_count": 12,
     "metadata": {},
     "output_type": "execute_result"
    }
   ],
   "source": [
    "# Create DataFrame with test scores\n",
    "scores_df = pd.DataFrame(test_scores)\n",
    "\n",
    "# Top five scores\n",
    "scores_df.sort_values(by=\"accuracy\", ascending=False).head()"
   ]
  },
  {
   "cell_type": "markdown",
   "id": "263552f7-5418-4bf4-a6c6-fbda74001436",
   "metadata": {},
   "source": [
    "### Multiple grids\n",
    "One of the advantages of the ParameterGrid object is that we can define many grids of parameters by passing a list of dictionaries.\n",
    "\n"
   ]
  },
  {
   "cell_type": "code",
   "execution_count": 13,
   "id": "67785da5-dd6f-480a-ac02-a578e0143167",
   "metadata": {},
   "outputs": [
    {
     "data": {
      "text/plain": [
       "[{'knn__n_neighbors': 2, 'knn__p': 1},\n",
       " {'knn__n_neighbors': 2, 'knn__p': 2},\n",
       " {'knn__n_neighbors': 3, 'knn__p': 1},\n",
       " {'knn__n_neighbors': 3, 'knn__p': 2},\n",
       " {'knn__p': 1, 'knn__weights': 'uniform'},\n",
       " {'knn__p': 1, 'knn__weights': 'distance'},\n",
       " {'knn__p': 2, 'knn__weights': 'uniform'},\n",
       " {'knn__p': 2, 'knn__weights': 'distance'}]"
      ]
     },
     "execution_count": 13,
     "metadata": {},
     "output_type": "execute_result"
    }
   ],
   "source": [
    "# Define two grids (NOT THE FINAL)\n",
    "grid = ParameterGrid(\n",
    "    [\n",
    "        {\"knn__n_neighbors\": [2, 3], \"knn__p\": [1, 2]},\n",
    "        {\"knn__weights\": [\"uniform\", \"distance\"], \"knn__p\": [1, 2]},\n",
    "    ]\n",
    ")\n",
    "\n",
    "# List combinations\n",
    "list(grid)"
   ]
  },
  {
   "cell_type": "markdown",
   "id": "9ea2438b-85f9-49fc-909a-9d1971ffa6c7",
   "metadata": {},
   "source": [
    "The first four elements correspond to the combinations from the first grid and the last four to the combinations from the second grid.\n",
    "\n",
    "There is a small issue in this case. The first grid doesn’t specify the weights parameter and the second grid doesn’t specify the n_neighbors one. Hence, we can get unexpected results since we don’t set these parameters. One solution is to assign a default value to each one."
   ]
  },
  {
   "cell_type": "code",
   "execution_count": 15,
   "id": "566d2bc6-1652-4bec-b29f-7d532b3d4f05",
   "metadata": {},
   "outputs": [
    {
     "data": {
      "text/plain": [
       "[{'knn__n_neighbors': 2, 'knn__p': 1, 'knn__weights': 'uniform'},\n",
       " {'knn__n_neighbors': 2, 'knn__p': 2, 'knn__weights': 'uniform'},\n",
       " {'knn__n_neighbors': 3, 'knn__p': 1, 'knn__weights': 'uniform'},\n",
       " {'knn__n_neighbors': 3, 'knn__p': 2, 'knn__weights': 'uniform'},\n",
       " {'knn__n_neighbors': 5, 'knn__p': 1, 'knn__weights': 'uniform'},\n",
       " {'knn__n_neighbors': 5, 'knn__p': 1, 'knn__weights': 'distance'},\n",
       " {'knn__n_neighbors': 5, 'knn__p': 2, 'knn__weights': 'uniform'},\n",
       " {'knn__n_neighbors': 5, 'knn__p': 2, 'knn__weights': 'distance'}]"
      ]
     },
     "execution_count": 15,
     "metadata": {},
     "output_type": "execute_result"
    }
   ],
   "source": [
    "# Define two grids (FINAL DEFINITION FOR AVOIDING MESSAGES - USE DEFAULT VALUES)\n",
    "grid = ParameterGrid(\n",
    "    [\n",
    "        {\n",
    "            \"knn__n_neighbors\": [2, 3],\n",
    "            \"knn__weights\": [\"uniform\"],  # Default value: uniform\n",
    "            \"knn__p\": [1, 2],\n",
    "        },\n",
    "        {\n",
    "            \"knn__n_neighbors\": [5],  # Default value: 5\n",
    "            \"knn__weights\": [\"uniform\", \"distance\"],\n",
    "            \"knn__p\": [1, 2],\n",
    "        },\n",
    "    ]\n",
    ")\n",
    "\n",
    "# List combinations\n",
    "list(grid)"
   ]
  },
  {
   "cell_type": "markdown",
   "id": "ddc4d59a-5396-45e8-92c8-47e41f5a5b5a",
   "metadata": {},
   "source": [
    "The grid still has eight combinations, but this time, they all specify a value for each parameter.\n",
    "\n",
    "### Optional steps\n",
    "It’s also possible to disable a step by setting it to None. For instance, we can try fitting a k-NN model without standardization."
   ]
  },
  {
   "cell_type": "code",
   "execution_count": 16,
   "id": "ff55ff48-e64c-49e3-847b-ebc276093f4f",
   "metadata": {},
   "outputs": [
    {
     "data": {
      "text/plain": [
       "[{'knn__n_neighbors': 5, 'scaler': None},\n",
       " {'knn__n_neighbors': 5, 'scaler': StandardScaler()},\n",
       " {'knn__n_neighbors': 10, 'scaler': None},\n",
       " {'knn__n_neighbors': 10, 'scaler': StandardScaler()},\n",
       " {'knn__n_neighbors': 15, 'scaler': None},\n",
       " {'knn__n_neighbors': 15, 'scaler': StandardScaler()}]"
      ]
     },
     "execution_count": 16,
     "metadata": {},
     "output_type": "execute_result"
    }
   ],
   "source": [
    "# Grid with optional steps\n",
    "grid = ParameterGrid(\n",
    "    {\n",
    "        \"scaler\": [None, StandardScaler()],\n",
    "        \"knn__n_neighbors\": [5, 10, 15],\n",
    "    }\n",
    ")\n",
    "\n",
    "# List combinations\n",
    "list(grid)\n"
   ]
  },
  {
   "cell_type": "markdown",
   "id": "dd23288c-325d-4bab-82e4-220fe99f2135",
   "metadata": {},
   "source": [
    "This time, we’re not setting a parameter, but the step itself. Scikit-learn will disable the 'scaler' step when it gets a None value and will use the StandardScaler object in the other cases."
   ]
  },
  {
   "cell_type": "code",
   "execution_count": null,
   "id": "bc7b8b42-f9a0-45c1-8756-89a0cf1bc637",
   "metadata": {},
   "outputs": [],
   "source": []
  }
 ],
 "metadata": {
  "kernelspec": {
   "display_name": "Python [conda env:adsml] *",
   "language": "python",
   "name": "conda-env-adsml-py"
  },
  "language_info": {
   "codemirror_mode": {
    "name": "ipython",
    "version": 3
   },
   "file_extension": ".py",
   "mimetype": "text/x-python",
   "name": "python",
   "nbconvert_exporter": "python",
   "pygments_lexer": "ipython3",
   "version": "3.9.7"
  }
 },
 "nbformat": 4,
 "nbformat_minor": 5
}
