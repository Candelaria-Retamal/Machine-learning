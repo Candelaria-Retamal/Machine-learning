{
 "cells": [
  {
   "cell_type": "markdown",
   "id": "0579e877-3f82-40b8-8790-073c582020f0",
   "metadata": {},
   "source": [
    "#### Softmax regression"
   ]
  },
  {
   "cell_type": "markdown",
   "id": "d64a4f2e-13bb-4cd1-a4ec-56792de780cf",
   "metadata": {},
   "source": [
    "In this unit, we will see how to perform multiclass classification with the LogisticRegression estimator from Scikit-learn. We will try both the one-vs.-rest (OvR) strategy and the softmax regression model. Again, we will use the iris dataset, but this time, we will create a classifier for the three types of iris flowers."
   ]
  },
  {
   "cell_type": "code",
   "execution_count": 1,
   "id": "e672335b-321a-46ac-8591-b6c2e6e16a30",
   "metadata": {},
   "outputs": [],
   "source": [
    "from sklearn import datasets\n",
    "\n",
    "# Load dataset\n",
    "iris = datasets.load_iris()\n",
    "\n",
    "# Create X/y arrays\n",
    "X = iris['data'][:, [2, 3]] # Keep only petal features\n",
    "y = iris['target']"
   ]
  },
  {
   "cell_type": "markdown",
   "id": "8147058c-6ffc-4c64-ba98-1513706391f0",
   "metadata": {},
   "source": [
    "Again, we keep only the petal features (petal length and width) which correspond to columns with index 2 and 3 in the data attribute.\n",
    "\n",
    "Let’s plot the data. We will use one color for each class"
   ]
  },
  {
   "cell_type": "code",
   "execution_count": 2,
   "id": "b026ae48-be47-4113-a1ab-7efac490434f",
   "metadata": {},
   "outputs": [
    {
     "data": {
      "image/png": "[encoded data removed]",
      "text/plain": [
       "<Figure size 432x288 with 1 Axes>"
      ]
     },
     "metadata": {
      "needs_background": "light"
     },
     "output_type": "display_data"
    }
   ],
   "source": [
    "%matplotlib inline\n",
    "import matplotlib.pyplot as plt\n",
    "\n",
    "# Plot data\n",
    "setosa_idx = (y == 0) # Setosa points\n",
    "versicolor_idx = (y == 1) # Versicolor points\n",
    "virginica_idx = (y==2) # Virginica points\n",
    "\n",
    "plt.scatter(X[:, 0][setosa_idx], X[:, 1][setosa_idx], c='C3', label='setosa')\n",
    "plt.scatter(X[:, 0][versicolor_idx], X[:, 1][versicolor_idx], c='C2', label='versicolor')\n",
    "plt.scatter(X[:, 0][virginica_idx], X[:, 1][virginica_idx], c='C0', label='virginica')\n",
    "\n",
    "# Set labels\n",
    "plt.xlabel('petal length (cm)')\n",
    "plt.ylabel('petal width (cm)')\n",
    "plt.legend()\n",
    "plt.show()"
   ]
  },
  {
   "cell_type": "markdown",
   "id": "e792e509-809e-4e82-8e8e-167531659596",
   "metadata": {},
   "source": [
    "Again, we will use the train/test set methodology to evaluate our classifierm"
   ]
  },
  {
   "cell_type": "code",
   "execution_count": 4,
   "id": "f2e89e11-aecd-4574-b2ed-24b89970771b",
   "metadata": {},
   "outputs": [],
   "source": [
    "from sklearn.model_selection import train_test_split\n",
    "\n",
    "# Split into train/test sets\n",
    "X_tr, X_te, y_tr, y_te = train_test_split(\n",
    "    X, y, test_size=0.3, random_state=0)"
   ]
  },
  {
   "cell_type": "markdown",
   "id": "5207f8bd-4297-435a-8cb8-0347ed0fe835",
   "metadata": {},
   "source": [
    "#### Multiclass logistic regression with OvR\n",
    "By default, the LogisticRegression estimator uses the one-vs.-rest (OvR) strategy for multiclass classification in all Scikit-learn versions prior to version 0.22. The later versions use softmax regression by default.\n",
    "\n"
   ]
  },
  {
   "cell_type": "code",
   "execution_count": 6,
   "id": "cbb71b52-297f-4b7a-ab01-51add96101c8",
   "metadata": {},
   "outputs": [
    {
     "name": "stdout",
     "output_type": "stream",
     "text": [
      "Accuracy: 0.800\n"
     ]
    }
   ],
   "source": [
    "from sklearn.linear_model import LogisticRegression\n",
    "from sklearn.preprocessing import StandardScaler\n",
    "from sklearn.pipeline import make_pipeline\n",
    "\n",
    "# Create the estimator through pipeline\n",
    "logreg = make_pipeline(\n",
    "    StandardScaler(), LogisticRegression(multi_class='ovr', solver='liblinear'))\n",
    "\n",
    "# Fit it to train data\n",
    "logreg.fit(X_tr, y_tr)\n",
    "\n",
    "# Accuracy on test set (evaluation on test)\n",
    "accuracy = logreg.score(X_te, y_te)\n",
    "print('Accuracy: {:.3f}'.format(accuracy))"
   ]
  },
  {
   "cell_type": "markdown",
   "id": "8fb8d207-7287-4cba-80bc-2b851f151388",
   "metadata": {},
   "source": [
    "In this code, we create the classifier, fit it to the train data and evaluate it on the test set. We get an accuracy around 80%. We can see on the plot from above that each category occupies a different region. The separation between versicolor and virginica flowers is not entirely clear, but we should be able to create a classifier with an accuracy close to 100%.\n",
    "\n",
    "The issue comes from the **regularization term**. By default, Scikit-learn adds an \n",
    "L\n",
    "2\n",
    " term to the loss function of the logistic model. In our case, the regularization strength is too large and our model is underfitting. It’s not possible to remove this regularization term from the LogisticRegression object, but we can reduce its impact with the C parameter which is the inverse of the regularization strength.\n",
    "\n"
   ]
  },
  {
   "cell_type": "code",
   "execution_count": 7,
   "id": "733cbfbb-2937-444e-a0da-a316a47c8abd",
   "metadata": {},
   "outputs": [
    {
     "name": "stdout",
     "output_type": "stream",
     "text": [
      "Accuracy: 0.978\n"
     ]
    }
   ],
   "source": [
    "# Create the estimator\n",
    "logreg = make_pipeline(\n",
    "    # C: inverse of regularization strength\n",
    "    StandardScaler(), LogisticRegression(C=1000, multi_class='ovr', solver='liblinear'))\n",
    "\n",
    "# Fit it to train data\n",
    "logreg.fit(X_tr, y_tr)\n",
    "\n",
    "# Accuracy on test set\n",
    "accuracy = logreg.score(X_te, y_te)\n",
    "print('Accuracy: {:.3f}'.format(accuracy))"
   ]
  },
  {
   "cell_type": "markdown",
   "id": "6179b39a-f3c7-4a21-8e45-c34253df4d72",
   "metadata": {},
   "source": [
    "Some estimators from Scikit-learn such as RidgeRegression provide an alpha parameter and others provide the C one. In fact, these parameters are two alternative ways to think about regularization. In the previous course, we saw that we can control the regularization strength by multiplying the penalization term with an α parameter.\n",
    "\n",
    "loss + α * penalization\n",
    "\n",
    "Alternatively, we can control the weight of the loss function by multiplying it by a C parameter.\n",
    "\n",
    "C∗loss + penalization\n",
    "\n",
    "In this second formulation, C controls the weight of the loss function. In the code from above, we set it to a thousand which means that the penalization term has a small impact on the overall loss value, and we get an accuracy around 98%.\n",
    "\n",
    "We can now use our logreg estimator to classify new data points."
   ]
  },
  {
   "cell_type": "code",
   "execution_count": 10,
   "id": "0e23965f-afad-4256-8db6-981d29106f0b",
   "metadata": {},
   "outputs": [
    {
     "data": {
      "text/plain": [
       "array([[8.62023737e-08, 5.51329272e-01, 4.48670642e-01]])"
      ]
     },
     "execution_count": 10,
     "metadata": {},
     "output_type": "execute_result"
    }
   ],
   "source": [
    "# New flower\n",
    "new_flower = [\n",
    "    5, # petal length (cm)\n",
    "    1.5, # petal width (cm)\n",
    "]\n",
    "\n",
    "# Predict probabilities (there is a classifier for each class that estimates the probability that new data points belongs to it.)\n",
    "logreg.predict_proba([new_flower])\n"
   ]
  },
  {
   "cell_type": "markdown",
   "id": "92fa87e3-1236-4ef8-9d9d-a4c0988c2c14",
   "metadata": {},
   "source": [
    "In our example, the second category has the largest probability with p=0.55 and the point is classified as a versicolor iris flower. We can verify that using the predict() function\n",
    "\n"
   ]
  },
  {
   "cell_type": "code",
   "execution_count": 12,
   "id": "6d5e3dc3-3c2d-4808-9355-ac5e4ce85f3c",
   "metadata": {},
   "outputs": [
    {
     "data": {
      "text/plain": [
       "array([1])"
      ]
     },
     "execution_count": 12,
     "metadata": {},
     "output_type": "execute_result"
    }
   ],
   "source": [
    "# Predict class with highest probability\n",
    "#In this case, it returns 1 which is the numerical label of the versicolor category in the target vector.\n",
    "logreg.predict([new_flower])"
   ]
  },
  {
   "cell_type": "markdown",
   "id": "2d29a4b7-5c9d-4a96-8672-44e0a257c077",
   "metadata": {},
   "source": [
    "We can use the predict() function to plot the decision boundaries of our classifier. To achieve this, we implemented a decision_boundaries(X, y, logreg) function in the annex below. In short, it generates a grid of values in the range of our X/y data and predicts their labels using the predict() function from our logreg estimator.\n",
    "\n"
   ]
  },
  {
   "cell_type": "code",
   "execution_count": 13,
   "id": "69a96b99-677a-4e64-a03f-1b862ed06cae",
   "metadata": {},
   "outputs": [],
   "source": [
    "import numpy as np\n",
    "\n",
    "# Helper function\n",
    "def decision_boundaries(ax, X, y, logreg):\n",
    "    # Plot data\n",
    "    setosa_idx = (y == 0) # Setosa points\n",
    "    versicolor_idx = (y == 1) # Versicolor points\n",
    "    virginica_idx = (y==2) # Virginica points\n",
    "\n",
    "    plt.scatter(X[:, 0][setosa_idx], X[:, 1][setosa_idx], c='C3', label='setosa')\n",
    "    plt.scatter(X[:, 0][versicolor_idx], X[:, 1][versicolor_idx], c='C2', label='versicolor')\n",
    "    plt.scatter(X[:, 0][virginica_idx], X[:, 1][virginica_idx], c='C0', label='virginica')\n",
    "\n",
    "    # Create a grid of values\n",
    "    xlim, ylim = ax.get_xlim(), ax.get_ylim()\n",
    "    xpoints = np.linspace(*xlim, num=1000)\n",
    "    ypoints = np.linspace(*ylim, num=1000)\n",
    "    xx, yy = np.meshgrid(xpoints, ypoints)\n",
    "\n",
    "    # Compute predictions\n",
    "    preds = logreg.predict(np.c_[xx.flatten(), yy.flatten()])\n",
    "\n",
    "    # Plot boundaries between classes 1-2 and 2-3\n",
    "    zz = preds.reshape(xx.shape)\n",
    "    plt.contour(xx, yy, zz, levels=[0.5, 1.5],\n",
    "                colors=['C3', 'C0'], linestyles='dashed')\n",
    "\n",
    "    # Add labels\n",
    "    plt.xlabel('petal length (cm)')\n",
    "    plt.ylabel('petal width (cm)')\n",
    "    plt.legend(loc='lower right')\n",
    "    plt.show()"
   ]
  },
  {
   "cell_type": "code",
   "execution_count": 14,
   "id": "96d4a7ed-fecd-4eff-bcc4-c8101059b111",
   "metadata": {},
   "outputs": [
    {
     "data": {
      "image/png": "[encoded data removed]",
      "text/plain": [
       "<Figure size 432x288 with 1 Axes>"
      ]
     },
     "metadata": {
      "needs_background": "light"
     },
     "output_type": "display_data"
    }
   ],
   "source": [
    "# Plot boundaries\n",
    "fig = plt.figure()\n",
    "decision_boundaries(fig.gca(), X, y, logreg)"
   ]
  },
  {
   "cell_type": "markdown",
   "id": "68fa09c2-683d-4932-b258-425b600d0274",
   "metadata": {},
   "source": [
    "#### Softmax regression\n"
   ]
  },
  {
   "cell_type": "markdown",
   "id": "9b630f60-7449-439c-8871-0c00f973aa97",
   "metadata": {},
   "source": [
    "It’s also possible to use softmax regression, also known as multinomial logistic regression, with LogisticRegression by setting the multi_class parameter to multinomial. So far, we used liblinear to fit our logistic regressions. However, this solver doesn’t support the softmax variant\n",
    "\n"
   ]
  },
  {
   "cell_type": "code",
   "execution_count": 16,
   "id": "066f1713-19e7-4587-b3ac-057c1edbf1de",
   "metadata": {},
   "outputs": [
    {
     "name": "stdout",
     "output_type": "stream",
     "text": [
      "Solver liblinear does not support a multinomial backend.\n"
     ]
    }
   ],
   "source": [
    "# Create the estimator\n",
    "logreg = make_pipeline(\n",
    "    StandardScaler(), LogisticRegression(multi_class='multinomial', solver='liblinear'))\n",
    "\n",
    "# Fit it to train data\n",
    "try:\n",
    "    logreg.fit(X_tr, y_tr)\n",
    "except Exception as e:\n",
    "    print(e) # Solver liblinear does not support a multinomial backend.\n"
   ]
  },
  {
   "cell_type": "code",
   "execution_count": 17,
   "id": "698edeeb-4def-47a6-88b0-97486c0c2a91",
   "metadata": {},
   "outputs": [
    {
     "name": "stdout",
     "output_type": "stream",
     "text": [
      "Accuracy: 0.956\n"
     ]
    }
   ],
   "source": [
    "# Create the estimator with stochastic solver (useful in OvR and softmax)\n",
    "logreg = make_pipeline(\n",
    "    StandardScaler(), LogisticRegression(multi_class='multinomial', solver='saga'))\n",
    "\n",
    "# Fit it to train data\n",
    "logreg.fit(X_tr, y_tr)\n",
    "\n",
    "# Accuracy on test set\n",
    "accuracy = logreg.score(X_te, y_te)\n",
    "print('Accuracy: {:.3f}'.format(accuracy)) # Prints: 0.956"
   ]
  },
  {
   "cell_type": "markdown",
   "id": "2f0e9d0a-b5c7-408b-aa0e-67c6dca8fcda",
   "metadata": {},
   "source": [
    "This time, we get an accuracy around 96% which is a bit lower than with the OvR strategy from above. Again, we can plot the decision boundaries with the decision_boundaries() function"
   ]
  },
  {
   "cell_type": "code",
   "execution_count": 18,
   "id": "b9afd935-5406-4134-b125-b666c9972523",
   "metadata": {},
   "outputs": [
    {
     "data": {
      "image/png": "[encoded data removed]",
      "text/plain": [
       "<Figure size 432x288 with 1 Axes>"
      ]
     },
     "metadata": {
      "needs_background": "light"
     },
     "output_type": "display_data"
    }
   ],
   "source": [
    "# Plot boundaries\n",
    "fig = plt.figure()\n",
    "decision_boundaries(fig.gca(), X, y, logreg)"
   ]
  },
  {
   "cell_type": "markdown",
   "id": "21d61f4b-3358-4706-9973-8d40d7e9d433",
   "metadata": {},
   "source": [
    "Let’s try to decrease the regularization by increasing C\n",
    "\n"
   ]
  },
  {
   "cell_type": "code",
   "execution_count": 19,
   "id": "b6fbd374-a8db-4b21-b7ee-6b050b91ab9d",
   "metadata": {},
   "outputs": [
    {
     "name": "stdout",
     "output_type": "stream",
     "text": [
      "Accuracy: 0.978\n"
     ]
    }
   ],
   "source": [
    "# Create the estimator\n",
    "logreg = make_pipeline(\n",
    "    StandardScaler(), LogisticRegression(C=10, multi_class='multinomial', solver='saga'))\n",
    "\n",
    "# Fit it to train data\n",
    "logreg.fit(X_tr, y_tr)\n",
    "\n",
    "# Accuracy on test set\n",
    "accuracy = logreg.score(X_te, y_te)\n",
    "print('Accuracy: {:.3f}'.format(accuracy))"
   ]
  },
  {
   "cell_type": "markdown",
   "id": "9c92758c-a9dd-4c03-8e5a-88a24466e650",
   "metadata": {},
   "source": [
    "This time, we get an accuracy around 98% and slightly different the decision boundaries\n",
    "\n"
   ]
  },
  {
   "cell_type": "code",
   "execution_count": 21,
   "id": "a44a6c92-7e63-43ef-9773-c8cc93ad0568",
   "metadata": {},
   "outputs": [
    {
     "data": {
      "image/png": "[encoded data removed]",
      "text/plain": [
       "<Figure size 432x288 with 1 Axes>"
      ]
     },
     "metadata": {
      "needs_background": "light"
     },
     "output_type": "display_data"
    }
   ],
   "source": [
    "# Plot boundaries\n",
    "fig = plt.figure()\n",
    "decision_boundaries(fig.gca(), X, y, logreg)"
   ]
  },
  {
   "cell_type": "markdown",
   "id": "87092d97-4812-4689-9f77-310a4d0e4105",
   "metadata": {},
   "source": [
    "#### Summary\n",
    "Let’s summarize what we’ve learned in this unit. Here are a few takeaways.\n",
    "\n",
    "* In Scikit-learn (versions prior to 0.22), LogisticRegression uses OvR for multiclass classification by default. In later versions, softmax regression is the default option\n",
    "* By default, LogisticRegression adds an L2 penalization term. We can control its weight with the C parameter\n",
    "* In Scikit-learn (versions prior to 0.22), the default solver for LogisticRegression is liblinear which doesn’t support softmax regression, but we can manually change the solver to saga for example. In later versions, the default solver supports softmax regression"
   ]
  },
  {
   "cell_type": "code",
   "execution_count": null,
   "id": "bff3ee95-5dc5-43ee-8e24-750d0f40525f",
   "metadata": {},
   "outputs": [],
   "source": []
  }
 ],
 "metadata": {
  "kernelspec": {
   "display_name": "Python [conda env:adsml] *",
   "language": "python",
   "name": "conda-env-adsml-py"
  },
  "language_info": {
   "codemirror_mode": {
    "name": "ipython",
    "version": 3
   },
   "file_extension": ".py",
   "mimetype": "text/x-python",
   "name": "python",
   "nbconvert_exporter": "python",
   "pygments_lexer": "ipython3",
   "version": "3.9.7"
  }
 },
 "nbformat": 4,
 "nbformat_minor": 5
}
